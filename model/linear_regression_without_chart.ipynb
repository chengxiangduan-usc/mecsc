{
 "cells": [
  {
   "cell_type": "markdown",
   "metadata": {},
   "source": [
    "- in order to get analyzed but not normalized dataset.\n",
    "- delete chart code to decreate running time"
   ]
  },
  {
   "cell_type": "code",
   "execution_count": 1,
   "metadata": {
    "ExecuteTime": {
     "end_time": "2020-11-13T08:44:11.946915Z",
     "start_time": "2020-11-13T08:44:10.403615Z"
    }
   },
   "outputs": [],
   "source": [
    "%matplotlib inline\n",
    "import pandas as pd\n",
    "import numpy as np\n",
    "\n",
    "import matplotlib.pyplot as plt\n",
    "import seaborn as sns"
   ]
  },
  {
   "cell_type": "code",
   "execution_count": 2,
   "metadata": {
    "ExecuteTime": {
     "end_time": "2020-11-13T08:44:12.714717Z",
     "start_time": "2020-11-13T08:44:11.949295Z"
    }
   },
   "outputs": [],
   "source": [
    "from sklearn.preprocessing import normalize\n",
    "from sklearn.impute import SimpleImputer\n",
    "from sklearn import linear_model\n",
    "from sklearn.model_selection import cross_val_score\n",
    "from sklearn.metrics import mean_squared_error, r2_score\n",
    "from sklearn.linear_model import LinearRegression\n",
    "\n",
    "import statsmodels.api as sm\n",
    "\n",
    "import scipy"
   ]
  },
  {
   "cell_type": "markdown",
   "metadata": {},
   "source": [
    "## load data"
   ]
  },
  {
   "cell_type": "code",
   "execution_count": 3,
   "metadata": {
    "ExecuteTime": {
     "end_time": "2020-11-13T08:44:12.719349Z",
     "start_time": "2020-11-13T08:44:12.716910Z"
    }
   },
   "outputs": [],
   "source": [
    "plt.rcParams[\"figure.figsize\"] = (15, 10)"
   ]
  },
  {
   "cell_type": "code",
   "execution_count": 4,
   "metadata": {
    "ExecuteTime": {
     "end_time": "2020-11-13T08:44:12.732682Z",
     "start_time": "2020-11-13T08:44:12.721799Z"
    }
   },
   "outputs": [],
   "source": [
    "pth_data = '../data/train.csv'\n",
    "df_origin = pd.read_csv(pth_data)"
   ]
  },
  {
   "cell_type": "code",
   "execution_count": 5,
   "metadata": {
    "ExecuteTime": {
     "end_time": "2020-11-13T08:44:12.760663Z",
     "start_time": "2020-11-13T08:44:12.735120Z"
    },
    "scrolled": false
   },
   "outputs": [
    {
     "data": {
      "text/html": [
       "<div>\n",
       "<style scoped>\n",
       "    .dataframe tbody tr th:only-of-type {\n",
       "        vertical-align: middle;\n",
       "    }\n",
       "\n",
       "    .dataframe tbody tr th {\n",
       "        vertical-align: top;\n",
       "    }\n",
       "\n",
       "    .dataframe thead th {\n",
       "        text-align: right;\n",
       "    }\n",
       "</style>\n",
       "<table border=\"1\" class=\"dataframe\">\n",
       "  <thead>\n",
       "    <tr style=\"text-align: right;\">\n",
       "      <th></th>\n",
       "      <th>time</th>\n",
       "      <th>height</th>\n",
       "      <th>weight</th>\n",
       "      <th>gender</th>\n",
       "      <th>bmi</th>\n",
       "      <th>age</th>\n",
       "      <th>env_temp</th>\n",
       "      <th>rh</th>\n",
       "      <th>heart_rate</th>\n",
       "      <th>stress_level</th>\n",
       "      <th>skin_temp</th>\n",
       "      <th>eda</th>\n",
       "      <th>TC</th>\n",
       "      <th>TS</th>\n",
       "      <th>Clo</th>\n",
       "      <th>Act</th>\n",
       "    </tr>\n",
       "  </thead>\n",
       "  <tbody>\n",
       "    <tr>\n",
       "      <th>0</th>\n",
       "      <td>2020-10-19 14:00:00</td>\n",
       "      <td>1.64</td>\n",
       "      <td>54.0</td>\n",
       "      <td>1</td>\n",
       "      <td>20.077335</td>\n",
       "      <td>24</td>\n",
       "      <td>77.990</td>\n",
       "      <td>62.122</td>\n",
       "      <td>60.0</td>\n",
       "      <td>17.0</td>\n",
       "      <td>NaN</td>\n",
       "      <td>NaN</td>\n",
       "      <td>4.0</td>\n",
       "      <td>4.0</td>\n",
       "      <td>0.74</td>\n",
       "      <td>1.0</td>\n",
       "    </tr>\n",
       "    <tr>\n",
       "      <th>1</th>\n",
       "      <td>2020-10-19 14:30:00</td>\n",
       "      <td>1.64</td>\n",
       "      <td>54.0</td>\n",
       "      <td>1</td>\n",
       "      <td>20.077335</td>\n",
       "      <td>24</td>\n",
       "      <td>78.208</td>\n",
       "      <td>62.321</td>\n",
       "      <td>78.0</td>\n",
       "      <td>60.0</td>\n",
       "      <td>30.748</td>\n",
       "      <td>0.926320</td>\n",
       "      <td>4.0</td>\n",
       "      <td>4.0</td>\n",
       "      <td>0.74</td>\n",
       "      <td>1.1</td>\n",
       "    </tr>\n",
       "    <tr>\n",
       "      <th>2</th>\n",
       "      <td>2020-10-19 15:00:00</td>\n",
       "      <td>1.64</td>\n",
       "      <td>54.0</td>\n",
       "      <td>1</td>\n",
       "      <td>20.077335</td>\n",
       "      <td>24</td>\n",
       "      <td>78.514</td>\n",
       "      <td>62.255</td>\n",
       "      <td>79.0</td>\n",
       "      <td>46.0</td>\n",
       "      <td>31.327</td>\n",
       "      <td>1.232405</td>\n",
       "      <td>4.0</td>\n",
       "      <td>4.0</td>\n",
       "      <td>0.74</td>\n",
       "      <td>1.1</td>\n",
       "    </tr>\n",
       "    <tr>\n",
       "      <th>3</th>\n",
       "      <td>2020-10-19 15:30:00</td>\n",
       "      <td>1.64</td>\n",
       "      <td>54.0</td>\n",
       "      <td>1</td>\n",
       "      <td>20.077335</td>\n",
       "      <td>24</td>\n",
       "      <td>79.041</td>\n",
       "      <td>61.491</td>\n",
       "      <td>94.0</td>\n",
       "      <td>91.0</td>\n",
       "      <td>31.458</td>\n",
       "      <td>0.375005</td>\n",
       "      <td>4.0</td>\n",
       "      <td>4.0</td>\n",
       "      <td>0.74</td>\n",
       "      <td>1.0</td>\n",
       "    </tr>\n",
       "    <tr>\n",
       "      <th>4</th>\n",
       "      <td>2020-10-19 16:00:00</td>\n",
       "      <td>1.64</td>\n",
       "      <td>54.0</td>\n",
       "      <td>1</td>\n",
       "      <td>20.077335</td>\n",
       "      <td>24</td>\n",
       "      <td>79.435</td>\n",
       "      <td>61.071</td>\n",
       "      <td>85.0</td>\n",
       "      <td>71.0</td>\n",
       "      <td>32.085</td>\n",
       "      <td>0.081127</td>\n",
       "      <td>4.0</td>\n",
       "      <td>4.0</td>\n",
       "      <td>0.74</td>\n",
       "      <td>1.0</td>\n",
       "    </tr>\n",
       "    <tr>\n",
       "      <th>...</th>\n",
       "      <td>...</td>\n",
       "      <td>...</td>\n",
       "      <td>...</td>\n",
       "      <td>...</td>\n",
       "      <td>...</td>\n",
       "      <td>...</td>\n",
       "      <td>...</td>\n",
       "      <td>...</td>\n",
       "      <td>...</td>\n",
       "      <td>...</td>\n",
       "      <td>...</td>\n",
       "      <td>...</td>\n",
       "      <td>...</td>\n",
       "      <td>...</td>\n",
       "      <td>...</td>\n",
       "      <td>...</td>\n",
       "    </tr>\n",
       "    <tr>\n",
       "      <th>2791</th>\n",
       "      <td>2020-10-28 21:30:00</td>\n",
       "      <td>1.63</td>\n",
       "      <td>50.0</td>\n",
       "      <td>1</td>\n",
       "      <td>18.818924</td>\n",
       "      <td>23</td>\n",
       "      <td>76.528</td>\n",
       "      <td>40.530</td>\n",
       "      <td>73.0</td>\n",
       "      <td>22.0</td>\n",
       "      <td>31.850</td>\n",
       "      <td>0.114876</td>\n",
       "      <td>2.0</td>\n",
       "      <td>3.0</td>\n",
       "      <td>0.50</td>\n",
       "      <td>1.0</td>\n",
       "    </tr>\n",
       "    <tr>\n",
       "      <th>2792</th>\n",
       "      <td>2020-10-28 22:00:00</td>\n",
       "      <td>1.63</td>\n",
       "      <td>50.0</td>\n",
       "      <td>1</td>\n",
       "      <td>18.818924</td>\n",
       "      <td>23</td>\n",
       "      <td>76.876</td>\n",
       "      <td>39.890</td>\n",
       "      <td>70.5</td>\n",
       "      <td>10.0</td>\n",
       "      <td>32.215</td>\n",
       "      <td>0.146231</td>\n",
       "      <td>2.0</td>\n",
       "      <td>3.0</td>\n",
       "      <td>0.50</td>\n",
       "      <td>1.0</td>\n",
       "    </tr>\n",
       "    <tr>\n",
       "      <th>2793</th>\n",
       "      <td>2020-10-28 22:30:00</td>\n",
       "      <td>1.63</td>\n",
       "      <td>50.0</td>\n",
       "      <td>1</td>\n",
       "      <td>18.818924</td>\n",
       "      <td>23</td>\n",
       "      <td>77.050</td>\n",
       "      <td>39.710</td>\n",
       "      <td>72.0</td>\n",
       "      <td>5.0</td>\n",
       "      <td>32.656</td>\n",
       "      <td>0.153838</td>\n",
       "      <td>2.0</td>\n",
       "      <td>3.0</td>\n",
       "      <td>0.50</td>\n",
       "      <td>1.0</td>\n",
       "    </tr>\n",
       "    <tr>\n",
       "      <th>2794</th>\n",
       "      <td>2020-10-28 23:00:00</td>\n",
       "      <td>1.63</td>\n",
       "      <td>50.0</td>\n",
       "      <td>1</td>\n",
       "      <td>18.818924</td>\n",
       "      <td>23</td>\n",
       "      <td>76.703</td>\n",
       "      <td>39.980</td>\n",
       "      <td>66.0</td>\n",
       "      <td>0.0</td>\n",
       "      <td>31.902</td>\n",
       "      <td>0.160930</td>\n",
       "      <td>2.0</td>\n",
       "      <td>3.0</td>\n",
       "      <td>0.50</td>\n",
       "      <td>1.0</td>\n",
       "    </tr>\n",
       "    <tr>\n",
       "      <th>2795</th>\n",
       "      <td>2020-10-28 23:30:00</td>\n",
       "      <td>1.63</td>\n",
       "      <td>50.0</td>\n",
       "      <td>1</td>\n",
       "      <td>18.818924</td>\n",
       "      <td>23</td>\n",
       "      <td>76.354</td>\n",
       "      <td>41.050</td>\n",
       "      <td>86.0</td>\n",
       "      <td>NaN</td>\n",
       "      <td>30.563</td>\n",
       "      <td>0.281910</td>\n",
       "      <td>2.0</td>\n",
       "      <td>3.0</td>\n",
       "      <td>0.50</td>\n",
       "      <td>1.0</td>\n",
       "    </tr>\n",
       "  </tbody>\n",
       "</table>\n",
       "<p>2796 rows × 16 columns</p>\n",
       "</div>"
      ],
      "text/plain": [
       "                     time  height  weight  gender        bmi  age  env_temp  \\\n",
       "0     2020-10-19 14:00:00    1.64    54.0       1  20.077335   24    77.990   \n",
       "1     2020-10-19 14:30:00    1.64    54.0       1  20.077335   24    78.208   \n",
       "2     2020-10-19 15:00:00    1.64    54.0       1  20.077335   24    78.514   \n",
       "3     2020-10-19 15:30:00    1.64    54.0       1  20.077335   24    79.041   \n",
       "4     2020-10-19 16:00:00    1.64    54.0       1  20.077335   24    79.435   \n",
       "...                   ...     ...     ...     ...        ...  ...       ...   \n",
       "2791  2020-10-28 21:30:00    1.63    50.0       1  18.818924   23    76.528   \n",
       "2792  2020-10-28 22:00:00    1.63    50.0       1  18.818924   23    76.876   \n",
       "2793  2020-10-28 22:30:00    1.63    50.0       1  18.818924   23    77.050   \n",
       "2794  2020-10-28 23:00:00    1.63    50.0       1  18.818924   23    76.703   \n",
       "2795  2020-10-28 23:30:00    1.63    50.0       1  18.818924   23    76.354   \n",
       "\n",
       "          rh  heart_rate  stress_level  skin_temp       eda   TC   TS   Clo  \\\n",
       "0     62.122        60.0          17.0        NaN       NaN  4.0  4.0  0.74   \n",
       "1     62.321        78.0          60.0     30.748  0.926320  4.0  4.0  0.74   \n",
       "2     62.255        79.0          46.0     31.327  1.232405  4.0  4.0  0.74   \n",
       "3     61.491        94.0          91.0     31.458  0.375005  4.0  4.0  0.74   \n",
       "4     61.071        85.0          71.0     32.085  0.081127  4.0  4.0  0.74   \n",
       "...      ...         ...           ...        ...       ...  ...  ...   ...   \n",
       "2791  40.530        73.0          22.0     31.850  0.114876  2.0  3.0  0.50   \n",
       "2792  39.890        70.5          10.0     32.215  0.146231  2.0  3.0  0.50   \n",
       "2793  39.710        72.0           5.0     32.656  0.153838  2.0  3.0  0.50   \n",
       "2794  39.980        66.0           0.0     31.902  0.160930  2.0  3.0  0.50   \n",
       "2795  41.050        86.0           NaN     30.563  0.281910  2.0  3.0  0.50   \n",
       "\n",
       "      Act  \n",
       "0     1.0  \n",
       "1     1.1  \n",
       "2     1.1  \n",
       "3     1.0  \n",
       "4     1.0  \n",
       "...   ...  \n",
       "2791  1.0  \n",
       "2792  1.0  \n",
       "2793  1.0  \n",
       "2794  1.0  \n",
       "2795  1.0  \n",
       "\n",
       "[2796 rows x 16 columns]"
      ]
     },
     "execution_count": 5,
     "metadata": {},
     "output_type": "execute_result"
    }
   ],
   "source": [
    "df_origin"
   ]
  },
  {
   "cell_type": "code",
   "execution_count": 6,
   "metadata": {
    "ExecuteTime": {
     "end_time": "2020-11-13T08:44:12.771193Z",
     "start_time": "2020-11-13T08:44:12.762343Z"
    }
   },
   "outputs": [
    {
     "name": "stdout",
     "output_type": "stream",
     "text": [
      "<class 'pandas.core.frame.DataFrame'>\n",
      "RangeIndex: 2796 entries, 0 to 2795\n",
      "Data columns (total 16 columns):\n",
      " #   Column        Non-Null Count  Dtype  \n",
      "---  ------        --------------  -----  \n",
      " 0   time          2796 non-null   object \n",
      " 1   height        2796 non-null   float64\n",
      " 2   weight        2796 non-null   float64\n",
      " 3   gender        2796 non-null   int64  \n",
      " 4   bmi           2796 non-null   float64\n",
      " 5   age           2796 non-null   int64  \n",
      " 6   env_temp      2796 non-null   float64\n",
      " 7   rh            2796 non-null   float64\n",
      " 8   heart_rate    2201 non-null   float64\n",
      " 9   stress_level  1848 non-null   float64\n",
      " 10  skin_temp     1874 non-null   float64\n",
      " 11  eda           2396 non-null   float64\n",
      " 12  TC            2717 non-null   float64\n",
      " 13  TS            2712 non-null   float64\n",
      " 14  Clo           2737 non-null   float64\n",
      " 15  Act           2718 non-null   float64\n",
      "dtypes: float64(13), int64(2), object(1)\n",
      "memory usage: 349.6+ KB\n"
     ]
    }
   ],
   "source": [
    "df_origin.info()"
   ]
  },
  {
   "cell_type": "markdown",
   "metadata": {},
   "source": [
    "## data process"
   ]
  },
  {
   "cell_type": "markdown",
   "metadata": {},
   "source": [
    "### choose data: TS >= 3.0"
   ]
  },
  {
   "cell_type": "code",
   "execution_count": 7,
   "metadata": {
    "ExecuteTime": {
     "end_time": "2020-11-13T08:44:12.777669Z",
     "start_time": "2020-11-13T08:44:12.773186Z"
    },
    "scrolled": true
   },
   "outputs": [
    {
     "data": {
      "text/plain": [
       "(84, 16)"
      ]
     },
     "execution_count": 7,
     "metadata": {},
     "output_type": "execute_result"
    }
   ],
   "source": [
    "df_origin[df_origin[['TS']].isna().TS].shape\n",
    "# some na in clo, means unrecorded data"
   ]
  },
  {
   "cell_type": "code",
   "execution_count": 8,
   "metadata": {
    "ExecuteTime": {
     "end_time": "2020-11-13T08:44:12.784258Z",
     "start_time": "2020-11-13T08:44:12.781136Z"
    }
   },
   "outputs": [],
   "source": [
    "df_record = df_origin[df_origin['TS'].isna() ^ True]"
   ]
  },
  {
   "cell_type": "code",
   "execution_count": 9,
   "metadata": {
    "ExecuteTime": {
     "end_time": "2020-11-13T08:44:12.790195Z",
     "start_time": "2020-11-13T08:44:12.787172Z"
    }
   },
   "outputs": [
    {
     "data": {
      "text/plain": [
       "(2712, 16)"
      ]
     },
     "execution_count": 9,
     "metadata": {},
     "output_type": "execute_result"
    }
   ],
   "source": [
    "df_record.shape"
   ]
  },
  {
   "cell_type": "code",
   "execution_count": 10,
   "metadata": {
    "ExecuteTime": {
     "end_time": "2020-11-13T08:44:12.796475Z",
     "start_time": "2020-11-13T08:44:12.791756Z"
    }
   },
   "outputs": [],
   "source": [
    "df_comfort = df_record[df_record['TC'] >= 3.0]"
   ]
  },
  {
   "cell_type": "markdown",
   "metadata": {},
   "source": [
    "### shuffle"
   ]
  },
  {
   "cell_type": "code",
   "execution_count": 11,
   "metadata": {
    "ExecuteTime": {
     "end_time": "2020-11-13T08:44:12.801828Z",
     "start_time": "2020-11-13T08:44:12.797862Z"
    }
   },
   "outputs": [],
   "source": [
    "df_shuffle = df_comfort.sample(frac=1, random_state=1208).reset_index(drop=True)"
   ]
  },
  {
   "cell_type": "code",
   "execution_count": 12,
   "metadata": {
    "ExecuteTime": {
     "end_time": "2020-11-13T08:44:12.807183Z",
     "start_time": "2020-11-13T08:44:12.803182Z"
    }
   },
   "outputs": [],
   "source": [
    "X_data = df_shuffle[['height', 'weight', 'gender', 'bmi', 'age', 'rh', \\\n",
    "                      'heart_rate', 'stress_level', 'skin_temp', 'eda', \\\n",
    "                      'TC', 'TS', 'Clo', 'Act']]"
   ]
  },
  {
   "cell_type": "code",
   "execution_count": 13,
   "metadata": {
    "ExecuteTime": {
     "end_time": "2020-11-13T08:44:12.812531Z",
     "start_time": "2020-11-13T08:44:12.809779Z"
    }
   },
   "outputs": [],
   "source": [
    "X_cols_name = X_data.columns"
   ]
  },
  {
   "cell_type": "code",
   "execution_count": 14,
   "metadata": {
    "ExecuteTime": {
     "end_time": "2020-11-13T08:44:12.817303Z",
     "start_time": "2020-11-13T08:44:12.814557Z"
    }
   },
   "outputs": [],
   "source": [
    "y_data = df_shuffle['env_temp']"
   ]
  },
  {
   "cell_type": "markdown",
   "metadata": {},
   "source": [
    "### imputation"
   ]
  },
  {
   "cell_type": "code",
   "execution_count": 15,
   "metadata": {
    "ExecuteTime": {
     "end_time": "2020-11-13T08:44:12.828808Z",
     "start_time": "2020-11-13T08:44:12.819390Z"
    },
    "scrolled": true
   },
   "outputs": [
    {
     "data": {
      "text/html": [
       "<div>\n",
       "<style scoped>\n",
       "    .dataframe tbody tr th:only-of-type {\n",
       "        vertical-align: middle;\n",
       "    }\n",
       "\n",
       "    .dataframe tbody tr th {\n",
       "        vertical-align: top;\n",
       "    }\n",
       "\n",
       "    .dataframe thead th {\n",
       "        text-align: right;\n",
       "    }\n",
       "</style>\n",
       "<table border=\"1\" class=\"dataframe\">\n",
       "  <thead>\n",
       "    <tr style=\"text-align: right;\">\n",
       "      <th></th>\n",
       "      <th>time</th>\n",
       "      <th>height</th>\n",
       "      <th>weight</th>\n",
       "      <th>gender</th>\n",
       "      <th>bmi</th>\n",
       "      <th>age</th>\n",
       "      <th>env_temp</th>\n",
       "      <th>rh</th>\n",
       "      <th>heart_rate</th>\n",
       "      <th>stress_level</th>\n",
       "      <th>skin_temp</th>\n",
       "      <th>eda</th>\n",
       "      <th>TC</th>\n",
       "      <th>TS</th>\n",
       "      <th>Clo</th>\n",
       "      <th>Act</th>\n",
       "    </tr>\n",
       "  </thead>\n",
       "  <tbody>\n",
       "  </tbody>\n",
       "</table>\n",
       "</div>"
      ],
      "text/plain": [
       "Empty DataFrame\n",
       "Columns: [time, height, weight, gender, bmi, age, env_temp, rh, heart_rate, stress_level, skin_temp, eda, TC, TS, Clo, Act]\n",
       "Index: []"
      ]
     },
     "execution_count": 15,
     "metadata": {},
     "output_type": "execute_result"
    }
   ],
   "source": [
    "df_record[df_record[['env_temp']].isna().env_temp]\n",
    "# no na in env_temp"
   ]
  },
  {
   "cell_type": "code",
   "execution_count": 16,
   "metadata": {
    "ExecuteTime": {
     "end_time": "2020-11-13T08:44:12.832677Z",
     "start_time": "2020-11-13T08:44:12.830387Z"
    }
   },
   "outputs": [],
   "source": [
    "imp = SimpleImputer(strategy='mean')"
   ]
  },
  {
   "cell_type": "code",
   "execution_count": 17,
   "metadata": {
    "ExecuteTime": {
     "end_time": "2020-11-13T08:44:12.842447Z",
     "start_time": "2020-11-13T08:44:12.834636Z"
    }
   },
   "outputs": [],
   "source": [
    "X_data = pd.DataFrame(imp.fit_transform(X_data), columns=X_cols_name)"
   ]
  },
  {
   "cell_type": "code",
   "execution_count": 18,
   "metadata": {
    "ExecuteTime": {
     "end_time": "2020-11-13T08:44:12.850409Z",
     "start_time": "2020-11-13T08:44:12.843872Z"
    }
   },
   "outputs": [],
   "source": [
    "X_data_not_norm = pd.DataFrame(imp.fit_transform(X_data), columns=X_cols_name)"
   ]
  },
  {
   "cell_type": "markdown",
   "metadata": {},
   "source": [
    "### normalize"
   ]
  },
  {
   "cell_type": "code",
   "execution_count": 19,
   "metadata": {
    "ExecuteTime": {
     "end_time": "2020-11-13T08:44:12.855828Z",
     "start_time": "2020-11-13T08:44:12.851804Z"
    }
   },
   "outputs": [],
   "source": [
    "X_array_normalize, X_norm = normalize(X_data, axis=0, return_norm=True)"
   ]
  },
  {
   "cell_type": "code",
   "execution_count": 20,
   "metadata": {
    "ExecuteTime": {
     "end_time": "2020-11-13T08:44:12.860235Z",
     "start_time": "2020-11-13T08:44:12.857543Z"
    }
   },
   "outputs": [],
   "source": [
    "X_data = pd.DataFrame(X_array_normalize, columns=X_cols_name)"
   ]
  },
  {
   "cell_type": "code",
   "execution_count": 21,
   "metadata": {
    "ExecuteTime": {
     "end_time": "2020-11-13T08:44:12.881890Z",
     "start_time": "2020-11-13T08:44:12.862734Z"
    }
   },
   "outputs": [
    {
     "data": {
      "text/html": [
       "<div>\n",
       "<style scoped>\n",
       "    .dataframe tbody tr th:only-of-type {\n",
       "        vertical-align: middle;\n",
       "    }\n",
       "\n",
       "    .dataframe tbody tr th {\n",
       "        vertical-align: top;\n",
       "    }\n",
       "\n",
       "    .dataframe thead th {\n",
       "        text-align: right;\n",
       "    }\n",
       "</style>\n",
       "<table border=\"1\" class=\"dataframe\">\n",
       "  <thead>\n",
       "    <tr style=\"text-align: right;\">\n",
       "      <th></th>\n",
       "      <th>height</th>\n",
       "      <th>weight</th>\n",
       "      <th>gender</th>\n",
       "      <th>bmi</th>\n",
       "      <th>age</th>\n",
       "      <th>rh</th>\n",
       "      <th>heart_rate</th>\n",
       "      <th>stress_level</th>\n",
       "      <th>skin_temp</th>\n",
       "      <th>eda</th>\n",
       "      <th>TC</th>\n",
       "      <th>TS</th>\n",
       "      <th>Clo</th>\n",
       "      <th>Act</th>\n",
       "    </tr>\n",
       "  </thead>\n",
       "  <tbody>\n",
       "    <tr>\n",
       "      <th>0</th>\n",
       "      <td>0.018674</td>\n",
       "      <td>0.016305</td>\n",
       "      <td>0.019889</td>\n",
       "      <td>0.018573</td>\n",
       "      <td>0.019347</td>\n",
       "      <td>0.024127</td>\n",
       "      <td>0.020630</td>\n",
       "      <td>0.010107</td>\n",
       "      <td>0.019882</td>\n",
       "      <td>0.000866</td>\n",
       "      <td>0.020182</td>\n",
       "      <td>0.018018</td>\n",
       "      <td>0.022576</td>\n",
       "      <td>0.018588</td>\n",
       "    </tr>\n",
       "    <tr>\n",
       "      <th>1</th>\n",
       "      <td>0.020659</td>\n",
       "      <td>0.018013</td>\n",
       "      <td>-0.019889</td>\n",
       "      <td>0.016766</td>\n",
       "      <td>0.018541</td>\n",
       "      <td>0.018656</td>\n",
       "      <td>0.019635</td>\n",
       "      <td>0.001037</td>\n",
       "      <td>0.019217</td>\n",
       "      <td>0.000190</td>\n",
       "      <td>0.020182</td>\n",
       "      <td>0.018018</td>\n",
       "      <td>0.013323</td>\n",
       "      <td>0.018588</td>\n",
       "    </tr>\n",
       "    <tr>\n",
       "      <th>2</th>\n",
       "      <td>0.019958</td>\n",
       "      <td>0.019877</td>\n",
       "      <td>-0.019889</td>\n",
       "      <td>0.019822</td>\n",
       "      <td>0.021765</td>\n",
       "      <td>0.018383</td>\n",
       "      <td>0.019760</td>\n",
       "      <td>0.017104</td>\n",
       "      <td>0.020624</td>\n",
       "      <td>0.002329</td>\n",
       "      <td>0.020182</td>\n",
       "      <td>0.018018</td>\n",
       "      <td>0.022576</td>\n",
       "      <td>0.016898</td>\n",
       "    </tr>\n",
       "    <tr>\n",
       "      <th>3</th>\n",
       "      <td>0.020659</td>\n",
       "      <td>0.018013</td>\n",
       "      <td>-0.019889</td>\n",
       "      <td>0.016766</td>\n",
       "      <td>0.018541</td>\n",
       "      <td>0.020090</td>\n",
       "      <td>0.022867</td>\n",
       "      <td>0.027470</td>\n",
       "      <td>0.018905</td>\n",
       "      <td>0.000048</td>\n",
       "      <td>0.020182</td>\n",
       "      <td>0.018018</td>\n",
       "      <td>0.013323</td>\n",
       "      <td>0.016898</td>\n",
       "    </tr>\n",
       "    <tr>\n",
       "      <th>4</th>\n",
       "      <td>0.020659</td>\n",
       "      <td>0.018013</td>\n",
       "      <td>-0.019889</td>\n",
       "      <td>0.016766</td>\n",
       "      <td>0.018541</td>\n",
       "      <td>0.021603</td>\n",
       "      <td>0.019495</td>\n",
       "      <td>0.041464</td>\n",
       "      <td>0.018691</td>\n",
       "      <td>0.000018</td>\n",
       "      <td>0.020182</td>\n",
       "      <td>0.018018</td>\n",
       "      <td>0.013323</td>\n",
       "      <td>0.016898</td>\n",
       "    </tr>\n",
       "    <tr>\n",
       "      <th>...</th>\n",
       "      <td>...</td>\n",
       "      <td>...</td>\n",
       "      <td>...</td>\n",
       "      <td>...</td>\n",
       "      <td>...</td>\n",
       "      <td>...</td>\n",
       "      <td>...</td>\n",
       "      <td>...</td>\n",
       "      <td>...</td>\n",
       "      <td>...</td>\n",
       "      <td>...</td>\n",
       "      <td>...</td>\n",
       "      <td>...</td>\n",
       "      <td>...</td>\n",
       "    </tr>\n",
       "    <tr>\n",
       "      <th>2523</th>\n",
       "      <td>0.019375</td>\n",
       "      <td>0.017703</td>\n",
       "      <td>0.019889</td>\n",
       "      <td>0.018733</td>\n",
       "      <td>0.020153</td>\n",
       "      <td>0.020279</td>\n",
       "      <td>0.015161</td>\n",
       "      <td>0.001037</td>\n",
       "      <td>0.019168</td>\n",
       "      <td>0.000043</td>\n",
       "      <td>0.020182</td>\n",
       "      <td>0.018018</td>\n",
       "      <td>0.019985</td>\n",
       "      <td>0.016898</td>\n",
       "    </tr>\n",
       "    <tr>\n",
       "      <th>2524</th>\n",
       "      <td>0.019725</td>\n",
       "      <td>0.023293</td>\n",
       "      <td>-0.019889</td>\n",
       "      <td>0.023782</td>\n",
       "      <td>0.019347</td>\n",
       "      <td>0.018008</td>\n",
       "      <td>0.019495</td>\n",
       "      <td>0.016643</td>\n",
       "      <td>0.019445</td>\n",
       "      <td>0.000125</td>\n",
       "      <td>0.015137</td>\n",
       "      <td>0.018018</td>\n",
       "      <td>0.013323</td>\n",
       "      <td>0.016898</td>\n",
       "    </tr>\n",
       "    <tr>\n",
       "      <th>2525</th>\n",
       "      <td>0.018674</td>\n",
       "      <td>0.019566</td>\n",
       "      <td>0.019889</td>\n",
       "      <td>0.022287</td>\n",
       "      <td>0.019347</td>\n",
       "      <td>0.017529</td>\n",
       "      <td>0.026098</td>\n",
       "      <td>0.016643</td>\n",
       "      <td>0.019882</td>\n",
       "      <td>0.000064</td>\n",
       "      <td>0.020182</td>\n",
       "      <td>0.018018</td>\n",
       "      <td>0.018505</td>\n",
       "      <td>0.018588</td>\n",
       "    </tr>\n",
       "    <tr>\n",
       "      <th>2526</th>\n",
       "      <td>0.020308</td>\n",
       "      <td>0.020188</td>\n",
       "      <td>-0.019889</td>\n",
       "      <td>0.019443</td>\n",
       "      <td>0.018541</td>\n",
       "      <td>0.020548</td>\n",
       "      <td>0.019495</td>\n",
       "      <td>0.016643</td>\n",
       "      <td>0.021215</td>\n",
       "      <td>0.000643</td>\n",
       "      <td>0.020182</td>\n",
       "      <td>0.031532</td>\n",
       "      <td>0.019985</td>\n",
       "      <td>0.013519</td>\n",
       "    </tr>\n",
       "    <tr>\n",
       "      <th>2527</th>\n",
       "      <td>0.018674</td>\n",
       "      <td>0.016305</td>\n",
       "      <td>0.019889</td>\n",
       "      <td>0.018573</td>\n",
       "      <td>0.019347</td>\n",
       "      <td>0.020089</td>\n",
       "      <td>0.018641</td>\n",
       "      <td>0.010366</td>\n",
       "      <td>0.019053</td>\n",
       "      <td>0.000230</td>\n",
       "      <td>0.020182</td>\n",
       "      <td>0.018018</td>\n",
       "      <td>0.035529</td>\n",
       "      <td>0.018588</td>\n",
       "    </tr>\n",
       "  </tbody>\n",
       "</table>\n",
       "<p>2528 rows × 14 columns</p>\n",
       "</div>"
      ],
      "text/plain": [
       "        height    weight    gender       bmi       age        rh  heart_rate  \\\n",
       "0     0.018674  0.016305  0.019889  0.018573  0.019347  0.024127    0.020630   \n",
       "1     0.020659  0.018013 -0.019889  0.016766  0.018541  0.018656    0.019635   \n",
       "2     0.019958  0.019877 -0.019889  0.019822  0.021765  0.018383    0.019760   \n",
       "3     0.020659  0.018013 -0.019889  0.016766  0.018541  0.020090    0.022867   \n",
       "4     0.020659  0.018013 -0.019889  0.016766  0.018541  0.021603    0.019495   \n",
       "...        ...       ...       ...       ...       ...       ...         ...   \n",
       "2523  0.019375  0.017703  0.019889  0.018733  0.020153  0.020279    0.015161   \n",
       "2524  0.019725  0.023293 -0.019889  0.023782  0.019347  0.018008    0.019495   \n",
       "2525  0.018674  0.019566  0.019889  0.022287  0.019347  0.017529    0.026098   \n",
       "2526  0.020308  0.020188 -0.019889  0.019443  0.018541  0.020548    0.019495   \n",
       "2527  0.018674  0.016305  0.019889  0.018573  0.019347  0.020089    0.018641   \n",
       "\n",
       "      stress_level  skin_temp       eda        TC        TS       Clo  \\\n",
       "0         0.010107   0.019882  0.000866  0.020182  0.018018  0.022576   \n",
       "1         0.001037   0.019217  0.000190  0.020182  0.018018  0.013323   \n",
       "2         0.017104   0.020624  0.002329  0.020182  0.018018  0.022576   \n",
       "3         0.027470   0.018905  0.000048  0.020182  0.018018  0.013323   \n",
       "4         0.041464   0.018691  0.000018  0.020182  0.018018  0.013323   \n",
       "...            ...        ...       ...       ...       ...       ...   \n",
       "2523      0.001037   0.019168  0.000043  0.020182  0.018018  0.019985   \n",
       "2524      0.016643   0.019445  0.000125  0.015137  0.018018  0.013323   \n",
       "2525      0.016643   0.019882  0.000064  0.020182  0.018018  0.018505   \n",
       "2526      0.016643   0.021215  0.000643  0.020182  0.031532  0.019985   \n",
       "2527      0.010366   0.019053  0.000230  0.020182  0.018018  0.035529   \n",
       "\n",
       "           Act  \n",
       "0     0.018588  \n",
       "1     0.018588  \n",
       "2     0.016898  \n",
       "3     0.016898  \n",
       "4     0.016898  \n",
       "...        ...  \n",
       "2523  0.016898  \n",
       "2524  0.016898  \n",
       "2525  0.018588  \n",
       "2526  0.013519  \n",
       "2527  0.018588  \n",
       "\n",
       "[2528 rows x 14 columns]"
      ]
     },
     "execution_count": 21,
     "metadata": {},
     "output_type": "execute_result"
    }
   ],
   "source": [
    "X_data"
   ]
  },
  {
   "cell_type": "code",
   "execution_count": 22,
   "metadata": {
    "ExecuteTime": {
     "end_time": "2020-11-13T08:44:12.888399Z",
     "start_time": "2020-11-13T08:44:12.884098Z"
    }
   },
   "outputs": [
    {
     "data": {
      "text/plain": [
       "array([  85.67889413, 3219.80907819,   50.27922036, 1104.20171125,\n",
       "       1240.52690418, 2610.52082164, 4023.35271413, 1929.40521588,\n",
       "       1609.69440491,  204.39639127,  198.19434906,  221.99549545,\n",
       "         27.02021465,   59.17786748])"
      ]
     },
     "execution_count": 22,
     "metadata": {},
     "output_type": "execute_result"
    }
   ],
   "source": [
    "X_norm"
   ]
  },
  {
   "cell_type": "markdown",
   "metadata": {},
   "source": [
    "## refine data"
   ]
  },
  {
   "cell_type": "code",
   "execution_count": 23,
   "metadata": {
    "ExecuteTime": {
     "end_time": "2020-11-13T08:44:12.903109Z",
     "start_time": "2020-11-13T08:44:12.895158Z"
    }
   },
   "outputs": [],
   "source": [
    "regr = sm.OLS(y_data, X_data)\n",
    "regr_fit = regr.fit()"
   ]
  },
  {
   "cell_type": "markdown",
   "metadata": {},
   "source": [
    "### leverage & outlier"
   ]
  },
  {
   "cell_type": "code",
   "execution_count": 24,
   "metadata": {
    "ExecuteTime": {
     "end_time": "2020-11-13T08:44:12.910367Z",
     "start_time": "2020-11-13T08:44:12.906517Z"
    }
   },
   "outputs": [],
   "source": [
    "infl = regr_fit.get_influence()"
   ]
  },
  {
   "cell_type": "code",
   "execution_count": 25,
   "metadata": {
    "ExecuteTime": {
     "end_time": "2020-11-13T08:44:12.914897Z",
     "start_time": "2020-11-13T08:44:12.912218Z"
    }
   },
   "outputs": [],
   "source": [
    "# leverage\n",
    "leviers = infl.hat_matrix_diag\n",
    "# list(leviers)"
   ]
  },
  {
   "cell_type": "code",
   "execution_count": 26,
   "metadata": {
    "ExecuteTime": {
     "end_time": "2020-11-13T08:44:16.717039Z",
     "start_time": "2020-11-13T08:44:12.916898Z"
    }
   },
   "outputs": [],
   "source": [
    "# studentized residue\n",
    "res_studs = infl.resid_studentized_external\n",
    "# list(res_studs)"
   ]
  },
  {
   "cell_type": "markdown",
   "metadata": {},
   "source": [
    "### leverage detection\n",
    "the threshold value may be:\n",
    "$$s_h=2\\times \\frac{p+1}{n}$$"
   ]
  },
  {
   "cell_type": "code",
   "execution_count": 27,
   "metadata": {
    "ExecuteTime": {
     "end_time": "2020-11-13T08:44:16.721577Z",
     "start_time": "2020-11-13T08:44:16.718604Z"
    }
   },
   "outputs": [],
   "source": [
    "n_data = X_data.shape[0]\n",
    "p_data = X_data.shape[1]"
   ]
  },
  {
   "cell_type": "code",
   "execution_count": 28,
   "metadata": {
    "ExecuteTime": {
     "end_time": "2020-11-13T08:44:16.727656Z",
     "start_time": "2020-11-13T08:44:16.723744Z"
    }
   },
   "outputs": [
    {
     "data": {
      "text/plain": [
       "0.011867088607594937"
      ]
     },
     "execution_count": 28,
     "metadata": {},
     "output_type": "execute_result"
    }
   ],
   "source": [
    "s_h = 2 * (p_data + 1) / n_data\n",
    "s_h"
   ]
  },
  {
   "cell_type": "code",
   "execution_count": 29,
   "metadata": {
    "ExecuteTime": {
     "end_time": "2020-11-13T08:44:16.732475Z",
     "start_time": "2020-11-13T08:44:16.729992Z"
    }
   },
   "outputs": [],
   "source": [
    "atyp_levier = leviers > s_h"
   ]
  },
  {
   "cell_type": "code",
   "execution_count": 30,
   "metadata": {
    "ExecuteTime": {
     "end_time": "2020-11-13T08:44:16.738427Z",
     "start_time": "2020-11-13T08:44:16.734410Z"
    }
   },
   "outputs": [
    {
     "data": {
      "text/plain": [
       "125"
      ]
     },
     "execution_count": 30,
     "metadata": {},
     "output_type": "execute_result"
    }
   ],
   "source": [
    "len(leviers[atyp_levier])"
   ]
  },
  {
   "cell_type": "markdown",
   "metadata": {},
   "source": [
    "### outlier detection\n",
    "Threshold:\n",
    "$$s_t=t_{1-0.05/2}(n-p-2)$$"
   ]
  },
  {
   "cell_type": "code",
   "execution_count": 31,
   "metadata": {
    "ExecuteTime": {
     "end_time": "2020-11-13T08:44:16.744811Z",
     "start_time": "2020-11-13T08:44:16.740363Z"
    }
   },
   "outputs": [
    {
     "data": {
      "text/plain": [
       "1.9609088074865402"
      ]
     },
     "execution_count": 31,
     "metadata": {},
     "output_type": "execute_result"
    }
   ],
   "source": [
    "seuil_stud = scipy.stats.t.ppf(0.975, df=n_data-p_data-2)\n",
    "seuil_stud"
   ]
  },
  {
   "cell_type": "code",
   "execution_count": 32,
   "metadata": {
    "ExecuteTime": {
     "end_time": "2020-11-13T08:44:16.750177Z",
     "start_time": "2020-11-13T08:44:16.746408Z"
    }
   },
   "outputs": [
    {
     "data": {
      "text/plain": [
       "array([False, False, False, ...,  True, False,  True])"
      ]
     },
     "execution_count": 32,
     "metadata": {},
     "output_type": "execute_result"
    }
   ],
   "source": [
    "atyp_stud = np.abs(res_studs) > seuil_stud\n",
    "atyp_stud"
   ]
  },
  {
   "cell_type": "code",
   "execution_count": 33,
   "metadata": {
    "ExecuteTime": {
     "end_time": "2020-11-13T08:44:16.754514Z",
     "start_time": "2020-11-13T08:44:16.752100Z"
    }
   },
   "outputs": [],
   "source": [
    "idx_eliminate_lvg_outl = np.logical_not(np.logical_or(atyp_levier, atyp_stud))"
   ]
  },
  {
   "cell_type": "code",
   "execution_count": 34,
   "metadata": {
    "ExecuteTime": {
     "end_time": "2020-11-13T08:44:16.760295Z",
     "start_time": "2020-11-13T08:44:16.756471Z"
    },
    "scrolled": true
   },
   "outputs": [
    {
     "data": {
      "text/plain": [
       "Int64Index([   0,    1,    2,    3,    4,    5,    7,    8,    9,   10,\n",
       "            ...\n",
       "            2516, 2517, 2518, 2519, 2520, 2521, 2522, 2523, 2524, 2526],\n",
       "           dtype='int64', length=2275)"
      ]
     },
     "execution_count": 34,
     "metadata": {},
     "output_type": "execute_result"
    }
   ],
   "source": [
    "X_data.index[idx_eliminate_lvg_outl]"
   ]
  },
  {
   "cell_type": "code",
   "execution_count": 35,
   "metadata": {
    "ExecuteTime": {
     "end_time": "2020-11-13T08:44:16.766525Z",
     "start_time": "2020-11-13T08:44:16.762461Z"
    }
   },
   "outputs": [],
   "source": [
    "X_data_refine = X_data[idx_eliminate_lvg_outl]\n",
    "y_data_refine = y_data[idx_eliminate_lvg_outl]"
   ]
  },
  {
   "cell_type": "markdown",
   "metadata": {},
   "source": [
    "### save refine data (not normalized)"
   ]
  },
  {
   "cell_type": "code",
   "execution_count": 36,
   "metadata": {
    "ExecuteTime": {
     "end_time": "2020-11-13T08:44:16.772596Z",
     "start_time": "2020-11-13T08:44:16.768952Z"
    }
   },
   "outputs": [],
   "source": [
    "X_data_refine_not_norm = X_data_not_norm[idx_eliminate_lvg_outl]\n",
    "y_data_refine_not_norm = y_data[idx_eliminate_lvg_outl]"
   ]
  },
  {
   "cell_type": "code",
   "execution_count": 37,
   "metadata": {
    "ExecuteTime": {
     "end_time": "2020-11-13T08:44:16.779155Z",
     "start_time": "2020-11-13T08:44:16.774906Z"
    }
   },
   "outputs": [],
   "source": [
    "df_refine_not_norm = pd.concat([X_data_refine_not_norm, y_data_refine_not_norm], axis=1)"
   ]
  },
  {
   "cell_type": "code",
   "execution_count": 38,
   "metadata": {
    "ExecuteTime": {
     "end_time": "2020-11-13T08:44:16.828610Z",
     "start_time": "2020-11-13T08:44:16.780954Z"
    }
   },
   "outputs": [],
   "source": [
    "df_refine_not_norm.to_csv('./processed_data/train_refine_not_norm.csv', index=False)"
   ]
  },
  {
   "cell_type": "markdown",
   "metadata": {},
   "source": [
    "## feature selection"
   ]
  },
  {
   "cell_type": "markdown",
   "metadata": {},
   "source": [
    "### backward selection"
   ]
  },
  {
   "cell_type": "code",
   "execution_count": 39,
   "metadata": {
    "ExecuteTime": {
     "end_time": "2020-11-13T08:44:16.835393Z",
     "start_time": "2020-11-13T08:44:16.830472Z"
    }
   },
   "outputs": [],
   "source": [
    "regr = sm.OLS(y_data_refine, X_data_refine)\n",
    "regr_fit = regr.fit()"
   ]
  },
  {
   "cell_type": "code",
   "execution_count": 40,
   "metadata": {
    "ExecuteTime": {
     "end_time": "2020-11-13T08:44:16.859438Z",
     "start_time": "2020-11-13T08:44:16.837590Z"
    },
    "scrolled": false
   },
   "outputs": [
    {
     "data": {
      "text/html": [
       "<table class=\"simpletable\">\n",
       "<caption>OLS Regression Results</caption>\n",
       "<tr>\n",
       "  <th>Dep. Variable:</th>        <td>env_temp</td>     <th>  R-squared (uncentered):</th>      <td>   0.999</td> \n",
       "</tr>\n",
       "<tr>\n",
       "  <th>Model:</th>                   <td>OLS</td>       <th>  Adj. R-squared (uncentered):</th> <td>   0.999</td> \n",
       "</tr>\n",
       "<tr>\n",
       "  <th>Method:</th>             <td>Least Squares</td>  <th>  F-statistic:       </th>          <td>2.743e+05</td>\n",
       "</tr>\n",
       "<tr>\n",
       "  <th>Date:</th>             <td>Fri, 13 Nov 2020</td> <th>  Prob (F-statistic):</th>           <td>  0.00</td>  \n",
       "</tr>\n",
       "<tr>\n",
       "  <th>Time:</th>                 <td>00:44:16</td>     <th>  Log-Likelihood:    </th>          <td> -4650.7</td> \n",
       "</tr>\n",
       "<tr>\n",
       "  <th>No. Observations:</th>      <td>  2275</td>      <th>  AIC:               </th>          <td>   9329.</td> \n",
       "</tr>\n",
       "<tr>\n",
       "  <th>Df Residuals:</th>          <td>  2261</td>      <th>  BIC:               </th>          <td>   9410.</td> \n",
       "</tr>\n",
       "<tr>\n",
       "  <th>Df Model:</th>              <td>    14</td>      <th>                     </th>              <td> </td>    \n",
       "</tr>\n",
       "<tr>\n",
       "  <th>Covariance Type:</th>      <td>nonrobust</td>    <th>                     </th>              <td> </td>    \n",
       "</tr>\n",
       "</table>\n",
       "<table class=\"simpletable\">\n",
       "<tr>\n",
       "        <td></td>          <th>coef</th>     <th>std err</th>      <th>t</th>      <th>P>|t|</th>  <th>[0.025</th>    <th>0.975]</th>  \n",
       "</tr>\n",
       "<tr>\n",
       "  <th>height</th>       <td> 3156.4007</td> <td>   86.299</td> <td>   36.575</td> <td> 0.000</td> <td> 2987.168</td> <td> 3325.633</td>\n",
       "</tr>\n",
       "<tr>\n",
       "  <th>weight</th>       <td>-1600.4649</td> <td>   68.492</td> <td>  -23.367</td> <td> 0.000</td> <td>-1734.779</td> <td>-1466.151</td>\n",
       "</tr>\n",
       "<tr>\n",
       "  <th>gender</th>       <td>    8.0024</td> <td>    4.661</td> <td>    1.717</td> <td> 0.086</td> <td>   -1.138</td> <td>   17.143</td>\n",
       "</tr>\n",
       "<tr>\n",
       "  <th>bmi</th>          <td> 1685.4500</td> <td>   63.125</td> <td>   26.700</td> <td> 0.000</td> <td> 1561.660</td> <td> 1809.240</td>\n",
       "</tr>\n",
       "<tr>\n",
       "  <th>age</th>          <td>  -26.6331</td> <td>   30.860</td> <td>   -0.863</td> <td> 0.388</td> <td>  -87.150</td> <td>   33.883</td>\n",
       "</tr>\n",
       "<tr>\n",
       "  <th>rh</th>           <td>   30.6710</td> <td>   12.794</td> <td>    2.397</td> <td> 0.017</td> <td>    5.582</td> <td>   55.760</td>\n",
       "</tr>\n",
       "<tr>\n",
       "  <th>heart_rate</th>   <td>  -34.9514</td> <td>   16.885</td> <td>   -2.070</td> <td> 0.039</td> <td>  -68.063</td> <td>   -1.840</td>\n",
       "</tr>\n",
       "<tr>\n",
       "  <th>stress_level</th> <td>   27.3591</td> <td>    4.439</td> <td>    6.163</td> <td> 0.000</td> <td>   18.654</td> <td>   36.065</td>\n",
       "</tr>\n",
       "<tr>\n",
       "  <th>skin_temp</th>    <td>  525.0952</td> <td>   77.703</td> <td>    6.758</td> <td> 0.000</td> <td>  372.719</td> <td>  677.471</td>\n",
       "</tr>\n",
       "<tr>\n",
       "  <th>eda</th>          <td>    5.0463</td> <td>    7.424</td> <td>    0.680</td> <td> 0.497</td> <td>   -9.512</td> <td>   19.604</td>\n",
       "</tr>\n",
       "<tr>\n",
       "  <th>TC</th>           <td>  110.7185</td> <td>   13.049</td> <td>    8.485</td> <td> 0.000</td> <td>   85.129</td> <td>  136.308</td>\n",
       "</tr>\n",
       "<tr>\n",
       "  <th>TS</th>           <td>  126.6281</td> <td>   11.194</td> <td>   11.312</td> <td> 0.000</td> <td>  104.676</td> <td>  148.580</td>\n",
       "</tr>\n",
       "<tr>\n",
       "  <th>Clo</th>          <td> -120.6911</td> <td>    6.882</td> <td>  -17.538</td> <td> 0.000</td> <td> -134.186</td> <td> -107.196</td>\n",
       "</tr>\n",
       "<tr>\n",
       "  <th>Act</th>          <td>   -7.5744</td> <td>    9.552</td> <td>   -0.793</td> <td> 0.428</td> <td>  -26.307</td> <td>   11.158</td>\n",
       "</tr>\n",
       "</table>\n",
       "<table class=\"simpletable\">\n",
       "<tr>\n",
       "  <th>Omnibus:</th>       <td> 6.139</td> <th>  Durbin-Watson:     </th> <td>   2.010</td>\n",
       "</tr>\n",
       "<tr>\n",
       "  <th>Prob(Omnibus):</th> <td> 0.046</td> <th>  Jarque-Bera (JB):  </th> <td>   6.120</td>\n",
       "</tr>\n",
       "<tr>\n",
       "  <th>Skew:</th>          <td> 0.111</td> <th>  Prob(JB):          </th> <td>  0.0469</td>\n",
       "</tr>\n",
       "<tr>\n",
       "  <th>Kurtosis:</th>      <td> 2.878</td> <th>  Cond. No.          </th> <td>    223.</td>\n",
       "</tr>\n",
       "</table><br/><br/>Notes:<br/>[1] R² is computed without centering (uncentered) since the model does not contain a constant.<br/>[2] Standard Errors assume that the covariance matrix of the errors is correctly specified."
      ],
      "text/plain": [
       "<class 'statsmodels.iolib.summary.Summary'>\n",
       "\"\"\"\n",
       "                                 OLS Regression Results                                \n",
       "=======================================================================================\n",
       "Dep. Variable:               env_temp   R-squared (uncentered):                   0.999\n",
       "Model:                            OLS   Adj. R-squared (uncentered):              0.999\n",
       "Method:                 Least Squares   F-statistic:                          2.743e+05\n",
       "Date:                Fri, 13 Nov 2020   Prob (F-statistic):                        0.00\n",
       "Time:                        00:44:16   Log-Likelihood:                         -4650.7\n",
       "No. Observations:                2275   AIC:                                      9329.\n",
       "Df Residuals:                    2261   BIC:                                      9410.\n",
       "Df Model:                          14                                                  \n",
       "Covariance Type:            nonrobust                                                  \n",
       "================================================================================\n",
       "                   coef    std err          t      P>|t|      [0.025      0.975]\n",
       "--------------------------------------------------------------------------------\n",
       "height        3156.4007     86.299     36.575      0.000    2987.168    3325.633\n",
       "weight       -1600.4649     68.492    -23.367      0.000   -1734.779   -1466.151\n",
       "gender           8.0024      4.661      1.717      0.086      -1.138      17.143\n",
       "bmi           1685.4500     63.125     26.700      0.000    1561.660    1809.240\n",
       "age            -26.6331     30.860     -0.863      0.388     -87.150      33.883\n",
       "rh              30.6710     12.794      2.397      0.017       5.582      55.760\n",
       "heart_rate     -34.9514     16.885     -2.070      0.039     -68.063      -1.840\n",
       "stress_level    27.3591      4.439      6.163      0.000      18.654      36.065\n",
       "skin_temp      525.0952     77.703      6.758      0.000     372.719     677.471\n",
       "eda              5.0463      7.424      0.680      0.497      -9.512      19.604\n",
       "TC             110.7185     13.049      8.485      0.000      85.129     136.308\n",
       "TS             126.6281     11.194     11.312      0.000     104.676     148.580\n",
       "Clo           -120.6911      6.882    -17.538      0.000    -134.186    -107.196\n",
       "Act             -7.5744      9.552     -0.793      0.428     -26.307      11.158\n",
       "==============================================================================\n",
       "Omnibus:                        6.139   Durbin-Watson:                   2.010\n",
       "Prob(Omnibus):                  0.046   Jarque-Bera (JB):                6.120\n",
       "Skew:                           0.111   Prob(JB):                       0.0469\n",
       "Kurtosis:                       2.878   Cond. No.                         223.\n",
       "==============================================================================\n",
       "\n",
       "Notes:\n",
       "[1] R² is computed without centering (uncentered) since the model does not contain a constant.\n",
       "[2] Standard Errors assume that the covariance matrix of the errors is correctly specified.\n",
       "\"\"\""
      ]
     },
     "execution_count": 40,
     "metadata": {},
     "output_type": "execute_result"
    }
   ],
   "source": [
    "regr_fit.summary()"
   ]
  },
  {
   "cell_type": "code",
   "execution_count": 42,
   "metadata": {
    "ExecuteTime": {
     "end_time": "2020-11-13T08:44:46.799486Z",
     "start_time": "2020-11-13T08:44:46.796851Z"
    }
   },
   "outputs": [],
   "source": [
    "X_rm = X_data_refine"
   ]
  },
  {
   "cell_type": "markdown",
   "metadata": {
    "ExecuteTime": {
     "end_time": "2020-11-10T22:22:54.851894Z",
     "start_time": "2020-11-10T22:22:54.850000Z"
    }
   },
   "source": [
    "#### remove eda"
   ]
  },
  {
   "cell_type": "code",
   "execution_count": 43,
   "metadata": {
    "ExecuteTime": {
     "end_time": "2020-11-13T08:44:47.520477Z",
     "start_time": "2020-11-13T08:44:47.516408Z"
    }
   },
   "outputs": [],
   "source": [
    "X_rm = X_rm.drop(columns='eda')"
   ]
  },
  {
   "cell_type": "code",
   "execution_count": 44,
   "metadata": {
    "ExecuteTime": {
     "end_time": "2020-11-13T08:44:47.864233Z",
     "start_time": "2020-11-13T08:44:47.840853Z"
    },
    "scrolled": false
   },
   "outputs": [
    {
     "data": {
      "text/html": [
       "<table class=\"simpletable\">\n",
       "<caption>OLS Regression Results</caption>\n",
       "<tr>\n",
       "  <th>Dep. Variable:</th>        <td>env_temp</td>     <th>  R-squared (uncentered):</th>      <td>   0.999</td> \n",
       "</tr>\n",
       "<tr>\n",
       "  <th>Model:</th>                   <td>OLS</td>       <th>  Adj. R-squared (uncentered):</th> <td>   0.999</td> \n",
       "</tr>\n",
       "<tr>\n",
       "  <th>Method:</th>             <td>Least Squares</td>  <th>  F-statistic:       </th>          <td>2.955e+05</td>\n",
       "</tr>\n",
       "<tr>\n",
       "  <th>Date:</th>             <td>Fri, 13 Nov 2020</td> <th>  Prob (F-statistic):</th>           <td>  0.00</td>  \n",
       "</tr>\n",
       "<tr>\n",
       "  <th>Time:</th>                 <td>00:44:47</td>     <th>  Log-Likelihood:    </th>          <td> -4650.9</td> \n",
       "</tr>\n",
       "<tr>\n",
       "  <th>No. Observations:</th>      <td>  2275</td>      <th>  AIC:               </th>          <td>   9328.</td> \n",
       "</tr>\n",
       "<tr>\n",
       "  <th>Df Residuals:</th>          <td>  2262</td>      <th>  BIC:               </th>          <td>   9402.</td> \n",
       "</tr>\n",
       "<tr>\n",
       "  <th>Df Model:</th>              <td>    13</td>      <th>                     </th>              <td> </td>    \n",
       "</tr>\n",
       "<tr>\n",
       "  <th>Covariance Type:</th>      <td>nonrobust</td>    <th>                     </th>              <td> </td>    \n",
       "</tr>\n",
       "</table>\n",
       "<table class=\"simpletable\">\n",
       "<tr>\n",
       "        <td></td>          <th>coef</th>     <th>std err</th>      <th>t</th>      <th>P>|t|</th>  <th>[0.025</th>    <th>0.975]</th>  \n",
       "</tr>\n",
       "<tr>\n",
       "  <th>height</th>       <td> 3148.6309</td> <td>   85.528</td> <td>   36.814</td> <td> 0.000</td> <td> 2980.909</td> <td> 3316.352</td>\n",
       "</tr>\n",
       "<tr>\n",
       "  <th>weight</th>       <td>-1593.4875</td> <td>   67.711</td> <td>  -23.534</td> <td> 0.000</td> <td>-1726.269</td> <td>-1460.706</td>\n",
       "</tr>\n",
       "<tr>\n",
       "  <th>gender</th>       <td>    8.3081</td> <td>    4.639</td> <td>    1.791</td> <td> 0.073</td> <td>   -0.789</td> <td>   17.405</td>\n",
       "</tr>\n",
       "<tr>\n",
       "  <th>bmi</th>          <td> 1679.3536</td> <td>   62.478</td> <td>   26.879</td> <td> 0.000</td> <td> 1556.834</td> <td> 1801.873</td>\n",
       "</tr>\n",
       "<tr>\n",
       "  <th>age</th>          <td>  -26.0837</td> <td>   30.846</td> <td>   -0.846</td> <td> 0.398</td> <td>  -86.572</td> <td>   34.405</td>\n",
       "</tr>\n",
       "<tr>\n",
       "  <th>rh</th>           <td>   30.7029</td> <td>   12.792</td> <td>    2.400</td> <td> 0.016</td> <td>    5.617</td> <td>   55.788</td>\n",
       "</tr>\n",
       "<tr>\n",
       "  <th>heart_rate</th>   <td>  -34.3945</td> <td>   16.863</td> <td>   -2.040</td> <td> 0.042</td> <td>  -67.463</td> <td>   -1.326</td>\n",
       "</tr>\n",
       "<tr>\n",
       "  <th>stress_level</th> <td>   27.4596</td> <td>    4.436</td> <td>    6.190</td> <td> 0.000</td> <td>   18.760</td> <td>   36.159</td>\n",
       "</tr>\n",
       "<tr>\n",
       "  <th>skin_temp</th>    <td>  530.8685</td> <td>   77.228</td> <td>    6.874</td> <td> 0.000</td> <td>  379.424</td> <td>  682.313</td>\n",
       "</tr>\n",
       "<tr>\n",
       "  <th>TC</th>           <td>  111.1805</td> <td>   13.030</td> <td>    8.533</td> <td> 0.000</td> <td>   85.629</td> <td>  136.732</td>\n",
       "</tr>\n",
       "<tr>\n",
       "  <th>TS</th>           <td>  126.5300</td> <td>   11.192</td> <td>   11.305</td> <td> 0.000</td> <td>  104.582</td> <td>  148.478</td>\n",
       "</tr>\n",
       "<tr>\n",
       "  <th>Clo</th>          <td> -120.6773</td> <td>    6.881</td> <td>  -17.538</td> <td> 0.000</td> <td> -134.171</td> <td> -107.184</td>\n",
       "</tr>\n",
       "<tr>\n",
       "  <th>Act</th>          <td>   -7.4955</td> <td>    9.551</td> <td>   -0.785</td> <td> 0.433</td> <td>  -26.224</td> <td>   11.233</td>\n",
       "</tr>\n",
       "</table>\n",
       "<table class=\"simpletable\">\n",
       "<tr>\n",
       "  <th>Omnibus:</th>       <td> 6.251</td> <th>  Durbin-Watson:     </th> <td>   2.011</td>\n",
       "</tr>\n",
       "<tr>\n",
       "  <th>Prob(Omnibus):</th> <td> 0.044</td> <th>  Jarque-Bera (JB):  </th> <td>   6.231</td>\n",
       "</tr>\n",
       "<tr>\n",
       "  <th>Skew:</th>          <td> 0.112</td> <th>  Prob(JB):          </th> <td>  0.0444</td>\n",
       "</tr>\n",
       "<tr>\n",
       "  <th>Kurtosis:</th>      <td> 2.877</td> <th>  Cond. No.          </th> <td>    220.</td>\n",
       "</tr>\n",
       "</table><br/><br/>Notes:<br/>[1] R² is computed without centering (uncentered) since the model does not contain a constant.<br/>[2] Standard Errors assume that the covariance matrix of the errors is correctly specified."
      ],
      "text/plain": [
       "<class 'statsmodels.iolib.summary.Summary'>\n",
       "\"\"\"\n",
       "                                 OLS Regression Results                                \n",
       "=======================================================================================\n",
       "Dep. Variable:               env_temp   R-squared (uncentered):                   0.999\n",
       "Model:                            OLS   Adj. R-squared (uncentered):              0.999\n",
       "Method:                 Least Squares   F-statistic:                          2.955e+05\n",
       "Date:                Fri, 13 Nov 2020   Prob (F-statistic):                        0.00\n",
       "Time:                        00:44:47   Log-Likelihood:                         -4650.9\n",
       "No. Observations:                2275   AIC:                                      9328.\n",
       "Df Residuals:                    2262   BIC:                                      9402.\n",
       "Df Model:                          13                                                  \n",
       "Covariance Type:            nonrobust                                                  \n",
       "================================================================================\n",
       "                   coef    std err          t      P>|t|      [0.025      0.975]\n",
       "--------------------------------------------------------------------------------\n",
       "height        3148.6309     85.528     36.814      0.000    2980.909    3316.352\n",
       "weight       -1593.4875     67.711    -23.534      0.000   -1726.269   -1460.706\n",
       "gender           8.3081      4.639      1.791      0.073      -0.789      17.405\n",
       "bmi           1679.3536     62.478     26.879      0.000    1556.834    1801.873\n",
       "age            -26.0837     30.846     -0.846      0.398     -86.572      34.405\n",
       "rh              30.7029     12.792      2.400      0.016       5.617      55.788\n",
       "heart_rate     -34.3945     16.863     -2.040      0.042     -67.463      -1.326\n",
       "stress_level    27.4596      4.436      6.190      0.000      18.760      36.159\n",
       "skin_temp      530.8685     77.228      6.874      0.000     379.424     682.313\n",
       "TC             111.1805     13.030      8.533      0.000      85.629     136.732\n",
       "TS             126.5300     11.192     11.305      0.000     104.582     148.478\n",
       "Clo           -120.6773      6.881    -17.538      0.000    -134.171    -107.184\n",
       "Act             -7.4955      9.551     -0.785      0.433     -26.224      11.233\n",
       "==============================================================================\n",
       "Omnibus:                        6.251   Durbin-Watson:                   2.011\n",
       "Prob(Omnibus):                  0.044   Jarque-Bera (JB):                6.231\n",
       "Skew:                           0.112   Prob(JB):                       0.0444\n",
       "Kurtosis:                       2.877   Cond. No.                         220.\n",
       "==============================================================================\n",
       "\n",
       "Notes:\n",
       "[1] R² is computed without centering (uncentered) since the model does not contain a constant.\n",
       "[2] Standard Errors assume that the covariance matrix of the errors is correctly specified.\n",
       "\"\"\""
      ]
     },
     "execution_count": 44,
     "metadata": {},
     "output_type": "execute_result"
    }
   ],
   "source": [
    "regr = sm.OLS(y_data_refine, X_rm)\n",
    "regr_fit = regr.fit()\n",
    "regr_fit.summary()"
   ]
  },
  {
   "cell_type": "markdown",
   "metadata": {
    "ExecuteTime": {
     "end_time": "2020-11-10T22:22:54.851894Z",
     "start_time": "2020-11-10T22:22:54.850000Z"
    }
   },
   "source": [
    "#### remove Act"
   ]
  },
  {
   "cell_type": "code",
   "execution_count": 45,
   "metadata": {
    "ExecuteTime": {
     "end_time": "2020-11-13T08:44:48.293390Z",
     "start_time": "2020-11-13T08:44:48.290257Z"
    }
   },
   "outputs": [],
   "source": [
    "X_rm = X_rm.drop(columns='Act')"
   ]
  },
  {
   "cell_type": "code",
   "execution_count": 46,
   "metadata": {
    "ExecuteTime": {
     "end_time": "2020-11-13T08:44:48.529180Z",
     "start_time": "2020-11-13T08:44:48.504770Z"
    },
    "scrolled": false
   },
   "outputs": [
    {
     "data": {
      "text/html": [
       "<table class=\"simpletable\">\n",
       "<caption>OLS Regression Results</caption>\n",
       "<tr>\n",
       "  <th>Dep. Variable:</th>        <td>env_temp</td>     <th>  R-squared (uncentered):</th>      <td>   0.999</td> \n",
       "</tr>\n",
       "<tr>\n",
       "  <th>Model:</th>                   <td>OLS</td>       <th>  Adj. R-squared (uncentered):</th> <td>   0.999</td> \n",
       "</tr>\n",
       "<tr>\n",
       "  <th>Method:</th>             <td>Least Squares</td>  <th>  F-statistic:       </th>          <td>3.202e+05</td>\n",
       "</tr>\n",
       "<tr>\n",
       "  <th>Date:</th>             <td>Fri, 13 Nov 2020</td> <th>  Prob (F-statistic):</th>           <td>  0.00</td>  \n",
       "</tr>\n",
       "<tr>\n",
       "  <th>Time:</th>                 <td>00:44:48</td>     <th>  Log-Likelihood:    </th>          <td> -4651.2</td> \n",
       "</tr>\n",
       "<tr>\n",
       "  <th>No. Observations:</th>      <td>  2275</td>      <th>  AIC:               </th>          <td>   9326.</td> \n",
       "</tr>\n",
       "<tr>\n",
       "  <th>Df Residuals:</th>          <td>  2263</td>      <th>  BIC:               </th>          <td>   9395.</td> \n",
       "</tr>\n",
       "<tr>\n",
       "  <th>Df Model:</th>              <td>    12</td>      <th>                     </th>              <td> </td>    \n",
       "</tr>\n",
       "<tr>\n",
       "  <th>Covariance Type:</th>      <td>nonrobust</td>    <th>                     </th>              <td> </td>    \n",
       "</tr>\n",
       "</table>\n",
       "<table class=\"simpletable\">\n",
       "<tr>\n",
       "        <td></td>          <th>coef</th>     <th>std err</th>      <th>t</th>      <th>P>|t|</th>  <th>[0.025</th>    <th>0.975]</th>  \n",
       "</tr>\n",
       "<tr>\n",
       "  <th>height</th>       <td> 3141.5228</td> <td>   85.040</td> <td>   36.942</td> <td> 0.000</td> <td> 2974.758</td> <td> 3308.287</td>\n",
       "</tr>\n",
       "<tr>\n",
       "  <th>weight</th>       <td>-1594.3713</td> <td>   67.696</td> <td>  -23.552</td> <td> 0.000</td> <td>-1727.123</td> <td>-1461.620</td>\n",
       "</tr>\n",
       "<tr>\n",
       "  <th>gender</th>       <td>    7.8070</td> <td>    4.594</td> <td>    1.699</td> <td> 0.089</td> <td>   -1.202</td> <td>   16.816</td>\n",
       "</tr>\n",
       "<tr>\n",
       "  <th>bmi</th>          <td> 1678.6575</td> <td>   62.466</td> <td>   26.873</td> <td> 0.000</td> <td> 1556.161</td> <td> 1801.154</td>\n",
       "</tr>\n",
       "<tr>\n",
       "  <th>age</th>          <td>  -25.8171</td> <td>   30.841</td> <td>   -0.837</td> <td> 0.403</td> <td>  -86.297</td> <td>   34.663</td>\n",
       "</tr>\n",
       "<tr>\n",
       "  <th>rh</th>           <td>   30.6677</td> <td>   12.791</td> <td>    2.398</td> <td> 0.017</td> <td>    5.584</td> <td>   55.751</td>\n",
       "</tr>\n",
       "<tr>\n",
       "  <th>heart_rate</th>   <td>  -36.5184</td> <td>   16.643</td> <td>   -2.194</td> <td> 0.028</td> <td>  -69.156</td> <td>   -3.881</td>\n",
       "</tr>\n",
       "<tr>\n",
       "  <th>stress_level</th> <td>   27.4211</td> <td>    4.436</td> <td>    6.182</td> <td> 0.000</td> <td>   18.723</td> <td>   36.120</td>\n",
       "</tr>\n",
       "<tr>\n",
       "  <th>skin_temp</th>    <td>  534.7960</td> <td>   77.059</td> <td>    6.940</td> <td> 0.000</td> <td>  383.682</td> <td>  685.910</td>\n",
       "</tr>\n",
       "<tr>\n",
       "  <th>TC</th>           <td>  111.4974</td> <td>   13.022</td> <td>    8.562</td> <td> 0.000</td> <td>   85.960</td> <td>  137.035</td>\n",
       "</tr>\n",
       "<tr>\n",
       "  <th>TS</th>           <td>  126.3490</td> <td>   11.189</td> <td>   11.293</td> <td> 0.000</td> <td>  104.408</td> <td>  148.290</td>\n",
       "</tr>\n",
       "<tr>\n",
       "  <th>Clo</th>          <td> -121.0701</td> <td>    6.862</td> <td>  -17.644</td> <td> 0.000</td> <td> -134.527</td> <td> -107.614</td>\n",
       "</tr>\n",
       "</table>\n",
       "<table class=\"simpletable\">\n",
       "<tr>\n",
       "  <th>Omnibus:</th>       <td> 6.256</td> <th>  Durbin-Watson:     </th> <td>   2.010</td>\n",
       "</tr>\n",
       "<tr>\n",
       "  <th>Prob(Omnibus):</th> <td> 0.044</td> <th>  Jarque-Bera (JB):  </th> <td>   6.233</td>\n",
       "</tr>\n",
       "<tr>\n",
       "  <th>Skew:</th>          <td> 0.112</td> <th>  Prob(JB):          </th> <td>  0.0443</td>\n",
       "</tr>\n",
       "<tr>\n",
       "  <th>Kurtosis:</th>      <td> 2.876</td> <th>  Cond. No.          </th> <td>    212.</td>\n",
       "</tr>\n",
       "</table><br/><br/>Notes:<br/>[1] R² is computed without centering (uncentered) since the model does not contain a constant.<br/>[2] Standard Errors assume that the covariance matrix of the errors is correctly specified."
      ],
      "text/plain": [
       "<class 'statsmodels.iolib.summary.Summary'>\n",
       "\"\"\"\n",
       "                                 OLS Regression Results                                \n",
       "=======================================================================================\n",
       "Dep. Variable:               env_temp   R-squared (uncentered):                   0.999\n",
       "Model:                            OLS   Adj. R-squared (uncentered):              0.999\n",
       "Method:                 Least Squares   F-statistic:                          3.202e+05\n",
       "Date:                Fri, 13 Nov 2020   Prob (F-statistic):                        0.00\n",
       "Time:                        00:44:48   Log-Likelihood:                         -4651.2\n",
       "No. Observations:                2275   AIC:                                      9326.\n",
       "Df Residuals:                    2263   BIC:                                      9395.\n",
       "Df Model:                          12                                                  \n",
       "Covariance Type:            nonrobust                                                  \n",
       "================================================================================\n",
       "                   coef    std err          t      P>|t|      [0.025      0.975]\n",
       "--------------------------------------------------------------------------------\n",
       "height        3141.5228     85.040     36.942      0.000    2974.758    3308.287\n",
       "weight       -1594.3713     67.696    -23.552      0.000   -1727.123   -1461.620\n",
       "gender           7.8070      4.594      1.699      0.089      -1.202      16.816\n",
       "bmi           1678.6575     62.466     26.873      0.000    1556.161    1801.154\n",
       "age            -25.8171     30.841     -0.837      0.403     -86.297      34.663\n",
       "rh              30.6677     12.791      2.398      0.017       5.584      55.751\n",
       "heart_rate     -36.5184     16.643     -2.194      0.028     -69.156      -3.881\n",
       "stress_level    27.4211      4.436      6.182      0.000      18.723      36.120\n",
       "skin_temp      534.7960     77.059      6.940      0.000     383.682     685.910\n",
       "TC             111.4974     13.022      8.562      0.000      85.960     137.035\n",
       "TS             126.3490     11.189     11.293      0.000     104.408     148.290\n",
       "Clo           -121.0701      6.862    -17.644      0.000    -134.527    -107.614\n",
       "==============================================================================\n",
       "Omnibus:                        6.256   Durbin-Watson:                   2.010\n",
       "Prob(Omnibus):                  0.044   Jarque-Bera (JB):                6.233\n",
       "Skew:                           0.112   Prob(JB):                       0.0443\n",
       "Kurtosis:                       2.876   Cond. No.                         212.\n",
       "==============================================================================\n",
       "\n",
       "Notes:\n",
       "[1] R² is computed without centering (uncentered) since the model does not contain a constant.\n",
       "[2] Standard Errors assume that the covariance matrix of the errors is correctly specified.\n",
       "\"\"\""
      ]
     },
     "execution_count": 46,
     "metadata": {},
     "output_type": "execute_result"
    }
   ],
   "source": [
    "regr = sm.OLS(y_data_refine, X_rm)\n",
    "regr_fit = regr.fit()\n",
    "regr_fit.summary()"
   ]
  },
  {
   "cell_type": "markdown",
   "metadata": {
    "ExecuteTime": {
     "end_time": "2020-11-10T22:22:54.851894Z",
     "start_time": "2020-11-10T22:22:54.850000Z"
    }
   },
   "source": [
    "#### remove age"
   ]
  },
  {
   "cell_type": "code",
   "execution_count": 47,
   "metadata": {
    "ExecuteTime": {
     "end_time": "2020-11-13T08:44:48.956577Z",
     "start_time": "2020-11-13T08:44:48.953388Z"
    }
   },
   "outputs": [],
   "source": [
    "X_rm = X_rm.drop(columns='age')"
   ]
  },
  {
   "cell_type": "code",
   "execution_count": 48,
   "metadata": {
    "ExecuteTime": {
     "end_time": "2020-11-13T08:44:49.381821Z",
     "start_time": "2020-11-13T08:44:49.358435Z"
    },
    "scrolled": false
   },
   "outputs": [
    {
     "data": {
      "text/html": [
       "<table class=\"simpletable\">\n",
       "<caption>OLS Regression Results</caption>\n",
       "<tr>\n",
       "  <th>Dep. Variable:</th>        <td>env_temp</td>     <th>  R-squared (uncentered):</th>      <td>   0.999</td> \n",
       "</tr>\n",
       "<tr>\n",
       "  <th>Model:</th>                   <td>OLS</td>       <th>  Adj. R-squared (uncentered):</th> <td>   0.999</td> \n",
       "</tr>\n",
       "<tr>\n",
       "  <th>Method:</th>             <td>Least Squares</td>  <th>  F-statistic:       </th>          <td>3.493e+05</td>\n",
       "</tr>\n",
       "<tr>\n",
       "  <th>Date:</th>             <td>Fri, 13 Nov 2020</td> <th>  Prob (F-statistic):</th>           <td>  0.00</td>  \n",
       "</tr>\n",
       "<tr>\n",
       "  <th>Time:</th>                 <td>00:44:49</td>     <th>  Log-Likelihood:    </th>          <td> -4651.6</td> \n",
       "</tr>\n",
       "<tr>\n",
       "  <th>No. Observations:</th>      <td>  2275</td>      <th>  AIC:               </th>          <td>   9325.</td> \n",
       "</tr>\n",
       "<tr>\n",
       "  <th>Df Residuals:</th>          <td>  2264</td>      <th>  BIC:               </th>          <td>   9388.</td> \n",
       "</tr>\n",
       "<tr>\n",
       "  <th>Df Model:</th>              <td>    11</td>      <th>                     </th>              <td> </td>    \n",
       "</tr>\n",
       "<tr>\n",
       "  <th>Covariance Type:</th>      <td>nonrobust</td>    <th>                     </th>              <td> </td>    \n",
       "</tr>\n",
       "</table>\n",
       "<table class=\"simpletable\">\n",
       "<tr>\n",
       "        <td></td>          <th>coef</th>     <th>std err</th>      <th>t</th>      <th>P>|t|</th>  <th>[0.025</th>    <th>0.975]</th>  \n",
       "</tr>\n",
       "<tr>\n",
       "  <th>height</th>       <td> 3122.5100</td> <td>   81.945</td> <td>   38.105</td> <td> 0.000</td> <td> 2961.814</td> <td> 3283.206</td>\n",
       "</tr>\n",
       "<tr>\n",
       "  <th>weight</th>       <td>-1598.1831</td> <td>   67.538</td> <td>  -23.664</td> <td> 0.000</td> <td>-1730.625</td> <td>-1465.741</td>\n",
       "</tr>\n",
       "<tr>\n",
       "  <th>gender</th>       <td>    7.0308</td> <td>    4.499</td> <td>    1.563</td> <td> 0.118</td> <td>   -1.792</td> <td>   15.854</td>\n",
       "</tr>\n",
       "<tr>\n",
       "  <th>bmi</th>          <td> 1674.7297</td> <td>   62.285</td> <td>   26.888</td> <td> 0.000</td> <td> 1552.587</td> <td> 1796.872</td>\n",
       "</tr>\n",
       "<tr>\n",
       "  <th>rh</th>           <td>   31.2427</td> <td>   12.772</td> <td>    2.446</td> <td> 0.015</td> <td>    6.197</td> <td>   56.288</td>\n",
       "</tr>\n",
       "<tr>\n",
       "  <th>heart_rate</th>   <td>  -36.1820</td> <td>   16.637</td> <td>   -2.175</td> <td> 0.030</td> <td>  -68.808</td> <td>   -3.556</td>\n",
       "</tr>\n",
       "<tr>\n",
       "  <th>stress_level</th> <td>   27.9472</td> <td>    4.391</td> <td>    6.365</td> <td> 0.000</td> <td>   19.337</td> <td>   36.557</td>\n",
       "</tr>\n",
       "<tr>\n",
       "  <th>skin_temp</th>    <td>  536.7229</td> <td>   77.019</td> <td>    6.969</td> <td> 0.000</td> <td>  385.687</td> <td>  687.759</td>\n",
       "</tr>\n",
       "<tr>\n",
       "  <th>TC</th>           <td>  109.1103</td> <td>   12.706</td> <td>    8.588</td> <td> 0.000</td> <td>   84.195</td> <td>  134.026</td>\n",
       "</tr>\n",
       "<tr>\n",
       "  <th>TS</th>           <td>  126.3230</td> <td>   11.188</td> <td>   11.291</td> <td> 0.000</td> <td>  104.384</td> <td>  148.263</td>\n",
       "</tr>\n",
       "<tr>\n",
       "  <th>Clo</th>          <td> -121.1119</td> <td>    6.861</td> <td>  -17.651</td> <td> 0.000</td> <td> -134.567</td> <td> -107.657</td>\n",
       "</tr>\n",
       "</table>\n",
       "<table class=\"simpletable\">\n",
       "<tr>\n",
       "  <th>Omnibus:</th>       <td> 5.900</td> <th>  Durbin-Watson:     </th> <td>   2.010</td>\n",
       "</tr>\n",
       "<tr>\n",
       "  <th>Prob(Omnibus):</th> <td> 0.052</td> <th>  Jarque-Bera (JB):  </th> <td>   5.859</td>\n",
       "</tr>\n",
       "<tr>\n",
       "  <th>Skew:</th>          <td> 0.107</td> <th>  Prob(JB):          </th> <td>  0.0534</td>\n",
       "</tr>\n",
       "<tr>\n",
       "  <th>Kurtosis:</th>      <td> 2.872</td> <th>  Cond. No.          </th> <td>    200.</td>\n",
       "</tr>\n",
       "</table><br/><br/>Notes:<br/>[1] R² is computed without centering (uncentered) since the model does not contain a constant.<br/>[2] Standard Errors assume that the covariance matrix of the errors is correctly specified."
      ],
      "text/plain": [
       "<class 'statsmodels.iolib.summary.Summary'>\n",
       "\"\"\"\n",
       "                                 OLS Regression Results                                \n",
       "=======================================================================================\n",
       "Dep. Variable:               env_temp   R-squared (uncentered):                   0.999\n",
       "Model:                            OLS   Adj. R-squared (uncentered):              0.999\n",
       "Method:                 Least Squares   F-statistic:                          3.493e+05\n",
       "Date:                Fri, 13 Nov 2020   Prob (F-statistic):                        0.00\n",
       "Time:                        00:44:49   Log-Likelihood:                         -4651.6\n",
       "No. Observations:                2275   AIC:                                      9325.\n",
       "Df Residuals:                    2264   BIC:                                      9388.\n",
       "Df Model:                          11                                                  \n",
       "Covariance Type:            nonrobust                                                  \n",
       "================================================================================\n",
       "                   coef    std err          t      P>|t|      [0.025      0.975]\n",
       "--------------------------------------------------------------------------------\n",
       "height        3122.5100     81.945     38.105      0.000    2961.814    3283.206\n",
       "weight       -1598.1831     67.538    -23.664      0.000   -1730.625   -1465.741\n",
       "gender           7.0308      4.499      1.563      0.118      -1.792      15.854\n",
       "bmi           1674.7297     62.285     26.888      0.000    1552.587    1796.872\n",
       "rh              31.2427     12.772      2.446      0.015       6.197      56.288\n",
       "heart_rate     -36.1820     16.637     -2.175      0.030     -68.808      -3.556\n",
       "stress_level    27.9472      4.391      6.365      0.000      19.337      36.557\n",
       "skin_temp      536.7229     77.019      6.969      0.000     385.687     687.759\n",
       "TC             109.1103     12.706      8.588      0.000      84.195     134.026\n",
       "TS             126.3230     11.188     11.291      0.000     104.384     148.263\n",
       "Clo           -121.1119      6.861    -17.651      0.000    -134.567    -107.657\n",
       "==============================================================================\n",
       "Omnibus:                        5.900   Durbin-Watson:                   2.010\n",
       "Prob(Omnibus):                  0.052   Jarque-Bera (JB):                5.859\n",
       "Skew:                           0.107   Prob(JB):                       0.0534\n",
       "Kurtosis:                       2.872   Cond. No.                         200.\n",
       "==============================================================================\n",
       "\n",
       "Notes:\n",
       "[1] R² is computed without centering (uncentered) since the model does not contain a constant.\n",
       "[2] Standard Errors assume that the covariance matrix of the errors is correctly specified.\n",
       "\"\"\""
      ]
     },
     "execution_count": 48,
     "metadata": {},
     "output_type": "execute_result"
    }
   ],
   "source": [
    "regr = sm.OLS(y_data_refine, X_rm)\n",
    "regr_fit = regr.fit()\n",
    "regr_fit.summary()"
   ]
  },
  {
   "cell_type": "markdown",
   "metadata": {
    "ExecuteTime": {
     "end_time": "2020-11-10T22:22:54.851894Z",
     "start_time": "2020-11-10T22:22:54.850000Z"
    }
   },
   "source": [
    "#### remove gender"
   ]
  },
  {
   "cell_type": "code",
   "execution_count": 49,
   "metadata": {
    "ExecuteTime": {
     "end_time": "2020-11-13T08:44:49.765154Z",
     "start_time": "2020-11-13T08:44:49.761833Z"
    }
   },
   "outputs": [],
   "source": [
    "X_rm = X_rm.drop(columns='gender')"
   ]
  },
  {
   "cell_type": "code",
   "execution_count": 50,
   "metadata": {
    "ExecuteTime": {
     "end_time": "2020-11-13T08:44:50.010995Z",
     "start_time": "2020-11-13T08:44:49.988597Z"
    },
    "scrolled": false
   },
   "outputs": [
    {
     "data": {
      "text/html": [
       "<table class=\"simpletable\">\n",
       "<caption>OLS Regression Results</caption>\n",
       "<tr>\n",
       "  <th>Dep. Variable:</th>        <td>env_temp</td>     <th>  R-squared (uncentered):</th>      <td>   0.999</td> \n",
       "</tr>\n",
       "<tr>\n",
       "  <th>Model:</th>                   <td>OLS</td>       <th>  Adj. R-squared (uncentered):</th> <td>   0.999</td> \n",
       "</tr>\n",
       "<tr>\n",
       "  <th>Method:</th>             <td>Least Squares</td>  <th>  F-statistic:       </th>          <td>3.840e+05</td>\n",
       "</tr>\n",
       "<tr>\n",
       "  <th>Date:</th>             <td>Fri, 13 Nov 2020</td> <th>  Prob (F-statistic):</th>           <td>  0.00</td>  \n",
       "</tr>\n",
       "<tr>\n",
       "  <th>Time:</th>                 <td>00:44:49</td>     <th>  Log-Likelihood:    </th>          <td> -4652.8</td> \n",
       "</tr>\n",
       "<tr>\n",
       "  <th>No. Observations:</th>      <td>  2275</td>      <th>  AIC:               </th>          <td>   9326.</td> \n",
       "</tr>\n",
       "<tr>\n",
       "  <th>Df Residuals:</th>          <td>  2265</td>      <th>  BIC:               </th>          <td>   9383.</td> \n",
       "</tr>\n",
       "<tr>\n",
       "  <th>Df Model:</th>              <td>    10</td>      <th>                     </th>              <td> </td>    \n",
       "</tr>\n",
       "<tr>\n",
       "  <th>Covariance Type:</th>      <td>nonrobust</td>    <th>                     </th>              <td> </td>    \n",
       "</tr>\n",
       "</table>\n",
       "<table class=\"simpletable\">\n",
       "<tr>\n",
       "        <td></td>          <th>coef</th>     <th>std err</th>      <th>t</th>      <th>P>|t|</th>  <th>[0.025</th>    <th>0.975]</th>  \n",
       "</tr>\n",
       "<tr>\n",
       "  <th>height</th>       <td> 3140.7663</td> <td>   81.134</td> <td>   38.711</td> <td> 0.000</td> <td> 2981.662</td> <td> 3299.871</td>\n",
       "</tr>\n",
       "<tr>\n",
       "  <th>weight</th>       <td>-1678.7101</td> <td>   43.668</td> <td>  -38.442</td> <td> 0.000</td> <td>-1764.344</td> <td>-1593.076</td>\n",
       "</tr>\n",
       "<tr>\n",
       "  <th>bmi</th>          <td> 1742.2392</td> <td>   44.881</td> <td>   38.819</td> <td> 0.000</td> <td> 1654.227</td> <td> 1830.251</td>\n",
       "</tr>\n",
       "<tr>\n",
       "  <th>rh</th>           <td>   32.8291</td> <td>   12.735</td> <td>    2.578</td> <td> 0.010</td> <td>    7.855</td> <td>   57.803</td>\n",
       "</tr>\n",
       "<tr>\n",
       "  <th>heart_rate</th>   <td>  -40.8119</td> <td>   16.376</td> <td>   -2.492</td> <td> 0.013</td> <td>  -72.926</td> <td>   -8.698</td>\n",
       "</tr>\n",
       "<tr>\n",
       "  <th>stress_level</th> <td>   28.0364</td> <td>    4.392</td> <td>    6.384</td> <td> 0.000</td> <td>   19.424</td> <td>   36.648</td>\n",
       "</tr>\n",
       "<tr>\n",
       "  <th>skin_temp</th>    <td>  529.2686</td> <td>   76.896</td> <td>    6.883</td> <td> 0.000</td> <td>  378.474</td> <td>  680.063</td>\n",
       "</tr>\n",
       "<tr>\n",
       "  <th>TC</th>           <td>  111.1921</td> <td>   12.639</td> <td>    8.797</td> <td> 0.000</td> <td>   86.406</td> <td>  135.978</td>\n",
       "</tr>\n",
       "<tr>\n",
       "  <th>TS</th>           <td>  126.8577</td> <td>   11.186</td> <td>   11.341</td> <td> 0.000</td> <td>  104.922</td> <td>  148.794</td>\n",
       "</tr>\n",
       "<tr>\n",
       "  <th>Clo</th>          <td> -120.1319</td> <td>    6.835</td> <td>  -17.577</td> <td> 0.000</td> <td> -133.535</td> <td> -106.729</td>\n",
       "</tr>\n",
       "</table>\n",
       "<table class=\"simpletable\">\n",
       "<tr>\n",
       "  <th>Omnibus:</th>       <td> 7.733</td> <th>  Durbin-Watson:     </th> <td>   2.011</td>\n",
       "</tr>\n",
       "<tr>\n",
       "  <th>Prob(Omnibus):</th> <td> 0.021</td> <th>  Jarque-Bera (JB):  </th> <td>   7.746</td>\n",
       "</tr>\n",
       "<tr>\n",
       "  <th>Skew:</th>          <td> 0.131</td> <th>  Prob(JB):          </th> <td>  0.0208</td>\n",
       "</tr>\n",
       "<tr>\n",
       "  <th>Kurtosis:</th>      <td> 2.883</td> <th>  Cond. No.          </th> <td>    187.</td>\n",
       "</tr>\n",
       "</table><br/><br/>Notes:<br/>[1] R² is computed without centering (uncentered) since the model does not contain a constant.<br/>[2] Standard Errors assume that the covariance matrix of the errors is correctly specified."
      ],
      "text/plain": [
       "<class 'statsmodels.iolib.summary.Summary'>\n",
       "\"\"\"\n",
       "                                 OLS Regression Results                                \n",
       "=======================================================================================\n",
       "Dep. Variable:               env_temp   R-squared (uncentered):                   0.999\n",
       "Model:                            OLS   Adj. R-squared (uncentered):              0.999\n",
       "Method:                 Least Squares   F-statistic:                          3.840e+05\n",
       "Date:                Fri, 13 Nov 2020   Prob (F-statistic):                        0.00\n",
       "Time:                        00:44:49   Log-Likelihood:                         -4652.8\n",
       "No. Observations:                2275   AIC:                                      9326.\n",
       "Df Residuals:                    2265   BIC:                                      9383.\n",
       "Df Model:                          10                                                  \n",
       "Covariance Type:            nonrobust                                                  \n",
       "================================================================================\n",
       "                   coef    std err          t      P>|t|      [0.025      0.975]\n",
       "--------------------------------------------------------------------------------\n",
       "height        3140.7663     81.134     38.711      0.000    2981.662    3299.871\n",
       "weight       -1678.7101     43.668    -38.442      0.000   -1764.344   -1593.076\n",
       "bmi           1742.2392     44.881     38.819      0.000    1654.227    1830.251\n",
       "rh              32.8291     12.735      2.578      0.010       7.855      57.803\n",
       "heart_rate     -40.8119     16.376     -2.492      0.013     -72.926      -8.698\n",
       "stress_level    28.0364      4.392      6.384      0.000      19.424      36.648\n",
       "skin_temp      529.2686     76.896      6.883      0.000     378.474     680.063\n",
       "TC             111.1921     12.639      8.797      0.000      86.406     135.978\n",
       "TS             126.8577     11.186     11.341      0.000     104.922     148.794\n",
       "Clo           -120.1319      6.835    -17.577      0.000    -133.535    -106.729\n",
       "==============================================================================\n",
       "Omnibus:                        7.733   Durbin-Watson:                   2.011\n",
       "Prob(Omnibus):                  0.021   Jarque-Bera (JB):                7.746\n",
       "Skew:                           0.131   Prob(JB):                       0.0208\n",
       "Kurtosis:                       2.883   Cond. No.                         187.\n",
       "==============================================================================\n",
       "\n",
       "Notes:\n",
       "[1] R² is computed without centering (uncentered) since the model does not contain a constant.\n",
       "[2] Standard Errors assume that the covariance matrix of the errors is correctly specified.\n",
       "\"\"\""
      ]
     },
     "execution_count": 50,
     "metadata": {},
     "output_type": "execute_result"
    }
   ],
   "source": [
    "regr = sm.OLS(y_data_refine, X_rm)\n",
    "regr_fit = regr.fit()\n",
    "regr_fit.summary()"
   ]
  },
  {
   "cell_type": "code",
   "execution_count": 51,
   "metadata": {
    "ExecuteTime": {
     "end_time": "2020-11-13T08:44:50.228591Z",
     "start_time": "2020-11-13T08:44:50.226341Z"
    }
   },
   "outputs": [],
   "source": [
    "X_rm = X_data_refine"
   ]
  },
  {
   "cell_type": "markdown",
   "metadata": {},
   "source": [
    "start to remove features"
   ]
  },
  {
   "cell_type": "markdown",
   "metadata": {},
   "source": [
    "### save selected data (not normalized)"
   ]
  },
  {
   "cell_type": "code",
   "execution_count": 52,
   "metadata": {
    "ExecuteTime": {
     "end_time": "2020-11-13T08:44:50.953834Z",
     "start_time": "2020-11-13T08:44:50.950197Z"
    }
   },
   "outputs": [],
   "source": [
    "X_selected = X_data_refine_not_norm.drop(columns=['eda', 'heart_rate', 'age', 'Act'])\n",
    "y_selected = y_data_refine_not_norm"
   ]
  },
  {
   "cell_type": "code",
   "execution_count": 53,
   "metadata": {
    "ExecuteTime": {
     "end_time": "2020-11-13T08:44:51.176285Z",
     "start_time": "2020-11-13T08:44:51.172350Z"
    }
   },
   "outputs": [],
   "source": [
    "df_selected_not_norm = pd.concat([X_selected, y_selected], axis=1)"
   ]
  },
  {
   "cell_type": "code",
   "execution_count": 54,
   "metadata": {
    "ExecuteTime": {
     "end_time": "2020-11-13T08:44:51.447470Z",
     "start_time": "2020-11-13T08:44:51.411999Z"
    }
   },
   "outputs": [],
   "source": [
    "df_selected_not_norm.to_csv('./processed_data/train_selected_not_norm.csv', index=False)"
   ]
  },
  {
   "cell_type": "code",
   "execution_count": null,
   "metadata": {},
   "outputs": [],
   "source": []
  },
  {
   "cell_type": "code",
   "execution_count": null,
   "metadata": {},
   "outputs": [],
   "source": []
  },
  {
   "cell_type": "code",
   "execution_count": null,
   "metadata": {},
   "outputs": [],
   "source": []
  }
 ],
 "metadata": {
  "kernelspec": {
   "display_name": "thermal38",
   "language": "python",
   "name": "thermal38"
  },
  "language_info": {
   "codemirror_mode": {
    "name": "ipython",
    "version": 3
   },
   "file_extension": ".py",
   "mimetype": "text/x-python",
   "name": "python",
   "nbconvert_exporter": "python",
   "pygments_lexer": "ipython3",
   "version": "3.8.2"
  },
  "toc": {
   "base_numbering": 1,
   "nav_menu": {},
   "number_sections": true,
   "sideBar": true,
   "skip_h1_title": false,
   "title_cell": "Table of Contents",
   "title_sidebar": "Contents",
   "toc_cell": false,
   "toc_position": {
    "height": "calc(100% - 180px)",
    "left": "10px",
    "top": "150px",
    "width": "242px"
   },
   "toc_section_display": true,
   "toc_window_display": true
  }
 },
 "nbformat": 4,
 "nbformat_minor": 4
}
