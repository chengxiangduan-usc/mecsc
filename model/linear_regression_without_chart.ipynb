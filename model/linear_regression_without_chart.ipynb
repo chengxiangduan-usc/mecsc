{
 "cells": [
  {
   "cell_type": "markdown",
   "metadata": {},
   "source": [
    "- in order to get analyzed but not normalized dataset.\n",
    "- delete chart code to decreate running time"
   ]
  },
  {
   "cell_type": "code",
   "execution_count": 1,
   "metadata": {
    "ExecuteTime": {
     "end_time": "2020-11-12T21:24:07.922125Z",
     "start_time": "2020-11-12T21:24:06.472978Z"
    }
   },
   "outputs": [],
   "source": [
    "%matplotlib inline\n",
    "import pandas as pd\n",
    "import numpy as np\n",
    "\n",
    "import matplotlib.pyplot as plt\n",
    "import seaborn as sns"
   ]
  },
  {
   "cell_type": "code",
   "execution_count": 2,
   "metadata": {
    "ExecuteTime": {
     "end_time": "2020-11-12T21:24:08.655898Z",
     "start_time": "2020-11-12T21:24:07.924570Z"
    }
   },
   "outputs": [],
   "source": [
    "from sklearn.preprocessing import normalize\n",
    "from sklearn.impute import SimpleImputer\n",
    "from sklearn import linear_model\n",
    "from sklearn.model_selection import cross_val_score\n",
    "from sklearn.metrics import mean_squared_error, r2_score\n",
    "from sklearn.linear_model import LinearRegression\n",
    "\n",
    "import statsmodels.api as sm\n",
    "\n",
    "import scipy"
   ]
  },
  {
   "cell_type": "markdown",
   "metadata": {},
   "source": [
    "## load data"
   ]
  },
  {
   "cell_type": "code",
   "execution_count": 3,
   "metadata": {
    "ExecuteTime": {
     "end_time": "2020-11-12T21:24:08.661329Z",
     "start_time": "2020-11-12T21:24:08.658340Z"
    }
   },
   "outputs": [],
   "source": [
    "plt.rcParams[\"figure.figsize\"] = (15, 10)"
   ]
  },
  {
   "cell_type": "code",
   "execution_count": 4,
   "metadata": {
    "ExecuteTime": {
     "end_time": "2020-11-12T21:24:08.677178Z",
     "start_time": "2020-11-12T21:24:08.663560Z"
    }
   },
   "outputs": [],
   "source": [
    "pth_data = '../data/train.csv'\n",
    "df_origin = pd.read_csv(pth_data)"
   ]
  },
  {
   "cell_type": "code",
   "execution_count": 5,
   "metadata": {
    "ExecuteTime": {
     "end_time": "2020-11-12T21:24:08.710317Z",
     "start_time": "2020-11-12T21:24:08.679808Z"
    },
    "scrolled": false
   },
   "outputs": [
    {
     "data": {
      "text/html": [
       "<div>\n",
       "<style scoped>\n",
       "    .dataframe tbody tr th:only-of-type {\n",
       "        vertical-align: middle;\n",
       "    }\n",
       "\n",
       "    .dataframe tbody tr th {\n",
       "        vertical-align: top;\n",
       "    }\n",
       "\n",
       "    .dataframe thead th {\n",
       "        text-align: right;\n",
       "    }\n",
       "</style>\n",
       "<table border=\"1\" class=\"dataframe\">\n",
       "  <thead>\n",
       "    <tr style=\"text-align: right;\">\n",
       "      <th></th>\n",
       "      <th>time</th>\n",
       "      <th>height</th>\n",
       "      <th>weight</th>\n",
       "      <th>gender</th>\n",
       "      <th>bmi</th>\n",
       "      <th>age</th>\n",
       "      <th>env_temp</th>\n",
       "      <th>rh</th>\n",
       "      <th>heart_rate</th>\n",
       "      <th>stress_level</th>\n",
       "      <th>skin_temp</th>\n",
       "      <th>eda</th>\n",
       "      <th>TC</th>\n",
       "      <th>TS</th>\n",
       "      <th>Clo</th>\n",
       "      <th>Act</th>\n",
       "    </tr>\n",
       "  </thead>\n",
       "  <tbody>\n",
       "    <tr>\n",
       "      <th>0</th>\n",
       "      <td>2020-10-19 14:00:00</td>\n",
       "      <td>1.64</td>\n",
       "      <td>54.0</td>\n",
       "      <td>1</td>\n",
       "      <td>20.077335</td>\n",
       "      <td>24</td>\n",
       "      <td>77.990</td>\n",
       "      <td>62.122</td>\n",
       "      <td>NaN</td>\n",
       "      <td>17.0</td>\n",
       "      <td>NaN</td>\n",
       "      <td>NaN</td>\n",
       "      <td>4.0</td>\n",
       "      <td>4.0</td>\n",
       "      <td>0.74</td>\n",
       "      <td>1.0</td>\n",
       "    </tr>\n",
       "    <tr>\n",
       "      <th>1</th>\n",
       "      <td>2020-10-19 14:30:00</td>\n",
       "      <td>1.64</td>\n",
       "      <td>54.0</td>\n",
       "      <td>1</td>\n",
       "      <td>20.077335</td>\n",
       "      <td>24</td>\n",
       "      <td>78.208</td>\n",
       "      <td>62.321</td>\n",
       "      <td>NaN</td>\n",
       "      <td>60.0</td>\n",
       "      <td>30.748</td>\n",
       "      <td>0.926320</td>\n",
       "      <td>4.0</td>\n",
       "      <td>4.0</td>\n",
       "      <td>0.74</td>\n",
       "      <td>1.1</td>\n",
       "    </tr>\n",
       "    <tr>\n",
       "      <th>2</th>\n",
       "      <td>2020-10-19 15:00:00</td>\n",
       "      <td>1.64</td>\n",
       "      <td>54.0</td>\n",
       "      <td>1</td>\n",
       "      <td>20.077335</td>\n",
       "      <td>24</td>\n",
       "      <td>78.514</td>\n",
       "      <td>62.255</td>\n",
       "      <td>NaN</td>\n",
       "      <td>46.0</td>\n",
       "      <td>31.327</td>\n",
       "      <td>1.232405</td>\n",
       "      <td>4.0</td>\n",
       "      <td>4.0</td>\n",
       "      <td>0.74</td>\n",
       "      <td>1.1</td>\n",
       "    </tr>\n",
       "    <tr>\n",
       "      <th>3</th>\n",
       "      <td>2020-10-19 15:30:00</td>\n",
       "      <td>1.64</td>\n",
       "      <td>54.0</td>\n",
       "      <td>1</td>\n",
       "      <td>20.077335</td>\n",
       "      <td>24</td>\n",
       "      <td>79.041</td>\n",
       "      <td>61.491</td>\n",
       "      <td>NaN</td>\n",
       "      <td>91.0</td>\n",
       "      <td>31.458</td>\n",
       "      <td>0.375005</td>\n",
       "      <td>4.0</td>\n",
       "      <td>4.0</td>\n",
       "      <td>0.74</td>\n",
       "      <td>1.0</td>\n",
       "    </tr>\n",
       "    <tr>\n",
       "      <th>4</th>\n",
       "      <td>2020-10-19 16:00:00</td>\n",
       "      <td>1.64</td>\n",
       "      <td>54.0</td>\n",
       "      <td>1</td>\n",
       "      <td>20.077335</td>\n",
       "      <td>24</td>\n",
       "      <td>79.435</td>\n",
       "      <td>61.071</td>\n",
       "      <td>NaN</td>\n",
       "      <td>71.0</td>\n",
       "      <td>32.085</td>\n",
       "      <td>0.081127</td>\n",
       "      <td>4.0</td>\n",
       "      <td>4.0</td>\n",
       "      <td>0.74</td>\n",
       "      <td>1.0</td>\n",
       "    </tr>\n",
       "    <tr>\n",
       "      <th>...</th>\n",
       "      <td>...</td>\n",
       "      <td>...</td>\n",
       "      <td>...</td>\n",
       "      <td>...</td>\n",
       "      <td>...</td>\n",
       "      <td>...</td>\n",
       "      <td>...</td>\n",
       "      <td>...</td>\n",
       "      <td>...</td>\n",
       "      <td>...</td>\n",
       "      <td>...</td>\n",
       "      <td>...</td>\n",
       "      <td>...</td>\n",
       "      <td>...</td>\n",
       "      <td>...</td>\n",
       "      <td>...</td>\n",
       "    </tr>\n",
       "    <tr>\n",
       "      <th>2791</th>\n",
       "      <td>2020-10-28 21:30:00</td>\n",
       "      <td>1.63</td>\n",
       "      <td>50.0</td>\n",
       "      <td>1</td>\n",
       "      <td>18.818924</td>\n",
       "      <td>23</td>\n",
       "      <td>76.528</td>\n",
       "      <td>40.530</td>\n",
       "      <td>73.0</td>\n",
       "      <td>22.0</td>\n",
       "      <td>31.850</td>\n",
       "      <td>0.114876</td>\n",
       "      <td>2.0</td>\n",
       "      <td>3.0</td>\n",
       "      <td>0.50</td>\n",
       "      <td>1.0</td>\n",
       "    </tr>\n",
       "    <tr>\n",
       "      <th>2792</th>\n",
       "      <td>2020-10-28 22:00:00</td>\n",
       "      <td>1.63</td>\n",
       "      <td>50.0</td>\n",
       "      <td>1</td>\n",
       "      <td>18.818924</td>\n",
       "      <td>23</td>\n",
       "      <td>76.876</td>\n",
       "      <td>39.890</td>\n",
       "      <td>NaN</td>\n",
       "      <td>10.0</td>\n",
       "      <td>32.215</td>\n",
       "      <td>0.146231</td>\n",
       "      <td>2.0</td>\n",
       "      <td>3.0</td>\n",
       "      <td>0.50</td>\n",
       "      <td>1.0</td>\n",
       "    </tr>\n",
       "    <tr>\n",
       "      <th>2793</th>\n",
       "      <td>2020-10-28 22:30:00</td>\n",
       "      <td>1.63</td>\n",
       "      <td>50.0</td>\n",
       "      <td>1</td>\n",
       "      <td>18.818924</td>\n",
       "      <td>23</td>\n",
       "      <td>77.050</td>\n",
       "      <td>39.710</td>\n",
       "      <td>NaN</td>\n",
       "      <td>5.0</td>\n",
       "      <td>32.656</td>\n",
       "      <td>0.153838</td>\n",
       "      <td>2.0</td>\n",
       "      <td>3.0</td>\n",
       "      <td>0.50</td>\n",
       "      <td>1.0</td>\n",
       "    </tr>\n",
       "    <tr>\n",
       "      <th>2794</th>\n",
       "      <td>2020-10-28 23:00:00</td>\n",
       "      <td>1.63</td>\n",
       "      <td>50.0</td>\n",
       "      <td>1</td>\n",
       "      <td>18.818924</td>\n",
       "      <td>23</td>\n",
       "      <td>76.703</td>\n",
       "      <td>39.980</td>\n",
       "      <td>NaN</td>\n",
       "      <td>0.0</td>\n",
       "      <td>31.902</td>\n",
       "      <td>0.160930</td>\n",
       "      <td>2.0</td>\n",
       "      <td>3.0</td>\n",
       "      <td>0.50</td>\n",
       "      <td>1.0</td>\n",
       "    </tr>\n",
       "    <tr>\n",
       "      <th>2795</th>\n",
       "      <td>2020-10-28 23:30:00</td>\n",
       "      <td>1.63</td>\n",
       "      <td>50.0</td>\n",
       "      <td>1</td>\n",
       "      <td>18.818924</td>\n",
       "      <td>23</td>\n",
       "      <td>76.354</td>\n",
       "      <td>41.050</td>\n",
       "      <td>NaN</td>\n",
       "      <td>NaN</td>\n",
       "      <td>30.563</td>\n",
       "      <td>0.281910</td>\n",
       "      <td>2.0</td>\n",
       "      <td>3.0</td>\n",
       "      <td>0.50</td>\n",
       "      <td>1.0</td>\n",
       "    </tr>\n",
       "  </tbody>\n",
       "</table>\n",
       "<p>2796 rows × 16 columns</p>\n",
       "</div>"
      ],
      "text/plain": [
       "                     time  height  weight  gender        bmi  age  env_temp  \\\n",
       "0     2020-10-19 14:00:00    1.64    54.0       1  20.077335   24    77.990   \n",
       "1     2020-10-19 14:30:00    1.64    54.0       1  20.077335   24    78.208   \n",
       "2     2020-10-19 15:00:00    1.64    54.0       1  20.077335   24    78.514   \n",
       "3     2020-10-19 15:30:00    1.64    54.0       1  20.077335   24    79.041   \n",
       "4     2020-10-19 16:00:00    1.64    54.0       1  20.077335   24    79.435   \n",
       "...                   ...     ...     ...     ...        ...  ...       ...   \n",
       "2791  2020-10-28 21:30:00    1.63    50.0       1  18.818924   23    76.528   \n",
       "2792  2020-10-28 22:00:00    1.63    50.0       1  18.818924   23    76.876   \n",
       "2793  2020-10-28 22:30:00    1.63    50.0       1  18.818924   23    77.050   \n",
       "2794  2020-10-28 23:00:00    1.63    50.0       1  18.818924   23    76.703   \n",
       "2795  2020-10-28 23:30:00    1.63    50.0       1  18.818924   23    76.354   \n",
       "\n",
       "          rh  heart_rate  stress_level  skin_temp       eda   TC   TS   Clo  \\\n",
       "0     62.122         NaN          17.0        NaN       NaN  4.0  4.0  0.74   \n",
       "1     62.321         NaN          60.0     30.748  0.926320  4.0  4.0  0.74   \n",
       "2     62.255         NaN          46.0     31.327  1.232405  4.0  4.0  0.74   \n",
       "3     61.491         NaN          91.0     31.458  0.375005  4.0  4.0  0.74   \n",
       "4     61.071         NaN          71.0     32.085  0.081127  4.0  4.0  0.74   \n",
       "...      ...         ...           ...        ...       ...  ...  ...   ...   \n",
       "2791  40.530        73.0          22.0     31.850  0.114876  2.0  3.0  0.50   \n",
       "2792  39.890         NaN          10.0     32.215  0.146231  2.0  3.0  0.50   \n",
       "2793  39.710         NaN           5.0     32.656  0.153838  2.0  3.0  0.50   \n",
       "2794  39.980         NaN           0.0     31.902  0.160930  2.0  3.0  0.50   \n",
       "2795  41.050         NaN           NaN     30.563  0.281910  2.0  3.0  0.50   \n",
       "\n",
       "      Act  \n",
       "0     1.0  \n",
       "1     1.1  \n",
       "2     1.1  \n",
       "3     1.0  \n",
       "4     1.0  \n",
       "...   ...  \n",
       "2791  1.0  \n",
       "2792  1.0  \n",
       "2793  1.0  \n",
       "2794  1.0  \n",
       "2795  1.0  \n",
       "\n",
       "[2796 rows x 16 columns]"
      ]
     },
     "execution_count": 5,
     "metadata": {},
     "output_type": "execute_result"
    }
   ],
   "source": [
    "df_origin"
   ]
  },
  {
   "cell_type": "code",
   "execution_count": 6,
   "metadata": {
    "ExecuteTime": {
     "end_time": "2020-11-12T21:24:08.723782Z",
     "start_time": "2020-11-12T21:24:08.712713Z"
    }
   },
   "outputs": [
    {
     "name": "stdout",
     "output_type": "stream",
     "text": [
      "<class 'pandas.core.frame.DataFrame'>\n",
      "RangeIndex: 2796 entries, 0 to 2795\n",
      "Data columns (total 16 columns):\n",
      " #   Column        Non-Null Count  Dtype  \n",
      "---  ------        --------------  -----  \n",
      " 0   time          2796 non-null   object \n",
      " 1   height        2796 non-null   float64\n",
      " 2   weight        2796 non-null   float64\n",
      " 3   gender        2796 non-null   int64  \n",
      " 4   bmi           2796 non-null   float64\n",
      " 5   age           2796 non-null   int64  \n",
      " 6   env_temp      2796 non-null   float64\n",
      " 7   rh            2796 non-null   float64\n",
      " 8   heart_rate    1669 non-null   float64\n",
      " 9   stress_level  1848 non-null   float64\n",
      " 10  skin_temp     1874 non-null   float64\n",
      " 11  eda           2396 non-null   float64\n",
      " 12  TC            2717 non-null   float64\n",
      " 13  TS            2712 non-null   float64\n",
      " 14  Clo           2737 non-null   float64\n",
      " 15  Act           2718 non-null   float64\n",
      "dtypes: float64(13), int64(2), object(1)\n",
      "memory usage: 349.6+ KB\n"
     ]
    }
   ],
   "source": [
    "df_origin.info()"
   ]
  },
  {
   "cell_type": "markdown",
   "metadata": {},
   "source": [
    "## data process"
   ]
  },
  {
   "cell_type": "markdown",
   "metadata": {},
   "source": [
    "### choose data: TS >= 3.0"
   ]
  },
  {
   "cell_type": "code",
   "execution_count": 7,
   "metadata": {
    "ExecuteTime": {
     "end_time": "2020-11-12T21:24:08.731176Z",
     "start_time": "2020-11-12T21:24:08.725601Z"
    },
    "scrolled": true
   },
   "outputs": [
    {
     "data": {
      "text/plain": [
       "(84, 16)"
      ]
     },
     "execution_count": 7,
     "metadata": {},
     "output_type": "execute_result"
    }
   ],
   "source": [
    "df_origin[df_origin[['TS']].isna().TS].shape\n",
    "# some na in clo, means unrecorded data"
   ]
  },
  {
   "cell_type": "code",
   "execution_count": 8,
   "metadata": {
    "ExecuteTime": {
     "end_time": "2020-11-12T21:24:08.738962Z",
     "start_time": "2020-11-12T21:24:08.735178Z"
    }
   },
   "outputs": [],
   "source": [
    "df_record = df_origin[df_origin['TS'].isna() ^ True]"
   ]
  },
  {
   "cell_type": "code",
   "execution_count": 9,
   "metadata": {
    "ExecuteTime": {
     "end_time": "2020-11-12T21:24:08.744877Z",
     "start_time": "2020-11-12T21:24:08.741625Z"
    }
   },
   "outputs": [
    {
     "data": {
      "text/plain": [
       "(2712, 16)"
      ]
     },
     "execution_count": 9,
     "metadata": {},
     "output_type": "execute_result"
    }
   ],
   "source": [
    "df_record.shape"
   ]
  },
  {
   "cell_type": "code",
   "execution_count": 10,
   "metadata": {
    "ExecuteTime": {
     "end_time": "2020-11-12T21:24:08.751599Z",
     "start_time": "2020-11-12T21:24:08.746483Z"
    }
   },
   "outputs": [],
   "source": [
    "df_comfort = df_record[df_record['TC'] >= 3.0]"
   ]
  },
  {
   "cell_type": "markdown",
   "metadata": {},
   "source": [
    "### shuffle"
   ]
  },
  {
   "cell_type": "code",
   "execution_count": 11,
   "metadata": {
    "ExecuteTime": {
     "end_time": "2020-11-12T21:24:08.757606Z",
     "start_time": "2020-11-12T21:24:08.753415Z"
    }
   },
   "outputs": [],
   "source": [
    "df_shuffle = df_comfort.sample(frac=1, random_state=1208).reset_index(drop=True)"
   ]
  },
  {
   "cell_type": "code",
   "execution_count": 12,
   "metadata": {
    "ExecuteTime": {
     "end_time": "2020-11-12T21:24:08.762686Z",
     "start_time": "2020-11-12T21:24:08.759149Z"
    }
   },
   "outputs": [],
   "source": [
    "X_data = df_shuffle[['height', 'weight', 'gender', 'bmi', 'age', 'rh', \\\n",
    "                      'heart_rate', 'stress_level', 'skin_temp', 'eda', \\\n",
    "                      'TC', 'TS', 'Clo', 'Act']]"
   ]
  },
  {
   "cell_type": "code",
   "execution_count": 13,
   "metadata": {
    "ExecuteTime": {
     "end_time": "2020-11-12T21:24:08.766397Z",
     "start_time": "2020-11-12T21:24:08.764505Z"
    }
   },
   "outputs": [],
   "source": [
    "X_cols_name = X_data.columns"
   ]
  },
  {
   "cell_type": "code",
   "execution_count": 14,
   "metadata": {
    "ExecuteTime": {
     "end_time": "2020-11-12T21:24:08.770429Z",
     "start_time": "2020-11-12T21:24:08.768115Z"
    }
   },
   "outputs": [],
   "source": [
    "y_data = df_shuffle['env_temp']"
   ]
  },
  {
   "cell_type": "markdown",
   "metadata": {},
   "source": [
    "### imputation"
   ]
  },
  {
   "cell_type": "code",
   "execution_count": 15,
   "metadata": {
    "ExecuteTime": {
     "end_time": "2020-11-12T21:24:08.784298Z",
     "start_time": "2020-11-12T21:24:08.772221Z"
    },
    "scrolled": true
   },
   "outputs": [
    {
     "data": {
      "text/html": [
       "<div>\n",
       "<style scoped>\n",
       "    .dataframe tbody tr th:only-of-type {\n",
       "        vertical-align: middle;\n",
       "    }\n",
       "\n",
       "    .dataframe tbody tr th {\n",
       "        vertical-align: top;\n",
       "    }\n",
       "\n",
       "    .dataframe thead th {\n",
       "        text-align: right;\n",
       "    }\n",
       "</style>\n",
       "<table border=\"1\" class=\"dataframe\">\n",
       "  <thead>\n",
       "    <tr style=\"text-align: right;\">\n",
       "      <th></th>\n",
       "      <th>time</th>\n",
       "      <th>height</th>\n",
       "      <th>weight</th>\n",
       "      <th>gender</th>\n",
       "      <th>bmi</th>\n",
       "      <th>age</th>\n",
       "      <th>env_temp</th>\n",
       "      <th>rh</th>\n",
       "      <th>heart_rate</th>\n",
       "      <th>stress_level</th>\n",
       "      <th>skin_temp</th>\n",
       "      <th>eda</th>\n",
       "      <th>TC</th>\n",
       "      <th>TS</th>\n",
       "      <th>Clo</th>\n",
       "      <th>Act</th>\n",
       "    </tr>\n",
       "  </thead>\n",
       "  <tbody>\n",
       "  </tbody>\n",
       "</table>\n",
       "</div>"
      ],
      "text/plain": [
       "Empty DataFrame\n",
       "Columns: [time, height, weight, gender, bmi, age, env_temp, rh, heart_rate, stress_level, skin_temp, eda, TC, TS, Clo, Act]\n",
       "Index: []"
      ]
     },
     "execution_count": 15,
     "metadata": {},
     "output_type": "execute_result"
    }
   ],
   "source": [
    "df_record[df_record[['env_temp']].isna().env_temp]\n",
    "# no na in env_temp"
   ]
  },
  {
   "cell_type": "code",
   "execution_count": 16,
   "metadata": {
    "ExecuteTime": {
     "end_time": "2020-11-12T21:24:08.789330Z",
     "start_time": "2020-11-12T21:24:08.786627Z"
    }
   },
   "outputs": [],
   "source": [
    "imp = SimpleImputer(strategy='mean')"
   ]
  },
  {
   "cell_type": "code",
   "execution_count": 17,
   "metadata": {
    "ExecuteTime": {
     "end_time": "2020-11-12T21:24:08.799031Z",
     "start_time": "2020-11-12T21:24:08.791268Z"
    }
   },
   "outputs": [],
   "source": [
    "X_data = pd.DataFrame(imp.fit_transform(X_data), columns=X_cols_name)"
   ]
  },
  {
   "cell_type": "code",
   "execution_count": 18,
   "metadata": {
    "ExecuteTime": {
     "end_time": "2020-11-12T21:24:08.808447Z",
     "start_time": "2020-11-12T21:24:08.801175Z"
    }
   },
   "outputs": [],
   "source": [
    "X_data_not_norm = pd.DataFrame(imp.fit_transform(X_data), columns=X_cols_name)"
   ]
  },
  {
   "cell_type": "markdown",
   "metadata": {},
   "source": [
    "### normalize"
   ]
  },
  {
   "cell_type": "code",
   "execution_count": 19,
   "metadata": {
    "ExecuteTime": {
     "end_time": "2020-11-12T21:24:08.814482Z",
     "start_time": "2020-11-12T21:24:08.810153Z"
    }
   },
   "outputs": [],
   "source": [
    "X_array_normalize, X_norm = normalize(X_data, axis=0, return_norm=True)"
   ]
  },
  {
   "cell_type": "code",
   "execution_count": 20,
   "metadata": {
    "ExecuteTime": {
     "end_time": "2020-11-12T21:24:08.818745Z",
     "start_time": "2020-11-12T21:24:08.816131Z"
    }
   },
   "outputs": [],
   "source": [
    "X_data = pd.DataFrame(X_array_normalize, columns=X_cols_name)"
   ]
  },
  {
   "cell_type": "code",
   "execution_count": 21,
   "metadata": {
    "ExecuteTime": {
     "end_time": "2020-11-12T21:24:08.836889Z",
     "start_time": "2020-11-12T21:24:08.820669Z"
    }
   },
   "outputs": [
    {
     "data": {
      "text/html": [
       "<div>\n",
       "<style scoped>\n",
       "    .dataframe tbody tr th:only-of-type {\n",
       "        vertical-align: middle;\n",
       "    }\n",
       "\n",
       "    .dataframe tbody tr th {\n",
       "        vertical-align: top;\n",
       "    }\n",
       "\n",
       "    .dataframe thead th {\n",
       "        text-align: right;\n",
       "    }\n",
       "</style>\n",
       "<table border=\"1\" class=\"dataframe\">\n",
       "  <thead>\n",
       "    <tr style=\"text-align: right;\">\n",
       "      <th></th>\n",
       "      <th>height</th>\n",
       "      <th>weight</th>\n",
       "      <th>gender</th>\n",
       "      <th>bmi</th>\n",
       "      <th>age</th>\n",
       "      <th>rh</th>\n",
       "      <th>heart_rate</th>\n",
       "      <th>stress_level</th>\n",
       "      <th>skin_temp</th>\n",
       "      <th>eda</th>\n",
       "      <th>TC</th>\n",
       "      <th>TS</th>\n",
       "      <th>Clo</th>\n",
       "      <th>Act</th>\n",
       "    </tr>\n",
       "  </thead>\n",
       "  <tbody>\n",
       "    <tr>\n",
       "      <th>0</th>\n",
       "      <td>0.018674</td>\n",
       "      <td>0.016305</td>\n",
       "      <td>0.019889</td>\n",
       "      <td>0.018573</td>\n",
       "      <td>0.019347</td>\n",
       "      <td>0.024127</td>\n",
       "      <td>0.020524</td>\n",
       "      <td>0.010107</td>\n",
       "      <td>0.019882</td>\n",
       "      <td>0.000866</td>\n",
       "      <td>0.020182</td>\n",
       "      <td>0.018018</td>\n",
       "      <td>0.022576</td>\n",
       "      <td>0.018588</td>\n",
       "    </tr>\n",
       "    <tr>\n",
       "      <th>1</th>\n",
       "      <td>0.020659</td>\n",
       "      <td>0.018013</td>\n",
       "      <td>-0.019889</td>\n",
       "      <td>0.016766</td>\n",
       "      <td>0.018541</td>\n",
       "      <td>0.018656</td>\n",
       "      <td>0.019535</td>\n",
       "      <td>0.001037</td>\n",
       "      <td>0.019217</td>\n",
       "      <td>0.000190</td>\n",
       "      <td>0.020182</td>\n",
       "      <td>0.018018</td>\n",
       "      <td>0.013323</td>\n",
       "      <td>0.018588</td>\n",
       "    </tr>\n",
       "    <tr>\n",
       "      <th>2</th>\n",
       "      <td>0.019958</td>\n",
       "      <td>0.019877</td>\n",
       "      <td>-0.019889</td>\n",
       "      <td>0.019822</td>\n",
       "      <td>0.021765</td>\n",
       "      <td>0.018383</td>\n",
       "      <td>0.019618</td>\n",
       "      <td>0.017104</td>\n",
       "      <td>0.020624</td>\n",
       "      <td>0.002329</td>\n",
       "      <td>0.020182</td>\n",
       "      <td>0.018018</td>\n",
       "      <td>0.022576</td>\n",
       "      <td>0.016898</td>\n",
       "    </tr>\n",
       "    <tr>\n",
       "      <th>3</th>\n",
       "      <td>0.020659</td>\n",
       "      <td>0.018013</td>\n",
       "      <td>-0.019889</td>\n",
       "      <td>0.016766</td>\n",
       "      <td>0.018541</td>\n",
       "      <td>0.020090</td>\n",
       "      <td>0.022750</td>\n",
       "      <td>0.027470</td>\n",
       "      <td>0.018905</td>\n",
       "      <td>0.000048</td>\n",
       "      <td>0.020182</td>\n",
       "      <td>0.018018</td>\n",
       "      <td>0.013323</td>\n",
       "      <td>0.016898</td>\n",
       "    </tr>\n",
       "    <tr>\n",
       "      <th>4</th>\n",
       "      <td>0.020659</td>\n",
       "      <td>0.018013</td>\n",
       "      <td>-0.019889</td>\n",
       "      <td>0.016766</td>\n",
       "      <td>0.018541</td>\n",
       "      <td>0.021603</td>\n",
       "      <td>0.019618</td>\n",
       "      <td>0.041464</td>\n",
       "      <td>0.018691</td>\n",
       "      <td>0.000018</td>\n",
       "      <td>0.020182</td>\n",
       "      <td>0.018018</td>\n",
       "      <td>0.013323</td>\n",
       "      <td>0.016898</td>\n",
       "    </tr>\n",
       "    <tr>\n",
       "      <th>...</th>\n",
       "      <td>...</td>\n",
       "      <td>...</td>\n",
       "      <td>...</td>\n",
       "      <td>...</td>\n",
       "      <td>...</td>\n",
       "      <td>...</td>\n",
       "      <td>...</td>\n",
       "      <td>...</td>\n",
       "      <td>...</td>\n",
       "      <td>...</td>\n",
       "      <td>...</td>\n",
       "      <td>...</td>\n",
       "      <td>...</td>\n",
       "      <td>...</td>\n",
       "    </tr>\n",
       "    <tr>\n",
       "      <th>2523</th>\n",
       "      <td>0.019375</td>\n",
       "      <td>0.017703</td>\n",
       "      <td>0.019889</td>\n",
       "      <td>0.018733</td>\n",
       "      <td>0.020153</td>\n",
       "      <td>0.020279</td>\n",
       "      <td>0.019618</td>\n",
       "      <td>0.001037</td>\n",
       "      <td>0.019168</td>\n",
       "      <td>0.000043</td>\n",
       "      <td>0.020182</td>\n",
       "      <td>0.018018</td>\n",
       "      <td>0.019985</td>\n",
       "      <td>0.016898</td>\n",
       "    </tr>\n",
       "    <tr>\n",
       "      <th>2524</th>\n",
       "      <td>0.019725</td>\n",
       "      <td>0.023293</td>\n",
       "      <td>-0.019889</td>\n",
       "      <td>0.023782</td>\n",
       "      <td>0.019347</td>\n",
       "      <td>0.018008</td>\n",
       "      <td>0.019618</td>\n",
       "      <td>0.016643</td>\n",
       "      <td>0.019445</td>\n",
       "      <td>0.000125</td>\n",
       "      <td>0.015137</td>\n",
       "      <td>0.018018</td>\n",
       "      <td>0.013323</td>\n",
       "      <td>0.016898</td>\n",
       "    </tr>\n",
       "    <tr>\n",
       "      <th>2525</th>\n",
       "      <td>0.018674</td>\n",
       "      <td>0.019566</td>\n",
       "      <td>0.019889</td>\n",
       "      <td>0.022287</td>\n",
       "      <td>0.019347</td>\n",
       "      <td>0.017529</td>\n",
       "      <td>0.025964</td>\n",
       "      <td>0.016643</td>\n",
       "      <td>0.019882</td>\n",
       "      <td>0.000064</td>\n",
       "      <td>0.020182</td>\n",
       "      <td>0.018018</td>\n",
       "      <td>0.018505</td>\n",
       "      <td>0.018588</td>\n",
       "    </tr>\n",
       "    <tr>\n",
       "      <th>2526</th>\n",
       "      <td>0.020308</td>\n",
       "      <td>0.020188</td>\n",
       "      <td>-0.019889</td>\n",
       "      <td>0.019443</td>\n",
       "      <td>0.018541</td>\n",
       "      <td>0.020548</td>\n",
       "      <td>0.019618</td>\n",
       "      <td>0.016643</td>\n",
       "      <td>0.021215</td>\n",
       "      <td>0.000643</td>\n",
       "      <td>0.020182</td>\n",
       "      <td>0.031532</td>\n",
       "      <td>0.019985</td>\n",
       "      <td>0.013519</td>\n",
       "    </tr>\n",
       "    <tr>\n",
       "      <th>2527</th>\n",
       "      <td>0.018674</td>\n",
       "      <td>0.016305</td>\n",
       "      <td>0.019889</td>\n",
       "      <td>0.018573</td>\n",
       "      <td>0.019347</td>\n",
       "      <td>0.020089</td>\n",
       "      <td>0.018546</td>\n",
       "      <td>0.010366</td>\n",
       "      <td>0.019053</td>\n",
       "      <td>0.000230</td>\n",
       "      <td>0.020182</td>\n",
       "      <td>0.018018</td>\n",
       "      <td>0.035529</td>\n",
       "      <td>0.018588</td>\n",
       "    </tr>\n",
       "  </tbody>\n",
       "</table>\n",
       "<p>2528 rows × 14 columns</p>\n",
       "</div>"
      ],
      "text/plain": [
       "        height    weight    gender       bmi       age        rh  heart_rate  \\\n",
       "0     0.018674  0.016305  0.019889  0.018573  0.019347  0.024127    0.020524   \n",
       "1     0.020659  0.018013 -0.019889  0.016766  0.018541  0.018656    0.019535   \n",
       "2     0.019958  0.019877 -0.019889  0.019822  0.021765  0.018383    0.019618   \n",
       "3     0.020659  0.018013 -0.019889  0.016766  0.018541  0.020090    0.022750   \n",
       "4     0.020659  0.018013 -0.019889  0.016766  0.018541  0.021603    0.019618   \n",
       "...        ...       ...       ...       ...       ...       ...         ...   \n",
       "2523  0.019375  0.017703  0.019889  0.018733  0.020153  0.020279    0.019618   \n",
       "2524  0.019725  0.023293 -0.019889  0.023782  0.019347  0.018008    0.019618   \n",
       "2525  0.018674  0.019566  0.019889  0.022287  0.019347  0.017529    0.025964   \n",
       "2526  0.020308  0.020188 -0.019889  0.019443  0.018541  0.020548    0.019618   \n",
       "2527  0.018674  0.016305  0.019889  0.018573  0.019347  0.020089    0.018546   \n",
       "\n",
       "      stress_level  skin_temp       eda        TC        TS       Clo  \\\n",
       "0         0.010107   0.019882  0.000866  0.020182  0.018018  0.022576   \n",
       "1         0.001037   0.019217  0.000190  0.020182  0.018018  0.013323   \n",
       "2         0.017104   0.020624  0.002329  0.020182  0.018018  0.022576   \n",
       "3         0.027470   0.018905  0.000048  0.020182  0.018018  0.013323   \n",
       "4         0.041464   0.018691  0.000018  0.020182  0.018018  0.013323   \n",
       "...            ...        ...       ...       ...       ...       ...   \n",
       "2523      0.001037   0.019168  0.000043  0.020182  0.018018  0.019985   \n",
       "2524      0.016643   0.019445  0.000125  0.015137  0.018018  0.013323   \n",
       "2525      0.016643   0.019882  0.000064  0.020182  0.018018  0.018505   \n",
       "2526      0.016643   0.021215  0.000643  0.020182  0.031532  0.019985   \n",
       "2527      0.010366   0.019053  0.000230  0.020182  0.018018  0.035529   \n",
       "\n",
       "           Act  \n",
       "0     0.018588  \n",
       "1     0.018588  \n",
       "2     0.016898  \n",
       "3     0.016898  \n",
       "4     0.016898  \n",
       "...        ...  \n",
       "2523  0.016898  \n",
       "2524  0.016898  \n",
       "2525  0.018588  \n",
       "2526  0.013519  \n",
       "2527  0.018588  \n",
       "\n",
       "[2528 rows x 14 columns]"
      ]
     },
     "execution_count": 21,
     "metadata": {},
     "output_type": "execute_result"
    }
   ],
   "source": [
    "X_data"
   ]
  },
  {
   "cell_type": "code",
   "execution_count": 22,
   "metadata": {
    "ExecuteTime": {
     "end_time": "2020-11-12T21:24:08.842211Z",
     "start_time": "2020-11-12T21:24:08.838842Z"
    }
   },
   "outputs": [
    {
     "data": {
      "text/plain": [
       "array([  85.67889413, 3219.80907819,   50.27922036, 1104.20171125,\n",
       "       1240.52690418, 2610.52082164, 4044.03947436, 1929.40521588,\n",
       "       1609.69440491,  204.39639127,  198.19434906,  221.99549545,\n",
       "         27.02021465,   59.17786748])"
      ]
     },
     "execution_count": 22,
     "metadata": {},
     "output_type": "execute_result"
    }
   ],
   "source": [
    "X_norm"
   ]
  },
  {
   "cell_type": "markdown",
   "metadata": {},
   "source": [
    "## refine data"
   ]
  },
  {
   "cell_type": "code",
   "execution_count": 23,
   "metadata": {
    "ExecuteTime": {
     "end_time": "2020-11-12T21:24:08.855946Z",
     "start_time": "2020-11-12T21:24:08.847534Z"
    }
   },
   "outputs": [],
   "source": [
    "regr = sm.OLS(y_data, X_data)\n",
    "regr_fit = regr.fit()"
   ]
  },
  {
   "cell_type": "markdown",
   "metadata": {},
   "source": [
    "### leverage & outlier"
   ]
  },
  {
   "cell_type": "code",
   "execution_count": 24,
   "metadata": {
    "ExecuteTime": {
     "end_time": "2020-11-12T21:24:08.863180Z",
     "start_time": "2020-11-12T21:24:08.858742Z"
    }
   },
   "outputs": [],
   "source": [
    "infl = regr_fit.get_influence()"
   ]
  },
  {
   "cell_type": "code",
   "execution_count": 25,
   "metadata": {
    "ExecuteTime": {
     "end_time": "2020-11-12T21:24:08.867838Z",
     "start_time": "2020-11-12T21:24:08.865147Z"
    }
   },
   "outputs": [],
   "source": [
    "# leverage\n",
    "leviers = infl.hat_matrix_diag\n",
    "# list(leviers)"
   ]
  },
  {
   "cell_type": "code",
   "execution_count": 26,
   "metadata": {
    "ExecuteTime": {
     "end_time": "2020-11-12T21:24:12.772030Z",
     "start_time": "2020-11-12T21:24:08.869715Z"
    }
   },
   "outputs": [],
   "source": [
    "# studentized residue\n",
    "res_studs = infl.resid_studentized_external\n",
    "# list(res_studs)"
   ]
  },
  {
   "cell_type": "markdown",
   "metadata": {},
   "source": [
    "### leverage detection\n",
    "the threshold value may be:\n",
    "$$s_h=2\\times \\frac{p+1}{n}$$"
   ]
  },
  {
   "cell_type": "code",
   "execution_count": 27,
   "metadata": {
    "ExecuteTime": {
     "end_time": "2020-11-12T21:24:12.776240Z",
     "start_time": "2020-11-12T21:24:12.773692Z"
    }
   },
   "outputs": [],
   "source": [
    "n_data = X_data.shape[0]\n",
    "p_data = X_data.shape[1]"
   ]
  },
  {
   "cell_type": "code",
   "execution_count": 28,
   "metadata": {
    "ExecuteTime": {
     "end_time": "2020-11-12T21:24:12.782609Z",
     "start_time": "2020-11-12T21:24:12.778663Z"
    }
   },
   "outputs": [
    {
     "data": {
      "text/plain": [
       "0.011867088607594937"
      ]
     },
     "execution_count": 28,
     "metadata": {},
     "output_type": "execute_result"
    }
   ],
   "source": [
    "s_h = 2 * (p_data + 1) / n_data\n",
    "s_h"
   ]
  },
  {
   "cell_type": "code",
   "execution_count": 29,
   "metadata": {
    "ExecuteTime": {
     "end_time": "2020-11-12T21:24:12.787662Z",
     "start_time": "2020-11-12T21:24:12.785025Z"
    }
   },
   "outputs": [],
   "source": [
    "atyp_levier = leviers > s_h"
   ]
  },
  {
   "cell_type": "code",
   "execution_count": 30,
   "metadata": {
    "ExecuteTime": {
     "end_time": "2020-11-12T21:24:12.793134Z",
     "start_time": "2020-11-12T21:24:12.789569Z"
    }
   },
   "outputs": [
    {
     "data": {
      "text/plain": [
       "113"
      ]
     },
     "execution_count": 30,
     "metadata": {},
     "output_type": "execute_result"
    }
   ],
   "source": [
    "len(leviers[atyp_levier])"
   ]
  },
  {
   "cell_type": "markdown",
   "metadata": {},
   "source": [
    "### outlier detection\n",
    "Threshold:\n",
    "$$s_t=t_{1-0.05/2}(n-p-2)$$"
   ]
  },
  {
   "cell_type": "code",
   "execution_count": 31,
   "metadata": {
    "ExecuteTime": {
     "end_time": "2020-11-12T21:24:12.799284Z",
     "start_time": "2020-11-12T21:24:12.794975Z"
    }
   },
   "outputs": [
    {
     "data": {
      "text/plain": [
       "1.9609088074865402"
      ]
     },
     "execution_count": 31,
     "metadata": {},
     "output_type": "execute_result"
    }
   ],
   "source": [
    "seuil_stud = scipy.stats.t.ppf(0.975, df=n_data-p_data-2)\n",
    "seuil_stud"
   ]
  },
  {
   "cell_type": "code",
   "execution_count": 32,
   "metadata": {
    "ExecuteTime": {
     "end_time": "2020-11-12T21:24:12.805407Z",
     "start_time": "2020-11-12T21:24:12.801073Z"
    }
   },
   "outputs": [
    {
     "data": {
      "text/plain": [
       "array([False, False, False, ...,  True, False,  True])"
      ]
     },
     "execution_count": 32,
     "metadata": {},
     "output_type": "execute_result"
    }
   ],
   "source": [
    "atyp_stud = np.abs(res_studs) > seuil_stud\n",
    "atyp_stud"
   ]
  },
  {
   "cell_type": "code",
   "execution_count": 33,
   "metadata": {
    "ExecuteTime": {
     "end_time": "2020-11-12T21:24:12.809761Z",
     "start_time": "2020-11-12T21:24:12.807445Z"
    }
   },
   "outputs": [],
   "source": [
    "idx_eliminate_lvg_outl = np.logical_not(np.logical_or(atyp_levier, atyp_stud))"
   ]
  },
  {
   "cell_type": "code",
   "execution_count": 34,
   "metadata": {
    "ExecuteTime": {
     "end_time": "2020-11-12T21:24:12.815389Z",
     "start_time": "2020-11-12T21:24:12.811352Z"
    },
    "scrolled": true
   },
   "outputs": [
    {
     "data": {
      "text/plain": [
       "Int64Index([   0,    1,    2,    3,    4,    5,    7,    8,    9,   10,\n",
       "            ...\n",
       "            2516, 2517, 2518, 2519, 2520, 2521, 2522, 2523, 2524, 2526],\n",
       "           dtype='int64', length=2287)"
      ]
     },
     "execution_count": 34,
     "metadata": {},
     "output_type": "execute_result"
    }
   ],
   "source": [
    "X_data.index[idx_eliminate_lvg_outl]"
   ]
  },
  {
   "cell_type": "code",
   "execution_count": 35,
   "metadata": {
    "ExecuteTime": {
     "end_time": "2020-11-12T21:24:12.820776Z",
     "start_time": "2020-11-12T21:24:12.817342Z"
    }
   },
   "outputs": [],
   "source": [
    "X_data_refine = X_data[idx_eliminate_lvg_outl]\n",
    "y_data_refine = y_data[idx_eliminate_lvg_outl]"
   ]
  },
  {
   "cell_type": "markdown",
   "metadata": {},
   "source": [
    "### save refine data (not normalized)"
   ]
  },
  {
   "cell_type": "code",
   "execution_count": 36,
   "metadata": {
    "ExecuteTime": {
     "end_time": "2020-11-12T21:24:12.825919Z",
     "start_time": "2020-11-12T21:24:12.822581Z"
    }
   },
   "outputs": [],
   "source": [
    "X_data_refine_not_norm = X_data_not_norm[idx_eliminate_lvg_outl]\n",
    "y_data_refine_not_norm = y_data[idx_eliminate_lvg_outl]"
   ]
  },
  {
   "cell_type": "code",
   "execution_count": 37,
   "metadata": {
    "ExecuteTime": {
     "end_time": "2020-11-12T21:24:12.831961Z",
     "start_time": "2020-11-12T21:24:12.827979Z"
    }
   },
   "outputs": [],
   "source": [
    "df_refine_not_norm = pd.concat([X_data_refine_not_norm, y_data_refine_not_norm], axis=1)"
   ]
  },
  {
   "cell_type": "code",
   "execution_count": 38,
   "metadata": {
    "ExecuteTime": {
     "end_time": "2020-11-12T21:24:12.884306Z",
     "start_time": "2020-11-12T21:24:12.834465Z"
    }
   },
   "outputs": [],
   "source": [
    "df_refine_not_norm.to_csv('./processed_data/train_refine_not_norm.csv', index=False)"
   ]
  },
  {
   "cell_type": "markdown",
   "metadata": {},
   "source": [
    "## feature selection"
   ]
  },
  {
   "cell_type": "markdown",
   "metadata": {},
   "source": [
    "### backward selection"
   ]
  },
  {
   "cell_type": "code",
   "execution_count": 39,
   "metadata": {
    "ExecuteTime": {
     "end_time": "2020-11-12T21:24:20.686380Z",
     "start_time": "2020-11-12T21:24:20.680843Z"
    }
   },
   "outputs": [],
   "source": [
    "regr = sm.OLS(y_data_refine, X_data_refine)\n",
    "regr_fit = regr.fit()"
   ]
  },
  {
   "cell_type": "code",
   "execution_count": 40,
   "metadata": {
    "ExecuteTime": {
     "end_time": "2020-11-12T21:24:22.057322Z",
     "start_time": "2020-11-12T21:24:22.033168Z"
    },
    "scrolled": false
   },
   "outputs": [
    {
     "data": {
      "text/html": [
       "<table class=\"simpletable\">\n",
       "<caption>OLS Regression Results</caption>\n",
       "<tr>\n",
       "  <th>Dep. Variable:</th>        <td>env_temp</td>     <th>  R-squared (uncentered):</th>      <td>   0.999</td> \n",
       "</tr>\n",
       "<tr>\n",
       "  <th>Model:</th>                   <td>OLS</td>       <th>  Adj. R-squared (uncentered):</th> <td>   0.999</td> \n",
       "</tr>\n",
       "<tr>\n",
       "  <th>Method:</th>             <td>Least Squares</td>  <th>  F-statistic:       </th>          <td>2.758e+05</td>\n",
       "</tr>\n",
       "<tr>\n",
       "  <th>Date:</th>             <td>Thu, 12 Nov 2020</td> <th>  Prob (F-statistic):</th>           <td>  0.00</td>  \n",
       "</tr>\n",
       "<tr>\n",
       "  <th>Time:</th>                 <td>13:24:22</td>     <th>  Log-Likelihood:    </th>          <td> -4675.0</td> \n",
       "</tr>\n",
       "<tr>\n",
       "  <th>No. Observations:</th>      <td>  2287</td>      <th>  AIC:               </th>          <td>   9378.</td> \n",
       "</tr>\n",
       "<tr>\n",
       "  <th>Df Residuals:</th>          <td>  2273</td>      <th>  BIC:               </th>          <td>   9458.</td> \n",
       "</tr>\n",
       "<tr>\n",
       "  <th>Df Model:</th>              <td>    14</td>      <th>                     </th>              <td> </td>    \n",
       "</tr>\n",
       "<tr>\n",
       "  <th>Covariance Type:</th>      <td>nonrobust</td>    <th>                     </th>              <td> </td>    \n",
       "</tr>\n",
       "</table>\n",
       "<table class=\"simpletable\">\n",
       "<tr>\n",
       "        <td></td>          <th>coef</th>     <th>std err</th>      <th>t</th>      <th>P>|t|</th>  <th>[0.025</th>    <th>0.975]</th>  \n",
       "</tr>\n",
       "<tr>\n",
       "  <th>height</th>       <td> 3120.3694</td> <td>   86.916</td> <td>   35.901</td> <td> 0.000</td> <td> 2949.926</td> <td> 3290.813</td>\n",
       "</tr>\n",
       "<tr>\n",
       "  <th>weight</th>       <td>-1569.3440</td> <td>   68.293</td> <td>  -22.980</td> <td> 0.000</td> <td>-1703.267</td> <td>-1435.421</td>\n",
       "</tr>\n",
       "<tr>\n",
       "  <th>gender</th>       <td>    9.4058</td> <td>    4.641</td> <td>    2.027</td> <td> 0.043</td> <td>    0.305</td> <td>   18.507</td>\n",
       "</tr>\n",
       "<tr>\n",
       "  <th>bmi</th>          <td> 1654.9435</td> <td>   63.034</td> <td>   26.255</td> <td> 0.000</td> <td> 1531.332</td> <td> 1778.555</td>\n",
       "</tr>\n",
       "<tr>\n",
       "  <th>age</th>          <td>  -29.8858</td> <td>   30.888</td> <td>   -0.968</td> <td> 0.333</td> <td>  -90.457</td> <td>   30.686</td>\n",
       "</tr>\n",
       "<tr>\n",
       "  <th>rh</th>           <td>   28.5008</td> <td>   12.745</td> <td>    2.236</td> <td> 0.025</td> <td>    3.509</td> <td>   53.493</td>\n",
       "</tr>\n",
       "<tr>\n",
       "  <th>heart_rate</th>   <td>  -13.6848</td> <td>   18.635</td> <td>   -0.734</td> <td> 0.463</td> <td>  -50.228</td> <td>   22.858</td>\n",
       "</tr>\n",
       "<tr>\n",
       "  <th>stress_level</th> <td>   23.9767</td> <td>    4.271</td> <td>    5.614</td> <td> 0.000</td> <td>   15.602</td> <td>   32.351</td>\n",
       "</tr>\n",
       "<tr>\n",
       "  <th>skin_temp</th>    <td>  547.5106</td> <td>   77.583</td> <td>    7.057</td> <td> 0.000</td> <td>  395.370</td> <td>  699.651</td>\n",
       "</tr>\n",
       "<tr>\n",
       "  <th>eda</th>          <td>    3.2009</td> <td>    7.075</td> <td>    0.452</td> <td> 0.651</td> <td>  -10.673</td> <td>   17.075</td>\n",
       "</tr>\n",
       "<tr>\n",
       "  <th>TC</th>           <td>  109.9957</td> <td>   13.043</td> <td>    8.433</td> <td> 0.000</td> <td>   84.418</td> <td>  135.574</td>\n",
       "</tr>\n",
       "<tr>\n",
       "  <th>TS</th>           <td>  129.6056</td> <td>   11.204</td> <td>   11.568</td> <td> 0.000</td> <td>  107.634</td> <td>  151.577</td>\n",
       "</tr>\n",
       "<tr>\n",
       "  <th>Clo</th>          <td> -121.1534</td> <td>    6.887</td> <td>  -17.592</td> <td> 0.000</td> <td> -134.659</td> <td> -107.648</td>\n",
       "</tr>\n",
       "<tr>\n",
       "  <th>Act</th>          <td>   -9.2039</td> <td>    9.658</td> <td>   -0.953</td> <td> 0.341</td> <td>  -28.143</td> <td>    9.735</td>\n",
       "</tr>\n",
       "</table>\n",
       "<table class=\"simpletable\">\n",
       "<tr>\n",
       "  <th>Omnibus:</th>       <td> 5.849</td> <th>  Durbin-Watson:     </th> <td>   2.008</td>\n",
       "</tr>\n",
       "<tr>\n",
       "  <th>Prob(Omnibus):</th> <td> 0.054</td> <th>  Jarque-Bera (JB):  </th> <td>   5.853</td>\n",
       "</tr>\n",
       "<tr>\n",
       "  <th>Skew:</th>          <td> 0.110</td> <th>  Prob(JB):          </th> <td>  0.0536</td>\n",
       "</tr>\n",
       "<tr>\n",
       "  <th>Kurtosis:</th>      <td> 2.885</td> <th>  Cond. No.          </th> <td>    224.</td>\n",
       "</tr>\n",
       "</table><br/><br/>Notes:<br/>[1] R² is computed without centering (uncentered) since the model does not contain a constant.<br/>[2] Standard Errors assume that the covariance matrix of the errors is correctly specified."
      ],
      "text/plain": [
       "<class 'statsmodels.iolib.summary.Summary'>\n",
       "\"\"\"\n",
       "                                 OLS Regression Results                                \n",
       "=======================================================================================\n",
       "Dep. Variable:               env_temp   R-squared (uncentered):                   0.999\n",
       "Model:                            OLS   Adj. R-squared (uncentered):              0.999\n",
       "Method:                 Least Squares   F-statistic:                          2.758e+05\n",
       "Date:                Thu, 12 Nov 2020   Prob (F-statistic):                        0.00\n",
       "Time:                        13:24:22   Log-Likelihood:                         -4675.0\n",
       "No. Observations:                2287   AIC:                                      9378.\n",
       "Df Residuals:                    2273   BIC:                                      9458.\n",
       "Df Model:                          14                                                  \n",
       "Covariance Type:            nonrobust                                                  \n",
       "================================================================================\n",
       "                   coef    std err          t      P>|t|      [0.025      0.975]\n",
       "--------------------------------------------------------------------------------\n",
       "height        3120.3694     86.916     35.901      0.000    2949.926    3290.813\n",
       "weight       -1569.3440     68.293    -22.980      0.000   -1703.267   -1435.421\n",
       "gender           9.4058      4.641      2.027      0.043       0.305      18.507\n",
       "bmi           1654.9435     63.034     26.255      0.000    1531.332    1778.555\n",
       "age            -29.8858     30.888     -0.968      0.333     -90.457      30.686\n",
       "rh              28.5008     12.745      2.236      0.025       3.509      53.493\n",
       "heart_rate     -13.6848     18.635     -0.734      0.463     -50.228      22.858\n",
       "stress_level    23.9767      4.271      5.614      0.000      15.602      32.351\n",
       "skin_temp      547.5106     77.583      7.057      0.000     395.370     699.651\n",
       "eda              3.2009      7.075      0.452      0.651     -10.673      17.075\n",
       "TC             109.9957     13.043      8.433      0.000      84.418     135.574\n",
       "TS             129.6056     11.204     11.568      0.000     107.634     151.577\n",
       "Clo           -121.1534      6.887    -17.592      0.000    -134.659    -107.648\n",
       "Act             -9.2039      9.658     -0.953      0.341     -28.143       9.735\n",
       "==============================================================================\n",
       "Omnibus:                        5.849   Durbin-Watson:                   2.008\n",
       "Prob(Omnibus):                  0.054   Jarque-Bera (JB):                5.853\n",
       "Skew:                           0.110   Prob(JB):                       0.0536\n",
       "Kurtosis:                       2.885   Cond. No.                         224.\n",
       "==============================================================================\n",
       "\n",
       "Notes:\n",
       "[1] R² is computed without centering (uncentered) since the model does not contain a constant.\n",
       "[2] Standard Errors assume that the covariance matrix of the errors is correctly specified.\n",
       "\"\"\""
      ]
     },
     "execution_count": 40,
     "metadata": {},
     "output_type": "execute_result"
    }
   ],
   "source": [
    "regr_fit.summary()"
   ]
  },
  {
   "cell_type": "code",
   "execution_count": 41,
   "metadata": {
    "ExecuteTime": {
     "end_time": "2020-11-12T21:24:35.308295Z",
     "start_time": "2020-11-12T21:24:35.305451Z"
    }
   },
   "outputs": [],
   "source": [
    "X_rm = X_data_refine"
   ]
  },
  {
   "cell_type": "markdown",
   "metadata": {},
   "source": [
    "start to remove features"
   ]
  },
  {
   "cell_type": "markdown",
   "metadata": {
    "ExecuteTime": {
     "end_time": "2020-11-10T22:22:54.851894Z",
     "start_time": "2020-11-10T22:22:54.850000Z"
    }
   },
   "source": [
    "#### remove eda"
   ]
  },
  {
   "cell_type": "code",
   "execution_count": 42,
   "metadata": {
    "ExecuteTime": {
     "end_time": "2020-11-12T21:24:38.157740Z",
     "start_time": "2020-11-12T21:24:38.154398Z"
    }
   },
   "outputs": [],
   "source": [
    "X_rm = X_rm.drop(columns='eda')"
   ]
  },
  {
   "cell_type": "code",
   "execution_count": 43,
   "metadata": {
    "ExecuteTime": {
     "end_time": "2020-11-12T21:24:38.542008Z",
     "start_time": "2020-11-12T21:24:38.517483Z"
    },
    "scrolled": false
   },
   "outputs": [
    {
     "data": {
      "text/html": [
       "<table class=\"simpletable\">\n",
       "<caption>OLS Regression Results</caption>\n",
       "<tr>\n",
       "  <th>Dep. Variable:</th>        <td>env_temp</td>     <th>  R-squared (uncentered):</th>      <td>   0.999</td> \n",
       "</tr>\n",
       "<tr>\n",
       "  <th>Model:</th>                   <td>OLS</td>       <th>  Adj. R-squared (uncentered):</th> <td>   0.999</td> \n",
       "</tr>\n",
       "<tr>\n",
       "  <th>Method:</th>             <td>Least Squares</td>  <th>  F-statistic:       </th>          <td>2.971e+05</td>\n",
       "</tr>\n",
       "<tr>\n",
       "  <th>Date:</th>             <td>Thu, 12 Nov 2020</td> <th>  Prob (F-statistic):</th>           <td>  0.00</td>  \n",
       "</tr>\n",
       "<tr>\n",
       "  <th>Time:</th>                 <td>13:24:38</td>     <th>  Log-Likelihood:    </th>          <td> -4675.1</td> \n",
       "</tr>\n",
       "<tr>\n",
       "  <th>No. Observations:</th>      <td>  2287</td>      <th>  AIC:               </th>          <td>   9376.</td> \n",
       "</tr>\n",
       "<tr>\n",
       "  <th>Df Residuals:</th>          <td>  2274</td>      <th>  BIC:               </th>          <td>   9451.</td> \n",
       "</tr>\n",
       "<tr>\n",
       "  <th>Df Model:</th>              <td>    13</td>      <th>                     </th>              <td> </td>    \n",
       "</tr>\n",
       "<tr>\n",
       "  <th>Covariance Type:</th>      <td>nonrobust</td>    <th>                     </th>              <td> </td>    \n",
       "</tr>\n",
       "</table>\n",
       "<table class=\"simpletable\">\n",
       "<tr>\n",
       "        <td></td>          <th>coef</th>     <th>std err</th>      <th>t</th>      <th>P>|t|</th>  <th>[0.025</th>    <th>0.975]</th>  \n",
       "</tr>\n",
       "<tr>\n",
       "  <th>height</th>       <td> 3116.1037</td> <td>   86.388</td> <td>   36.071</td> <td> 0.000</td> <td> 2946.695</td> <td> 3285.512</td>\n",
       "</tr>\n",
       "<tr>\n",
       "  <th>weight</th>       <td>-1565.6111</td> <td>   67.781</td> <td>  -23.098</td> <td> 0.000</td> <td>-1698.530</td> <td>-1432.692</td>\n",
       "</tr>\n",
       "<tr>\n",
       "  <th>gender</th>       <td>    9.5756</td> <td>    4.625</td> <td>    2.070</td> <td> 0.039</td> <td>    0.506</td> <td>   18.645</td>\n",
       "</tr>\n",
       "<tr>\n",
       "  <th>bmi</th>          <td> 1651.6986</td> <td>   62.614</td> <td>   26.379</td> <td> 0.000</td> <td> 1528.912</td> <td> 1774.486</td>\n",
       "</tr>\n",
       "<tr>\n",
       "  <th>age</th>          <td>  -29.5383</td> <td>   30.873</td> <td>   -0.957</td> <td> 0.339</td> <td>  -90.081</td> <td>   31.004</td>\n",
       "</tr>\n",
       "<tr>\n",
       "  <th>rh</th>           <td>   28.5872</td> <td>   12.741</td> <td>    2.244</td> <td> 0.025</td> <td>    3.602</td> <td>   53.572</td>\n",
       "</tr>\n",
       "<tr>\n",
       "  <th>heart_rate</th>   <td>  -13.6153</td> <td>   18.631</td> <td>   -0.731</td> <td> 0.465</td> <td>  -50.150</td> <td>   22.920</td>\n",
       "</tr>\n",
       "<tr>\n",
       "  <th>stress_level</th> <td>   24.0814</td> <td>    4.264</td> <td>    5.648</td> <td> 0.000</td> <td>   15.721</td> <td>   32.442</td>\n",
       "</tr>\n",
       "<tr>\n",
       "  <th>skin_temp</th>    <td>  550.6926</td> <td>   77.250</td> <td>    7.129</td> <td> 0.000</td> <td>  399.205</td> <td>  702.180</td>\n",
       "</tr>\n",
       "<tr>\n",
       "  <th>TC</th>           <td>  110.3729</td> <td>   13.014</td> <td>    8.481</td> <td> 0.000</td> <td>   84.852</td> <td>  135.894</td>\n",
       "</tr>\n",
       "<tr>\n",
       "  <th>TS</th>           <td>  129.4988</td> <td>   11.200</td> <td>   11.563</td> <td> 0.000</td> <td>  107.536</td> <td>  151.462</td>\n",
       "</tr>\n",
       "<tr>\n",
       "  <th>Clo</th>          <td> -121.1581</td> <td>    6.886</td> <td>  -17.596</td> <td> 0.000</td> <td> -134.661</td> <td> -107.655</td>\n",
       "</tr>\n",
       "<tr>\n",
       "  <th>Act</th>          <td>   -9.1049</td> <td>    9.654</td> <td>   -0.943</td> <td> 0.346</td> <td>  -28.036</td> <td>    9.826</td>\n",
       "</tr>\n",
       "</table>\n",
       "<table class=\"simpletable\">\n",
       "<tr>\n",
       "  <th>Omnibus:</th>       <td> 5.890</td> <th>  Durbin-Watson:     </th> <td>   2.008</td>\n",
       "</tr>\n",
       "<tr>\n",
       "  <th>Prob(Omnibus):</th> <td> 0.053</td> <th>  Jarque-Bera (JB):  </th> <td>   5.894</td>\n",
       "</tr>\n",
       "<tr>\n",
       "  <th>Skew:</th>          <td> 0.110</td> <th>  Prob(JB):          </th> <td>  0.0525</td>\n",
       "</tr>\n",
       "<tr>\n",
       "  <th>Kurtosis:</th>      <td> 2.885</td> <th>  Cond. No.          </th> <td>    222.</td>\n",
       "</tr>\n",
       "</table><br/><br/>Notes:<br/>[1] R² is computed without centering (uncentered) since the model does not contain a constant.<br/>[2] Standard Errors assume that the covariance matrix of the errors is correctly specified."
      ],
      "text/plain": [
       "<class 'statsmodels.iolib.summary.Summary'>\n",
       "\"\"\"\n",
       "                                 OLS Regression Results                                \n",
       "=======================================================================================\n",
       "Dep. Variable:               env_temp   R-squared (uncentered):                   0.999\n",
       "Model:                            OLS   Adj. R-squared (uncentered):              0.999\n",
       "Method:                 Least Squares   F-statistic:                          2.971e+05\n",
       "Date:                Thu, 12 Nov 2020   Prob (F-statistic):                        0.00\n",
       "Time:                        13:24:38   Log-Likelihood:                         -4675.1\n",
       "No. Observations:                2287   AIC:                                      9376.\n",
       "Df Residuals:                    2274   BIC:                                      9451.\n",
       "Df Model:                          13                                                  \n",
       "Covariance Type:            nonrobust                                                  \n",
       "================================================================================\n",
       "                   coef    std err          t      P>|t|      [0.025      0.975]\n",
       "--------------------------------------------------------------------------------\n",
       "height        3116.1037     86.388     36.071      0.000    2946.695    3285.512\n",
       "weight       -1565.6111     67.781    -23.098      0.000   -1698.530   -1432.692\n",
       "gender           9.5756      4.625      2.070      0.039       0.506      18.645\n",
       "bmi           1651.6986     62.614     26.379      0.000    1528.912    1774.486\n",
       "age            -29.5383     30.873     -0.957      0.339     -90.081      31.004\n",
       "rh              28.5872     12.741      2.244      0.025       3.602      53.572\n",
       "heart_rate     -13.6153     18.631     -0.731      0.465     -50.150      22.920\n",
       "stress_level    24.0814      4.264      5.648      0.000      15.721      32.442\n",
       "skin_temp      550.6926     77.250      7.129      0.000     399.205     702.180\n",
       "TC             110.3729     13.014      8.481      0.000      84.852     135.894\n",
       "TS             129.4988     11.200     11.563      0.000     107.536     151.462\n",
       "Clo           -121.1581      6.886    -17.596      0.000    -134.661    -107.655\n",
       "Act             -9.1049      9.654     -0.943      0.346     -28.036       9.826\n",
       "==============================================================================\n",
       "Omnibus:                        5.890   Durbin-Watson:                   2.008\n",
       "Prob(Omnibus):                  0.053   Jarque-Bera (JB):                5.894\n",
       "Skew:                           0.110   Prob(JB):                       0.0525\n",
       "Kurtosis:                       2.885   Cond. No.                         222.\n",
       "==============================================================================\n",
       "\n",
       "Notes:\n",
       "[1] R² is computed without centering (uncentered) since the model does not contain a constant.\n",
       "[2] Standard Errors assume that the covariance matrix of the errors is correctly specified.\n",
       "\"\"\""
      ]
     },
     "execution_count": 43,
     "metadata": {},
     "output_type": "execute_result"
    }
   ],
   "source": [
    "regr = sm.OLS(y_data_refine, X_rm)\n",
    "regr_fit = regr.fit()\n",
    "regr_fit.summary()"
   ]
  },
  {
   "cell_type": "markdown",
   "metadata": {
    "ExecuteTime": {
     "end_time": "2020-11-10T22:22:54.851894Z",
     "start_time": "2020-11-10T22:22:54.850000Z"
    }
   },
   "source": [
    "#### remove heart rate"
   ]
  },
  {
   "cell_type": "code",
   "execution_count": 44,
   "metadata": {
    "ExecuteTime": {
     "end_time": "2020-11-12T21:24:43.587744Z",
     "start_time": "2020-11-12T21:24:43.584586Z"
    }
   },
   "outputs": [],
   "source": [
    "X_rm = X_rm.drop(columns='heart_rate')"
   ]
  },
  {
   "cell_type": "code",
   "execution_count": 45,
   "metadata": {
    "ExecuteTime": {
     "end_time": "2020-11-12T21:24:43.910734Z",
     "start_time": "2020-11-12T21:24:43.887071Z"
    },
    "scrolled": false
   },
   "outputs": [
    {
     "data": {
      "text/html": [
       "<table class=\"simpletable\">\n",
       "<caption>OLS Regression Results</caption>\n",
       "<tr>\n",
       "  <th>Dep. Variable:</th>        <td>env_temp</td>     <th>  R-squared (uncentered):</th>      <td>   0.999</td> \n",
       "</tr>\n",
       "<tr>\n",
       "  <th>Model:</th>                   <td>OLS</td>       <th>  Adj. R-squared (uncentered):</th> <td>   0.999</td> \n",
       "</tr>\n",
       "<tr>\n",
       "  <th>Method:</th>             <td>Least Squares</td>  <th>  F-statistic:       </th>          <td>3.219e+05</td>\n",
       "</tr>\n",
       "<tr>\n",
       "  <th>Date:</th>             <td>Thu, 12 Nov 2020</td> <th>  Prob (F-statistic):</th>           <td>  0.00</td>  \n",
       "</tr>\n",
       "<tr>\n",
       "  <th>Time:</th>                 <td>13:24:43</td>     <th>  Log-Likelihood:    </th>          <td> -4675.3</td> \n",
       "</tr>\n",
       "<tr>\n",
       "  <th>No. Observations:</th>      <td>  2287</td>      <th>  AIC:               </th>          <td>   9375.</td> \n",
       "</tr>\n",
       "<tr>\n",
       "  <th>Df Residuals:</th>          <td>  2275</td>      <th>  BIC:               </th>          <td>   9443.</td> \n",
       "</tr>\n",
       "<tr>\n",
       "  <th>Df Model:</th>              <td>    12</td>      <th>                     </th>              <td> </td>    \n",
       "</tr>\n",
       "<tr>\n",
       "  <th>Covariance Type:</th>      <td>nonrobust</td>    <th>                     </th>              <td> </td>    \n",
       "</tr>\n",
       "</table>\n",
       "<table class=\"simpletable\">\n",
       "<tr>\n",
       "        <td></td>          <th>coef</th>     <th>std err</th>      <th>t</th>      <th>P>|t|</th>  <th>[0.025</th>    <th>0.975]</th>  \n",
       "</tr>\n",
       "<tr>\n",
       "  <th>height</th>       <td> 3096.7109</td> <td>   82.203</td> <td>   37.671</td> <td> 0.000</td> <td> 2935.510</td> <td> 3257.912</td>\n",
       "</tr>\n",
       "<tr>\n",
       "  <th>weight</th>       <td>-1549.5626</td> <td>   64.118</td> <td>  -24.167</td> <td> 0.000</td> <td>-1675.299</td> <td>-1423.826</td>\n",
       "</tr>\n",
       "<tr>\n",
       "  <th>gender</th>       <td>   10.2071</td> <td>    4.543</td> <td>    2.247</td> <td> 0.025</td> <td>    1.298</td> <td>   19.116</td>\n",
       "</tr>\n",
       "<tr>\n",
       "  <th>bmi</th>          <td> 1637.3556</td> <td>   59.453</td> <td>   27.541</td> <td> 0.000</td> <td> 1520.769</td> <td> 1753.943</td>\n",
       "</tr>\n",
       "<tr>\n",
       "  <th>age</th>          <td>  -28.9661</td> <td>   30.860</td> <td>   -0.939</td> <td> 0.348</td> <td>  -89.483</td> <td>   31.550</td>\n",
       "</tr>\n",
       "<tr>\n",
       "  <th>rh</th>           <td>   28.4976</td> <td>   12.739</td> <td>    2.237</td> <td> 0.025</td> <td>    3.516</td> <td>   53.479</td>\n",
       "</tr>\n",
       "<tr>\n",
       "  <th>stress_level</th> <td>   22.6198</td> <td>    3.765</td> <td>    6.008</td> <td> 0.000</td> <td>   15.237</td> <td>   30.003</td>\n",
       "</tr>\n",
       "<tr>\n",
       "  <th>skin_temp</th>    <td>  556.1049</td> <td>   76.886</td> <td>    7.233</td> <td> 0.000</td> <td>  405.331</td> <td>  706.879</td>\n",
       "</tr>\n",
       "<tr>\n",
       "  <th>TC</th>           <td>  109.9905</td> <td>   13.002</td> <td>    8.459</td> <td> 0.000</td> <td>   84.493</td> <td>  135.488</td>\n",
       "</tr>\n",
       "<tr>\n",
       "  <th>TS</th>           <td>  130.1154</td> <td>   11.167</td> <td>   11.652</td> <td> 0.000</td> <td>  108.217</td> <td>  152.014</td>\n",
       "</tr>\n",
       "<tr>\n",
       "  <th>Clo</th>          <td> -121.0909</td> <td>    6.884</td> <td>  -17.589</td> <td> 0.000</td> <td> -134.591</td> <td> -107.591</td>\n",
       "</tr>\n",
       "<tr>\n",
       "  <th>Act</th>          <td>   -9.7869</td> <td>    9.608</td> <td>   -1.019</td> <td> 0.308</td> <td>  -28.627</td> <td>    9.053</td>\n",
       "</tr>\n",
       "</table>\n",
       "<table class=\"simpletable\">\n",
       "<tr>\n",
       "  <th>Omnibus:</th>       <td> 6.138</td> <th>  Durbin-Watson:     </th> <td>   2.009</td>\n",
       "</tr>\n",
       "<tr>\n",
       "  <th>Prob(Omnibus):</th> <td> 0.046</td> <th>  Jarque-Bera (JB):  </th> <td>   6.128</td>\n",
       "</tr>\n",
       "<tr>\n",
       "  <th>Skew:</th>          <td> 0.112</td> <th>  Prob(JB):          </th> <td>  0.0467</td>\n",
       "</tr>\n",
       "<tr>\n",
       "  <th>Kurtosis:</th>      <td> 2.880</td> <th>  Cond. No.          </th> <td>    203.</td>\n",
       "</tr>\n",
       "</table><br/><br/>Notes:<br/>[1] R² is computed without centering (uncentered) since the model does not contain a constant.<br/>[2] Standard Errors assume that the covariance matrix of the errors is correctly specified."
      ],
      "text/plain": [
       "<class 'statsmodels.iolib.summary.Summary'>\n",
       "\"\"\"\n",
       "                                 OLS Regression Results                                \n",
       "=======================================================================================\n",
       "Dep. Variable:               env_temp   R-squared (uncentered):                   0.999\n",
       "Model:                            OLS   Adj. R-squared (uncentered):              0.999\n",
       "Method:                 Least Squares   F-statistic:                          3.219e+05\n",
       "Date:                Thu, 12 Nov 2020   Prob (F-statistic):                        0.00\n",
       "Time:                        13:24:43   Log-Likelihood:                         -4675.3\n",
       "No. Observations:                2287   AIC:                                      9375.\n",
       "Df Residuals:                    2275   BIC:                                      9443.\n",
       "Df Model:                          12                                                  \n",
       "Covariance Type:            nonrobust                                                  \n",
       "================================================================================\n",
       "                   coef    std err          t      P>|t|      [0.025      0.975]\n",
       "--------------------------------------------------------------------------------\n",
       "height        3096.7109     82.203     37.671      0.000    2935.510    3257.912\n",
       "weight       -1549.5626     64.118    -24.167      0.000   -1675.299   -1423.826\n",
       "gender          10.2071      4.543      2.247      0.025       1.298      19.116\n",
       "bmi           1637.3556     59.453     27.541      0.000    1520.769    1753.943\n",
       "age            -28.9661     30.860     -0.939      0.348     -89.483      31.550\n",
       "rh              28.4976     12.739      2.237      0.025       3.516      53.479\n",
       "stress_level    22.6198      3.765      6.008      0.000      15.237      30.003\n",
       "skin_temp      556.1049     76.886      7.233      0.000     405.331     706.879\n",
       "TC             109.9905     13.002      8.459      0.000      84.493     135.488\n",
       "TS             130.1154     11.167     11.652      0.000     108.217     152.014\n",
       "Clo           -121.0909      6.884    -17.589      0.000    -134.591    -107.591\n",
       "Act             -9.7869      9.608     -1.019      0.308     -28.627       9.053\n",
       "==============================================================================\n",
       "Omnibus:                        6.138   Durbin-Watson:                   2.009\n",
       "Prob(Omnibus):                  0.046   Jarque-Bera (JB):                6.128\n",
       "Skew:                           0.112   Prob(JB):                       0.0467\n",
       "Kurtosis:                       2.880   Cond. No.                         203.\n",
       "==============================================================================\n",
       "\n",
       "Notes:\n",
       "[1] R² is computed without centering (uncentered) since the model does not contain a constant.\n",
       "[2] Standard Errors assume that the covariance matrix of the errors is correctly specified.\n",
       "\"\"\""
      ]
     },
     "execution_count": 45,
     "metadata": {},
     "output_type": "execute_result"
    }
   ],
   "source": [
    "regr = sm.OLS(y_data_refine, X_rm)\n",
    "regr_fit = regr.fit()\n",
    "regr_fit.summary()"
   ]
  },
  {
   "cell_type": "markdown",
   "metadata": {
    "ExecuteTime": {
     "end_time": "2020-11-10T22:22:54.851894Z",
     "start_time": "2020-11-10T22:22:54.850000Z"
    }
   },
   "source": [
    "#### remove age"
   ]
  },
  {
   "cell_type": "code",
   "execution_count": 46,
   "metadata": {
    "ExecuteTime": {
     "end_time": "2020-11-12T21:24:59.142797Z",
     "start_time": "2020-11-12T21:24:59.139490Z"
    }
   },
   "outputs": [],
   "source": [
    "X_rm = X_rm.drop(columns='age')"
   ]
  },
  {
   "cell_type": "code",
   "execution_count": 47,
   "metadata": {
    "ExecuteTime": {
     "end_time": "2020-11-12T21:24:59.492843Z",
     "start_time": "2020-11-12T21:24:59.470259Z"
    },
    "scrolled": false
   },
   "outputs": [
    {
     "data": {
      "text/html": [
       "<table class=\"simpletable\">\n",
       "<caption>OLS Regression Results</caption>\n",
       "<tr>\n",
       "  <th>Dep. Variable:</th>        <td>env_temp</td>     <th>  R-squared (uncentered):</th>      <td>   0.999</td> \n",
       "</tr>\n",
       "<tr>\n",
       "  <th>Model:</th>                   <td>OLS</td>       <th>  Adj. R-squared (uncentered):</th> <td>   0.999</td> \n",
       "</tr>\n",
       "<tr>\n",
       "  <th>Method:</th>             <td>Least Squares</td>  <th>  F-statistic:       </th>          <td>3.512e+05</td>\n",
       "</tr>\n",
       "<tr>\n",
       "  <th>Date:</th>             <td>Thu, 12 Nov 2020</td> <th>  Prob (F-statistic):</th>           <td>  0.00</td>  \n",
       "</tr>\n",
       "<tr>\n",
       "  <th>Time:</th>                 <td>13:24:59</td>     <th>  Log-Likelihood:    </th>          <td> -4675.8</td> \n",
       "</tr>\n",
       "<tr>\n",
       "  <th>No. Observations:</th>      <td>  2287</td>      <th>  AIC:               </th>          <td>   9374.</td> \n",
       "</tr>\n",
       "<tr>\n",
       "  <th>Df Residuals:</th>          <td>  2276</td>      <th>  BIC:               </th>          <td>   9437.</td> \n",
       "</tr>\n",
       "<tr>\n",
       "  <th>Df Model:</th>              <td>    11</td>      <th>                     </th>              <td> </td>    \n",
       "</tr>\n",
       "<tr>\n",
       "  <th>Covariance Type:</th>      <td>nonrobust</td>    <th>                     </th>              <td> </td>    \n",
       "</tr>\n",
       "</table>\n",
       "<table class=\"simpletable\">\n",
       "<tr>\n",
       "        <td></td>          <th>coef</th>     <th>std err</th>      <th>t</th>      <th>P>|t|</th>  <th>[0.025</th>    <th>0.975]</th>  \n",
       "</tr>\n",
       "<tr>\n",
       "  <th>height</th>       <td> 3076.0354</td> <td>   79.195</td> <td>   38.841</td> <td> 0.000</td> <td> 2920.733</td> <td> 3231.337</td>\n",
       "</tr>\n",
       "<tr>\n",
       "  <th>weight</th>       <td>-1554.2272</td> <td>   63.924</td> <td>  -24.314</td> <td> 0.000</td> <td>-1679.582</td> <td>-1428.872</td>\n",
       "</tr>\n",
       "<tr>\n",
       "  <th>gender</th>       <td>    9.3212</td> <td>    4.444</td> <td>    2.098</td> <td> 0.036</td> <td>    0.607</td> <td>   18.036</td>\n",
       "</tr>\n",
       "<tr>\n",
       "  <th>bmi</th>          <td> 1633.3052</td> <td>   59.294</td> <td>   27.546</td> <td> 0.000</td> <td> 1517.029</td> <td> 1749.582</td>\n",
       "</tr>\n",
       "<tr>\n",
       "  <th>rh</th>           <td>   29.1435</td> <td>   12.720</td> <td>    2.291</td> <td> 0.022</td> <td>    4.199</td> <td>   54.088</td>\n",
       "</tr>\n",
       "<tr>\n",
       "  <th>stress_level</th> <td>   23.2577</td> <td>    3.703</td> <td>    6.281</td> <td> 0.000</td> <td>   15.996</td> <td>   30.519</td>\n",
       "</tr>\n",
       "<tr>\n",
       "  <th>skin_temp</th>    <td>  557.8901</td> <td>   76.860</td> <td>    7.258</td> <td> 0.000</td> <td>  407.166</td> <td>  708.614</td>\n",
       "</tr>\n",
       "<tr>\n",
       "  <th>TC</th>           <td>  107.3735</td> <td>   12.700</td> <td>    8.455</td> <td> 0.000</td> <td>   82.469</td> <td>  132.278</td>\n",
       "</tr>\n",
       "<tr>\n",
       "  <th>TS</th>           <td>  130.0551</td> <td>   11.166</td> <td>   11.647</td> <td> 0.000</td> <td>  108.158</td> <td>  151.952</td>\n",
       "</tr>\n",
       "<tr>\n",
       "  <th>Clo</th>          <td> -121.1574</td> <td>    6.884</td> <td>  -17.600</td> <td> 0.000</td> <td> -134.657</td> <td> -107.658</td>\n",
       "</tr>\n",
       "<tr>\n",
       "  <th>Act</th>          <td>   -9.7012</td> <td>    9.607</td> <td>   -1.010</td> <td> 0.313</td> <td>  -28.540</td> <td>    9.138</td>\n",
       "</tr>\n",
       "</table>\n",
       "<table class=\"simpletable\">\n",
       "<tr>\n",
       "  <th>Omnibus:</th>       <td> 5.696</td> <th>  Durbin-Watson:     </th> <td>   2.009</td>\n",
       "</tr>\n",
       "<tr>\n",
       "  <th>Prob(Omnibus):</th> <td> 0.058</td> <th>  Jarque-Bera (JB):  </th> <td>   5.670</td>\n",
       "</tr>\n",
       "<tr>\n",
       "  <th>Skew:</th>          <td> 0.105</td> <th>  Prob(JB):          </th> <td>  0.0587</td>\n",
       "</tr>\n",
       "<tr>\n",
       "  <th>Kurtosis:</th>      <td> 2.877</td> <th>  Cond. No.          </th> <td>    192.</td>\n",
       "</tr>\n",
       "</table><br/><br/>Notes:<br/>[1] R² is computed without centering (uncentered) since the model does not contain a constant.<br/>[2] Standard Errors assume that the covariance matrix of the errors is correctly specified."
      ],
      "text/plain": [
       "<class 'statsmodels.iolib.summary.Summary'>\n",
       "\"\"\"\n",
       "                                 OLS Regression Results                                \n",
       "=======================================================================================\n",
       "Dep. Variable:               env_temp   R-squared (uncentered):                   0.999\n",
       "Model:                            OLS   Adj. R-squared (uncentered):              0.999\n",
       "Method:                 Least Squares   F-statistic:                          3.512e+05\n",
       "Date:                Thu, 12 Nov 2020   Prob (F-statistic):                        0.00\n",
       "Time:                        13:24:59   Log-Likelihood:                         -4675.8\n",
       "No. Observations:                2287   AIC:                                      9374.\n",
       "Df Residuals:                    2276   BIC:                                      9437.\n",
       "Df Model:                          11                                                  \n",
       "Covariance Type:            nonrobust                                                  \n",
       "================================================================================\n",
       "                   coef    std err          t      P>|t|      [0.025      0.975]\n",
       "--------------------------------------------------------------------------------\n",
       "height        3076.0354     79.195     38.841      0.000    2920.733    3231.337\n",
       "weight       -1554.2272     63.924    -24.314      0.000   -1679.582   -1428.872\n",
       "gender           9.3212      4.444      2.098      0.036       0.607      18.036\n",
       "bmi           1633.3052     59.294     27.546      0.000    1517.029    1749.582\n",
       "rh              29.1435     12.720      2.291      0.022       4.199      54.088\n",
       "stress_level    23.2577      3.703      6.281      0.000      15.996      30.519\n",
       "skin_temp      557.8901     76.860      7.258      0.000     407.166     708.614\n",
       "TC             107.3735     12.700      8.455      0.000      82.469     132.278\n",
       "TS             130.0551     11.166     11.647      0.000     108.158     151.952\n",
       "Clo           -121.1574      6.884    -17.600      0.000    -134.657    -107.658\n",
       "Act             -9.7012      9.607     -1.010      0.313     -28.540       9.138\n",
       "==============================================================================\n",
       "Omnibus:                        5.696   Durbin-Watson:                   2.009\n",
       "Prob(Omnibus):                  0.058   Jarque-Bera (JB):                5.670\n",
       "Skew:                           0.105   Prob(JB):                       0.0587\n",
       "Kurtosis:                       2.877   Cond. No.                         192.\n",
       "==============================================================================\n",
       "\n",
       "Notes:\n",
       "[1] R² is computed without centering (uncentered) since the model does not contain a constant.\n",
       "[2] Standard Errors assume that the covariance matrix of the errors is correctly specified.\n",
       "\"\"\""
      ]
     },
     "execution_count": 47,
     "metadata": {},
     "output_type": "execute_result"
    }
   ],
   "source": [
    "regr = sm.OLS(y_data_refine, X_rm)\n",
    "regr_fit = regr.fit()\n",
    "regr_fit.summary()"
   ]
  },
  {
   "cell_type": "markdown",
   "metadata": {
    "ExecuteTime": {
     "end_time": "2020-11-10T22:22:54.851894Z",
     "start_time": "2020-11-10T22:22:54.850000Z"
    }
   },
   "source": [
    "#### remove Act"
   ]
  },
  {
   "cell_type": "code",
   "execution_count": 48,
   "metadata": {
    "ExecuteTime": {
     "end_time": "2020-11-12T21:25:06.387654Z",
     "start_time": "2020-11-12T21:25:06.384176Z"
    }
   },
   "outputs": [],
   "source": [
    "X_rm = X_rm.drop(columns='Act')"
   ]
  },
  {
   "cell_type": "code",
   "execution_count": 49,
   "metadata": {
    "ExecuteTime": {
     "end_time": "2020-11-12T21:25:06.901006Z",
     "start_time": "2020-11-12T21:25:06.880657Z"
    },
    "scrolled": false
   },
   "outputs": [
    {
     "data": {
      "text/html": [
       "<table class=\"simpletable\">\n",
       "<caption>OLS Regression Results</caption>\n",
       "<tr>\n",
       "  <th>Dep. Variable:</th>        <td>env_temp</td>     <th>  R-squared (uncentered):</th>      <td>   0.999</td> \n",
       "</tr>\n",
       "<tr>\n",
       "  <th>Model:</th>                   <td>OLS</td>       <th>  Adj. R-squared (uncentered):</th> <td>   0.999</td> \n",
       "</tr>\n",
       "<tr>\n",
       "  <th>Method:</th>             <td>Least Squares</td>  <th>  F-statistic:       </th>          <td>3.863e+05</td>\n",
       "</tr>\n",
       "<tr>\n",
       "  <th>Date:</th>             <td>Thu, 12 Nov 2020</td> <th>  Prob (F-statistic):</th>           <td>  0.00</td>  \n",
       "</tr>\n",
       "<tr>\n",
       "  <th>Time:</th>                 <td>13:25:06</td>     <th>  Log-Likelihood:    </th>          <td> -4676.3</td> \n",
       "</tr>\n",
       "<tr>\n",
       "  <th>No. Observations:</th>      <td>  2287</td>      <th>  AIC:               </th>          <td>   9373.</td> \n",
       "</tr>\n",
       "<tr>\n",
       "  <th>Df Residuals:</th>          <td>  2277</td>      <th>  BIC:               </th>          <td>   9430.</td> \n",
       "</tr>\n",
       "<tr>\n",
       "  <th>Df Model:</th>              <td>    10</td>      <th>                     </th>              <td> </td>    \n",
       "</tr>\n",
       "<tr>\n",
       "  <th>Covariance Type:</th>      <td>nonrobust</td>    <th>                     </th>              <td> </td>    \n",
       "</tr>\n",
       "</table>\n",
       "<table class=\"simpletable\">\n",
       "<tr>\n",
       "        <td></td>          <th>coef</th>     <th>std err</th>      <th>t</th>      <th>P>|t|</th>  <th>[0.025</th>    <th>0.975]</th>  \n",
       "</tr>\n",
       "<tr>\n",
       "  <th>height</th>       <td> 3063.3454</td> <td>   78.192</td> <td>   39.177</td> <td> 0.000</td> <td> 2910.010</td> <td> 3216.680</td>\n",
       "</tr>\n",
       "<tr>\n",
       "  <th>weight</th>       <td>-1552.1393</td> <td>   63.891</td> <td>  -24.294</td> <td> 0.000</td> <td>-1677.429</td> <td>-1426.849</td>\n",
       "</tr>\n",
       "<tr>\n",
       "  <th>gender</th>       <td>    8.7978</td> <td>    4.414</td> <td>    1.993</td> <td> 0.046</td> <td>    0.143</td> <td>   17.453</td>\n",
       "</tr>\n",
       "<tr>\n",
       "  <th>bmi</th>          <td> 1629.4979</td> <td>   59.174</td> <td>   27.537</td> <td> 0.000</td> <td> 1513.456</td> <td> 1745.539</td>\n",
       "</tr>\n",
       "<tr>\n",
       "  <th>rh</th>           <td>   29.0763</td> <td>   12.720</td> <td>    2.286</td> <td> 0.022</td> <td>    4.132</td> <td>   54.020</td>\n",
       "</tr>\n",
       "<tr>\n",
       "  <th>stress_level</th> <td>   22.7955</td> <td>    3.675</td> <td>    6.203</td> <td> 0.000</td> <td>   15.589</td> <td>   30.001</td>\n",
       "</tr>\n",
       "<tr>\n",
       "  <th>skin_temp</th>    <td>  564.0294</td> <td>   76.620</td> <td>    7.361</td> <td> 0.000</td> <td>  413.777</td> <td>  714.282</td>\n",
       "</tr>\n",
       "<tr>\n",
       "  <th>TC</th>           <td>  107.7202</td> <td>   12.695</td> <td>    8.485</td> <td> 0.000</td> <td>   82.825</td> <td>  132.615</td>\n",
       "</tr>\n",
       "<tr>\n",
       "  <th>TS</th>           <td>  130.0303</td> <td>   11.166</td> <td>   11.645</td> <td> 0.000</td> <td>  108.133</td> <td>  151.928</td>\n",
       "</tr>\n",
       "<tr>\n",
       "  <th>Clo</th>          <td> -121.6697</td> <td>    6.865</td> <td>  -17.723</td> <td> 0.000</td> <td> -135.132</td> <td> -108.207</td>\n",
       "</tr>\n",
       "</table>\n",
       "<table class=\"simpletable\">\n",
       "<tr>\n",
       "  <th>Omnibus:</th>       <td> 5.700</td> <th>  Durbin-Watson:     </th> <td>   2.008</td>\n",
       "</tr>\n",
       "<tr>\n",
       "  <th>Prob(Omnibus):</th> <td> 0.058</td> <th>  Jarque-Bera (JB):  </th> <td>   5.672</td>\n",
       "</tr>\n",
       "<tr>\n",
       "  <th>Skew:</th>          <td> 0.105</td> <th>  Prob(JB):          </th> <td>  0.0587</td>\n",
       "</tr>\n",
       "<tr>\n",
       "  <th>Kurtosis:</th>      <td> 2.876</td> <th>  Cond. No.          </th> <td>    182.</td>\n",
       "</tr>\n",
       "</table><br/><br/>Notes:<br/>[1] R² is computed without centering (uncentered) since the model does not contain a constant.<br/>[2] Standard Errors assume that the covariance matrix of the errors is correctly specified."
      ],
      "text/plain": [
       "<class 'statsmodels.iolib.summary.Summary'>\n",
       "\"\"\"\n",
       "                                 OLS Regression Results                                \n",
       "=======================================================================================\n",
       "Dep. Variable:               env_temp   R-squared (uncentered):                   0.999\n",
       "Model:                            OLS   Adj. R-squared (uncentered):              0.999\n",
       "Method:                 Least Squares   F-statistic:                          3.863e+05\n",
       "Date:                Thu, 12 Nov 2020   Prob (F-statistic):                        0.00\n",
       "Time:                        13:25:06   Log-Likelihood:                         -4676.3\n",
       "No. Observations:                2287   AIC:                                      9373.\n",
       "Df Residuals:                    2277   BIC:                                      9430.\n",
       "Df Model:                          10                                                  \n",
       "Covariance Type:            nonrobust                                                  \n",
       "================================================================================\n",
       "                   coef    std err          t      P>|t|      [0.025      0.975]\n",
       "--------------------------------------------------------------------------------\n",
       "height        3063.3454     78.192     39.177      0.000    2910.010    3216.680\n",
       "weight       -1552.1393     63.891    -24.294      0.000   -1677.429   -1426.849\n",
       "gender           8.7978      4.414      1.993      0.046       0.143      17.453\n",
       "bmi           1629.4979     59.174     27.537      0.000    1513.456    1745.539\n",
       "rh              29.0763     12.720      2.286      0.022       4.132      54.020\n",
       "stress_level    22.7955      3.675      6.203      0.000      15.589      30.001\n",
       "skin_temp      564.0294     76.620      7.361      0.000     413.777     714.282\n",
       "TC             107.7202     12.695      8.485      0.000      82.825     132.615\n",
       "TS             130.0303     11.166     11.645      0.000     108.133     151.928\n",
       "Clo           -121.6697      6.865    -17.723      0.000    -135.132    -108.207\n",
       "==============================================================================\n",
       "Omnibus:                        5.700   Durbin-Watson:                   2.008\n",
       "Prob(Omnibus):                  0.058   Jarque-Bera (JB):                5.672\n",
       "Skew:                           0.105   Prob(JB):                       0.0587\n",
       "Kurtosis:                       2.876   Cond. No.                         182.\n",
       "==============================================================================\n",
       "\n",
       "Notes:\n",
       "[1] R² is computed without centering (uncentered) since the model does not contain a constant.\n",
       "[2] Standard Errors assume that the covariance matrix of the errors is correctly specified.\n",
       "\"\"\""
      ]
     },
     "execution_count": 49,
     "metadata": {},
     "output_type": "execute_result"
    }
   ],
   "source": [
    "regr = sm.OLS(y_data_refine, X_rm)\n",
    "regr_fit = regr.fit()\n",
    "regr_fit.summary()"
   ]
  },
  {
   "cell_type": "markdown",
   "metadata": {},
   "source": [
    "### save selected data (not normalized)"
   ]
  },
  {
   "cell_type": "code",
   "execution_count": 51,
   "metadata": {
    "ExecuteTime": {
     "end_time": "2020-11-12T21:30:22.421781Z",
     "start_time": "2020-11-12T21:30:22.418556Z"
    }
   },
   "outputs": [],
   "source": [
    "X_selected = X_data_refine_not_norm.drop(columns=['eda', 'heart_rate', 'age', 'Act'])\n",
    "y_selected = y_data_refine_not_norm"
   ]
  },
  {
   "cell_type": "code",
   "execution_count": 52,
   "metadata": {
    "ExecuteTime": {
     "end_time": "2020-11-12T21:30:39.539092Z",
     "start_time": "2020-11-12T21:30:39.535377Z"
    }
   },
   "outputs": [],
   "source": [
    "df_selected_not_norm = pd.concat([X_selected, y_selected], axis=1)"
   ]
  },
  {
   "cell_type": "code",
   "execution_count": 54,
   "metadata": {
    "ExecuteTime": {
     "end_time": "2020-11-12T21:31:20.591181Z",
     "start_time": "2020-11-12T21:31:20.558446Z"
    }
   },
   "outputs": [],
   "source": [
    "df_selected_not_norm.to_csv('./processed_data/train_selected_not_norm.csv', index=False)"
   ]
  },
  {
   "cell_type": "code",
   "execution_count": null,
   "metadata": {},
   "outputs": [],
   "source": []
  }
 ],
 "metadata": {
  "kernelspec": {
   "display_name": "thermal38",
   "language": "python",
   "name": "thermal38"
  },
  "language_info": {
   "codemirror_mode": {
    "name": "ipython",
    "version": 3
   },
   "file_extension": ".py",
   "mimetype": "text/x-python",
   "name": "python",
   "nbconvert_exporter": "python",
   "pygments_lexer": "ipython3",
   "version": "3.8.5"
  },
  "toc": {
   "base_numbering": 1,
   "nav_menu": {},
   "number_sections": true,
   "sideBar": true,
   "skip_h1_title": false,
   "title_cell": "Table of Contents",
   "title_sidebar": "Contents",
   "toc_cell": false,
   "toc_position": {
    "height": "calc(100% - 180px)",
    "left": "10px",
    "top": "150px",
    "width": "242px"
   },
   "toc_section_display": true,
   "toc_window_display": true
  }
 },
 "nbformat": 4,
 "nbformat_minor": 4
}
