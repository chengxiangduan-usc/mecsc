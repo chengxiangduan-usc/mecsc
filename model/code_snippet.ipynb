{
 "cells": [
  {
   "cell_type": "code",
   "execution_count": 1,
   "metadata": {
    "ExecuteTime": {
     "end_time": "2020-11-12T19:29:05.172572Z",
     "start_time": "2020-11-12T19:29:05.169457Z"
    }
   },
   "outputs": [],
   "source": [
    "from sklearn.ensemble import RandomForestRegressor"
   ]
  },
  {
   "cell_type": "code",
   "execution_count": null,
   "metadata": {},
   "outputs": [],
   "source": [
    "# checking for missing data\n",
    "NAs = pd.concat([df.isnull().sum()], axis=1, keys=['col'])\n",
    "NAs[NAs.sum(axis=1) > 0]"
   ]
  },
  {
   "cell_type": "code",
   "execution_count": null,
   "metadata": {},
   "outputs": [],
   "source": [
    "# filling missing values\n",
    "df[] = df[].fillna(df[].means())\n",
    "df[] = df[].fillna(df[].mode()[0])"
   ]
  },
  {
   "cell_type": "code",
   "execution_count": null,
   "metadata": {},
   "outputs": [],
   "source": [
    "# change type\n",
    "df[] = df[].apply(str)"
   ]
  },
  {
   "cell_type": "code",
   "execution_count": null,
   "metadata": {},
   "outputs": [],
   "source": [
    "# one hot coding\n",
    "for col in df.dtypes[df.dtypes == 'object'].index:\n",
    "    for_dummy = df.pop(col)\n",
    "    df = pd.concat([df, pd.get_dummies(for_dummy, prefix=col)], axis=1)"
   ]
  },
  {
   "cell_type": "code",
   "execution_count": 2,
   "metadata": {
    "ExecuteTime": {
     "end_time": "2020-11-12T19:29:19.251937Z",
     "start_time": "2020-11-12T19:29:19.249548Z"
    }
   },
   "outputs": [],
   "source": [
    "rfr = RandomForestRegressor()"
   ]
  },
  {
   "cell_type": "code",
   "execution_count": 3,
   "metadata": {
    "ExecuteTime": {
     "end_time": "2020-11-12T19:29:22.134903Z",
     "start_time": "2020-11-12T19:29:22.123974Z"
    }
   },
   "outputs": [
    {
     "data": {
      "text/plain": [
       "RandomForestRegressor()"
      ]
     },
     "execution_count": 3,
     "metadata": {},
     "output_type": "execute_result"
    }
   ],
   "source": [
    "rfr"
   ]
  },
  {
   "cell_type": "code",
   "execution_count": null,
   "metadata": {},
   "outputs": [],
   "source": []
  },
  {
   "cell_type": "markdown",
   "metadata": {},
   "source": [
    "### save refined data"
   ]
  },
  {
   "cell_type": "code",
   "execution_count": 97,
   "metadata": {
    "ExecuteTime": {
     "end_time": "2020-11-12T20:14:40.128805Z",
     "start_time": "2020-11-12T20:14:40.110222Z"
    }
   },
   "outputs": [
    {
     "data": {
      "text/html": [
       "<div>\n",
       "<style scoped>\n",
       "    .dataframe tbody tr th:only-of-type {\n",
       "        vertical-align: middle;\n",
       "    }\n",
       "\n",
       "    .dataframe tbody tr th {\n",
       "        vertical-align: top;\n",
       "    }\n",
       "\n",
       "    .dataframe thead th {\n",
       "        text-align: right;\n",
       "    }\n",
       "</style>\n",
       "<table border=\"1\" class=\"dataframe\">\n",
       "  <thead>\n",
       "    <tr style=\"text-align: right;\">\n",
       "      <th></th>\n",
       "      <th>height</th>\n",
       "      <th>weight</th>\n",
       "      <th>gender</th>\n",
       "      <th>bmi</th>\n",
       "      <th>age</th>\n",
       "      <th>rh</th>\n",
       "      <th>heart_rate</th>\n",
       "      <th>stress_level</th>\n",
       "      <th>skin_temp</th>\n",
       "      <th>eda</th>\n",
       "      <th>TC</th>\n",
       "      <th>TS</th>\n",
       "      <th>Clo</th>\n",
       "      <th>Act</th>\n",
       "      <th>env_temp</th>\n",
       "    </tr>\n",
       "  </thead>\n",
       "  <tbody>\n",
       "    <tr>\n",
       "      <th>0</th>\n",
       "      <td>0.018674</td>\n",
       "      <td>0.016305</td>\n",
       "      <td>0.019889</td>\n",
       "      <td>0.018573</td>\n",
       "      <td>0.019347</td>\n",
       "      <td>0.024127</td>\n",
       "      <td>0.020524</td>\n",
       "      <td>0.010107</td>\n",
       "      <td>0.019882</td>\n",
       "      <td>0.000866</td>\n",
       "      <td>0.020182</td>\n",
       "      <td>0.018018</td>\n",
       "      <td>0.022576</td>\n",
       "      <td>0.018588</td>\n",
       "      <td>75.942</td>\n",
       "    </tr>\n",
       "    <tr>\n",
       "      <th>1</th>\n",
       "      <td>0.020659</td>\n",
       "      <td>0.018013</td>\n",
       "      <td>-0.019889</td>\n",
       "      <td>0.016766</td>\n",
       "      <td>0.018541</td>\n",
       "      <td>0.018656</td>\n",
       "      <td>0.019535</td>\n",
       "      <td>0.001037</td>\n",
       "      <td>0.019217</td>\n",
       "      <td>0.000190</td>\n",
       "      <td>0.020182</td>\n",
       "      <td>0.018018</td>\n",
       "      <td>0.013323</td>\n",
       "      <td>0.018588</td>\n",
       "      <td>77.378</td>\n",
       "    </tr>\n",
       "    <tr>\n",
       "      <th>2</th>\n",
       "      <td>0.019958</td>\n",
       "      <td>0.019877</td>\n",
       "      <td>-0.019889</td>\n",
       "      <td>0.019822</td>\n",
       "      <td>0.021765</td>\n",
       "      <td>0.018383</td>\n",
       "      <td>0.019618</td>\n",
       "      <td>0.017104</td>\n",
       "      <td>0.020624</td>\n",
       "      <td>0.002329</td>\n",
       "      <td>0.020182</td>\n",
       "      <td>0.018018</td>\n",
       "      <td>0.022576</td>\n",
       "      <td>0.016898</td>\n",
       "      <td>75.484</td>\n",
       "    </tr>\n",
       "    <tr>\n",
       "      <th>3</th>\n",
       "      <td>0.020659</td>\n",
       "      <td>0.018013</td>\n",
       "      <td>-0.019889</td>\n",
       "      <td>0.016766</td>\n",
       "      <td>0.018541</td>\n",
       "      <td>0.020090</td>\n",
       "      <td>0.022750</td>\n",
       "      <td>0.027470</td>\n",
       "      <td>0.018905</td>\n",
       "      <td>0.000048</td>\n",
       "      <td>0.020182</td>\n",
       "      <td>0.018018</td>\n",
       "      <td>0.013323</td>\n",
       "      <td>0.016898</td>\n",
       "      <td>77.203</td>\n",
       "    </tr>\n",
       "    <tr>\n",
       "      <th>4</th>\n",
       "      <td>0.020659</td>\n",
       "      <td>0.018013</td>\n",
       "      <td>-0.019889</td>\n",
       "      <td>0.016766</td>\n",
       "      <td>0.018541</td>\n",
       "      <td>0.021603</td>\n",
       "      <td>0.019618</td>\n",
       "      <td>0.041464</td>\n",
       "      <td>0.018691</td>\n",
       "      <td>0.000018</td>\n",
       "      <td>0.020182</td>\n",
       "      <td>0.018018</td>\n",
       "      <td>0.013323</td>\n",
       "      <td>0.016898</td>\n",
       "      <td>77.902</td>\n",
       "    </tr>\n",
       "    <tr>\n",
       "      <th>...</th>\n",
       "      <td>...</td>\n",
       "      <td>...</td>\n",
       "      <td>...</td>\n",
       "      <td>...</td>\n",
       "      <td>...</td>\n",
       "      <td>...</td>\n",
       "      <td>...</td>\n",
       "      <td>...</td>\n",
       "      <td>...</td>\n",
       "      <td>...</td>\n",
       "      <td>...</td>\n",
       "      <td>...</td>\n",
       "      <td>...</td>\n",
       "      <td>...</td>\n",
       "      <td>...</td>\n",
       "    </tr>\n",
       "    <tr>\n",
       "      <th>2521</th>\n",
       "      <td>0.020659</td>\n",
       "      <td>0.027952</td>\n",
       "      <td>-0.019889</td>\n",
       "      <td>0.026016</td>\n",
       "      <td>0.022571</td>\n",
       "      <td>0.022753</td>\n",
       "      <td>0.017804</td>\n",
       "      <td>0.017104</td>\n",
       "      <td>0.019478</td>\n",
       "      <td>0.001243</td>\n",
       "      <td>0.020182</td>\n",
       "      <td>0.018018</td>\n",
       "      <td>0.013323</td>\n",
       "      <td>0.018588</td>\n",
       "      <td>74.467</td>\n",
       "    </tr>\n",
       "    <tr>\n",
       "      <th>2522</th>\n",
       "      <td>0.019958</td>\n",
       "      <td>0.019877</td>\n",
       "      <td>-0.019889</td>\n",
       "      <td>0.019822</td>\n",
       "      <td>0.021765</td>\n",
       "      <td>0.018077</td>\n",
       "      <td>0.020029</td>\n",
       "      <td>0.016643</td>\n",
       "      <td>0.019882</td>\n",
       "      <td>0.003264</td>\n",
       "      <td>0.020182</td>\n",
       "      <td>0.018018</td>\n",
       "      <td>0.027387</td>\n",
       "      <td>0.016898</td>\n",
       "      <td>73.753</td>\n",
       "    </tr>\n",
       "    <tr>\n",
       "      <th>2523</th>\n",
       "      <td>0.019375</td>\n",
       "      <td>0.017703</td>\n",
       "      <td>0.019889</td>\n",
       "      <td>0.018733</td>\n",
       "      <td>0.020153</td>\n",
       "      <td>0.020279</td>\n",
       "      <td>0.019618</td>\n",
       "      <td>0.001037</td>\n",
       "      <td>0.019168</td>\n",
       "      <td>0.000043</td>\n",
       "      <td>0.020182</td>\n",
       "      <td>0.018018</td>\n",
       "      <td>0.019985</td>\n",
       "      <td>0.016898</td>\n",
       "      <td>76.703</td>\n",
       "    </tr>\n",
       "    <tr>\n",
       "      <th>2524</th>\n",
       "      <td>0.019725</td>\n",
       "      <td>0.023293</td>\n",
       "      <td>-0.019889</td>\n",
       "      <td>0.023782</td>\n",
       "      <td>0.019347</td>\n",
       "      <td>0.018008</td>\n",
       "      <td>0.019618</td>\n",
       "      <td>0.016643</td>\n",
       "      <td>0.019445</td>\n",
       "      <td>0.000125</td>\n",
       "      <td>0.015137</td>\n",
       "      <td>0.018018</td>\n",
       "      <td>0.013323</td>\n",
       "      <td>0.016898</td>\n",
       "      <td>75.484</td>\n",
       "    </tr>\n",
       "    <tr>\n",
       "      <th>2526</th>\n",
       "      <td>0.020308</td>\n",
       "      <td>0.020188</td>\n",
       "      <td>-0.019889</td>\n",
       "      <td>0.019443</td>\n",
       "      <td>0.018541</td>\n",
       "      <td>0.020548</td>\n",
       "      <td>0.019618</td>\n",
       "      <td>0.016643</td>\n",
       "      <td>0.021215</td>\n",
       "      <td>0.000643</td>\n",
       "      <td>0.020182</td>\n",
       "      <td>0.031532</td>\n",
       "      <td>0.019985</td>\n",
       "      <td>0.013519</td>\n",
       "      <td>79.151</td>\n",
       "    </tr>\n",
       "  </tbody>\n",
       "</table>\n",
       "<p>2287 rows × 15 columns</p>\n",
       "</div>"
      ],
      "text/plain": [
       "        height    weight    gender       bmi       age        rh  heart_rate  \\\n",
       "0     0.018674  0.016305  0.019889  0.018573  0.019347  0.024127    0.020524   \n",
       "1     0.020659  0.018013 -0.019889  0.016766  0.018541  0.018656    0.019535   \n",
       "2     0.019958  0.019877 -0.019889  0.019822  0.021765  0.018383    0.019618   \n",
       "3     0.020659  0.018013 -0.019889  0.016766  0.018541  0.020090    0.022750   \n",
       "4     0.020659  0.018013 -0.019889  0.016766  0.018541  0.021603    0.019618   \n",
       "...        ...       ...       ...       ...       ...       ...         ...   \n",
       "2521  0.020659  0.027952 -0.019889  0.026016  0.022571  0.022753    0.017804   \n",
       "2522  0.019958  0.019877 -0.019889  0.019822  0.021765  0.018077    0.020029   \n",
       "2523  0.019375  0.017703  0.019889  0.018733  0.020153  0.020279    0.019618   \n",
       "2524  0.019725  0.023293 -0.019889  0.023782  0.019347  0.018008    0.019618   \n",
       "2526  0.020308  0.020188 -0.019889  0.019443  0.018541  0.020548    0.019618   \n",
       "\n",
       "      stress_level  skin_temp       eda        TC        TS       Clo  \\\n",
       "0         0.010107   0.019882  0.000866  0.020182  0.018018  0.022576   \n",
       "1         0.001037   0.019217  0.000190  0.020182  0.018018  0.013323   \n",
       "2         0.017104   0.020624  0.002329  0.020182  0.018018  0.022576   \n",
       "3         0.027470   0.018905  0.000048  0.020182  0.018018  0.013323   \n",
       "4         0.041464   0.018691  0.000018  0.020182  0.018018  0.013323   \n",
       "...            ...        ...       ...       ...       ...       ...   \n",
       "2521      0.017104   0.019478  0.001243  0.020182  0.018018  0.013323   \n",
       "2522      0.016643   0.019882  0.003264  0.020182  0.018018  0.027387   \n",
       "2523      0.001037   0.019168  0.000043  0.020182  0.018018  0.019985   \n",
       "2524      0.016643   0.019445  0.000125  0.015137  0.018018  0.013323   \n",
       "2526      0.016643   0.021215  0.000643  0.020182  0.031532  0.019985   \n",
       "\n",
       "           Act  env_temp  \n",
       "0     0.018588    75.942  \n",
       "1     0.018588    77.378  \n",
       "2     0.016898    75.484  \n",
       "3     0.016898    77.203  \n",
       "4     0.016898    77.902  \n",
       "...        ...       ...  \n",
       "2521  0.018588    74.467  \n",
       "2522  0.016898    73.753  \n",
       "2523  0.016898    76.703  \n",
       "2524  0.016898    75.484  \n",
       "2526  0.013519    79.151  \n",
       "\n",
       "[2287 rows x 15 columns]"
      ]
     },
     "execution_count": 97,
     "metadata": {},
     "output_type": "execute_result"
    }
   ],
   "source": [
    "pd.concat([X_data_refine, y_data_refine], axis=1)"
   ]
  },
  {
   "cell_type": "code",
   "execution_count": null,
   "metadata": {},
   "outputs": [],
   "source": []
  },
  {
   "cell_type": "code",
   "execution_count": null,
   "metadata": {},
   "outputs": [],
   "source": []
  },
  {
   "cell_type": "code",
   "execution_count": null,
   "metadata": {},
   "outputs": [],
   "source": []
  },
  {
   "cell_type": "code",
   "execution_count": null,
   "metadata": {},
   "outputs": [],
   "source": []
  },
  {
   "cell_type": "code",
   "execution_count": null,
   "metadata": {},
   "outputs": [],
   "source": []
  }
 ],
 "metadata": {
  "kernelspec": {
   "display_name": "thermal38",
   "language": "python",
   "name": "thermal38"
  },
  "language_info": {
   "codemirror_mode": {
    "name": "ipython",
    "version": 3
   },
   "file_extension": ".py",
   "mimetype": "text/x-python",
   "name": "python",
   "nbconvert_exporter": "python",
   "pygments_lexer": "ipython3",
   "version": "3.8.5"
  },
  "toc": {
   "base_numbering": 1,
   "nav_menu": {},
   "number_sections": true,
   "sideBar": true,
   "skip_h1_title": false,
   "title_cell": "Table of Contents",
   "title_sidebar": "Contents",
   "toc_cell": false,
   "toc_position": {},
   "toc_section_display": true,
   "toc_window_display": false
  }
 },
 "nbformat": 4,
 "nbformat_minor": 4
}
