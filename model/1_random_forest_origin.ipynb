{
 "cells": [
  {
   "cell_type": "markdown",
   "metadata": {},
   "source": [
    "random forest for the most possible original dataset"
   ]
  },
  {
   "cell_type": "code",
   "execution_count": 1,
   "metadata": {
    "ExecuteTime": {
     "end_time": "2020-11-13T08:45:21.604066Z",
     "start_time": "2020-11-13T08:45:20.253541Z"
    }
   },
   "outputs": [],
   "source": [
    "%matplotlib inline\n",
    "import pandas as pd\n",
    "import numpy as np\n",
    "\n",
    "import matplotlib.pyplot as plt\n",
    "import seaborn as sns"
   ]
  },
  {
   "cell_type": "code",
   "execution_count": 2,
   "metadata": {
    "ExecuteTime": {
     "end_time": "2020-11-13T08:45:21.893148Z",
     "start_time": "2020-11-13T08:45:21.606573Z"
    }
   },
   "outputs": [],
   "source": [
    "from sklearn.ensemble import RandomForestRegressor\n",
    "\n",
    "from sklearn.preprocessing import normalize\n",
    "from sklearn.impute import SimpleImputer\n",
    "from sklearn.model_selection import train_test_split\n",
    "\n",
    "from sklearn.model_selection import cross_val_score\n",
    "from sklearn.metrics import mean_squared_error, r2_score\n",
    "\n",
    "import scipy"
   ]
  },
  {
   "cell_type": "code",
   "execution_count": 3,
   "metadata": {
    "ExecuteTime": {
     "end_time": "2020-11-13T08:45:21.897915Z",
     "start_time": "2020-11-13T08:45:21.895322Z"
    }
   },
   "outputs": [],
   "source": [
    "plt.rcParams[\"figure.figsize\"] = (15, 10)"
   ]
  },
  {
   "cell_type": "markdown",
   "metadata": {},
   "source": [
    "## load data"
   ]
  },
  {
   "cell_type": "code",
   "execution_count": 4,
   "metadata": {
    "ExecuteTime": {
     "end_time": "2020-11-13T08:45:21.911043Z",
     "start_time": "2020-11-13T08:45:21.900013Z"
    }
   },
   "outputs": [],
   "source": [
    "pth_data = '../data/train.csv'\n",
    "df_origin = pd.read_csv(pth_data)"
   ]
  },
  {
   "cell_type": "code",
   "execution_count": 5,
   "metadata": {
    "ExecuteTime": {
     "end_time": "2020-11-13T08:45:21.937934Z",
     "start_time": "2020-11-13T08:45:21.912542Z"
    },
    "scrolled": false
   },
   "outputs": [
    {
     "data": {
      "text/html": [
       "<div>\n",
       "<style scoped>\n",
       "    .dataframe tbody tr th:only-of-type {\n",
       "        vertical-align: middle;\n",
       "    }\n",
       "\n",
       "    .dataframe tbody tr th {\n",
       "        vertical-align: top;\n",
       "    }\n",
       "\n",
       "    .dataframe thead th {\n",
       "        text-align: right;\n",
       "    }\n",
       "</style>\n",
       "<table border=\"1\" class=\"dataframe\">\n",
       "  <thead>\n",
       "    <tr style=\"text-align: right;\">\n",
       "      <th></th>\n",
       "      <th>time</th>\n",
       "      <th>height</th>\n",
       "      <th>weight</th>\n",
       "      <th>gender</th>\n",
       "      <th>bmi</th>\n",
       "      <th>age</th>\n",
       "      <th>env_temp</th>\n",
       "      <th>rh</th>\n",
       "      <th>heart_rate</th>\n",
       "      <th>stress_level</th>\n",
       "      <th>skin_temp</th>\n",
       "      <th>eda</th>\n",
       "      <th>TC</th>\n",
       "      <th>TS</th>\n",
       "      <th>Clo</th>\n",
       "      <th>Act</th>\n",
       "    </tr>\n",
       "  </thead>\n",
       "  <tbody>\n",
       "    <tr>\n",
       "      <th>0</th>\n",
       "      <td>2020-10-19 14:00:00</td>\n",
       "      <td>1.64</td>\n",
       "      <td>54.0</td>\n",
       "      <td>1</td>\n",
       "      <td>20.077335</td>\n",
       "      <td>24</td>\n",
       "      <td>77.990</td>\n",
       "      <td>62.122</td>\n",
       "      <td>60.0</td>\n",
       "      <td>17.0</td>\n",
       "      <td>NaN</td>\n",
       "      <td>NaN</td>\n",
       "      <td>4.0</td>\n",
       "      <td>4.0</td>\n",
       "      <td>0.74</td>\n",
       "      <td>1.0</td>\n",
       "    </tr>\n",
       "    <tr>\n",
       "      <th>1</th>\n",
       "      <td>2020-10-19 14:30:00</td>\n",
       "      <td>1.64</td>\n",
       "      <td>54.0</td>\n",
       "      <td>1</td>\n",
       "      <td>20.077335</td>\n",
       "      <td>24</td>\n",
       "      <td>78.208</td>\n",
       "      <td>62.321</td>\n",
       "      <td>78.0</td>\n",
       "      <td>60.0</td>\n",
       "      <td>30.748</td>\n",
       "      <td>0.926320</td>\n",
       "      <td>4.0</td>\n",
       "      <td>4.0</td>\n",
       "      <td>0.74</td>\n",
       "      <td>1.1</td>\n",
       "    </tr>\n",
       "    <tr>\n",
       "      <th>2</th>\n",
       "      <td>2020-10-19 15:00:00</td>\n",
       "      <td>1.64</td>\n",
       "      <td>54.0</td>\n",
       "      <td>1</td>\n",
       "      <td>20.077335</td>\n",
       "      <td>24</td>\n",
       "      <td>78.514</td>\n",
       "      <td>62.255</td>\n",
       "      <td>79.0</td>\n",
       "      <td>46.0</td>\n",
       "      <td>31.327</td>\n",
       "      <td>1.232405</td>\n",
       "      <td>4.0</td>\n",
       "      <td>4.0</td>\n",
       "      <td>0.74</td>\n",
       "      <td>1.1</td>\n",
       "    </tr>\n",
       "    <tr>\n",
       "      <th>3</th>\n",
       "      <td>2020-10-19 15:30:00</td>\n",
       "      <td>1.64</td>\n",
       "      <td>54.0</td>\n",
       "      <td>1</td>\n",
       "      <td>20.077335</td>\n",
       "      <td>24</td>\n",
       "      <td>79.041</td>\n",
       "      <td>61.491</td>\n",
       "      <td>94.0</td>\n",
       "      <td>91.0</td>\n",
       "      <td>31.458</td>\n",
       "      <td>0.375005</td>\n",
       "      <td>4.0</td>\n",
       "      <td>4.0</td>\n",
       "      <td>0.74</td>\n",
       "      <td>1.0</td>\n",
       "    </tr>\n",
       "    <tr>\n",
       "      <th>4</th>\n",
       "      <td>2020-10-19 16:00:00</td>\n",
       "      <td>1.64</td>\n",
       "      <td>54.0</td>\n",
       "      <td>1</td>\n",
       "      <td>20.077335</td>\n",
       "      <td>24</td>\n",
       "      <td>79.435</td>\n",
       "      <td>61.071</td>\n",
       "      <td>85.0</td>\n",
       "      <td>71.0</td>\n",
       "      <td>32.085</td>\n",
       "      <td>0.081127</td>\n",
       "      <td>4.0</td>\n",
       "      <td>4.0</td>\n",
       "      <td>0.74</td>\n",
       "      <td>1.0</td>\n",
       "    </tr>\n",
       "    <tr>\n",
       "      <th>...</th>\n",
       "      <td>...</td>\n",
       "      <td>...</td>\n",
       "      <td>...</td>\n",
       "      <td>...</td>\n",
       "      <td>...</td>\n",
       "      <td>...</td>\n",
       "      <td>...</td>\n",
       "      <td>...</td>\n",
       "      <td>...</td>\n",
       "      <td>...</td>\n",
       "      <td>...</td>\n",
       "      <td>...</td>\n",
       "      <td>...</td>\n",
       "      <td>...</td>\n",
       "      <td>...</td>\n",
       "      <td>...</td>\n",
       "    </tr>\n",
       "    <tr>\n",
       "      <th>2791</th>\n",
       "      <td>2020-10-28 21:30:00</td>\n",
       "      <td>1.63</td>\n",
       "      <td>50.0</td>\n",
       "      <td>1</td>\n",
       "      <td>18.818924</td>\n",
       "      <td>23</td>\n",
       "      <td>76.528</td>\n",
       "      <td>40.530</td>\n",
       "      <td>73.0</td>\n",
       "      <td>22.0</td>\n",
       "      <td>31.850</td>\n",
       "      <td>0.114876</td>\n",
       "      <td>2.0</td>\n",
       "      <td>3.0</td>\n",
       "      <td>0.50</td>\n",
       "      <td>1.0</td>\n",
       "    </tr>\n",
       "    <tr>\n",
       "      <th>2792</th>\n",
       "      <td>2020-10-28 22:00:00</td>\n",
       "      <td>1.63</td>\n",
       "      <td>50.0</td>\n",
       "      <td>1</td>\n",
       "      <td>18.818924</td>\n",
       "      <td>23</td>\n",
       "      <td>76.876</td>\n",
       "      <td>39.890</td>\n",
       "      <td>70.5</td>\n",
       "      <td>10.0</td>\n",
       "      <td>32.215</td>\n",
       "      <td>0.146231</td>\n",
       "      <td>2.0</td>\n",
       "      <td>3.0</td>\n",
       "      <td>0.50</td>\n",
       "      <td>1.0</td>\n",
       "    </tr>\n",
       "    <tr>\n",
       "      <th>2793</th>\n",
       "      <td>2020-10-28 22:30:00</td>\n",
       "      <td>1.63</td>\n",
       "      <td>50.0</td>\n",
       "      <td>1</td>\n",
       "      <td>18.818924</td>\n",
       "      <td>23</td>\n",
       "      <td>77.050</td>\n",
       "      <td>39.710</td>\n",
       "      <td>72.0</td>\n",
       "      <td>5.0</td>\n",
       "      <td>32.656</td>\n",
       "      <td>0.153838</td>\n",
       "      <td>2.0</td>\n",
       "      <td>3.0</td>\n",
       "      <td>0.50</td>\n",
       "      <td>1.0</td>\n",
       "    </tr>\n",
       "    <tr>\n",
       "      <th>2794</th>\n",
       "      <td>2020-10-28 23:00:00</td>\n",
       "      <td>1.63</td>\n",
       "      <td>50.0</td>\n",
       "      <td>1</td>\n",
       "      <td>18.818924</td>\n",
       "      <td>23</td>\n",
       "      <td>76.703</td>\n",
       "      <td>39.980</td>\n",
       "      <td>66.0</td>\n",
       "      <td>0.0</td>\n",
       "      <td>31.902</td>\n",
       "      <td>0.160930</td>\n",
       "      <td>2.0</td>\n",
       "      <td>3.0</td>\n",
       "      <td>0.50</td>\n",
       "      <td>1.0</td>\n",
       "    </tr>\n",
       "    <tr>\n",
       "      <th>2795</th>\n",
       "      <td>2020-10-28 23:30:00</td>\n",
       "      <td>1.63</td>\n",
       "      <td>50.0</td>\n",
       "      <td>1</td>\n",
       "      <td>18.818924</td>\n",
       "      <td>23</td>\n",
       "      <td>76.354</td>\n",
       "      <td>41.050</td>\n",
       "      <td>86.0</td>\n",
       "      <td>NaN</td>\n",
       "      <td>30.563</td>\n",
       "      <td>0.281910</td>\n",
       "      <td>2.0</td>\n",
       "      <td>3.0</td>\n",
       "      <td>0.50</td>\n",
       "      <td>1.0</td>\n",
       "    </tr>\n",
       "  </tbody>\n",
       "</table>\n",
       "<p>2796 rows × 16 columns</p>\n",
       "</div>"
      ],
      "text/plain": [
       "                     time  height  weight  gender        bmi  age  env_temp  \\\n",
       "0     2020-10-19 14:00:00    1.64    54.0       1  20.077335   24    77.990   \n",
       "1     2020-10-19 14:30:00    1.64    54.0       1  20.077335   24    78.208   \n",
       "2     2020-10-19 15:00:00    1.64    54.0       1  20.077335   24    78.514   \n",
       "3     2020-10-19 15:30:00    1.64    54.0       1  20.077335   24    79.041   \n",
       "4     2020-10-19 16:00:00    1.64    54.0       1  20.077335   24    79.435   \n",
       "...                   ...     ...     ...     ...        ...  ...       ...   \n",
       "2791  2020-10-28 21:30:00    1.63    50.0       1  18.818924   23    76.528   \n",
       "2792  2020-10-28 22:00:00    1.63    50.0       1  18.818924   23    76.876   \n",
       "2793  2020-10-28 22:30:00    1.63    50.0       1  18.818924   23    77.050   \n",
       "2794  2020-10-28 23:00:00    1.63    50.0       1  18.818924   23    76.703   \n",
       "2795  2020-10-28 23:30:00    1.63    50.0       1  18.818924   23    76.354   \n",
       "\n",
       "          rh  heart_rate  stress_level  skin_temp       eda   TC   TS   Clo  \\\n",
       "0     62.122        60.0          17.0        NaN       NaN  4.0  4.0  0.74   \n",
       "1     62.321        78.0          60.0     30.748  0.926320  4.0  4.0  0.74   \n",
       "2     62.255        79.0          46.0     31.327  1.232405  4.0  4.0  0.74   \n",
       "3     61.491        94.0          91.0     31.458  0.375005  4.0  4.0  0.74   \n",
       "4     61.071        85.0          71.0     32.085  0.081127  4.0  4.0  0.74   \n",
       "...      ...         ...           ...        ...       ...  ...  ...   ...   \n",
       "2791  40.530        73.0          22.0     31.850  0.114876  2.0  3.0  0.50   \n",
       "2792  39.890        70.5          10.0     32.215  0.146231  2.0  3.0  0.50   \n",
       "2793  39.710        72.0           5.0     32.656  0.153838  2.0  3.0  0.50   \n",
       "2794  39.980        66.0           0.0     31.902  0.160930  2.0  3.0  0.50   \n",
       "2795  41.050        86.0           NaN     30.563  0.281910  2.0  3.0  0.50   \n",
       "\n",
       "      Act  \n",
       "0     1.0  \n",
       "1     1.1  \n",
       "2     1.1  \n",
       "3     1.0  \n",
       "4     1.0  \n",
       "...   ...  \n",
       "2791  1.0  \n",
       "2792  1.0  \n",
       "2793  1.0  \n",
       "2794  1.0  \n",
       "2795  1.0  \n",
       "\n",
       "[2796 rows x 16 columns]"
      ]
     },
     "execution_count": 5,
     "metadata": {},
     "output_type": "execute_result"
    }
   ],
   "source": [
    "df_origin"
   ]
  },
  {
   "cell_type": "code",
   "execution_count": 6,
   "metadata": {
    "ExecuteTime": {
     "end_time": "2020-11-13T08:45:21.948243Z",
     "start_time": "2020-11-13T08:45:21.940066Z"
    }
   },
   "outputs": [
    {
     "name": "stdout",
     "output_type": "stream",
     "text": [
      "<class 'pandas.core.frame.DataFrame'>\n",
      "RangeIndex: 2796 entries, 0 to 2795\n",
      "Data columns (total 16 columns):\n",
      " #   Column        Non-Null Count  Dtype  \n",
      "---  ------        --------------  -----  \n",
      " 0   time          2796 non-null   object \n",
      " 1   height        2796 non-null   float64\n",
      " 2   weight        2796 non-null   float64\n",
      " 3   gender        2796 non-null   int64  \n",
      " 4   bmi           2796 non-null   float64\n",
      " 5   age           2796 non-null   int64  \n",
      " 6   env_temp      2796 non-null   float64\n",
      " 7   rh            2796 non-null   float64\n",
      " 8   heart_rate    2201 non-null   float64\n",
      " 9   stress_level  1848 non-null   float64\n",
      " 10  skin_temp     1874 non-null   float64\n",
      " 11  eda           2396 non-null   float64\n",
      " 12  TC            2717 non-null   float64\n",
      " 13  TS            2712 non-null   float64\n",
      " 14  Clo           2737 non-null   float64\n",
      " 15  Act           2718 non-null   float64\n",
      "dtypes: float64(13), int64(2), object(1)\n",
      "memory usage: 349.6+ KB\n"
     ]
    }
   ],
   "source": [
    "df_origin.info()"
   ]
  },
  {
   "cell_type": "markdown",
   "metadata": {},
   "source": [
    "## data process"
   ]
  },
  {
   "cell_type": "markdown",
   "metadata": {},
   "source": [
    "### choose data: TS >= 3.0"
   ]
  },
  {
   "cell_type": "code",
   "execution_count": 7,
   "metadata": {
    "ExecuteTime": {
     "end_time": "2020-11-13T08:45:21.954313Z",
     "start_time": "2020-11-13T08:45:21.950032Z"
    },
    "scrolled": true
   },
   "outputs": [
    {
     "data": {
      "text/plain": [
       "(84, 16)"
      ]
     },
     "execution_count": 7,
     "metadata": {},
     "output_type": "execute_result"
    }
   ],
   "source": [
    "df_origin[df_origin[['TS']].isna().TS].shape\n",
    "# some na in clo, means unrecorded data"
   ]
  },
  {
   "cell_type": "code",
   "execution_count": 8,
   "metadata": {
    "ExecuteTime": {
     "end_time": "2020-11-13T08:45:21.960477Z",
     "start_time": "2020-11-13T08:45:21.957290Z"
    }
   },
   "outputs": [],
   "source": [
    "df_record = df_origin[df_origin['TS'].isna() ^ True]"
   ]
  },
  {
   "cell_type": "code",
   "execution_count": 9,
   "metadata": {
    "ExecuteTime": {
     "end_time": "2020-11-13T08:45:21.965553Z",
     "start_time": "2020-11-13T08:45:21.962765Z"
    }
   },
   "outputs": [
    {
     "data": {
      "text/plain": [
       "(2712, 16)"
      ]
     },
     "execution_count": 9,
     "metadata": {},
     "output_type": "execute_result"
    }
   ],
   "source": [
    "df_record.shape"
   ]
  },
  {
   "cell_type": "code",
   "execution_count": 10,
   "metadata": {
    "ExecuteTime": {
     "end_time": "2020-11-13T08:45:21.971584Z",
     "start_time": "2020-11-13T08:45:21.966859Z"
    }
   },
   "outputs": [],
   "source": [
    "df_comfort = df_record[df_record['TC'] >= 3.0]"
   ]
  },
  {
   "cell_type": "code",
   "execution_count": 11,
   "metadata": {
    "ExecuteTime": {
     "end_time": "2020-11-13T08:45:21.978325Z",
     "start_time": "2020-11-13T08:45:21.973644Z"
    }
   },
   "outputs": [
    {
     "data": {
      "text/plain": [
       "(2528, 16)"
      ]
     },
     "execution_count": 11,
     "metadata": {},
     "output_type": "execute_result"
    }
   ],
   "source": [
    "df_comfort.shape"
   ]
  },
  {
   "cell_type": "markdown",
   "metadata": {},
   "source": [
    "### shuffle"
   ]
  },
  {
   "cell_type": "code",
   "execution_count": 12,
   "metadata": {
    "ExecuteTime": {
     "end_time": "2020-11-13T08:45:21.985042Z",
     "start_time": "2020-11-13T08:45:21.980124Z"
    }
   },
   "outputs": [],
   "source": [
    "df_shuffle = df_comfort.sample(frac=1, random_state=1208).reset_index(drop=True)"
   ]
  },
  {
   "cell_type": "code",
   "execution_count": 13,
   "metadata": {
    "ExecuteTime": {
     "end_time": "2020-11-13T08:45:21.990713Z",
     "start_time": "2020-11-13T08:45:21.986999Z"
    }
   },
   "outputs": [],
   "source": [
    "X_data = df_shuffle[['height', 'weight', 'gender', 'bmi', 'age', 'rh', \\\n",
    "                      'heart_rate', 'stress_level', 'skin_temp', 'eda', \\\n",
    "                      'TC', 'TS', 'Clo', 'Act']]"
   ]
  },
  {
   "cell_type": "code",
   "execution_count": 14,
   "metadata": {
    "ExecuteTime": {
     "end_time": "2020-11-13T08:45:21.994452Z",
     "start_time": "2020-11-13T08:45:21.992411Z"
    }
   },
   "outputs": [],
   "source": [
    "X_cols_name = X_data.columns"
   ]
  },
  {
   "cell_type": "code",
   "execution_count": 15,
   "metadata": {
    "ExecuteTime": {
     "end_time": "2020-11-13T08:45:21.998738Z",
     "start_time": "2020-11-13T08:45:21.996261Z"
    }
   },
   "outputs": [],
   "source": [
    "y_data = df_shuffle['env_temp']"
   ]
  },
  {
   "cell_type": "markdown",
   "metadata": {},
   "source": [
    "### imputation"
   ]
  },
  {
   "cell_type": "code",
   "execution_count": 16,
   "metadata": {
    "ExecuteTime": {
     "end_time": "2020-11-13T08:45:22.012077Z",
     "start_time": "2020-11-13T08:45:22.001220Z"
    }
   },
   "outputs": [
    {
     "data": {
      "text/html": [
       "<div>\n",
       "<style scoped>\n",
       "    .dataframe tbody tr th:only-of-type {\n",
       "        vertical-align: middle;\n",
       "    }\n",
       "\n",
       "    .dataframe tbody tr th {\n",
       "        vertical-align: top;\n",
       "    }\n",
       "\n",
       "    .dataframe thead th {\n",
       "        text-align: right;\n",
       "    }\n",
       "</style>\n",
       "<table border=\"1\" class=\"dataframe\">\n",
       "  <thead>\n",
       "    <tr style=\"text-align: right;\">\n",
       "      <th></th>\n",
       "      <th>col</th>\n",
       "    </tr>\n",
       "  </thead>\n",
       "  <tbody>\n",
       "    <tr>\n",
       "      <th>heart_rate</th>\n",
       "      <td>510</td>\n",
       "    </tr>\n",
       "    <tr>\n",
       "      <th>stress_level</th>\n",
       "      <td>830</td>\n",
       "    </tr>\n",
       "    <tr>\n",
       "      <th>skin_temp</th>\n",
       "      <td>752</td>\n",
       "    </tr>\n",
       "    <tr>\n",
       "      <th>eda</th>\n",
       "      <td>327</td>\n",
       "    </tr>\n",
       "  </tbody>\n",
       "</table>\n",
       "</div>"
      ],
      "text/plain": [
       "              col\n",
       "heart_rate    510\n",
       "stress_level  830\n",
       "skin_temp     752\n",
       "eda           327"
      ]
     },
     "execution_count": 16,
     "metadata": {},
     "output_type": "execute_result"
    }
   ],
   "source": [
    "# checking for missing data\n",
    "NAs = pd.concat([df_comfort.isnull().sum()], axis=1, keys=['col'])\n",
    "NAs[NAs.sum(axis=1) > 0]"
   ]
  },
  {
   "cell_type": "code",
   "execution_count": 17,
   "metadata": {
    "ExecuteTime": {
     "end_time": "2020-11-13T08:45:22.016903Z",
     "start_time": "2020-11-13T08:45:22.014261Z"
    }
   },
   "outputs": [],
   "source": [
    "imp = SimpleImputer(strategy='mean')"
   ]
  },
  {
   "cell_type": "code",
   "execution_count": 18,
   "metadata": {
    "ExecuteTime": {
     "end_time": "2020-11-13T08:45:22.027567Z",
     "start_time": "2020-11-13T08:45:22.018459Z"
    }
   },
   "outputs": [],
   "source": [
    "X_data = pd.DataFrame(imp.fit_transform(X_data), columns=X_cols_name)"
   ]
  },
  {
   "cell_type": "code",
   "execution_count": 19,
   "metadata": {
    "ExecuteTime": {
     "end_time": "2020-11-13T08:45:22.045885Z",
     "start_time": "2020-11-13T08:45:22.029559Z"
    },
    "scrolled": true
   },
   "outputs": [
    {
     "data": {
      "text/html": [
       "<div>\n",
       "<style scoped>\n",
       "    .dataframe tbody tr th:only-of-type {\n",
       "        vertical-align: middle;\n",
       "    }\n",
       "\n",
       "    .dataframe tbody tr th {\n",
       "        vertical-align: top;\n",
       "    }\n",
       "\n",
       "    .dataframe thead th {\n",
       "        text-align: right;\n",
       "    }\n",
       "</style>\n",
       "<table border=\"1\" class=\"dataframe\">\n",
       "  <thead>\n",
       "    <tr style=\"text-align: right;\">\n",
       "      <th></th>\n",
       "      <th>height</th>\n",
       "      <th>weight</th>\n",
       "      <th>gender</th>\n",
       "      <th>bmi</th>\n",
       "      <th>age</th>\n",
       "      <th>rh</th>\n",
       "      <th>heart_rate</th>\n",
       "      <th>stress_level</th>\n",
       "      <th>skin_temp</th>\n",
       "      <th>eda</th>\n",
       "      <th>TC</th>\n",
       "      <th>TS</th>\n",
       "      <th>Clo</th>\n",
       "      <th>Act</th>\n",
       "    </tr>\n",
       "  </thead>\n",
       "  <tbody>\n",
       "    <tr>\n",
       "      <th>0</th>\n",
       "      <td>1.60</td>\n",
       "      <td>52.5</td>\n",
       "      <td>1.0</td>\n",
       "      <td>20.507812</td>\n",
       "      <td>24.0</td>\n",
       "      <td>62.985</td>\n",
       "      <td>83.000000</td>\n",
       "      <td>19.500000</td>\n",
       "      <td>32.003449</td>\n",
       "      <td>0.176971</td>\n",
       "      <td>4.0</td>\n",
       "      <td>4.0</td>\n",
       "      <td>0.61</td>\n",
       "      <td>1.1</td>\n",
       "    </tr>\n",
       "    <tr>\n",
       "      <th>1</th>\n",
       "      <td>1.77</td>\n",
       "      <td>58.0</td>\n",
       "      <td>-1.0</td>\n",
       "      <td>18.513199</td>\n",
       "      <td>23.0</td>\n",
       "      <td>48.702</td>\n",
       "      <td>79.000000</td>\n",
       "      <td>2.000000</td>\n",
       "      <td>30.933000</td>\n",
       "      <td>0.038822</td>\n",
       "      <td>4.0</td>\n",
       "      <td>4.0</td>\n",
       "      <td>0.36</td>\n",
       "      <td>1.1</td>\n",
       "    </tr>\n",
       "    <tr>\n",
       "      <th>2</th>\n",
       "      <td>1.71</td>\n",
       "      <td>64.0</td>\n",
       "      <td>-1.0</td>\n",
       "      <td>21.887076</td>\n",
       "      <td>27.0</td>\n",
       "      <td>47.990</td>\n",
       "      <td>79.500000</td>\n",
       "      <td>33.000000</td>\n",
       "      <td>33.199000</td>\n",
       "      <td>0.475946</td>\n",
       "      <td>4.0</td>\n",
       "      <td>4.0</td>\n",
       "      <td>0.61</td>\n",
       "      <td>1.0</td>\n",
       "    </tr>\n",
       "    <tr>\n",
       "      <th>3</th>\n",
       "      <td>1.77</td>\n",
       "      <td>58.0</td>\n",
       "      <td>-1.0</td>\n",
       "      <td>18.513199</td>\n",
       "      <td>23.0</td>\n",
       "      <td>52.445</td>\n",
       "      <td>92.000000</td>\n",
       "      <td>53.000000</td>\n",
       "      <td>30.431000</td>\n",
       "      <td>0.009852</td>\n",
       "      <td>4.0</td>\n",
       "      <td>4.0</td>\n",
       "      <td>0.36</td>\n",
       "      <td>1.0</td>\n",
       "    </tr>\n",
       "    <tr>\n",
       "      <th>4</th>\n",
       "      <td>1.77</td>\n",
       "      <td>58.0</td>\n",
       "      <td>-1.0</td>\n",
       "      <td>18.513199</td>\n",
       "      <td>23.0</td>\n",
       "      <td>56.396</td>\n",
       "      <td>78.435828</td>\n",
       "      <td>80.000000</td>\n",
       "      <td>30.087000</td>\n",
       "      <td>0.003597</td>\n",
       "      <td>4.0</td>\n",
       "      <td>4.0</td>\n",
       "      <td>0.36</td>\n",
       "      <td>1.0</td>\n",
       "    </tr>\n",
       "    <tr>\n",
       "      <th>...</th>\n",
       "      <td>...</td>\n",
       "      <td>...</td>\n",
       "      <td>...</td>\n",
       "      <td>...</td>\n",
       "      <td>...</td>\n",
       "      <td>...</td>\n",
       "      <td>...</td>\n",
       "      <td>...</td>\n",
       "      <td>...</td>\n",
       "      <td>...</td>\n",
       "      <td>...</td>\n",
       "      <td>...</td>\n",
       "      <td>...</td>\n",
       "      <td>...</td>\n",
       "    </tr>\n",
       "    <tr>\n",
       "      <th>2523</th>\n",
       "      <td>1.66</td>\n",
       "      <td>57.0</td>\n",
       "      <td>1.0</td>\n",
       "      <td>20.685150</td>\n",
       "      <td>25.0</td>\n",
       "      <td>52.940</td>\n",
       "      <td>61.000000</td>\n",
       "      <td>2.000000</td>\n",
       "      <td>30.854000</td>\n",
       "      <td>0.008716</td>\n",
       "      <td>4.0</td>\n",
       "      <td>4.0</td>\n",
       "      <td>0.54</td>\n",
       "      <td>1.0</td>\n",
       "    </tr>\n",
       "    <tr>\n",
       "      <th>2524</th>\n",
       "      <td>1.69</td>\n",
       "      <td>75.0</td>\n",
       "      <td>-1.0</td>\n",
       "      <td>26.259585</td>\n",
       "      <td>24.0</td>\n",
       "      <td>47.010</td>\n",
       "      <td>78.435828</td>\n",
       "      <td>32.111013</td>\n",
       "      <td>31.300000</td>\n",
       "      <td>0.025626</td>\n",
       "      <td>3.0</td>\n",
       "      <td>4.0</td>\n",
       "      <td>0.36</td>\n",
       "      <td>1.0</td>\n",
       "    </tr>\n",
       "    <tr>\n",
       "      <th>2525</th>\n",
       "      <td>1.60</td>\n",
       "      <td>63.0</td>\n",
       "      <td>1.0</td>\n",
       "      <td>24.609375</td>\n",
       "      <td>24.0</td>\n",
       "      <td>45.760</td>\n",
       "      <td>105.000000</td>\n",
       "      <td>32.111013</td>\n",
       "      <td>32.003449</td>\n",
       "      <td>0.013018</td>\n",
       "      <td>4.0</td>\n",
       "      <td>4.0</td>\n",
       "      <td>0.50</td>\n",
       "      <td>1.1</td>\n",
       "    </tr>\n",
       "    <tr>\n",
       "      <th>2526</th>\n",
       "      <td>1.74</td>\n",
       "      <td>65.0</td>\n",
       "      <td>-1.0</td>\n",
       "      <td>21.469150</td>\n",
       "      <td>23.0</td>\n",
       "      <td>53.640</td>\n",
       "      <td>78.435828</td>\n",
       "      <td>32.111013</td>\n",
       "      <td>34.150000</td>\n",
       "      <td>0.131368</td>\n",
       "      <td>4.0</td>\n",
       "      <td>7.0</td>\n",
       "      <td>0.54</td>\n",
       "      <td>0.8</td>\n",
       "    </tr>\n",
       "    <tr>\n",
       "      <th>2527</th>\n",
       "      <td>1.60</td>\n",
       "      <td>52.5</td>\n",
       "      <td>1.0</td>\n",
       "      <td>20.507812</td>\n",
       "      <td>24.0</td>\n",
       "      <td>52.443</td>\n",
       "      <td>75.000000</td>\n",
       "      <td>20.000000</td>\n",
       "      <td>30.669000</td>\n",
       "      <td>0.046915</td>\n",
       "      <td>4.0</td>\n",
       "      <td>4.0</td>\n",
       "      <td>0.96</td>\n",
       "      <td>1.1</td>\n",
       "    </tr>\n",
       "  </tbody>\n",
       "</table>\n",
       "<p>2528 rows × 14 columns</p>\n",
       "</div>"
      ],
      "text/plain": [
       "      height  weight  gender        bmi   age      rh  heart_rate  \\\n",
       "0       1.60    52.5     1.0  20.507812  24.0  62.985   83.000000   \n",
       "1       1.77    58.0    -1.0  18.513199  23.0  48.702   79.000000   \n",
       "2       1.71    64.0    -1.0  21.887076  27.0  47.990   79.500000   \n",
       "3       1.77    58.0    -1.0  18.513199  23.0  52.445   92.000000   \n",
       "4       1.77    58.0    -1.0  18.513199  23.0  56.396   78.435828   \n",
       "...      ...     ...     ...        ...   ...     ...         ...   \n",
       "2523    1.66    57.0     1.0  20.685150  25.0  52.940   61.000000   \n",
       "2524    1.69    75.0    -1.0  26.259585  24.0  47.010   78.435828   \n",
       "2525    1.60    63.0     1.0  24.609375  24.0  45.760  105.000000   \n",
       "2526    1.74    65.0    -1.0  21.469150  23.0  53.640   78.435828   \n",
       "2527    1.60    52.5     1.0  20.507812  24.0  52.443   75.000000   \n",
       "\n",
       "      stress_level  skin_temp       eda   TC   TS   Clo  Act  \n",
       "0        19.500000  32.003449  0.176971  4.0  4.0  0.61  1.1  \n",
       "1         2.000000  30.933000  0.038822  4.0  4.0  0.36  1.1  \n",
       "2        33.000000  33.199000  0.475946  4.0  4.0  0.61  1.0  \n",
       "3        53.000000  30.431000  0.009852  4.0  4.0  0.36  1.0  \n",
       "4        80.000000  30.087000  0.003597  4.0  4.0  0.36  1.0  \n",
       "...            ...        ...       ...  ...  ...   ...  ...  \n",
       "2523      2.000000  30.854000  0.008716  4.0  4.0  0.54  1.0  \n",
       "2524     32.111013  31.300000  0.025626  3.0  4.0  0.36  1.0  \n",
       "2525     32.111013  32.003449  0.013018  4.0  4.0  0.50  1.1  \n",
       "2526     32.111013  34.150000  0.131368  4.0  7.0  0.54  0.8  \n",
       "2527     20.000000  30.669000  0.046915  4.0  4.0  0.96  1.1  \n",
       "\n",
       "[2528 rows x 14 columns]"
      ]
     },
     "execution_count": 19,
     "metadata": {},
     "output_type": "execute_result"
    }
   ],
   "source": [
    "X_data"
   ]
  },
  {
   "cell_type": "markdown",
   "metadata": {},
   "source": [
    "### normalize"
   ]
  },
  {
   "cell_type": "code",
   "execution_count": 20,
   "metadata": {
    "ExecuteTime": {
     "end_time": "2020-11-13T08:45:22.052142Z",
     "start_time": "2020-11-13T08:45:22.048172Z"
    }
   },
   "outputs": [],
   "source": [
    "X_array_normalize, X_norm = normalize(X_data, axis=0, return_norm=True)"
   ]
  },
  {
   "cell_type": "code",
   "execution_count": 21,
   "metadata": {
    "ExecuteTime": {
     "end_time": "2020-11-13T08:45:22.057210Z",
     "start_time": "2020-11-13T08:45:22.054324Z"
    }
   },
   "outputs": [],
   "source": [
    "X_data = pd.DataFrame(X_array_normalize, columns=X_cols_name)"
   ]
  },
  {
   "cell_type": "code",
   "execution_count": 22,
   "metadata": {
    "ExecuteTime": {
     "end_time": "2020-11-13T08:45:22.077390Z",
     "start_time": "2020-11-13T08:45:22.060340Z"
    }
   },
   "outputs": [
    {
     "data": {
      "text/html": [
       "<div>\n",
       "<style scoped>\n",
       "    .dataframe tbody tr th:only-of-type {\n",
       "        vertical-align: middle;\n",
       "    }\n",
       "\n",
       "    .dataframe tbody tr th {\n",
       "        vertical-align: top;\n",
       "    }\n",
       "\n",
       "    .dataframe thead th {\n",
       "        text-align: right;\n",
       "    }\n",
       "</style>\n",
       "<table border=\"1\" class=\"dataframe\">\n",
       "  <thead>\n",
       "    <tr style=\"text-align: right;\">\n",
       "      <th></th>\n",
       "      <th>height</th>\n",
       "      <th>weight</th>\n",
       "      <th>gender</th>\n",
       "      <th>bmi</th>\n",
       "      <th>age</th>\n",
       "      <th>rh</th>\n",
       "      <th>heart_rate</th>\n",
       "      <th>stress_level</th>\n",
       "      <th>skin_temp</th>\n",
       "      <th>eda</th>\n",
       "      <th>TC</th>\n",
       "      <th>TS</th>\n",
       "      <th>Clo</th>\n",
       "      <th>Act</th>\n",
       "    </tr>\n",
       "  </thead>\n",
       "  <tbody>\n",
       "    <tr>\n",
       "      <th>0</th>\n",
       "      <td>0.018674</td>\n",
       "      <td>0.016305</td>\n",
       "      <td>0.019889</td>\n",
       "      <td>0.018573</td>\n",
       "      <td>0.019347</td>\n",
       "      <td>0.024127</td>\n",
       "      <td>0.020630</td>\n",
       "      <td>0.010107</td>\n",
       "      <td>0.019882</td>\n",
       "      <td>0.000866</td>\n",
       "      <td>0.020182</td>\n",
       "      <td>0.018018</td>\n",
       "      <td>0.022576</td>\n",
       "      <td>0.018588</td>\n",
       "    </tr>\n",
       "    <tr>\n",
       "      <th>1</th>\n",
       "      <td>0.020659</td>\n",
       "      <td>0.018013</td>\n",
       "      <td>-0.019889</td>\n",
       "      <td>0.016766</td>\n",
       "      <td>0.018541</td>\n",
       "      <td>0.018656</td>\n",
       "      <td>0.019635</td>\n",
       "      <td>0.001037</td>\n",
       "      <td>0.019217</td>\n",
       "      <td>0.000190</td>\n",
       "      <td>0.020182</td>\n",
       "      <td>0.018018</td>\n",
       "      <td>0.013323</td>\n",
       "      <td>0.018588</td>\n",
       "    </tr>\n",
       "    <tr>\n",
       "      <th>2</th>\n",
       "      <td>0.019958</td>\n",
       "      <td>0.019877</td>\n",
       "      <td>-0.019889</td>\n",
       "      <td>0.019822</td>\n",
       "      <td>0.021765</td>\n",
       "      <td>0.018383</td>\n",
       "      <td>0.019760</td>\n",
       "      <td>0.017104</td>\n",
       "      <td>0.020624</td>\n",
       "      <td>0.002329</td>\n",
       "      <td>0.020182</td>\n",
       "      <td>0.018018</td>\n",
       "      <td>0.022576</td>\n",
       "      <td>0.016898</td>\n",
       "    </tr>\n",
       "    <tr>\n",
       "      <th>3</th>\n",
       "      <td>0.020659</td>\n",
       "      <td>0.018013</td>\n",
       "      <td>-0.019889</td>\n",
       "      <td>0.016766</td>\n",
       "      <td>0.018541</td>\n",
       "      <td>0.020090</td>\n",
       "      <td>0.022867</td>\n",
       "      <td>0.027470</td>\n",
       "      <td>0.018905</td>\n",
       "      <td>0.000048</td>\n",
       "      <td>0.020182</td>\n",
       "      <td>0.018018</td>\n",
       "      <td>0.013323</td>\n",
       "      <td>0.016898</td>\n",
       "    </tr>\n",
       "    <tr>\n",
       "      <th>4</th>\n",
       "      <td>0.020659</td>\n",
       "      <td>0.018013</td>\n",
       "      <td>-0.019889</td>\n",
       "      <td>0.016766</td>\n",
       "      <td>0.018541</td>\n",
       "      <td>0.021603</td>\n",
       "      <td>0.019495</td>\n",
       "      <td>0.041464</td>\n",
       "      <td>0.018691</td>\n",
       "      <td>0.000018</td>\n",
       "      <td>0.020182</td>\n",
       "      <td>0.018018</td>\n",
       "      <td>0.013323</td>\n",
       "      <td>0.016898</td>\n",
       "    </tr>\n",
       "    <tr>\n",
       "      <th>...</th>\n",
       "      <td>...</td>\n",
       "      <td>...</td>\n",
       "      <td>...</td>\n",
       "      <td>...</td>\n",
       "      <td>...</td>\n",
       "      <td>...</td>\n",
       "      <td>...</td>\n",
       "      <td>...</td>\n",
       "      <td>...</td>\n",
       "      <td>...</td>\n",
       "      <td>...</td>\n",
       "      <td>...</td>\n",
       "      <td>...</td>\n",
       "      <td>...</td>\n",
       "    </tr>\n",
       "    <tr>\n",
       "      <th>2523</th>\n",
       "      <td>0.019375</td>\n",
       "      <td>0.017703</td>\n",
       "      <td>0.019889</td>\n",
       "      <td>0.018733</td>\n",
       "      <td>0.020153</td>\n",
       "      <td>0.020279</td>\n",
       "      <td>0.015161</td>\n",
       "      <td>0.001037</td>\n",
       "      <td>0.019168</td>\n",
       "      <td>0.000043</td>\n",
       "      <td>0.020182</td>\n",
       "      <td>0.018018</td>\n",
       "      <td>0.019985</td>\n",
       "      <td>0.016898</td>\n",
       "    </tr>\n",
       "    <tr>\n",
       "      <th>2524</th>\n",
       "      <td>0.019725</td>\n",
       "      <td>0.023293</td>\n",
       "      <td>-0.019889</td>\n",
       "      <td>0.023782</td>\n",
       "      <td>0.019347</td>\n",
       "      <td>0.018008</td>\n",
       "      <td>0.019495</td>\n",
       "      <td>0.016643</td>\n",
       "      <td>0.019445</td>\n",
       "      <td>0.000125</td>\n",
       "      <td>0.015137</td>\n",
       "      <td>0.018018</td>\n",
       "      <td>0.013323</td>\n",
       "      <td>0.016898</td>\n",
       "    </tr>\n",
       "    <tr>\n",
       "      <th>2525</th>\n",
       "      <td>0.018674</td>\n",
       "      <td>0.019566</td>\n",
       "      <td>0.019889</td>\n",
       "      <td>0.022287</td>\n",
       "      <td>0.019347</td>\n",
       "      <td>0.017529</td>\n",
       "      <td>0.026098</td>\n",
       "      <td>0.016643</td>\n",
       "      <td>0.019882</td>\n",
       "      <td>0.000064</td>\n",
       "      <td>0.020182</td>\n",
       "      <td>0.018018</td>\n",
       "      <td>0.018505</td>\n",
       "      <td>0.018588</td>\n",
       "    </tr>\n",
       "    <tr>\n",
       "      <th>2526</th>\n",
       "      <td>0.020308</td>\n",
       "      <td>0.020188</td>\n",
       "      <td>-0.019889</td>\n",
       "      <td>0.019443</td>\n",
       "      <td>0.018541</td>\n",
       "      <td>0.020548</td>\n",
       "      <td>0.019495</td>\n",
       "      <td>0.016643</td>\n",
       "      <td>0.021215</td>\n",
       "      <td>0.000643</td>\n",
       "      <td>0.020182</td>\n",
       "      <td>0.031532</td>\n",
       "      <td>0.019985</td>\n",
       "      <td>0.013519</td>\n",
       "    </tr>\n",
       "    <tr>\n",
       "      <th>2527</th>\n",
       "      <td>0.018674</td>\n",
       "      <td>0.016305</td>\n",
       "      <td>0.019889</td>\n",
       "      <td>0.018573</td>\n",
       "      <td>0.019347</td>\n",
       "      <td>0.020089</td>\n",
       "      <td>0.018641</td>\n",
       "      <td>0.010366</td>\n",
       "      <td>0.019053</td>\n",
       "      <td>0.000230</td>\n",
       "      <td>0.020182</td>\n",
       "      <td>0.018018</td>\n",
       "      <td>0.035529</td>\n",
       "      <td>0.018588</td>\n",
       "    </tr>\n",
       "  </tbody>\n",
       "</table>\n",
       "<p>2528 rows × 14 columns</p>\n",
       "</div>"
      ],
      "text/plain": [
       "        height    weight    gender       bmi       age        rh  heart_rate  \\\n",
       "0     0.018674  0.016305  0.019889  0.018573  0.019347  0.024127    0.020630   \n",
       "1     0.020659  0.018013 -0.019889  0.016766  0.018541  0.018656    0.019635   \n",
       "2     0.019958  0.019877 -0.019889  0.019822  0.021765  0.018383    0.019760   \n",
       "3     0.020659  0.018013 -0.019889  0.016766  0.018541  0.020090    0.022867   \n",
       "4     0.020659  0.018013 -0.019889  0.016766  0.018541  0.021603    0.019495   \n",
       "...        ...       ...       ...       ...       ...       ...         ...   \n",
       "2523  0.019375  0.017703  0.019889  0.018733  0.020153  0.020279    0.015161   \n",
       "2524  0.019725  0.023293 -0.019889  0.023782  0.019347  0.018008    0.019495   \n",
       "2525  0.018674  0.019566  0.019889  0.022287  0.019347  0.017529    0.026098   \n",
       "2526  0.020308  0.020188 -0.019889  0.019443  0.018541  0.020548    0.019495   \n",
       "2527  0.018674  0.016305  0.019889  0.018573  0.019347  0.020089    0.018641   \n",
       "\n",
       "      stress_level  skin_temp       eda        TC        TS       Clo  \\\n",
       "0         0.010107   0.019882  0.000866  0.020182  0.018018  0.022576   \n",
       "1         0.001037   0.019217  0.000190  0.020182  0.018018  0.013323   \n",
       "2         0.017104   0.020624  0.002329  0.020182  0.018018  0.022576   \n",
       "3         0.027470   0.018905  0.000048  0.020182  0.018018  0.013323   \n",
       "4         0.041464   0.018691  0.000018  0.020182  0.018018  0.013323   \n",
       "...            ...        ...       ...       ...       ...       ...   \n",
       "2523      0.001037   0.019168  0.000043  0.020182  0.018018  0.019985   \n",
       "2524      0.016643   0.019445  0.000125  0.015137  0.018018  0.013323   \n",
       "2525      0.016643   0.019882  0.000064  0.020182  0.018018  0.018505   \n",
       "2526      0.016643   0.021215  0.000643  0.020182  0.031532  0.019985   \n",
       "2527      0.010366   0.019053  0.000230  0.020182  0.018018  0.035529   \n",
       "\n",
       "           Act  \n",
       "0     0.018588  \n",
       "1     0.018588  \n",
       "2     0.016898  \n",
       "3     0.016898  \n",
       "4     0.016898  \n",
       "...        ...  \n",
       "2523  0.016898  \n",
       "2524  0.016898  \n",
       "2525  0.018588  \n",
       "2526  0.013519  \n",
       "2527  0.018588  \n",
       "\n",
       "[2528 rows x 14 columns]"
      ]
     },
     "execution_count": 22,
     "metadata": {},
     "output_type": "execute_result"
    }
   ],
   "source": [
    "X_data"
   ]
  },
  {
   "cell_type": "code",
   "execution_count": 23,
   "metadata": {
    "ExecuteTime": {
     "end_time": "2020-11-13T08:45:22.087053Z",
     "start_time": "2020-11-13T08:45:22.083124Z"
    }
   },
   "outputs": [
    {
     "data": {
      "text/plain": [
       "array([  85.67889413, 3219.80907819,   50.27922036, 1104.20171125,\n",
       "       1240.52690418, 2610.52082164, 4023.35271413, 1929.40521588,\n",
       "       1609.69440491,  204.39639127,  198.19434906,  221.99549545,\n",
       "         27.02021465,   59.17786748])"
      ]
     },
     "execution_count": 23,
     "metadata": {},
     "output_type": "execute_result"
    }
   ],
   "source": [
    "X_norm"
   ]
  },
  {
   "cell_type": "markdown",
   "metadata": {},
   "source": [
    "### train test split"
   ]
  },
  {
   "cell_type": "code",
   "execution_count": 24,
   "metadata": {
    "ExecuteTime": {
     "end_time": "2020-11-13T08:45:22.093506Z",
     "start_time": "2020-11-13T08:45:22.089594Z"
    }
   },
   "outputs": [],
   "source": [
    "X_train, X_test, y_train, y_test = train_test_split(X_data, y_data, test_size=0.2, random_state=1208)"
   ]
  },
  {
   "cell_type": "markdown",
   "metadata": {
    "ExecuteTime": {
     "end_time": "2020-11-12T20:08:00.879833Z",
     "start_time": "2020-11-12T20:08:00.877605Z"
    }
   },
   "source": [
    "## random forest"
   ]
  },
  {
   "cell_type": "code",
   "execution_count": 25,
   "metadata": {
    "ExecuteTime": {
     "end_time": "2020-11-13T08:45:22.097413Z",
     "start_time": "2020-11-13T08:45:22.095031Z"
    }
   },
   "outputs": [],
   "source": [
    "rfr = RandomForestRegressor()"
   ]
  },
  {
   "cell_type": "code",
   "execution_count": 26,
   "metadata": {
    "ExecuteTime": {
     "end_time": "2020-11-13T08:45:22.881925Z",
     "start_time": "2020-11-13T08:45:22.099139Z"
    }
   },
   "outputs": [
    {
     "data": {
      "text/plain": [
       "RandomForestRegressor()"
      ]
     },
     "execution_count": 26,
     "metadata": {},
     "output_type": "execute_result"
    }
   ],
   "source": [
    "rfr.fit(X_train, y_train)"
   ]
  },
  {
   "cell_type": "code",
   "execution_count": 27,
   "metadata": {
    "ExecuteTime": {
     "end_time": "2020-11-13T08:45:22.907512Z",
     "start_time": "2020-11-13T08:45:22.884086Z"
    }
   },
   "outputs": [],
   "source": [
    "y_pred = rfr.predict(X_test)"
   ]
  },
  {
   "cell_type": "code",
   "execution_count": 28,
   "metadata": {
    "ExecuteTime": {
     "end_time": "2020-11-13T08:45:22.913796Z",
     "start_time": "2020-11-13T08:45:22.909687Z"
    }
   },
   "outputs": [
    {
     "data": {
      "text/plain": [
       "2.849770312139723"
      ]
     },
     "execution_count": 28,
     "metadata": {},
     "output_type": "execute_result"
    }
   ],
   "source": [
    "# mean squared error\n",
    "mean_squared_error(y_test, y_pred)"
   ]
  },
  {
   "cell_type": "code",
   "execution_count": 29,
   "metadata": {
    "ExecuteTime": {
     "end_time": "2020-11-13T08:45:22.920475Z",
     "start_time": "2020-11-13T08:45:22.915724Z"
    }
   },
   "outputs": [
    {
     "data": {
      "text/plain": [
       "0.6081044670797107"
      ]
     },
     "execution_count": 29,
     "metadata": {},
     "output_type": "execute_result"
    }
   ],
   "source": [
    "# R2 score\n",
    "r2_score(y_test, y_pred)"
   ]
  },
  {
   "cell_type": "code",
   "execution_count": null,
   "metadata": {},
   "outputs": [],
   "source": []
  },
  {
   "cell_type": "code",
   "execution_count": null,
   "metadata": {},
   "outputs": [],
   "source": []
  },
  {
   "cell_type": "code",
   "execution_count": null,
   "metadata": {},
   "outputs": [],
   "source": []
  },
  {
   "cell_type": "code",
   "execution_count": null,
   "metadata": {},
   "outputs": [],
   "source": []
  },
  {
   "cell_type": "code",
   "execution_count": null,
   "metadata": {},
   "outputs": [],
   "source": []
  },
  {
   "cell_type": "code",
   "execution_count": null,
   "metadata": {},
   "outputs": [],
   "source": []
  },
  {
   "cell_type": "code",
   "execution_count": null,
   "metadata": {},
   "outputs": [],
   "source": []
  },
  {
   "cell_type": "code",
   "execution_count": null,
   "metadata": {},
   "outputs": [],
   "source": []
  },
  {
   "cell_type": "code",
   "execution_count": null,
   "metadata": {},
   "outputs": [],
   "source": []
  },
  {
   "cell_type": "code",
   "execution_count": null,
   "metadata": {},
   "outputs": [],
   "source": []
  }
 ],
 "metadata": {
  "kernelspec": {
   "display_name": "Python [conda env:ml]",
   "language": "python",
   "name": "conda-env-ml-py"
  },
  "language_info": {
   "codemirror_mode": {
    "name": "ipython",
    "version": 3
   },
   "file_extension": ".py",
   "mimetype": "text/x-python",
   "name": "python",
   "nbconvert_exporter": "python",
   "pygments_lexer": "ipython3",
   "version": "3.6.10"
  },
  "toc": {
   "base_numbering": 1,
   "nav_menu": {},
   "number_sections": true,
   "sideBar": true,
   "skip_h1_title": false,
   "title_cell": "Table of Contents",
   "title_sidebar": "Contents",
   "toc_cell": false,
   "toc_position": {
    "height": "calc(100% - 180px)",
    "left": "10px",
    "top": "150px",
    "width": "231px"
   },
   "toc_section_display": true,
   "toc_window_display": true
  }
 },
 "nbformat": 4,
 "nbformat_minor": 4
}
