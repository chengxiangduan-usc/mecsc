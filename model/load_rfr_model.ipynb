{
 "cells": [
  {
   "cell_type": "code",
   "execution_count": 7,
   "metadata": {
    "ExecuteTime": {
     "end_time": "2020-11-13T03:09:27.209202Z",
     "start_time": "2020-11-13T03:09:26.533577Z"
    }
   },
   "outputs": [],
   "source": [
    "%matplotlib inline\n",
    "import pandas as pd\n",
    "import numpy as np"
   ]
  },
  {
   "cell_type": "code",
   "execution_count": 1,
   "metadata": {
    "ExecuteTime": {
     "end_time": "2020-11-13T03:07:46.194956Z",
     "start_time": "2020-11-13T03:07:45.182516Z"
    }
   },
   "outputs": [],
   "source": [
    "# from sklearn.ensemble import RandomForestRegressor\n",
    "\n",
    "from sklearn.metrics import mean_squared_error, r2_score\n",
    "\n",
    "from sklearn import tree\n",
    "import joblib\n",
    "\n",
    "import scipy"
   ]
  },
  {
   "cell_type": "code",
   "execution_count": 2,
   "metadata": {
    "ExecuteTime": {
     "end_time": "2020-11-13T03:08:00.511261Z",
     "start_time": "2020-11-13T03:08:00.508406Z"
    }
   },
   "outputs": [],
   "source": [
    "filename = './model/rfr.sav'"
   ]
  },
  {
   "cell_type": "code",
   "execution_count": 3,
   "metadata": {
    "ExecuteTime": {
     "end_time": "2020-11-13T03:08:09.193859Z",
     "start_time": "2020-11-13T03:08:08.877279Z"
    }
   },
   "outputs": [],
   "source": [
    "rfr = joblib.load(filename)"
   ]
  },
  {
   "cell_type": "code",
   "execution_count": 16,
   "metadata": {
    "ExecuteTime": {
     "end_time": "2020-11-13T03:15:51.080567Z",
     "start_time": "2020-11-13T03:15:51.076096Z"
    }
   },
   "outputs": [
    {
     "data": {
      "text/plain": [
       "RandomForestRegressor(max_depth=18, max_features=3, n_estimators=700,\n",
       "                      random_state=1208)"
      ]
     },
     "execution_count": 16,
     "metadata": {},
     "output_type": "execute_result"
    }
   ],
   "source": [
    "rfr"
   ]
  },
  {
   "cell_type": "code",
   "execution_count": 8,
   "metadata": {
    "ExecuteTime": {
     "end_time": "2020-11-13T03:09:29.065175Z",
     "start_time": "2020-11-13T03:09:29.053135Z"
    }
   },
   "outputs": [],
   "source": [
    "pth_data = './processed_data/train_refine_not_norm.csv'\n",
    "df_data = pd.read_csv(pth_data)"
   ]
  },
  {
   "cell_type": "code",
   "execution_count": 9,
   "metadata": {
    "ExecuteTime": {
     "end_time": "2020-11-13T03:09:32.389899Z",
     "start_time": "2020-11-13T03:09:32.367414Z"
    }
   },
   "outputs": [
    {
     "data": {
      "text/html": [
       "<div>\n",
       "<style scoped>\n",
       "    .dataframe tbody tr th:only-of-type {\n",
       "        vertical-align: middle;\n",
       "    }\n",
       "\n",
       "    .dataframe tbody tr th {\n",
       "        vertical-align: top;\n",
       "    }\n",
       "\n",
       "    .dataframe thead th {\n",
       "        text-align: right;\n",
       "    }\n",
       "</style>\n",
       "<table border=\"1\" class=\"dataframe\">\n",
       "  <thead>\n",
       "    <tr style=\"text-align: right;\">\n",
       "      <th></th>\n",
       "      <th>height</th>\n",
       "      <th>weight</th>\n",
       "      <th>gender</th>\n",
       "      <th>bmi</th>\n",
       "      <th>age</th>\n",
       "      <th>rh</th>\n",
       "      <th>heart_rate</th>\n",
       "      <th>stress_level</th>\n",
       "      <th>skin_temp</th>\n",
       "      <th>eda</th>\n",
       "      <th>TC</th>\n",
       "      <th>TS</th>\n",
       "      <th>Clo</th>\n",
       "      <th>Act</th>\n",
       "      <th>env_temp</th>\n",
       "    </tr>\n",
       "  </thead>\n",
       "  <tbody>\n",
       "    <tr>\n",
       "      <th>0</th>\n",
       "      <td>1.60</td>\n",
       "      <td>52.5</td>\n",
       "      <td>1.0</td>\n",
       "      <td>20.507812</td>\n",
       "      <td>24.0</td>\n",
       "      <td>62.985</td>\n",
       "      <td>83.000000</td>\n",
       "      <td>19.500000</td>\n",
       "      <td>32.003449</td>\n",
       "      <td>0.176971</td>\n",
       "      <td>4.0</td>\n",
       "      <td>4.0</td>\n",
       "      <td>0.61</td>\n",
       "      <td>1.1</td>\n",
       "      <td>75.942</td>\n",
       "    </tr>\n",
       "    <tr>\n",
       "      <th>1</th>\n",
       "      <td>1.77</td>\n",
       "      <td>58.0</td>\n",
       "      <td>-1.0</td>\n",
       "      <td>18.513199</td>\n",
       "      <td>23.0</td>\n",
       "      <td>48.702</td>\n",
       "      <td>79.000000</td>\n",
       "      <td>2.000000</td>\n",
       "      <td>30.933000</td>\n",
       "      <td>0.038821</td>\n",
       "      <td>4.0</td>\n",
       "      <td>4.0</td>\n",
       "      <td>0.36</td>\n",
       "      <td>1.1</td>\n",
       "      <td>77.378</td>\n",
       "    </tr>\n",
       "    <tr>\n",
       "      <th>2</th>\n",
       "      <td>1.71</td>\n",
       "      <td>64.0</td>\n",
       "      <td>-1.0</td>\n",
       "      <td>21.887076</td>\n",
       "      <td>27.0</td>\n",
       "      <td>47.990</td>\n",
       "      <td>79.333991</td>\n",
       "      <td>33.000000</td>\n",
       "      <td>33.199000</td>\n",
       "      <td>0.475946</td>\n",
       "      <td>4.0</td>\n",
       "      <td>4.0</td>\n",
       "      <td>0.61</td>\n",
       "      <td>1.0</td>\n",
       "      <td>75.484</td>\n",
       "    </tr>\n",
       "    <tr>\n",
       "      <th>3</th>\n",
       "      <td>1.77</td>\n",
       "      <td>58.0</td>\n",
       "      <td>-1.0</td>\n",
       "      <td>18.513199</td>\n",
       "      <td>23.0</td>\n",
       "      <td>52.445</td>\n",
       "      <td>92.000000</td>\n",
       "      <td>53.000000</td>\n",
       "      <td>30.431000</td>\n",
       "      <td>0.009851</td>\n",
       "      <td>4.0</td>\n",
       "      <td>4.0</td>\n",
       "      <td>0.36</td>\n",
       "      <td>1.0</td>\n",
       "      <td>77.203</td>\n",
       "    </tr>\n",
       "    <tr>\n",
       "      <th>4</th>\n",
       "      <td>1.77</td>\n",
       "      <td>58.0</td>\n",
       "      <td>-1.0</td>\n",
       "      <td>18.513199</td>\n",
       "      <td>23.0</td>\n",
       "      <td>56.396</td>\n",
       "      <td>79.333991</td>\n",
       "      <td>80.000000</td>\n",
       "      <td>30.087000</td>\n",
       "      <td>0.003597</td>\n",
       "      <td>4.0</td>\n",
       "      <td>4.0</td>\n",
       "      <td>0.36</td>\n",
       "      <td>1.0</td>\n",
       "      <td>77.902</td>\n",
       "    </tr>\n",
       "    <tr>\n",
       "      <th>...</th>\n",
       "      <td>...</td>\n",
       "      <td>...</td>\n",
       "      <td>...</td>\n",
       "      <td>...</td>\n",
       "      <td>...</td>\n",
       "      <td>...</td>\n",
       "      <td>...</td>\n",
       "      <td>...</td>\n",
       "      <td>...</td>\n",
       "      <td>...</td>\n",
       "      <td>...</td>\n",
       "      <td>...</td>\n",
       "      <td>...</td>\n",
       "      <td>...</td>\n",
       "      <td>...</td>\n",
       "    </tr>\n",
       "    <tr>\n",
       "      <th>2282</th>\n",
       "      <td>1.77</td>\n",
       "      <td>90.0</td>\n",
       "      <td>-1.0</td>\n",
       "      <td>28.727377</td>\n",
       "      <td>28.0</td>\n",
       "      <td>59.397</td>\n",
       "      <td>72.000000</td>\n",
       "      <td>33.000000</td>\n",
       "      <td>31.353000</td>\n",
       "      <td>0.254152</td>\n",
       "      <td>4.0</td>\n",
       "      <td>4.0</td>\n",
       "      <td>0.36</td>\n",
       "      <td>1.1</td>\n",
       "      <td>74.467</td>\n",
       "    </tr>\n",
       "    <tr>\n",
       "      <th>2283</th>\n",
       "      <td>1.71</td>\n",
       "      <td>64.0</td>\n",
       "      <td>-1.0</td>\n",
       "      <td>21.887076</td>\n",
       "      <td>27.0</td>\n",
       "      <td>47.190</td>\n",
       "      <td>81.000000</td>\n",
       "      <td>32.111013</td>\n",
       "      <td>32.003449</td>\n",
       "      <td>0.667239</td>\n",
       "      <td>4.0</td>\n",
       "      <td>4.0</td>\n",
       "      <td>0.74</td>\n",
       "      <td>1.0</td>\n",
       "      <td>73.753</td>\n",
       "    </tr>\n",
       "    <tr>\n",
       "      <th>2284</th>\n",
       "      <td>1.66</td>\n",
       "      <td>57.0</td>\n",
       "      <td>1.0</td>\n",
       "      <td>20.685150</td>\n",
       "      <td>25.0</td>\n",
       "      <td>52.940</td>\n",
       "      <td>79.333991</td>\n",
       "      <td>2.000000</td>\n",
       "      <td>30.854000</td>\n",
       "      <td>0.008716</td>\n",
       "      <td>4.0</td>\n",
       "      <td>4.0</td>\n",
       "      <td>0.54</td>\n",
       "      <td>1.0</td>\n",
       "      <td>76.703</td>\n",
       "    </tr>\n",
       "    <tr>\n",
       "      <th>2285</th>\n",
       "      <td>1.69</td>\n",
       "      <td>75.0</td>\n",
       "      <td>-1.0</td>\n",
       "      <td>26.259585</td>\n",
       "      <td>24.0</td>\n",
       "      <td>47.010</td>\n",
       "      <td>79.333991</td>\n",
       "      <td>32.111013</td>\n",
       "      <td>31.300000</td>\n",
       "      <td>0.025626</td>\n",
       "      <td>3.0</td>\n",
       "      <td>4.0</td>\n",
       "      <td>0.36</td>\n",
       "      <td>1.0</td>\n",
       "      <td>75.484</td>\n",
       "    </tr>\n",
       "    <tr>\n",
       "      <th>2286</th>\n",
       "      <td>1.74</td>\n",
       "      <td>65.0</td>\n",
       "      <td>-1.0</td>\n",
       "      <td>21.469150</td>\n",
       "      <td>23.0</td>\n",
       "      <td>53.640</td>\n",
       "      <td>79.333991</td>\n",
       "      <td>32.111013</td>\n",
       "      <td>34.150000</td>\n",
       "      <td>0.131368</td>\n",
       "      <td>4.0</td>\n",
       "      <td>7.0</td>\n",
       "      <td>0.54</td>\n",
       "      <td>0.8</td>\n",
       "      <td>79.151</td>\n",
       "    </tr>\n",
       "  </tbody>\n",
       "</table>\n",
       "<p>2287 rows × 15 columns</p>\n",
       "</div>"
      ],
      "text/plain": [
       "      height  weight  gender        bmi   age      rh  heart_rate  \\\n",
       "0       1.60    52.5     1.0  20.507812  24.0  62.985   83.000000   \n",
       "1       1.77    58.0    -1.0  18.513199  23.0  48.702   79.000000   \n",
       "2       1.71    64.0    -1.0  21.887076  27.0  47.990   79.333991   \n",
       "3       1.77    58.0    -1.0  18.513199  23.0  52.445   92.000000   \n",
       "4       1.77    58.0    -1.0  18.513199  23.0  56.396   79.333991   \n",
       "...      ...     ...     ...        ...   ...     ...         ...   \n",
       "2282    1.77    90.0    -1.0  28.727377  28.0  59.397   72.000000   \n",
       "2283    1.71    64.0    -1.0  21.887076  27.0  47.190   81.000000   \n",
       "2284    1.66    57.0     1.0  20.685150  25.0  52.940   79.333991   \n",
       "2285    1.69    75.0    -1.0  26.259585  24.0  47.010   79.333991   \n",
       "2286    1.74    65.0    -1.0  21.469150  23.0  53.640   79.333991   \n",
       "\n",
       "      stress_level  skin_temp       eda   TC   TS   Clo  Act  env_temp  \n",
       "0        19.500000  32.003449  0.176971  4.0  4.0  0.61  1.1    75.942  \n",
       "1         2.000000  30.933000  0.038821  4.0  4.0  0.36  1.1    77.378  \n",
       "2        33.000000  33.199000  0.475946  4.0  4.0  0.61  1.0    75.484  \n",
       "3        53.000000  30.431000  0.009851  4.0  4.0  0.36  1.0    77.203  \n",
       "4        80.000000  30.087000  0.003597  4.0  4.0  0.36  1.0    77.902  \n",
       "...            ...        ...       ...  ...  ...   ...  ...       ...  \n",
       "2282     33.000000  31.353000  0.254152  4.0  4.0  0.36  1.1    74.467  \n",
       "2283     32.111013  32.003449  0.667239  4.0  4.0  0.74  1.0    73.753  \n",
       "2284      2.000000  30.854000  0.008716  4.0  4.0  0.54  1.0    76.703  \n",
       "2285     32.111013  31.300000  0.025626  3.0  4.0  0.36  1.0    75.484  \n",
       "2286     32.111013  34.150000  0.131368  4.0  7.0  0.54  0.8    79.151  \n",
       "\n",
       "[2287 rows x 15 columns]"
      ]
     },
     "execution_count": 9,
     "metadata": {},
     "output_type": "execute_result"
    }
   ],
   "source": [
    "df_data"
   ]
  },
  {
   "cell_type": "code",
   "execution_count": 10,
   "metadata": {
    "ExecuteTime": {
     "end_time": "2020-11-13T03:09:59.832288Z",
     "start_time": "2020-11-13T03:09:59.829501Z"
    }
   },
   "outputs": [],
   "source": [
    "X_test = df_data.iloc[:, :-1]"
   ]
  },
  {
   "cell_type": "code",
   "execution_count": 11,
   "metadata": {
    "ExecuteTime": {
     "end_time": "2020-11-13T03:10:12.196595Z",
     "start_time": "2020-11-13T03:10:12.193439Z"
    }
   },
   "outputs": [],
   "source": [
    "y_test = df_data['env_temp']"
   ]
  },
  {
   "cell_type": "code",
   "execution_count": 13,
   "metadata": {
    "ExecuteTime": {
     "end_time": "2020-11-13T03:10:35.362077Z",
     "start_time": "2020-11-13T03:10:35.100160Z"
    }
   },
   "outputs": [],
   "source": [
    "y_pred = rfr.predict(X_test)"
   ]
  },
  {
   "cell_type": "code",
   "execution_count": 14,
   "metadata": {
    "ExecuteTime": {
     "end_time": "2020-11-13T03:11:28.497391Z",
     "start_time": "2020-11-13T03:11:28.492651Z"
    }
   },
   "outputs": [
    {
     "data": {
      "text/plain": [
       "0.2144871877500676"
      ]
     },
     "execution_count": 14,
     "metadata": {},
     "output_type": "execute_result"
    }
   ],
   "source": [
    "# mean squared error\n",
    "mean_squared_error(y_test, y_pred)"
   ]
  },
  {
   "cell_type": "code",
   "execution_count": 15,
   "metadata": {
    "ExecuteTime": {
     "end_time": "2020-11-13T03:11:29.673018Z",
     "start_time": "2020-11-13T03:11:29.667633Z"
    }
   },
   "outputs": [
    {
     "data": {
      "text/plain": [
       "0.9563198111613269"
      ]
     },
     "execution_count": 15,
     "metadata": {},
     "output_type": "execute_result"
    }
   ],
   "source": [
    "# R2 score\n",
    "r2_score(y_test, y_pred)"
   ]
  },
  {
   "cell_type": "code",
   "execution_count": null,
   "metadata": {},
   "outputs": [],
   "source": []
  },
  {
   "cell_type": "code",
   "execution_count": null,
   "metadata": {},
   "outputs": [],
   "source": []
  },
  {
   "cell_type": "code",
   "execution_count": null,
   "metadata": {},
   "outputs": [],
   "source": []
  },
  {
   "cell_type": "code",
   "execution_count": null,
   "metadata": {},
   "outputs": [],
   "source": []
  },
  {
   "cell_type": "code",
   "execution_count": null,
   "metadata": {},
   "outputs": [],
   "source": []
  },
  {
   "cell_type": "code",
   "execution_count": null,
   "metadata": {},
   "outputs": [],
   "source": []
  },
  {
   "cell_type": "code",
   "execution_count": null,
   "metadata": {},
   "outputs": [],
   "source": []
  },
  {
   "cell_type": "code",
   "execution_count": null,
   "metadata": {},
   "outputs": [],
   "source": []
  },
  {
   "cell_type": "code",
   "execution_count": null,
   "metadata": {},
   "outputs": [],
   "source": []
  },
  {
   "cell_type": "code",
   "execution_count": null,
   "metadata": {},
   "outputs": [],
   "source": []
  },
  {
   "cell_type": "code",
   "execution_count": null,
   "metadata": {},
   "outputs": [],
   "source": []
  },
  {
   "cell_type": "code",
   "execution_count": null,
   "metadata": {},
   "outputs": [],
   "source": []
  }
 ],
 "metadata": {
  "kernelspec": {
   "display_name": "thermal38",
   "language": "python",
   "name": "thermal38"
  },
  "language_info": {
   "codemirror_mode": {
    "name": "ipython",
    "version": 3
   },
   "file_extension": ".py",
   "mimetype": "text/x-python",
   "name": "python",
   "nbconvert_exporter": "python",
   "pygments_lexer": "ipython3",
   "version": "3.8.2"
  },
  "toc": {
   "base_numbering": 1,
   "nav_menu": {},
   "number_sections": true,
   "sideBar": true,
   "skip_h1_title": false,
   "title_cell": "Table of Contents",
   "title_sidebar": "Contents",
   "toc_cell": false,
   "toc_position": {},
   "toc_section_display": true,
   "toc_window_display": false
  }
 },
 "nbformat": 4,
 "nbformat_minor": 4
}
