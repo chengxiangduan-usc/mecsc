{
 "cells": [
  {
   "cell_type": "markdown",
   "metadata": {},
   "source": [
    "not good\n",
    "\n",
    "\n",
    "random forest for refined dataset that selects features with small p-value\n",
    "- imputed with mean value of each column\n",
    "- eliminate outliers and leverges after normalized\n",
    "- select features with small p-value"
   ]
  },
  {
   "cell_type": "code",
   "execution_count": 1,
   "metadata": {
    "ExecuteTime": {
     "end_time": "2020-11-13T08:45:43.784848Z",
     "start_time": "2020-11-13T08:45:42.278615Z"
    }
   },
   "outputs": [],
   "source": [
    "%matplotlib inline\n",
    "import pandas as pd\n",
    "import numpy as np\n",
    "\n",
    "import matplotlib.pyplot as plt\n",
    "import seaborn as sns"
   ]
  },
  {
   "cell_type": "code",
   "execution_count": 2,
   "metadata": {
    "ExecuteTime": {
     "end_time": "2020-11-13T08:45:44.138852Z",
     "start_time": "2020-11-13T08:45:43.787196Z"
    }
   },
   "outputs": [],
   "source": [
    "from sklearn.ensemble import RandomForestRegressor\n",
    "\n",
    "from sklearn.preprocessing import normalize\n",
    "from sklearn.impute import SimpleImputer\n",
    "from sklearn.model_selection import train_test_split\n",
    "\n",
    "from sklearn.model_selection import cross_val_score\n",
    "from sklearn.metrics import mean_squared_error, r2_score\n",
    "\n",
    "import scipy"
   ]
  },
  {
   "cell_type": "code",
   "execution_count": 3,
   "metadata": {
    "ExecuteTime": {
     "end_time": "2020-11-13T08:45:44.143661Z",
     "start_time": "2020-11-13T08:45:44.141025Z"
    }
   },
   "outputs": [],
   "source": [
    "plt.rcParams[\"figure.figsize\"] = (15, 10)"
   ]
  },
  {
   "cell_type": "markdown",
   "metadata": {},
   "source": [
    "## load data"
   ]
  },
  {
   "cell_type": "code",
   "execution_count": 4,
   "metadata": {
    "ExecuteTime": {
     "end_time": "2020-11-13T08:45:44.154486Z",
     "start_time": "2020-11-13T08:45:44.145889Z"
    }
   },
   "outputs": [],
   "source": [
    "pth_data = './processed_data/train_selected_not_norm.csv'\n",
    "df_selected = pd.read_csv(pth_data)"
   ]
  },
  {
   "cell_type": "code",
   "execution_count": 5,
   "metadata": {
    "ExecuteTime": {
     "end_time": "2020-11-13T08:45:44.173503Z",
     "start_time": "2020-11-13T08:45:44.155995Z"
    },
    "scrolled": false
   },
   "outputs": [
    {
     "data": {
      "text/html": [
       "<div>\n",
       "<style scoped>\n",
       "    .dataframe tbody tr th:only-of-type {\n",
       "        vertical-align: middle;\n",
       "    }\n",
       "\n",
       "    .dataframe tbody tr th {\n",
       "        vertical-align: top;\n",
       "    }\n",
       "\n",
       "    .dataframe thead th {\n",
       "        text-align: right;\n",
       "    }\n",
       "</style>\n",
       "<table border=\"1\" class=\"dataframe\">\n",
       "  <thead>\n",
       "    <tr style=\"text-align: right;\">\n",
       "      <th></th>\n",
       "      <th>height</th>\n",
       "      <th>weight</th>\n",
       "      <th>gender</th>\n",
       "      <th>bmi</th>\n",
       "      <th>rh</th>\n",
       "      <th>stress_level</th>\n",
       "      <th>skin_temp</th>\n",
       "      <th>TC</th>\n",
       "      <th>TS</th>\n",
       "      <th>Clo</th>\n",
       "      <th>env_temp</th>\n",
       "    </tr>\n",
       "  </thead>\n",
       "  <tbody>\n",
       "    <tr>\n",
       "      <th>0</th>\n",
       "      <td>1.60</td>\n",
       "      <td>52.5</td>\n",
       "      <td>1.0</td>\n",
       "      <td>20.507812</td>\n",
       "      <td>62.985</td>\n",
       "      <td>19.500000</td>\n",
       "      <td>32.003449</td>\n",
       "      <td>4.0</td>\n",
       "      <td>4.0</td>\n",
       "      <td>0.61</td>\n",
       "      <td>75.942</td>\n",
       "    </tr>\n",
       "    <tr>\n",
       "      <th>1</th>\n",
       "      <td>1.77</td>\n",
       "      <td>58.0</td>\n",
       "      <td>-1.0</td>\n",
       "      <td>18.513199</td>\n",
       "      <td>48.702</td>\n",
       "      <td>2.000000</td>\n",
       "      <td>30.933000</td>\n",
       "      <td>4.0</td>\n",
       "      <td>4.0</td>\n",
       "      <td>0.36</td>\n",
       "      <td>77.378</td>\n",
       "    </tr>\n",
       "    <tr>\n",
       "      <th>2</th>\n",
       "      <td>1.71</td>\n",
       "      <td>64.0</td>\n",
       "      <td>-1.0</td>\n",
       "      <td>21.887076</td>\n",
       "      <td>47.990</td>\n",
       "      <td>33.000000</td>\n",
       "      <td>33.199000</td>\n",
       "      <td>4.0</td>\n",
       "      <td>4.0</td>\n",
       "      <td>0.61</td>\n",
       "      <td>75.484</td>\n",
       "    </tr>\n",
       "    <tr>\n",
       "      <th>3</th>\n",
       "      <td>1.77</td>\n",
       "      <td>58.0</td>\n",
       "      <td>-1.0</td>\n",
       "      <td>18.513199</td>\n",
       "      <td>52.445</td>\n",
       "      <td>53.000000</td>\n",
       "      <td>30.431000</td>\n",
       "      <td>4.0</td>\n",
       "      <td>4.0</td>\n",
       "      <td>0.36</td>\n",
       "      <td>77.203</td>\n",
       "    </tr>\n",
       "    <tr>\n",
       "      <th>4</th>\n",
       "      <td>1.77</td>\n",
       "      <td>58.0</td>\n",
       "      <td>-1.0</td>\n",
       "      <td>18.513199</td>\n",
       "      <td>56.396</td>\n",
       "      <td>80.000000</td>\n",
       "      <td>30.087000</td>\n",
       "      <td>4.0</td>\n",
       "      <td>4.0</td>\n",
       "      <td>0.36</td>\n",
       "      <td>77.902</td>\n",
       "    </tr>\n",
       "    <tr>\n",
       "      <th>...</th>\n",
       "      <td>...</td>\n",
       "      <td>...</td>\n",
       "      <td>...</td>\n",
       "      <td>...</td>\n",
       "      <td>...</td>\n",
       "      <td>...</td>\n",
       "      <td>...</td>\n",
       "      <td>...</td>\n",
       "      <td>...</td>\n",
       "      <td>...</td>\n",
       "      <td>...</td>\n",
       "    </tr>\n",
       "    <tr>\n",
       "      <th>2270</th>\n",
       "      <td>1.77</td>\n",
       "      <td>90.0</td>\n",
       "      <td>-1.0</td>\n",
       "      <td>28.727377</td>\n",
       "      <td>59.397</td>\n",
       "      <td>33.000000</td>\n",
       "      <td>31.353000</td>\n",
       "      <td>4.0</td>\n",
       "      <td>4.0</td>\n",
       "      <td>0.36</td>\n",
       "      <td>74.467</td>\n",
       "    </tr>\n",
       "    <tr>\n",
       "      <th>2271</th>\n",
       "      <td>1.71</td>\n",
       "      <td>64.0</td>\n",
       "      <td>-1.0</td>\n",
       "      <td>21.887076</td>\n",
       "      <td>47.190</td>\n",
       "      <td>32.111013</td>\n",
       "      <td>32.003449</td>\n",
       "      <td>4.0</td>\n",
       "      <td>4.0</td>\n",
       "      <td>0.74</td>\n",
       "      <td>73.753</td>\n",
       "    </tr>\n",
       "    <tr>\n",
       "      <th>2272</th>\n",
       "      <td>1.66</td>\n",
       "      <td>57.0</td>\n",
       "      <td>1.0</td>\n",
       "      <td>20.685150</td>\n",
       "      <td>52.940</td>\n",
       "      <td>2.000000</td>\n",
       "      <td>30.854000</td>\n",
       "      <td>4.0</td>\n",
       "      <td>4.0</td>\n",
       "      <td>0.54</td>\n",
       "      <td>76.703</td>\n",
       "    </tr>\n",
       "    <tr>\n",
       "      <th>2273</th>\n",
       "      <td>1.69</td>\n",
       "      <td>75.0</td>\n",
       "      <td>-1.0</td>\n",
       "      <td>26.259585</td>\n",
       "      <td>47.010</td>\n",
       "      <td>32.111013</td>\n",
       "      <td>31.300000</td>\n",
       "      <td>3.0</td>\n",
       "      <td>4.0</td>\n",
       "      <td>0.36</td>\n",
       "      <td>75.484</td>\n",
       "    </tr>\n",
       "    <tr>\n",
       "      <th>2274</th>\n",
       "      <td>1.74</td>\n",
       "      <td>65.0</td>\n",
       "      <td>-1.0</td>\n",
       "      <td>21.469150</td>\n",
       "      <td>53.640</td>\n",
       "      <td>32.111013</td>\n",
       "      <td>34.150000</td>\n",
       "      <td>4.0</td>\n",
       "      <td>7.0</td>\n",
       "      <td>0.54</td>\n",
       "      <td>79.151</td>\n",
       "    </tr>\n",
       "  </tbody>\n",
       "</table>\n",
       "<p>2275 rows × 11 columns</p>\n",
       "</div>"
      ],
      "text/plain": [
       "      height  weight  gender        bmi      rh  stress_level  skin_temp   TC  \\\n",
       "0       1.60    52.5     1.0  20.507812  62.985     19.500000  32.003449  4.0   \n",
       "1       1.77    58.0    -1.0  18.513199  48.702      2.000000  30.933000  4.0   \n",
       "2       1.71    64.0    -1.0  21.887076  47.990     33.000000  33.199000  4.0   \n",
       "3       1.77    58.0    -1.0  18.513199  52.445     53.000000  30.431000  4.0   \n",
       "4       1.77    58.0    -1.0  18.513199  56.396     80.000000  30.087000  4.0   \n",
       "...      ...     ...     ...        ...     ...           ...        ...  ...   \n",
       "2270    1.77    90.0    -1.0  28.727377  59.397     33.000000  31.353000  4.0   \n",
       "2271    1.71    64.0    -1.0  21.887076  47.190     32.111013  32.003449  4.0   \n",
       "2272    1.66    57.0     1.0  20.685150  52.940      2.000000  30.854000  4.0   \n",
       "2273    1.69    75.0    -1.0  26.259585  47.010     32.111013  31.300000  3.0   \n",
       "2274    1.74    65.0    -1.0  21.469150  53.640     32.111013  34.150000  4.0   \n",
       "\n",
       "       TS   Clo  env_temp  \n",
       "0     4.0  0.61    75.942  \n",
       "1     4.0  0.36    77.378  \n",
       "2     4.0  0.61    75.484  \n",
       "3     4.0  0.36    77.203  \n",
       "4     4.0  0.36    77.902  \n",
       "...   ...   ...       ...  \n",
       "2270  4.0  0.36    74.467  \n",
       "2271  4.0  0.74    73.753  \n",
       "2272  4.0  0.54    76.703  \n",
       "2273  4.0  0.36    75.484  \n",
       "2274  7.0  0.54    79.151  \n",
       "\n",
       "[2275 rows x 11 columns]"
      ]
     },
     "execution_count": 5,
     "metadata": {},
     "output_type": "execute_result"
    }
   ],
   "source": [
    "df_selected"
   ]
  },
  {
   "cell_type": "code",
   "execution_count": 6,
   "metadata": {
    "ExecuteTime": {
     "end_time": "2020-11-13T08:45:44.184069Z",
     "start_time": "2020-11-13T08:45:44.175910Z"
    }
   },
   "outputs": [
    {
     "name": "stdout",
     "output_type": "stream",
     "text": [
      "<class 'pandas.core.frame.DataFrame'>\n",
      "RangeIndex: 2275 entries, 0 to 2274\n",
      "Data columns (total 11 columns):\n",
      " #   Column        Non-Null Count  Dtype  \n",
      "---  ------        --------------  -----  \n",
      " 0   height        2275 non-null   float64\n",
      " 1   weight        2275 non-null   float64\n",
      " 2   gender        2275 non-null   float64\n",
      " 3   bmi           2275 non-null   float64\n",
      " 4   rh            2275 non-null   float64\n",
      " 5   stress_level  2275 non-null   float64\n",
      " 6   skin_temp     2275 non-null   float64\n",
      " 7   TC            2275 non-null   float64\n",
      " 8   TS            2275 non-null   float64\n",
      " 9   Clo           2275 non-null   float64\n",
      " 10  env_temp      2275 non-null   float64\n",
      "dtypes: float64(11)\n",
      "memory usage: 195.6 KB\n"
     ]
    }
   ],
   "source": [
    "df_selected.info()"
   ]
  },
  {
   "cell_type": "markdown",
   "metadata": {},
   "source": [
    "## data process"
   ]
  },
  {
   "cell_type": "markdown",
   "metadata": {},
   "source": [
    "### X & y"
   ]
  },
  {
   "cell_type": "code",
   "execution_count": 7,
   "metadata": {
    "ExecuteTime": {
     "end_time": "2020-11-13T08:45:44.187722Z",
     "start_time": "2020-11-13T08:45:44.185498Z"
    }
   },
   "outputs": [],
   "source": [
    "X_data = df_selected.iloc[:, :-1]"
   ]
  },
  {
   "cell_type": "code",
   "execution_count": 8,
   "metadata": {
    "ExecuteTime": {
     "end_time": "2020-11-13T08:45:44.192681Z",
     "start_time": "2020-11-13T08:45:44.190940Z"
    }
   },
   "outputs": [],
   "source": [
    "X_cols_name = X_data.columns"
   ]
  },
  {
   "cell_type": "code",
   "execution_count": 9,
   "metadata": {
    "ExecuteTime": {
     "end_time": "2020-11-13T08:45:44.196675Z",
     "start_time": "2020-11-13T08:45:44.194808Z"
    }
   },
   "outputs": [],
   "source": [
    "y_data = df_selected['env_temp']"
   ]
  },
  {
   "cell_type": "markdown",
   "metadata": {},
   "source": [
    "### normalize"
   ]
  },
  {
   "cell_type": "code",
   "execution_count": 10,
   "metadata": {
    "ExecuteTime": {
     "end_time": "2020-11-13T08:45:44.202180Z",
     "start_time": "2020-11-13T08:45:44.198189Z"
    }
   },
   "outputs": [],
   "source": [
    "X_array_normalize, X_norm = normalize(X_data, axis=0, return_norm=True)"
   ]
  },
  {
   "cell_type": "code",
   "execution_count": 11,
   "metadata": {
    "ExecuteTime": {
     "end_time": "2020-11-13T08:45:44.207798Z",
     "start_time": "2020-11-13T08:45:44.204279Z"
    }
   },
   "outputs": [],
   "source": [
    "X_data = pd.DataFrame(X_array_normalize, columns=X_cols_name)"
   ]
  },
  {
   "cell_type": "code",
   "execution_count": 12,
   "metadata": {
    "ExecuteTime": {
     "end_time": "2020-11-13T08:45:44.225214Z",
     "start_time": "2020-11-13T08:45:44.210089Z"
    }
   },
   "outputs": [
    {
     "data": {
      "text/html": [
       "<div>\n",
       "<style scoped>\n",
       "    .dataframe tbody tr th:only-of-type {\n",
       "        vertical-align: middle;\n",
       "    }\n",
       "\n",
       "    .dataframe tbody tr th {\n",
       "        vertical-align: top;\n",
       "    }\n",
       "\n",
       "    .dataframe thead th {\n",
       "        text-align: right;\n",
       "    }\n",
       "</style>\n",
       "<table border=\"1\" class=\"dataframe\">\n",
       "  <thead>\n",
       "    <tr style=\"text-align: right;\">\n",
       "      <th></th>\n",
       "      <th>height</th>\n",
       "      <th>weight</th>\n",
       "      <th>gender</th>\n",
       "      <th>bmi</th>\n",
       "      <th>rh</th>\n",
       "      <th>stress_level</th>\n",
       "      <th>skin_temp</th>\n",
       "      <th>TC</th>\n",
       "      <th>TS</th>\n",
       "      <th>Clo</th>\n",
       "    </tr>\n",
       "  </thead>\n",
       "  <tbody>\n",
       "    <tr>\n",
       "      <th>0</th>\n",
       "      <td>0.019684</td>\n",
       "      <td>0.017241</td>\n",
       "      <td>0.020966</td>\n",
       "      <td>0.019628</td>\n",
       "      <td>0.025350</td>\n",
       "      <td>0.010726</td>\n",
       "      <td>0.020960</td>\n",
       "      <td>0.021498</td>\n",
       "      <td>0.018985</td>\n",
       "      <td>0.023903</td>\n",
       "    </tr>\n",
       "    <tr>\n",
       "      <th>1</th>\n",
       "      <td>0.021776</td>\n",
       "      <td>0.019047</td>\n",
       "      <td>-0.020966</td>\n",
       "      <td>0.017719</td>\n",
       "      <td>0.019601</td>\n",
       "      <td>0.001100</td>\n",
       "      <td>0.020259</td>\n",
       "      <td>0.021498</td>\n",
       "      <td>0.018985</td>\n",
       "      <td>0.014107</td>\n",
       "    </tr>\n",
       "    <tr>\n",
       "      <th>2</th>\n",
       "      <td>0.021038</td>\n",
       "      <td>0.021017</td>\n",
       "      <td>-0.020966</td>\n",
       "      <td>0.020949</td>\n",
       "      <td>0.019315</td>\n",
       "      <td>0.018151</td>\n",
       "      <td>0.021743</td>\n",
       "      <td>0.021498</td>\n",
       "      <td>0.018985</td>\n",
       "      <td>0.023903</td>\n",
       "    </tr>\n",
       "    <tr>\n",
       "      <th>3</th>\n",
       "      <td>0.021776</td>\n",
       "      <td>0.019047</td>\n",
       "      <td>-0.020966</td>\n",
       "      <td>0.017719</td>\n",
       "      <td>0.021108</td>\n",
       "      <td>0.029152</td>\n",
       "      <td>0.019930</td>\n",
       "      <td>0.021498</td>\n",
       "      <td>0.018985</td>\n",
       "      <td>0.014107</td>\n",
       "    </tr>\n",
       "    <tr>\n",
       "      <th>4</th>\n",
       "      <td>0.021776</td>\n",
       "      <td>0.019047</td>\n",
       "      <td>-0.020966</td>\n",
       "      <td>0.017719</td>\n",
       "      <td>0.022698</td>\n",
       "      <td>0.044003</td>\n",
       "      <td>0.019705</td>\n",
       "      <td>0.021498</td>\n",
       "      <td>0.018985</td>\n",
       "      <td>0.014107</td>\n",
       "    </tr>\n",
       "    <tr>\n",
       "      <th>...</th>\n",
       "      <td>...</td>\n",
       "      <td>...</td>\n",
       "      <td>...</td>\n",
       "      <td>...</td>\n",
       "      <td>...</td>\n",
       "      <td>...</td>\n",
       "      <td>...</td>\n",
       "      <td>...</td>\n",
       "      <td>...</td>\n",
       "      <td>...</td>\n",
       "    </tr>\n",
       "    <tr>\n",
       "      <th>2270</th>\n",
       "      <td>0.021776</td>\n",
       "      <td>0.029556</td>\n",
       "      <td>-0.020966</td>\n",
       "      <td>0.027496</td>\n",
       "      <td>0.023906</td>\n",
       "      <td>0.018151</td>\n",
       "      <td>0.020534</td>\n",
       "      <td>0.021498</td>\n",
       "      <td>0.018985</td>\n",
       "      <td>0.014107</td>\n",
       "    </tr>\n",
       "    <tr>\n",
       "      <th>2271</th>\n",
       "      <td>0.021038</td>\n",
       "      <td>0.021017</td>\n",
       "      <td>-0.020966</td>\n",
       "      <td>0.020949</td>\n",
       "      <td>0.018993</td>\n",
       "      <td>0.017662</td>\n",
       "      <td>0.020960</td>\n",
       "      <td>0.021498</td>\n",
       "      <td>0.018985</td>\n",
       "      <td>0.028997</td>\n",
       "    </tr>\n",
       "    <tr>\n",
       "      <th>2272</th>\n",
       "      <td>0.020423</td>\n",
       "      <td>0.018719</td>\n",
       "      <td>0.020966</td>\n",
       "      <td>0.019798</td>\n",
       "      <td>0.021307</td>\n",
       "      <td>0.001100</td>\n",
       "      <td>0.020207</td>\n",
       "      <td>0.021498</td>\n",
       "      <td>0.018985</td>\n",
       "      <td>0.021160</td>\n",
       "    </tr>\n",
       "    <tr>\n",
       "      <th>2273</th>\n",
       "      <td>0.020792</td>\n",
       "      <td>0.024630</td>\n",
       "      <td>-0.020966</td>\n",
       "      <td>0.025134</td>\n",
       "      <td>0.018920</td>\n",
       "      <td>0.017662</td>\n",
       "      <td>0.020499</td>\n",
       "      <td>0.016124</td>\n",
       "      <td>0.018985</td>\n",
       "      <td>0.014107</td>\n",
       "    </tr>\n",
       "    <tr>\n",
       "      <th>2274</th>\n",
       "      <td>0.021407</td>\n",
       "      <td>0.021346</td>\n",
       "      <td>-0.020966</td>\n",
       "      <td>0.020549</td>\n",
       "      <td>0.021589</td>\n",
       "      <td>0.017662</td>\n",
       "      <td>0.022366</td>\n",
       "      <td>0.021498</td>\n",
       "      <td>0.033224</td>\n",
       "      <td>0.021160</td>\n",
       "    </tr>\n",
       "  </tbody>\n",
       "</table>\n",
       "<p>2275 rows × 10 columns</p>\n",
       "</div>"
      ],
      "text/plain": [
       "        height    weight    gender       bmi        rh  stress_level  \\\n",
       "0     0.019684  0.017241  0.020966  0.019628  0.025350      0.010726   \n",
       "1     0.021776  0.019047 -0.020966  0.017719  0.019601      0.001100   \n",
       "2     0.021038  0.021017 -0.020966  0.020949  0.019315      0.018151   \n",
       "3     0.021776  0.019047 -0.020966  0.017719  0.021108      0.029152   \n",
       "4     0.021776  0.019047 -0.020966  0.017719  0.022698      0.044003   \n",
       "...        ...       ...       ...       ...       ...           ...   \n",
       "2270  0.021776  0.029556 -0.020966  0.027496  0.023906      0.018151   \n",
       "2271  0.021038  0.021017 -0.020966  0.020949  0.018993      0.017662   \n",
       "2272  0.020423  0.018719  0.020966  0.019798  0.021307      0.001100   \n",
       "2273  0.020792  0.024630 -0.020966  0.025134  0.018920      0.017662   \n",
       "2274  0.021407  0.021346 -0.020966  0.020549  0.021589      0.017662   \n",
       "\n",
       "      skin_temp        TC        TS       Clo  \n",
       "0      0.020960  0.021498  0.018985  0.023903  \n",
       "1      0.020259  0.021498  0.018985  0.014107  \n",
       "2      0.021743  0.021498  0.018985  0.023903  \n",
       "3      0.019930  0.021498  0.018985  0.014107  \n",
       "4      0.019705  0.021498  0.018985  0.014107  \n",
       "...         ...       ...       ...       ...  \n",
       "2270   0.020534  0.021498  0.018985  0.014107  \n",
       "2271   0.020960  0.021498  0.018985  0.028997  \n",
       "2272   0.020207  0.021498  0.018985  0.021160  \n",
       "2273   0.020499  0.016124  0.018985  0.014107  \n",
       "2274   0.022366  0.021498  0.033224  0.021160  \n",
       "\n",
       "[2275 rows x 10 columns]"
      ]
     },
     "execution_count": 12,
     "metadata": {},
     "output_type": "execute_result"
    }
   ],
   "source": [
    "X_data"
   ]
  },
  {
   "cell_type": "code",
   "execution_count": 13,
   "metadata": {
    "ExecuteTime": {
     "end_time": "2020-11-13T08:45:44.232337Z",
     "start_time": "2020-11-13T08:45:44.227559Z"
    }
   },
   "outputs": [
    {
     "data": {
      "text/plain": [
       "array([  81.28230804, 3045.10792091,   47.69696007, 1044.80010521,\n",
       "       2484.63715978, 1818.04462895, 1526.87286098,  186.06181768,\n",
       "        210.69409104,   25.51961207])"
      ]
     },
     "execution_count": 13,
     "metadata": {},
     "output_type": "execute_result"
    }
   ],
   "source": [
    "X_norm"
   ]
  },
  {
   "cell_type": "markdown",
   "metadata": {
    "ExecuteTime": {
     "end_time": "2020-11-12T20:08:00.879833Z",
     "start_time": "2020-11-12T20:08:00.877605Z"
    }
   },
   "source": [
    "## random forest (1st stry)"
   ]
  },
  {
   "cell_type": "code",
   "execution_count": 14,
   "metadata": {
    "ExecuteTime": {
     "end_time": "2020-11-13T08:45:44.240626Z",
     "start_time": "2020-11-13T08:45:44.234657Z"
    }
   },
   "outputs": [],
   "source": [
    "X_train, X_test, y_train, y_test = train_test_split(X_data, y_data, test_size=0.2, random_state=1208)"
   ]
  },
  {
   "cell_type": "code",
   "execution_count": 15,
   "metadata": {
    "ExecuteTime": {
     "end_time": "2020-11-13T08:45:44.245176Z",
     "start_time": "2020-11-13T08:45:44.242782Z"
    }
   },
   "outputs": [],
   "source": [
    "rfr = RandomForestRegressor()"
   ]
  },
  {
   "cell_type": "code",
   "execution_count": 16,
   "metadata": {
    "ExecuteTime": {
     "end_time": "2020-11-13T08:45:44.744682Z",
     "start_time": "2020-11-13T08:45:44.247766Z"
    }
   },
   "outputs": [
    {
     "data": {
      "text/plain": [
       "RandomForestRegressor()"
      ]
     },
     "execution_count": 16,
     "metadata": {},
     "output_type": "execute_result"
    }
   ],
   "source": [
    "rfr.fit(X_train, y_train)"
   ]
  },
  {
   "cell_type": "code",
   "execution_count": 17,
   "metadata": {
    "ExecuteTime": {
     "end_time": "2020-11-13T08:45:44.765810Z",
     "start_time": "2020-11-13T08:45:44.746578Z"
    }
   },
   "outputs": [],
   "source": [
    "y_pred = rfr.predict(X_test)"
   ]
  },
  {
   "cell_type": "code",
   "execution_count": 18,
   "metadata": {
    "ExecuteTime": {
     "end_time": "2020-11-13T08:45:44.772769Z",
     "start_time": "2020-11-13T08:45:44.768167Z"
    }
   },
   "outputs": [
    {
     "data": {
      "text/plain": [
       "1.496873368793176"
      ]
     },
     "execution_count": 18,
     "metadata": {},
     "output_type": "execute_result"
    }
   ],
   "source": [
    "# mean squared error\n",
    "mean_squared_error(y_test, y_pred)"
   ]
  },
  {
   "cell_type": "code",
   "execution_count": 19,
   "metadata": {
    "ExecuteTime": {
     "end_time": "2020-11-13T08:45:44.778765Z",
     "start_time": "2020-11-13T08:45:44.774811Z"
    }
   },
   "outputs": [
    {
     "data": {
      "text/plain": [
       "0.6879814879755035"
      ]
     },
     "execution_count": 19,
     "metadata": {},
     "output_type": "execute_result"
    }
   ],
   "source": [
    "# R2 score\n",
    "r2_score(y_test, y_pred)"
   ]
  },
  {
   "cell_type": "code",
   "execution_count": null,
   "metadata": {},
   "outputs": [],
   "source": []
  },
  {
   "cell_type": "code",
   "execution_count": null,
   "metadata": {},
   "outputs": [],
   "source": []
  },
  {
   "cell_type": "code",
   "execution_count": null,
   "metadata": {},
   "outputs": [],
   "source": []
  },
  {
   "cell_type": "code",
   "execution_count": null,
   "metadata": {},
   "outputs": [],
   "source": []
  },
  {
   "cell_type": "code",
   "execution_count": null,
   "metadata": {},
   "outputs": [],
   "source": []
  },
  {
   "cell_type": "code",
   "execution_count": null,
   "metadata": {},
   "outputs": [],
   "source": []
  },
  {
   "cell_type": "code",
   "execution_count": null,
   "metadata": {},
   "outputs": [],
   "source": []
  },
  {
   "cell_type": "code",
   "execution_count": null,
   "metadata": {},
   "outputs": [],
   "source": []
  },
  {
   "cell_type": "code",
   "execution_count": null,
   "metadata": {},
   "outputs": [],
   "source": []
  },
  {
   "cell_type": "code",
   "execution_count": null,
   "metadata": {},
   "outputs": [],
   "source": []
  }
 ],
 "metadata": {
  "kernelspec": {
   "display_name": "thermal38",
   "language": "python",
   "name": "thermal38"
  },
  "language_info": {
   "codemirror_mode": {
    "name": "ipython",
    "version": 3
   },
   "file_extension": ".py",
   "mimetype": "text/x-python",
   "name": "python",
   "nbconvert_exporter": "python",
   "pygments_lexer": "ipython3",
   "version": "3.8.2"
  },
  "toc": {
   "base_numbering": 1,
   "nav_menu": {},
   "number_sections": true,
   "sideBar": true,
   "skip_h1_title": false,
   "title_cell": "Table of Contents",
   "title_sidebar": "Contents",
   "toc_cell": false,
   "toc_position": {
    "height": "calc(100% - 180px)",
    "left": "10px",
    "top": "150px",
    "width": "512px"
   },
   "toc_section_display": true,
   "toc_window_display": true
  }
 },
 "nbformat": 4,
 "nbformat_minor": 4
}
