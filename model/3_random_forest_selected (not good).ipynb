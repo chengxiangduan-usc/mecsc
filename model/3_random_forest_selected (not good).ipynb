{
 "cells": [
  {
   "cell_type": "markdown",
   "metadata": {},
   "source": [
    "not good\n",
    "\n",
    "\n",
    "random forest for refined dataset that selects features with small p-value\n",
    "- imputed with mean value of each column\n",
    "- eliminate outliers and leverges after normalized\n",
    "- select features with small p-value"
   ]
  },
  {
   "cell_type": "code",
   "execution_count": 1,
   "metadata": {
    "ExecuteTime": {
     "end_time": "2020-11-12T21:45:07.701879Z",
     "start_time": "2020-11-12T21:45:06.227827Z"
    }
   },
   "outputs": [],
   "source": [
    "%matplotlib inline\n",
    "import pandas as pd\n",
    "import numpy as np\n",
    "\n",
    "import matplotlib.pyplot as plt\n",
    "import seaborn as sns"
   ]
  },
  {
   "cell_type": "code",
   "execution_count": 2,
   "metadata": {
    "ExecuteTime": {
     "end_time": "2020-11-12T21:45:08.038226Z",
     "start_time": "2020-11-12T21:45:07.704174Z"
    }
   },
   "outputs": [],
   "source": [
    "from sklearn.ensemble import RandomForestRegressor\n",
    "\n",
    "from sklearn.preprocessing import normalize\n",
    "from sklearn.impute import SimpleImputer\n",
    "from sklearn.model_selection import train_test_split\n",
    "\n",
    "from sklearn.model_selection import cross_val_score\n",
    "from sklearn.metrics import mean_squared_error, r2_score\n",
    "\n",
    "import scipy"
   ]
  },
  {
   "cell_type": "code",
   "execution_count": 3,
   "metadata": {
    "ExecuteTime": {
     "end_time": "2020-11-12T21:45:08.043394Z",
     "start_time": "2020-11-12T21:45:08.040676Z"
    }
   },
   "outputs": [],
   "source": [
    "plt.rcParams[\"figure.figsize\"] = (15, 10)"
   ]
  },
  {
   "cell_type": "markdown",
   "metadata": {},
   "source": [
    "## load data"
   ]
  },
  {
   "cell_type": "code",
   "execution_count": 4,
   "metadata": {
    "ExecuteTime": {
     "end_time": "2020-11-12T21:45:08.054398Z",
     "start_time": "2020-11-12T21:45:08.045566Z"
    }
   },
   "outputs": [],
   "source": [
    "pth_data = './processed_data/train_selected_not_norm.csv'\n",
    "df_selected = pd.read_csv(pth_data)"
   ]
  },
  {
   "cell_type": "code",
   "execution_count": 5,
   "metadata": {
    "ExecuteTime": {
     "end_time": "2020-11-12T21:45:08.074193Z",
     "start_time": "2020-11-12T21:45:08.056140Z"
    },
    "scrolled": false
   },
   "outputs": [
    {
     "data": {
      "text/html": [
       "<div>\n",
       "<style scoped>\n",
       "    .dataframe tbody tr th:only-of-type {\n",
       "        vertical-align: middle;\n",
       "    }\n",
       "\n",
       "    .dataframe tbody tr th {\n",
       "        vertical-align: top;\n",
       "    }\n",
       "\n",
       "    .dataframe thead th {\n",
       "        text-align: right;\n",
       "    }\n",
       "</style>\n",
       "<table border=\"1\" class=\"dataframe\">\n",
       "  <thead>\n",
       "    <tr style=\"text-align: right;\">\n",
       "      <th></th>\n",
       "      <th>height</th>\n",
       "      <th>weight</th>\n",
       "      <th>gender</th>\n",
       "      <th>bmi</th>\n",
       "      <th>rh</th>\n",
       "      <th>stress_level</th>\n",
       "      <th>skin_temp</th>\n",
       "      <th>TC</th>\n",
       "      <th>TS</th>\n",
       "      <th>Clo</th>\n",
       "      <th>env_temp</th>\n",
       "    </tr>\n",
       "  </thead>\n",
       "  <tbody>\n",
       "    <tr>\n",
       "      <th>0</th>\n",
       "      <td>1.60</td>\n",
       "      <td>52.5</td>\n",
       "      <td>1.0</td>\n",
       "      <td>20.507812</td>\n",
       "      <td>62.985</td>\n",
       "      <td>19.500000</td>\n",
       "      <td>32.003449</td>\n",
       "      <td>4.0</td>\n",
       "      <td>4.0</td>\n",
       "      <td>0.61</td>\n",
       "      <td>75.942</td>\n",
       "    </tr>\n",
       "    <tr>\n",
       "      <th>1</th>\n",
       "      <td>1.77</td>\n",
       "      <td>58.0</td>\n",
       "      <td>-1.0</td>\n",
       "      <td>18.513199</td>\n",
       "      <td>48.702</td>\n",
       "      <td>2.000000</td>\n",
       "      <td>30.933000</td>\n",
       "      <td>4.0</td>\n",
       "      <td>4.0</td>\n",
       "      <td>0.36</td>\n",
       "      <td>77.378</td>\n",
       "    </tr>\n",
       "    <tr>\n",
       "      <th>2</th>\n",
       "      <td>1.71</td>\n",
       "      <td>64.0</td>\n",
       "      <td>-1.0</td>\n",
       "      <td>21.887076</td>\n",
       "      <td>47.990</td>\n",
       "      <td>33.000000</td>\n",
       "      <td>33.199000</td>\n",
       "      <td>4.0</td>\n",
       "      <td>4.0</td>\n",
       "      <td>0.61</td>\n",
       "      <td>75.484</td>\n",
       "    </tr>\n",
       "    <tr>\n",
       "      <th>3</th>\n",
       "      <td>1.77</td>\n",
       "      <td>58.0</td>\n",
       "      <td>-1.0</td>\n",
       "      <td>18.513199</td>\n",
       "      <td>52.445</td>\n",
       "      <td>53.000000</td>\n",
       "      <td>30.431000</td>\n",
       "      <td>4.0</td>\n",
       "      <td>4.0</td>\n",
       "      <td>0.36</td>\n",
       "      <td>77.203</td>\n",
       "    </tr>\n",
       "    <tr>\n",
       "      <th>4</th>\n",
       "      <td>1.77</td>\n",
       "      <td>58.0</td>\n",
       "      <td>-1.0</td>\n",
       "      <td>18.513199</td>\n",
       "      <td>56.396</td>\n",
       "      <td>80.000000</td>\n",
       "      <td>30.087000</td>\n",
       "      <td>4.0</td>\n",
       "      <td>4.0</td>\n",
       "      <td>0.36</td>\n",
       "      <td>77.902</td>\n",
       "    </tr>\n",
       "    <tr>\n",
       "      <th>...</th>\n",
       "      <td>...</td>\n",
       "      <td>...</td>\n",
       "      <td>...</td>\n",
       "      <td>...</td>\n",
       "      <td>...</td>\n",
       "      <td>...</td>\n",
       "      <td>...</td>\n",
       "      <td>...</td>\n",
       "      <td>...</td>\n",
       "      <td>...</td>\n",
       "      <td>...</td>\n",
       "    </tr>\n",
       "    <tr>\n",
       "      <th>2282</th>\n",
       "      <td>1.77</td>\n",
       "      <td>90.0</td>\n",
       "      <td>-1.0</td>\n",
       "      <td>28.727377</td>\n",
       "      <td>59.397</td>\n",
       "      <td>33.000000</td>\n",
       "      <td>31.353000</td>\n",
       "      <td>4.0</td>\n",
       "      <td>4.0</td>\n",
       "      <td>0.36</td>\n",
       "      <td>74.467</td>\n",
       "    </tr>\n",
       "    <tr>\n",
       "      <th>2283</th>\n",
       "      <td>1.71</td>\n",
       "      <td>64.0</td>\n",
       "      <td>-1.0</td>\n",
       "      <td>21.887076</td>\n",
       "      <td>47.190</td>\n",
       "      <td>32.111013</td>\n",
       "      <td>32.003449</td>\n",
       "      <td>4.0</td>\n",
       "      <td>4.0</td>\n",
       "      <td>0.74</td>\n",
       "      <td>73.753</td>\n",
       "    </tr>\n",
       "    <tr>\n",
       "      <th>2284</th>\n",
       "      <td>1.66</td>\n",
       "      <td>57.0</td>\n",
       "      <td>1.0</td>\n",
       "      <td>20.685150</td>\n",
       "      <td>52.940</td>\n",
       "      <td>2.000000</td>\n",
       "      <td>30.854000</td>\n",
       "      <td>4.0</td>\n",
       "      <td>4.0</td>\n",
       "      <td>0.54</td>\n",
       "      <td>76.703</td>\n",
       "    </tr>\n",
       "    <tr>\n",
       "      <th>2285</th>\n",
       "      <td>1.69</td>\n",
       "      <td>75.0</td>\n",
       "      <td>-1.0</td>\n",
       "      <td>26.259585</td>\n",
       "      <td>47.010</td>\n",
       "      <td>32.111013</td>\n",
       "      <td>31.300000</td>\n",
       "      <td>3.0</td>\n",
       "      <td>4.0</td>\n",
       "      <td>0.36</td>\n",
       "      <td>75.484</td>\n",
       "    </tr>\n",
       "    <tr>\n",
       "      <th>2286</th>\n",
       "      <td>1.74</td>\n",
       "      <td>65.0</td>\n",
       "      <td>-1.0</td>\n",
       "      <td>21.469150</td>\n",
       "      <td>53.640</td>\n",
       "      <td>32.111013</td>\n",
       "      <td>34.150000</td>\n",
       "      <td>4.0</td>\n",
       "      <td>7.0</td>\n",
       "      <td>0.54</td>\n",
       "      <td>79.151</td>\n",
       "    </tr>\n",
       "  </tbody>\n",
       "</table>\n",
       "<p>2287 rows × 11 columns</p>\n",
       "</div>"
      ],
      "text/plain": [
       "      height  weight  gender        bmi      rh  stress_level  skin_temp   TC  \\\n",
       "0       1.60    52.5     1.0  20.507812  62.985     19.500000  32.003449  4.0   \n",
       "1       1.77    58.0    -1.0  18.513199  48.702      2.000000  30.933000  4.0   \n",
       "2       1.71    64.0    -1.0  21.887076  47.990     33.000000  33.199000  4.0   \n",
       "3       1.77    58.0    -1.0  18.513199  52.445     53.000000  30.431000  4.0   \n",
       "4       1.77    58.0    -1.0  18.513199  56.396     80.000000  30.087000  4.0   \n",
       "...      ...     ...     ...        ...     ...           ...        ...  ...   \n",
       "2282    1.77    90.0    -1.0  28.727377  59.397     33.000000  31.353000  4.0   \n",
       "2283    1.71    64.0    -1.0  21.887076  47.190     32.111013  32.003449  4.0   \n",
       "2284    1.66    57.0     1.0  20.685150  52.940      2.000000  30.854000  4.0   \n",
       "2285    1.69    75.0    -1.0  26.259585  47.010     32.111013  31.300000  3.0   \n",
       "2286    1.74    65.0    -1.0  21.469150  53.640     32.111013  34.150000  4.0   \n",
       "\n",
       "       TS   Clo  env_temp  \n",
       "0     4.0  0.61    75.942  \n",
       "1     4.0  0.36    77.378  \n",
       "2     4.0  0.61    75.484  \n",
       "3     4.0  0.36    77.203  \n",
       "4     4.0  0.36    77.902  \n",
       "...   ...   ...       ...  \n",
       "2282  4.0  0.36    74.467  \n",
       "2283  4.0  0.74    73.753  \n",
       "2284  4.0  0.54    76.703  \n",
       "2285  4.0  0.36    75.484  \n",
       "2286  7.0  0.54    79.151  \n",
       "\n",
       "[2287 rows x 11 columns]"
      ]
     },
     "execution_count": 5,
     "metadata": {},
     "output_type": "execute_result"
    }
   ],
   "source": [
    "df_selected"
   ]
  },
  {
   "cell_type": "code",
   "execution_count": 6,
   "metadata": {
    "ExecuteTime": {
     "end_time": "2020-11-12T21:45:08.084198Z",
     "start_time": "2020-11-12T21:45:08.076055Z"
    }
   },
   "outputs": [
    {
     "name": "stdout",
     "output_type": "stream",
     "text": [
      "<class 'pandas.core.frame.DataFrame'>\n",
      "RangeIndex: 2287 entries, 0 to 2286\n",
      "Data columns (total 11 columns):\n",
      " #   Column        Non-Null Count  Dtype  \n",
      "---  ------        --------------  -----  \n",
      " 0   height        2287 non-null   float64\n",
      " 1   weight        2287 non-null   float64\n",
      " 2   gender        2287 non-null   float64\n",
      " 3   bmi           2287 non-null   float64\n",
      " 4   rh            2287 non-null   float64\n",
      " 5   stress_level  2287 non-null   float64\n",
      " 6   skin_temp     2287 non-null   float64\n",
      " 7   TC            2287 non-null   float64\n",
      " 8   TS            2287 non-null   float64\n",
      " 9   Clo           2287 non-null   float64\n",
      " 10  env_temp      2287 non-null   float64\n",
      "dtypes: float64(11)\n",
      "memory usage: 196.7 KB\n"
     ]
    }
   ],
   "source": [
    "df_selected.info()"
   ]
  },
  {
   "cell_type": "markdown",
   "metadata": {},
   "source": [
    "## data process"
   ]
  },
  {
   "cell_type": "markdown",
   "metadata": {},
   "source": [
    "### X & y"
   ]
  },
  {
   "cell_type": "code",
   "execution_count": 8,
   "metadata": {
    "ExecuteTime": {
     "end_time": "2020-11-12T21:45:26.894677Z",
     "start_time": "2020-11-12T21:45:26.892095Z"
    }
   },
   "outputs": [],
   "source": [
    "X_data = df_selected.iloc[:, :-1]"
   ]
  },
  {
   "cell_type": "code",
   "execution_count": 9,
   "metadata": {
    "ExecuteTime": {
     "end_time": "2020-11-12T21:45:28.366424Z",
     "start_time": "2020-11-12T21:45:28.364034Z"
    }
   },
   "outputs": [],
   "source": [
    "X_cols_name = X_data.columns"
   ]
  },
  {
   "cell_type": "code",
   "execution_count": 10,
   "metadata": {
    "ExecuteTime": {
     "end_time": "2020-11-12T21:45:28.723695Z",
     "start_time": "2020-11-12T21:45:28.721479Z"
    }
   },
   "outputs": [],
   "source": [
    "y_data = df_selected['env_temp']"
   ]
  },
  {
   "cell_type": "markdown",
   "metadata": {},
   "source": [
    "### normalize"
   ]
  },
  {
   "cell_type": "code",
   "execution_count": 11,
   "metadata": {
    "ExecuteTime": {
     "end_time": "2020-11-12T21:45:32.011043Z",
     "start_time": "2020-11-12T21:45:32.006700Z"
    }
   },
   "outputs": [],
   "source": [
    "X_array_normalize, X_norm = normalize(X_data, axis=0, return_norm=True)"
   ]
  },
  {
   "cell_type": "code",
   "execution_count": 12,
   "metadata": {
    "ExecuteTime": {
     "end_time": "2020-11-12T21:45:32.204000Z",
     "start_time": "2020-11-12T21:45:32.201492Z"
    }
   },
   "outputs": [],
   "source": [
    "X_data = pd.DataFrame(X_array_normalize, columns=X_cols_name)"
   ]
  },
  {
   "cell_type": "code",
   "execution_count": 13,
   "metadata": {
    "ExecuteTime": {
     "end_time": "2020-11-12T21:45:32.411174Z",
     "start_time": "2020-11-12T21:45:32.396274Z"
    }
   },
   "outputs": [
    {
     "data": {
      "text/html": [
       "<div>\n",
       "<style scoped>\n",
       "    .dataframe tbody tr th:only-of-type {\n",
       "        vertical-align: middle;\n",
       "    }\n",
       "\n",
       "    .dataframe tbody tr th {\n",
       "        vertical-align: top;\n",
       "    }\n",
       "\n",
       "    .dataframe thead th {\n",
       "        text-align: right;\n",
       "    }\n",
       "</style>\n",
       "<table border=\"1\" class=\"dataframe\">\n",
       "  <thead>\n",
       "    <tr style=\"text-align: right;\">\n",
       "      <th></th>\n",
       "      <th>height</th>\n",
       "      <th>weight</th>\n",
       "      <th>gender</th>\n",
       "      <th>bmi</th>\n",
       "      <th>rh</th>\n",
       "      <th>stress_level</th>\n",
       "      <th>skin_temp</th>\n",
       "      <th>TC</th>\n",
       "      <th>TS</th>\n",
       "      <th>Clo</th>\n",
       "    </tr>\n",
       "  </thead>\n",
       "  <tbody>\n",
       "    <tr>\n",
       "      <th>0</th>\n",
       "      <td>0.019628</td>\n",
       "      <td>0.017184</td>\n",
       "      <td>0.020911</td>\n",
       "      <td>0.019573</td>\n",
       "      <td>0.025272</td>\n",
       "      <td>0.010714</td>\n",
       "      <td>0.020906</td>\n",
       "      <td>0.021456</td>\n",
       "      <td>0.018949</td>\n",
       "      <td>0.023861</td>\n",
       "    </tr>\n",
       "    <tr>\n",
       "      <th>1</th>\n",
       "      <td>0.021714</td>\n",
       "      <td>0.018984</td>\n",
       "      <td>-0.020911</td>\n",
       "      <td>0.017669</td>\n",
       "      <td>0.019541</td>\n",
       "      <td>0.001099</td>\n",
       "      <td>0.020206</td>\n",
       "      <td>0.021456</td>\n",
       "      <td>0.018949</td>\n",
       "      <td>0.014082</td>\n",
       "    </tr>\n",
       "    <tr>\n",
       "      <th>2</th>\n",
       "      <td>0.020978</td>\n",
       "      <td>0.020948</td>\n",
       "      <td>-0.020911</td>\n",
       "      <td>0.020889</td>\n",
       "      <td>0.019256</td>\n",
       "      <td>0.018132</td>\n",
       "      <td>0.021687</td>\n",
       "      <td>0.021456</td>\n",
       "      <td>0.018949</td>\n",
       "      <td>0.023861</td>\n",
       "    </tr>\n",
       "    <tr>\n",
       "      <th>3</th>\n",
       "      <td>0.021714</td>\n",
       "      <td>0.018984</td>\n",
       "      <td>-0.020911</td>\n",
       "      <td>0.017669</td>\n",
       "      <td>0.021043</td>\n",
       "      <td>0.029121</td>\n",
       "      <td>0.019878</td>\n",
       "      <td>0.021456</td>\n",
       "      <td>0.018949</td>\n",
       "      <td>0.014082</td>\n",
       "    </tr>\n",
       "    <tr>\n",
       "      <th>4</th>\n",
       "      <td>0.021714</td>\n",
       "      <td>0.018984</td>\n",
       "      <td>-0.020911</td>\n",
       "      <td>0.017669</td>\n",
       "      <td>0.022628</td>\n",
       "      <td>0.043956</td>\n",
       "      <td>0.019654</td>\n",
       "      <td>0.021456</td>\n",
       "      <td>0.018949</td>\n",
       "      <td>0.014082</td>\n",
       "    </tr>\n",
       "    <tr>\n",
       "      <th>...</th>\n",
       "      <td>...</td>\n",
       "      <td>...</td>\n",
       "      <td>...</td>\n",
       "      <td>...</td>\n",
       "      <td>...</td>\n",
       "      <td>...</td>\n",
       "      <td>...</td>\n",
       "      <td>...</td>\n",
       "      <td>...</td>\n",
       "      <td>...</td>\n",
       "    </tr>\n",
       "    <tr>\n",
       "      <th>2282</th>\n",
       "      <td>0.021714</td>\n",
       "      <td>0.029458</td>\n",
       "      <td>-0.020911</td>\n",
       "      <td>0.027417</td>\n",
       "      <td>0.023833</td>\n",
       "      <td>0.018132</td>\n",
       "      <td>0.020481</td>\n",
       "      <td>0.021456</td>\n",
       "      <td>0.018949</td>\n",
       "      <td>0.014082</td>\n",
       "    </tr>\n",
       "    <tr>\n",
       "      <th>2283</th>\n",
       "      <td>0.020978</td>\n",
       "      <td>0.020948</td>\n",
       "      <td>-0.020911</td>\n",
       "      <td>0.020889</td>\n",
       "      <td>0.018935</td>\n",
       "      <td>0.017644</td>\n",
       "      <td>0.020906</td>\n",
       "      <td>0.021456</td>\n",
       "      <td>0.018949</td>\n",
       "      <td>0.028947</td>\n",
       "    </tr>\n",
       "    <tr>\n",
       "      <th>2284</th>\n",
       "      <td>0.020364</td>\n",
       "      <td>0.018657</td>\n",
       "      <td>0.020911</td>\n",
       "      <td>0.019742</td>\n",
       "      <td>0.021242</td>\n",
       "      <td>0.001099</td>\n",
       "      <td>0.020155</td>\n",
       "      <td>0.021456</td>\n",
       "      <td>0.018949</td>\n",
       "      <td>0.021123</td>\n",
       "    </tr>\n",
       "    <tr>\n",
       "      <th>2285</th>\n",
       "      <td>0.020732</td>\n",
       "      <td>0.024549</td>\n",
       "      <td>-0.020911</td>\n",
       "      <td>0.025062</td>\n",
       "      <td>0.018862</td>\n",
       "      <td>0.017644</td>\n",
       "      <td>0.020446</td>\n",
       "      <td>0.016092</td>\n",
       "      <td>0.018949</td>\n",
       "      <td>0.014082</td>\n",
       "    </tr>\n",
       "    <tr>\n",
       "      <th>2286</th>\n",
       "      <td>0.021346</td>\n",
       "      <td>0.021275</td>\n",
       "      <td>-0.020911</td>\n",
       "      <td>0.020490</td>\n",
       "      <td>0.021523</td>\n",
       "      <td>0.017644</td>\n",
       "      <td>0.022308</td>\n",
       "      <td>0.021456</td>\n",
       "      <td>0.033160</td>\n",
       "      <td>0.021123</td>\n",
       "    </tr>\n",
       "  </tbody>\n",
       "</table>\n",
       "<p>2287 rows × 10 columns</p>\n",
       "</div>"
      ],
      "text/plain": [
       "        height    weight    gender       bmi        rh  stress_level  \\\n",
       "0     0.019628  0.017184  0.020911  0.019573  0.025272      0.010714   \n",
       "1     0.021714  0.018984 -0.020911  0.017669  0.019541      0.001099   \n",
       "2     0.020978  0.020948 -0.020911  0.020889  0.019256      0.018132   \n",
       "3     0.021714  0.018984 -0.020911  0.017669  0.021043      0.029121   \n",
       "4     0.021714  0.018984 -0.020911  0.017669  0.022628      0.043956   \n",
       "...        ...       ...       ...       ...       ...           ...   \n",
       "2282  0.021714  0.029458 -0.020911  0.027417  0.023833      0.018132   \n",
       "2283  0.020978  0.020948 -0.020911  0.020889  0.018935      0.017644   \n",
       "2284  0.020364  0.018657  0.020911  0.019742  0.021242      0.001099   \n",
       "2285  0.020732  0.024549 -0.020911  0.025062  0.018862      0.017644   \n",
       "2286  0.021346  0.021275 -0.020911  0.020490  0.021523      0.017644   \n",
       "\n",
       "      skin_temp        TC        TS       Clo  \n",
       "0      0.020906  0.021456  0.018949  0.023861  \n",
       "1      0.020206  0.021456  0.018949  0.014082  \n",
       "2      0.021687  0.021456  0.018949  0.023861  \n",
       "3      0.019878  0.021456  0.018949  0.014082  \n",
       "4      0.019654  0.021456  0.018949  0.014082  \n",
       "...         ...       ...       ...       ...  \n",
       "2282   0.020481  0.021456  0.018949  0.014082  \n",
       "2283   0.020906  0.021456  0.018949  0.028947  \n",
       "2284   0.020155  0.021456  0.018949  0.021123  \n",
       "2285   0.020446  0.016092  0.018949  0.014082  \n",
       "2286   0.022308  0.021456  0.033160  0.021123  \n",
       "\n",
       "[2287 rows x 10 columns]"
      ]
     },
     "execution_count": 13,
     "metadata": {},
     "output_type": "execute_result"
    }
   ],
   "source": [
    "X_data"
   ]
  },
  {
   "cell_type": "code",
   "execution_count": 14,
   "metadata": {
    "ExecuteTime": {
     "end_time": "2020-11-12T21:45:32.612306Z",
     "start_time": "2020-11-12T21:45:32.607840Z"
    }
   },
   "outputs": [
    {
     "data": {
      "text/plain": [
       "array([  81.51502009, 3055.17450402,   47.8225888 , 1047.78619992,\n",
       "       2492.26763506, 1819.98324996, 1530.85355015,  186.42424735,\n",
       "        211.09713404,   25.56422109])"
      ]
     },
     "execution_count": 14,
     "metadata": {},
     "output_type": "execute_result"
    }
   ],
   "source": [
    "X_norm"
   ]
  },
  {
   "cell_type": "markdown",
   "metadata": {
    "ExecuteTime": {
     "end_time": "2020-11-12T20:08:00.879833Z",
     "start_time": "2020-11-12T20:08:00.877605Z"
    }
   },
   "source": [
    "## random forest (1st stry)"
   ]
  },
  {
   "cell_type": "code",
   "execution_count": 15,
   "metadata": {
    "ExecuteTime": {
     "end_time": "2020-11-12T21:45:34.531234Z",
     "start_time": "2020-11-12T21:45:34.525731Z"
    }
   },
   "outputs": [],
   "source": [
    "X_train, X_test, y_train, y_test = train_test_split(X_data, y_data, test_size=0.2, random_state=1208)"
   ]
  },
  {
   "cell_type": "code",
   "execution_count": 16,
   "metadata": {
    "ExecuteTime": {
     "end_time": "2020-11-12T21:45:34.754855Z",
     "start_time": "2020-11-12T21:45:34.752240Z"
    }
   },
   "outputs": [],
   "source": [
    "rfr = RandomForestRegressor()"
   ]
  },
  {
   "cell_type": "code",
   "execution_count": 17,
   "metadata": {
    "ExecuteTime": {
     "end_time": "2020-11-12T21:45:35.472849Z",
     "start_time": "2020-11-12T21:45:34.991182Z"
    }
   },
   "outputs": [
    {
     "data": {
      "text/plain": [
       "RandomForestRegressor()"
      ]
     },
     "execution_count": 17,
     "metadata": {},
     "output_type": "execute_result"
    }
   ],
   "source": [
    "rfr.fit(X_train, y_train)"
   ]
  },
  {
   "cell_type": "code",
   "execution_count": 18,
   "metadata": {
    "ExecuteTime": {
     "end_time": "2020-11-12T21:45:35.496115Z",
     "start_time": "2020-11-12T21:45:35.475366Z"
    }
   },
   "outputs": [],
   "source": [
    "y_pred = rfr.predict(X_test)"
   ]
  },
  {
   "cell_type": "code",
   "execution_count": 19,
   "metadata": {
    "ExecuteTime": {
     "end_time": "2020-11-12T21:45:35.535229Z",
     "start_time": "2020-11-12T21:45:35.531168Z"
    }
   },
   "outputs": [
    {
     "data": {
      "text/plain": [
       "1.6620547192440513"
      ]
     },
     "execution_count": 19,
     "metadata": {},
     "output_type": "execute_result"
    }
   ],
   "source": [
    "# mean squared error\n",
    "mean_squared_error(y_test, y_pred)"
   ]
  },
  {
   "cell_type": "code",
   "execution_count": 20,
   "metadata": {
    "ExecuteTime": {
     "end_time": "2020-11-12T21:45:36.104987Z",
     "start_time": "2020-11-12T21:45:36.101041Z"
    }
   },
   "outputs": [
    {
     "data": {
      "text/plain": [
       "0.6705262254156985"
      ]
     },
     "execution_count": 20,
     "metadata": {},
     "output_type": "execute_result"
    }
   ],
   "source": [
    "# R2 score\n",
    "r2_score(y_test, y_pred)"
   ]
  },
  {
   "cell_type": "code",
   "execution_count": null,
   "metadata": {},
   "outputs": [],
   "source": []
  },
  {
   "cell_type": "code",
   "execution_count": null,
   "metadata": {},
   "outputs": [],
   "source": []
  },
  {
   "cell_type": "code",
   "execution_count": null,
   "metadata": {},
   "outputs": [],
   "source": []
  },
  {
   "cell_type": "code",
   "execution_count": null,
   "metadata": {},
   "outputs": [],
   "source": []
  },
  {
   "cell_type": "code",
   "execution_count": null,
   "metadata": {},
   "outputs": [],
   "source": []
  },
  {
   "cell_type": "code",
   "execution_count": null,
   "metadata": {},
   "outputs": [],
   "source": []
  },
  {
   "cell_type": "code",
   "execution_count": null,
   "metadata": {},
   "outputs": [],
   "source": []
  },
  {
   "cell_type": "code",
   "execution_count": null,
   "metadata": {},
   "outputs": [],
   "source": []
  },
  {
   "cell_type": "code",
   "execution_count": null,
   "metadata": {},
   "outputs": [],
   "source": []
  },
  {
   "cell_type": "code",
   "execution_count": null,
   "metadata": {},
   "outputs": [],
   "source": []
  }
 ],
 "metadata": {
  "kernelspec": {
   "display_name": "thermal38",
   "language": "python",
   "name": "thermal38"
  },
  "language_info": {
   "codemirror_mode": {
    "name": "ipython",
    "version": 3
   },
   "file_extension": ".py",
   "mimetype": "text/x-python",
   "name": "python",
   "nbconvert_exporter": "python",
   "pygments_lexer": "ipython3",
   "version": "3.8.5"
  },
  "toc": {
   "base_numbering": 1,
   "nav_menu": {},
   "number_sections": true,
   "sideBar": true,
   "skip_h1_title": false,
   "title_cell": "Table of Contents",
   "title_sidebar": "Contents",
   "toc_cell": false,
   "toc_position": {
    "height": "calc(100% - 180px)",
    "left": "10px",
    "top": "150px",
    "width": "512px"
   },
   "toc_section_display": true,
   "toc_window_display": true
  }
 },
 "nbformat": 4,
 "nbformat_minor": 4
}
