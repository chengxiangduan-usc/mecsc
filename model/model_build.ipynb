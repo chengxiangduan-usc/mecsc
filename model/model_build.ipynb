{
 "cells": [
  {
   "cell_type": "code",
   "execution_count": null,
   "metadata": {},
   "outputs": [],
   "source": [
    "def getOptimalGroupTempreture(minTs, maxTs, sensitivity=1.0, defaultMinMaxRange=1.0):\n",
    "    \"\"\"\n",
    "    sensitivity > 0, less means more sensitive\n",
    "    defaultMinMaxRange > 0 or == None\n",
    "    \"\"\"\n",
    "    if len(minTs) != len(maxTs):\n",
    "        print('Length of min tempreture records and max tempretur records are not equal!')\n",
    "        return None\n",
    "    \n",
    "    if defaultMinMaxRange is not None:\n",
    "        avgTs = [(maxTs[i] + minTs[i]) / 2 for i in range(len(minTs))]\n",
    "        tRanges = [maxTs[i] - minTs[i] for i in range(len(minTs))]\n",
    "        checkedtRanges = []\n",
    "        for i in range(len(tRanges)):\n",
    "            t = tRanges[i] if tRanges[i] > 0 else defaultMinMaxRange\n",
    "            checkedtRanges.append(t)\n",
    "    else:\n",
    "        avgTs = []\n",
    "        tRanges = [maxTs[i] - minTs[i] for i in range(len(minTs))]\n",
    "        checkedtRanges = []\n",
    "        for i in range(len(tRanges)):\n",
    "            if tRanges[i] > 0:\n",
    "                t = tRanges[i]\n",
    "                checkedtRanges.append(t)\n",
    "                avgTs.append((maxTs[i] + minTs[i]) / 2)\n",
    "                \n",
    "    weights = [computeWeight(tRange, sensitivity) for tRange in checkedtRanges]\n",
    "    \n",
    "    weightedTs = [avgTs[i] * weights[i] for i in range(avgTs)]\n",
    "    targetTempreture = sum(weightedTs) / len(weightedTs)\n",
    "    return targetTempreture\n",
    "    \n",
    "def computeWeight(tRange, sensitivity):\n",
    "    return (1 / tRange) ** sensitivity"
   ]
  },
  {
   "cell_type": "code",
   "execution_count": 2,
   "metadata": {
    "ExecuteTime": {
     "end_time": "2021-01-12T23:02:12.058413Z",
     "start_time": "2021-01-12T23:02:12.043896Z"
    }
   },
   "outputs": [
    {
     "data": {
      "text/plain": [
       "2.0"
      ]
     },
     "execution_count": 2,
     "metadata": {},
     "output_type": "execute_result"
    }
   ],
   "source": [
    "4 ** 0.5"
   ]
  },
  {
   "cell_type": "code",
   "execution_count": null,
   "metadata": {},
   "outputs": [],
   "source": []
  },
  {
   "cell_type": "code",
   "execution_count": null,
   "metadata": {},
   "outputs": [],
   "source": []
  },
  {
   "cell_type": "code",
   "execution_count": null,
   "metadata": {},
   "outputs": [],
   "source": []
  },
  {
   "cell_type": "code",
   "execution_count": null,
   "metadata": {},
   "outputs": [],
   "source": []
  },
  {
   "cell_type": "code",
   "execution_count": null,
   "metadata": {},
   "outputs": [],
   "source": []
  },
  {
   "cell_type": "code",
   "execution_count": null,
   "metadata": {},
   "outputs": [],
   "source": []
  },
  {
   "cell_type": "code",
   "execution_count": null,
   "metadata": {},
   "outputs": [],
   "source": []
  },
  {
   "cell_type": "code",
   "execution_count": null,
   "metadata": {},
   "outputs": [],
   "source": []
  },
  {
   "cell_type": "code",
   "execution_count": null,
   "metadata": {},
   "outputs": [],
   "source": []
  },
  {
   "cell_type": "code",
   "execution_count": null,
   "metadata": {},
   "outputs": [],
   "source": []
  },
  {
   "cell_type": "code",
   "execution_count": null,
   "metadata": {},
   "outputs": [],
   "source": []
  },
  {
   "cell_type": "code",
   "execution_count": null,
   "metadata": {},
   "outputs": [],
   "source": []
  },
  {
   "cell_type": "code",
   "execution_count": null,
   "metadata": {},
   "outputs": [],
   "source": []
  },
  {
   "cell_type": "code",
   "execution_count": null,
   "metadata": {},
   "outputs": [],
   "source": []
  },
  {
   "cell_type": "code",
   "execution_count": null,
   "metadata": {},
   "outputs": [],
   "source": []
  },
  {
   "cell_type": "code",
   "execution_count": null,
   "metadata": {},
   "outputs": [],
   "source": []
  },
  {
   "cell_type": "code",
   "execution_count": null,
   "metadata": {},
   "outputs": [],
   "source": []
  },
  {
   "cell_type": "code",
   "execution_count": null,
   "metadata": {},
   "outputs": [],
   "source": []
  },
  {
   "cell_type": "code",
   "execution_count": null,
   "metadata": {},
   "outputs": [],
   "source": []
  },
  {
   "cell_type": "code",
   "execution_count": null,
   "metadata": {},
   "outputs": [],
   "source": []
  },
  {
   "cell_type": "code",
   "execution_count": null,
   "metadata": {},
   "outputs": [],
   "source": []
  },
  {
   "cell_type": "code",
   "execution_count": null,
   "metadata": {},
   "outputs": [],
   "source": []
  },
  {
   "cell_type": "code",
   "execution_count": null,
   "metadata": {},
   "outputs": [],
   "source": []
  }
 ],
 "metadata": {
  "kernelspec": {
   "display_name": "Python [conda env:ml]",
   "language": "python",
   "name": "conda-env-ml-py"
  },
  "language_info": {
   "codemirror_mode": {
    "name": "ipython",
    "version": 3
   },
   "file_extension": ".py",
   "mimetype": "text/x-python",
   "name": "python",
   "nbconvert_exporter": "python",
   "pygments_lexer": "ipython3",
   "version": "3.6.10"
  },
  "toc": {
   "base_numbering": 1,
   "nav_menu": {},
   "number_sections": true,
   "sideBar": true,
   "skip_h1_title": false,
   "title_cell": "Table of Contents",
   "title_sidebar": "Contents",
   "toc_cell": false,
   "toc_position": {},
   "toc_section_display": true,
   "toc_window_display": false
  }
 },
 "nbformat": 4,
 "nbformat_minor": 2
}
