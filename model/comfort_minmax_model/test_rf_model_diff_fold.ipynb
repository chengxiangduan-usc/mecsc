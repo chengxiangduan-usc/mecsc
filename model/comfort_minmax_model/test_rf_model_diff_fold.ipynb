{
 "cells": [
  {
   "cell_type": "code",
   "execution_count": 1,
   "metadata": {
    "ExecuteTime": {
     "end_time": "2021-02-07T17:15:53.904694Z",
     "start_time": "2021-02-07T17:15:53.891184Z"
    }
   },
   "outputs": [],
   "source": [
    "import random\n",
    "import math"
   ]
  },
  {
   "cell_type": "code",
   "execution_count": 2,
   "metadata": {
    "ExecuteTime": {
     "end_time": "2021-02-07T17:15:54.745694Z",
     "start_time": "2021-02-07T17:15:53.905695Z"
    }
   },
   "outputs": [],
   "source": [
    "%matplotlib inline\n",
    "import pandas as pd\n",
    "import numpy as np\n",
    "\n",
    "import matplotlib.pyplot as plt\n",
    "import seaborn as sns"
   ]
  },
  {
   "cell_type": "code",
   "execution_count": 3,
   "metadata": {
    "ExecuteTime": {
     "end_time": "2021-02-07T17:15:54.983694Z",
     "start_time": "2021-02-07T17:15:54.746695Z"
    }
   },
   "outputs": [],
   "source": [
    "# from sklearn.ensemble import RandomForestRegressor\n",
    "from sklearn.metrics import mean_squared_error, r2_score\n",
    "\n",
    "from sklearn import tree\n",
    "import joblib\n",
    "\n",
    "import scipy"
   ]
  },
  {
   "cell_type": "code",
   "execution_count": 4,
   "metadata": {
    "ExecuteTime": {
     "end_time": "2021-02-07T17:15:54.999697Z",
     "start_time": "2021-02-07T17:15:54.984698Z"
    }
   },
   "outputs": [],
   "source": [
    "plt.rcParams[\"figure.figsize\"] = (15, 17)"
   ]
  },
  {
   "cell_type": "markdown",
   "metadata": {},
   "source": [
    "## load random forest model"
   ]
  },
  {
   "cell_type": "code",
   "execution_count": 5,
   "metadata": {
    "ExecuteTime": {
     "end_time": "2021-02-07T17:15:55.014694Z",
     "start_time": "2021-02-07T17:15:55.000697Z"
    }
   },
   "outputs": [],
   "source": [
    "fold = 10\n",
    "filename_min = './min_random_forest_model_%d.sav' % (fold)\n",
    "filename_max = './max_random_forest_model_%d.sav' % (fold)"
   ]
  },
  {
   "cell_type": "code",
   "execution_count": 6,
   "metadata": {
    "ExecuteTime": {
     "end_time": "2021-02-07T17:15:55.362702Z",
     "start_time": "2021-02-07T17:15:55.015695Z"
    }
   },
   "outputs": [],
   "source": [
    "rfr_min = joblib.load(filename_min)\n",
    "rfr_max = joblib.load(filename_max)"
   ]
  },
  {
   "cell_type": "markdown",
   "metadata": {},
   "source": [
    "## create test data from test dataset"
   ]
  },
  {
   "cell_type": "code",
   "execution_count": 7,
   "metadata": {
    "ExecuteTime": {
     "end_time": "2021-02-07T17:15:55.378216Z",
     "start_time": "2021-02-07T17:15:55.363705Z"
    }
   },
   "outputs": [],
   "source": [
    "pth_min = '../processed_data/test_min.csv'\n",
    "df_min = pd.read_csv(pth_min)"
   ]
  },
  {
   "cell_type": "code",
   "execution_count": 8,
   "metadata": {
    "ExecuteTime": {
     "end_time": "2021-02-07T17:15:55.394215Z",
     "start_time": "2021-02-07T17:15:55.380216Z"
    }
   },
   "outputs": [],
   "source": [
    "pth_max = '../processed_data/test_max.csv'\n",
    "df_max = pd.read_csv(pth_max)"
   ]
  },
  {
   "cell_type": "code",
   "execution_count": 9,
   "metadata": {
    "ExecuteTime": {
     "end_time": "2021-02-07T17:15:55.410215Z",
     "start_time": "2021-02-07T17:15:55.396220Z"
    },
    "scrolled": false
   },
   "outputs": [
    {
     "data": {
      "text/plain": [
       "(57, 14)"
      ]
     },
     "execution_count": 9,
     "metadata": {},
     "output_type": "execute_result"
    }
   ],
   "source": [
    "df_min.shape"
   ]
  },
  {
   "cell_type": "code",
   "execution_count": 10,
   "metadata": {
    "ExecuteTime": {
     "end_time": "2021-02-07T17:15:55.426217Z",
     "start_time": "2021-02-07T17:15:55.411217Z"
    }
   },
   "outputs": [
    {
     "data": {
      "text/plain": [
       "(9, 14)"
      ]
     },
     "execution_count": 10,
     "metadata": {},
     "output_type": "execute_result"
    }
   ],
   "source": [
    "df_max.shape"
   ]
  },
  {
   "cell_type": "code",
   "execution_count": 11,
   "metadata": {
    "ExecuteTime": {
     "end_time": "2021-02-07T17:15:55.442225Z",
     "start_time": "2021-02-07T17:15:55.427218Z"
    }
   },
   "outputs": [],
   "source": [
    "df_combine = pd.concat([df_min, df_max])"
   ]
  },
  {
   "cell_type": "code",
   "execution_count": 12,
   "metadata": {
    "ExecuteTime": {
     "end_time": "2021-02-07T17:15:55.474225Z",
     "start_time": "2021-02-07T17:15:55.443225Z"
    },
    "scrolled": false
   },
   "outputs": [
    {
     "data": {
      "text/html": [
       "<div>\n",
       "<style scoped>\n",
       "    .dataframe tbody tr th:only-of-type {\n",
       "        vertical-align: middle;\n",
       "    }\n",
       "\n",
       "    .dataframe tbody tr th {\n",
       "        vertical-align: top;\n",
       "    }\n",
       "\n",
       "    .dataframe thead th {\n",
       "        text-align: right;\n",
       "    }\n",
       "</style>\n",
       "<table border=\"1\" class=\"dataframe\">\n",
       "  <thead>\n",
       "    <tr style=\"text-align: right;\">\n",
       "      <th></th>\n",
       "      <th>Unnamed: 0</th>\n",
       "      <th>height</th>\n",
       "      <th>weight</th>\n",
       "      <th>gender</th>\n",
       "      <th>bmi</th>\n",
       "      <th>age</th>\n",
       "      <th>rh</th>\n",
       "      <th>heart_rate</th>\n",
       "      <th>stress_level</th>\n",
       "      <th>skin_temp</th>\n",
       "      <th>eda</th>\n",
       "      <th>Clo</th>\n",
       "      <th>Act</th>\n",
       "      <th>env_temp</th>\n",
       "    </tr>\n",
       "  </thead>\n",
       "  <tbody>\n",
       "    <tr>\n",
       "      <th>0</th>\n",
       "      <td>166</td>\n",
       "      <td>1.77</td>\n",
       "      <td>68.0</td>\n",
       "      <td>-1.0</td>\n",
       "      <td>21.705129</td>\n",
       "      <td>24.0</td>\n",
       "      <td>57.779</td>\n",
       "      <td>76.298872</td>\n",
       "      <td>23.987342</td>\n",
       "      <td>31.672874</td>\n",
       "      <td>0.877379</td>\n",
       "      <td>0.54</td>\n",
       "      <td>1.0</td>\n",
       "      <td>25.841111</td>\n",
       "    </tr>\n",
       "    <tr>\n",
       "      <th>1</th>\n",
       "      <td>25</td>\n",
       "      <td>1.83</td>\n",
       "      <td>74.0</td>\n",
       "      <td>-1.0</td>\n",
       "      <td>22.096808</td>\n",
       "      <td>24.0</td>\n",
       "      <td>46.650</td>\n",
       "      <td>84.000000</td>\n",
       "      <td>23.987342</td>\n",
       "      <td>31.693000</td>\n",
       "      <td>0.009496</td>\n",
       "      <td>0.50</td>\n",
       "      <td>1.1</td>\n",
       "      <td>26.390000</td>\n",
       "    </tr>\n",
       "    <tr>\n",
       "      <th>2</th>\n",
       "      <td>229</td>\n",
       "      <td>1.63</td>\n",
       "      <td>50.0</td>\n",
       "      <td>1.0</td>\n",
       "      <td>18.818924</td>\n",
       "      <td>23.0</td>\n",
       "      <td>41.050</td>\n",
       "      <td>86.000000</td>\n",
       "      <td>23.987342</td>\n",
       "      <td>30.563000</td>\n",
       "      <td>0.281910</td>\n",
       "      <td>0.50</td>\n",
       "      <td>1.0</td>\n",
       "      <td>24.641111</td>\n",
       "    </tr>\n",
       "    <tr>\n",
       "      <th>3</th>\n",
       "      <td>217</td>\n",
       "      <td>1.63</td>\n",
       "      <td>50.0</td>\n",
       "      <td>1.0</td>\n",
       "      <td>18.818924</td>\n",
       "      <td>23.0</td>\n",
       "      <td>39.170</td>\n",
       "      <td>67.000000</td>\n",
       "      <td>7.000000</td>\n",
       "      <td>31.672874</td>\n",
       "      <td>0.059989</td>\n",
       "      <td>0.50</td>\n",
       "      <td>1.0</td>\n",
       "      <td>23.868889</td>\n",
       "    </tr>\n",
       "    <tr>\n",
       "      <th>4</th>\n",
       "      <td>10</td>\n",
       "      <td>1.63</td>\n",
       "      <td>50.0</td>\n",
       "      <td>1.0</td>\n",
       "      <td>18.818924</td>\n",
       "      <td>23.0</td>\n",
       "      <td>54.550</td>\n",
       "      <td>79.000000</td>\n",
       "      <td>27.000000</td>\n",
       "      <td>31.672874</td>\n",
       "      <td>0.017312</td>\n",
       "      <td>0.50</td>\n",
       "      <td>1.0</td>\n",
       "      <td>24.737778</td>\n",
       "    </tr>\n",
       "    <tr>\n",
       "      <th>...</th>\n",
       "      <td>...</td>\n",
       "      <td>...</td>\n",
       "      <td>...</td>\n",
       "      <td>...</td>\n",
       "      <td>...</td>\n",
       "      <td>...</td>\n",
       "      <td>...</td>\n",
       "      <td>...</td>\n",
       "      <td>...</td>\n",
       "      <td>...</td>\n",
       "      <td>...</td>\n",
       "      <td>...</td>\n",
       "      <td>...</td>\n",
       "      <td>...</td>\n",
       "    </tr>\n",
       "    <tr>\n",
       "      <th>4</th>\n",
       "      <td>43</td>\n",
       "      <td>1.77</td>\n",
       "      <td>58.0</td>\n",
       "      <td>-1.0</td>\n",
       "      <td>18.513199</td>\n",
       "      <td>23.0</td>\n",
       "      <td>51.234</td>\n",
       "      <td>102.500000</td>\n",
       "      <td>78.000000</td>\n",
       "      <td>33.636000</td>\n",
       "      <td>0.585949</td>\n",
       "      <td>0.36</td>\n",
       "      <td>1.3</td>\n",
       "      <td>26.817778</td>\n",
       "    </tr>\n",
       "    <tr>\n",
       "      <th>5</th>\n",
       "      <td>26</td>\n",
       "      <td>1.60</td>\n",
       "      <td>52.5</td>\n",
       "      <td>1.0</td>\n",
       "      <td>20.507812</td>\n",
       "      <td>24.0</td>\n",
       "      <td>51.538</td>\n",
       "      <td>88.158537</td>\n",
       "      <td>62.485294</td>\n",
       "      <td>32.559814</td>\n",
       "      <td>-0.100261</td>\n",
       "      <td>0.53</td>\n",
       "      <td>1.0</td>\n",
       "      <td>22.608889</td>\n",
       "    </tr>\n",
       "    <tr>\n",
       "      <th>6</th>\n",
       "      <td>6</td>\n",
       "      <td>1.77</td>\n",
       "      <td>58.0</td>\n",
       "      <td>-1.0</td>\n",
       "      <td>18.513199</td>\n",
       "      <td>23.0</td>\n",
       "      <td>55.272</td>\n",
       "      <td>87.000000</td>\n",
       "      <td>62.485294</td>\n",
       "      <td>32.915000</td>\n",
       "      <td>0.006857</td>\n",
       "      <td>0.36</td>\n",
       "      <td>1.0</td>\n",
       "      <td>26.377778</td>\n",
       "    </tr>\n",
       "    <tr>\n",
       "      <th>7</th>\n",
       "      <td>8</td>\n",
       "      <td>1.77</td>\n",
       "      <td>90.0</td>\n",
       "      <td>-1.0</td>\n",
       "      <td>28.727377</td>\n",
       "      <td>28.0</td>\n",
       "      <td>60.389</td>\n",
       "      <td>67.000000</td>\n",
       "      <td>62.485294</td>\n",
       "      <td>31.013000</td>\n",
       "      <td>0.188456</td>\n",
       "      <td>0.36</td>\n",
       "      <td>1.1</td>\n",
       "      <td>26.377778</td>\n",
       "    </tr>\n",
       "    <tr>\n",
       "      <th>8</th>\n",
       "      <td>7</td>\n",
       "      <td>1.77</td>\n",
       "      <td>58.0</td>\n",
       "      <td>-1.0</td>\n",
       "      <td>18.513199</td>\n",
       "      <td>23.0</td>\n",
       "      <td>50.237</td>\n",
       "      <td>99.000000</td>\n",
       "      <td>54.000000</td>\n",
       "      <td>31.588000</td>\n",
       "      <td>0.017909</td>\n",
       "      <td>0.36</td>\n",
       "      <td>1.3</td>\n",
       "      <td>24.847222</td>\n",
       "    </tr>\n",
       "  </tbody>\n",
       "</table>\n",
       "<p>66 rows × 14 columns</p>\n",
       "</div>"
      ],
      "text/plain": [
       "    Unnamed: 0  height  weight  gender        bmi   age      rh  heart_rate  \\\n",
       "0          166    1.77    68.0    -1.0  21.705129  24.0  57.779   76.298872   \n",
       "1           25    1.83    74.0    -1.0  22.096808  24.0  46.650   84.000000   \n",
       "2          229    1.63    50.0     1.0  18.818924  23.0  41.050   86.000000   \n",
       "3          217    1.63    50.0     1.0  18.818924  23.0  39.170   67.000000   \n",
       "4           10    1.63    50.0     1.0  18.818924  23.0  54.550   79.000000   \n",
       "..         ...     ...     ...     ...        ...   ...     ...         ...   \n",
       "4           43    1.77    58.0    -1.0  18.513199  23.0  51.234  102.500000   \n",
       "5           26    1.60    52.5     1.0  20.507812  24.0  51.538   88.158537   \n",
       "6            6    1.77    58.0    -1.0  18.513199  23.0  55.272   87.000000   \n",
       "7            8    1.77    90.0    -1.0  28.727377  28.0  60.389   67.000000   \n",
       "8            7    1.77    58.0    -1.0  18.513199  23.0  50.237   99.000000   \n",
       "\n",
       "    stress_level  skin_temp       eda   Clo  Act   env_temp  \n",
       "0      23.987342  31.672874  0.877379  0.54  1.0  25.841111  \n",
       "1      23.987342  31.693000  0.009496  0.50  1.1  26.390000  \n",
       "2      23.987342  30.563000  0.281910  0.50  1.0  24.641111  \n",
       "3       7.000000  31.672874  0.059989  0.50  1.0  23.868889  \n",
       "4      27.000000  31.672874  0.017312  0.50  1.0  24.737778  \n",
       "..           ...        ...       ...   ...  ...        ...  \n",
       "4      78.000000  33.636000  0.585949  0.36  1.3  26.817778  \n",
       "5      62.485294  32.559814 -0.100261  0.53  1.0  22.608889  \n",
       "6      62.485294  32.915000  0.006857  0.36  1.0  26.377778  \n",
       "7      62.485294  31.013000  0.188456  0.36  1.1  26.377778  \n",
       "8      54.000000  31.588000  0.017909  0.36  1.3  24.847222  \n",
       "\n",
       "[66 rows x 14 columns]"
      ]
     },
     "execution_count": 12,
     "metadata": {},
     "output_type": "execute_result"
    }
   ],
   "source": [
    "df_combine"
   ]
  },
  {
   "cell_type": "code",
   "execution_count": 13,
   "metadata": {
    "ExecuteTime": {
     "end_time": "2021-02-07T17:15:55.490225Z",
     "start_time": "2021-02-07T17:15:55.475225Z"
    }
   },
   "outputs": [],
   "source": [
    "X_columns = ['height', 'weight', 'gender', 'bmi', 'age', 'rh', \\\n",
    "              'heart_rate', 'stress_level', 'skin_temp', 'eda', \\\n",
    "              'Clo', 'Act']"
   ]
  },
  {
   "cell_type": "code",
   "execution_count": 14,
   "metadata": {
    "ExecuteTime": {
     "end_time": "2021-02-07T17:15:55.506227Z",
     "start_time": "2021-02-07T17:15:55.491226Z"
    }
   },
   "outputs": [],
   "source": [
    "X = df_combine[X_columns]\n",
    "y = df_combine['env_temp']"
   ]
  },
  {
   "cell_type": "markdown",
   "metadata": {},
   "source": [
    "## exmine with other model"
   ]
  },
  {
   "cell_type": "markdown",
   "metadata": {},
   "source": [
    "### examine max prediction"
   ]
  },
  {
   "cell_type": "code",
   "execution_count": 15,
   "metadata": {
    "ExecuteTime": {
     "end_time": "2021-02-07T17:15:55.522224Z",
     "start_time": "2021-02-07T17:15:55.507227Z"
    }
   },
   "outputs": [],
   "source": [
    "# y_pred_pmv = np.array(df_max['pmv_temp_max'])"
   ]
  },
  {
   "cell_type": "code",
   "execution_count": 16,
   "metadata": {
    "ExecuteTime": {
     "end_time": "2021-02-07T17:15:55.537224Z",
     "start_time": "2021-02-07T17:15:55.524228Z"
    }
   },
   "outputs": [],
   "source": [
    "# y_pred_pmv"
   ]
  },
  {
   "cell_type": "code",
   "execution_count": 17,
   "metadata": {
    "ExecuteTime": {
     "end_time": "2021-02-07T17:15:55.553226Z",
     "start_time": "2021-02-07T17:15:55.539225Z"
    }
   },
   "outputs": [],
   "source": [
    "X = df_max[X_columns]\n",
    "y_true = np.array(df_max['env_temp'])"
   ]
  },
  {
   "cell_type": "code",
   "execution_count": 18,
   "metadata": {
    "ExecuteTime": {
     "end_time": "2021-02-07T17:15:55.569225Z",
     "start_time": "2021-02-07T17:15:55.555232Z"
    }
   },
   "outputs": [
    {
     "data": {
      "text/plain": [
       "array([26.37777778, 27.17277778, 25.91388889, 27.235     , 26.81777778,\n",
       "       22.60888889, 26.37777778, 26.37777778, 24.84722222])"
      ]
     },
     "execution_count": 18,
     "metadata": {},
     "output_type": "execute_result"
    }
   ],
   "source": [
    "y_true"
   ]
  },
  {
   "cell_type": "code",
   "execution_count": 19,
   "metadata": {
    "ExecuteTime": {
     "end_time": "2021-02-07T17:15:55.632225Z",
     "start_time": "2021-02-07T17:15:55.570229Z"
    }
   },
   "outputs": [],
   "source": [
    "y_pred_rf = rfr_max.predict(X)"
   ]
  },
  {
   "cell_type": "code",
   "execution_count": 20,
   "metadata": {
    "ExecuteTime": {
     "end_time": "2021-02-07T17:15:55.648225Z",
     "start_time": "2021-02-07T17:15:55.633227Z"
    }
   },
   "outputs": [
    {
     "data": {
      "text/plain": [
       "array([26.50987897, 27.06311657, 26.22809077, 27.11436954, 26.8311131 ,\n",
       "       24.91902381, 26.35058681, 26.97459276, 26.28780556])"
      ]
     },
     "execution_count": 20,
     "metadata": {},
     "output_type": "execute_result"
    }
   ],
   "source": [
    "y_pred_rf"
   ]
  },
  {
   "cell_type": "markdown",
   "metadata": {},
   "source": [
    "#### max - mse"
   ]
  },
  {
   "cell_type": "code",
   "execution_count": 21,
   "metadata": {
    "ExecuteTime": {
     "end_time": "2021-02-07T17:15:55.664226Z",
     "start_time": "2021-02-07T17:15:55.649227Z"
    }
   },
   "outputs": [
    {
     "data": {
      "text/plain": [
       "0.8790955365643064"
      ]
     },
     "metadata": {},
     "output_type": "display_data"
    }
   ],
   "source": [
    "# mean squared error\n",
    "mse_rf = mean_squared_error(y_true, y_pred_rf)\n",
    "# mse_pmv = mean_squared_error(y_true, y_pred_pmv)\n",
    "display(mse_rf)\n",
    "# display(mse_pmv)"
   ]
  },
  {
   "cell_type": "code",
   "execution_count": 22,
   "metadata": {
    "ExecuteTime": {
     "end_time": "2021-02-07T17:15:55.680225Z",
     "start_time": "2021-02-07T17:15:55.666226Z"
    }
   },
   "outputs": [],
   "source": [
    "# drop ratio\n",
    "# (mse_pmv - mse_rf) / mse_pmv"
   ]
  },
  {
   "cell_type": "markdown",
   "metadata": {},
   "source": [
    "#### max - r2"
   ]
  },
  {
   "cell_type": "code",
   "execution_count": 23,
   "metadata": {
    "ExecuteTime": {
     "end_time": "2021-02-07T17:15:55.696225Z",
     "start_time": "2021-02-07T17:15:55.682227Z"
    }
   },
   "outputs": [
    {
     "data": {
      "text/plain": [
       "0.5297646981363215"
      ]
     },
     "metadata": {},
     "output_type": "display_data"
    }
   ],
   "source": [
    "# R2 score\n",
    "r2_rf = r2_score(y_true, y_pred_rf)\n",
    "# r2_pmv = r2_score(y_true, y_pred_pmv)\n",
    "display(r2_rf)\n",
    "# display(r2_pmv)"
   ]
  },
  {
   "cell_type": "code",
   "execution_count": null,
   "metadata": {},
   "outputs": [],
   "source": []
  },
  {
   "cell_type": "markdown",
   "metadata": {},
   "source": [
    "### examine min prediction"
   ]
  },
  {
   "cell_type": "code",
   "execution_count": 24,
   "metadata": {
    "ExecuteTime": {
     "end_time": "2021-02-07T17:15:55.712226Z",
     "start_time": "2021-02-07T17:15:55.698226Z"
    }
   },
   "outputs": [],
   "source": [
    "# y_pred_pmv = np.array(df_min['pmv_temp_min'])"
   ]
  },
  {
   "cell_type": "code",
   "execution_count": 25,
   "metadata": {
    "ExecuteTime": {
     "end_time": "2021-02-07T17:15:55.728226Z",
     "start_time": "2021-02-07T17:15:55.713227Z"
    }
   },
   "outputs": [],
   "source": [
    "# y_pred_pmv"
   ]
  },
  {
   "cell_type": "code",
   "execution_count": 26,
   "metadata": {
    "ExecuteTime": {
     "end_time": "2021-02-07T17:15:55.744226Z",
     "start_time": "2021-02-07T17:15:55.729227Z"
    }
   },
   "outputs": [],
   "source": [
    "X = df_min[X_columns]\n",
    "y_true = np.array(df_min['env_temp'])"
   ]
  },
  {
   "cell_type": "code",
   "execution_count": 27,
   "metadata": {
    "ExecuteTime": {
     "end_time": "2021-02-07T17:15:55.760228Z",
     "start_time": "2021-02-07T17:15:55.745226Z"
    }
   },
   "outputs": [
    {
     "data": {
      "text/plain": [
       "array([25.84111111, 26.39      , 24.64111111, 23.86888889, 24.73777778,\n",
       "       23.67722222, 24.545     , 23.00388889, 24.65277778, 25.28277778,\n",
       "       25.01611111, 25.31888889, 23.77277778, 24.545     , 23.96611111,\n",
       "       24.75      , 23.71277778, 23.67722222, 24.545     , 24.06222222,\n",
       "       21.86722222, 25.02777778, 23.86888889, 23.48388889, 25.67111111,\n",
       "       24.06222222, 23.86888889, 25.30722222, 22.63277778, 25.31888889,\n",
       "       23.67722222, 25.59777778, 24.58111111, 23.48388889, 24.835     ,\n",
       "       23.80888889, 25.21      , 24.15777778, 23.19611111, 24.17111111,\n",
       "       23.545     , 23.77277778, 24.545     , 25.16222222, 21.915     ,\n",
       "       24.255     , 24.255     , 25.01611111, 24.12222222, 26.09722222,\n",
       "       24.545     , 25.31888889, 23.905     , 23.665     , 24.15777778,\n",
       "       23.29222222, 25.42777778])"
      ]
     },
     "execution_count": 27,
     "metadata": {},
     "output_type": "execute_result"
    }
   ],
   "source": [
    "y_true"
   ]
  },
  {
   "cell_type": "code",
   "execution_count": 28,
   "metadata": {
    "ExecuteTime": {
     "end_time": "2021-02-07T17:15:55.838226Z",
     "start_time": "2021-02-07T17:15:55.762227Z"
    }
   },
   "outputs": [],
   "source": [
    "y_pred_rf = rfr_max.predict(X)"
   ]
  },
  {
   "cell_type": "code",
   "execution_count": 29,
   "metadata": {
    "ExecuteTime": {
     "end_time": "2021-02-07T17:15:55.854225Z",
     "start_time": "2021-02-07T17:15:55.839226Z"
    }
   },
   "outputs": [
    {
     "data": {
      "text/plain": [
       "array([26.99285764, 28.24967907, 25.7692629 , 25.95623165, 25.14688988,\n",
       "       27.54073115, 25.28378671, 25.9176746 , 26.68895784, 26.20649256,\n",
       "       26.58774157, 26.00869544, 27.23472173, 25.77650496, 27.36237897,\n",
       "       26.58066171, 26.9429752 , 26.15909425, 27.32281399, 27.45898661,\n",
       "       25.52466518, 27.25844395, 25.89204018, 26.03027381, 26.48997222,\n",
       "       25.91708234, 27.4620119 , 26.47147123, 25.99730853, 25.1853006 ,\n",
       "       27.3624127 , 25.3646622 , 26.6783006 , 25.75238492, 25.62940923,\n",
       "       25.71869643, 26.64890873, 25.75697024, 26.04920139, 26.69131399,\n",
       "       26.05006349, 26.05044048, 27.1315129 , 25.58225   , 25.78458333,\n",
       "       25.98442659, 27.57749653, 26.60359226, 26.69166468, 27.17638194,\n",
       "       27.55314335, 25.38143651, 26.86357639, 26.93907143, 25.67230208,\n",
       "       25.68319643, 26.40880556])"
      ]
     },
     "execution_count": 29,
     "metadata": {},
     "output_type": "execute_result"
    }
   ],
   "source": [
    "y_pred_rf"
   ]
  },
  {
   "cell_type": "markdown",
   "metadata": {},
   "source": [
    "#### min - mse"
   ]
  },
  {
   "cell_type": "code",
   "execution_count": 30,
   "metadata": {
    "ExecuteTime": {
     "end_time": "2021-02-07T17:15:55.870225Z",
     "start_time": "2021-02-07T17:15:55.855225Z"
    }
   },
   "outputs": [
    {
     "data": {
      "text/plain": [
       "5.387122510275596"
      ]
     },
     "metadata": {},
     "output_type": "display_data"
    }
   ],
   "source": [
    "# mean squared error\n",
    "mse_rf = mean_squared_error(y_true, y_pred_rf)\n",
    "# mse_pmv = mean_squared_error(y_true, y_pred_pmv)\n",
    "display(mse_rf)\n",
    "# display(mse_pmv)"
   ]
  },
  {
   "cell_type": "code",
   "execution_count": 31,
   "metadata": {
    "ExecuteTime": {
     "end_time": "2021-02-07T17:15:55.886226Z",
     "start_time": "2021-02-07T17:15:55.871227Z"
    }
   },
   "outputs": [],
   "source": [
    "# drop ratio\n",
    "# (mse_pmv - mse_rf) / mse_pmv"
   ]
  },
  {
   "cell_type": "markdown",
   "metadata": {},
   "source": [
    "#### min - r2"
   ]
  },
  {
   "cell_type": "code",
   "execution_count": 32,
   "metadata": {
    "ExecuteTime": {
     "end_time": "2021-02-07T17:15:55.902227Z",
     "start_time": "2021-02-07T17:15:55.887226Z"
    }
   },
   "outputs": [
    {
     "data": {
      "text/plain": [
       "-5.367950282868098"
      ]
     },
     "metadata": {},
     "output_type": "display_data"
    }
   ],
   "source": [
    "# R2 score\n",
    "r2_rf = r2_score(y_true, y_pred_rf)\n",
    "# r2_pmv = r2_score(y_true, y_pred_pmv)\n",
    "display(r2_rf)\n",
    "# display(r2_pmv)"
   ]
  },
  {
   "cell_type": "code",
   "execution_count": null,
   "metadata": {},
   "outputs": [],
   "source": []
  },
  {
   "cell_type": "markdown",
   "metadata": {},
   "source": [
    "## predict"
   ]
  },
  {
   "cell_type": "markdown",
   "metadata": {},
   "source": [
    "### predict comfort zone min value"
   ]
  },
  {
   "cell_type": "code",
   "execution_count": 16,
   "metadata": {
    "ExecuteTime": {
     "end_time": "2021-02-07T06:47:49.479995Z",
     "start_time": "2021-02-07T06:47:49.432996Z"
    }
   },
   "outputs": [],
   "source": [
    "y_pred_min = rfr_min.predict(X)"
   ]
  },
  {
   "cell_type": "markdown",
   "metadata": {},
   "source": [
    "### transfer to Celsius"
   ]
  },
  {
   "cell_type": "code",
   "execution_count": 18,
   "metadata": {
    "ExecuteTime": {
     "end_time": "2021-02-07T06:47:49.511995Z",
     "start_time": "2021-02-07T06:47:49.496997Z"
    }
   },
   "outputs": [
    {
     "data": {
      "text/plain": [
       "array([-3.63584637, -3.67958995, -4.21965969, -4.30939663, -4.30476455,\n",
       "       -4.57274162, -4.18196753, -3.90356791, -4.06595615, -4.01696994,\n",
       "       -4.42696737, -4.23681036, -3.97922619, -4.07271674, -4.46889638,\n",
       "       -4.45001367, -4.18509656, -4.4386552 , -4.76419709, -3.82451764,\n",
       "       -4.49472059, -4.62727381, -3.78204453, -4.43685022, -4.42676631,\n",
       "       -3.96177422, -5.03597266, -4.21156173, -3.6972209 , -4.13191468,\n",
       "       -4.41008583, -3.8883989 , -4.53466931, -3.98163141, -4.42011082,\n",
       "       -4.41272553, -4.08942923, -4.93214065, -4.37207275, -4.26628175,\n",
       "       -4.26264043, -5.20906393, -4.13618787, -4.39395944, -4.25736606,\n",
       "       -4.05599944, -3.68661332, -4.58431349, -3.92215153, -4.07794218,\n",
       "       -4.60341534, -4.37763228, -4.37123214, -4.00701502, -3.45181261,\n",
       "       -3.41476146, -3.65462919, -4.49238272, -3.70027734, -4.27046076,\n",
       "       -3.97090898, -4.41498677, -3.68133245])"
      ]
     },
     "execution_count": 18,
     "metadata": {},
     "output_type": "execute_result"
    }
   ],
   "source": [
    "y_pred_min"
   ]
  },
  {
   "cell_type": "markdown",
   "metadata": {},
   "source": [
    "### predict comfort zone max value"
   ]
  },
  {
   "cell_type": "code",
   "execution_count": 19,
   "metadata": {
    "ExecuteTime": {
     "end_time": "2021-02-07T06:47:49.526998Z",
     "start_time": "2021-02-07T06:47:49.513997Z"
    }
   },
   "outputs": [],
   "source": [
    "y_pred_max = rfr_max.predict(X)"
   ]
  },
  {
   "cell_type": "markdown",
   "metadata": {},
   "source": [
    "### transfer to Celsius"
   ]
  },
  {
   "cell_type": "code",
   "execution_count": 21,
   "metadata": {
    "ExecuteTime": {
     "end_time": "2021-02-07T06:47:49.558997Z",
     "start_time": "2021-02-07T06:47:49.544996Z"
    }
   },
   "outputs": [
    {
     "data": {
      "text/plain": [
       "array([-2.85082099, -2.02787654, -3.63801543, -3.51340741, -2.37649383,\n",
       "       -3.52704938, -3.04809877, -3.32012037, -3.01692284, -3.5262716 ,\n",
       "       -2.63703704, -3.61433642, -2.40118827, -3.02450309, -2.86890123,\n",
       "       -3.43761111, -2.41861111, -2.36070679, -3.62453704, -2.51600309,\n",
       "       -3.48270988, -3.44759877, -3.09124691, -3.60469136, -2.36070679,\n",
       "       -3.14597531, -3.41631481, -2.40620062, -3.80550617, -2.80175309,\n",
       "       -3.59952469, -3.63729321, -3.67622531, -3.04553086, -3.62548457,\n",
       "       -3.44250309, -2.76705556, -3.38959259, -3.43485185, -2.70841667,\n",
       "       -3.6930216 , -3.53533951, -3.59831481, -2.35508333, -2.9934321 ,\n",
       "       -2.80760802, -2.80923457, -2.38248765, -3.80065432, -3.00414198,\n",
       "       -2.85742593, -3.43936111, -3.62509877, -3.1920216 , -3.06324383,\n",
       "       -2.71874691, -3.26585494, -2.75460494, -2.89760185, -3.96538272,\n",
       "       -3.17866975, -2.72652778, -3.23030864])"
      ]
     },
     "execution_count": 21,
     "metadata": {},
     "output_type": "execute_result"
    }
   ],
   "source": [
    "y_pred_max"
   ]
  },
  {
   "cell_type": "markdown",
   "metadata": {},
   "source": [
    "### detect error"
   ]
  },
  {
   "cell_type": "code",
   "execution_count": 22,
   "metadata": {
    "ExecuteTime": {
     "end_time": "2021-02-07T06:47:49.574996Z",
     "start_time": "2021-02-07T06:47:49.559998Z"
    }
   },
   "outputs": [],
   "source": [
    "errorIdx = []\n",
    "for i in range(len(y_pred_min)):\n",
    "    if y_pred_max[i] <= y_pred_min[i]:\n",
    "        errorIdx.append(i)"
   ]
  },
  {
   "cell_type": "code",
   "execution_count": 23,
   "metadata": {
    "ExecuteTime": {
     "end_time": "2021-02-07T06:47:49.590995Z",
     "start_time": "2021-02-07T06:47:49.577998Z"
    }
   },
   "outputs": [
    {
     "data": {
      "text/plain": [
       "[28]"
      ]
     },
     "execution_count": 23,
     "metadata": {},
     "output_type": "execute_result"
    }
   ],
   "source": [
    "errorIdx"
   ]
  },
  {
   "cell_type": "code",
   "execution_count": 24,
   "metadata": {
    "ExecuteTime": {
     "end_time": "2021-02-07T06:47:49.606995Z",
     "start_time": "2021-02-07T06:47:49.592998Z"
    }
   },
   "outputs": [
    {
     "data": {
      "text/html": [
       "<div>\n",
       "<style scoped>\n",
       "    .dataframe tbody tr th:only-of-type {\n",
       "        vertical-align: middle;\n",
       "    }\n",
       "\n",
       "    .dataframe tbody tr th {\n",
       "        vertical-align: top;\n",
       "    }\n",
       "\n",
       "    .dataframe thead th {\n",
       "        text-align: right;\n",
       "    }\n",
       "</style>\n",
       "<table border=\"1\" class=\"dataframe\">\n",
       "  <thead>\n",
       "    <tr style=\"text-align: right;\">\n",
       "      <th></th>\n",
       "      <th>Unnamed: 0</th>\n",
       "      <th>height</th>\n",
       "      <th>weight</th>\n",
       "      <th>gender</th>\n",
       "      <th>bmi</th>\n",
       "      <th>age</th>\n",
       "      <th>rh</th>\n",
       "      <th>heart_rate</th>\n",
       "      <th>stress_level</th>\n",
       "      <th>skin_temp</th>\n",
       "      <th>eda</th>\n",
       "      <th>Clo</th>\n",
       "      <th>Act</th>\n",
       "      <th>env_temp</th>\n",
       "      <th>pmv_temp_min</th>\n",
       "      <th>pmv_temp_max</th>\n",
       "    </tr>\n",
       "  </thead>\n",
       "  <tbody>\n",
       "    <tr>\n",
       "      <th>28</th>\n",
       "      <td>203</td>\n",
       "      <td>1.64</td>\n",
       "      <td>54.0</td>\n",
       "      <td>1.0</td>\n",
       "      <td>20.077335</td>\n",
       "      <td>24.0</td>\n",
       "      <td>61.437</td>\n",
       "      <td>73.0</td>\n",
       "      <td>7.0</td>\n",
       "      <td>32.137</td>\n",
       "      <td>0.250057</td>\n",
       "      <td>0.74</td>\n",
       "      <td>1.0</td>\n",
       "      <td>78.076</td>\n",
       "      <td>21.7</td>\n",
       "      <td>NaN</td>\n",
       "    </tr>\n",
       "  </tbody>\n",
       "</table>\n",
       "</div>"
      ],
      "text/plain": [
       "    Unnamed: 0  height  weight  gender        bmi   age      rh  heart_rate  \\\n",
       "28         203    1.64    54.0     1.0  20.077335  24.0  61.437        73.0   \n",
       "\n",
       "    stress_level  skin_temp       eda   Clo  Act  env_temp  pmv_temp_min  \\\n",
       "28           7.0     32.137  0.250057  0.74  1.0    78.076          21.7   \n",
       "\n",
       "    pmv_temp_max  \n",
       "28           NaN  "
      ]
     },
     "execution_count": 24,
     "metadata": {},
     "output_type": "execute_result"
    }
   ],
   "source": [
    "df_combine.iloc[errorIdx,:]"
   ]
  },
  {
   "cell_type": "markdown",
   "metadata": {},
   "source": [
    "### delete the unacceptable values"
   ]
  },
  {
   "cell_type": "code",
   "execution_count": 25,
   "metadata": {
    "ExecuteTime": {
     "end_time": "2021-02-07T06:47:49.621999Z",
     "start_time": "2021-02-07T06:47:49.607998Z"
    }
   },
   "outputs": [],
   "source": [
    "t_min = []\n",
    "t_max = []\n",
    "for i in range(len(y_pred_min)):\n",
    "    if y_pred_min[i] <= y_pred_max[i]:\n",
    "        t_min.append(y_pred_min[i])\n",
    "        t_max.append(y_pred_max[i])\n",
    "    else:\n",
    "        t_min.append(y_pred_min[i])\n",
    "        t_max.append(y_pred_min[i])"
   ]
  },
  {
   "cell_type": "code",
   "execution_count": 26,
   "metadata": {
    "ExecuteTime": {
     "end_time": "2021-02-07T06:47:49.636998Z",
     "start_time": "2021-02-07T06:47:49.622997Z"
    }
   },
   "outputs": [
    {
     "data": {
      "text/plain": [
       "63"
      ]
     },
     "execution_count": 26,
     "metadata": {},
     "output_type": "execute_result"
    }
   ],
   "source": [
    "len(t_min)"
   ]
  },
  {
   "cell_type": "markdown",
   "metadata": {},
   "source": [
    "### plot zone"
   ]
  },
  {
   "cell_type": "code",
   "execution_count": 27,
   "metadata": {
    "ExecuteTime": {
     "end_time": "2021-02-07T06:47:50.113003Z",
     "start_time": "2021-02-07T06:47:49.637996Z"
    }
   },
   "outputs": [
    {
     "data": {
      "image/png": "[encoded data removed]",
      "text/plain": [
       "<Figure size 1080x1440 with 1 Axes>"
      ]
     },
     "metadata": {
      "needs_background": "light"
     },
     "output_type": "display_data"
    }
   ],
   "source": [
    "plt.rcParams[\"figure.figsize\"] = (15, 20)\n",
    "# draw comfort zone\n",
    "for i in range(len(t_min)):\n",
    "    plt.plot([t_min[i], t_max[i]],[i, i])\n",
    "    \n",
    "# tag comfort zone min $ max\n",
    "for i in range(len(t_min)):\n",
    "    plt.text(t_min[i]- 0.23, i+0.2, \"%.2f°C\" % t_min[i])\n",
    "    plt.text(t_max[i], i+0.2, \"%.2f°C\" % t_max[i])\n",
    "\n",
    "plt.show()"
   ]
  },
  {
   "cell_type": "markdown",
   "metadata": {},
   "source": [
    "## predict group tempreture model"
   ]
  },
  {
   "cell_type": "code",
   "execution_count": 28,
   "metadata": {
    "ExecuteTime": {
     "end_time": "2021-02-07T06:47:50.145003Z",
     "start_time": "2021-02-07T06:47:50.114006Z"
    }
   },
   "outputs": [],
   "source": [
    "import math\n",
    "\n",
    "class OptimalGroupTempreture():\n",
    "    def __init__(self, minTs, maxTs, sensitivity=1.0, defaultMinMaxRange=1.0):\n",
    "        \"\"\"\n",
    "        sensitivity > 0, less means more sensitive\n",
    "        defaultMinMaxRange > 0 or == None\n",
    "        \"\"\"\n",
    "        if len(minTs) != len(maxTs):\n",
    "            print('Length of min tempreture records and max tempretur records are not equal!')\n",
    "            return None\n",
    "        self.minTs = minTs\n",
    "        self.maxTs = maxTs\n",
    "        self.sensitivity = sensitivity\n",
    "        self.defaultMinMaxRange = defaultMinMaxRange\n",
    "        self.otdDF = None\n",
    "        self.optimalTargetTemperatureOTD = None\n",
    "        self.max_otd = None\n",
    "        self.min_otd = None\n",
    "    \n",
    "    def getTempreture(self, model='auto', sensitivePeoplePercentageLimit=0.1, sensitiveRange=2, ppd=0.1):\n",
    "        \"\"\"\n",
    "        model = 'auto', 'sensitive first', 'otd model'\n",
    "        sensitivePeoplePercentage is > 0 and < 1\n",
    "        sensitiveRange is > 0, unit is Fahrenheit Degree\n",
    "        ppd: only for OTD model\n",
    "        \"\"\"\n",
    "        minTs = self.minTs\n",
    "        maxTs = self.maxTs\n",
    "\n",
    "        if self.defaultMinMaxRange is not None:\n",
    "            avgTs = [(maxTs[i] + minTs[i]) / 2 for i in range(len(minTs))]\n",
    "            tRanges = [maxTs[i] - minTs[i] for i in range(len(minTs))]\n",
    "            checkedtRanges = []\n",
    "            for i in range(len(tRanges)):\n",
    "                t = tRanges[i] if tRanges[i] > 0 else self.defaultMinMaxRange\n",
    "                checkedtRanges.append(t)\n",
    "        else:\n",
    "            avgTs = []\n",
    "            tRanges = [maxTs[i] - minTs[i] for i in range(len(minTs))]\n",
    "            checkedtRanges = []\n",
    "            for i in range(len(tRanges)):\n",
    "                if tRanges[i] > 0:\n",
    "                    t = tRanges[i]\n",
    "                    checkedtRanges.append(t)\n",
    "                    avgTs.append((maxTs[i] + minTs[i]) / 2)\n",
    "\n",
    "        # model selection\n",
    "        if model == 'sensitive first':\n",
    "            print('sensitive first model')\n",
    "            targetTempreture = self.sensitiveFirst(checkedtRanges, avgTs)\n",
    "        elif model == 'otd model':\n",
    "            print('otd model')\n",
    "            targetTempreture = self.otdModel(checkedtRanges, avgTs, ppd)\n",
    "        elif model == 'auto':\n",
    "            lengthOfSensitivePeople = len([tRange for tRange in checkedtRanges if tRange <= sensitiveRange])\n",
    "            if lengthOfSensitivePeople / len(checkedtRanges) >= sensitivePeoplePercentageLimit:\n",
    "                print('sensitive first model')\n",
    "                print('sensitive people percentage:', lengthOfSensitivePeople / len(checkedtRanges))\n",
    "                targetTempreture = self.sensitiveFirst(checkedtRanges, avgTs)\n",
    "            else:\n",
    "                print('otd model')\n",
    "                targetTempreture = self.otdModel(checkedtRanges, avgTs, ppd)\n",
    "                if targetTempreture is None:\n",
    "                    print('otd model does not find a acceptable value, use sensitive first model')\n",
    "                    targetTempreture = self.sensitiveFirst(checkedtRanges, avgTs)\n",
    "        else:\n",
    "            print('Wrong model')\n",
    "            return None\n",
    "\n",
    "        return targetTempreture\n",
    "\n",
    "    def sensitiveFirst(self, checkedtRanges, averageTs):\n",
    "        weights = [self.computeWeight(tRange) for tRange in checkedtRanges]\n",
    "        weightedTs = [averageTs[i] * weights[i] for i in range(len(averageTs))]\n",
    "        targetTempreture = sum(weightedTs) / sum(weights)\n",
    "        return targetTempreture\n",
    "\n",
    "    def computeWeight(self, tRange):\n",
    "        return (1 / tRange) ** self.sensitivity\n",
    "\n",
    "    def otdModel(self, checkedtRanges, averageTs, ppd):\n",
    "        forFig = []\n",
    "        numberOfPeople = len(checkedtRanges)\n",
    "        permitNumberOfUncomfortablePeople = math.floor(numberOfPeople * ppd)\n",
    "        otdMax = (numberOfPeople - permitNumberOfUncomfortablePeople) * 1 + \\\n",
    "            permitNumberOfUncomfortablePeople * (numberOfPeople + 1)\n",
    "\n",
    "        rangeTs = [self.otdDecideComfortness(checkedtRanges[i], averageTs[i]) for i in range(len(checkedtRanges))]\n",
    "\n",
    "        # find minT and maxT\n",
    "        minT = min([averageTs[i] - checkedtRanges[i] / 2 for i in range(len(checkedtRanges))])\n",
    "        maxT = max([averageTs[i] + checkedtRanges[i] / 2 for i in range(len(checkedtRanges))])\n",
    "\n",
    "        acceptableTs = []\n",
    "        max_otd = float('-inf')\n",
    "        min_otd = float('inf')\n",
    "        for t10 in range(int(minT * 10), int(maxT * 10) + 1):\n",
    "            t = t10 / 10\n",
    "            otd = self.computeOTD(t, numberOfPeople, rangeTs)\n",
    "            \n",
    "            forFig.append([t, otd, 1])\n",
    "            max_otd = max(max_otd, otd)\n",
    "            min_otd = min(min_otd, otd)\n",
    "            if otd <= otdMax:\n",
    "                acceptableTs.append([t, otd])\n",
    "        \n",
    "        self.max_otd = max_otd\n",
    "        self.min_otd = min_otd\n",
    "        \n",
    "        if acceptableTs == []:\n",
    "            return None\n",
    "        acceptableTs.sort(key=lambda x: x[1])\n",
    "        maxValues = [acceptableTs[0][0]]\n",
    "        for i in range(1, len(acceptableTs)):\n",
    "            if acceptableTs[i][1] == acceptableTs[0][1]:\n",
    "                maxValues.append(acceptableTs[i][0])\n",
    "#         print(acceptableTs)\n",
    "        opt_temp = sum(maxValues) / len(maxValues)\n",
    "        forFig.append([opt_temp, self.computeOTD(opt_temp, numberOfPeople, rangeTs), 20])\n",
    "        self.otdDF = pd.DataFrame(forFig, columns=['temperature(°C)', 'otd', 'isFinal'])\n",
    "        \n",
    "        self.optimalTargetTemperatureOTD = opt_temp\n",
    "        return opt_temp\n",
    "    \n",
    "    def computeOTD(self, t, numberOfPeople, rangeTs):\n",
    "        otd = 0\n",
    "        for x in rangeTs:\n",
    "            if t >= x[0][0] and t <= x[0][1]:\n",
    "                otd += 0\n",
    "            elif t >= x[1][0] and t <= x[1][1]:\n",
    "                otd += 1\n",
    "            elif t >= x[2][0] and t <= x[2][1]:\n",
    "                otd += numberOfPeople + 1\n",
    "            else:\n",
    "                otd = (numberOfPeople + 1) * 2\n",
    "        return otd\n",
    "\n",
    "                \n",
    "    def otdDecideComfortness(self, checkedtRange, averageT, \\\n",
    "                            littleUncomfortable=[1 , 1.4], \\\n",
    "                            uncomfortable=[1.4, 1.7]):\n",
    "        radius = checkedtRange / 2\n",
    "        rangeComfortable = [averageT - radius * littleUncomfortable[0], averageT + radius * littleUncomfortable[0]]\n",
    "        rangeLittleUncomfortable = [averageT - radius * littleUncomfortable[1], averageT + radius * littleUncomfortable[1]]\n",
    "        rangeUncomfortable = [averageT - radius * uncomfortable[1], averageT + radius * uncomfortable[1]]\n",
    "        return [rangeComfortable, rangeLittleUncomfortable, rangeUncomfortable]\n",
    "    \n",
    "    def drawOtdValue(self):\n",
    "        ct = sns.color_palette()\n",
    "        ct = [ct[2], ct[3]]\n",
    "        sns.set_theme(style=\"darkgrid\")\n",
    "        sns.relplot(x=\"temperature(°C)\", y=\"otd\", data=self.otdDF, hue=\"isFinal\", palette=ct, \\\n",
    "                    size=\"isFinal\", height=7, aspect=16/9)"
   ]
  },
  {
   "cell_type": "code",
   "execution_count": 29,
   "metadata": {
    "ExecuteTime": {
     "end_time": "2021-02-07T06:47:50.161004Z",
     "start_time": "2021-02-07T06:47:50.146007Z"
    }
   },
   "outputs": [],
   "source": [
    "ogt = OptimalGroupTempreture(y_pred_min, y_pred_max, defaultMinMaxRange=None)"
   ]
  },
  {
   "cell_type": "code",
   "execution_count": 30,
   "metadata": {
    "ExecuteTime": {
     "end_time": "2021-02-07T06:47:50.177004Z",
     "start_time": "2021-02-07T06:47:50.162006Z"
    }
   },
   "outputs": [
    {
     "name": "stdout",
     "output_type": "stream",
     "text": [
      "sensitive first model\n",
      "sensitive people percentage: 1.0\n"
     ]
    },
    {
     "data": {
      "text/plain": [
       "-3.703761990433895"
      ]
     },
     "execution_count": 30,
     "metadata": {},
     "output_type": "execute_result"
    }
   ],
   "source": [
    "# use sensitive first model to predict the group comfortable tempreture\n",
    "ogt.getTempreture(sensitiveRange=4)"
   ]
  },
  {
   "cell_type": "code",
   "execution_count": 31,
   "metadata": {
    "ExecuteTime": {
     "end_time": "2021-02-07T06:47:50.193003Z",
     "start_time": "2021-02-07T06:47:50.178005Z"
    }
   },
   "outputs": [
    {
     "name": "stdout",
     "output_type": "stream",
     "text": [
      "otd model\n"
     ]
    },
    {
     "data": {
      "text/plain": [
       "-3.6206896551724137"
      ]
     },
     "execution_count": 31,
     "metadata": {},
     "output_type": "execute_result"
    }
   ],
   "source": [
    "# use otd model to predict the group comfortable tempreture\n",
    "ogt.getTempreture(model='otd model', ppd=0.1)"
   ]
  },
  {
   "cell_type": "code",
   "execution_count": 32,
   "metadata": {
    "ExecuteTime": {
     "end_time": "2021-02-07T06:47:50.209004Z",
     "start_time": "2021-02-07T06:47:50.194004Z"
    }
   },
   "outputs": [
    {
     "data": {
      "text/html": [
       "<div>\n",
       "<style scoped>\n",
       "    .dataframe tbody tr th:only-of-type {\n",
       "        vertical-align: middle;\n",
       "    }\n",
       "\n",
       "    .dataframe tbody tr th {\n",
       "        vertical-align: top;\n",
       "    }\n",
       "\n",
       "    .dataframe thead th {\n",
       "        text-align: right;\n",
       "    }\n",
       "</style>\n",
       "<table border=\"1\" class=\"dataframe\">\n",
       "  <thead>\n",
       "    <tr style=\"text-align: right;\">\n",
       "      <th></th>\n",
       "      <th>temperature(°C)</th>\n",
       "      <th>otd</th>\n",
       "      <th>isFinal</th>\n",
       "    </tr>\n",
       "  </thead>\n",
       "  <tbody>\n",
       "    <tr>\n",
       "      <th>0</th>\n",
       "      <td>-5.20000</td>\n",
       "      <td>126</td>\n",
       "      <td>1</td>\n",
       "    </tr>\n",
       "    <tr>\n",
       "      <th>1</th>\n",
       "      <td>-5.10000</td>\n",
       "      <td>126</td>\n",
       "      <td>1</td>\n",
       "    </tr>\n",
       "    <tr>\n",
       "      <th>2</th>\n",
       "      <td>-5.00000</td>\n",
       "      <td>126</td>\n",
       "      <td>1</td>\n",
       "    </tr>\n",
       "    <tr>\n",
       "      <th>3</th>\n",
       "      <td>-4.90000</td>\n",
       "      <td>126</td>\n",
       "      <td>1</td>\n",
       "    </tr>\n",
       "    <tr>\n",
       "      <th>4</th>\n",
       "      <td>-4.80000</td>\n",
       "      <td>126</td>\n",
       "      <td>1</td>\n",
       "    </tr>\n",
       "    <tr>\n",
       "      <th>5</th>\n",
       "      <td>-4.70000</td>\n",
       "      <td>126</td>\n",
       "      <td>1</td>\n",
       "    </tr>\n",
       "    <tr>\n",
       "      <th>6</th>\n",
       "      <td>-4.60000</td>\n",
       "      <td>126</td>\n",
       "      <td>1</td>\n",
       "    </tr>\n",
       "    <tr>\n",
       "      <th>7</th>\n",
       "      <td>-4.50000</td>\n",
       "      <td>126</td>\n",
       "      <td>1</td>\n",
       "    </tr>\n",
       "    <tr>\n",
       "      <th>8</th>\n",
       "      <td>-4.40000</td>\n",
       "      <td>126</td>\n",
       "      <td>1</td>\n",
       "    </tr>\n",
       "    <tr>\n",
       "      <th>9</th>\n",
       "      <td>-4.30000</td>\n",
       "      <td>126</td>\n",
       "      <td>1</td>\n",
       "    </tr>\n",
       "    <tr>\n",
       "      <th>10</th>\n",
       "      <td>-4.20000</td>\n",
       "      <td>126</td>\n",
       "      <td>1</td>\n",
       "    </tr>\n",
       "    <tr>\n",
       "      <th>11</th>\n",
       "      <td>-4.10000</td>\n",
       "      <td>126</td>\n",
       "      <td>1</td>\n",
       "    </tr>\n",
       "    <tr>\n",
       "      <th>12</th>\n",
       "      <td>-4.00000</td>\n",
       "      <td>126</td>\n",
       "      <td>1</td>\n",
       "    </tr>\n",
       "    <tr>\n",
       "      <th>13</th>\n",
       "      <td>-3.90000</td>\n",
       "      <td>126</td>\n",
       "      <td>1</td>\n",
       "    </tr>\n",
       "    <tr>\n",
       "      <th>14</th>\n",
       "      <td>-3.80000</td>\n",
       "      <td>189</td>\n",
       "      <td>1</td>\n",
       "    </tr>\n",
       "    <tr>\n",
       "      <th>15</th>\n",
       "      <td>-3.70000</td>\n",
       "      <td>127</td>\n",
       "      <td>1</td>\n",
       "    </tr>\n",
       "    <tr>\n",
       "      <th>16</th>\n",
       "      <td>-3.60000</td>\n",
       "      <td>126</td>\n",
       "      <td>1</td>\n",
       "    </tr>\n",
       "    <tr>\n",
       "      <th>17</th>\n",
       "      <td>-3.50000</td>\n",
       "      <td>126</td>\n",
       "      <td>1</td>\n",
       "    </tr>\n",
       "    <tr>\n",
       "      <th>18</th>\n",
       "      <td>-3.40000</td>\n",
       "      <td>126</td>\n",
       "      <td>1</td>\n",
       "    </tr>\n",
       "    <tr>\n",
       "      <th>19</th>\n",
       "      <td>-3.30000</td>\n",
       "      <td>126</td>\n",
       "      <td>1</td>\n",
       "    </tr>\n",
       "    <tr>\n",
       "      <th>20</th>\n",
       "      <td>-3.20000</td>\n",
       "      <td>127</td>\n",
       "      <td>1</td>\n",
       "    </tr>\n",
       "    <tr>\n",
       "      <th>21</th>\n",
       "      <td>-3.10000</td>\n",
       "      <td>190</td>\n",
       "      <td>1</td>\n",
       "    </tr>\n",
       "    <tr>\n",
       "      <th>22</th>\n",
       "      <td>-3.00000</td>\n",
       "      <td>126</td>\n",
       "      <td>1</td>\n",
       "    </tr>\n",
       "    <tr>\n",
       "      <th>23</th>\n",
       "      <td>-2.90000</td>\n",
       "      <td>126</td>\n",
       "      <td>1</td>\n",
       "    </tr>\n",
       "    <tr>\n",
       "      <th>24</th>\n",
       "      <td>-2.80000</td>\n",
       "      <td>126</td>\n",
       "      <td>1</td>\n",
       "    </tr>\n",
       "    <tr>\n",
       "      <th>25</th>\n",
       "      <td>-2.70000</td>\n",
       "      <td>126</td>\n",
       "      <td>1</td>\n",
       "    </tr>\n",
       "    <tr>\n",
       "      <th>26</th>\n",
       "      <td>-2.60000</td>\n",
       "      <td>126</td>\n",
       "      <td>1</td>\n",
       "    </tr>\n",
       "    <tr>\n",
       "      <th>27</th>\n",
       "      <td>-2.50000</td>\n",
       "      <td>126</td>\n",
       "      <td>1</td>\n",
       "    </tr>\n",
       "    <tr>\n",
       "      <th>28</th>\n",
       "      <td>-2.40000</td>\n",
       "      <td>126</td>\n",
       "      <td>1</td>\n",
       "    </tr>\n",
       "    <tr>\n",
       "      <th>29</th>\n",
       "      <td>-2.30000</td>\n",
       "      <td>126</td>\n",
       "      <td>1</td>\n",
       "    </tr>\n",
       "    <tr>\n",
       "      <th>30</th>\n",
       "      <td>-2.20000</td>\n",
       "      <td>126</td>\n",
       "      <td>1</td>\n",
       "    </tr>\n",
       "    <tr>\n",
       "      <th>31</th>\n",
       "      <td>-2.10000</td>\n",
       "      <td>126</td>\n",
       "      <td>1</td>\n",
       "    </tr>\n",
       "    <tr>\n",
       "      <th>32</th>\n",
       "      <td>-2.00000</td>\n",
       "      <td>126</td>\n",
       "      <td>1</td>\n",
       "    </tr>\n",
       "    <tr>\n",
       "      <th>33</th>\n",
       "      <td>-3.62069</td>\n",
       "      <td>126</td>\n",
       "      <td>20</td>\n",
       "    </tr>\n",
       "  </tbody>\n",
       "</table>\n",
       "</div>"
      ],
      "text/plain": [
       "    temperature(°C)  otd  isFinal\n",
       "0          -5.20000  126        1\n",
       "1          -5.10000  126        1\n",
       "2          -5.00000  126        1\n",
       "3          -4.90000  126        1\n",
       "4          -4.80000  126        1\n",
       "5          -4.70000  126        1\n",
       "6          -4.60000  126        1\n",
       "7          -4.50000  126        1\n",
       "8          -4.40000  126        1\n",
       "9          -4.30000  126        1\n",
       "10         -4.20000  126        1\n",
       "11         -4.10000  126        1\n",
       "12         -4.00000  126        1\n",
       "13         -3.90000  126        1\n",
       "14         -3.80000  189        1\n",
       "15         -3.70000  127        1\n",
       "16         -3.60000  126        1\n",
       "17         -3.50000  126        1\n",
       "18         -3.40000  126        1\n",
       "19         -3.30000  126        1\n",
       "20         -3.20000  127        1\n",
       "21         -3.10000  190        1\n",
       "22         -3.00000  126        1\n",
       "23         -2.90000  126        1\n",
       "24         -2.80000  126        1\n",
       "25         -2.70000  126        1\n",
       "26         -2.60000  126        1\n",
       "27         -2.50000  126        1\n",
       "28         -2.40000  126        1\n",
       "29         -2.30000  126        1\n",
       "30         -2.20000  126        1\n",
       "31         -2.10000  126        1\n",
       "32         -2.00000  126        1\n",
       "33         -3.62069  126       20"
      ]
     },
     "execution_count": 32,
     "metadata": {},
     "output_type": "execute_result"
    }
   ],
   "source": [
    "ogt.otdDF"
   ]
  },
  {
   "cell_type": "code",
   "execution_count": 33,
   "metadata": {
    "ExecuteTime": {
     "end_time": "2021-02-07T06:47:50.525003Z",
     "start_time": "2021-02-07T06:47:50.210005Z"
    },
    "scrolled": true
   },
   "outputs": [
    {
     "data": {
      "image/png": "[encoded data removed]",
      "text/plain": [
       "<Figure size 947.85x504 with 1 Axes>"
      ]
     },
     "metadata": {},
     "output_type": "display_data"
    }
   ],
   "source": [
    "ogt.drawOtdValue()"
   ]
  },
  {
   "cell_type": "code",
   "execution_count": null,
   "metadata": {},
   "outputs": [],
   "source": []
  },
  {
   "cell_type": "code",
   "execution_count": null,
   "metadata": {},
   "outputs": [],
   "source": []
  },
  {
   "cell_type": "code",
   "execution_count": null,
   "metadata": {},
   "outputs": [],
   "source": []
  },
  {
   "cell_type": "code",
   "execution_count": null,
   "metadata": {},
   "outputs": [],
   "source": []
  },
  {
   "cell_type": "code",
   "execution_count": null,
   "metadata": {},
   "outputs": [],
   "source": []
  },
  {
   "cell_type": "code",
   "execution_count": null,
   "metadata": {},
   "outputs": [],
   "source": []
  },
  {
   "cell_type": "code",
   "execution_count": null,
   "metadata": {},
   "outputs": [],
   "source": []
  },
  {
   "cell_type": "code",
   "execution_count": null,
   "metadata": {},
   "outputs": [],
   "source": []
  },
  {
   "cell_type": "code",
   "execution_count": null,
   "metadata": {},
   "outputs": [],
   "source": []
  },
  {
   "cell_type": "code",
   "execution_count": null,
   "metadata": {},
   "outputs": [],
   "source": []
  },
  {
   "cell_type": "code",
   "execution_count": null,
   "metadata": {},
   "outputs": [],
   "source": []
  },
  {
   "cell_type": "code",
   "execution_count": null,
   "metadata": {},
   "outputs": [],
   "source": []
  },
  {
   "cell_type": "code",
   "execution_count": null,
   "metadata": {},
   "outputs": [],
   "source": []
  },
  {
   "cell_type": "code",
   "execution_count": null,
   "metadata": {},
   "outputs": [],
   "source": []
  }
 ],
 "metadata": {
  "kernelspec": {
   "display_name": "Python [conda env:ml]",
   "language": "python",
   "name": "conda-env-ml-py"
  },
  "language_info": {
   "codemirror_mode": {
    "name": "ipython",
    "version": 3
   },
   "file_extension": ".py",
   "mimetype": "text/x-python",
   "name": "python",
   "nbconvert_exporter": "python",
   "pygments_lexer": "ipython3",
   "version": "3.6.10"
  },
  "toc": {
   "base_numbering": 1,
   "nav_menu": {},
   "number_sections": true,
   "sideBar": true,
   "skip_h1_title": false,
   "title_cell": "Table of Contents",
   "title_sidebar": "Contents",
   "toc_cell": false,
   "toc_position": {
    "height": "calc(100% - 180px)",
    "left": "10px",
    "top": "150px",
    "width": "512px"
   },
   "toc_section_display": true,
   "toc_window_display": true
  }
 },
 "nbformat": 4,
 "nbformat_minor": 2
}
