{
 "cells": [
  {
   "cell_type": "code",
   "execution_count": 1,
   "metadata": {
    "ExecuteTime": {
     "end_time": "2021-02-16T11:02:34.446247Z",
     "start_time": "2021-02-16T11:02:34.434248Z"
    }
   },
   "outputs": [],
   "source": [
    "import random\n",
    "import math"
   ]
  },
  {
   "cell_type": "code",
   "execution_count": 2,
   "metadata": {
    "ExecuteTime": {
     "end_time": "2021-02-16T11:02:35.291248Z",
     "start_time": "2021-02-16T11:02:34.447249Z"
    }
   },
   "outputs": [],
   "source": [
    "%matplotlib inline\n",
    "import pandas as pd\n",
    "import numpy as np\n",
    "\n",
    "import matplotlib.pyplot as plt\n",
    "import seaborn as sns"
   ]
  },
  {
   "cell_type": "code",
   "execution_count": 3,
   "metadata": {
    "ExecuteTime": {
     "end_time": "2021-02-16T11:02:35.531298Z",
     "start_time": "2021-02-16T11:02:35.292249Z"
    }
   },
   "outputs": [],
   "source": [
    "# from sklearn.ensemble import RandomForestRegressor\n",
    "from sklearn.metrics import mean_squared_error, r2_score\n",
    "\n",
    "from sklearn import tree\n",
    "import joblib\n",
    "\n",
    "import scipy"
   ]
  },
  {
   "cell_type": "code",
   "execution_count": 4,
   "metadata": {
    "ExecuteTime": {
     "end_time": "2021-02-16T11:02:35.546791Z",
     "start_time": "2021-02-16T11:02:35.532298Z"
    }
   },
   "outputs": [],
   "source": [
    "plt.rcParams[\"figure.figsize\"] = (15, 17)"
   ]
  },
  {
   "cell_type": "code",
   "execution_count": 5,
   "metadata": {
    "ExecuteTime": {
     "end_time": "2021-02-16T11:02:35.562791Z",
     "start_time": "2021-02-16T11:02:35.547791Z"
    }
   },
   "outputs": [],
   "source": [
    "def convertFahrenheitToCelsius(f):\n",
    "    return (f - 32) / 1.8"
   ]
  },
  {
   "cell_type": "markdown",
   "metadata": {},
   "source": [
    "## load random forest model"
   ]
  },
  {
   "cell_type": "code",
   "execution_count": 6,
   "metadata": {
    "ExecuteTime": {
     "end_time": "2021-02-16T11:02:35.578792Z",
     "start_time": "2021-02-16T11:02:35.563791Z"
    }
   },
   "outputs": [],
   "source": [
    "filename_min = './min_random_forest_model.sav'\n",
    "filename_max = './max_random_forest_model.sav'"
   ]
  },
  {
   "cell_type": "code",
   "execution_count": 7,
   "metadata": {
    "ExecuteTime": {
     "end_time": "2021-02-16T11:02:35.929792Z",
     "start_time": "2021-02-16T11:02:35.580793Z"
    }
   },
   "outputs": [],
   "source": [
    "rfr_min = joblib.load(filename_min)\n",
    "rfr_max = joblib.load(filename_max)"
   ]
  },
  {
   "cell_type": "markdown",
   "metadata": {},
   "source": [
    "## create test data from test dataset"
   ]
  },
  {
   "cell_type": "code",
   "execution_count": 8,
   "metadata": {
    "ExecuteTime": {
     "end_time": "2021-02-16T11:02:35.944792Z",
     "start_time": "2021-02-16T11:02:35.931792Z"
    }
   },
   "outputs": [],
   "source": [
    "pth_min = '../processed_data/test_min.csv'\n",
    "df_min = pd.read_csv(pth_min)"
   ]
  },
  {
   "cell_type": "code",
   "execution_count": 9,
   "metadata": {
    "ExecuteTime": {
     "end_time": "2021-02-16T11:02:35.960792Z",
     "start_time": "2021-02-16T11:02:35.946792Z"
    }
   },
   "outputs": [],
   "source": [
    "pth_max = '../processed_data/test_max.csv'\n",
    "df_max = pd.read_csv(pth_max)"
   ]
  },
  {
   "cell_type": "code",
   "execution_count": 10,
   "metadata": {
    "ExecuteTime": {
     "end_time": "2021-02-16T11:02:35.976793Z",
     "start_time": "2021-02-16T11:02:35.961794Z"
    },
    "scrolled": false
   },
   "outputs": [
    {
     "data": {
      "text/plain": [
       "(57, 14)"
      ]
     },
     "execution_count": 10,
     "metadata": {},
     "output_type": "execute_result"
    }
   ],
   "source": [
    "df_min.shape"
   ]
  },
  {
   "cell_type": "code",
   "execution_count": 11,
   "metadata": {
    "ExecuteTime": {
     "end_time": "2021-02-16T11:02:35.992792Z",
     "start_time": "2021-02-16T11:02:35.977794Z"
    }
   },
   "outputs": [
    {
     "data": {
      "text/plain": [
       "(9, 14)"
      ]
     },
     "execution_count": 11,
     "metadata": {},
     "output_type": "execute_result"
    }
   ],
   "source": [
    "df_max.shape"
   ]
  },
  {
   "cell_type": "code",
   "execution_count": 12,
   "metadata": {
    "ExecuteTime": {
     "end_time": "2021-02-16T11:02:36.008792Z",
     "start_time": "2021-02-16T11:02:35.993794Z"
    }
   },
   "outputs": [],
   "source": [
    "df_combine = pd.concat([df_min, df_max])"
   ]
  },
  {
   "cell_type": "code",
   "execution_count": 13,
   "metadata": {
    "ExecuteTime": {
     "end_time": "2021-02-16T11:02:36.040791Z",
     "start_time": "2021-02-16T11:02:36.009793Z"
    },
    "scrolled": false
   },
   "outputs": [
    {
     "data": {
      "text/html": [
       "<div>\n",
       "<style scoped>\n",
       "    .dataframe tbody tr th:only-of-type {\n",
       "        vertical-align: middle;\n",
       "    }\n",
       "\n",
       "    .dataframe tbody tr th {\n",
       "        vertical-align: top;\n",
       "    }\n",
       "\n",
       "    .dataframe thead th {\n",
       "        text-align: right;\n",
       "    }\n",
       "</style>\n",
       "<table border=\"1\" class=\"dataframe\">\n",
       "  <thead>\n",
       "    <tr style=\"text-align: right;\">\n",
       "      <th></th>\n",
       "      <th>Unnamed: 0</th>\n",
       "      <th>height</th>\n",
       "      <th>weight</th>\n",
       "      <th>gender</th>\n",
       "      <th>bmi</th>\n",
       "      <th>age</th>\n",
       "      <th>rh</th>\n",
       "      <th>heart_rate</th>\n",
       "      <th>stress_level</th>\n",
       "      <th>skin_temp</th>\n",
       "      <th>eda</th>\n",
       "      <th>Clo</th>\n",
       "      <th>Act</th>\n",
       "      <th>env_temp</th>\n",
       "    </tr>\n",
       "  </thead>\n",
       "  <tbody>\n",
       "    <tr>\n",
       "      <th>0</th>\n",
       "      <td>166</td>\n",
       "      <td>1.77</td>\n",
       "      <td>68.0</td>\n",
       "      <td>-1.0</td>\n",
       "      <td>21.705129</td>\n",
       "      <td>24.0</td>\n",
       "      <td>57.779</td>\n",
       "      <td>76.298872</td>\n",
       "      <td>23.987342</td>\n",
       "      <td>31.672874</td>\n",
       "      <td>0.877379</td>\n",
       "      <td>0.54</td>\n",
       "      <td>1.0</td>\n",
       "      <td>25.841111</td>\n",
       "    </tr>\n",
       "    <tr>\n",
       "      <th>1</th>\n",
       "      <td>25</td>\n",
       "      <td>1.83</td>\n",
       "      <td>74.0</td>\n",
       "      <td>-1.0</td>\n",
       "      <td>22.096808</td>\n",
       "      <td>24.0</td>\n",
       "      <td>46.650</td>\n",
       "      <td>84.000000</td>\n",
       "      <td>23.987342</td>\n",
       "      <td>31.693000</td>\n",
       "      <td>0.009496</td>\n",
       "      <td>0.50</td>\n",
       "      <td>1.1</td>\n",
       "      <td>26.390000</td>\n",
       "    </tr>\n",
       "    <tr>\n",
       "      <th>2</th>\n",
       "      <td>229</td>\n",
       "      <td>1.63</td>\n",
       "      <td>50.0</td>\n",
       "      <td>1.0</td>\n",
       "      <td>18.818924</td>\n",
       "      <td>23.0</td>\n",
       "      <td>41.050</td>\n",
       "      <td>86.000000</td>\n",
       "      <td>23.987342</td>\n",
       "      <td>30.563000</td>\n",
       "      <td>0.281910</td>\n",
       "      <td>0.50</td>\n",
       "      <td>1.0</td>\n",
       "      <td>24.641111</td>\n",
       "    </tr>\n",
       "    <tr>\n",
       "      <th>3</th>\n",
       "      <td>217</td>\n",
       "      <td>1.63</td>\n",
       "      <td>50.0</td>\n",
       "      <td>1.0</td>\n",
       "      <td>18.818924</td>\n",
       "      <td>23.0</td>\n",
       "      <td>39.170</td>\n",
       "      <td>67.000000</td>\n",
       "      <td>7.000000</td>\n",
       "      <td>31.672874</td>\n",
       "      <td>0.059989</td>\n",
       "      <td>0.50</td>\n",
       "      <td>1.0</td>\n",
       "      <td>23.868889</td>\n",
       "    </tr>\n",
       "    <tr>\n",
       "      <th>4</th>\n",
       "      <td>10</td>\n",
       "      <td>1.63</td>\n",
       "      <td>50.0</td>\n",
       "      <td>1.0</td>\n",
       "      <td>18.818924</td>\n",
       "      <td>23.0</td>\n",
       "      <td>54.550</td>\n",
       "      <td>79.000000</td>\n",
       "      <td>27.000000</td>\n",
       "      <td>31.672874</td>\n",
       "      <td>0.017312</td>\n",
       "      <td>0.50</td>\n",
       "      <td>1.0</td>\n",
       "      <td>24.737778</td>\n",
       "    </tr>\n",
       "    <tr>\n",
       "      <th>...</th>\n",
       "      <td>...</td>\n",
       "      <td>...</td>\n",
       "      <td>...</td>\n",
       "      <td>...</td>\n",
       "      <td>...</td>\n",
       "      <td>...</td>\n",
       "      <td>...</td>\n",
       "      <td>...</td>\n",
       "      <td>...</td>\n",
       "      <td>...</td>\n",
       "      <td>...</td>\n",
       "      <td>...</td>\n",
       "      <td>...</td>\n",
       "      <td>...</td>\n",
       "    </tr>\n",
       "    <tr>\n",
       "      <th>4</th>\n",
       "      <td>43</td>\n",
       "      <td>1.77</td>\n",
       "      <td>58.0</td>\n",
       "      <td>-1.0</td>\n",
       "      <td>18.513199</td>\n",
       "      <td>23.0</td>\n",
       "      <td>51.234</td>\n",
       "      <td>102.500000</td>\n",
       "      <td>78.000000</td>\n",
       "      <td>33.636000</td>\n",
       "      <td>0.585949</td>\n",
       "      <td>0.36</td>\n",
       "      <td>1.3</td>\n",
       "      <td>26.817778</td>\n",
       "    </tr>\n",
       "    <tr>\n",
       "      <th>5</th>\n",
       "      <td>26</td>\n",
       "      <td>1.60</td>\n",
       "      <td>52.5</td>\n",
       "      <td>1.0</td>\n",
       "      <td>20.507812</td>\n",
       "      <td>24.0</td>\n",
       "      <td>51.538</td>\n",
       "      <td>88.158537</td>\n",
       "      <td>62.485294</td>\n",
       "      <td>32.559814</td>\n",
       "      <td>-0.100261</td>\n",
       "      <td>0.53</td>\n",
       "      <td>1.0</td>\n",
       "      <td>22.608889</td>\n",
       "    </tr>\n",
       "    <tr>\n",
       "      <th>6</th>\n",
       "      <td>6</td>\n",
       "      <td>1.77</td>\n",
       "      <td>58.0</td>\n",
       "      <td>-1.0</td>\n",
       "      <td>18.513199</td>\n",
       "      <td>23.0</td>\n",
       "      <td>55.272</td>\n",
       "      <td>87.000000</td>\n",
       "      <td>62.485294</td>\n",
       "      <td>32.915000</td>\n",
       "      <td>0.006857</td>\n",
       "      <td>0.36</td>\n",
       "      <td>1.0</td>\n",
       "      <td>26.377778</td>\n",
       "    </tr>\n",
       "    <tr>\n",
       "      <th>7</th>\n",
       "      <td>8</td>\n",
       "      <td>1.77</td>\n",
       "      <td>90.0</td>\n",
       "      <td>-1.0</td>\n",
       "      <td>28.727377</td>\n",
       "      <td>28.0</td>\n",
       "      <td>60.389</td>\n",
       "      <td>67.000000</td>\n",
       "      <td>62.485294</td>\n",
       "      <td>31.013000</td>\n",
       "      <td>0.188456</td>\n",
       "      <td>0.36</td>\n",
       "      <td>1.1</td>\n",
       "      <td>26.377778</td>\n",
       "    </tr>\n",
       "    <tr>\n",
       "      <th>8</th>\n",
       "      <td>7</td>\n",
       "      <td>1.77</td>\n",
       "      <td>58.0</td>\n",
       "      <td>-1.0</td>\n",
       "      <td>18.513199</td>\n",
       "      <td>23.0</td>\n",
       "      <td>50.237</td>\n",
       "      <td>99.000000</td>\n",
       "      <td>54.000000</td>\n",
       "      <td>31.588000</td>\n",
       "      <td>0.017909</td>\n",
       "      <td>0.36</td>\n",
       "      <td>1.3</td>\n",
       "      <td>24.847222</td>\n",
       "    </tr>\n",
       "  </tbody>\n",
       "</table>\n",
       "<p>66 rows × 14 columns</p>\n",
       "</div>"
      ],
      "text/plain": [
       "    Unnamed: 0  height  weight  gender        bmi   age      rh  heart_rate  \\\n",
       "0          166    1.77    68.0    -1.0  21.705129  24.0  57.779   76.298872   \n",
       "1           25    1.83    74.0    -1.0  22.096808  24.0  46.650   84.000000   \n",
       "2          229    1.63    50.0     1.0  18.818924  23.0  41.050   86.000000   \n",
       "3          217    1.63    50.0     1.0  18.818924  23.0  39.170   67.000000   \n",
       "4           10    1.63    50.0     1.0  18.818924  23.0  54.550   79.000000   \n",
       "..         ...     ...     ...     ...        ...   ...     ...         ...   \n",
       "4           43    1.77    58.0    -1.0  18.513199  23.0  51.234  102.500000   \n",
       "5           26    1.60    52.5     1.0  20.507812  24.0  51.538   88.158537   \n",
       "6            6    1.77    58.0    -1.0  18.513199  23.0  55.272   87.000000   \n",
       "7            8    1.77    90.0    -1.0  28.727377  28.0  60.389   67.000000   \n",
       "8            7    1.77    58.0    -1.0  18.513199  23.0  50.237   99.000000   \n",
       "\n",
       "    stress_level  skin_temp       eda   Clo  Act   env_temp  \n",
       "0      23.987342  31.672874  0.877379  0.54  1.0  25.841111  \n",
       "1      23.987342  31.693000  0.009496  0.50  1.1  26.390000  \n",
       "2      23.987342  30.563000  0.281910  0.50  1.0  24.641111  \n",
       "3       7.000000  31.672874  0.059989  0.50  1.0  23.868889  \n",
       "4      27.000000  31.672874  0.017312  0.50  1.0  24.737778  \n",
       "..           ...        ...       ...   ...  ...        ...  \n",
       "4      78.000000  33.636000  0.585949  0.36  1.3  26.817778  \n",
       "5      62.485294  32.559814 -0.100261  0.53  1.0  22.608889  \n",
       "6      62.485294  32.915000  0.006857  0.36  1.0  26.377778  \n",
       "7      62.485294  31.013000  0.188456  0.36  1.1  26.377778  \n",
       "8      54.000000  31.588000  0.017909  0.36  1.3  24.847222  \n",
       "\n",
       "[66 rows x 14 columns]"
      ]
     },
     "execution_count": 13,
     "metadata": {},
     "output_type": "execute_result"
    }
   ],
   "source": [
    "df_combine"
   ]
  },
  {
   "cell_type": "code",
   "execution_count": 14,
   "metadata": {
    "ExecuteTime": {
     "end_time": "2021-02-16T11:02:36.056793Z",
     "start_time": "2021-02-16T11:02:36.042793Z"
    }
   },
   "outputs": [],
   "source": [
    "X_columns = ['height', 'weight', 'gender', 'bmi', 'age', 'rh', \\\n",
    "              'heart_rate', 'stress_level', 'skin_temp', 'eda', \\\n",
    "              'Clo', 'Act']"
   ]
  },
  {
   "cell_type": "code",
   "execution_count": 15,
   "metadata": {
    "ExecuteTime": {
     "end_time": "2021-02-16T11:02:36.072792Z",
     "start_time": "2021-02-16T11:02:36.058794Z"
    }
   },
   "outputs": [],
   "source": [
    "X = df_combine[X_columns]\n",
    "y = df_combine['env_temp']"
   ]
  },
  {
   "cell_type": "markdown",
   "metadata": {},
   "source": [
    "## predict"
   ]
  },
  {
   "cell_type": "markdown",
   "metadata": {},
   "source": [
    "### predict comfort zone min value"
   ]
  },
  {
   "cell_type": "code",
   "execution_count": 16,
   "metadata": {
    "ExecuteTime": {
     "end_time": "2021-02-16T11:02:36.119792Z",
     "start_time": "2021-02-16T11:02:36.074793Z"
    }
   },
   "outputs": [],
   "source": [
    "y_pred_min = rfr_min.predict(X)"
   ]
  },
  {
   "cell_type": "markdown",
   "metadata": {},
   "source": [
    "### transfer to Celsius"
   ]
  },
  {
   "cell_type": "code",
   "execution_count": 17,
   "metadata": {
    "ExecuteTime": {
     "end_time": "2021-02-16T11:02:36.135792Z",
     "start_time": "2021-02-16T11:02:36.120792Z"
    }
   },
   "outputs": [
    {
     "data": {
      "text/plain": [
       "array([25.44036941, 25.46763214, 24.41454745, 24.30847003, 25.18832407,\n",
       "       24.26348032, 25.06051215, 23.8025706 , 24.46558912, 25.0050625 ,\n",
       "       24.68368403, 24.74662153, 24.02696296, 24.32523958, 24.83440509,\n",
       "       24.6941794 , 23.912     , 24.0347446 , 24.37434028, 24.02503472,\n",
       "       23.5637662 , 25.16809259, 23.908625  , 23.66677431, 25.2109294 ,\n",
       "       24.02904061, 24.01406366, 24.87760185, 22.98154398, 25.06806481,\n",
       "       24.36365972, 25.33479398, 24.61299421, 24.09762616, 24.90424306,\n",
       "       23.83358449, 24.81524672, 24.02012731, 24.12263079, 24.67009568,\n",
       "       23.13755093, 24.13900231, 24.3212662 , 24.26652431, 22.67534954,\n",
       "       24.53751244, 24.12100231, 24.27957639, 24.68502662, 25.36268461,\n",
       "       23.6534537 , 24.85530208, 24.72193576, 23.67936343, 24.01928067,\n",
       "       24.12596209, 24.79369552, 25.7304375 , 25.85613773, 25.4255787 ,\n",
       "       23.99324074, 25.27455208, 24.31933333, 24.85499421, 24.09095949,\n",
       "       25.33662809])"
      ]
     },
     "execution_count": 17,
     "metadata": {},
     "output_type": "execute_result"
    }
   ],
   "source": [
    "y_pred_min"
   ]
  },
  {
   "cell_type": "markdown",
   "metadata": {},
   "source": [
    "### predict comfort zone max value"
   ]
  },
  {
   "cell_type": "code",
   "execution_count": 18,
   "metadata": {
    "ExecuteTime": {
     "end_time": "2021-02-16T11:02:36.199791Z",
     "start_time": "2021-02-16T11:02:36.137792Z"
    }
   },
   "outputs": [],
   "source": [
    "y_pred_max = rfr_max.predict(X)"
   ]
  },
  {
   "cell_type": "markdown",
   "metadata": {},
   "source": [
    "### transfer to Celsius"
   ]
  },
  {
   "cell_type": "code",
   "execution_count": 19,
   "metadata": {
    "ExecuteTime": {
     "end_time": "2021-02-16T11:02:36.215791Z",
     "start_time": "2021-02-16T11:02:36.201793Z"
    }
   },
   "outputs": [
    {
     "data": {
      "text/plain": [
       "array([26.99285764, 28.24967907, 25.7692629 , 25.95623165, 25.14688988,\n",
       "       27.54073115, 25.28378671, 25.9176746 , 26.68895784, 26.20649256,\n",
       "       26.58774157, 26.00869544, 27.23472173, 25.77650496, 27.36237897,\n",
       "       26.58066171, 26.9429752 , 26.15909425, 27.32281399, 27.45898661,\n",
       "       25.52466518, 27.25844395, 25.89204018, 26.03027381, 26.48997222,\n",
       "       25.91708234, 27.4620119 , 26.47147123, 25.99730853, 25.1853006 ,\n",
       "       27.3624127 , 25.3646622 , 26.6783006 , 25.75238492, 25.62940923,\n",
       "       25.71869643, 26.64890873, 25.75697024, 26.04920139, 26.69131399,\n",
       "       26.05006349, 26.05044048, 27.1315129 , 25.58225   , 25.78458333,\n",
       "       25.98442659, 27.57749653, 26.60359226, 26.69166468, 27.17638194,\n",
       "       27.55314335, 25.38143651, 26.86357639, 26.93907143, 25.67230208,\n",
       "       25.68319643, 26.40880556, 26.50987897, 27.06311657, 26.22809077,\n",
       "       27.11436954, 26.8311131 , 24.91902381, 26.35058681, 26.97459276,\n",
       "       26.28780556])"
      ]
     },
     "execution_count": 19,
     "metadata": {},
     "output_type": "execute_result"
    }
   ],
   "source": [
    "y_pred_max"
   ]
  },
  {
   "cell_type": "markdown",
   "metadata": {},
   "source": [
    "### detect error"
   ]
  },
  {
   "cell_type": "code",
   "execution_count": 20,
   "metadata": {
    "ExecuteTime": {
     "end_time": "2021-02-16T11:02:36.231792Z",
     "start_time": "2021-02-16T11:02:36.217793Z"
    }
   },
   "outputs": [],
   "source": [
    "errorIdx = []\n",
    "for i in range(len(y_pred_min)):\n",
    "    if y_pred_max[i] <= y_pred_min[i]:\n",
    "        errorIdx.append(i)"
   ]
  },
  {
   "cell_type": "code",
   "execution_count": 21,
   "metadata": {
    "ExecuteTime": {
     "end_time": "2021-02-16T11:02:36.246792Z",
     "start_time": "2021-02-16T11:02:36.233795Z"
    }
   },
   "outputs": [
    {
     "data": {
      "text/plain": [
       "[4]"
      ]
     },
     "execution_count": 21,
     "metadata": {},
     "output_type": "execute_result"
    }
   ],
   "source": [
    "errorIdx"
   ]
  },
  {
   "cell_type": "code",
   "execution_count": 22,
   "metadata": {
    "ExecuteTime": {
     "end_time": "2021-02-16T11:02:36.261794Z",
     "start_time": "2021-02-16T11:02:36.248794Z"
    }
   },
   "outputs": [
    {
     "data": {
      "text/html": [
       "<div>\n",
       "<style scoped>\n",
       "    .dataframe tbody tr th:only-of-type {\n",
       "        vertical-align: middle;\n",
       "    }\n",
       "\n",
       "    .dataframe tbody tr th {\n",
       "        vertical-align: top;\n",
       "    }\n",
       "\n",
       "    .dataframe thead th {\n",
       "        text-align: right;\n",
       "    }\n",
       "</style>\n",
       "<table border=\"1\" class=\"dataframe\">\n",
       "  <thead>\n",
       "    <tr style=\"text-align: right;\">\n",
       "      <th></th>\n",
       "      <th>Unnamed: 0</th>\n",
       "      <th>height</th>\n",
       "      <th>weight</th>\n",
       "      <th>gender</th>\n",
       "      <th>bmi</th>\n",
       "      <th>age</th>\n",
       "      <th>rh</th>\n",
       "      <th>heart_rate</th>\n",
       "      <th>stress_level</th>\n",
       "      <th>skin_temp</th>\n",
       "      <th>eda</th>\n",
       "      <th>Clo</th>\n",
       "      <th>Act</th>\n",
       "      <th>env_temp</th>\n",
       "    </tr>\n",
       "  </thead>\n",
       "  <tbody>\n",
       "    <tr>\n",
       "      <th>4</th>\n",
       "      <td>10</td>\n",
       "      <td>1.63</td>\n",
       "      <td>50.0</td>\n",
       "      <td>1.0</td>\n",
       "      <td>18.818924</td>\n",
       "      <td>23.0</td>\n",
       "      <td>54.55</td>\n",
       "      <td>79.0</td>\n",
       "      <td>27.0</td>\n",
       "      <td>31.672874</td>\n",
       "      <td>0.017312</td>\n",
       "      <td>0.5</td>\n",
       "      <td>1.0</td>\n",
       "      <td>24.737778</td>\n",
       "    </tr>\n",
       "  </tbody>\n",
       "</table>\n",
       "</div>"
      ],
      "text/plain": [
       "   Unnamed: 0  height  weight  gender        bmi   age     rh  heart_rate  \\\n",
       "4          10    1.63    50.0     1.0  18.818924  23.0  54.55        79.0   \n",
       "\n",
       "   stress_level  skin_temp       eda  Clo  Act   env_temp  \n",
       "4          27.0  31.672874  0.017312  0.5  1.0  24.737778  "
      ]
     },
     "execution_count": 22,
     "metadata": {},
     "output_type": "execute_result"
    }
   ],
   "source": [
    "df_combine.iloc[errorIdx,:]"
   ]
  },
  {
   "cell_type": "markdown",
   "metadata": {},
   "source": [
    "### delete the unacceptable values"
   ]
  },
  {
   "cell_type": "code",
   "execution_count": 23,
   "metadata": {
    "ExecuteTime": {
     "end_time": "2021-02-16T11:02:36.277793Z",
     "start_time": "2021-02-16T11:02:36.264794Z"
    }
   },
   "outputs": [],
   "source": [
    "t_min = []\n",
    "t_max = []\n",
    "for i in range(len(y_pred_min)):\n",
    "    if y_pred_min[i] <= y_pred_max[i]:\n",
    "        t_min.append(y_pred_min[i])\n",
    "        t_max.append(y_pred_max[i])\n",
    "    else:\n",
    "        t_min.append(y_pred_min[i])\n",
    "        t_max.append(y_pred_min[i])"
   ]
  },
  {
   "cell_type": "code",
   "execution_count": 24,
   "metadata": {
    "ExecuteTime": {
     "end_time": "2021-02-16T11:02:36.292792Z",
     "start_time": "2021-02-16T11:02:36.279793Z"
    }
   },
   "outputs": [
    {
     "data": {
      "text/plain": [
       "66"
      ]
     },
     "execution_count": 24,
     "metadata": {},
     "output_type": "execute_result"
    }
   ],
   "source": [
    "len(t_min)"
   ]
  },
  {
   "cell_type": "markdown",
   "metadata": {},
   "source": [
    "### plot zone"
   ]
  },
  {
   "cell_type": "code",
   "execution_count": 25,
   "metadata": {
    "ExecuteTime": {
     "end_time": "2021-02-16T11:02:36.787793Z",
     "start_time": "2021-02-16T11:02:36.293793Z"
    }
   },
   "outputs": [
    {
     "data": {
      "image/png": "[encoded data removed]",
      "text/plain": [
       "<Figure size 1080x1440 with 1 Axes>"
      ]
     },
     "metadata": {
      "needs_background": "light"
     },
     "output_type": "display_data"
    }
   ],
   "source": [
    "plt.rcParams[\"figure.figsize\"] = (15, 20)\n",
    "# draw comfort zone\n",
    "for i in range(len(t_min)):\n",
    "    plt.plot([t_min[i], t_max[i]],[i, i])\n",
    "    \n",
    "# tag comfort zone min $ max\n",
    "for i in range(len(t_min)):\n",
    "    plt.text(t_min[i]- 0.23, i+0.2, \"%.2f°C\" % t_min[i])\n",
    "    plt.text(t_max[i], i+0.2, \"%.2f°C\" % t_max[i])\n",
    "\n",
    "plt.show()"
   ]
  },
  {
   "cell_type": "markdown",
   "metadata": {},
   "source": [
    "## predict group tempreture model"
   ]
  },
  {
   "cell_type": "code",
   "execution_count": 26,
   "metadata": {
    "ExecuteTime": {
     "end_time": "2021-02-16T11:02:36.819793Z",
     "start_time": "2021-02-16T11:02:36.788793Z"
    }
   },
   "outputs": [],
   "source": [
    "import math\n",
    "\n",
    "class OptimalGroupTempreture():\n",
    "    def __init__(self, minTs, maxTs, sensitivity=1.0, defaultMinMaxRange=1.0):\n",
    "        \"\"\"\n",
    "        sensitivity > 0, less means more sensitive\n",
    "        defaultMinMaxRange > 0 or == None\n",
    "        \"\"\"\n",
    "        if len(minTs) != len(maxTs):\n",
    "            print('Length of min tempreture records and max tempretur records are not equal!')\n",
    "            return None\n",
    "        self.minTs = minTs\n",
    "        self.maxTs = maxTs\n",
    "        self.sensitivity = sensitivity\n",
    "        self.defaultMinMaxRange = defaultMinMaxRange\n",
    "        self.otdDF = None\n",
    "        self.optimalTargetTemperatureOTD = None\n",
    "        self.max_otd = None\n",
    "        self.min_otd = None\n",
    "    \n",
    "    def getTempreture(self, model='auto', sensitivePeoplePercentageLimit=0.1, sensitiveRange=2, ppd=0.1):\n",
    "        \"\"\"\n",
    "        model = 'auto', 'sensitive first', 'otd model'\n",
    "        sensitivePeoplePercentage is > 0 and < 1\n",
    "        sensitiveRange is > 0, unit is Fahrenheit Degree\n",
    "        ppd: only for OTD model\n",
    "        \"\"\"\n",
    "        minTs = self.minTs\n",
    "        maxTs = self.maxTs\n",
    "\n",
    "        if self.defaultMinMaxRange is not None:\n",
    "            avgTs = [(maxTs[i] + minTs[i]) / 2 for i in range(len(minTs))]\n",
    "            tRanges = [maxTs[i] - minTs[i] for i in range(len(minTs))]\n",
    "            checkedtRanges = []\n",
    "            for i in range(len(tRanges)):\n",
    "                t = tRanges[i] if tRanges[i] > 0 else self.defaultMinMaxRange\n",
    "                checkedtRanges.append(t)\n",
    "        else:\n",
    "            avgTs = []\n",
    "            tRanges = [maxTs[i] - minTs[i] for i in range(len(minTs))]\n",
    "            checkedtRanges = []\n",
    "            for i in range(len(tRanges)):\n",
    "                if tRanges[i] > 0:\n",
    "                    t = tRanges[i]\n",
    "                    checkedtRanges.append(t)\n",
    "                    avgTs.append((maxTs[i] + minTs[i]) / 2)\n",
    "\n",
    "        # model selection\n",
    "        if model == 'sensitive first':\n",
    "            print('sensitive first model')\n",
    "            targetTempreture = self.sensitiveFirst(checkedtRanges, avgTs)\n",
    "        elif model == 'otd model':\n",
    "            print('otd model')\n",
    "            targetTempreture = self.otdModel(checkedtRanges, avgTs, ppd)\n",
    "        elif model == 'auto':\n",
    "            lengthOfSensitivePeople = len([tRange for tRange in checkedtRanges if tRange <= sensitiveRange])\n",
    "            if lengthOfSensitivePeople / len(checkedtRanges) >= sensitivePeoplePercentageLimit:\n",
    "                print('sensitive first model')\n",
    "                print('sensitive people percentage:', lengthOfSensitivePeople / len(checkedtRanges))\n",
    "                targetTempreture = self.sensitiveFirst(checkedtRanges, avgTs)\n",
    "            else:\n",
    "                print('otd model')\n",
    "                targetTempreture = self.otdModel(checkedtRanges, avgTs, ppd)\n",
    "                if targetTempreture is None:\n",
    "                    print('otd model does not find a acceptable value, use sensitive first model')\n",
    "                    targetTempreture = self.sensitiveFirst(checkedtRanges, avgTs)\n",
    "        else:\n",
    "            print('Wrong model')\n",
    "            return None\n",
    "\n",
    "        return targetTempreture\n",
    "\n",
    "    def sensitiveFirst(self, checkedtRanges, averageTs):\n",
    "        weights = [self.computeWeight(tRange) for tRange in checkedtRanges]\n",
    "        weightedTs = [averageTs[i] * weights[i] for i in range(len(averageTs))]\n",
    "        targetTempreture = sum(weightedTs) / sum(weights)\n",
    "        return targetTempreture\n",
    "\n",
    "    def computeWeight(self, tRange):\n",
    "        return (1 / tRange) ** self.sensitivity\n",
    "\n",
    "    def otdModel(self, checkedtRanges, averageTs, ppd):\n",
    "        forFig = []\n",
    "        numberOfPeople = len(checkedtRanges)\n",
    "        permitNumberOfUncomfortablePeople = math.floor(numberOfPeople * ppd)\n",
    "        otdMax = (numberOfPeople - permitNumberOfUncomfortablePeople) * 1 + \\\n",
    "            permitNumberOfUncomfortablePeople * (numberOfPeople + 1)\n",
    "\n",
    "        rangeTs = [self.otdDecideComfortness(checkedtRanges[i], averageTs[i]) for i in range(len(checkedtRanges))]\n",
    "\n",
    "        # find minT and maxT\n",
    "        minT = min([averageTs[i] - checkedtRanges[i] / 2 for i in range(len(checkedtRanges))])\n",
    "        maxT = max([averageTs[i] + checkedtRanges[i] / 2 for i in range(len(checkedtRanges))])\n",
    "\n",
    "        acceptableTs = []\n",
    "        max_otd = float('-inf')\n",
    "        min_otd = float('inf')\n",
    "        for t10 in range(int(minT * 10), int(maxT * 10) + 1):\n",
    "            t = t10 / 10\n",
    "            otd = self.computeOTD(t, numberOfPeople, rangeTs)\n",
    "            \n",
    "            forFig.append([t, otd, 1])\n",
    "            max_otd = max(max_otd, otd)\n",
    "            min_otd = min(min_otd, otd)\n",
    "            if otd <= otdMax:\n",
    "                acceptableTs.append([t, otd])\n",
    "        \n",
    "        self.max_otd = max_otd\n",
    "        self.min_otd = min_otd\n",
    "        \n",
    "        if acceptableTs == []:\n",
    "            return None\n",
    "        acceptableTs.sort(key=lambda x: x[1])\n",
    "        maxValues = [acceptableTs[0][0]]\n",
    "        for i in range(1, len(acceptableTs)):\n",
    "            if acceptableTs[i][1] == acceptableTs[0][1]:\n",
    "                maxValues.append(acceptableTs[i][0])\n",
    "#         print(acceptableTs)\n",
    "        opt_temp = sum(maxValues) / len(maxValues)\n",
    "        forFig.append([opt_temp, self.computeOTD(opt_temp, numberOfPeople, rangeTs), 20])\n",
    "        self.otdDF = pd.DataFrame(forFig, columns=['temperature(°C)', 'otd', 'isFinal'])\n",
    "        \n",
    "        self.optimalTargetTemperatureOTD = opt_temp\n",
    "        return opt_temp\n",
    "    \n",
    "    def computeOTD(self, t, numberOfPeople, rangeTs):\n",
    "        otd = 0\n",
    "        for x in rangeTs:\n",
    "            if t >= x[0][0] and t <= x[0][1]:\n",
    "                otd += 0\n",
    "            elif t >= x[1][0] and t <= x[1][1]:\n",
    "                otd += 1\n",
    "            elif t >= x[2][0] and t <= x[2][1]:\n",
    "                otd += numberOfPeople + 1\n",
    "            else:\n",
    "                otd += (numberOfPeople + 1) * 2\n",
    "        return otd\n",
    "\n",
    "                \n",
    "    def otdDecideComfortness(self, checkedtRange, averageT, \\\n",
    "                            littleUncomfortable=[1 , 1.4], \\\n",
    "                            uncomfortable=[1.4, 1.7]):\n",
    "        radius = checkedtRange / 2\n",
    "        rangeComfortable = [averageT - radius * littleUncomfortable[0], averageT + radius * littleUncomfortable[0]]\n",
    "        rangeLittleUncomfortable = [averageT - radius * littleUncomfortable[1], averageT + radius * littleUncomfortable[1]]\n",
    "        rangeUncomfortable = [averageT - radius * uncomfortable[1], averageT + radius * uncomfortable[1]]\n",
    "        return [rangeComfortable, rangeLittleUncomfortable, rangeUncomfortable]\n",
    "    \n",
    "    def drawOtdValue(self):\n",
    "        ct = sns.color_palette()\n",
    "        ct = [ct[2], ct[3]]\n",
    "        sns.set_theme(style=\"darkgrid\")\n",
    "        sns.relplot(x=\"temperature(°C)\", y=\"otd\", data=self.otdDF, hue=\"isFinal\", palette=ct, \\\n",
    "                    size=\"isFinal\", height=7, aspect=16/9)"
   ]
  },
  {
   "cell_type": "code",
   "execution_count": 27,
   "metadata": {
    "ExecuteTime": {
     "end_time": "2021-02-16T11:02:36.835786Z",
     "start_time": "2021-02-16T11:02:36.820795Z"
    }
   },
   "outputs": [],
   "source": [
    "ogt = OptimalGroupTempreture(y_pred_min, y_pred_max, defaultMinMaxRange=None)"
   ]
  },
  {
   "cell_type": "code",
   "execution_count": 28,
   "metadata": {
    "ExecuteTime": {
     "end_time": "2021-02-16T11:02:36.851782Z",
     "start_time": "2021-02-16T11:02:36.837783Z"
    }
   },
   "outputs": [
    {
     "name": "stdout",
     "output_type": "stream",
     "text": [
      "sensitive first model\n",
      "sensitive people percentage: 1.0\n"
     ]
    },
    {
     "data": {
      "text/plain": [
       "25.351930145786874"
      ]
     },
     "execution_count": 28,
     "metadata": {},
     "output_type": "execute_result"
    }
   ],
   "source": [
    "# use sensitive first model to predict the group comfortable tempreture\n",
    "ogt.getTempreture(sensitiveRange=4)"
   ]
  },
  {
   "cell_type": "code",
   "execution_count": 32,
   "metadata": {
    "ExecuteTime": {
     "end_time": "2021-02-16T11:05:37.438660Z",
     "start_time": "2021-02-16T11:05:37.416660Z"
    }
   },
   "outputs": [
    {
     "name": "stdout",
     "output_type": "stream",
     "text": [
      "otd model\n"
     ]
    },
    {
     "data": {
      "text/plain": [
       "25.2"
      ]
     },
     "execution_count": 32,
     "metadata": {},
     "output_type": "execute_result"
    }
   ],
   "source": [
    "# use otd model to predict the group comfortable tempreture\n",
    "ogt.getTempreture(model='otd model', ppd=0.5)"
   ]
  },
  {
   "cell_type": "code",
   "execution_count": 33,
   "metadata": {
    "ExecuteTime": {
     "end_time": "2021-02-16T11:05:37.884415Z",
     "start_time": "2021-02-16T11:05:37.873411Z"
    }
   },
   "outputs": [
    {
     "data": {
      "text/html": [
       "<div>\n",
       "<style scoped>\n",
       "    .dataframe tbody tr th:only-of-type {\n",
       "        vertical-align: middle;\n",
       "    }\n",
       "\n",
       "    .dataframe tbody tr th {\n",
       "        vertical-align: top;\n",
       "    }\n",
       "\n",
       "    .dataframe thead th {\n",
       "        text-align: right;\n",
       "    }\n",
       "</style>\n",
       "<table border=\"1\" class=\"dataframe\">\n",
       "  <thead>\n",
       "    <tr style=\"text-align: right;\">\n",
       "      <th></th>\n",
       "      <th>temperature(°C)</th>\n",
       "      <th>otd</th>\n",
       "      <th>isFinal</th>\n",
       "    </tr>\n",
       "  </thead>\n",
       "  <tbody>\n",
       "    <tr>\n",
       "      <th>0</th>\n",
       "      <td>22.6</td>\n",
       "      <td>8055</td>\n",
       "      <td>1</td>\n",
       "    </tr>\n",
       "    <tr>\n",
       "      <th>1</th>\n",
       "      <td>22.7</td>\n",
       "      <td>8054</td>\n",
       "      <td>1</td>\n",
       "    </tr>\n",
       "    <tr>\n",
       "      <th>2</th>\n",
       "      <td>22.8</td>\n",
       "      <td>8054</td>\n",
       "      <td>1</td>\n",
       "    </tr>\n",
       "    <tr>\n",
       "      <th>3</th>\n",
       "      <td>22.9</td>\n",
       "      <td>7659</td>\n",
       "      <td>1</td>\n",
       "    </tr>\n",
       "    <tr>\n",
       "      <th>4</th>\n",
       "      <td>23.0</td>\n",
       "      <td>7460</td>\n",
       "      <td>1</td>\n",
       "    </tr>\n",
       "    <tr>\n",
       "      <th>5</th>\n",
       "      <td>23.1</td>\n",
       "      <td>7263</td>\n",
       "      <td>1</td>\n",
       "    </tr>\n",
       "    <tr>\n",
       "      <th>6</th>\n",
       "      <td>23.2</td>\n",
       "      <td>7000</td>\n",
       "      <td>1</td>\n",
       "    </tr>\n",
       "    <tr>\n",
       "      <th>7</th>\n",
       "      <td>23.3</td>\n",
       "      <td>6868</td>\n",
       "      <td>1</td>\n",
       "    </tr>\n",
       "    <tr>\n",
       "      <th>8</th>\n",
       "      <td>23.4</td>\n",
       "      <td>6214</td>\n",
       "      <td>1</td>\n",
       "    </tr>\n",
       "    <tr>\n",
       "      <th>9</th>\n",
       "      <td>23.5</td>\n",
       "      <td>5754</td>\n",
       "      <td>1</td>\n",
       "    </tr>\n",
       "    <tr>\n",
       "      <th>10</th>\n",
       "      <td>23.6</td>\n",
       "      <td>5491</td>\n",
       "      <td>1</td>\n",
       "    </tr>\n",
       "    <tr>\n",
       "      <th>11</th>\n",
       "      <td>23.7</td>\n",
       "      <td>5097</td>\n",
       "      <td>1</td>\n",
       "    </tr>\n",
       "    <tr>\n",
       "      <th>12</th>\n",
       "      <td>23.8</td>\n",
       "      <td>4641</td>\n",
       "      <td>1</td>\n",
       "    </tr>\n",
       "    <tr>\n",
       "      <th>13</th>\n",
       "      <td>23.9</td>\n",
       "      <td>4311</td>\n",
       "      <td>1</td>\n",
       "    </tr>\n",
       "    <tr>\n",
       "      <th>14</th>\n",
       "      <td>24.0</td>\n",
       "      <td>3913</td>\n",
       "      <td>1</td>\n",
       "    </tr>\n",
       "    <tr>\n",
       "      <th>15</th>\n",
       "      <td>24.1</td>\n",
       "      <td>3511</td>\n",
       "      <td>1</td>\n",
       "    </tr>\n",
       "    <tr>\n",
       "      <th>16</th>\n",
       "      <td>24.2</td>\n",
       "      <td>3180</td>\n",
       "      <td>1</td>\n",
       "    </tr>\n",
       "    <tr>\n",
       "      <th>17</th>\n",
       "      <td>24.3</td>\n",
       "      <td>2851</td>\n",
       "      <td>1</td>\n",
       "    </tr>\n",
       "    <tr>\n",
       "      <th>18</th>\n",
       "      <td>24.4</td>\n",
       "      <td>2452</td>\n",
       "      <td>1</td>\n",
       "    </tr>\n",
       "    <tr>\n",
       "      <th>19</th>\n",
       "      <td>24.5</td>\n",
       "      <td>2123</td>\n",
       "      <td>1</td>\n",
       "    </tr>\n",
       "    <tr>\n",
       "      <th>20</th>\n",
       "      <td>24.6</td>\n",
       "      <td>1926</td>\n",
       "      <td>1</td>\n",
       "    </tr>\n",
       "    <tr>\n",
       "      <th>21</th>\n",
       "      <td>24.7</td>\n",
       "      <td>1789</td>\n",
       "      <td>1</td>\n",
       "    </tr>\n",
       "    <tr>\n",
       "      <th>22</th>\n",
       "      <td>24.8</td>\n",
       "      <td>1328</td>\n",
       "      <td>1</td>\n",
       "    </tr>\n",
       "    <tr>\n",
       "      <th>23</th>\n",
       "      <td>24.9</td>\n",
       "      <td>1257</td>\n",
       "      <td>1</td>\n",
       "    </tr>\n",
       "    <tr>\n",
       "      <th>24</th>\n",
       "      <td>25.0</td>\n",
       "      <td>931</td>\n",
       "      <td>1</td>\n",
       "    </tr>\n",
       "    <tr>\n",
       "      <th>25</th>\n",
       "      <td>25.1</td>\n",
       "      <td>731</td>\n",
       "      <td>1</td>\n",
       "    </tr>\n",
       "    <tr>\n",
       "      <th>26</th>\n",
       "      <td>25.2</td>\n",
       "      <td>601</td>\n",
       "      <td>1</td>\n",
       "    </tr>\n",
       "    <tr>\n",
       "      <th>27</th>\n",
       "      <td>25.3</td>\n",
       "      <td>666</td>\n",
       "      <td>1</td>\n",
       "    </tr>\n",
       "    <tr>\n",
       "      <th>28</th>\n",
       "      <td>25.4</td>\n",
       "      <td>796</td>\n",
       "      <td>1</td>\n",
       "    </tr>\n",
       "    <tr>\n",
       "      <th>29</th>\n",
       "      <td>25.5</td>\n",
       "      <td>726</td>\n",
       "      <td>1</td>\n",
       "    </tr>\n",
       "    <tr>\n",
       "      <th>30</th>\n",
       "      <td>25.6</td>\n",
       "      <td>729</td>\n",
       "      <td>1</td>\n",
       "    </tr>\n",
       "    <tr>\n",
       "      <th>31</th>\n",
       "      <td>25.7</td>\n",
       "      <td>667</td>\n",
       "      <td>1</td>\n",
       "    </tr>\n",
       "    <tr>\n",
       "      <th>32</th>\n",
       "      <td>25.8</td>\n",
       "      <td>737</td>\n",
       "      <td>1</td>\n",
       "    </tr>\n",
       "    <tr>\n",
       "      <th>33</th>\n",
       "      <td>25.9</td>\n",
       "      <td>868</td>\n",
       "      <td>1</td>\n",
       "    </tr>\n",
       "    <tr>\n",
       "      <th>34</th>\n",
       "      <td>26.0</td>\n",
       "      <td>1003</td>\n",
       "      <td>1</td>\n",
       "    </tr>\n",
       "    <tr>\n",
       "      <th>35</th>\n",
       "      <td>26.1</td>\n",
       "      <td>1399</td>\n",
       "      <td>1</td>\n",
       "    </tr>\n",
       "    <tr>\n",
       "      <th>36</th>\n",
       "      <td>26.2</td>\n",
       "      <td>1465</td>\n",
       "      <td>1</td>\n",
       "    </tr>\n",
       "    <tr>\n",
       "      <th>37</th>\n",
       "      <td>26.3</td>\n",
       "      <td>2123</td>\n",
       "      <td>1</td>\n",
       "    </tr>\n",
       "    <tr>\n",
       "      <th>38</th>\n",
       "      <td>26.4</td>\n",
       "      <td>2452</td>\n",
       "      <td>1</td>\n",
       "    </tr>\n",
       "    <tr>\n",
       "      <th>39</th>\n",
       "      <td>26.5</td>\n",
       "      <td>2912</td>\n",
       "      <td>1</td>\n",
       "    </tr>\n",
       "    <tr>\n",
       "      <th>40</th>\n",
       "      <td>26.6</td>\n",
       "      <td>3309</td>\n",
       "      <td>1</td>\n",
       "    </tr>\n",
       "    <tr>\n",
       "      <th>41</th>\n",
       "      <td>26.7</td>\n",
       "      <td>3773</td>\n",
       "      <td>1</td>\n",
       "    </tr>\n",
       "    <tr>\n",
       "      <th>42</th>\n",
       "      <td>26.8</td>\n",
       "      <td>4166</td>\n",
       "      <td>1</td>\n",
       "    </tr>\n",
       "    <tr>\n",
       "      <th>43</th>\n",
       "      <td>26.9</td>\n",
       "      <td>4366</td>\n",
       "      <td>1</td>\n",
       "    </tr>\n",
       "    <tr>\n",
       "      <th>44</th>\n",
       "      <td>27.0</td>\n",
       "      <td>4698</td>\n",
       "      <td>1</td>\n",
       "    </tr>\n",
       "    <tr>\n",
       "      <th>45</th>\n",
       "      <td>27.1</td>\n",
       "      <td>5222</td>\n",
       "      <td>1</td>\n",
       "    </tr>\n",
       "    <tr>\n",
       "      <th>46</th>\n",
       "      <td>27.2</td>\n",
       "      <td>5355</td>\n",
       "      <td>1</td>\n",
       "    </tr>\n",
       "    <tr>\n",
       "      <th>47</th>\n",
       "      <td>27.3</td>\n",
       "      <td>5620</td>\n",
       "      <td>1</td>\n",
       "    </tr>\n",
       "    <tr>\n",
       "      <th>48</th>\n",
       "      <td>27.4</td>\n",
       "      <td>5951</td>\n",
       "      <td>1</td>\n",
       "    </tr>\n",
       "    <tr>\n",
       "      <th>49</th>\n",
       "      <td>27.5</td>\n",
       "      <td>6217</td>\n",
       "      <td>1</td>\n",
       "    </tr>\n",
       "    <tr>\n",
       "      <th>50</th>\n",
       "      <td>27.6</td>\n",
       "      <td>6546</td>\n",
       "      <td>1</td>\n",
       "    </tr>\n",
       "    <tr>\n",
       "      <th>51</th>\n",
       "      <td>27.7</td>\n",
       "      <td>6742</td>\n",
       "      <td>1</td>\n",
       "    </tr>\n",
       "    <tr>\n",
       "      <th>52</th>\n",
       "      <td>27.8</td>\n",
       "      <td>6807</td>\n",
       "      <td>1</td>\n",
       "    </tr>\n",
       "    <tr>\n",
       "      <th>53</th>\n",
       "      <td>27.9</td>\n",
       "      <td>7003</td>\n",
       "      <td>1</td>\n",
       "    </tr>\n",
       "    <tr>\n",
       "      <th>54</th>\n",
       "      <td>28.0</td>\n",
       "      <td>7265</td>\n",
       "      <td>1</td>\n",
       "    </tr>\n",
       "    <tr>\n",
       "      <th>55</th>\n",
       "      <td>28.1</td>\n",
       "      <td>7397</td>\n",
       "      <td>1</td>\n",
       "    </tr>\n",
       "    <tr>\n",
       "      <th>56</th>\n",
       "      <td>28.2</td>\n",
       "      <td>7658</td>\n",
       "      <td>1</td>\n",
       "    </tr>\n",
       "    <tr>\n",
       "      <th>57</th>\n",
       "      <td>25.2</td>\n",
       "      <td>601</td>\n",
       "      <td>20</td>\n",
       "    </tr>\n",
       "  </tbody>\n",
       "</table>\n",
       "</div>"
      ],
      "text/plain": [
       "    temperature(°C)   otd  isFinal\n",
       "0              22.6  8055        1\n",
       "1              22.7  8054        1\n",
       "2              22.8  8054        1\n",
       "3              22.9  7659        1\n",
       "4              23.0  7460        1\n",
       "5              23.1  7263        1\n",
       "6              23.2  7000        1\n",
       "7              23.3  6868        1\n",
       "8              23.4  6214        1\n",
       "9              23.5  5754        1\n",
       "10             23.6  5491        1\n",
       "11             23.7  5097        1\n",
       "12             23.8  4641        1\n",
       "13             23.9  4311        1\n",
       "14             24.0  3913        1\n",
       "15             24.1  3511        1\n",
       "16             24.2  3180        1\n",
       "17             24.3  2851        1\n",
       "18             24.4  2452        1\n",
       "19             24.5  2123        1\n",
       "20             24.6  1926        1\n",
       "21             24.7  1789        1\n",
       "22             24.8  1328        1\n",
       "23             24.9  1257        1\n",
       "24             25.0   931        1\n",
       "25             25.1   731        1\n",
       "26             25.2   601        1\n",
       "27             25.3   666        1\n",
       "28             25.4   796        1\n",
       "29             25.5   726        1\n",
       "30             25.6   729        1\n",
       "31             25.7   667        1\n",
       "32             25.8   737        1\n",
       "33             25.9   868        1\n",
       "34             26.0  1003        1\n",
       "35             26.1  1399        1\n",
       "36             26.2  1465        1\n",
       "37             26.3  2123        1\n",
       "38             26.4  2452        1\n",
       "39             26.5  2912        1\n",
       "40             26.6  3309        1\n",
       "41             26.7  3773        1\n",
       "42             26.8  4166        1\n",
       "43             26.9  4366        1\n",
       "44             27.0  4698        1\n",
       "45             27.1  5222        1\n",
       "46             27.2  5355        1\n",
       "47             27.3  5620        1\n",
       "48             27.4  5951        1\n",
       "49             27.5  6217        1\n",
       "50             27.6  6546        1\n",
       "51             27.7  6742        1\n",
       "52             27.8  6807        1\n",
       "53             27.9  7003        1\n",
       "54             28.0  7265        1\n",
       "55             28.1  7397        1\n",
       "56             28.2  7658        1\n",
       "57             25.2   601       20"
      ]
     },
     "execution_count": 33,
     "metadata": {},
     "output_type": "execute_result"
    }
   ],
   "source": [
    "ogt.otdDF"
   ]
  },
  {
   "cell_type": "code",
   "execution_count": 34,
   "metadata": {
    "ExecuteTime": {
     "end_time": "2021-02-16T11:05:40.734066Z",
     "start_time": "2021-02-16T11:05:40.423064Z"
    },
    "scrolled": false
   },
   "outputs": [
    {
     "data": {
      "image/png": "[encoded data removed]",
      "text/plain": [
       "<Figure size 947.85x504 with 1 Axes>"
      ]
     },
     "metadata": {},
     "output_type": "display_data"
    }
   ],
   "source": [
    "ogt.drawOtdValue()"
   ]
  },
  {
   "cell_type": "markdown",
   "metadata": {},
   "source": [
    "## exmine with other model"
   ]
  },
  {
   "cell_type": "markdown",
   "metadata": {},
   "source": [
    "### examine max prediction"
   ]
  },
  {
   "cell_type": "code",
   "execution_count": null,
   "metadata": {
    "ExecuteTime": {
     "end_time": "2021-02-16T11:02:37.027784Z",
     "start_time": "2021-02-16T11:02:34.479Z"
    }
   },
   "outputs": [],
   "source": [
    "y_pred_pmv = np.array(df_max['pmv_temp_max'])"
   ]
  },
  {
   "cell_type": "code",
   "execution_count": null,
   "metadata": {
    "ExecuteTime": {
     "end_time": "2021-02-16T11:02:37.028783Z",
     "start_time": "2021-02-16T11:02:34.481Z"
    }
   },
   "outputs": [],
   "source": [
    "y_pred_pmv"
   ]
  },
  {
   "cell_type": "code",
   "execution_count": null,
   "metadata": {
    "ExecuteTime": {
     "end_time": "2021-02-16T11:02:37.029784Z",
     "start_time": "2021-02-16T11:02:34.482Z"
    }
   },
   "outputs": [],
   "source": [
    "X = df_max[X_columns]\n",
    "y_true = np.array(df_max['env_temp'])"
   ]
  },
  {
   "cell_type": "code",
   "execution_count": null,
   "metadata": {
    "ExecuteTime": {
     "end_time": "2021-02-16T11:02:37.030784Z",
     "start_time": "2021-02-16T11:02:34.483Z"
    }
   },
   "outputs": [],
   "source": [
    "y_true"
   ]
  },
  {
   "cell_type": "code",
   "execution_count": null,
   "metadata": {
    "ExecuteTime": {
     "end_time": "2021-02-16T11:02:37.031783Z",
     "start_time": "2021-02-16T11:02:34.484Z"
    }
   },
   "outputs": [],
   "source": [
    "y_pred_rf = rfr_max.predict(X)"
   ]
  },
  {
   "cell_type": "code",
   "execution_count": null,
   "metadata": {
    "ExecuteTime": {
     "end_time": "2021-02-16T11:02:37.031783Z",
     "start_time": "2021-02-16T11:02:34.486Z"
    }
   },
   "outputs": [],
   "source": [
    "y_pred_rf"
   ]
  },
  {
   "cell_type": "markdown",
   "metadata": {},
   "source": [
    "#### max - mse"
   ]
  },
  {
   "cell_type": "code",
   "execution_count": null,
   "metadata": {
    "ExecuteTime": {
     "end_time": "2021-02-16T11:02:37.032784Z",
     "start_time": "2021-02-16T11:02:34.487Z"
    }
   },
   "outputs": [],
   "source": [
    "# mean squared error\n",
    "mse_rf = mean_squared_error(y_true, y_pred_rf)\n",
    "mse_pmv = mean_squared_error(y_true, y_pred_pmv)\n",
    "display(mse_rf)\n",
    "display(mse_pmv)"
   ]
  },
  {
   "cell_type": "code",
   "execution_count": null,
   "metadata": {
    "ExecuteTime": {
     "end_time": "2021-02-16T11:02:37.032784Z",
     "start_time": "2021-02-16T11:02:34.489Z"
    }
   },
   "outputs": [],
   "source": [
    "# drop ratio\n",
    "(mse_pmv - mse_rf) / mse_pmv"
   ]
  },
  {
   "cell_type": "markdown",
   "metadata": {},
   "source": [
    "#### max - r2"
   ]
  },
  {
   "cell_type": "code",
   "execution_count": null,
   "metadata": {
    "ExecuteTime": {
     "end_time": "2021-02-16T11:02:37.033784Z",
     "start_time": "2021-02-16T11:02:34.491Z"
    }
   },
   "outputs": [],
   "source": [
    "# R2 score\n",
    "r2_rf = r2_score(y_true, y_pred_rf)\n",
    "r2_pmv = r2_score(y_true, y_pred_pmv)\n",
    "display(r2_rf)\n",
    "display(r2_pmv)"
   ]
  },
  {
   "cell_type": "code",
   "execution_count": null,
   "metadata": {},
   "outputs": [],
   "source": []
  },
  {
   "cell_type": "markdown",
   "metadata": {},
   "source": [
    "### examine min prediction"
   ]
  },
  {
   "cell_type": "code",
   "execution_count": null,
   "metadata": {
    "ExecuteTime": {
     "end_time": "2021-02-16T11:02:37.034784Z",
     "start_time": "2021-02-16T11:02:34.494Z"
    }
   },
   "outputs": [],
   "source": [
    "y_pred_pmv = np.array(df_min['pmv_temp_min'])"
   ]
  },
  {
   "cell_type": "code",
   "execution_count": null,
   "metadata": {
    "ExecuteTime": {
     "end_time": "2021-02-16T11:02:37.035784Z",
     "start_time": "2021-02-16T11:02:34.495Z"
    }
   },
   "outputs": [],
   "source": [
    "y_pred_pmv"
   ]
  },
  {
   "cell_type": "code",
   "execution_count": null,
   "metadata": {
    "ExecuteTime": {
     "end_time": "2021-02-16T11:02:37.035784Z",
     "start_time": "2021-02-16T11:02:34.497Z"
    }
   },
   "outputs": [],
   "source": [
    "X = df_min[X_columns]\n",
    "y_true = np.array(df_min['env_temp'])"
   ]
  },
  {
   "cell_type": "code",
   "execution_count": null,
   "metadata": {
    "ExecuteTime": {
     "end_time": "2021-02-16T11:02:37.036784Z",
     "start_time": "2021-02-16T11:02:34.498Z"
    }
   },
   "outputs": [],
   "source": [
    "y_true"
   ]
  },
  {
   "cell_type": "code",
   "execution_count": null,
   "metadata": {
    "ExecuteTime": {
     "end_time": "2021-02-16T11:02:37.037784Z",
     "start_time": "2021-02-16T11:02:34.499Z"
    }
   },
   "outputs": [],
   "source": [
    "y_pred_rf = rfr_max.predict(X)"
   ]
  },
  {
   "cell_type": "code",
   "execution_count": null,
   "metadata": {
    "ExecuteTime": {
     "end_time": "2021-02-16T11:02:37.038784Z",
     "start_time": "2021-02-16T11:02:34.500Z"
    }
   },
   "outputs": [],
   "source": [
    "y_pred_rf"
   ]
  },
  {
   "cell_type": "markdown",
   "metadata": {},
   "source": [
    "#### min - mse"
   ]
  },
  {
   "cell_type": "code",
   "execution_count": null,
   "metadata": {
    "ExecuteTime": {
     "end_time": "2021-02-16T11:02:37.038784Z",
     "start_time": "2021-02-16T11:02:34.501Z"
    }
   },
   "outputs": [],
   "source": [
    "# mean squared error\n",
    "mse_rf = mean_squared_error(y_true, y_pred_rf)\n",
    "mse_pmv = mean_squared_error(y_true, y_pred_pmv)\n",
    "display(mse_rf)\n",
    "display(mse_pmv)"
   ]
  },
  {
   "cell_type": "code",
   "execution_count": null,
   "metadata": {
    "ExecuteTime": {
     "end_time": "2021-02-16T11:02:37.039783Z",
     "start_time": "2021-02-16T11:02:34.503Z"
    }
   },
   "outputs": [],
   "source": [
    "# drop ratio\n",
    "(mse_pmv - mse_rf) / mse_pmv"
   ]
  },
  {
   "cell_type": "markdown",
   "metadata": {},
   "source": [
    "#### min - r2"
   ]
  },
  {
   "cell_type": "code",
   "execution_count": null,
   "metadata": {
    "ExecuteTime": {
     "end_time": "2021-02-16T11:02:37.040783Z",
     "start_time": "2021-02-16T11:02:34.505Z"
    }
   },
   "outputs": [],
   "source": [
    "# R2 score\n",
    "r2_rf = r2_score(y_true, y_pred_rf)\n",
    "r2_pmv = r2_score(y_true, y_pred_pmv)\n",
    "display(r2_rf)\n",
    "display(r2_pmv)"
   ]
  },
  {
   "cell_type": "code",
   "execution_count": null,
   "metadata": {},
   "outputs": [],
   "source": []
  },
  {
   "cell_type": "code",
   "execution_count": null,
   "metadata": {},
   "outputs": [],
   "source": []
  },
  {
   "cell_type": "code",
   "execution_count": null,
   "metadata": {},
   "outputs": [],
   "source": []
  },
  {
   "cell_type": "code",
   "execution_count": null,
   "metadata": {},
   "outputs": [],
   "source": []
  },
  {
   "cell_type": "code",
   "execution_count": null,
   "metadata": {},
   "outputs": [],
   "source": []
  },
  {
   "cell_type": "code",
   "execution_count": null,
   "metadata": {},
   "outputs": [],
   "source": []
  },
  {
   "cell_type": "code",
   "execution_count": null,
   "metadata": {},
   "outputs": [],
   "source": []
  },
  {
   "cell_type": "code",
   "execution_count": null,
   "metadata": {},
   "outputs": [],
   "source": []
  },
  {
   "cell_type": "code",
   "execution_count": null,
   "metadata": {},
   "outputs": [],
   "source": []
  },
  {
   "cell_type": "code",
   "execution_count": null,
   "metadata": {},
   "outputs": [],
   "source": []
  },
  {
   "cell_type": "code",
   "execution_count": null,
   "metadata": {},
   "outputs": [],
   "source": []
  },
  {
   "cell_type": "code",
   "execution_count": null,
   "metadata": {},
   "outputs": [],
   "source": []
  },
  {
   "cell_type": "code",
   "execution_count": null,
   "metadata": {},
   "outputs": [],
   "source": []
  },
  {
   "cell_type": "code",
   "execution_count": null,
   "metadata": {},
   "outputs": [],
   "source": []
  },
  {
   "cell_type": "code",
   "execution_count": null,
   "metadata": {},
   "outputs": [],
   "source": []
  }
 ],
 "metadata": {
  "kernelspec": {
   "display_name": "Python [conda env:ml]",
   "language": "python",
   "name": "conda-env-ml-py"
  },
  "language_info": {
   "codemirror_mode": {
    "name": "ipython",
    "version": 3
   },
   "file_extension": ".py",
   "mimetype": "text/x-python",
   "name": "python",
   "nbconvert_exporter": "python",
   "pygments_lexer": "ipython3",
   "version": "3.6.10"
  },
  "toc": {
   "base_numbering": 1,
   "nav_menu": {},
   "number_sections": true,
   "sideBar": true,
   "skip_h1_title": false,
   "title_cell": "Table of Contents",
   "title_sidebar": "Contents",
   "toc_cell": false,
   "toc_position": {
    "height": "calc(100% - 180px)",
    "left": "10px",
    "top": "150px",
    "width": "252px"
   },
   "toc_section_display": true,
   "toc_window_display": true
  }
 },
 "nbformat": 4,
 "nbformat_minor": 2
}
