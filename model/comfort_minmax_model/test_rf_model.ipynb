{
 "cells": [
  {
   "cell_type": "code",
   "execution_count": 1,
   "metadata": {
    "ExecuteTime": {
     "end_time": "2021-01-28T12:41:39.041456Z",
     "start_time": "2021-01-28T12:41:39.024941Z"
    }
   },
   "outputs": [],
   "source": [
    "import random\n",
    "import math"
   ]
  },
  {
   "cell_type": "code",
   "execution_count": 2,
   "metadata": {
    "ExecuteTime": {
     "end_time": "2021-01-28T12:41:39.911460Z",
     "start_time": "2021-01-28T12:41:39.043454Z"
    }
   },
   "outputs": [],
   "source": [
    "%matplotlib inline\n",
    "import pandas as pd\n",
    "import numpy as np\n",
    "\n",
    "import matplotlib.pyplot as plt\n",
    "import seaborn as sns"
   ]
  },
  {
   "cell_type": "code",
   "execution_count": 3,
   "metadata": {
    "ExecuteTime": {
     "end_time": "2021-01-28T12:41:40.150475Z",
     "start_time": "2021-01-28T12:41:39.912461Z"
    }
   },
   "outputs": [],
   "source": [
    "# from sklearn.ensemble import RandomForestRegressor\n",
    "from sklearn.metrics import mean_squared_error, r2_score\n",
    "\n",
    "from sklearn import tree\n",
    "import joblib\n",
    "\n",
    "import scipy"
   ]
  },
  {
   "cell_type": "code",
   "execution_count": 4,
   "metadata": {
    "ExecuteTime": {
     "end_time": "2021-01-28T12:41:40.166475Z",
     "start_time": "2021-01-28T12:41:40.151475Z"
    }
   },
   "outputs": [],
   "source": [
    "plt.rcParams[\"figure.figsize\"] = (15, 17)"
   ]
  },
  {
   "cell_type": "code",
   "execution_count": 5,
   "metadata": {
    "ExecuteTime": {
     "end_time": "2021-01-28T12:41:40.181478Z",
     "start_time": "2021-01-28T12:41:40.167476Z"
    }
   },
   "outputs": [],
   "source": [
    "def convertFahrenheitToCelsius(f):\n",
    "    return (f - 32) / 1.8"
   ]
  },
  {
   "cell_type": "markdown",
   "metadata": {},
   "source": [
    "## load random forest model"
   ]
  },
  {
   "cell_type": "code",
   "execution_count": 6,
   "metadata": {
    "ExecuteTime": {
     "end_time": "2021-01-28T12:41:40.197476Z",
     "start_time": "2021-01-28T12:41:40.182476Z"
    }
   },
   "outputs": [],
   "source": [
    "filename_min = './min_random_forest_model.sav'\n",
    "filename_max = './max_random_forest_model.sav'"
   ]
  },
  {
   "cell_type": "code",
   "execution_count": 7,
   "metadata": {
    "ExecuteTime": {
     "end_time": "2021-01-28T12:41:40.672473Z",
     "start_time": "2021-01-28T12:41:40.198477Z"
    }
   },
   "outputs": [],
   "source": [
    "rfr_min = joblib.load(filename_min)\n",
    "rfr_max = joblib.load(filename_max)"
   ]
  },
  {
   "cell_type": "markdown",
   "metadata": {},
   "source": [
    "## create test data from test dataset"
   ]
  },
  {
   "cell_type": "code",
   "execution_count": 8,
   "metadata": {
    "ExecuteTime": {
     "end_time": "2021-01-28T12:41:40.688473Z",
     "start_time": "2021-01-28T12:41:40.675474Z"
    }
   },
   "outputs": [],
   "source": [
    "pth_min = '../processed_data/test_min.csv'\n",
    "df_min = pd.read_csv(pth_min)"
   ]
  },
  {
   "cell_type": "code",
   "execution_count": 9,
   "metadata": {
    "ExecuteTime": {
     "end_time": "2021-01-28T12:41:40.703473Z",
     "start_time": "2021-01-28T12:41:40.690478Z"
    }
   },
   "outputs": [],
   "source": [
    "pth_max = '../processed_data/test_max.csv'\n",
    "df_max = pd.read_csv(pth_max)"
   ]
  },
  {
   "cell_type": "code",
   "execution_count": 10,
   "metadata": {
    "ExecuteTime": {
     "end_time": "2021-01-28T12:41:40.719473Z",
     "start_time": "2021-01-28T12:41:40.704474Z"
    },
    "scrolled": false
   },
   "outputs": [
    {
     "data": {
      "text/plain": [
       "(54, 15)"
      ]
     },
     "execution_count": 10,
     "metadata": {},
     "output_type": "execute_result"
    }
   ],
   "source": [
    "df_min.shape"
   ]
  },
  {
   "cell_type": "code",
   "execution_count": 11,
   "metadata": {
    "ExecuteTime": {
     "end_time": "2021-01-28T12:41:40.735473Z",
     "start_time": "2021-01-28T12:41:40.720475Z"
    }
   },
   "outputs": [
    {
     "data": {
      "text/plain": [
       "(9, 15)"
      ]
     },
     "execution_count": 11,
     "metadata": {},
     "output_type": "execute_result"
    }
   ],
   "source": [
    "df_max.shape"
   ]
  },
  {
   "cell_type": "code",
   "execution_count": 12,
   "metadata": {
    "ExecuteTime": {
     "end_time": "2021-01-28T12:41:40.815473Z",
     "start_time": "2021-01-28T12:41:40.736474Z"
    }
   },
   "outputs": [],
   "source": [
    "df_combine = pd.concat([df_min, df_max])"
   ]
  },
  {
   "cell_type": "code",
   "execution_count": 13,
   "metadata": {
    "ExecuteTime": {
     "end_time": "2021-01-28T12:41:40.910287Z",
     "start_time": "2021-01-28T12:41:40.816474Z"
    },
    "scrolled": false
   },
   "outputs": [
    {
     "data": {
      "text/html": [
       "<div>\n",
       "<style scoped>\n",
       "    .dataframe tbody tr th:only-of-type {\n",
       "        vertical-align: middle;\n",
       "    }\n",
       "\n",
       "    .dataframe tbody tr th {\n",
       "        vertical-align: top;\n",
       "    }\n",
       "\n",
       "    .dataframe thead th {\n",
       "        text-align: right;\n",
       "    }\n",
       "</style>\n",
       "<table border=\"1\" class=\"dataframe\">\n",
       "  <thead>\n",
       "    <tr style=\"text-align: right;\">\n",
       "      <th></th>\n",
       "      <th>Unnamed: 0</th>\n",
       "      <th>height</th>\n",
       "      <th>weight</th>\n",
       "      <th>gender</th>\n",
       "      <th>bmi</th>\n",
       "      <th>age</th>\n",
       "      <th>rh</th>\n",
       "      <th>heart_rate</th>\n",
       "      <th>stress_level</th>\n",
       "      <th>skin_temp</th>\n",
       "      <th>eda</th>\n",
       "      <th>Clo</th>\n",
       "      <th>Act</th>\n",
       "      <th>env_temp</th>\n",
       "      <th>pmv_temp_min</th>\n",
       "      <th>pmv_temp_max</th>\n",
       "    </tr>\n",
       "  </thead>\n",
       "  <tbody>\n",
       "    <tr>\n",
       "      <th>0</th>\n",
       "      <td>166</td>\n",
       "      <td>1.77</td>\n",
       "      <td>68.0</td>\n",
       "      <td>-1.0</td>\n",
       "      <td>21.705129</td>\n",
       "      <td>24.0</td>\n",
       "      <td>57.779</td>\n",
       "      <td>76.298872</td>\n",
       "      <td>23.987342</td>\n",
       "      <td>31.672874</td>\n",
       "      <td>0.877379</td>\n",
       "      <td>0.54</td>\n",
       "      <td>1.0</td>\n",
       "      <td>78.514</td>\n",
       "      <td>25.0</td>\n",
       "      <td>NaN</td>\n",
       "    </tr>\n",
       "    <tr>\n",
       "      <th>1</th>\n",
       "      <td>25</td>\n",
       "      <td>1.83</td>\n",
       "      <td>74.0</td>\n",
       "      <td>-1.0</td>\n",
       "      <td>22.096808</td>\n",
       "      <td>24.0</td>\n",
       "      <td>46.650</td>\n",
       "      <td>84.000000</td>\n",
       "      <td>23.987342</td>\n",
       "      <td>31.693000</td>\n",
       "      <td>0.009496</td>\n",
       "      <td>0.50</td>\n",
       "      <td>1.1</td>\n",
       "      <td>79.502</td>\n",
       "      <td>24.6</td>\n",
       "      <td>NaN</td>\n",
       "    </tr>\n",
       "    <tr>\n",
       "      <th>2</th>\n",
       "      <td>229</td>\n",
       "      <td>1.63</td>\n",
       "      <td>50.0</td>\n",
       "      <td>1.0</td>\n",
       "      <td>18.818924</td>\n",
       "      <td>23.0</td>\n",
       "      <td>41.050</td>\n",
       "      <td>86.000000</td>\n",
       "      <td>23.987342</td>\n",
       "      <td>30.563000</td>\n",
       "      <td>0.281909</td>\n",
       "      <td>0.50</td>\n",
       "      <td>1.0</td>\n",
       "      <td>76.354</td>\n",
       "      <td>26.5</td>\n",
       "      <td>NaN</td>\n",
       "    </tr>\n",
       "    <tr>\n",
       "      <th>3</th>\n",
       "      <td>217</td>\n",
       "      <td>1.63</td>\n",
       "      <td>50.0</td>\n",
       "      <td>1.0</td>\n",
       "      <td>18.818924</td>\n",
       "      <td>23.0</td>\n",
       "      <td>39.170</td>\n",
       "      <td>67.000000</td>\n",
       "      <td>7.000000</td>\n",
       "      <td>31.672874</td>\n",
       "      <td>0.059989</td>\n",
       "      <td>0.50</td>\n",
       "      <td>1.0</td>\n",
       "      <td>74.964</td>\n",
       "      <td>26.3</td>\n",
       "      <td>NaN</td>\n",
       "    </tr>\n",
       "    <tr>\n",
       "      <th>4</th>\n",
       "      <td>71</td>\n",
       "      <td>1.69</td>\n",
       "      <td>75.0</td>\n",
       "      <td>-1.0</td>\n",
       "      <td>26.259585</td>\n",
       "      <td>24.0</td>\n",
       "      <td>28.920</td>\n",
       "      <td>102.000000</td>\n",
       "      <td>23.987342</td>\n",
       "      <td>31.672874</td>\n",
       "      <td>0.002887</td>\n",
       "      <td>0.36</td>\n",
       "      <td>1.1</td>\n",
       "      <td>74.619</td>\n",
       "      <td>27.0</td>\n",
       "      <td>NaN</td>\n",
       "    </tr>\n",
       "    <tr>\n",
       "      <th>...</th>\n",
       "      <td>...</td>\n",
       "      <td>...</td>\n",
       "      <td>...</td>\n",
       "      <td>...</td>\n",
       "      <td>...</td>\n",
       "      <td>...</td>\n",
       "      <td>...</td>\n",
       "      <td>...</td>\n",
       "      <td>...</td>\n",
       "      <td>...</td>\n",
       "      <td>...</td>\n",
       "      <td>...</td>\n",
       "      <td>...</td>\n",
       "      <td>...</td>\n",
       "      <td>...</td>\n",
       "      <td>...</td>\n",
       "    </tr>\n",
       "    <tr>\n",
       "      <th>4</th>\n",
       "      <td>43</td>\n",
       "      <td>1.77</td>\n",
       "      <td>58.0</td>\n",
       "      <td>-1.0</td>\n",
       "      <td>18.513199</td>\n",
       "      <td>23.0</td>\n",
       "      <td>51.234</td>\n",
       "      <td>102.500000</td>\n",
       "      <td>78.000000</td>\n",
       "      <td>33.636000</td>\n",
       "      <td>0.585949</td>\n",
       "      <td>0.36</td>\n",
       "      <td>1.3</td>\n",
       "      <td>80.272</td>\n",
       "      <td>NaN</td>\n",
       "      <td>30.7</td>\n",
       "    </tr>\n",
       "    <tr>\n",
       "      <th>5</th>\n",
       "      <td>26</td>\n",
       "      <td>1.60</td>\n",
       "      <td>52.5</td>\n",
       "      <td>1.0</td>\n",
       "      <td>20.507812</td>\n",
       "      <td>24.0</td>\n",
       "      <td>51.538</td>\n",
       "      <td>88.158537</td>\n",
       "      <td>62.485294</td>\n",
       "      <td>32.559814</td>\n",
       "      <td>-0.100261</td>\n",
       "      <td>0.53</td>\n",
       "      <td>1.0</td>\n",
       "      <td>72.696</td>\n",
       "      <td>NaN</td>\n",
       "      <td>30.6</td>\n",
       "    </tr>\n",
       "    <tr>\n",
       "      <th>6</th>\n",
       "      <td>6</td>\n",
       "      <td>1.77</td>\n",
       "      <td>58.0</td>\n",
       "      <td>-1.0</td>\n",
       "      <td>18.513199</td>\n",
       "      <td>23.0</td>\n",
       "      <td>55.272</td>\n",
       "      <td>87.000000</td>\n",
       "      <td>62.485294</td>\n",
       "      <td>32.915000</td>\n",
       "      <td>0.006857</td>\n",
       "      <td>0.36</td>\n",
       "      <td>1.0</td>\n",
       "      <td>79.480</td>\n",
       "      <td>NaN</td>\n",
       "      <td>32.0</td>\n",
       "    </tr>\n",
       "    <tr>\n",
       "      <th>7</th>\n",
       "      <td>8</td>\n",
       "      <td>1.77</td>\n",
       "      <td>90.0</td>\n",
       "      <td>-1.0</td>\n",
       "      <td>28.727377</td>\n",
       "      <td>28.0</td>\n",
       "      <td>60.389</td>\n",
       "      <td>67.000000</td>\n",
       "      <td>62.485294</td>\n",
       "      <td>31.013000</td>\n",
       "      <td>0.188456</td>\n",
       "      <td>0.36</td>\n",
       "      <td>1.1</td>\n",
       "      <td>79.480</td>\n",
       "      <td>NaN</td>\n",
       "      <td>30.7</td>\n",
       "    </tr>\n",
       "    <tr>\n",
       "      <th>8</th>\n",
       "      <td>7</td>\n",
       "      <td>1.77</td>\n",
       "      <td>58.0</td>\n",
       "      <td>-1.0</td>\n",
       "      <td>18.513199</td>\n",
       "      <td>23.0</td>\n",
       "      <td>50.237</td>\n",
       "      <td>99.000000</td>\n",
       "      <td>54.000000</td>\n",
       "      <td>31.588000</td>\n",
       "      <td>0.017909</td>\n",
       "      <td>0.36</td>\n",
       "      <td>1.3</td>\n",
       "      <td>76.725</td>\n",
       "      <td>NaN</td>\n",
       "      <td>30.9</td>\n",
       "    </tr>\n",
       "  </tbody>\n",
       "</table>\n",
       "<p>63 rows × 16 columns</p>\n",
       "</div>"
      ],
      "text/plain": [
       "    Unnamed: 0  height  weight  gender        bmi   age      rh  heart_rate  \\\n",
       "0          166    1.77    68.0    -1.0  21.705129  24.0  57.779   76.298872   \n",
       "1           25    1.83    74.0    -1.0  22.096808  24.0  46.650   84.000000   \n",
       "2          229    1.63    50.0     1.0  18.818924  23.0  41.050   86.000000   \n",
       "3          217    1.63    50.0     1.0  18.818924  23.0  39.170   67.000000   \n",
       "4           71    1.69    75.0    -1.0  26.259585  24.0  28.920  102.000000   \n",
       "..         ...     ...     ...     ...        ...   ...     ...         ...   \n",
       "4           43    1.77    58.0    -1.0  18.513199  23.0  51.234  102.500000   \n",
       "5           26    1.60    52.5     1.0  20.507812  24.0  51.538   88.158537   \n",
       "6            6    1.77    58.0    -1.0  18.513199  23.0  55.272   87.000000   \n",
       "7            8    1.77    90.0    -1.0  28.727377  28.0  60.389   67.000000   \n",
       "8            7    1.77    58.0    -1.0  18.513199  23.0  50.237   99.000000   \n",
       "\n",
       "    stress_level  skin_temp       eda   Clo  Act  env_temp  pmv_temp_min  \\\n",
       "0      23.987342  31.672874  0.877379  0.54  1.0    78.514          25.0   \n",
       "1      23.987342  31.693000  0.009496  0.50  1.1    79.502          24.6   \n",
       "2      23.987342  30.563000  0.281909  0.50  1.0    76.354          26.5   \n",
       "3       7.000000  31.672874  0.059989  0.50  1.0    74.964          26.3   \n",
       "4      23.987342  31.672874  0.002887  0.36  1.1    74.619          27.0   \n",
       "..           ...        ...       ...   ...  ...       ...           ...   \n",
       "4      78.000000  33.636000  0.585949  0.36  1.3    80.272           NaN   \n",
       "5      62.485294  32.559814 -0.100261  0.53  1.0    72.696           NaN   \n",
       "6      62.485294  32.915000  0.006857  0.36  1.0    79.480           NaN   \n",
       "7      62.485294  31.013000  0.188456  0.36  1.1    79.480           NaN   \n",
       "8      54.000000  31.588000  0.017909  0.36  1.3    76.725           NaN   \n",
       "\n",
       "    pmv_temp_max  \n",
       "0            NaN  \n",
       "1            NaN  \n",
       "2            NaN  \n",
       "3            NaN  \n",
       "4            NaN  \n",
       "..           ...  \n",
       "4           30.7  \n",
       "5           30.6  \n",
       "6           32.0  \n",
       "7           30.7  \n",
       "8           30.9  \n",
       "\n",
       "[63 rows x 16 columns]"
      ]
     },
     "execution_count": 13,
     "metadata": {},
     "output_type": "execute_result"
    }
   ],
   "source": [
    "df_combine"
   ]
  },
  {
   "cell_type": "code",
   "execution_count": 14,
   "metadata": {
    "ExecuteTime": {
     "end_time": "2021-01-28T12:41:40.926283Z",
     "start_time": "2021-01-28T12:41:40.911287Z"
    }
   },
   "outputs": [],
   "source": [
    "X_columns = ['height', 'weight', 'gender', 'bmi', 'age', 'rh', \\\n",
    "              'heart_rate', 'stress_level', 'skin_temp', 'eda', \\\n",
    "              'Clo', 'Act']"
   ]
  },
  {
   "cell_type": "code",
   "execution_count": 15,
   "metadata": {
    "ExecuteTime": {
     "end_time": "2021-01-28T12:41:40.958284Z",
     "start_time": "2021-01-28T12:41:40.928284Z"
    }
   },
   "outputs": [],
   "source": [
    "X = df_combine[X_columns]\n",
    "y = df_combine['env_temp']"
   ]
  },
  {
   "cell_type": "markdown",
   "metadata": {},
   "source": [
    "## predict"
   ]
  },
  {
   "cell_type": "markdown",
   "metadata": {},
   "source": [
    "### predict comfort zone min value"
   ]
  },
  {
   "cell_type": "code",
   "execution_count": 16,
   "metadata": {
    "ExecuteTime": {
     "end_time": "2021-01-28T12:41:41.020285Z",
     "start_time": "2021-01-28T12:41:40.960284Z"
    }
   },
   "outputs": [],
   "source": [
    "y_pred_min = rfr_min.predict(X)"
   ]
  },
  {
   "cell_type": "markdown",
   "metadata": {},
   "source": [
    "### transfer to Celsius"
   ]
  },
  {
   "cell_type": "code",
   "execution_count": 17,
   "metadata": {
    "ExecuteTime": {
     "end_time": "2021-01-28T12:41:41.052284Z",
     "start_time": "2021-01-28T12:41:41.021284Z"
    }
   },
   "outputs": [],
   "source": [
    "y_pred_min = np.array([convertFahrenheitToCelsius(f) for f in y_pred_min])"
   ]
  },
  {
   "cell_type": "code",
   "execution_count": 18,
   "metadata": {
    "ExecuteTime": {
     "end_time": "2021-01-28T12:41:41.147282Z",
     "start_time": "2021-01-28T12:41:41.053283Z"
    }
   },
   "outputs": [
    {
     "data": {
      "text/plain": [
       "array([25.48497639, 25.37197292, 24.39942986, 24.25662778, 24.22549931,\n",
       "       23.73016944, 24.47877153, 24.95991944, 24.69227917, 24.78456667,\n",
       "       24.02832431, 24.35699236, 24.82526736, 24.69630278, 23.96453264,\n",
       "       23.98368611, 24.43206528, 24.02250903, 23.4535375 , 25.15176181,\n",
       "       23.89805278, 23.6700625 , 25.21150556, 24.00911181, 24.02572986,\n",
       "       24.88604722, 22.90857292, 24.39703681, 25.33293056, 24.61473333,\n",
       "       24.07509722, 24.95213472, 23.86252639, 24.81080486, 24.05384028,\n",
       "       24.09036042, 24.646275  , 23.13148194, 24.15849097, 24.33471597,\n",
       "       24.29256042, 22.57400069, 24.56658194, 24.08756042, 24.28873403,\n",
       "       24.66696319, 25.37199792, 23.73875486, 24.93189514, 24.71713403,\n",
       "       23.75675   , 24.09079236, 24.08004722, 24.77542292, 25.83106736,\n",
       "       25.95973125, 25.44440625, 23.84662153, 25.33325347, 24.23304792,\n",
       "       24.85243194, 24.02317708, 25.38571319])"
      ]
     },
     "execution_count": 18,
     "metadata": {},
     "output_type": "execute_result"
    }
   ],
   "source": [
    "y_pred_min"
   ]
  },
  {
   "cell_type": "markdown",
   "metadata": {},
   "source": [
    "### predict comfort zone max value"
   ]
  },
  {
   "cell_type": "code",
   "execution_count": 19,
   "metadata": {
    "ExecuteTime": {
     "end_time": "2021-01-28T12:41:41.226282Z",
     "start_time": "2021-01-28T12:41:41.148283Z"
    }
   },
   "outputs": [],
   "source": [
    "y_pred_max = rfr_max.predict(X)"
   ]
  },
  {
   "cell_type": "markdown",
   "metadata": {},
   "source": [
    "### transfer to Celsius"
   ]
  },
  {
   "cell_type": "code",
   "execution_count": 20,
   "metadata": {
    "ExecuteTime": {
     "end_time": "2021-01-28T12:41:41.242282Z",
     "start_time": "2021-01-28T12:41:41.227284Z"
    }
   },
   "outputs": [],
   "source": [
    "y_pred_max = np.array([convertFahrenheitToCelsius(f) for f in y_pred_max])"
   ]
  },
  {
   "cell_type": "code",
   "execution_count": 21,
   "metadata": {
    "ExecuteTime": {
     "end_time": "2021-01-28T12:41:41.258282Z",
     "start_time": "2021-01-28T12:41:41.244282Z"
    }
   },
   "outputs": [
    {
     "data": {
      "text/plain": [
       "array([26.76702815, 28.57730148, 25.68293889, 25.45968296, 27.23483963,\n",
       "       25.90016222, 26.14875481, 25.90394815, 26.12800185, 25.75053185,\n",
       "       27.28443333, 25.67265963, 27.25235667, 26.14587222, 26.42879296,\n",
       "       25.7917937 , 27.1870137 , 27.25681407, 25.47246222, 27.09418   ,\n",
       "       25.45574556, 25.49398296, 26.48346519, 25.65910667, 27.25977852,\n",
       "       26.50743593, 25.73104185, 27.18660778, 25.36556519, 26.41513259,\n",
       "       25.63090926, 25.1567537 , 25.17823037, 26.18545481, 25.42472444,\n",
       "       25.51269593, 26.42793148, 25.79203815, 25.51347074, 26.88564037,\n",
       "       25.51338407, 25.58147556, 25.83430593, 27.30930037, 26.20416074,\n",
       "       26.35091407, 26.56321815, 27.30116333, 25.29167407, 26.23136593,\n",
       "       26.44841741, 25.52892481, 25.34989852, 26.00658259, 26.38098667,\n",
       "       27.14169259, 25.99573852, 26.96327   , 26.89413704, 24.80595074,\n",
       "       26.07075704, 26.75300185, 26.03961778])"
      ]
     },
     "execution_count": 21,
     "metadata": {},
     "output_type": "execute_result"
    }
   ],
   "source": [
    "y_pred_max"
   ]
  },
  {
   "cell_type": "markdown",
   "metadata": {},
   "source": [
    "### detect error"
   ]
  },
  {
   "cell_type": "code",
   "execution_count": 22,
   "metadata": {
    "ExecuteTime": {
     "end_time": "2021-01-28T12:41:41.274282Z",
     "start_time": "2021-01-28T12:41:41.260284Z"
    }
   },
   "outputs": [],
   "source": [
    "errorIdx = []\n",
    "for i in range(len(y_pred_min)):\n",
    "    if y_pred_max[i] <= y_pred_min[i]:\n",
    "        errorIdx.append(i)"
   ]
  },
  {
   "cell_type": "code",
   "execution_count": 23,
   "metadata": {
    "ExecuteTime": {
     "end_time": "2021-01-28T12:41:41.290283Z",
     "start_time": "2021-01-28T12:41:41.277284Z"
    }
   },
   "outputs": [
    {
     "data": {
      "text/plain": [
       "[]"
      ]
     },
     "execution_count": 23,
     "metadata": {},
     "output_type": "execute_result"
    }
   ],
   "source": [
    "errorIdx"
   ]
  },
  {
   "cell_type": "code",
   "execution_count": 24,
   "metadata": {
    "ExecuteTime": {
     "end_time": "2021-01-28T12:41:41.306282Z",
     "start_time": "2021-01-28T12:41:41.292283Z"
    }
   },
   "outputs": [
    {
     "data": {
      "text/html": [
       "<div>\n",
       "<style scoped>\n",
       "    .dataframe tbody tr th:only-of-type {\n",
       "        vertical-align: middle;\n",
       "    }\n",
       "\n",
       "    .dataframe tbody tr th {\n",
       "        vertical-align: top;\n",
       "    }\n",
       "\n",
       "    .dataframe thead th {\n",
       "        text-align: right;\n",
       "    }\n",
       "</style>\n",
       "<table border=\"1\" class=\"dataframe\">\n",
       "  <thead>\n",
       "    <tr style=\"text-align: right;\">\n",
       "      <th></th>\n",
       "      <th>Unnamed: 0</th>\n",
       "      <th>height</th>\n",
       "      <th>weight</th>\n",
       "      <th>gender</th>\n",
       "      <th>bmi</th>\n",
       "      <th>age</th>\n",
       "      <th>rh</th>\n",
       "      <th>heart_rate</th>\n",
       "      <th>stress_level</th>\n",
       "      <th>skin_temp</th>\n",
       "      <th>eda</th>\n",
       "      <th>Clo</th>\n",
       "      <th>Act</th>\n",
       "      <th>env_temp</th>\n",
       "      <th>pmv_temp_min</th>\n",
       "      <th>pmv_temp_max</th>\n",
       "    </tr>\n",
       "  </thead>\n",
       "  <tbody>\n",
       "  </tbody>\n",
       "</table>\n",
       "</div>"
      ],
      "text/plain": [
       "Empty DataFrame\n",
       "Columns: [Unnamed: 0, height, weight, gender, bmi, age, rh, heart_rate, stress_level, skin_temp, eda, Clo, Act, env_temp, pmv_temp_min, pmv_temp_max]\n",
       "Index: []"
      ]
     },
     "execution_count": 24,
     "metadata": {},
     "output_type": "execute_result"
    }
   ],
   "source": [
    "df_combine.iloc[errorIdx,:]"
   ]
  },
  {
   "cell_type": "markdown",
   "metadata": {},
   "source": [
    "### delete the unacceptable values"
   ]
  },
  {
   "cell_type": "code",
   "execution_count": 25,
   "metadata": {
    "ExecuteTime": {
     "end_time": "2021-01-28T12:41:41.321285Z",
     "start_time": "2021-01-28T12:41:41.307281Z"
    }
   },
   "outputs": [],
   "source": [
    "t_min = []\n",
    "t_max = []\n",
    "for i in range(len(y_pred_min)):\n",
    "    if y_pred_min[i] <= y_pred_max[i]:\n",
    "        t_min.append(y_pred_min[i])\n",
    "        t_max.append(y_pred_max[i])\n",
    "    else:\n",
    "        t_min.append(y_pred_min[i])\n",
    "        t_max.append(y_pred_min[i])"
   ]
  },
  {
   "cell_type": "code",
   "execution_count": 26,
   "metadata": {
    "ExecuteTime": {
     "end_time": "2021-01-28T12:41:41.384282Z",
     "start_time": "2021-01-28T12:41:41.323286Z"
    }
   },
   "outputs": [
    {
     "data": {
      "text/plain": [
       "63"
      ]
     },
     "execution_count": 26,
     "metadata": {},
     "output_type": "execute_result"
    }
   ],
   "source": [
    "len(t_min)"
   ]
  },
  {
   "cell_type": "markdown",
   "metadata": {},
   "source": [
    "### plot zone"
   ]
  },
  {
   "cell_type": "code",
   "execution_count": 27,
   "metadata": {
    "ExecuteTime": {
     "end_time": "2021-01-28T12:41:41.859792Z",
     "start_time": "2021-01-28T12:41:41.385284Z"
    }
   },
   "outputs": [
    {
     "data": {
      "image/png": "[encoded data removed]",
      "text/plain": [
       "<Figure size 1080x1440 with 1 Axes>"
      ]
     },
     "metadata": {
      "needs_background": "light"
     },
     "output_type": "display_data"
    }
   ],
   "source": [
    "plt.rcParams[\"figure.figsize\"] = (15, 20)\n",
    "# draw comfort zone\n",
    "for i in range(len(t_min)):\n",
    "    plt.plot([t_min[i], t_max[i]],[i, i])\n",
    "    \n",
    "# tag comfort zone min $ max\n",
    "for i in range(len(t_min)):\n",
    "    plt.text(t_min[i]- 0.23, i+0.2, \"%.2f°C\" % t_min[i])\n",
    "    plt.text(t_max[i], i+0.2, \"%.2f°C\" % t_max[i])\n",
    "\n",
    "plt.show()"
   ]
  },
  {
   "cell_type": "markdown",
   "metadata": {},
   "source": [
    "## predict group tempreture model"
   ]
  },
  {
   "cell_type": "code",
   "execution_count": 28,
   "metadata": {
    "ExecuteTime": {
     "end_time": "2021-01-28T12:41:41.890804Z",
     "start_time": "2021-01-28T12:41:41.860793Z"
    }
   },
   "outputs": [],
   "source": [
    "import math\n",
    "\n",
    "class OptimalGroupTempreture():\n",
    "    def __init__(self, minTs, maxTs, sensitivity=1.0, defaultMinMaxRange=1.0):\n",
    "        \"\"\"\n",
    "        sensitivity > 0, less means more sensitive\n",
    "        defaultMinMaxRange > 0 or == None\n",
    "        \"\"\"\n",
    "        if len(minTs) != len(maxTs):\n",
    "            print('Length of min tempreture records and max tempretur records are not equal!')\n",
    "            return None\n",
    "        self.minTs = minTs\n",
    "        self.maxTs = maxTs\n",
    "        self.sensitivity = sensitivity\n",
    "        self.defaultMinMaxRange = defaultMinMaxRange\n",
    "        self.otdDF = None\n",
    "        self.optimalTargetTemperatureOTD = None\n",
    "        self.max_otd = None\n",
    "        self.min_otd = None\n",
    "    \n",
    "    def getTempreture(self, model='auto', sensitivePeoplePercentageLimit=0.1, sensitiveRange=2, ppd=0.1):\n",
    "        \"\"\"\n",
    "        model = 'auto', 'sensitive first', 'otd model'\n",
    "        sensitivePeoplePercentage is > 0 and < 1\n",
    "        sensitiveRange is > 0, unit is Fahrenheit Degree\n",
    "        ppd: only for OTD model\n",
    "        \"\"\"\n",
    "        minTs = self.minTs\n",
    "        maxTs = self.maxTs\n",
    "\n",
    "        if self.defaultMinMaxRange is not None:\n",
    "            avgTs = [(maxTs[i] + minTs[i]) / 2 for i in range(len(minTs))]\n",
    "            tRanges = [maxTs[i] - minTs[i] for i in range(len(minTs))]\n",
    "            checkedtRanges = []\n",
    "            for i in range(len(tRanges)):\n",
    "                t = tRanges[i] if tRanges[i] > 0 else self.defaultMinMaxRange\n",
    "                checkedtRanges.append(t)\n",
    "        else:\n",
    "            avgTs = []\n",
    "            tRanges = [maxTs[i] - minTs[i] for i in range(len(minTs))]\n",
    "            checkedtRanges = []\n",
    "            for i in range(len(tRanges)):\n",
    "                if tRanges[i] > 0:\n",
    "                    t = tRanges[i]\n",
    "                    checkedtRanges.append(t)\n",
    "                    avgTs.append((maxTs[i] + minTs[i]) / 2)\n",
    "\n",
    "        # model selection\n",
    "        if model == 'sensitive first':\n",
    "            print('sensitive first model')\n",
    "            targetTempreture = self.sensitiveFirst(checkedtRanges, avgTs)\n",
    "        elif model == 'otd model':\n",
    "            print('otd model')\n",
    "            targetTempreture = self.otdModel(checkedtRanges, avgTs, ppd)\n",
    "        elif model == 'auto':\n",
    "            lengthOfSensitivePeople = len([tRange for tRange in checkedtRanges if tRange <= sensitiveRange])\n",
    "            if lengthOfSensitivePeople / len(checkedtRanges) >= sensitivePeoplePercentageLimit:\n",
    "                print('sensitive first model')\n",
    "                print('sensitive people percentage:', lengthOfSensitivePeople / len(checkedtRanges))\n",
    "                targetTempreture = self.sensitiveFirst(checkedtRanges, avgTs)\n",
    "            else:\n",
    "                print('otd model')\n",
    "                targetTempreture = self.otdModel(checkedtRanges, avgTs, ppd)\n",
    "                if targetTempreture is None:\n",
    "                    print('otd model does not find a acceptable value, use sensitive first model')\n",
    "                    targetTempreture = self.sensitiveFirst(checkedtRanges, avgTs)\n",
    "        else:\n",
    "            print('Wrong model')\n",
    "            return None\n",
    "\n",
    "        return targetTempreture\n",
    "\n",
    "    def sensitiveFirst(self, checkedtRanges, averageTs):\n",
    "        weights = [self.computeWeight(tRange) for tRange in checkedtRanges]\n",
    "        weightedTs = [averageTs[i] * weights[i] for i in range(len(averageTs))]\n",
    "        targetTempreture = sum(weightedTs) / sum(weights)\n",
    "        return targetTempreture\n",
    "\n",
    "    def computeWeight(self, tRange):\n",
    "        return (1 / tRange) ** self.sensitivity\n",
    "\n",
    "    def otdModel(self, checkedtRanges, averageTs, ppd):\n",
    "        forFig = []\n",
    "        numberOfPeople = len(checkedtRanges)\n",
    "        permitNumberOfUncomfortablePeople = math.floor(numberOfPeople * ppd)\n",
    "        otdMax = (numberOfPeople - permitNumberOfUncomfortablePeople) * 1 + \\\n",
    "            permitNumberOfUncomfortablePeople * (numberOfPeople + 1)\n",
    "\n",
    "        rangeTs = [self.otdDecideComfortness(checkedtRanges[i], averageTs[i]) for i in range(len(checkedtRanges))]\n",
    "\n",
    "        # find minT and maxT\n",
    "        minT = min([averageTs[i] - checkedtRanges[i] / 2 for i in range(len(checkedtRanges))])\n",
    "        maxT = max([averageTs[i] + checkedtRanges[i] / 2 for i in range(len(checkedtRanges))])\n",
    "\n",
    "        acceptableTs = []\n",
    "        max_otd = float('-inf')\n",
    "        min_otd = float('inf')\n",
    "        for t10 in range(int(minT * 10), int(maxT * 10) + 1):\n",
    "            t = t10 / 10\n",
    "            otd = self.computeOTD(t, numberOfPeople, rangeTs)\n",
    "            \n",
    "            forFig.append([t, otd, 1])\n",
    "            max_otd = max(max_otd, otd)\n",
    "            min_otd = min(min_otd, otd)\n",
    "            if otd <= otdMax:\n",
    "                acceptableTs.append([t, otd])\n",
    "        \n",
    "        self.max_otd = max_otd\n",
    "        self.min_otd = min_otd\n",
    "        \n",
    "        if acceptableTs == []:\n",
    "            return None\n",
    "        acceptableTs.sort(key=lambda x: x[1])\n",
    "        maxValues = [acceptableTs[0][0]]\n",
    "        for i in range(1, len(acceptableTs)):\n",
    "            if acceptableTs[i][1] == acceptableTs[0][1]:\n",
    "                maxValues.append(acceptableTs[i][0])\n",
    "#         print(acceptableTs)\n",
    "        opt_temp = sum(maxValues) / len(maxValues)\n",
    "        forFig.append([opt_temp, self.computeOTD(opt_temp, numberOfPeople, rangeTs), 20])\n",
    "        self.otdDF = pd.DataFrame(forFig, columns=['temperature(°C)', 'otd', 'isFinal'])\n",
    "        \n",
    "        self.optimalTargetTemperatureOTD = opt_temp\n",
    "        return opt_temp\n",
    "    \n",
    "    def computeOTD(self, t, numberOfPeople, rangeTs):\n",
    "        otd = 0\n",
    "        for x in rangeTs:\n",
    "            if t >= x[0][0] and t <= x[0][1]:\n",
    "                otd += 0\n",
    "            elif t >= x[1][0] and t <= x[1][1]:\n",
    "                otd += 1\n",
    "            elif t >= x[2][0] and t <= x[2][1]:\n",
    "                otd += numberOfPeople + 1\n",
    "            else:\n",
    "                otd = (numberOfPeople + 1) * 2\n",
    "        return otd\n",
    "\n",
    "                \n",
    "    def otdDecideComfortness(self, checkedtRange, averageT, \\\n",
    "                            littleUncomfortable=[1 , 1.4], \\\n",
    "                            uncomfortable=[1.4, 1.7]):\n",
    "        radius = checkedtRange / 2\n",
    "        rangeComfortable = [averageT - radius * littleUncomfortable[0], averageT + radius * littleUncomfortable[0]]\n",
    "        rangeLittleUncomfortable = [averageT - radius * littleUncomfortable[1], averageT + radius * littleUncomfortable[1]]\n",
    "        rangeUncomfortable = [averageT - radius * uncomfortable[1], averageT + radius * uncomfortable[1]]\n",
    "        return [rangeComfortable, rangeLittleUncomfortable, rangeUncomfortable]\n",
    "    \n",
    "    def drawOtdValue(self):\n",
    "        ct = sns.color_palette()\n",
    "        ct = [ct[2], ct[3]]\n",
    "        sns.set_theme(style=\"darkgrid\")\n",
    "        sns.relplot(x=\"temperature(°C)\", y=\"otd\", data=self.otdDF, hue=\"isFinal\", palette=ct, \\\n",
    "                    size=\"isFinal\", height=7, aspect=16/9)"
   ]
  },
  {
   "cell_type": "code",
   "execution_count": 29,
   "metadata": {
    "ExecuteTime": {
     "end_time": "2021-01-28T12:41:41.905807Z",
     "start_time": "2021-01-28T12:41:41.891810Z"
    }
   },
   "outputs": [],
   "source": [
    "ogt = OptimalGroupTempreture(y_pred_min, y_pred_max, defaultMinMaxRange=None)"
   ]
  },
  {
   "cell_type": "code",
   "execution_count": 30,
   "metadata": {
    "ExecuteTime": {
     "end_time": "2021-01-28T12:41:41.921807Z",
     "start_time": "2021-01-28T12:41:41.906810Z"
    }
   },
   "outputs": [
    {
     "name": "stdout",
     "output_type": "stream",
     "text": [
      "sensitive first model\n",
      "sensitive people percentage: 1.0\n"
     ]
    },
    {
     "data": {
      "text/plain": [
       "25.315102169999328"
      ]
     },
     "execution_count": 30,
     "metadata": {},
     "output_type": "execute_result"
    }
   ],
   "source": [
    "# use sensitive first model to predict the group comfortable tempreture\n",
    "ogt.getTempreture(sensitiveRange=4)"
   ]
  },
  {
   "cell_type": "code",
   "execution_count": 31,
   "metadata": {
    "ExecuteTime": {
     "end_time": "2021-01-28T12:41:41.936808Z",
     "start_time": "2021-01-28T12:41:41.922809Z"
    }
   },
   "outputs": [
    {
     "name": "stdout",
     "output_type": "stream",
     "text": [
      "otd model\n"
     ]
    },
    {
     "data": {
      "text/plain": [
       "25.4859649122807"
      ]
     },
     "execution_count": 31,
     "metadata": {},
     "output_type": "execute_result"
    }
   ],
   "source": [
    "# use otd model to predict the group comfortable tempreture\n",
    "ogt.getTempreture(model='otd model', ppd=0.1)"
   ]
  },
  {
   "cell_type": "code",
   "execution_count": 32,
   "metadata": {
    "ExecuteTime": {
     "end_time": "2021-01-28T12:41:41.952809Z",
     "start_time": "2021-01-28T12:41:41.937808Z"
    }
   },
   "outputs": [
    {
     "data": {
      "text/html": [
       "<div>\n",
       "<style scoped>\n",
       "    .dataframe tbody tr th:only-of-type {\n",
       "        vertical-align: middle;\n",
       "    }\n",
       "\n",
       "    .dataframe tbody tr th {\n",
       "        vertical-align: top;\n",
       "    }\n",
       "\n",
       "    .dataframe thead th {\n",
       "        text-align: right;\n",
       "    }\n",
       "</style>\n",
       "<table border=\"1\" class=\"dataframe\">\n",
       "  <thead>\n",
       "    <tr style=\"text-align: right;\">\n",
       "      <th></th>\n",
       "      <th>temperature(°C)</th>\n",
       "      <th>otd</th>\n",
       "      <th>isFinal</th>\n",
       "    </tr>\n",
       "  </thead>\n",
       "  <tbody>\n",
       "    <tr>\n",
       "      <th>0</th>\n",
       "      <td>22.500000</td>\n",
       "      <td>128</td>\n",
       "      <td>1</td>\n",
       "    </tr>\n",
       "    <tr>\n",
       "      <th>1</th>\n",
       "      <td>22.600000</td>\n",
       "      <td>128</td>\n",
       "      <td>1</td>\n",
       "    </tr>\n",
       "    <tr>\n",
       "      <th>2</th>\n",
       "      <td>22.700000</td>\n",
       "      <td>128</td>\n",
       "      <td>1</td>\n",
       "    </tr>\n",
       "    <tr>\n",
       "      <th>3</th>\n",
       "      <td>22.800000</td>\n",
       "      <td>128</td>\n",
       "      <td>1</td>\n",
       "    </tr>\n",
       "    <tr>\n",
       "      <th>4</th>\n",
       "      <td>22.900000</td>\n",
       "      <td>128</td>\n",
       "      <td>1</td>\n",
       "    </tr>\n",
       "    <tr>\n",
       "      <th>...</th>\n",
       "      <td>...</td>\n",
       "      <td>...</td>\n",
       "      <td>...</td>\n",
       "    </tr>\n",
       "    <tr>\n",
       "      <th>57</th>\n",
       "      <td>28.200000</td>\n",
       "      <td>128</td>\n",
       "      <td>1</td>\n",
       "    </tr>\n",
       "    <tr>\n",
       "      <th>58</th>\n",
       "      <td>28.300000</td>\n",
       "      <td>128</td>\n",
       "      <td>1</td>\n",
       "    </tr>\n",
       "    <tr>\n",
       "      <th>59</th>\n",
       "      <td>28.400000</td>\n",
       "      <td>128</td>\n",
       "      <td>1</td>\n",
       "    </tr>\n",
       "    <tr>\n",
       "      <th>60</th>\n",
       "      <td>28.500000</td>\n",
       "      <td>128</td>\n",
       "      <td>1</td>\n",
       "    </tr>\n",
       "    <tr>\n",
       "      <th>61</th>\n",
       "      <td>25.485965</td>\n",
       "      <td>128</td>\n",
       "      <td>20</td>\n",
       "    </tr>\n",
       "  </tbody>\n",
       "</table>\n",
       "<p>62 rows × 3 columns</p>\n",
       "</div>"
      ],
      "text/plain": [
       "    temperature(°C)  otd  isFinal\n",
       "0         22.500000  128        1\n",
       "1         22.600000  128        1\n",
       "2         22.700000  128        1\n",
       "3         22.800000  128        1\n",
       "4         22.900000  128        1\n",
       "..              ...  ...      ...\n",
       "57        28.200000  128        1\n",
       "58        28.300000  128        1\n",
       "59        28.400000  128        1\n",
       "60        28.500000  128        1\n",
       "61        25.485965  128       20\n",
       "\n",
       "[62 rows x 3 columns]"
      ]
     },
     "execution_count": 32,
     "metadata": {},
     "output_type": "execute_result"
    }
   ],
   "source": [
    "ogt.otdDF"
   ]
  },
  {
   "cell_type": "code",
   "execution_count": 33,
   "metadata": {
    "ExecuteTime": {
     "end_time": "2021-01-28T12:41:42.255806Z",
     "start_time": "2021-01-28T12:41:41.953810Z"
    },
    "scrolled": false
   },
   "outputs": [
    {
     "data": {
      "image/png": "[encoded data removed]",
      "text/plain": [
       "<Figure size 947.85x504 with 1 Axes>"
      ]
     },
     "metadata": {},
     "output_type": "display_data"
    }
   ],
   "source": [
    "ogt.drawOtdValue()"
   ]
  },
  {
   "cell_type": "markdown",
   "metadata": {},
   "source": [
    "## exmine with other model"
   ]
  },
  {
   "cell_type": "markdown",
   "metadata": {},
   "source": [
    "### examine max prediction"
   ]
  },
  {
   "cell_type": "code",
   "execution_count": 34,
   "metadata": {
    "ExecuteTime": {
     "end_time": "2021-01-28T12:41:42.270806Z",
     "start_time": "2021-01-28T12:41:42.256809Z"
    }
   },
   "outputs": [],
   "source": [
    "y_pred_pmv = np.array(df_max['pmv_temp_max'])"
   ]
  },
  {
   "cell_type": "code",
   "execution_count": 35,
   "metadata": {
    "ExecuteTime": {
     "end_time": "2021-01-28T12:41:42.285808Z",
     "start_time": "2021-01-28T12:41:42.271809Z"
    }
   },
   "outputs": [
    {
     "data": {
      "text/plain": [
       "array([29.4, 30.7, 30.6, 30.6, 30.7, 30.6, 32. , 30.7, 30.9])"
      ]
     },
     "execution_count": 35,
     "metadata": {},
     "output_type": "execute_result"
    }
   ],
   "source": [
    "y_pred_pmv"
   ]
  },
  {
   "cell_type": "code",
   "execution_count": 36,
   "metadata": {
    "ExecuteTime": {
     "end_time": "2021-01-28T12:41:42.301806Z",
     "start_time": "2021-01-28T12:41:42.286809Z"
    }
   },
   "outputs": [],
   "source": [
    "X = df_max[X_columns]\n",
    "y_true = np.array(df_max['env_temp'])"
   ]
  },
  {
   "cell_type": "code",
   "execution_count": 37,
   "metadata": {
    "ExecuteTime": {
     "end_time": "2021-01-28T12:41:42.317819Z",
     "start_time": "2021-01-28T12:41:42.302807Z"
    }
   },
   "outputs": [],
   "source": [
    "y_true = np.array([convertFahrenheitToCelsius(f) for f in y_true])"
   ]
  },
  {
   "cell_type": "code",
   "execution_count": 38,
   "metadata": {
    "ExecuteTime": {
     "end_time": "2021-01-28T12:41:42.333819Z",
     "start_time": "2021-01-28T12:41:42.318821Z"
    }
   },
   "outputs": [
    {
     "data": {
      "text/plain": [
       "array([26.37777778, 27.17277778, 25.91388889, 27.235     , 26.81777778,\n",
       "       22.60888889, 26.37777778, 26.37777778, 24.84722222])"
      ]
     },
     "execution_count": 38,
     "metadata": {},
     "output_type": "execute_result"
    }
   ],
   "source": [
    "y_true"
   ]
  },
  {
   "cell_type": "code",
   "execution_count": 39,
   "metadata": {
    "ExecuteTime": {
     "end_time": "2021-01-28T12:41:42.413820Z",
     "start_time": "2021-01-28T12:41:42.334823Z"
    }
   },
   "outputs": [],
   "source": [
    "y_pred_rf = rfr_max.predict(X)"
   ]
  },
  {
   "cell_type": "code",
   "execution_count": 40,
   "metadata": {
    "ExecuteTime": {
     "end_time": "2021-01-28T12:41:42.429819Z",
     "start_time": "2021-01-28T12:41:42.414821Z"
    }
   },
   "outputs": [],
   "source": [
    "y_pred_rf = np.array([convertFahrenheitToCelsius(f) for f in y_pred_rf])"
   ]
  },
  {
   "cell_type": "code",
   "execution_count": 41,
   "metadata": {
    "ExecuteTime": {
     "end_time": "2021-01-28T12:41:42.445819Z",
     "start_time": "2021-01-28T12:41:42.430820Z"
    }
   },
   "outputs": [
    {
     "data": {
      "text/plain": [
       "array([26.38098667, 27.14169259, 25.99573852, 26.96327   , 26.89413704,\n",
       "       24.80595074, 26.07075704, 26.75300185, 26.03961778])"
      ]
     },
     "execution_count": 41,
     "metadata": {},
     "output_type": "execute_result"
    }
   ],
   "source": [
    "y_pred_rf"
   ]
  },
  {
   "cell_type": "markdown",
   "metadata": {},
   "source": [
    "#### max - mse"
   ]
  },
  {
   "cell_type": "code",
   "execution_count": 42,
   "metadata": {
    "ExecuteTime": {
     "end_time": "2021-01-28T12:41:42.461822Z",
     "start_time": "2021-01-28T12:41:42.446821Z"
    }
   },
   "outputs": [
    {
     "data": {
      "text/plain": [
       "0.7301429621923039"
      ]
     },
     "metadata": {},
     "output_type": "display_data"
    },
    {
     "data": {
      "text/plain": [
       "24.523844307270256"
      ]
     },
     "metadata": {},
     "output_type": "display_data"
    }
   ],
   "source": [
    "# mean squared error\n",
    "mse_rf = mean_squared_error(y_true, y_pred_rf)\n",
    "mse_pmv = mean_squared_error(y_true, y_pred_pmv)\n",
    "display(mse_rf)\n",
    "display(mse_pmv)"
   ]
  },
  {
   "cell_type": "code",
   "execution_count": 43,
   "metadata": {
    "ExecuteTime": {
     "end_time": "2021-01-28T12:41:42.477822Z",
     "start_time": "2021-01-28T12:41:42.463821Z"
    }
   },
   "outputs": [
    {
     "data": {
      "text/plain": [
       "0.970227222410809"
      ]
     },
     "execution_count": 43,
     "metadata": {},
     "output_type": "execute_result"
    }
   ],
   "source": [
    "# drop ratio\n",
    "(mse_pmv - mse_rf) / mse_pmv"
   ]
  },
  {
   "cell_type": "markdown",
   "metadata": {},
   "source": [
    "#### max - r2"
   ]
  },
  {
   "cell_type": "code",
   "execution_count": 44,
   "metadata": {
    "ExecuteTime": {
     "end_time": "2021-01-28T12:41:42.493819Z",
     "start_time": "2021-01-28T12:41:42.478820Z"
    }
   },
   "outputs": [
    {
     "data": {
      "text/plain": [
       "0.6094406330715989"
      ]
     },
     "metadata": {},
     "output_type": "display_data"
    },
    {
     "data": {
      "text/plain": [
       "-12.118002368384815"
      ]
     },
     "metadata": {},
     "output_type": "display_data"
    }
   ],
   "source": [
    "# R2 score\n",
    "r2_rf = r2_score(y_true, y_pred_rf)\n",
    "r2_pmv = r2_score(y_true, y_pred_pmv)\n",
    "display(r2_rf)\n",
    "display(r2_pmv)"
   ]
  },
  {
   "cell_type": "code",
   "execution_count": null,
   "metadata": {},
   "outputs": [],
   "source": []
  },
  {
   "cell_type": "markdown",
   "metadata": {},
   "source": [
    "### examine min prediction"
   ]
  },
  {
   "cell_type": "code",
   "execution_count": 45,
   "metadata": {
    "ExecuteTime": {
     "end_time": "2021-01-28T12:41:42.509820Z",
     "start_time": "2021-01-28T12:41:42.495822Z"
    }
   },
   "outputs": [],
   "source": [
    "y_pred_pmv = np.array(df_min['pmv_temp_min'])"
   ]
  },
  {
   "cell_type": "code",
   "execution_count": 46,
   "metadata": {
    "ExecuteTime": {
     "end_time": "2021-01-28T12:41:42.525819Z",
     "start_time": "2021-01-28T12:41:42.510823Z"
    }
   },
   "outputs": [
    {
     "data": {
      "text/plain": [
       "array([25. , 24.6, 26.5, 26.3, 27. , 21.3, 25.2, 27.5, 25.1, 25.7, 27. ,\n",
       "       26.3, 24. , 25.2, 25.2, 26.7, 28.5, 32. , 17. , 26.2, 26.4, 24.8,\n",
       "       31. , 26. , 27.8, 26.9, 18.6, 26.6, 21.7, 34.7, 26.2, 30. , 32.3,\n",
       "       24.6, 26.5, 26.2, 25.4, 18.3, 26.5, 29.9, 26.9, 18.2, 25.8, 27.7,\n",
       "       24.6, 24.8, 25.9, 22.6, 23.5, 24.5, 24.6, 24.8, 26.2, 27.1])"
      ]
     },
     "execution_count": 46,
     "metadata": {},
     "output_type": "execute_result"
    }
   ],
   "source": [
    "y_pred_pmv"
   ]
  },
  {
   "cell_type": "code",
   "execution_count": 47,
   "metadata": {
    "ExecuteTime": {
     "end_time": "2021-01-28T12:41:42.541819Z",
     "start_time": "2021-01-28T12:41:42.526822Z"
    }
   },
   "outputs": [],
   "source": [
    "X = df_min[X_columns]\n",
    "y_true = np.array(df_min['env_temp'])"
   ]
  },
  {
   "cell_type": "code",
   "execution_count": 48,
   "metadata": {
    "ExecuteTime": {
     "end_time": "2021-01-28T12:41:42.557819Z",
     "start_time": "2021-01-28T12:41:42.543821Z"
    }
   },
   "outputs": [],
   "source": [
    "y_true = np.array([convertFahrenheitToCelsius(f) for f in y_true])"
   ]
  },
  {
   "cell_type": "code",
   "execution_count": 49,
   "metadata": {
    "ExecuteTime": {
     "end_time": "2021-01-28T12:41:42.573820Z",
     "start_time": "2021-01-28T12:41:42.558821Z"
    }
   },
   "outputs": [
    {
     "data": {
      "text/plain": [
       "array([25.84111111, 26.39      , 24.64111111, 23.86888889, 23.67722222,\n",
       "       23.00388889, 24.65277778, 25.28277778, 25.01611111, 25.31888889,\n",
       "       23.77277778, 24.545     , 23.96611111, 24.75      , 23.71277778,\n",
       "       23.67722222, 24.545     , 24.06222222, 21.86722222, 25.02777778,\n",
       "       23.86888889, 23.48388889, 25.67111111, 24.06222222, 23.86888889,\n",
       "       25.30722222, 22.63277778, 23.67722222, 25.59777778, 24.58111111,\n",
       "       23.48388889, 24.835     , 23.80888889, 25.21      , 24.15777778,\n",
       "       23.19611111, 24.17111111, 23.545     , 23.77277778, 24.545     ,\n",
       "       25.16222222, 21.915     , 24.255     , 24.255     , 25.01611111,\n",
       "       24.12222222, 26.09722222, 24.545     , 25.31888889, 23.905     ,\n",
       "       23.665     , 24.15777778, 23.29222222, 25.42777778])"
      ]
     },
     "execution_count": 49,
     "metadata": {},
     "output_type": "execute_result"
    }
   ],
   "source": [
    "y_true"
   ]
  },
  {
   "cell_type": "code",
   "execution_count": 50,
   "metadata": {
    "ExecuteTime": {
     "end_time": "2021-01-28T12:41:42.652818Z",
     "start_time": "2021-01-28T12:41:42.575822Z"
    }
   },
   "outputs": [],
   "source": [
    "y_pred_rf = rfr_max.predict(X)"
   ]
  },
  {
   "cell_type": "code",
   "execution_count": 51,
   "metadata": {
    "ExecuteTime": {
     "end_time": "2021-01-28T12:41:42.668821Z",
     "start_time": "2021-01-28T12:41:42.653822Z"
    }
   },
   "outputs": [],
   "source": [
    "y_pred_rf = np.array([convertFahrenheitToCelsius(f) for f in y_pred_rf])"
   ]
  },
  {
   "cell_type": "code",
   "execution_count": 52,
   "metadata": {
    "ExecuteTime": {
     "end_time": "2021-01-28T12:41:42.684819Z",
     "start_time": "2021-01-28T12:41:42.670820Z"
    }
   },
   "outputs": [
    {
     "data": {
      "text/plain": [
       "array([26.76702815, 28.57730148, 25.68293889, 25.45968296, 27.23483963,\n",
       "       25.90016222, 26.14875481, 25.90394815, 26.12800185, 25.75053185,\n",
       "       27.28443333, 25.67265963, 27.25235667, 26.14587222, 26.42879296,\n",
       "       25.7917937 , 27.1870137 , 27.25681407, 25.47246222, 27.09418   ,\n",
       "       25.45574556, 25.49398296, 26.48346519, 25.65910667, 27.25977852,\n",
       "       26.50743593, 25.73104185, 27.18660778, 25.36556519, 26.41513259,\n",
       "       25.63090926, 25.1567537 , 25.17823037, 26.18545481, 25.42472444,\n",
       "       25.51269593, 26.42793148, 25.79203815, 25.51347074, 26.88564037,\n",
       "       25.51338407, 25.58147556, 25.83430593, 27.30930037, 26.20416074,\n",
       "       26.35091407, 26.56321815, 27.30116333, 25.29167407, 26.23136593,\n",
       "       26.44841741, 25.52892481, 25.34989852, 26.00658259])"
      ]
     },
     "execution_count": 52,
     "metadata": {},
     "output_type": "execute_result"
    }
   ],
   "source": [
    "y_pred_rf"
   ]
  },
  {
   "cell_type": "markdown",
   "metadata": {},
   "source": [
    "#### min - mse"
   ]
  },
  {
   "cell_type": "code",
   "execution_count": 53,
   "metadata": {
    "ExecuteTime": {
     "end_time": "2021-01-28T12:41:42.700819Z",
     "start_time": "2021-01-28T12:41:42.685820Z"
    }
   },
   "outputs": [
    {
     "data": {
      "text/plain": [
       "4.58138705963926"
      ]
     },
     "metadata": {},
     "output_type": "display_data"
    },
    {
     "data": {
      "text/plain": [
       "11.109685242341106"
      ]
     },
     "metadata": {},
     "output_type": "display_data"
    }
   ],
   "source": [
    "# mean squared error\n",
    "mse_rf = mean_squared_error(y_true, y_pred_rf)\n",
    "mse_pmv = mean_squared_error(y_true, y_pred_pmv)\n",
    "display(mse_rf)\n",
    "display(mse_pmv)"
   ]
  },
  {
   "cell_type": "code",
   "execution_count": 54,
   "metadata": {
    "ExecuteTime": {
     "end_time": "2021-01-28T12:41:42.716819Z",
     "start_time": "2021-01-28T12:41:42.701820Z"
    }
   },
   "outputs": [
    {
     "data": {
      "text/plain": [
       "0.5876222449418522"
      ]
     },
     "execution_count": 54,
     "metadata": {},
     "output_type": "execute_result"
    }
   ],
   "source": [
    "# drop ratio\n",
    "(mse_pmv - mse_rf) / mse_pmv"
   ]
  },
  {
   "cell_type": "markdown",
   "metadata": {},
   "source": [
    "#### min - r2"
   ]
  },
  {
   "cell_type": "code",
   "execution_count": 55,
   "metadata": {
    "ExecuteTime": {
     "end_time": "2021-01-28T12:41:42.732818Z",
     "start_time": "2021-01-28T12:41:42.717820Z"
    }
   },
   "outputs": [
    {
     "data": {
      "text/plain": [
       "-4.26559005452714"
      ]
     },
     "metadata": {},
     "output_type": "display_data"
    },
    {
     "data": {
      "text/plain": [
       "-11.768850865354409"
      ]
     },
     "metadata": {},
     "output_type": "display_data"
    }
   ],
   "source": [
    "# R2 score\n",
    "r2_rf = r2_score(y_true, y_pred_rf)\n",
    "r2_pmv = r2_score(y_true, y_pred_pmv)\n",
    "display(r2_rf)\n",
    "display(r2_pmv)"
   ]
  },
  {
   "cell_type": "code",
   "execution_count": null,
   "metadata": {},
   "outputs": [],
   "source": []
  },
  {
   "cell_type": "code",
   "execution_count": null,
   "metadata": {},
   "outputs": [],
   "source": []
  },
  {
   "cell_type": "code",
   "execution_count": null,
   "metadata": {},
   "outputs": [],
   "source": []
  },
  {
   "cell_type": "code",
   "execution_count": null,
   "metadata": {},
   "outputs": [],
   "source": []
  },
  {
   "cell_type": "code",
   "execution_count": null,
   "metadata": {},
   "outputs": [],
   "source": []
  },
  {
   "cell_type": "code",
   "execution_count": null,
   "metadata": {},
   "outputs": [],
   "source": []
  },
  {
   "cell_type": "code",
   "execution_count": null,
   "metadata": {},
   "outputs": [],
   "source": []
  },
  {
   "cell_type": "code",
   "execution_count": null,
   "metadata": {},
   "outputs": [],
   "source": []
  },
  {
   "cell_type": "code",
   "execution_count": null,
   "metadata": {},
   "outputs": [],
   "source": []
  },
  {
   "cell_type": "code",
   "execution_count": null,
   "metadata": {},
   "outputs": [],
   "source": []
  },
  {
   "cell_type": "code",
   "execution_count": null,
   "metadata": {},
   "outputs": [],
   "source": []
  },
  {
   "cell_type": "code",
   "execution_count": null,
   "metadata": {},
   "outputs": [],
   "source": []
  },
  {
   "cell_type": "code",
   "execution_count": null,
   "metadata": {},
   "outputs": [],
   "source": []
  },
  {
   "cell_type": "code",
   "execution_count": null,
   "metadata": {},
   "outputs": [],
   "source": []
  },
  {
   "cell_type": "code",
   "execution_count": null,
   "metadata": {},
   "outputs": [],
   "source": []
  }
 ],
 "metadata": {
  "kernelspec": {
   "display_name": "Python [conda env:ml]",
   "language": "python",
   "name": "conda-env-ml-py"
  },
  "language_info": {
   "codemirror_mode": {
    "name": "ipython",
    "version": 3
   },
   "file_extension": ".py",
   "mimetype": "text/x-python",
   "name": "python",
   "nbconvert_exporter": "python",
   "pygments_lexer": "ipython3",
   "version": "3.6.10"
  },
  "toc": {
   "base_numbering": 1,
   "nav_menu": {},
   "number_sections": true,
   "sideBar": true,
   "skip_h1_title": false,
   "title_cell": "Table of Contents",
   "title_sidebar": "Contents",
   "toc_cell": false,
   "toc_position": {
    "height": "calc(100% - 180px)",
    "left": "10px",
    "top": "150px",
    "width": "512px"
   },
   "toc_section_display": true,
   "toc_window_display": true
  }
 },
 "nbformat": 4,
 "nbformat_minor": 2
}
