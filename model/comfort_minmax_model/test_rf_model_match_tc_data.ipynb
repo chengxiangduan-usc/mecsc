{
 "cells": [
  {
   "cell_type": "code",
   "execution_count": 1,
   "metadata": {
    "ExecuteTime": {
     "end_time": "2021-02-16T11:01:08.976642Z",
     "start_time": "2021-02-16T11:01:08.970642Z"
    }
   },
   "outputs": [],
   "source": [
    "import random\n",
    "import math"
   ]
  },
  {
   "cell_type": "code",
   "execution_count": 2,
   "metadata": {
    "ExecuteTime": {
     "end_time": "2021-02-16T11:01:09.869640Z",
     "start_time": "2021-02-16T11:01:08.978641Z"
    }
   },
   "outputs": [],
   "source": [
    "%matplotlib inline\n",
    "import pandas as pd\n",
    "import numpy as np\n",
    "\n",
    "import matplotlib.pyplot as plt\n",
    "import seaborn as sns"
   ]
  },
  {
   "cell_type": "code",
   "execution_count": 3,
   "metadata": {
    "ExecuteTime": {
     "end_time": "2021-02-16T11:01:10.108172Z",
     "start_time": "2021-02-16T11:01:09.871645Z"
    }
   },
   "outputs": [],
   "source": [
    "# from sklearn.ensemble import RandomForestRegressor\n",
    "from sklearn.metrics import mean_squared_error, r2_score\n",
    "\n",
    "from sklearn import tree\n",
    "import joblib\n",
    "\n",
    "import scipy"
   ]
  },
  {
   "cell_type": "code",
   "execution_count": 4,
   "metadata": {
    "ExecuteTime": {
     "end_time": "2021-02-16T11:01:10.124170Z",
     "start_time": "2021-02-16T11:01:10.110167Z"
    }
   },
   "outputs": [],
   "source": [
    "plt.rcParams[\"figure.figsize\"] = (15, 17)"
   ]
  },
  {
   "cell_type": "code",
   "execution_count": 5,
   "metadata": {
    "ExecuteTime": {
     "end_time": "2021-02-16T11:01:10.140167Z",
     "start_time": "2021-02-16T11:01:10.125167Z"
    }
   },
   "outputs": [],
   "source": [
    "def convertFahrenheitToCelsius(f):\n",
    "    return (f - 32) / 1.8"
   ]
  },
  {
   "cell_type": "markdown",
   "metadata": {},
   "source": [
    "## load random forest model"
   ]
  },
  {
   "cell_type": "code",
   "execution_count": 6,
   "metadata": {
    "ExecuteTime": {
     "end_time": "2021-02-16T11:01:10.156166Z",
     "start_time": "2021-02-16T11:01:10.141169Z"
    }
   },
   "outputs": [],
   "source": [
    "filename_min = './min_random_forest_model.sav'\n",
    "filename_max = './max_random_forest_model.sav'"
   ]
  },
  {
   "cell_type": "code",
   "execution_count": 7,
   "metadata": {
    "ExecuteTime": {
     "end_time": "2021-02-16T11:01:10.506169Z",
     "start_time": "2021-02-16T11:01:10.157169Z"
    }
   },
   "outputs": [],
   "source": [
    "rfr_min = joblib.load(filename_min)\n",
    "rfr_max = joblib.load(filename_max)"
   ]
  },
  {
   "cell_type": "markdown",
   "metadata": {},
   "source": [
    "## create test data from test dataset"
   ]
  },
  {
   "cell_type": "code",
   "execution_count": 8,
   "metadata": {
    "ExecuteTime": {
     "end_time": "2021-02-16T11:01:10.521679Z",
     "start_time": "2021-02-16T11:01:10.508170Z"
    }
   },
   "outputs": [],
   "source": [
    "pth_rf = '../processed_data/RF_model_test_data.csv'\n",
    "df_rf = pd.read_csv(pth_rf)"
   ]
  },
  {
   "cell_type": "code",
   "execution_count": 9,
   "metadata": {
    "ExecuteTime": {
     "end_time": "2021-02-16T11:01:10.537679Z",
     "start_time": "2021-02-16T11:01:10.523682Z"
    }
   },
   "outputs": [
    {
     "data": {
      "text/plain": [
       "(6, 16)"
      ]
     },
     "execution_count": 9,
     "metadata": {},
     "output_type": "execute_result"
    }
   ],
   "source": [
    "df_rf.shape"
   ]
  },
  {
   "cell_type": "code",
   "execution_count": 10,
   "metadata": {
    "ExecuteTime": {
     "end_time": "2021-02-16T11:01:10.568682Z",
     "start_time": "2021-02-16T11:01:10.538683Z"
    },
    "scrolled": false
   },
   "outputs": [
    {
     "data": {
      "text/html": [
       "<div>\n",
       "<style scoped>\n",
       "    .dataframe tbody tr th:only-of-type {\n",
       "        vertical-align: middle;\n",
       "    }\n",
       "\n",
       "    .dataframe tbody tr th {\n",
       "        vertical-align: top;\n",
       "    }\n",
       "\n",
       "    .dataframe thead th {\n",
       "        text-align: right;\n",
       "    }\n",
       "</style>\n",
       "<table border=\"1\" class=\"dataframe\">\n",
       "  <thead>\n",
       "    <tr style=\"text-align: right;\">\n",
       "      <th></th>\n",
       "      <th>ID</th>\n",
       "      <th>height</th>\n",
       "      <th>weight</th>\n",
       "      <th>gender</th>\n",
       "      <th>bmi</th>\n",
       "      <th>age</th>\n",
       "      <th>env_temp</th>\n",
       "      <th>rh</th>\n",
       "      <th>heart_rate</th>\n",
       "      <th>stress_level</th>\n",
       "      <th>skin_temp</th>\n",
       "      <th>eda</th>\n",
       "      <th>Clo</th>\n",
       "      <th>Act</th>\n",
       "      <th>TC</th>\n",
       "      <th>TS</th>\n",
       "    </tr>\n",
       "  </thead>\n",
       "  <tbody>\n",
       "    <tr>\n",
       "      <th>0</th>\n",
       "      <td>4</td>\n",
       "      <td>1.77</td>\n",
       "      <td>68</td>\n",
       "      <td>-1</td>\n",
       "      <td>21.705129</td>\n",
       "      <td>24</td>\n",
       "      <td>24.797778</td>\n",
       "      <td>57.162</td>\n",
       "      <td>74.967033</td>\n",
       "      <td>37.323944</td>\n",
       "      <td>32.145839</td>\n",
       "      <td>0.267615</td>\n",
       "      <td>0.54</td>\n",
       "      <td>1.0</td>\n",
       "      <td>3</td>\n",
       "      <td>4</td>\n",
       "    </tr>\n",
       "    <tr>\n",
       "      <th>1</th>\n",
       "      <td>5</td>\n",
       "      <td>1.80</td>\n",
       "      <td>75</td>\n",
       "      <td>-1</td>\n",
       "      <td>23.148148</td>\n",
       "      <td>33</td>\n",
       "      <td>27.961111</td>\n",
       "      <td>41.130</td>\n",
       "      <td>69.000000</td>\n",
       "      <td>14.000000</td>\n",
       "      <td>31.719000</td>\n",
       "      <td>1.906977</td>\n",
       "      <td>0.31</td>\n",
       "      <td>1.0</td>\n",
       "      <td>5</td>\n",
       "      <td>5</td>\n",
       "    </tr>\n",
       "    <tr>\n",
       "      <th>2</th>\n",
       "      <td>10</td>\n",
       "      <td>1.63</td>\n",
       "      <td>50</td>\n",
       "      <td>1</td>\n",
       "      <td>18.818924</td>\n",
       "      <td>23</td>\n",
       "      <td>24.835000</td>\n",
       "      <td>60.040</td>\n",
       "      <td>76.582090</td>\n",
       "      <td>25.982456</td>\n",
       "      <td>30.008000</td>\n",
       "      <td>20.383879</td>\n",
       "      <td>0.31</td>\n",
       "      <td>2.5</td>\n",
       "      <td>3</td>\n",
       "      <td>6</td>\n",
       "    </tr>\n",
       "    <tr>\n",
       "      <th>3</th>\n",
       "      <td>12</td>\n",
       "      <td>1.62</td>\n",
       "      <td>56</td>\n",
       "      <td>1</td>\n",
       "      <td>21.338211</td>\n",
       "      <td>24</td>\n",
       "      <td>25.088889</td>\n",
       "      <td>53.862</td>\n",
       "      <td>98.000000</td>\n",
       "      <td>79.000000</td>\n",
       "      <td>31.456394</td>\n",
       "      <td>0.030935</td>\n",
       "      <td>0.61</td>\n",
       "      <td>1.8</td>\n",
       "      <td>4</td>\n",
       "      <td>5</td>\n",
       "    </tr>\n",
       "    <tr>\n",
       "      <th>4</th>\n",
       "      <td>14</td>\n",
       "      <td>1.77</td>\n",
       "      <td>68</td>\n",
       "      <td>-1</td>\n",
       "      <td>21.705129</td>\n",
       "      <td>24</td>\n",
       "      <td>24.652778</td>\n",
       "      <td>53.962</td>\n",
       "      <td>86.000000</td>\n",
       "      <td>57.000000</td>\n",
       "      <td>31.766986</td>\n",
       "      <td>0.019934</td>\n",
       "      <td>0.54</td>\n",
       "      <td>1.0</td>\n",
       "      <td>2</td>\n",
       "      <td>3</td>\n",
       "    </tr>\n",
       "    <tr>\n",
       "      <th>5</th>\n",
       "      <td>22</td>\n",
       "      <td>1.62</td>\n",
       "      <td>56</td>\n",
       "      <td>1</td>\n",
       "      <td>21.338211</td>\n",
       "      <td>24</td>\n",
       "      <td>25.671111</td>\n",
       "      <td>23.458</td>\n",
       "      <td>78.000000</td>\n",
       "      <td>38.000000</td>\n",
       "      <td>31.779339</td>\n",
       "      <td>0.034290</td>\n",
       "      <td>0.57</td>\n",
       "      <td>1.0</td>\n",
       "      <td>4</td>\n",
       "      <td>3</td>\n",
       "    </tr>\n",
       "  </tbody>\n",
       "</table>\n",
       "</div>"
      ],
      "text/plain": [
       "   ID  height  weight  gender        bmi  age   env_temp      rh  heart_rate  \\\n",
       "0   4    1.77      68      -1  21.705129   24  24.797778  57.162   74.967033   \n",
       "1   5    1.80      75      -1  23.148148   33  27.961111  41.130   69.000000   \n",
       "2  10    1.63      50       1  18.818924   23  24.835000  60.040   76.582090   \n",
       "3  12    1.62      56       1  21.338211   24  25.088889  53.862   98.000000   \n",
       "4  14    1.77      68      -1  21.705129   24  24.652778  53.962   86.000000   \n",
       "5  22    1.62      56       1  21.338211   24  25.671111  23.458   78.000000   \n",
       "\n",
       "   stress_level  skin_temp        eda   Clo  Act  TC  TS  \n",
       "0     37.323944  32.145839   0.267615  0.54  1.0   3   4  \n",
       "1     14.000000  31.719000   1.906977  0.31  1.0   5   5  \n",
       "2     25.982456  30.008000  20.383879  0.31  2.5   3   6  \n",
       "3     79.000000  31.456394   0.030935  0.61  1.8   4   5  \n",
       "4     57.000000  31.766986   0.019934  0.54  1.0   2   3  \n",
       "5     38.000000  31.779339   0.034290  0.57  1.0   4   3  "
      ]
     },
     "execution_count": 10,
     "metadata": {},
     "output_type": "execute_result"
    }
   ],
   "source": [
    "df_rf"
   ]
  },
  {
   "cell_type": "code",
   "execution_count": 11,
   "metadata": {
    "ExecuteTime": {
     "end_time": "2021-02-16T11:01:10.584684Z",
     "start_time": "2021-02-16T11:01:10.570681Z"
    }
   },
   "outputs": [],
   "source": [
    "X_columns = ['height', 'weight', 'gender', 'bmi', 'age', 'rh', \\\n",
    "              'heart_rate', 'stress_level', 'skin_temp', 'eda', \\\n",
    "              'Clo', 'Act']"
   ]
  },
  {
   "cell_type": "code",
   "execution_count": 12,
   "metadata": {
    "ExecuteTime": {
     "end_time": "2021-02-16T11:01:10.600682Z",
     "start_time": "2021-02-16T11:01:10.585683Z"
    }
   },
   "outputs": [],
   "source": [
    "X = df_rf[X_columns]\n",
    "y = df_rf['env_temp']"
   ]
  },
  {
   "cell_type": "markdown",
   "metadata": {},
   "source": [
    "## predict"
   ]
  },
  {
   "cell_type": "markdown",
   "metadata": {},
   "source": [
    "### predict comfort zone min value"
   ]
  },
  {
   "cell_type": "code",
   "execution_count": 13,
   "metadata": {
    "ExecuteTime": {
     "end_time": "2021-02-16T11:01:10.632680Z",
     "start_time": "2021-02-16T11:01:10.601682Z"
    }
   },
   "outputs": [],
   "source": [
    "y_pred_min = rfr_min.predict(X)"
   ]
  },
  {
   "cell_type": "markdown",
   "metadata": {},
   "source": [
    "### transfer to Celsius"
   ]
  },
  {
   "cell_type": "code",
   "execution_count": 14,
   "metadata": {
    "ExecuteTime": {
     "end_time": "2021-02-16T11:01:10.648680Z",
     "start_time": "2021-02-16T11:01:10.633681Z"
    }
   },
   "outputs": [
    {
     "data": {
      "text/plain": [
       "array([25.01105787, 24.34987963, 25.3478588 , 25.13504398, 24.50170718,\n",
       "       24.05398495])"
      ]
     },
     "execution_count": 14,
     "metadata": {},
     "output_type": "execute_result"
    }
   ],
   "source": [
    "y_pred_min"
   ]
  },
  {
   "cell_type": "markdown",
   "metadata": {},
   "source": [
    "### predict comfort zone max value"
   ]
  },
  {
   "cell_type": "code",
   "execution_count": 15,
   "metadata": {
    "ExecuteTime": {
     "end_time": "2021-02-16T11:01:10.712682Z",
     "start_time": "2021-02-16T11:01:10.649683Z"
    }
   },
   "outputs": [],
   "source": [
    "y_pred_max = rfr_max.predict(X)"
   ]
  },
  {
   "cell_type": "markdown",
   "metadata": {},
   "source": [
    "### transfer to Celsius"
   ]
  },
  {
   "cell_type": "code",
   "execution_count": 16,
   "metadata": {
    "ExecuteTime": {
     "end_time": "2021-02-16T11:01:10.728684Z",
     "start_time": "2021-02-16T11:01:10.713683Z"
    }
   },
   "outputs": [
    {
     "data": {
      "text/plain": [
       "array([26.71903125, 28.75644494, 25.79952331, 25.94563145, 26.70554167,\n",
       "       26.24813046])"
      ]
     },
     "execution_count": 16,
     "metadata": {},
     "output_type": "execute_result"
    }
   ],
   "source": [
    "y_pred_max"
   ]
  },
  {
   "cell_type": "markdown",
   "metadata": {},
   "source": [
    "### detect error"
   ]
  },
  {
   "cell_type": "code",
   "execution_count": 17,
   "metadata": {
    "ExecuteTime": {
     "end_time": "2021-02-16T11:01:10.744684Z",
     "start_time": "2021-02-16T11:01:10.730683Z"
    }
   },
   "outputs": [],
   "source": [
    "errorIdx = []\n",
    "for i in range(len(y_pred_min)):\n",
    "    if y_pred_max[i] <= y_pred_min[i]:\n",
    "        errorIdx.append(i)"
   ]
  },
  {
   "cell_type": "code",
   "execution_count": 18,
   "metadata": {
    "ExecuteTime": {
     "end_time": "2021-02-16T11:01:10.760685Z",
     "start_time": "2021-02-16T11:01:10.746682Z"
    }
   },
   "outputs": [
    {
     "data": {
      "text/plain": [
       "[]"
      ]
     },
     "execution_count": 18,
     "metadata": {},
     "output_type": "execute_result"
    }
   ],
   "source": [
    "errorIdx"
   ]
  },
  {
   "cell_type": "code",
   "execution_count": 19,
   "metadata": {
    "ExecuteTime": {
     "end_time": "2021-02-16T11:01:10.776684Z",
     "start_time": "2021-02-16T11:01:10.761683Z"
    }
   },
   "outputs": [
    {
     "data": {
      "text/html": [
       "<div>\n",
       "<style scoped>\n",
       "    .dataframe tbody tr th:only-of-type {\n",
       "        vertical-align: middle;\n",
       "    }\n",
       "\n",
       "    .dataframe tbody tr th {\n",
       "        vertical-align: top;\n",
       "    }\n",
       "\n",
       "    .dataframe thead th {\n",
       "        text-align: right;\n",
       "    }\n",
       "</style>\n",
       "<table border=\"1\" class=\"dataframe\">\n",
       "  <thead>\n",
       "    <tr style=\"text-align: right;\">\n",
       "      <th></th>\n",
       "      <th>ID</th>\n",
       "      <th>height</th>\n",
       "      <th>weight</th>\n",
       "      <th>gender</th>\n",
       "      <th>bmi</th>\n",
       "      <th>age</th>\n",
       "      <th>env_temp</th>\n",
       "      <th>rh</th>\n",
       "      <th>heart_rate</th>\n",
       "      <th>stress_level</th>\n",
       "      <th>skin_temp</th>\n",
       "      <th>eda</th>\n",
       "      <th>Clo</th>\n",
       "      <th>Act</th>\n",
       "      <th>TC</th>\n",
       "      <th>TS</th>\n",
       "    </tr>\n",
       "  </thead>\n",
       "  <tbody>\n",
       "  </tbody>\n",
       "</table>\n",
       "</div>"
      ],
      "text/plain": [
       "Empty DataFrame\n",
       "Columns: [ID, height, weight, gender, bmi, age, env_temp, rh, heart_rate, stress_level, skin_temp, eda, Clo, Act, TC, TS]\n",
       "Index: []"
      ]
     },
     "execution_count": 19,
     "metadata": {},
     "output_type": "execute_result"
    }
   ],
   "source": [
    "df_rf.iloc[errorIdx,:]"
   ]
  },
  {
   "cell_type": "markdown",
   "metadata": {},
   "source": [
    "### delete the unacceptable values"
   ]
  },
  {
   "cell_type": "code",
   "execution_count": 20,
   "metadata": {
    "ExecuteTime": {
     "end_time": "2021-02-16T11:01:10.791680Z",
     "start_time": "2021-02-16T11:01:10.778682Z"
    }
   },
   "outputs": [],
   "source": [
    "t_min = []\n",
    "t_max = []\n",
    "for i in range(len(y_pred_min)):\n",
    "    if y_pred_min[i] <= y_pred_max[i]:\n",
    "        t_min.append(y_pred_min[i])\n",
    "        t_max.append(y_pred_max[i])\n",
    "    else:\n",
    "        t_min.append(y_pred_min[i])\n",
    "        t_max.append(y_pred_min[i])"
   ]
  },
  {
   "cell_type": "code",
   "execution_count": 21,
   "metadata": {
    "ExecuteTime": {
     "end_time": "2021-02-16T11:01:10.807679Z",
     "start_time": "2021-02-16T11:01:10.794682Z"
    }
   },
   "outputs": [
    {
     "data": {
      "text/plain": [
       "6"
      ]
     },
     "execution_count": 21,
     "metadata": {},
     "output_type": "execute_result"
    }
   ],
   "source": [
    "len(t_min)"
   ]
  },
  {
   "cell_type": "markdown",
   "metadata": {},
   "source": [
    "### plot zone"
   ]
  },
  {
   "cell_type": "code",
   "execution_count": 22,
   "metadata": {
    "ExecuteTime": {
     "end_time": "2021-02-16T11:01:10.934680Z",
     "start_time": "2021-02-16T11:01:10.809683Z"
    }
   },
   "outputs": [
    {
     "data": {
      "image/png": "[encoded data removed]",
      "text/plain": [
       "<Figure size 1080x432 with 1 Axes>"
      ]
     },
     "metadata": {
      "needs_background": "light"
     },
     "output_type": "display_data"
    }
   ],
   "source": [
    "plt.rcParams[\"figure.figsize\"] = (15, 6)\n",
    "# draw comfort zone\n",
    "for i in range(len(t_min)):\n",
    "    plt.plot([t_min[i], t_max[i]],[i, i])\n",
    "    \n",
    "# tag comfort zone min $ max\n",
    "for i in range(len(t_min)):\n",
    "    plt.text(t_min[i]- 0.23, i+0.2, \"%.2f°C\" % t_min[i])\n",
    "    plt.text(t_max[i], i+0.2, \"%.2f°C\" % t_max[i])\n",
    "\n",
    "plt.show()"
   ]
  },
  {
   "cell_type": "markdown",
   "metadata": {},
   "source": [
    "## predict group tempreture model"
   ]
  },
  {
   "cell_type": "code",
   "execution_count": 23,
   "metadata": {
    "ExecuteTime": {
     "end_time": "2021-02-16T11:01:10.966680Z",
     "start_time": "2021-02-16T11:01:10.936683Z"
    }
   },
   "outputs": [],
   "source": [
    "import math\n",
    "\n",
    "class OptimalGroupTempreture():\n",
    "    def __init__(self, minTs, maxTs, sensitivity=1.0, defaultMinMaxRange=1.0):\n",
    "        \"\"\"\n",
    "        sensitivity > 0, less means more sensitive\n",
    "        defaultMinMaxRange > 0 or == None\n",
    "        \"\"\"\n",
    "        if len(minTs) != len(maxTs):\n",
    "            print('Length of min tempreture records and max tempretur records are not equal!')\n",
    "            return None\n",
    "        self.minTs = minTs\n",
    "        self.maxTs = maxTs\n",
    "        self.sensitivity = sensitivity\n",
    "        self.defaultMinMaxRange = defaultMinMaxRange\n",
    "        self.otdDF = None\n",
    "        self.optimalTargetTemperatureOTD = None\n",
    "        self.max_otd = None\n",
    "        self.min_otd = None\n",
    "    \n",
    "    def getTempreture(self, model='auto', sensitivePeoplePercentageLimit=0.1, sensitiveRange=2, ppd=0.1):\n",
    "        \"\"\"\n",
    "        model = 'auto', 'sensitive first', 'otd model'\n",
    "        sensitivePeoplePercentage is > 0 and < 1\n",
    "        sensitiveRange is > 0, unit is Fahrenheit Degree\n",
    "        ppd: only for OTD model\n",
    "        \"\"\"\n",
    "        minTs = self.minTs\n",
    "        maxTs = self.maxTs\n",
    "\n",
    "        if self.defaultMinMaxRange is not None:\n",
    "            avgTs = [(maxTs[i] + minTs[i]) / 2 for i in range(len(minTs))]\n",
    "            tRanges = [maxTs[i] - minTs[i] for i in range(len(minTs))]\n",
    "            checkedtRanges = []\n",
    "            for i in range(len(tRanges)):\n",
    "                t = tRanges[i] if tRanges[i] > 0 else self.defaultMinMaxRange\n",
    "                checkedtRanges.append(t)\n",
    "        else:\n",
    "            avgTs = []\n",
    "            tRanges = [maxTs[i] - minTs[i] for i in range(len(minTs))]\n",
    "            checkedtRanges = []\n",
    "            for i in range(len(tRanges)):\n",
    "                if tRanges[i] > 0:\n",
    "                    t = tRanges[i]\n",
    "                    checkedtRanges.append(t)\n",
    "                    avgTs.append((maxTs[i] + minTs[i]) / 2)\n",
    "\n",
    "        # model selection\n",
    "        if model == 'sensitive first':\n",
    "            print('sensitive first model')\n",
    "            targetTempreture = self.sensitiveFirst(checkedtRanges, avgTs)\n",
    "        elif model == 'otd model':\n",
    "            print('otd model')\n",
    "            targetTempreture = self.otdModel(checkedtRanges, avgTs, ppd)\n",
    "        elif model == 'auto':\n",
    "            lengthOfSensitivePeople = len([tRange for tRange in checkedtRanges if tRange <= sensitiveRange])\n",
    "            if lengthOfSensitivePeople / len(checkedtRanges) >= sensitivePeoplePercentageLimit:\n",
    "                print('sensitive first model')\n",
    "                print('sensitive people percentage:', lengthOfSensitivePeople / len(checkedtRanges))\n",
    "                targetTempreture = self.sensitiveFirst(checkedtRanges, avgTs)\n",
    "            else:\n",
    "                print('otd model')\n",
    "                targetTempreture = self.otdModel(checkedtRanges, avgTs, ppd)\n",
    "                if targetTempreture is None:\n",
    "                    print('otd model does not find a acceptable value, use sensitive first model')\n",
    "                    targetTempreture = self.sensitiveFirst(checkedtRanges, avgTs)\n",
    "        else:\n",
    "            print('Wrong model')\n",
    "            return None\n",
    "\n",
    "        return targetTempreture\n",
    "\n",
    "    def sensitiveFirst(self, checkedtRanges, averageTs):\n",
    "        weights = [self.computeWeight(tRange) for tRange in checkedtRanges]\n",
    "        weightedTs = [averageTs[i] * weights[i] for i in range(len(averageTs))]\n",
    "        targetTempreture = sum(weightedTs) / sum(weights)\n",
    "        return targetTempreture\n",
    "\n",
    "    def computeWeight(self, tRange):\n",
    "        return (1 / tRange) ** self.sensitivity\n",
    "\n",
    "    def otdModel(self, checkedtRanges, averageTs, ppd):\n",
    "        forFig = []\n",
    "        numberOfPeople = len(checkedtRanges)\n",
    "        permitNumberOfUncomfortablePeople = math.floor(numberOfPeople * ppd)\n",
    "        otdMax = (numberOfPeople - permitNumberOfUncomfortablePeople) * 1 + \\\n",
    "            permitNumberOfUncomfortablePeople * (numberOfPeople + 1)\n",
    "\n",
    "        rangeTs = [self.otdDecideComfortness(checkedtRanges[i], averageTs[i]) for i in range(len(checkedtRanges))]\n",
    "\n",
    "        # find minT and maxT\n",
    "        minT = min([averageTs[i] - checkedtRanges[i] / 2 for i in range(len(checkedtRanges))])\n",
    "        maxT = max([averageTs[i] + checkedtRanges[i] / 2 for i in range(len(checkedtRanges))])\n",
    "\n",
    "        acceptableTs = []\n",
    "        max_otd = float('-inf')\n",
    "        min_otd = float('inf')\n",
    "        for t10 in range(int(minT * 10), int(maxT * 10) + 1):\n",
    "            t = t10 / 10\n",
    "            otd = self.computeOTD(t, numberOfPeople, rangeTs)\n",
    "            \n",
    "            forFig.append([t, otd, 1])\n",
    "            max_otd = max(max_otd, otd)\n",
    "            min_otd = min(min_otd, otd)\n",
    "            if otd <= otdMax:\n",
    "                acceptableTs.append([t, otd])\n",
    "        \n",
    "        self.max_otd = max_otd\n",
    "        self.min_otd = min_otd\n",
    "        \n",
    "        if acceptableTs == []:\n",
    "            return None\n",
    "        acceptableTs.sort(key=lambda x: x[1])\n",
    "        maxValues = [acceptableTs[0][0]]\n",
    "        for i in range(1, len(acceptableTs)):\n",
    "            if acceptableTs[i][1] == acceptableTs[0][1]:\n",
    "                maxValues.append(acceptableTs[i][0])\n",
    "#         print(acceptableTs)\n",
    "        opt_temp = sum(maxValues) / len(maxValues)\n",
    "        forFig.append([opt_temp, self.computeOTD(opt_temp, numberOfPeople, rangeTs), 20])\n",
    "        self.otdDF = pd.DataFrame(forFig, columns=['temperature(°C)', 'otd', 'isFinal'])\n",
    "        \n",
    "        self.optimalTargetTemperatureOTD = opt_temp\n",
    "        return opt_temp\n",
    "    \n",
    "    def computeOTD(self, t, numberOfPeople, rangeTs):\n",
    "        otd = 0\n",
    "        for x in rangeTs:\n",
    "            if t >= x[0][0] and t <= x[0][1]:\n",
    "                otd += 0\n",
    "            elif t >= x[1][0] and t <= x[1][1]:\n",
    "                otd += 1\n",
    "            elif t >= x[2][0] and t <= x[2][1]:\n",
    "                otd += numberOfPeople + 1\n",
    "            else:\n",
    "                otd += (numberOfPeople + 1) * 2\n",
    "        return otd\n",
    "\n",
    "                \n",
    "    def otdDecideComfortness(self, checkedtRange, averageT, \\\n",
    "                            littleUncomfortable=[1 , 1.4], \\\n",
    "                            uncomfortable=[1.4, 1.7]):\n",
    "        radius = checkedtRange / 2\n",
    "        rangeComfortable = [averageT - radius * littleUncomfortable[0], averageT + radius * littleUncomfortable[0]]\n",
    "        rangeLittleUncomfortable = [averageT - radius * littleUncomfortable[1], averageT + radius * littleUncomfortable[1]]\n",
    "        rangeUncomfortable = [averageT - radius * uncomfortable[1], averageT + radius * uncomfortable[1]]\n",
    "        return [rangeComfortable, rangeLittleUncomfortable, rangeUncomfortable]\n",
    "    \n",
    "    def drawOtdValue(self):\n",
    "        ct = sns.color_palette()\n",
    "        ct = [ct[2], ct[3]]\n",
    "        sns.set_theme(style=\"darkgrid\")\n",
    "        sns.relplot(x=\"temperature(°C)\", y=\"otd\", data=self.otdDF, hue=\"isFinal\", palette=ct, \\\n",
    "                    size=\"isFinal\", height=7, aspect=16/9)"
   ]
  },
  {
   "cell_type": "code",
   "execution_count": 24,
   "metadata": {
    "ExecuteTime": {
     "end_time": "2021-02-16T11:01:10.982698Z",
     "start_time": "2021-02-16T11:01:10.967681Z"
    }
   },
   "outputs": [],
   "source": [
    "ogt = OptimalGroupTempreture(y_pred_min, y_pred_max, defaultMinMaxRange=None)"
   ]
  },
  {
   "cell_type": "code",
   "execution_count": 25,
   "metadata": {
    "ExecuteTime": {
     "end_time": "2021-02-16T11:01:10.998694Z",
     "start_time": "2021-02-16T11:01:10.983697Z"
    }
   },
   "outputs": [
    {
     "name": "stdout",
     "output_type": "stream",
     "text": [
      "sensitive first model\n",
      "sensitive people percentage: 0.8333333333333334\n"
     ]
    },
    {
     "data": {
      "text/plain": [
       "25.607093058645585"
      ]
     },
     "execution_count": 25,
     "metadata": {},
     "output_type": "execute_result"
    }
   ],
   "source": [
    "# use sensitive first model to predict the group comfortable tempreture\n",
    "ogt.getTempreture(sensitiveRange=4)"
   ]
  },
  {
   "cell_type": "code",
   "execution_count": 26,
   "metadata": {
    "ExecuteTime": {
     "end_time": "2021-02-16T11:01:11.014694Z",
     "start_time": "2021-02-16T11:01:10.999696Z"
    }
   },
   "outputs": [
    {
     "name": "stdout",
     "output_type": "stream",
     "text": [
      "otd model\n"
     ]
    },
    {
     "data": {
      "text/plain": [
       "25.55"
      ]
     },
     "execution_count": 26,
     "metadata": {},
     "output_type": "execute_result"
    }
   ],
   "source": [
    "# use otd model to predict the group comfortable tempreture\n",
    "ogt.getTempreture(model='otd model', ppd=0.1)"
   ]
  },
  {
   "cell_type": "code",
   "execution_count": 27,
   "metadata": {
    "ExecuteTime": {
     "end_time": "2021-02-16T11:01:11.030698Z",
     "start_time": "2021-02-16T11:01:11.016696Z"
    }
   },
   "outputs": [
    {
     "data": {
      "text/html": [
       "<div>\n",
       "<style scoped>\n",
       "    .dataframe tbody tr th:only-of-type {\n",
       "        vertical-align: middle;\n",
       "    }\n",
       "\n",
       "    .dataframe tbody tr th {\n",
       "        vertical-align: top;\n",
       "    }\n",
       "\n",
       "    .dataframe thead th {\n",
       "        text-align: right;\n",
       "    }\n",
       "</style>\n",
       "<table border=\"1\" class=\"dataframe\">\n",
       "  <thead>\n",
       "    <tr style=\"text-align: right;\">\n",
       "      <th></th>\n",
       "      <th>temperature(°C)</th>\n",
       "      <th>otd</th>\n",
       "      <th>isFinal</th>\n",
       "    </tr>\n",
       "  </thead>\n",
       "  <tbody>\n",
       "    <tr>\n",
       "      <th>0</th>\n",
       "      <td>24.00</td>\n",
       "      <td>51</td>\n",
       "      <td>1</td>\n",
       "    </tr>\n",
       "    <tr>\n",
       "      <th>1</th>\n",
       "      <td>24.10</td>\n",
       "      <td>44</td>\n",
       "      <td>1</td>\n",
       "    </tr>\n",
       "    <tr>\n",
       "      <th>2</th>\n",
       "      <td>24.20</td>\n",
       "      <td>44</td>\n",
       "      <td>1</td>\n",
       "    </tr>\n",
       "    <tr>\n",
       "      <th>3</th>\n",
       "      <td>24.30</td>\n",
       "      <td>44</td>\n",
       "      <td>1</td>\n",
       "    </tr>\n",
       "    <tr>\n",
       "      <th>4</th>\n",
       "      <td>24.40</td>\n",
       "      <td>43</td>\n",
       "      <td>1</td>\n",
       "    </tr>\n",
       "    <tr>\n",
       "      <th>5</th>\n",
       "      <td>24.50</td>\n",
       "      <td>36</td>\n",
       "      <td>1</td>\n",
       "    </tr>\n",
       "    <tr>\n",
       "      <th>6</th>\n",
       "      <td>24.60</td>\n",
       "      <td>35</td>\n",
       "      <td>1</td>\n",
       "    </tr>\n",
       "    <tr>\n",
       "      <th>7</th>\n",
       "      <td>24.70</td>\n",
       "      <td>29</td>\n",
       "      <td>1</td>\n",
       "    </tr>\n",
       "    <tr>\n",
       "      <th>8</th>\n",
       "      <td>24.80</td>\n",
       "      <td>29</td>\n",
       "      <td>1</td>\n",
       "    </tr>\n",
       "    <tr>\n",
       "      <th>9</th>\n",
       "      <td>24.90</td>\n",
       "      <td>22</td>\n",
       "      <td>1</td>\n",
       "    </tr>\n",
       "    <tr>\n",
       "      <th>10</th>\n",
       "      <td>25.00</td>\n",
       "      <td>16</td>\n",
       "      <td>1</td>\n",
       "    </tr>\n",
       "    <tr>\n",
       "      <th>11</th>\n",
       "      <td>25.10</td>\n",
       "      <td>15</td>\n",
       "      <td>1</td>\n",
       "    </tr>\n",
       "    <tr>\n",
       "      <th>12</th>\n",
       "      <td>25.20</td>\n",
       "      <td>7</td>\n",
       "      <td>1</td>\n",
       "    </tr>\n",
       "    <tr>\n",
       "      <th>13</th>\n",
       "      <td>25.30</td>\n",
       "      <td>1</td>\n",
       "      <td>1</td>\n",
       "    </tr>\n",
       "    <tr>\n",
       "      <th>14</th>\n",
       "      <td>25.40</td>\n",
       "      <td>0</td>\n",
       "      <td>1</td>\n",
       "    </tr>\n",
       "    <tr>\n",
       "      <th>15</th>\n",
       "      <td>25.50</td>\n",
       "      <td>0</td>\n",
       "      <td>1</td>\n",
       "    </tr>\n",
       "    <tr>\n",
       "      <th>16</th>\n",
       "      <td>25.60</td>\n",
       "      <td>0</td>\n",
       "      <td>1</td>\n",
       "    </tr>\n",
       "    <tr>\n",
       "      <th>17</th>\n",
       "      <td>25.70</td>\n",
       "      <td>0</td>\n",
       "      <td>1</td>\n",
       "    </tr>\n",
       "    <tr>\n",
       "      <th>18</th>\n",
       "      <td>25.80</td>\n",
       "      <td>1</td>\n",
       "      <td>1</td>\n",
       "    </tr>\n",
       "    <tr>\n",
       "      <th>19</th>\n",
       "      <td>25.90</td>\n",
       "      <td>7</td>\n",
       "      <td>1</td>\n",
       "    </tr>\n",
       "    <tr>\n",
       "      <th>20</th>\n",
       "      <td>26.00</td>\n",
       "      <td>15</td>\n",
       "      <td>1</td>\n",
       "    </tr>\n",
       "    <tr>\n",
       "      <th>21</th>\n",
       "      <td>26.10</td>\n",
       "      <td>15</td>\n",
       "      <td>1</td>\n",
       "    </tr>\n",
       "    <tr>\n",
       "      <th>22</th>\n",
       "      <td>26.20</td>\n",
       "      <td>21</td>\n",
       "      <td>1</td>\n",
       "    </tr>\n",
       "    <tr>\n",
       "      <th>23</th>\n",
       "      <td>26.30</td>\n",
       "      <td>29</td>\n",
       "      <td>1</td>\n",
       "    </tr>\n",
       "    <tr>\n",
       "      <th>24</th>\n",
       "      <td>26.40</td>\n",
       "      <td>29</td>\n",
       "      <td>1</td>\n",
       "    </tr>\n",
       "    <tr>\n",
       "      <th>25</th>\n",
       "      <td>26.50</td>\n",
       "      <td>29</td>\n",
       "      <td>1</td>\n",
       "    </tr>\n",
       "    <tr>\n",
       "      <th>26</th>\n",
       "      <td>26.60</td>\n",
       "      <td>29</td>\n",
       "      <td>1</td>\n",
       "    </tr>\n",
       "    <tr>\n",
       "      <th>27</th>\n",
       "      <td>26.70</td>\n",
       "      <td>35</td>\n",
       "      <td>1</td>\n",
       "    </tr>\n",
       "    <tr>\n",
       "      <th>28</th>\n",
       "      <td>26.80</td>\n",
       "      <td>37</td>\n",
       "      <td>1</td>\n",
       "    </tr>\n",
       "    <tr>\n",
       "      <th>29</th>\n",
       "      <td>26.90</td>\n",
       "      <td>37</td>\n",
       "      <td>1</td>\n",
       "    </tr>\n",
       "    <tr>\n",
       "      <th>30</th>\n",
       "      <td>27.00</td>\n",
       "      <td>37</td>\n",
       "      <td>1</td>\n",
       "    </tr>\n",
       "    <tr>\n",
       "      <th>31</th>\n",
       "      <td>27.10</td>\n",
       "      <td>50</td>\n",
       "      <td>1</td>\n",
       "    </tr>\n",
       "    <tr>\n",
       "      <th>32</th>\n",
       "      <td>27.20</td>\n",
       "      <td>56</td>\n",
       "      <td>1</td>\n",
       "    </tr>\n",
       "    <tr>\n",
       "      <th>33</th>\n",
       "      <td>27.30</td>\n",
       "      <td>56</td>\n",
       "      <td>1</td>\n",
       "    </tr>\n",
       "    <tr>\n",
       "      <th>34</th>\n",
       "      <td>27.40</td>\n",
       "      <td>63</td>\n",
       "      <td>1</td>\n",
       "    </tr>\n",
       "    <tr>\n",
       "      <th>35</th>\n",
       "      <td>27.50</td>\n",
       "      <td>70</td>\n",
       "      <td>1</td>\n",
       "    </tr>\n",
       "    <tr>\n",
       "      <th>36</th>\n",
       "      <td>27.60</td>\n",
       "      <td>70</td>\n",
       "      <td>1</td>\n",
       "    </tr>\n",
       "    <tr>\n",
       "      <th>37</th>\n",
       "      <td>27.70</td>\n",
       "      <td>70</td>\n",
       "      <td>1</td>\n",
       "    </tr>\n",
       "    <tr>\n",
       "      <th>38</th>\n",
       "      <td>27.80</td>\n",
       "      <td>70</td>\n",
       "      <td>1</td>\n",
       "    </tr>\n",
       "    <tr>\n",
       "      <th>39</th>\n",
       "      <td>27.90</td>\n",
       "      <td>70</td>\n",
       "      <td>1</td>\n",
       "    </tr>\n",
       "    <tr>\n",
       "      <th>40</th>\n",
       "      <td>28.00</td>\n",
       "      <td>70</td>\n",
       "      <td>1</td>\n",
       "    </tr>\n",
       "    <tr>\n",
       "      <th>41</th>\n",
       "      <td>28.10</td>\n",
       "      <td>70</td>\n",
       "      <td>1</td>\n",
       "    </tr>\n",
       "    <tr>\n",
       "      <th>42</th>\n",
       "      <td>28.20</td>\n",
       "      <td>70</td>\n",
       "      <td>1</td>\n",
       "    </tr>\n",
       "    <tr>\n",
       "      <th>43</th>\n",
       "      <td>28.30</td>\n",
       "      <td>70</td>\n",
       "      <td>1</td>\n",
       "    </tr>\n",
       "    <tr>\n",
       "      <th>44</th>\n",
       "      <td>28.40</td>\n",
       "      <td>70</td>\n",
       "      <td>1</td>\n",
       "    </tr>\n",
       "    <tr>\n",
       "      <th>45</th>\n",
       "      <td>28.50</td>\n",
       "      <td>70</td>\n",
       "      <td>1</td>\n",
       "    </tr>\n",
       "    <tr>\n",
       "      <th>46</th>\n",
       "      <td>28.60</td>\n",
       "      <td>70</td>\n",
       "      <td>1</td>\n",
       "    </tr>\n",
       "    <tr>\n",
       "      <th>47</th>\n",
       "      <td>28.70</td>\n",
       "      <td>70</td>\n",
       "      <td>1</td>\n",
       "    </tr>\n",
       "    <tr>\n",
       "      <th>48</th>\n",
       "      <td>25.55</td>\n",
       "      <td>0</td>\n",
       "      <td>20</td>\n",
       "    </tr>\n",
       "  </tbody>\n",
       "</table>\n",
       "</div>"
      ],
      "text/plain": [
       "    temperature(°C)  otd  isFinal\n",
       "0             24.00   51        1\n",
       "1             24.10   44        1\n",
       "2             24.20   44        1\n",
       "3             24.30   44        1\n",
       "4             24.40   43        1\n",
       "5             24.50   36        1\n",
       "6             24.60   35        1\n",
       "7             24.70   29        1\n",
       "8             24.80   29        1\n",
       "9             24.90   22        1\n",
       "10            25.00   16        1\n",
       "11            25.10   15        1\n",
       "12            25.20    7        1\n",
       "13            25.30    1        1\n",
       "14            25.40    0        1\n",
       "15            25.50    0        1\n",
       "16            25.60    0        1\n",
       "17            25.70    0        1\n",
       "18            25.80    1        1\n",
       "19            25.90    7        1\n",
       "20            26.00   15        1\n",
       "21            26.10   15        1\n",
       "22            26.20   21        1\n",
       "23            26.30   29        1\n",
       "24            26.40   29        1\n",
       "25            26.50   29        1\n",
       "26            26.60   29        1\n",
       "27            26.70   35        1\n",
       "28            26.80   37        1\n",
       "29            26.90   37        1\n",
       "30            27.00   37        1\n",
       "31            27.10   50        1\n",
       "32            27.20   56        1\n",
       "33            27.30   56        1\n",
       "34            27.40   63        1\n",
       "35            27.50   70        1\n",
       "36            27.60   70        1\n",
       "37            27.70   70        1\n",
       "38            27.80   70        1\n",
       "39            27.90   70        1\n",
       "40            28.00   70        1\n",
       "41            28.10   70        1\n",
       "42            28.20   70        1\n",
       "43            28.30   70        1\n",
       "44            28.40   70        1\n",
       "45            28.50   70        1\n",
       "46            28.60   70        1\n",
       "47            28.70   70        1\n",
       "48            25.55    0       20"
      ]
     },
     "execution_count": 27,
     "metadata": {},
     "output_type": "execute_result"
    }
   ],
   "source": [
    "ogt.otdDF"
   ]
  },
  {
   "cell_type": "code",
   "execution_count": 28,
   "metadata": {
    "ExecuteTime": {
     "end_time": "2021-02-16T11:01:11.333694Z",
     "start_time": "2021-02-16T11:01:11.031696Z"
    },
    "scrolled": false
   },
   "outputs": [
    {
     "data": {
      "image/png": "[encoded data removed]",
      "text/plain": [
       "<Figure size 947.85x504 with 1 Axes>"
      ]
     },
     "metadata": {},
     "output_type": "display_data"
    }
   ],
   "source": [
    "ogt.drawOtdValue()"
   ]
  },
  {
   "cell_type": "code",
   "execution_count": null,
   "metadata": {},
   "outputs": [],
   "source": []
  },
  {
   "cell_type": "code",
   "execution_count": null,
   "metadata": {},
   "outputs": [],
   "source": []
  },
  {
   "cell_type": "code",
   "execution_count": null,
   "metadata": {},
   "outputs": [],
   "source": []
  },
  {
   "cell_type": "code",
   "execution_count": null,
   "metadata": {},
   "outputs": [],
   "source": []
  },
  {
   "cell_type": "code",
   "execution_count": null,
   "metadata": {},
   "outputs": [],
   "source": []
  },
  {
   "cell_type": "code",
   "execution_count": null,
   "metadata": {},
   "outputs": [],
   "source": []
  },
  {
   "cell_type": "code",
   "execution_count": null,
   "metadata": {},
   "outputs": [],
   "source": []
  },
  {
   "cell_type": "code",
   "execution_count": null,
   "metadata": {},
   "outputs": [],
   "source": []
  },
  {
   "cell_type": "code",
   "execution_count": null,
   "metadata": {},
   "outputs": [],
   "source": []
  },
  {
   "cell_type": "code",
   "execution_count": null,
   "metadata": {},
   "outputs": [],
   "source": []
  },
  {
   "cell_type": "code",
   "execution_count": null,
   "metadata": {},
   "outputs": [],
   "source": []
  },
  {
   "cell_type": "code",
   "execution_count": null,
   "metadata": {},
   "outputs": [],
   "source": []
  },
  {
   "cell_type": "code",
   "execution_count": null,
   "metadata": {},
   "outputs": [],
   "source": []
  },
  {
   "cell_type": "code",
   "execution_count": null,
   "metadata": {},
   "outputs": [],
   "source": []
  },
  {
   "cell_type": "code",
   "execution_count": null,
   "metadata": {},
   "outputs": [],
   "source": []
  }
 ],
 "metadata": {
  "kernelspec": {
   "display_name": "Python [conda env:ml]",
   "language": "python",
   "name": "conda-env-ml-py"
  },
  "language_info": {
   "codemirror_mode": {
    "name": "ipython",
    "version": 3
   },
   "file_extension": ".py",
   "mimetype": "text/x-python",
   "name": "python",
   "nbconvert_exporter": "python",
   "pygments_lexer": "ipython3",
   "version": "3.6.10"
  },
  "toc": {
   "base_numbering": 1,
   "nav_menu": {},
   "number_sections": true,
   "sideBar": true,
   "skip_h1_title": false,
   "title_cell": "Table of Contents",
   "title_sidebar": "Contents",
   "toc_cell": false,
   "toc_position": {
    "height": "calc(100% - 180px)",
    "left": "10px",
    "top": "150px",
    "width": "252px"
   },
   "toc_section_display": true,
   "toc_window_display": true
  }
 },
 "nbformat": 4,
 "nbformat_minor": 2
}
