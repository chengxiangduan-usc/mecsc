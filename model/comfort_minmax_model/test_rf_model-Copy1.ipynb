{
 "cells": [
  {
   "cell_type": "code",
   "execution_count": 67,
   "metadata": {
    "ExecuteTime": {
     "end_time": "2021-01-13T00:10:46.923702Z",
     "start_time": "2021-01-13T00:10:46.914192Z"
    }
   },
   "outputs": [],
   "source": [
    "import random\n",
    "import math"
   ]
  },
  {
   "cell_type": "code",
   "execution_count": 2,
   "metadata": {
    "ExecuteTime": {
     "end_time": "2021-01-12T23:14:03.604610Z",
     "start_time": "2021-01-12T23:14:02.582614Z"
    }
   },
   "outputs": [],
   "source": [
    "%matplotlib inline\n",
    "import pandas as pd\n",
    "import numpy as np\n",
    "\n",
    "import matplotlib.pyplot as plt\n",
    "import seaborn as sns"
   ]
  },
  {
   "cell_type": "code",
   "execution_count": 3,
   "metadata": {
    "ExecuteTime": {
     "end_time": "2021-01-12T23:14:03.917128Z",
     "start_time": "2021-01-12T23:14:03.606612Z"
    }
   },
   "outputs": [],
   "source": [
    "# from sklearn.ensemble import RandomForestRegressor\n",
    "from sklearn.metrics import mean_squared_error, r2_score\n",
    "\n",
    "from sklearn import tree\n",
    "import joblib\n",
    "\n",
    "import scipy"
   ]
  },
  {
   "cell_type": "code",
   "execution_count": 4,
   "metadata": {
    "ExecuteTime": {
     "end_time": "2021-01-12T23:14:03.933129Z",
     "start_time": "2021-01-12T23:14:03.918129Z"
    }
   },
   "outputs": [],
   "source": [
    "plt.rcParams[\"figure.figsize\"] = (15, 10)"
   ]
  },
  {
   "cell_type": "markdown",
   "metadata": {},
   "source": [
    "## load random forest model"
   ]
  },
  {
   "cell_type": "code",
   "execution_count": 5,
   "metadata": {
    "ExecuteTime": {
     "end_time": "2021-01-12T23:14:03.949128Z",
     "start_time": "2021-01-12T23:14:03.934130Z"
    }
   },
   "outputs": [],
   "source": [
    "filename_min = './min_random_forest_model.sav'\n",
    "filename_max = './max_random_forest_model.sav'"
   ]
  },
  {
   "cell_type": "code",
   "execution_count": 6,
   "metadata": {
    "ExecuteTime": {
     "end_time": "2021-01-12T23:14:04.263128Z",
     "start_time": "2021-01-12T23:14:03.950130Z"
    }
   },
   "outputs": [],
   "source": [
    "rfr_min = joblib.load(filename_min)\n",
    "rfr_max = joblib.load(filename_max)"
   ]
  },
  {
   "cell_type": "markdown",
   "metadata": {},
   "source": [
    "## create test data"
   ]
  },
  {
   "cell_type": "code",
   "execution_count": 7,
   "metadata": {
    "ExecuteTime": {
     "end_time": "2021-01-12T23:14:04.279129Z",
     "start_time": "2021-01-12T23:14:04.264131Z"
    }
   },
   "outputs": [],
   "source": [
    "n_sample = 10"
   ]
  },
  {
   "cell_type": "code",
   "execution_count": 8,
   "metadata": {
    "ExecuteTime": {
     "end_time": "2021-01-12T23:14:04.295129Z",
     "start_time": "2021-01-12T23:14:04.281130Z"
    }
   },
   "outputs": [],
   "source": [
    "pth_data = '../../data/train.csv'\n",
    "df_origin = pd.read_csv(pth_data)"
   ]
  },
  {
   "cell_type": "code",
   "execution_count": 9,
   "metadata": {
    "ExecuteTime": {
     "end_time": "2021-01-12T23:14:04.311128Z",
     "start_time": "2021-01-12T23:14:04.296130Z"
    },
    "scrolled": false
   },
   "outputs": [
    {
     "data": {
      "text/plain": [
       "(2796, 16)"
      ]
     },
     "execution_count": 9,
     "metadata": {},
     "output_type": "execute_result"
    }
   ],
   "source": [
    "df_origin.shape"
   ]
  },
  {
   "cell_type": "code",
   "execution_count": 10,
   "metadata": {
    "ExecuteTime": {
     "end_time": "2021-01-12T23:14:04.327131Z",
     "start_time": "2021-01-12T23:14:04.313130Z"
    }
   },
   "outputs": [],
   "source": [
    "df_nona = df_origin.dropna()"
   ]
  },
  {
   "cell_type": "code",
   "execution_count": 11,
   "metadata": {
    "ExecuteTime": {
     "end_time": "2021-01-12T23:14:04.343128Z",
     "start_time": "2021-01-12T23:14:04.329130Z"
    }
   },
   "outputs": [
    {
     "data": {
      "text/plain": [
       "(1349, 16)"
      ]
     },
     "execution_count": 11,
     "metadata": {},
     "output_type": "execute_result"
    }
   ],
   "source": [
    "df_nona.shape"
   ]
  },
  {
   "cell_type": "code",
   "execution_count": 12,
   "metadata": {
    "ExecuteTime": {
     "end_time": "2021-01-12T23:14:04.359143Z",
     "start_time": "2021-01-12T23:14:04.345129Z"
    }
   },
   "outputs": [],
   "source": [
    "df_comfort = df_nona[df_nona['TS'] > 4.0]"
   ]
  },
  {
   "cell_type": "code",
   "execution_count": 13,
   "metadata": {
    "ExecuteTime": {
     "end_time": "2021-01-12T23:14:04.375159Z",
     "start_time": "2021-01-12T23:14:04.361143Z"
    }
   },
   "outputs": [],
   "source": [
    "df_data = df_comfort"
   ]
  },
  {
   "cell_type": "code",
   "execution_count": 14,
   "metadata": {
    "ExecuteTime": {
     "end_time": "2021-01-12T23:14:04.406159Z",
     "start_time": "2021-01-12T23:14:04.376159Z"
    }
   },
   "outputs": [
    {
     "data": {
      "text/html": [
       "<div>\n",
       "<style scoped>\n",
       "    .dataframe tbody tr th:only-of-type {\n",
       "        vertical-align: middle;\n",
       "    }\n",
       "\n",
       "    .dataframe tbody tr th {\n",
       "        vertical-align: top;\n",
       "    }\n",
       "\n",
       "    .dataframe thead th {\n",
       "        text-align: right;\n",
       "    }\n",
       "</style>\n",
       "<table border=\"1\" class=\"dataframe\">\n",
       "  <thead>\n",
       "    <tr style=\"text-align: right;\">\n",
       "      <th></th>\n",
       "      <th>time</th>\n",
       "      <th>height</th>\n",
       "      <th>weight</th>\n",
       "      <th>gender</th>\n",
       "      <th>bmi</th>\n",
       "      <th>age</th>\n",
       "      <th>env_temp</th>\n",
       "      <th>rh</th>\n",
       "      <th>heart_rate</th>\n",
       "      <th>stress_level</th>\n",
       "      <th>skin_temp</th>\n",
       "      <th>eda</th>\n",
       "      <th>TC</th>\n",
       "      <th>TS</th>\n",
       "      <th>Clo</th>\n",
       "      <th>Act</th>\n",
       "    </tr>\n",
       "  </thead>\n",
       "  <tbody>\n",
       "    <tr>\n",
       "      <th>65</th>\n",
       "      <td>2020-10-21 17:30:00</td>\n",
       "      <td>1.64</td>\n",
       "      <td>54.0</td>\n",
       "      <td>1</td>\n",
       "      <td>20.077335</td>\n",
       "      <td>24</td>\n",
       "      <td>78.165</td>\n",
       "      <td>60.688</td>\n",
       "      <td>73.0</td>\n",
       "      <td>15.0</td>\n",
       "      <td>32.370</td>\n",
       "      <td>0.240481</td>\n",
       "      <td>5.0</td>\n",
       "      <td>5.0</td>\n",
       "      <td>1.00</td>\n",
       "      <td>0.8</td>\n",
       "    </tr>\n",
       "    <tr>\n",
       "      <th>66</th>\n",
       "      <td>2020-10-21 18:00:00</td>\n",
       "      <td>1.64</td>\n",
       "      <td>54.0</td>\n",
       "      <td>1</td>\n",
       "      <td>20.077335</td>\n",
       "      <td>24</td>\n",
       "      <td>77.684</td>\n",
       "      <td>60.828</td>\n",
       "      <td>61.0</td>\n",
       "      <td>0.0</td>\n",
       "      <td>32.111</td>\n",
       "      <td>0.263069</td>\n",
       "      <td>6.0</td>\n",
       "      <td>7.0</td>\n",
       "      <td>1.00</td>\n",
       "      <td>0.8</td>\n",
       "    </tr>\n",
       "    <tr>\n",
       "      <th>67</th>\n",
       "      <td>2020-10-21 18:30:00</td>\n",
       "      <td>1.64</td>\n",
       "      <td>54.0</td>\n",
       "      <td>1</td>\n",
       "      <td>20.077335</td>\n",
       "      <td>24</td>\n",
       "      <td>77.247</td>\n",
       "      <td>61.183</td>\n",
       "      <td>57.0</td>\n",
       "      <td>5.0</td>\n",
       "      <td>32.033</td>\n",
       "      <td>0.261908</td>\n",
       "      <td>6.0</td>\n",
       "      <td>7.0</td>\n",
       "      <td>1.00</td>\n",
       "      <td>0.8</td>\n",
       "    </tr>\n",
       "    <tr>\n",
       "      <th>68</th>\n",
       "      <td>2020-10-21 19:00:00</td>\n",
       "      <td>1.64</td>\n",
       "      <td>54.0</td>\n",
       "      <td>1</td>\n",
       "      <td>20.077335</td>\n",
       "      <td>24</td>\n",
       "      <td>76.942</td>\n",
       "      <td>61.457</td>\n",
       "      <td>72.5</td>\n",
       "      <td>1.0</td>\n",
       "      <td>32.344</td>\n",
       "      <td>0.264096</td>\n",
       "      <td>6.0</td>\n",
       "      <td>7.0</td>\n",
       "      <td>1.00</td>\n",
       "      <td>0.8</td>\n",
       "    </tr>\n",
       "    <tr>\n",
       "      <th>70</th>\n",
       "      <td>2020-10-21 20:00:00</td>\n",
       "      <td>1.64</td>\n",
       "      <td>54.0</td>\n",
       "      <td>1</td>\n",
       "      <td>20.077335</td>\n",
       "      <td>24</td>\n",
       "      <td>77.378</td>\n",
       "      <td>62.697</td>\n",
       "      <td>69.0</td>\n",
       "      <td>6.0</td>\n",
       "      <td>31.667</td>\n",
       "      <td>0.220582</td>\n",
       "      <td>4.0</td>\n",
       "      <td>5.0</td>\n",
       "      <td>0.74</td>\n",
       "      <td>1.0</td>\n",
       "    </tr>\n",
       "    <tr>\n",
       "      <th>...</th>\n",
       "      <td>...</td>\n",
       "      <td>...</td>\n",
       "      <td>...</td>\n",
       "      <td>...</td>\n",
       "      <td>...</td>\n",
       "      <td>...</td>\n",
       "      <td>...</td>\n",
       "      <td>...</td>\n",
       "      <td>...</td>\n",
       "      <td>...</td>\n",
       "      <td>...</td>\n",
       "      <td>...</td>\n",
       "      <td>...</td>\n",
       "      <td>...</td>\n",
       "      <td>...</td>\n",
       "      <td>...</td>\n",
       "    </tr>\n",
       "    <tr>\n",
       "      <th>2683</th>\n",
       "      <td>2020-10-28 16:30:00</td>\n",
       "      <td>1.71</td>\n",
       "      <td>64.0</td>\n",
       "      <td>-1</td>\n",
       "      <td>21.887076</td>\n",
       "      <td>27</td>\n",
       "      <td>76.876</td>\n",
       "      <td>44.830</td>\n",
       "      <td>71.0</td>\n",
       "      <td>42.0</td>\n",
       "      <td>32.707</td>\n",
       "      <td>0.063248</td>\n",
       "      <td>4.0</td>\n",
       "      <td>5.0</td>\n",
       "      <td>0.61</td>\n",
       "      <td>1.0</td>\n",
       "    </tr>\n",
       "    <tr>\n",
       "      <th>2684</th>\n",
       "      <td>2020-10-28 17:00:00</td>\n",
       "      <td>1.71</td>\n",
       "      <td>64.0</td>\n",
       "      <td>-1</td>\n",
       "      <td>21.887076</td>\n",
       "      <td>27</td>\n",
       "      <td>77.050</td>\n",
       "      <td>44.770</td>\n",
       "      <td>72.0</td>\n",
       "      <td>28.5</td>\n",
       "      <td>33.482</td>\n",
       "      <td>0.058099</td>\n",
       "      <td>4.0</td>\n",
       "      <td>5.0</td>\n",
       "      <td>0.61</td>\n",
       "      <td>1.1</td>\n",
       "    </tr>\n",
       "    <tr>\n",
       "      <th>2686</th>\n",
       "      <td>2020-10-28 18:00:00</td>\n",
       "      <td>1.71</td>\n",
       "      <td>64.0</td>\n",
       "      <td>-1</td>\n",
       "      <td>21.887076</td>\n",
       "      <td>27</td>\n",
       "      <td>76.703</td>\n",
       "      <td>43.210</td>\n",
       "      <td>68.5</td>\n",
       "      <td>14.0</td>\n",
       "      <td>30.960</td>\n",
       "      <td>0.073315</td>\n",
       "      <td>4.0</td>\n",
       "      <td>5.0</td>\n",
       "      <td>0.61</td>\n",
       "      <td>1.1</td>\n",
       "    </tr>\n",
       "    <tr>\n",
       "      <th>2688</th>\n",
       "      <td>2020-10-28 19:00:00</td>\n",
       "      <td>1.71</td>\n",
       "      <td>64.0</td>\n",
       "      <td>-1</td>\n",
       "      <td>21.887076</td>\n",
       "      <td>27</td>\n",
       "      <td>76.876</td>\n",
       "      <td>44.800</td>\n",
       "      <td>84.0</td>\n",
       "      <td>69.0</td>\n",
       "      <td>31.458</td>\n",
       "      <td>0.080913</td>\n",
       "      <td>4.0</td>\n",
       "      <td>5.0</td>\n",
       "      <td>0.61</td>\n",
       "      <td>1.0</td>\n",
       "    </tr>\n",
       "    <tr>\n",
       "      <th>2689</th>\n",
       "      <td>2020-10-28 19:30:00</td>\n",
       "      <td>1.71</td>\n",
       "      <td>64.0</td>\n",
       "      <td>-1</td>\n",
       "      <td>21.887076</td>\n",
       "      <td>27</td>\n",
       "      <td>76.703</td>\n",
       "      <td>45.170</td>\n",
       "      <td>75.0</td>\n",
       "      <td>38.0</td>\n",
       "      <td>31.955</td>\n",
       "      <td>0.081946</td>\n",
       "      <td>4.0</td>\n",
       "      <td>5.0</td>\n",
       "      <td>0.61</td>\n",
       "      <td>1.0</td>\n",
       "    </tr>\n",
       "  </tbody>\n",
       "</table>\n",
       "<p>384 rows × 16 columns</p>\n",
       "</div>"
      ],
      "text/plain": [
       "                     time  height  weight  gender        bmi  age  env_temp  \\\n",
       "65    2020-10-21 17:30:00    1.64    54.0       1  20.077335   24    78.165   \n",
       "66    2020-10-21 18:00:00    1.64    54.0       1  20.077335   24    77.684   \n",
       "67    2020-10-21 18:30:00    1.64    54.0       1  20.077335   24    77.247   \n",
       "68    2020-10-21 19:00:00    1.64    54.0       1  20.077335   24    76.942   \n",
       "70    2020-10-21 20:00:00    1.64    54.0       1  20.077335   24    77.378   \n",
       "...                   ...     ...     ...     ...        ...  ...       ...   \n",
       "2683  2020-10-28 16:30:00    1.71    64.0      -1  21.887076   27    76.876   \n",
       "2684  2020-10-28 17:00:00    1.71    64.0      -1  21.887076   27    77.050   \n",
       "2686  2020-10-28 18:00:00    1.71    64.0      -1  21.887076   27    76.703   \n",
       "2688  2020-10-28 19:00:00    1.71    64.0      -1  21.887076   27    76.876   \n",
       "2689  2020-10-28 19:30:00    1.71    64.0      -1  21.887076   27    76.703   \n",
       "\n",
       "          rh  heart_rate  stress_level  skin_temp       eda   TC   TS   Clo  \\\n",
       "65    60.688        73.0          15.0     32.370  0.240481  5.0  5.0  1.00   \n",
       "66    60.828        61.0           0.0     32.111  0.263069  6.0  7.0  1.00   \n",
       "67    61.183        57.0           5.0     32.033  0.261908  6.0  7.0  1.00   \n",
       "68    61.457        72.5           1.0     32.344  0.264096  6.0  7.0  1.00   \n",
       "70    62.697        69.0           6.0     31.667  0.220582  4.0  5.0  0.74   \n",
       "...      ...         ...           ...        ...       ...  ...  ...   ...   \n",
       "2683  44.830        71.0          42.0     32.707  0.063248  4.0  5.0  0.61   \n",
       "2684  44.770        72.0          28.5     33.482  0.058099  4.0  5.0  0.61   \n",
       "2686  43.210        68.5          14.0     30.960  0.073315  4.0  5.0  0.61   \n",
       "2688  44.800        84.0          69.0     31.458  0.080913  4.0  5.0  0.61   \n",
       "2689  45.170        75.0          38.0     31.955  0.081946  4.0  5.0  0.61   \n",
       "\n",
       "      Act  \n",
       "65    0.8  \n",
       "66    0.8  \n",
       "67    0.8  \n",
       "68    0.8  \n",
       "70    1.0  \n",
       "...   ...  \n",
       "2683  1.0  \n",
       "2684  1.1  \n",
       "2686  1.1  \n",
       "2688  1.0  \n",
       "2689  1.0  \n",
       "\n",
       "[384 rows x 16 columns]"
      ]
     },
     "execution_count": 14,
     "metadata": {},
     "output_type": "execute_result"
    }
   ],
   "source": [
    "df_data"
   ]
  },
  {
   "cell_type": "code",
   "execution_count": null,
   "metadata": {},
   "outputs": [],
   "source": []
  },
  {
   "cell_type": "markdown",
   "metadata": {},
   "source": [
    "### dataset allowing different rh"
   ]
  },
  {
   "cell_type": "code",
   "execution_count": 15,
   "metadata": {
    "ExecuteTime": {
     "end_time": "2021-01-12T23:14:04.422158Z",
     "start_time": "2021-01-12T23:14:04.408163Z"
    }
   },
   "outputs": [],
   "source": [
    "df_sample_n = df_data.sample(n_sample, random_state=2020)"
   ]
  },
  {
   "cell_type": "code",
   "execution_count": 16,
   "metadata": {
    "ExecuteTime": {
     "end_time": "2021-01-12T23:14:04.453160Z",
     "start_time": "2021-01-12T23:14:04.424161Z"
    }
   },
   "outputs": [
    {
     "data": {
      "text/html": [
       "<div>\n",
       "<style scoped>\n",
       "    .dataframe tbody tr th:only-of-type {\n",
       "        vertical-align: middle;\n",
       "    }\n",
       "\n",
       "    .dataframe tbody tr th {\n",
       "        vertical-align: top;\n",
       "    }\n",
       "\n",
       "    .dataframe thead th {\n",
       "        text-align: right;\n",
       "    }\n",
       "</style>\n",
       "<table border=\"1\" class=\"dataframe\">\n",
       "  <thead>\n",
       "    <tr style=\"text-align: right;\">\n",
       "      <th></th>\n",
       "      <th>time</th>\n",
       "      <th>height</th>\n",
       "      <th>weight</th>\n",
       "      <th>gender</th>\n",
       "      <th>bmi</th>\n",
       "      <th>age</th>\n",
       "      <th>env_temp</th>\n",
       "      <th>rh</th>\n",
       "      <th>heart_rate</th>\n",
       "      <th>stress_level</th>\n",
       "      <th>skin_temp</th>\n",
       "      <th>eda</th>\n",
       "      <th>TC</th>\n",
       "      <th>TS</th>\n",
       "      <th>Clo</th>\n",
       "      <th>Act</th>\n",
       "    </tr>\n",
       "  </thead>\n",
       "  <tbody>\n",
       "    <tr>\n",
       "      <th>447</th>\n",
       "      <td>2020-10-21 14:00:00</td>\n",
       "      <td>1.80</td>\n",
       "      <td>75.0</td>\n",
       "      <td>-1</td>\n",
       "      <td>23.148148</td>\n",
       "      <td>33</td>\n",
       "      <td>80.911</td>\n",
       "      <td>46.560</td>\n",
       "      <td>63.5</td>\n",
       "      <td>4.0</td>\n",
       "      <td>33.507</td>\n",
       "      <td>0.042916</td>\n",
       "      <td>4.0</td>\n",
       "      <td>5.0</td>\n",
       "      <td>0.31</td>\n",
       "      <td>0.8</td>\n",
       "    </tr>\n",
       "    <tr>\n",
       "      <th>619</th>\n",
       "      <td>2020-10-21 00:00:00</td>\n",
       "      <td>1.83</td>\n",
       "      <td>74.0</td>\n",
       "      <td>-1</td>\n",
       "      <td>22.096808</td>\n",
       "      <td>24</td>\n",
       "      <td>79.502</td>\n",
       "      <td>51.870</td>\n",
       "      <td>69.5</td>\n",
       "      <td>8.0</td>\n",
       "      <td>33.096</td>\n",
       "      <td>0.019086</td>\n",
       "      <td>4.0</td>\n",
       "      <td>6.0</td>\n",
       "      <td>0.50</td>\n",
       "      <td>1.0</td>\n",
       "    </tr>\n",
       "    <tr>\n",
       "      <th>1624</th>\n",
       "      <td>2020-10-25 19:30:00</td>\n",
       "      <td>1.69</td>\n",
       "      <td>75.0</td>\n",
       "      <td>-1</td>\n",
       "      <td>26.259585</td>\n",
       "      <td>24</td>\n",
       "      <td>77.050</td>\n",
       "      <td>44.520</td>\n",
       "      <td>80.0</td>\n",
       "      <td>11.0</td>\n",
       "      <td>32.215</td>\n",
       "      <td>0.003182</td>\n",
       "      <td>4.0</td>\n",
       "      <td>5.0</td>\n",
       "      <td>0.36</td>\n",
       "      <td>1.1</td>\n",
       "    </tr>\n",
       "    <tr>\n",
       "      <th>992</th>\n",
       "      <td>2020-10-23 18:30:00</td>\n",
       "      <td>1.62</td>\n",
       "      <td>56.0</td>\n",
       "      <td>1</td>\n",
       "      <td>21.338211</td>\n",
       "      <td>24</td>\n",
       "      <td>76.811</td>\n",
       "      <td>58.735</td>\n",
       "      <td>73.0</td>\n",
       "      <td>12.0</td>\n",
       "      <td>32.526</td>\n",
       "      <td>0.032571</td>\n",
       "      <td>4.0</td>\n",
       "      <td>6.0</td>\n",
       "      <td>0.61</td>\n",
       "      <td>1.0</td>\n",
       "    </tr>\n",
       "    <tr>\n",
       "      <th>745</th>\n",
       "      <td>2020-10-19 19:30:00</td>\n",
       "      <td>1.74</td>\n",
       "      <td>65.0</td>\n",
       "      <td>-1</td>\n",
       "      <td>21.469150</td>\n",
       "      <td>23</td>\n",
       "      <td>79.678</td>\n",
       "      <td>52.960</td>\n",
       "      <td>67.0</td>\n",
       "      <td>22.0</td>\n",
       "      <td>33.456</td>\n",
       "      <td>0.224634</td>\n",
       "      <td>6.0</td>\n",
       "      <td>6.0</td>\n",
       "      <td>0.54</td>\n",
       "      <td>0.8</td>\n",
       "    </tr>\n",
       "    <tr>\n",
       "      <th>750</th>\n",
       "      <td>2020-10-19 22:00:00</td>\n",
       "      <td>1.74</td>\n",
       "      <td>65.0</td>\n",
       "      <td>-1</td>\n",
       "      <td>21.469150</td>\n",
       "      <td>23</td>\n",
       "      <td>81.621</td>\n",
       "      <td>52.360</td>\n",
       "      <td>67.0</td>\n",
       "      <td>30.0</td>\n",
       "      <td>32.396</td>\n",
       "      <td>0.052424</td>\n",
       "      <td>4.0</td>\n",
       "      <td>6.0</td>\n",
       "      <td>0.36</td>\n",
       "      <td>1.0</td>\n",
       "    </tr>\n",
       "    <tr>\n",
       "      <th>663</th>\n",
       "      <td>2020-10-19 18:30:00</td>\n",
       "      <td>1.69</td>\n",
       "      <td>75.0</td>\n",
       "      <td>-1</td>\n",
       "      <td>26.259585</td>\n",
       "      <td>24</td>\n",
       "      <td>80.382</td>\n",
       "      <td>56.700</td>\n",
       "      <td>109.0</td>\n",
       "      <td>87.0</td>\n",
       "      <td>32.707</td>\n",
       "      <td>0.010796</td>\n",
       "      <td>4.0</td>\n",
       "      <td>5.0</td>\n",
       "      <td>0.31</td>\n",
       "      <td>1.0</td>\n",
       "    </tr>\n",
       "    <tr>\n",
       "      <th>1625</th>\n",
       "      <td>2020-10-25 20:00:00</td>\n",
       "      <td>1.69</td>\n",
       "      <td>75.0</td>\n",
       "      <td>-1</td>\n",
       "      <td>26.259585</td>\n",
       "      <td>24</td>\n",
       "      <td>77.050</td>\n",
       "      <td>45.110</td>\n",
       "      <td>86.0</td>\n",
       "      <td>8.0</td>\n",
       "      <td>32.578</td>\n",
       "      <td>0.003982</td>\n",
       "      <td>4.0</td>\n",
       "      <td>5.0</td>\n",
       "      <td>0.36</td>\n",
       "      <td>1.1</td>\n",
       "    </tr>\n",
       "    <tr>\n",
       "      <th>1692</th>\n",
       "      <td>2020-10-24 14:00:00</td>\n",
       "      <td>1.71</td>\n",
       "      <td>64.0</td>\n",
       "      <td>-1</td>\n",
       "      <td>21.887076</td>\n",
       "      <td>27</td>\n",
       "      <td>77.574</td>\n",
       "      <td>56.960</td>\n",
       "      <td>75.0</td>\n",
       "      <td>14.0</td>\n",
       "      <td>32.163</td>\n",
       "      <td>0.016780</td>\n",
       "      <td>5.0</td>\n",
       "      <td>5.0</td>\n",
       "      <td>0.50</td>\n",
       "      <td>1.0</td>\n",
       "    </tr>\n",
       "    <tr>\n",
       "      <th>2576</th>\n",
       "      <td>2020-10-28 22:00:00</td>\n",
       "      <td>1.69</td>\n",
       "      <td>75.0</td>\n",
       "      <td>-1</td>\n",
       "      <td>26.259585</td>\n",
       "      <td>24</td>\n",
       "      <td>77.050</td>\n",
       "      <td>38.800</td>\n",
       "      <td>71.0</td>\n",
       "      <td>8.0</td>\n",
       "      <td>33.070</td>\n",
       "      <td>0.002383</td>\n",
       "      <td>4.0</td>\n",
       "      <td>5.0</td>\n",
       "      <td>0.67</td>\n",
       "      <td>1.0</td>\n",
       "    </tr>\n",
       "  </tbody>\n",
       "</table>\n",
       "</div>"
      ],
      "text/plain": [
       "                     time  height  weight  gender        bmi  age  env_temp  \\\n",
       "447   2020-10-21 14:00:00    1.80    75.0      -1  23.148148   33    80.911   \n",
       "619   2020-10-21 00:00:00    1.83    74.0      -1  22.096808   24    79.502   \n",
       "1624  2020-10-25 19:30:00    1.69    75.0      -1  26.259585   24    77.050   \n",
       "992   2020-10-23 18:30:00    1.62    56.0       1  21.338211   24    76.811   \n",
       "745   2020-10-19 19:30:00    1.74    65.0      -1  21.469150   23    79.678   \n",
       "750   2020-10-19 22:00:00    1.74    65.0      -1  21.469150   23    81.621   \n",
       "663   2020-10-19 18:30:00    1.69    75.0      -1  26.259585   24    80.382   \n",
       "1625  2020-10-25 20:00:00    1.69    75.0      -1  26.259585   24    77.050   \n",
       "1692  2020-10-24 14:00:00    1.71    64.0      -1  21.887076   27    77.574   \n",
       "2576  2020-10-28 22:00:00    1.69    75.0      -1  26.259585   24    77.050   \n",
       "\n",
       "          rh  heart_rate  stress_level  skin_temp       eda   TC   TS   Clo  \\\n",
       "447   46.560        63.5           4.0     33.507  0.042916  4.0  5.0  0.31   \n",
       "619   51.870        69.5           8.0     33.096  0.019086  4.0  6.0  0.50   \n",
       "1624  44.520        80.0          11.0     32.215  0.003182  4.0  5.0  0.36   \n",
       "992   58.735        73.0          12.0     32.526  0.032571  4.0  6.0  0.61   \n",
       "745   52.960        67.0          22.0     33.456  0.224634  6.0  6.0  0.54   \n",
       "750   52.360        67.0          30.0     32.396  0.052424  4.0  6.0  0.36   \n",
       "663   56.700       109.0          87.0     32.707  0.010796  4.0  5.0  0.31   \n",
       "1625  45.110        86.0           8.0     32.578  0.003982  4.0  5.0  0.36   \n",
       "1692  56.960        75.0          14.0     32.163  0.016780  5.0  5.0  0.50   \n",
       "2576  38.800        71.0           8.0     33.070  0.002383  4.0  5.0  0.67   \n",
       "\n",
       "      Act  \n",
       "447   0.8  \n",
       "619   1.0  \n",
       "1624  1.1  \n",
       "992   1.0  \n",
       "745   0.8  \n",
       "750   1.0  \n",
       "663   1.0  \n",
       "1625  1.1  \n",
       "1692  1.0  \n",
       "2576  1.0  "
      ]
     },
     "execution_count": 16,
     "metadata": {},
     "output_type": "execute_result"
    }
   ],
   "source": [
    "df_sample_n"
   ]
  },
  {
   "cell_type": "code",
   "execution_count": 17,
   "metadata": {
    "ExecuteTime": {
     "end_time": "2021-01-12T23:14:04.469159Z",
     "start_time": "2021-01-12T23:14:04.455162Z"
    }
   },
   "outputs": [],
   "source": [
    "y_sample = df_sample_n['env_temp']"
   ]
  },
  {
   "cell_type": "code",
   "execution_count": 18,
   "metadata": {
    "ExecuteTime": {
     "end_time": "2021-01-12T23:14:04.485158Z",
     "start_time": "2021-01-12T23:14:04.471160Z"
    }
   },
   "outputs": [],
   "source": [
    "X_sample = df_sample_n[['height', 'weight', 'gender', 'bmi', 'age', 'rh', \\\n",
    "                      'heart_rate', 'stress_level', 'skin_temp', 'eda', \\\n",
    "                      'Clo', 'Act']]"
   ]
  },
  {
   "cell_type": "markdown",
   "metadata": {},
   "source": [
    "### dataset with same rh"
   ]
  },
  {
   "cell_type": "code",
   "execution_count": 19,
   "metadata": {
    "ExecuteTime": {
     "end_time": "2021-01-12T23:14:04.501158Z",
     "start_time": "2021-01-12T23:14:04.487159Z"
    }
   },
   "outputs": [],
   "source": [
    "df_rh_round = df_data.round({'rh': 0})"
   ]
  },
  {
   "cell_type": "code",
   "execution_count": 20,
   "metadata": {
    "ExecuteTime": {
     "end_time": "2021-01-12T23:14:04.516158Z",
     "start_time": "2021-01-12T23:14:04.502161Z"
    }
   },
   "outputs": [
    {
     "data": {
      "text/plain": [
       "(384, 16)"
      ]
     },
     "execution_count": 20,
     "metadata": {},
     "output_type": "execute_result"
    }
   ],
   "source": [
    "df_rh_round.shape"
   ]
  },
  {
   "cell_type": "code",
   "execution_count": 21,
   "metadata": {
    "ExecuteTime": {
     "end_time": "2021-01-12T23:14:04.532162Z",
     "start_time": "2021-01-12T23:14:04.518160Z"
    }
   },
   "outputs": [
    {
     "data": {
      "text/html": [
       "<div>\n",
       "<style scoped>\n",
       "    .dataframe tbody tr th:only-of-type {\n",
       "        vertical-align: middle;\n",
       "    }\n",
       "\n",
       "    .dataframe tbody tr th {\n",
       "        vertical-align: top;\n",
       "    }\n",
       "\n",
       "    .dataframe thead th {\n",
       "        text-align: right;\n",
       "    }\n",
       "</style>\n",
       "<table border=\"1\" class=\"dataframe\">\n",
       "  <thead>\n",
       "    <tr style=\"text-align: right;\">\n",
       "      <th></th>\n",
       "      <th>time</th>\n",
       "      <th>height</th>\n",
       "      <th>weight</th>\n",
       "      <th>gender</th>\n",
       "      <th>bmi</th>\n",
       "      <th>age</th>\n",
       "      <th>env_temp</th>\n",
       "      <th>rh</th>\n",
       "      <th>heart_rate</th>\n",
       "      <th>stress_level</th>\n",
       "      <th>skin_temp</th>\n",
       "      <th>eda</th>\n",
       "      <th>TC</th>\n",
       "      <th>TS</th>\n",
       "      <th>Clo</th>\n",
       "      <th>Act</th>\n",
       "    </tr>\n",
       "  </thead>\n",
       "  <tbody>\n",
       "    <tr>\n",
       "      <th>65</th>\n",
       "      <td>2020-10-21 17:30:00</td>\n",
       "      <td>1.64</td>\n",
       "      <td>54.0</td>\n",
       "      <td>1</td>\n",
       "      <td>20.077335</td>\n",
       "      <td>24</td>\n",
       "      <td>78.165</td>\n",
       "      <td>61.0</td>\n",
       "      <td>73.0</td>\n",
       "      <td>15.0</td>\n",
       "      <td>32.370</td>\n",
       "      <td>0.240481</td>\n",
       "      <td>5.0</td>\n",
       "      <td>5.0</td>\n",
       "      <td>1.00</td>\n",
       "      <td>0.8</td>\n",
       "    </tr>\n",
       "    <tr>\n",
       "      <th>66</th>\n",
       "      <td>2020-10-21 18:00:00</td>\n",
       "      <td>1.64</td>\n",
       "      <td>54.0</td>\n",
       "      <td>1</td>\n",
       "      <td>20.077335</td>\n",
       "      <td>24</td>\n",
       "      <td>77.684</td>\n",
       "      <td>61.0</td>\n",
       "      <td>61.0</td>\n",
       "      <td>0.0</td>\n",
       "      <td>32.111</td>\n",
       "      <td>0.263069</td>\n",
       "      <td>6.0</td>\n",
       "      <td>7.0</td>\n",
       "      <td>1.00</td>\n",
       "      <td>0.8</td>\n",
       "    </tr>\n",
       "    <tr>\n",
       "      <th>67</th>\n",
       "      <td>2020-10-21 18:30:00</td>\n",
       "      <td>1.64</td>\n",
       "      <td>54.0</td>\n",
       "      <td>1</td>\n",
       "      <td>20.077335</td>\n",
       "      <td>24</td>\n",
       "      <td>77.247</td>\n",
       "      <td>61.0</td>\n",
       "      <td>57.0</td>\n",
       "      <td>5.0</td>\n",
       "      <td>32.033</td>\n",
       "      <td>0.261908</td>\n",
       "      <td>6.0</td>\n",
       "      <td>7.0</td>\n",
       "      <td>1.00</td>\n",
       "      <td>0.8</td>\n",
       "    </tr>\n",
       "    <tr>\n",
       "      <th>68</th>\n",
       "      <td>2020-10-21 19:00:00</td>\n",
       "      <td>1.64</td>\n",
       "      <td>54.0</td>\n",
       "      <td>1</td>\n",
       "      <td>20.077335</td>\n",
       "      <td>24</td>\n",
       "      <td>76.942</td>\n",
       "      <td>61.0</td>\n",
       "      <td>72.5</td>\n",
       "      <td>1.0</td>\n",
       "      <td>32.344</td>\n",
       "      <td>0.264096</td>\n",
       "      <td>6.0</td>\n",
       "      <td>7.0</td>\n",
       "      <td>1.00</td>\n",
       "      <td>0.8</td>\n",
       "    </tr>\n",
       "    <tr>\n",
       "      <th>70</th>\n",
       "      <td>2020-10-21 20:00:00</td>\n",
       "      <td>1.64</td>\n",
       "      <td>54.0</td>\n",
       "      <td>1</td>\n",
       "      <td>20.077335</td>\n",
       "      <td>24</td>\n",
       "      <td>77.378</td>\n",
       "      <td>63.0</td>\n",
       "      <td>69.0</td>\n",
       "      <td>6.0</td>\n",
       "      <td>31.667</td>\n",
       "      <td>0.220582</td>\n",
       "      <td>4.0</td>\n",
       "      <td>5.0</td>\n",
       "      <td>0.74</td>\n",
       "      <td>1.0</td>\n",
       "    </tr>\n",
       "  </tbody>\n",
       "</table>\n",
       "</div>"
      ],
      "text/plain": [
       "                   time  height  weight  gender        bmi  age  env_temp  \\\n",
       "65  2020-10-21 17:30:00    1.64    54.0       1  20.077335   24    78.165   \n",
       "66  2020-10-21 18:00:00    1.64    54.0       1  20.077335   24    77.684   \n",
       "67  2020-10-21 18:30:00    1.64    54.0       1  20.077335   24    77.247   \n",
       "68  2020-10-21 19:00:00    1.64    54.0       1  20.077335   24    76.942   \n",
       "70  2020-10-21 20:00:00    1.64    54.0       1  20.077335   24    77.378   \n",
       "\n",
       "      rh  heart_rate  stress_level  skin_temp       eda   TC   TS   Clo  Act  \n",
       "65  61.0        73.0          15.0     32.370  0.240481  5.0  5.0  1.00  0.8  \n",
       "66  61.0        61.0           0.0     32.111  0.263069  6.0  7.0  1.00  0.8  \n",
       "67  61.0        57.0           5.0     32.033  0.261908  6.0  7.0  1.00  0.8  \n",
       "68  61.0        72.5           1.0     32.344  0.264096  6.0  7.0  1.00  0.8  \n",
       "70  63.0        69.0           6.0     31.667  0.220582  4.0  5.0  0.74  1.0  "
      ]
     },
     "execution_count": 21,
     "metadata": {},
     "output_type": "execute_result"
    }
   ],
   "source": [
    "df_rh_round.head()"
   ]
  },
  {
   "cell_type": "code",
   "execution_count": 22,
   "metadata": {
    "ExecuteTime": {
     "end_time": "2021-01-12T23:14:04.548158Z",
     "start_time": "2021-01-12T23:14:04.533159Z"
    }
   },
   "outputs": [],
   "source": [
    "df_sortby_rh = df_rh_round.sort_values(by=\"rh\")"
   ]
  },
  {
   "cell_type": "code",
   "execution_count": 23,
   "metadata": {
    "ExecuteTime": {
     "end_time": "2021-01-12T23:14:04.564159Z",
     "start_time": "2021-01-12T23:14:04.551159Z"
    }
   },
   "outputs": [],
   "source": [
    "rh_unique = df_sortby_rh.rh.unique()"
   ]
  },
  {
   "cell_type": "code",
   "execution_count": 24,
   "metadata": {
    "ExecuteTime": {
     "end_time": "2021-01-12T23:14:04.580160Z",
     "start_time": "2021-01-12T23:14:04.566160Z"
    }
   },
   "outputs": [
    {
     "data": {
      "text/plain": [
       "array([24., 25., 26., 27., 30., 31., 32., 33., 34., 35., 36., 37., 38.,\n",
       "       39., 40., 41., 42., 43., 44., 45., 46., 47., 48., 49., 50., 51.,\n",
       "       52., 53., 54., 55., 56., 57., 58., 59., 60., 61., 62., 63., 64.])"
      ]
     },
     "execution_count": 24,
     "metadata": {},
     "output_type": "execute_result"
    }
   ],
   "source": [
    "rh_unique"
   ]
  },
  {
   "cell_type": "code",
   "execution_count": 25,
   "metadata": {
    "ExecuteTime": {
     "end_time": "2021-01-12T23:14:04.595159Z",
     "start_time": "2021-01-12T23:14:04.582160Z"
    }
   },
   "outputs": [
    {
     "data": {
      "text/plain": [
       "(384, 16)"
      ]
     },
     "execution_count": 25,
     "metadata": {},
     "output_type": "execute_result"
    }
   ],
   "source": [
    "df_sortby_rh.shape"
   ]
  },
  {
   "cell_type": "code",
   "execution_count": 26,
   "metadata": {
    "ExecuteTime": {
     "end_time": "2021-01-12T23:14:04.626159Z",
     "start_time": "2021-01-12T23:14:04.601161Z"
    }
   },
   "outputs": [
    {
     "name": "stdout",
     "output_type": "stream",
     "text": [
      "53.0\n",
      "---------------------- 13\n"
     ]
    }
   ],
   "source": [
    "df_candidate = None\n",
    "random.seed(1000)\n",
    "for i in range(20):\n",
    "    rh_idx = random.randint(0, len(rh_unique))\n",
    "    rh_value = rh_unique[rh_idx]\n",
    "    print(rh_value)\n",
    "    df_maybe = df_sortby_rh[df_sortby_rh.rh == rh_value]\n",
    "    print('----------------------', df_maybe.shape[0])\n",
    "    if  df_maybe.shape[0] >= n_sample:\n",
    "        df_candidate = df_maybe\n",
    "        break"
   ]
  },
  {
   "cell_type": "code",
   "execution_count": 27,
   "metadata": {
    "ExecuteTime": {
     "end_time": "2021-01-12T23:14:04.642161Z",
     "start_time": "2021-01-12T23:14:04.628160Z"
    }
   },
   "outputs": [],
   "source": [
    "df_sample_n = df_candidate.sample(n_sample, random_state=2020)"
   ]
  },
  {
   "cell_type": "code",
   "execution_count": 28,
   "metadata": {
    "ExecuteTime": {
     "end_time": "2021-01-12T23:14:04.674158Z",
     "start_time": "2021-01-12T23:14:04.644159Z"
    }
   },
   "outputs": [
    {
     "data": {
      "text/html": [
       "<div>\n",
       "<style scoped>\n",
       "    .dataframe tbody tr th:only-of-type {\n",
       "        vertical-align: middle;\n",
       "    }\n",
       "\n",
       "    .dataframe tbody tr th {\n",
       "        vertical-align: top;\n",
       "    }\n",
       "\n",
       "    .dataframe thead th {\n",
       "        text-align: right;\n",
       "    }\n",
       "</style>\n",
       "<table border=\"1\" class=\"dataframe\">\n",
       "  <thead>\n",
       "    <tr style=\"text-align: right;\">\n",
       "      <th></th>\n",
       "      <th>time</th>\n",
       "      <th>height</th>\n",
       "      <th>weight</th>\n",
       "      <th>gender</th>\n",
       "      <th>bmi</th>\n",
       "      <th>age</th>\n",
       "      <th>env_temp</th>\n",
       "      <th>rh</th>\n",
       "      <th>heart_rate</th>\n",
       "      <th>stress_level</th>\n",
       "      <th>skin_temp</th>\n",
       "      <th>eda</th>\n",
       "      <th>TC</th>\n",
       "      <th>TS</th>\n",
       "      <th>Clo</th>\n",
       "      <th>Act</th>\n",
       "    </tr>\n",
       "  </thead>\n",
       "  <tbody>\n",
       "    <tr>\n",
       "      <th>1695</th>\n",
       "      <td>2020-10-24 15:30:00</td>\n",
       "      <td>1.71</td>\n",
       "      <td>64.0</td>\n",
       "      <td>-1</td>\n",
       "      <td>21.887076</td>\n",
       "      <td>27</td>\n",
       "      <td>77.5740</td>\n",
       "      <td>53.0</td>\n",
       "      <td>72.0</td>\n",
       "      <td>5.0</td>\n",
       "      <td>31.117</td>\n",
       "      <td>0.038182</td>\n",
       "      <td>5.0</td>\n",
       "      <td>5.0</td>\n",
       "      <td>0.50</td>\n",
       "      <td>1.0</td>\n",
       "    </tr>\n",
       "    <tr>\n",
       "      <th>746</th>\n",
       "      <td>2020-10-19 20:00:00</td>\n",
       "      <td>1.74</td>\n",
       "      <td>65.0</td>\n",
       "      <td>-1</td>\n",
       "      <td>21.469150</td>\n",
       "      <td>23</td>\n",
       "      <td>79.6780</td>\n",
       "      <td>53.0</td>\n",
       "      <td>64.0</td>\n",
       "      <td>19.0</td>\n",
       "      <td>33.456</td>\n",
       "      <td>0.789816</td>\n",
       "      <td>6.0</td>\n",
       "      <td>6.0</td>\n",
       "      <td>0.54</td>\n",
       "      <td>0.8</td>\n",
       "    </tr>\n",
       "    <tr>\n",
       "      <th>744</th>\n",
       "      <td>2020-10-19 19:00:00</td>\n",
       "      <td>1.74</td>\n",
       "      <td>65.0</td>\n",
       "      <td>-1</td>\n",
       "      <td>21.469150</td>\n",
       "      <td>23</td>\n",
       "      <td>79.5020</td>\n",
       "      <td>53.0</td>\n",
       "      <td>64.0</td>\n",
       "      <td>15.0</td>\n",
       "      <td>33.070</td>\n",
       "      <td>0.052126</td>\n",
       "      <td>5.0</td>\n",
       "      <td>7.0</td>\n",
       "      <td>0.54</td>\n",
       "      <td>0.8</td>\n",
       "    </tr>\n",
       "    <tr>\n",
       "      <th>1707</th>\n",
       "      <td>2020-10-24 21:30:00</td>\n",
       "      <td>1.71</td>\n",
       "      <td>64.0</td>\n",
       "      <td>-1</td>\n",
       "      <td>21.887076</td>\n",
       "      <td>27</td>\n",
       "      <td>77.5740</td>\n",
       "      <td>53.0</td>\n",
       "      <td>79.0</td>\n",
       "      <td>37.0</td>\n",
       "      <td>32.215</td>\n",
       "      <td>0.025171</td>\n",
       "      <td>5.0</td>\n",
       "      <td>5.0</td>\n",
       "      <td>0.50</td>\n",
       "      <td>1.0</td>\n",
       "    </tr>\n",
       "    <tr>\n",
       "      <th>1633</th>\n",
       "      <td>2020-10-23 00:00:00</td>\n",
       "      <td>1.71</td>\n",
       "      <td>64.0</td>\n",
       "      <td>-1</td>\n",
       "      <td>21.887076</td>\n",
       "      <td>27</td>\n",
       "      <td>78.3615</td>\n",
       "      <td>53.0</td>\n",
       "      <td>74.0</td>\n",
       "      <td>16.0</td>\n",
       "      <td>31.615</td>\n",
       "      <td>0.070804</td>\n",
       "      <td>4.0</td>\n",
       "      <td>7.0</td>\n",
       "      <td>0.36</td>\n",
       "      <td>1.0</td>\n",
       "    </tr>\n",
       "    <tr>\n",
       "      <th>815</th>\n",
       "      <td>2020-10-19 10:30:00</td>\n",
       "      <td>1.63</td>\n",
       "      <td>50.0</td>\n",
       "      <td>1</td>\n",
       "      <td>18.818924</td>\n",
       "      <td>23</td>\n",
       "      <td>82.6860</td>\n",
       "      <td>53.0</td>\n",
       "      <td>89.0</td>\n",
       "      <td>59.0</td>\n",
       "      <td>31.667</td>\n",
       "      <td>0.010611</td>\n",
       "      <td>4.0</td>\n",
       "      <td>6.0</td>\n",
       "      <td>0.31</td>\n",
       "      <td>1.1</td>\n",
       "    </tr>\n",
       "    <tr>\n",
       "      <th>670</th>\n",
       "      <td>2020-10-19 22:00:00</td>\n",
       "      <td>1.69</td>\n",
       "      <td>75.0</td>\n",
       "      <td>-1</td>\n",
       "      <td>26.259585</td>\n",
       "      <td>24</td>\n",
       "      <td>80.3820</td>\n",
       "      <td>53.0</td>\n",
       "      <td>68.5</td>\n",
       "      <td>54.0</td>\n",
       "      <td>32.267</td>\n",
       "      <td>0.007078</td>\n",
       "      <td>3.0</td>\n",
       "      <td>6.0</td>\n",
       "      <td>0.31</td>\n",
       "      <td>1.0</td>\n",
       "    </tr>\n",
       "    <tr>\n",
       "      <th>1290</th>\n",
       "      <td>2020-10-23 16:00:00</td>\n",
       "      <td>1.67</td>\n",
       "      <td>56.0</td>\n",
       "      <td>1</td>\n",
       "      <td>20.079601</td>\n",
       "      <td>26</td>\n",
       "      <td>76.8760</td>\n",
       "      <td>53.0</td>\n",
       "      <td>88.5</td>\n",
       "      <td>43.0</td>\n",
       "      <td>30.563</td>\n",
       "      <td>0.890885</td>\n",
       "      <td>4.0</td>\n",
       "      <td>6.0</td>\n",
       "      <td>0.36</td>\n",
       "      <td>1.1</td>\n",
       "    </tr>\n",
       "    <tr>\n",
       "      <th>1635</th>\n",
       "      <td>2020-10-23 01:00:00</td>\n",
       "      <td>1.71</td>\n",
       "      <td>64.0</td>\n",
       "      <td>-1</td>\n",
       "      <td>21.887076</td>\n",
       "      <td>27</td>\n",
       "      <td>78.4490</td>\n",
       "      <td>53.0</td>\n",
       "      <td>74.0</td>\n",
       "      <td>13.0</td>\n",
       "      <td>31.719</td>\n",
       "      <td>0.118819</td>\n",
       "      <td>4.0</td>\n",
       "      <td>6.0</td>\n",
       "      <td>0.36</td>\n",
       "      <td>1.0</td>\n",
       "    </tr>\n",
       "    <tr>\n",
       "      <th>1634</th>\n",
       "      <td>2020-10-23 00:30:00</td>\n",
       "      <td>1.71</td>\n",
       "      <td>64.0</td>\n",
       "      <td>-1</td>\n",
       "      <td>21.887076</td>\n",
       "      <td>27</td>\n",
       "      <td>78.4490</td>\n",
       "      <td>53.0</td>\n",
       "      <td>72.0</td>\n",
       "      <td>7.0</td>\n",
       "      <td>31.484</td>\n",
       "      <td>0.057165</td>\n",
       "      <td>4.0</td>\n",
       "      <td>7.0</td>\n",
       "      <td>0.36</td>\n",
       "      <td>1.0</td>\n",
       "    </tr>\n",
       "  </tbody>\n",
       "</table>\n",
       "</div>"
      ],
      "text/plain": [
       "                     time  height  weight  gender        bmi  age  env_temp  \\\n",
       "1695  2020-10-24 15:30:00    1.71    64.0      -1  21.887076   27   77.5740   \n",
       "746   2020-10-19 20:00:00    1.74    65.0      -1  21.469150   23   79.6780   \n",
       "744   2020-10-19 19:00:00    1.74    65.0      -1  21.469150   23   79.5020   \n",
       "1707  2020-10-24 21:30:00    1.71    64.0      -1  21.887076   27   77.5740   \n",
       "1633  2020-10-23 00:00:00    1.71    64.0      -1  21.887076   27   78.3615   \n",
       "815   2020-10-19 10:30:00    1.63    50.0       1  18.818924   23   82.6860   \n",
       "670   2020-10-19 22:00:00    1.69    75.0      -1  26.259585   24   80.3820   \n",
       "1290  2020-10-23 16:00:00    1.67    56.0       1  20.079601   26   76.8760   \n",
       "1635  2020-10-23 01:00:00    1.71    64.0      -1  21.887076   27   78.4490   \n",
       "1634  2020-10-23 00:30:00    1.71    64.0      -1  21.887076   27   78.4490   \n",
       "\n",
       "        rh  heart_rate  stress_level  skin_temp       eda   TC   TS   Clo  Act  \n",
       "1695  53.0        72.0           5.0     31.117  0.038182  5.0  5.0  0.50  1.0  \n",
       "746   53.0        64.0          19.0     33.456  0.789816  6.0  6.0  0.54  0.8  \n",
       "744   53.0        64.0          15.0     33.070  0.052126  5.0  7.0  0.54  0.8  \n",
       "1707  53.0        79.0          37.0     32.215  0.025171  5.0  5.0  0.50  1.0  \n",
       "1633  53.0        74.0          16.0     31.615  0.070804  4.0  7.0  0.36  1.0  \n",
       "815   53.0        89.0          59.0     31.667  0.010611  4.0  6.0  0.31  1.1  \n",
       "670   53.0        68.5          54.0     32.267  0.007078  3.0  6.0  0.31  1.0  \n",
       "1290  53.0        88.5          43.0     30.563  0.890885  4.0  6.0  0.36  1.1  \n",
       "1635  53.0        74.0          13.0     31.719  0.118819  4.0  6.0  0.36  1.0  \n",
       "1634  53.0        72.0           7.0     31.484  0.057165  4.0  7.0  0.36  1.0  "
      ]
     },
     "execution_count": 28,
     "metadata": {},
     "output_type": "execute_result"
    }
   ],
   "source": [
    "df_sample_n"
   ]
  },
  {
   "cell_type": "code",
   "execution_count": 29,
   "metadata": {
    "ExecuteTime": {
     "end_time": "2021-01-12T23:14:04.690160Z",
     "start_time": "2021-01-12T23:14:04.676159Z"
    }
   },
   "outputs": [],
   "source": [
    "y_sample = df_sample_n['env_temp']"
   ]
  },
  {
   "cell_type": "code",
   "execution_count": 30,
   "metadata": {
    "ExecuteTime": {
     "end_time": "2021-01-12T23:14:04.706158Z",
     "start_time": "2021-01-12T23:14:04.692161Z"
    }
   },
   "outputs": [],
   "source": [
    "y_real = list(y_sample)"
   ]
  },
  {
   "cell_type": "code",
   "execution_count": 31,
   "metadata": {
    "ExecuteTime": {
     "end_time": "2021-01-12T23:14:04.722159Z",
     "start_time": "2021-01-12T23:14:04.708161Z"
    }
   },
   "outputs": [
    {
     "data": {
      "text/plain": [
       "[77.574,\n",
       " 79.678,\n",
       " 79.502,\n",
       " 77.574,\n",
       " 78.3615,\n",
       " 82.686,\n",
       " 80.382,\n",
       " 76.876,\n",
       " 78.449,\n",
       " 78.449]"
      ]
     },
     "execution_count": 31,
     "metadata": {},
     "output_type": "execute_result"
    }
   ],
   "source": [
    "y_real"
   ]
  },
  {
   "cell_type": "code",
   "execution_count": 32,
   "metadata": {
    "ExecuteTime": {
     "end_time": "2021-01-12T23:14:04.738158Z",
     "start_time": "2021-01-12T23:14:04.723161Z"
    }
   },
   "outputs": [],
   "source": [
    "X_sample = df_sample_n[['height', 'weight', 'gender', 'bmi', 'age', 'rh', \\\n",
    "                      'heart_rate', 'stress_level', 'skin_temp', 'eda', \\\n",
    "                      'Clo', 'Act']]"
   ]
  },
  {
   "cell_type": "markdown",
   "metadata": {},
   "source": [
    "## predict"
   ]
  },
  {
   "cell_type": "markdown",
   "metadata": {},
   "source": [
    "### predict comfort zone min value"
   ]
  },
  {
   "cell_type": "code",
   "execution_count": 33,
   "metadata": {
    "ExecuteTime": {
     "end_time": "2021-01-12T23:14:04.785159Z",
     "start_time": "2021-01-12T23:14:04.740162Z"
    }
   },
   "outputs": [],
   "source": [
    "y_pred_min = rfr_min.predict(X_sample)"
   ]
  },
  {
   "cell_type": "code",
   "execution_count": 34,
   "metadata": {
    "ExecuteTime": {
     "end_time": "2021-01-12T23:14:04.800159Z",
     "start_time": "2021-01-12T23:14:04.787160Z"
    }
   },
   "outputs": [
    {
     "data": {
      "text/plain": [
       "array([75.41890462, 76.90651   , 76.78979743, 76.04863435, 75.61638615,\n",
       "       77.36405333, 77.74946571, 74.75103429, 75.45270002, 75.30253429])"
      ]
     },
     "execution_count": 34,
     "metadata": {},
     "output_type": "execute_result"
    }
   ],
   "source": [
    "y_pred_min"
   ]
  },
  {
   "cell_type": "markdown",
   "metadata": {},
   "source": [
    "### predict comfort zone max value"
   ]
  },
  {
   "cell_type": "code",
   "execution_count": 35,
   "metadata": {
    "ExecuteTime": {
     "end_time": "2021-01-12T23:14:04.848159Z",
     "start_time": "2021-01-12T23:14:04.801159Z"
    }
   },
   "outputs": [],
   "source": [
    "y_pred_max = rfr_max.predict(X_sample)"
   ]
  },
  {
   "cell_type": "code",
   "execution_count": 36,
   "metadata": {
    "ExecuteTime": {
     "end_time": "2021-01-12T23:14:04.864158Z",
     "start_time": "2021-01-12T23:14:04.850160Z"
    },
    "scrolled": true
   },
   "outputs": [
    {
     "data": {
      "text/plain": [
       "array([80.04031714, 81.00383   , 80.37016286, 79.85194   , 80.11014571,\n",
       "       76.41599714, 80.18917286, 78.11622143, 80.30786   , 80.03108   ])"
      ]
     },
     "execution_count": 36,
     "metadata": {},
     "output_type": "execute_result"
    }
   ],
   "source": [
    "y_pred_max"
   ]
  },
  {
   "cell_type": "markdown",
   "metadata": {},
   "source": [
    "### delete the unacceptable values"
   ]
  },
  {
   "cell_type": "code",
   "execution_count": 37,
   "metadata": {
    "ExecuteTime": {
     "end_time": "2021-01-12T23:14:04.879159Z",
     "start_time": "2021-01-12T23:14:04.865160Z"
    }
   },
   "outputs": [],
   "source": [
    "t_min = []\n",
    "t_max = []\n",
    "for i in range(len(y_pred_min)):\n",
    "    if y_pred_min[i] <= y_pred_max[i]:\n",
    "        t_min.append(y_pred_min[i])\n",
    "        t_max.append(y_pred_max[i])\n",
    "    else:\n",
    "        t_min.append(y_pred_min[i])\n",
    "        t_max.append(y_pred_min[i])"
   ]
  },
  {
   "cell_type": "code",
   "execution_count": 38,
   "metadata": {
    "ExecuteTime": {
     "end_time": "2021-01-12T23:14:04.895160Z",
     "start_time": "2021-01-12T23:14:04.881160Z"
    }
   },
   "outputs": [
    {
     "data": {
      "text/plain": [
       "10"
      ]
     },
     "execution_count": 38,
     "metadata": {},
     "output_type": "execute_result"
    }
   ],
   "source": [
    "len(t_min)"
   ]
  },
  {
   "cell_type": "markdown",
   "metadata": {},
   "source": [
    "### plot zone"
   ]
  },
  {
   "cell_type": "code",
   "execution_count": 39,
   "metadata": {
    "ExecuteTime": {
     "end_time": "2021-01-12T23:14:05.037161Z",
     "start_time": "2021-01-12T23:14:04.897160Z"
    }
   },
   "outputs": [
    {
     "data": {
      "image/png": "[encoded data removed]",
      "text/plain": [
       "<Figure size 1080x720 with 1 Axes>"
      ]
     },
     "metadata": {
      "needs_background": "light"
     },
     "output_type": "display_data"
    }
   ],
   "source": [
    "# draw comfort zone\n",
    "for i in range(len(t_min)):\n",
    "    plt.plot([t_min[i], t_max[i]],[i, i])\n",
    "    \n",
    "# tag comfort zone min $ max\n",
    "for i in range(len(t_min)):\n",
    "    plt.text(t_min[i]-0.2, i+0.1, \"%.2f\" % t_min[i])\n",
    "    plt.text(t_max[i]-0.2, i+0.1, \"%.2f\" % t_max[i])\n",
    "\n",
    "plt.show()"
   ]
  },
  {
   "cell_type": "code",
   "execution_count": 40,
   "metadata": {
    "ExecuteTime": {
     "end_time": "2021-01-12T23:14:05.178159Z",
     "start_time": "2021-01-12T23:14:05.038160Z"
    }
   },
   "outputs": [
    {
     "name": "stdout",
     "output_type": "stream",
     "text": [
      "77.574\n",
      "79.678\n",
      "79.502\n",
      "77.574\n",
      "78.3615\n",
      "82.686\n",
      "80.382\n",
      "76.876\n",
      "78.449\n",
      "78.449\n"
     ]
    },
    {
     "data": {
      "image/png": "[encoded data removed]",
      "text/plain": [
       "<Figure size 1080x720 with 1 Axes>"
      ]
     },
     "metadata": {
      "needs_background": "light"
     },
     "output_type": "display_data"
    }
   ],
   "source": [
    "# draw comfort zone\n",
    "for i in range(len(t_min)):\n",
    "    plt.plot([t_min[i], t_max[i]],[i, i])\n",
    "    \n",
    "# tag comfort zone min $ max\n",
    "for i in range(len(t_min)):\n",
    "    plt.text(t_min[i]-0.2, i+0.1, \"%.2f\" % t_min[i])\n",
    "    plt.text(t_max[i]-0.2, i+0.1, \"%.2f\" % t_max[i])\n",
    "    \n",
    "# tag real env tempreture\n",
    "if len(t_min) == len(y_real):\n",
    "    for i in range(len(y_real)):\n",
    "        print(y_real[i])\n",
    "        plt.text(y_real[i]-0.2, i+0.1, \"%.2f\" % y_real[i], {'color': 'red'})\n",
    "\n",
    "plt.show()"
   ]
  },
  {
   "cell_type": "markdown",
   "metadata": {},
   "source": [
    "## predict group tempreture model"
   ]
  },
  {
   "cell_type": "code",
   "execution_count": 145,
   "metadata": {
    "ExecuteTime": {
     "end_time": "2021-01-13T01:09:39.109941Z",
     "start_time": "2021-01-13T01:09:39.083906Z"
    }
   },
   "outputs": [],
   "source": [
    "import math\n",
    "\n",
    "class OptimalGroupTempreture():\n",
    "    def __init__(self, minTs, maxTs, sensitivity=1.0, defaultMinMaxRange=1.0):\n",
    "        \"\"\"\n",
    "        sensitivity > 0, less means more sensitive\n",
    "        defaultMinMaxRange > 0 or == None\n",
    "        \"\"\"\n",
    "        if len(minTs) != len(maxTs):\n",
    "            print('Length of min tempreture records and max tempretur records are not equal!')\n",
    "            return None\n",
    "        self.minTs = minTs\n",
    "        self.maxTs = maxTs\n",
    "        self.sensitivity = sensitivity\n",
    "        self.defaultMinMaxRange = defaultMinMaxRange\n",
    "    \n",
    "    def getTempreture(self, model='auto', sensitivePeoplePercentageLimit=0.1, sensitiveRange=2, ppd=0.1):\n",
    "        \"\"\"\n",
    "        model = 'auto', 'sensitive first', 'otd model'\n",
    "        sensitivePeoplePercentage is > 0 and < 1\n",
    "        sensitiveRange is > 0, unit is Fahrenheit Degree\n",
    "        ppd: only for OTD model\n",
    "        \"\"\"\n",
    "        minTs = self.minTs\n",
    "        maxTs = self.maxTs\n",
    "\n",
    "        if self.defaultMinMaxRange is not None:\n",
    "            avgTs = [(maxTs[i] + minTs[i]) / 2 for i in range(len(minTs))]\n",
    "            tRanges = [maxTs[i] - minTs[i] for i in range(len(minTs))]\n",
    "            checkedtRanges = []\n",
    "            for i in range(len(tRanges)):\n",
    "                t = tRanges[i] if tRanges[i] > 0 else self.defaultMinMaxRange\n",
    "                checkedtRanges.append(t)\n",
    "        else:\n",
    "            avgTs = []\n",
    "            tRanges = [maxTs[i] - minTs[i] for i in range(len(minTs))]\n",
    "            checkedtRanges = []\n",
    "            for i in range(len(tRanges)):\n",
    "                if tRanges[i] > 0:\n",
    "                    t = tRanges[i]\n",
    "                    checkedtRanges.append(t)\n",
    "                    avgTs.append((maxTs[i] + minTs[i]) / 2)\n",
    "\n",
    "        # model selection\n",
    "        if model == 'sensitive first':\n",
    "            print('sensitive first model')\n",
    "            targetTempreture = self.sensitiveFirst(checkedtRanges, avgTs)\n",
    "        elif model == 'otd model':\n",
    "            print('otd model')\n",
    "            targetTempreture = self.otdModel(checkedtRanges, avgTs, ppd)\n",
    "        elif model == 'auto':\n",
    "            lengthOfSensitivePeople = len([tRange for tRange in checkedtRanges if tRange <= sensitiveRange])\n",
    "            if lengthOfSensitivePeople / len(checkedtRanges) >= sensitivePeoplePercentageLimit:\n",
    "                print('sensitive first model')\n",
    "                print('sensitive people percentage:', lengthOfSensitivePeople / len(checkedtRanges))\n",
    "                targetTempreture = self.sensitiveFirst(checkedtRanges, avgTs)\n",
    "            else:\n",
    "                print('otd model')\n",
    "                targetTempreture = self.otdModel(checkedtRanges, avgTs, ppd)\n",
    "                if targetTempreture is None:\n",
    "                    print('otd model does not find a acceptable value, use sensitive first model')\n",
    "                    targetTempreture = self.sensitiveFirst(checkedtRanges, avgTs)\n",
    "        else:\n",
    "            print('Wrong model')\n",
    "            return None\n",
    "\n",
    "        return targetTempreture\n",
    "\n",
    "    def sensitiveFirst(self, checkedtRanges, averageTs):\n",
    "        weights = [self.computeWeight(tRange) for tRange in checkedtRanges]\n",
    "        weightedTs = [averageTs[i] * weights[i] for i in range(len(averageTs))]\n",
    "        targetTempreture = sum(weightedTs) / sum(weights)\n",
    "        return targetTempreture\n",
    "\n",
    "    def computeWeight(self, tRange):\n",
    "        return (1 / tRange) ** self.sensitivity\n",
    "\n",
    "    def otdModel(self, checkedtRanges, averageTs, ppd):\n",
    "        numberOfPeople = len(checkedtRanges)\n",
    "        permitNumberOfUncomfortablePeople = math.floor(numberOfPeople * ppd)\n",
    "        otdMax = (numberOfPeople - permitNumberOfUncomfortablePeople) * 1 + \\\n",
    "            permitNumberOfUncomfortablePeople * (numberOfPeople + 1)\n",
    "\n",
    "        rangeTs = [self.otdDecideComfortness(checkedtRanges[i], averageTs[i]) for i in range(len(checkedtRanges))]\n",
    "\n",
    "        # find minT and maxT\n",
    "        minT = min([averageTs[i] - checkedtRanges[i] / 2 for i in range(len(checkedtRanges))])\n",
    "        maxT = max([averageTs[i] + checkedtRanges[i] / 2 for i in range(len(checkedtRanges))])\n",
    "\n",
    "        acceptableTs = []\n",
    "        for t10 in range(int(minT * 10), int(maxT * 10) + 1):\n",
    "            t = t10 / 10\n",
    "            otd = 0\n",
    "            for x in rangeTs:\n",
    "                if t >= x[0][0] and t <= x[0][1]:\n",
    "                    otd += 0\n",
    "                elif t >= x[1][0] and t <= x[1][1]:\n",
    "                    otd += 1\n",
    "                elif t >= x[2][0] and t <= x[2][1]:\n",
    "                    otd += numberOfPeople + 1\n",
    "                else:\n",
    "                    otd = (numberOfPeople + 1) * 2\n",
    "            if otd <= otdMax:\n",
    "                acceptableTs.append([t, otd])\n",
    "        if acceptableTs == []:\n",
    "            return None\n",
    "        acceptableTs.sort(key=lambda x: x[1])\n",
    "        maxValues = [acceptableTs[0][0]]\n",
    "        for i in range(1, len(acceptableTs)):\n",
    "            if acceptableTs[i][1] == acceptableTs[0][1]:\n",
    "                maxValues.append(acceptableTs[i][0])\n",
    "        # print(acceptableTs)\n",
    "        return sum(maxValues) / len(maxValues)\n",
    "\n",
    "                \n",
    "    def otdDecideComfortness(self, checkedtRange, averageT, \\\n",
    "                            littleUncomfortable=[1 , 1.4], \\\n",
    "                            uncomfortable=[1.4, 1.7]):\n",
    "        radius = checkedtRange / 2\n",
    "        rangeComfortable = [averageT - radius * littleUncomfortable[0], averageT + radius * littleUncomfortable[0]]\n",
    "        rangeLittleUncomfortable = [averageT - radius * littleUncomfortable[1], averageT + radius * littleUncomfortable[1]]\n",
    "        rangeUncomfortable = [averageT - radius * uncomfortable[1], averageT + radius * uncomfortable[1]]\n",
    "        return [rangeComfortable, rangeLittleUncomfortable, rangeUncomfortable]"
   ]
  },
  {
   "cell_type": "code",
   "execution_count": 146,
   "metadata": {
    "ExecuteTime": {
     "end_time": "2021-01-13T01:09:39.360384Z",
     "start_time": "2021-01-13T01:09:39.350386Z"
    }
   },
   "outputs": [],
   "source": [
    "ogt = OptimalGroupTempreture(y_pred_min, y_pred_max, defaultMinMaxRange=None)"
   ]
  },
  {
   "cell_type": "code",
   "execution_count": 147,
   "metadata": {
    "ExecuteTime": {
     "end_time": "2021-01-13T01:09:39.611060Z",
     "start_time": "2021-01-13T01:09:39.593060Z"
    }
   },
   "outputs": [
    {
     "name": "stdout",
     "output_type": "stream",
     "text": [
      "sensitive first model\n",
      "sensitive people percentage: 0.4444444444444444\n"
     ]
    },
    {
     "data": {
      "text/plain": [
       "78.05525258238838"
      ]
     },
     "execution_count": 147,
     "metadata": {},
     "output_type": "execute_result"
    }
   ],
   "source": [
    "ogt.getTempreture(sensitiveRange=4)"
   ]
  },
  {
   "cell_type": "code",
   "execution_count": 150,
   "metadata": {
    "ExecuteTime": {
     "end_time": "2021-01-13T01:09:56.398509Z",
     "start_time": "2021-01-13T01:09:56.384993Z"
    }
   },
   "outputs": [
    {
     "name": "stdout",
     "output_type": "stream",
     "text": [
      "otd model\n"
     ]
    },
    {
     "data": {
      "text/plain": [
       "77.94999999999999"
      ]
     },
     "execution_count": 150,
     "metadata": {},
     "output_type": "execute_result"
    }
   ],
   "source": [
    "ogt.getTempreture(model='otd model', ppd=0.1)"
   ]
  },
  {
   "cell_type": "code",
   "execution_count": null,
   "metadata": {},
   "outputs": [],
   "source": []
  },
  {
   "cell_type": "code",
   "execution_count": null,
   "metadata": {},
   "outputs": [],
   "source": []
  },
  {
   "cell_type": "code",
   "execution_count": null,
   "metadata": {},
   "outputs": [],
   "source": []
  },
  {
   "cell_type": "code",
   "execution_count": null,
   "metadata": {},
   "outputs": [],
   "source": []
  },
  {
   "cell_type": "code",
   "execution_count": null,
   "metadata": {},
   "outputs": [],
   "source": []
  },
  {
   "cell_type": "code",
   "execution_count": null,
   "metadata": {},
   "outputs": [],
   "source": []
  },
  {
   "cell_type": "code",
   "execution_count": null,
   "metadata": {},
   "outputs": [],
   "source": []
  },
  {
   "cell_type": "code",
   "execution_count": null,
   "metadata": {},
   "outputs": [],
   "source": []
  },
  {
   "cell_type": "code",
   "execution_count": null,
   "metadata": {},
   "outputs": [],
   "source": []
  },
  {
   "cell_type": "code",
   "execution_count": null,
   "metadata": {},
   "outputs": [],
   "source": []
  }
 ],
 "metadata": {
  "kernelspec": {
   "display_name": "Python [conda env:ml]",
   "language": "python",
   "name": "conda-env-ml-py"
  },
  "language_info": {
   "codemirror_mode": {
    "name": "ipython",
    "version": 3
   },
   "file_extension": ".py",
   "mimetype": "text/x-python",
   "name": "python",
   "nbconvert_exporter": "python",
   "pygments_lexer": "ipython3",
   "version": "3.6.10"
  },
  "toc": {
   "base_numbering": 1,
   "nav_menu": {},
   "number_sections": true,
   "sideBar": true,
   "skip_h1_title": false,
   "title_cell": "Table of Contents",
   "title_sidebar": "Contents",
   "toc_cell": false,
   "toc_position": {},
   "toc_section_display": true,
   "toc_window_display": false
  }
 },
 "nbformat": 4,
 "nbformat_minor": 2
}
