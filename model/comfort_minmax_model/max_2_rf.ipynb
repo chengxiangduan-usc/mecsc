{
 "cells": [
  {
   "cell_type": "markdown",
   "metadata": {},
   "source": [
    "random forest for refined dataset\n",
    "- imputed with mean value of each column\n",
    "- eliminate outliers and leverges after normalized"
   ]
  },
  {
   "cell_type": "markdown",
   "metadata": {},
   "source": [
    "some observations:\n",
    "- the model contructed by not normalized dataset is as good as the normalized dataset."
   ]
  },
  {
   "cell_type": "code",
   "execution_count": 1,
   "metadata": {
    "ExecuteTime": {
     "end_time": "2021-01-13T09:05:55.700568Z",
     "start_time": "2021-01-13T09:05:54.745055Z"
    }
   },
   "outputs": [],
   "source": [
    "%matplotlib inline\n",
    "import pandas as pd\n",
    "import numpy as np\n",
    "\n",
    "import matplotlib.pyplot as plt\n",
    "import seaborn as sns"
   ]
  },
  {
   "cell_type": "code",
   "execution_count": 2,
   "metadata": {
    "ExecuteTime": {
     "end_time": "2021-01-13T09:05:56.110086Z",
     "start_time": "2021-01-13T09:05:55.790570Z"
    }
   },
   "outputs": [],
   "source": [
    "from sklearn.ensemble import RandomForestRegressor\n",
    "\n",
    "from sklearn.preprocessing import normalize\n",
    "from sklearn.impute import SimpleImputer\n",
    "from sklearn.model_selection import train_test_split\n",
    "\n",
    "from sklearn.model_selection import RandomizedSearchCV, GridSearchCV, cross_val_score\n",
    "from sklearn.metrics import mean_squared_error, r2_score\n",
    "\n",
    "from sklearn import tree\n",
    "import joblib\n",
    "\n",
    "import scipy"
   ]
  },
  {
   "cell_type": "code",
   "execution_count": 3,
   "metadata": {
    "ExecuteTime": {
     "end_time": "2021-01-13T09:06:10.156890Z",
     "start_time": "2021-01-13T09:06:10.139891Z"
    }
   },
   "outputs": [],
   "source": [
    "plt.rcParams[\"figure.figsize\"] = (15, 10)"
   ]
  },
  {
   "cell_type": "markdown",
   "metadata": {},
   "source": [
    "## load data"
   ]
  },
  {
   "cell_type": "code",
   "execution_count": 4,
   "metadata": {
    "ExecuteTime": {
     "end_time": "2021-01-13T09:06:10.856259Z",
     "start_time": "2021-01-13T09:06:10.843982Z"
    }
   },
   "outputs": [],
   "source": [
    "pth_data = '../processed_data/train_refine_not_norm_max.csv'\n",
    "df_refine = pd.read_csv(pth_data)"
   ]
  },
  {
   "cell_type": "code",
   "execution_count": 5,
   "metadata": {
    "ExecuteTime": {
     "end_time": "2021-01-13T09:06:11.426780Z",
     "start_time": "2021-01-13T09:06:11.389781Z"
    },
    "scrolled": false
   },
   "outputs": [
    {
     "data": {
      "text/html": [
       "<div>\n",
       "<style scoped>\n",
       "    .dataframe tbody tr th:only-of-type {\n",
       "        vertical-align: middle;\n",
       "    }\n",
       "\n",
       "    .dataframe tbody tr th {\n",
       "        vertical-align: top;\n",
       "    }\n",
       "\n",
       "    .dataframe thead th {\n",
       "        text-align: right;\n",
       "    }\n",
       "</style>\n",
       "<table border=\"1\" class=\"dataframe\">\n",
       "  <thead>\n",
       "    <tr style=\"text-align: right;\">\n",
       "      <th></th>\n",
       "      <th>height</th>\n",
       "      <th>weight</th>\n",
       "      <th>gender</th>\n",
       "      <th>bmi</th>\n",
       "      <th>age</th>\n",
       "      <th>rh</th>\n",
       "      <th>heart_rate</th>\n",
       "      <th>stress_level</th>\n",
       "      <th>skin_temp</th>\n",
       "      <th>eda</th>\n",
       "      <th>Clo</th>\n",
       "      <th>Act</th>\n",
       "      <th>env_temp</th>\n",
       "    </tr>\n",
       "  </thead>\n",
       "  <tbody>\n",
       "    <tr>\n",
       "      <th>0</th>\n",
       "      <td>1.77</td>\n",
       "      <td>58.0</td>\n",
       "      <td>-1.0</td>\n",
       "      <td>18.513199</td>\n",
       "      <td>23.0</td>\n",
       "      <td>54.990</td>\n",
       "      <td>91.000000</td>\n",
       "      <td>63.000000</td>\n",
       "      <td>32.682000</td>\n",
       "      <td>0.128582</td>\n",
       "      <td>0.36</td>\n",
       "      <td>1.1</td>\n",
       "      <td>79.084</td>\n",
       "    </tr>\n",
       "    <tr>\n",
       "      <th>1</th>\n",
       "      <td>1.78</td>\n",
       "      <td>73.0</td>\n",
       "      <td>-1.0</td>\n",
       "      <td>23.040020</td>\n",
       "      <td>24.0</td>\n",
       "      <td>56.310</td>\n",
       "      <td>90.000000</td>\n",
       "      <td>81.000000</td>\n",
       "      <td>33.096000</td>\n",
       "      <td>0.079552</td>\n",
       "      <td>0.36</td>\n",
       "      <td>1.0</td>\n",
       "      <td>80.735</td>\n",
       "    </tr>\n",
       "    <tr>\n",
       "      <th>2</th>\n",
       "      <td>1.77</td>\n",
       "      <td>90.0</td>\n",
       "      <td>-1.0</td>\n",
       "      <td>28.727377</td>\n",
       "      <td>28.0</td>\n",
       "      <td>61.459</td>\n",
       "      <td>83.000000</td>\n",
       "      <td>78.000000</td>\n",
       "      <td>30.537000</td>\n",
       "      <td>0.422045</td>\n",
       "      <td>0.57</td>\n",
       "      <td>1.7</td>\n",
       "      <td>80.008</td>\n",
       "    </tr>\n",
       "    <tr>\n",
       "      <th>3</th>\n",
       "      <td>1.60</td>\n",
       "      <td>52.5</td>\n",
       "      <td>1.0</td>\n",
       "      <td>20.507812</td>\n",
       "      <td>24.0</td>\n",
       "      <td>44.681</td>\n",
       "      <td>88.158537</td>\n",
       "      <td>62.485294</td>\n",
       "      <td>32.559814</td>\n",
       "      <td>0.031869</td>\n",
       "      <td>0.61</td>\n",
       "      <td>1.7</td>\n",
       "      <td>78.033</td>\n",
       "    </tr>\n",
       "    <tr>\n",
       "      <th>4</th>\n",
       "      <td>1.60</td>\n",
       "      <td>52.5</td>\n",
       "      <td>1.0</td>\n",
       "      <td>20.507812</td>\n",
       "      <td>24.0</td>\n",
       "      <td>62.764</td>\n",
       "      <td>82.000000</td>\n",
       "      <td>39.000000</td>\n",
       "      <td>30.907000</td>\n",
       "      <td>-0.031865</td>\n",
       "      <td>0.54</td>\n",
       "      <td>1.0</td>\n",
       "      <td>76.464</td>\n",
       "    </tr>\n",
       "    <tr>\n",
       "      <th>5</th>\n",
       "      <td>1.77</td>\n",
       "      <td>90.0</td>\n",
       "      <td>-1.0</td>\n",
       "      <td>28.727377</td>\n",
       "      <td>28.0</td>\n",
       "      <td>61.638</td>\n",
       "      <td>91.000000</td>\n",
       "      <td>83.000000</td>\n",
       "      <td>33.250000</td>\n",
       "      <td>8.697113</td>\n",
       "      <td>0.36</td>\n",
       "      <td>1.1</td>\n",
       "      <td>81.023</td>\n",
       "    </tr>\n",
       "    <tr>\n",
       "      <th>6</th>\n",
       "      <td>1.77</td>\n",
       "      <td>58.0</td>\n",
       "      <td>-1.0</td>\n",
       "      <td>18.513199</td>\n",
       "      <td>23.0</td>\n",
       "      <td>55.272</td>\n",
       "      <td>87.000000</td>\n",
       "      <td>62.485294</td>\n",
       "      <td>32.915000</td>\n",
       "      <td>0.006857</td>\n",
       "      <td>0.36</td>\n",
       "      <td>1.0</td>\n",
       "      <td>79.480</td>\n",
       "    </tr>\n",
       "    <tr>\n",
       "      <th>7</th>\n",
       "      <td>1.77</td>\n",
       "      <td>58.0</td>\n",
       "      <td>-1.0</td>\n",
       "      <td>18.513199</td>\n",
       "      <td>23.0</td>\n",
       "      <td>50.237</td>\n",
       "      <td>99.000000</td>\n",
       "      <td>54.000000</td>\n",
       "      <td>31.588000</td>\n",
       "      <td>0.017909</td>\n",
       "      <td>0.36</td>\n",
       "      <td>1.3</td>\n",
       "      <td>76.725</td>\n",
       "    </tr>\n",
       "    <tr>\n",
       "      <th>8</th>\n",
       "      <td>1.77</td>\n",
       "      <td>90.0</td>\n",
       "      <td>-1.0</td>\n",
       "      <td>28.727377</td>\n",
       "      <td>28.0</td>\n",
       "      <td>60.389</td>\n",
       "      <td>67.000000</td>\n",
       "      <td>62.485294</td>\n",
       "      <td>31.013000</td>\n",
       "      <td>0.188456</td>\n",
       "      <td>0.36</td>\n",
       "      <td>1.1</td>\n",
       "      <td>79.480</td>\n",
       "    </tr>\n",
       "    <tr>\n",
       "      <th>9</th>\n",
       "      <td>1.77</td>\n",
       "      <td>58.0</td>\n",
       "      <td>-1.0</td>\n",
       "      <td>18.513199</td>\n",
       "      <td>23.0</td>\n",
       "      <td>53.132</td>\n",
       "      <td>106.000000</td>\n",
       "      <td>93.000000</td>\n",
       "      <td>33.790000</td>\n",
       "      <td>0.322940</td>\n",
       "      <td>0.36</td>\n",
       "      <td>1.3</td>\n",
       "      <td>80.845</td>\n",
       "    </tr>\n",
       "    <tr>\n",
       "      <th>10</th>\n",
       "      <td>1.80</td>\n",
       "      <td>75.0</td>\n",
       "      <td>-1.0</td>\n",
       "      <td>23.148148</td>\n",
       "      <td>33.0</td>\n",
       "      <td>48.290</td>\n",
       "      <td>67.000000</td>\n",
       "      <td>17.000000</td>\n",
       "      <td>31.850000</td>\n",
       "      <td>4.085208</td>\n",
       "      <td>0.31</td>\n",
       "      <td>1.0</td>\n",
       "      <td>85.194</td>\n",
       "    </tr>\n",
       "    <tr>\n",
       "      <th>11</th>\n",
       "      <td>1.78</td>\n",
       "      <td>73.0</td>\n",
       "      <td>-1.0</td>\n",
       "      <td>23.040020</td>\n",
       "      <td>24.0</td>\n",
       "      <td>37.380</td>\n",
       "      <td>87.000000</td>\n",
       "      <td>67.000000</td>\n",
       "      <td>32.422000</td>\n",
       "      <td>0.851713</td>\n",
       "      <td>0.57</td>\n",
       "      <td>1.4</td>\n",
       "      <td>84.834</td>\n",
       "    </tr>\n",
       "    <tr>\n",
       "      <th>12</th>\n",
       "      <td>1.77</td>\n",
       "      <td>58.0</td>\n",
       "      <td>-1.0</td>\n",
       "      <td>18.513199</td>\n",
       "      <td>23.0</td>\n",
       "      <td>52.903</td>\n",
       "      <td>86.000000</td>\n",
       "      <td>46.000000</td>\n",
       "      <td>31.719000</td>\n",
       "      <td>0.066685</td>\n",
       "      <td>0.36</td>\n",
       "      <td>1.3</td>\n",
       "      <td>78.645</td>\n",
       "    </tr>\n",
       "    <tr>\n",
       "      <th>13</th>\n",
       "      <td>1.74</td>\n",
       "      <td>65.0</td>\n",
       "      <td>-1.0</td>\n",
       "      <td>21.469150</td>\n",
       "      <td>23.0</td>\n",
       "      <td>52.220</td>\n",
       "      <td>79.000000</td>\n",
       "      <td>56.000000</td>\n",
       "      <td>32.656000</td>\n",
       "      <td>0.139741</td>\n",
       "      <td>0.31</td>\n",
       "      <td>1.8</td>\n",
       "      <td>80.382</td>\n",
       "    </tr>\n",
       "    <tr>\n",
       "      <th>14</th>\n",
       "      <td>1.60</td>\n",
       "      <td>52.5</td>\n",
       "      <td>1.0</td>\n",
       "      <td>20.507812</td>\n",
       "      <td>24.0</td>\n",
       "      <td>50.456</td>\n",
       "      <td>88.158537</td>\n",
       "      <td>62.485294</td>\n",
       "      <td>32.559814</td>\n",
       "      <td>0.465932</td>\n",
       "      <td>0.36</td>\n",
       "      <td>1.1</td>\n",
       "      <td>76.636</td>\n",
       "    </tr>\n",
       "    <tr>\n",
       "      <th>15</th>\n",
       "      <td>1.77</td>\n",
       "      <td>58.0</td>\n",
       "      <td>-1.0</td>\n",
       "      <td>18.513199</td>\n",
       "      <td>23.0</td>\n",
       "      <td>53.124</td>\n",
       "      <td>88.158537</td>\n",
       "      <td>80.000000</td>\n",
       "      <td>34.277000</td>\n",
       "      <td>0.449456</td>\n",
       "      <td>0.36</td>\n",
       "      <td>1.3</td>\n",
       "      <td>81.154</td>\n",
       "    </tr>\n",
       "    <tr>\n",
       "      <th>16</th>\n",
       "      <td>1.83</td>\n",
       "      <td>74.0</td>\n",
       "      <td>-1.0</td>\n",
       "      <td>22.096808</td>\n",
       "      <td>24.0</td>\n",
       "      <td>50.860</td>\n",
       "      <td>91.000000</td>\n",
       "      <td>82.000000</td>\n",
       "      <td>32.059000</td>\n",
       "      <td>0.011588</td>\n",
       "      <td>0.50</td>\n",
       "      <td>1.1</td>\n",
       "      <td>83.757</td>\n",
       "    </tr>\n",
       "    <tr>\n",
       "      <th>17</th>\n",
       "      <td>1.77</td>\n",
       "      <td>90.0</td>\n",
       "      <td>-1.0</td>\n",
       "      <td>28.727377</td>\n",
       "      <td>28.0</td>\n",
       "      <td>59.860</td>\n",
       "      <td>94.000000</td>\n",
       "      <td>75.000000</td>\n",
       "      <td>33.482000</td>\n",
       "      <td>3.446370</td>\n",
       "      <td>0.36</td>\n",
       "      <td>1.1</td>\n",
       "      <td>81.597</td>\n",
       "    </tr>\n",
       "    <tr>\n",
       "      <th>18</th>\n",
       "      <td>1.77</td>\n",
       "      <td>90.0</td>\n",
       "      <td>-1.0</td>\n",
       "      <td>28.727377</td>\n",
       "      <td>28.0</td>\n",
       "      <td>60.400</td>\n",
       "      <td>84.000000</td>\n",
       "      <td>42.000000</td>\n",
       "      <td>33.790000</td>\n",
       "      <td>6.623952</td>\n",
       "      <td>0.36</td>\n",
       "      <td>1.1</td>\n",
       "      <td>81.023</td>\n",
       "    </tr>\n",
       "    <tr>\n",
       "      <th>19</th>\n",
       "      <td>1.77</td>\n",
       "      <td>90.0</td>\n",
       "      <td>-1.0</td>\n",
       "      <td>28.727377</td>\n",
       "      <td>28.0</td>\n",
       "      <td>61.233</td>\n",
       "      <td>79.000000</td>\n",
       "      <td>62.485294</td>\n",
       "      <td>33.430000</td>\n",
       "      <td>0.289664</td>\n",
       "      <td>0.57</td>\n",
       "      <td>1.4</td>\n",
       "      <td>78.559</td>\n",
       "    </tr>\n",
       "    <tr>\n",
       "      <th>20</th>\n",
       "      <td>1.60</td>\n",
       "      <td>52.5</td>\n",
       "      <td>1.0</td>\n",
       "      <td>20.507812</td>\n",
       "      <td>24.0</td>\n",
       "      <td>48.749</td>\n",
       "      <td>88.158537</td>\n",
       "      <td>62.485294</td>\n",
       "      <td>32.559814</td>\n",
       "      <td>0.043203</td>\n",
       "      <td>0.36</td>\n",
       "      <td>1.1</td>\n",
       "      <td>74.813</td>\n",
       "    </tr>\n",
       "    <tr>\n",
       "      <th>21</th>\n",
       "      <td>1.60</td>\n",
       "      <td>52.5</td>\n",
       "      <td>1.0</td>\n",
       "      <td>20.507812</td>\n",
       "      <td>24.0</td>\n",
       "      <td>47.111</td>\n",
       "      <td>88.158537</td>\n",
       "      <td>62.485294</td>\n",
       "      <td>32.559814</td>\n",
       "      <td>0.829874</td>\n",
       "      <td>0.96</td>\n",
       "      <td>1.1</td>\n",
       "      <td>80.361</td>\n",
       "    </tr>\n",
       "    <tr>\n",
       "      <th>22</th>\n",
       "      <td>1.77</td>\n",
       "      <td>58.0</td>\n",
       "      <td>-1.0</td>\n",
       "      <td>18.513199</td>\n",
       "      <td>23.0</td>\n",
       "      <td>53.042</td>\n",
       "      <td>119.000000</td>\n",
       "      <td>96.500000</td>\n",
       "      <td>33.250000</td>\n",
       "      <td>0.113393</td>\n",
       "      <td>0.36</td>\n",
       "      <td>1.3</td>\n",
       "      <td>80.492</td>\n",
       "    </tr>\n",
       "    <tr>\n",
       "      <th>23</th>\n",
       "      <td>1.77</td>\n",
       "      <td>90.0</td>\n",
       "      <td>-1.0</td>\n",
       "      <td>28.727377</td>\n",
       "      <td>28.0</td>\n",
       "      <td>60.113</td>\n",
       "      <td>86.000000</td>\n",
       "      <td>62.485294</td>\n",
       "      <td>33.199000</td>\n",
       "      <td>4.282520</td>\n",
       "      <td>0.36</td>\n",
       "      <td>1.1</td>\n",
       "      <td>80.227</td>\n",
       "    </tr>\n",
       "    <tr>\n",
       "      <th>24</th>\n",
       "      <td>1.60</td>\n",
       "      <td>52.5</td>\n",
       "      <td>1.0</td>\n",
       "      <td>20.507812</td>\n",
       "      <td>24.0</td>\n",
       "      <td>63.661</td>\n",
       "      <td>91.000000</td>\n",
       "      <td>71.000000</td>\n",
       "      <td>31.353000</td>\n",
       "      <td>-0.045075</td>\n",
       "      <td>0.54</td>\n",
       "      <td>1.7</td>\n",
       "      <td>76.507</td>\n",
       "    </tr>\n",
       "    <tr>\n",
       "      <th>25</th>\n",
       "      <td>1.83</td>\n",
       "      <td>74.0</td>\n",
       "      <td>-1.0</td>\n",
       "      <td>22.096808</td>\n",
       "      <td>24.0</td>\n",
       "      <td>50.790</td>\n",
       "      <td>92.000000</td>\n",
       "      <td>85.000000</td>\n",
       "      <td>31.929000</td>\n",
       "      <td>0.043118</td>\n",
       "      <td>0.50</td>\n",
       "      <td>1.1</td>\n",
       "      <td>83.935</td>\n",
       "    </tr>\n",
       "    <tr>\n",
       "      <th>26</th>\n",
       "      <td>1.60</td>\n",
       "      <td>52.5</td>\n",
       "      <td>1.0</td>\n",
       "      <td>20.507812</td>\n",
       "      <td>24.0</td>\n",
       "      <td>51.538</td>\n",
       "      <td>88.158537</td>\n",
       "      <td>62.485294</td>\n",
       "      <td>32.559814</td>\n",
       "      <td>-0.100261</td>\n",
       "      <td>0.53</td>\n",
       "      <td>1.0</td>\n",
       "      <td>72.696</td>\n",
       "    </tr>\n",
       "    <tr>\n",
       "      <th>27</th>\n",
       "      <td>1.74</td>\n",
       "      <td>65.0</td>\n",
       "      <td>-1.0</td>\n",
       "      <td>21.469150</td>\n",
       "      <td>23.0</td>\n",
       "      <td>51.880</td>\n",
       "      <td>68.000000</td>\n",
       "      <td>30.500000</td>\n",
       "      <td>32.941000</td>\n",
       "      <td>0.392251</td>\n",
       "      <td>0.31</td>\n",
       "      <td>1.8</td>\n",
       "      <td>80.911</td>\n",
       "    </tr>\n",
       "    <tr>\n",
       "      <th>28</th>\n",
       "      <td>1.60</td>\n",
       "      <td>52.5</td>\n",
       "      <td>1.0</td>\n",
       "      <td>20.507812</td>\n",
       "      <td>24.0</td>\n",
       "      <td>47.532</td>\n",
       "      <td>88.158537</td>\n",
       "      <td>62.485294</td>\n",
       "      <td>32.559814</td>\n",
       "      <td>0.855204</td>\n",
       "      <td>0.96</td>\n",
       "      <td>0.8</td>\n",
       "      <td>79.304</td>\n",
       "    </tr>\n",
       "    <tr>\n",
       "      <th>29</th>\n",
       "      <td>1.78</td>\n",
       "      <td>73.0</td>\n",
       "      <td>-1.0</td>\n",
       "      <td>23.040020</td>\n",
       "      <td>24.0</td>\n",
       "      <td>58.310</td>\n",
       "      <td>95.000000</td>\n",
       "      <td>63.000000</td>\n",
       "      <td>32.396000</td>\n",
       "      <td>6.893374</td>\n",
       "      <td>0.36</td>\n",
       "      <td>1.0</td>\n",
       "      <td>81.090</td>\n",
       "    </tr>\n",
       "    <tr>\n",
       "      <th>30</th>\n",
       "      <td>1.78</td>\n",
       "      <td>73.0</td>\n",
       "      <td>-1.0</td>\n",
       "      <td>23.040020</td>\n",
       "      <td>24.0</td>\n",
       "      <td>31.950</td>\n",
       "      <td>65.000000</td>\n",
       "      <td>12.000000</td>\n",
       "      <td>32.578000</td>\n",
       "      <td>1.099001</td>\n",
       "      <td>0.57</td>\n",
       "      <td>1.4</td>\n",
       "      <td>84.474</td>\n",
       "    </tr>\n",
       "    <tr>\n",
       "      <th>31</th>\n",
       "      <td>1.74</td>\n",
       "      <td>65.0</td>\n",
       "      <td>-1.0</td>\n",
       "      <td>21.469150</td>\n",
       "      <td>23.0</td>\n",
       "      <td>56.910</td>\n",
       "      <td>71.000000</td>\n",
       "      <td>36.000000</td>\n",
       "      <td>32.448000</td>\n",
       "      <td>0.139007</td>\n",
       "      <td>0.31</td>\n",
       "      <td>1.1</td>\n",
       "      <td>80.206</td>\n",
       "    </tr>\n",
       "    <tr>\n",
       "      <th>32</th>\n",
       "      <td>1.77</td>\n",
       "      <td>58.0</td>\n",
       "      <td>-1.0</td>\n",
       "      <td>18.513199</td>\n",
       "      <td>23.0</td>\n",
       "      <td>53.231</td>\n",
       "      <td>104.000000</td>\n",
       "      <td>80.000000</td>\n",
       "      <td>33.379000</td>\n",
       "      <td>0.103915</td>\n",
       "      <td>0.36</td>\n",
       "      <td>1.3</td>\n",
       "      <td>80.051</td>\n",
       "    </tr>\n",
       "    <tr>\n",
       "      <th>33</th>\n",
       "      <td>1.77</td>\n",
       "      <td>58.0</td>\n",
       "      <td>-1.0</td>\n",
       "      <td>18.513199</td>\n",
       "      <td>23.0</td>\n",
       "      <td>51.182</td>\n",
       "      <td>109.000000</td>\n",
       "      <td>93.500000</td>\n",
       "      <td>32.785000</td>\n",
       "      <td>0.305928</td>\n",
       "      <td>0.36</td>\n",
       "      <td>1.3</td>\n",
       "      <td>80.008</td>\n",
       "    </tr>\n",
       "    <tr>\n",
       "      <th>34</th>\n",
       "      <td>1.80</td>\n",
       "      <td>75.0</td>\n",
       "      <td>-1.0</td>\n",
       "      <td>23.148148</td>\n",
       "      <td>33.0</td>\n",
       "      <td>52.820</td>\n",
       "      <td>74.000000</td>\n",
       "      <td>57.000000</td>\n",
       "      <td>31.431000</td>\n",
       "      <td>2.235881</td>\n",
       "      <td>0.31</td>\n",
       "      <td>1.2</td>\n",
       "      <td>81.266</td>\n",
       "    </tr>\n",
       "    <tr>\n",
       "      <th>35</th>\n",
       "      <td>1.77</td>\n",
       "      <td>58.0</td>\n",
       "      <td>-1.0</td>\n",
       "      <td>18.513199</td>\n",
       "      <td>23.0</td>\n",
       "      <td>52.274</td>\n",
       "      <td>88.158537</td>\n",
       "      <td>54.000000</td>\n",
       "      <td>34.584000</td>\n",
       "      <td>0.679343</td>\n",
       "      <td>0.36</td>\n",
       "      <td>1.3</td>\n",
       "      <td>81.333</td>\n",
       "    </tr>\n",
       "    <tr>\n",
       "      <th>36</th>\n",
       "      <td>1.77</td>\n",
       "      <td>58.0</td>\n",
       "      <td>-1.0</td>\n",
       "      <td>18.513199</td>\n",
       "      <td>23.0</td>\n",
       "      <td>49.501</td>\n",
       "      <td>101.000000</td>\n",
       "      <td>74.000000</td>\n",
       "      <td>33.945000</td>\n",
       "      <td>0.536870</td>\n",
       "      <td>0.36</td>\n",
       "      <td>1.3</td>\n",
       "      <td>79.524</td>\n",
       "    </tr>\n",
       "    <tr>\n",
       "      <th>37</th>\n",
       "      <td>1.77</td>\n",
       "      <td>58.0</td>\n",
       "      <td>-1.0</td>\n",
       "      <td>18.513199</td>\n",
       "      <td>23.0</td>\n",
       "      <td>53.124</td>\n",
       "      <td>92.500000</td>\n",
       "      <td>67.000000</td>\n",
       "      <td>32.682000</td>\n",
       "      <td>0.077406</td>\n",
       "      <td>0.36</td>\n",
       "      <td>1.3</td>\n",
       "      <td>79.480</td>\n",
       "    </tr>\n",
       "    <tr>\n",
       "      <th>38</th>\n",
       "      <td>1.78</td>\n",
       "      <td>73.0</td>\n",
       "      <td>-1.0</td>\n",
       "      <td>23.040020</td>\n",
       "      <td>24.0</td>\n",
       "      <td>38.620</td>\n",
       "      <td>89.000000</td>\n",
       "      <td>69.000000</td>\n",
       "      <td>32.915000</td>\n",
       "      <td>1.636139</td>\n",
       "      <td>0.57</td>\n",
       "      <td>1.4</td>\n",
       "      <td>84.474</td>\n",
       "    </tr>\n",
       "    <tr>\n",
       "      <th>39</th>\n",
       "      <td>1.80</td>\n",
       "      <td>75.0</td>\n",
       "      <td>-1.0</td>\n",
       "      <td>23.148148</td>\n",
       "      <td>33.0</td>\n",
       "      <td>50.300</td>\n",
       "      <td>86.000000</td>\n",
       "      <td>60.000000</td>\n",
       "      <td>32.033000</td>\n",
       "      <td>3.933105</td>\n",
       "      <td>0.31</td>\n",
       "      <td>1.2</td>\n",
       "      <td>81.975</td>\n",
       "    </tr>\n",
       "    <tr>\n",
       "      <th>40</th>\n",
       "      <td>1.77</td>\n",
       "      <td>58.0</td>\n",
       "      <td>-1.0</td>\n",
       "      <td>18.513199</td>\n",
       "      <td>23.0</td>\n",
       "      <td>54.306</td>\n",
       "      <td>78.000000</td>\n",
       "      <td>52.000000</td>\n",
       "      <td>30.960000</td>\n",
       "      <td>0.016239</td>\n",
       "      <td>0.36</td>\n",
       "      <td>1.3</td>\n",
       "      <td>78.427</td>\n",
       "    </tr>\n",
       "    <tr>\n",
       "      <th>41</th>\n",
       "      <td>1.74</td>\n",
       "      <td>65.0</td>\n",
       "      <td>-1.0</td>\n",
       "      <td>21.469150</td>\n",
       "      <td>23.0</td>\n",
       "      <td>46.390</td>\n",
       "      <td>68.000000</td>\n",
       "      <td>62.485294</td>\n",
       "      <td>33.044000</td>\n",
       "      <td>0.223055</td>\n",
       "      <td>0.31</td>\n",
       "      <td>1.8</td>\n",
       "      <td>80.911</td>\n",
       "    </tr>\n",
       "    <tr>\n",
       "      <th>42</th>\n",
       "      <td>1.77</td>\n",
       "      <td>58.0</td>\n",
       "      <td>-1.0</td>\n",
       "      <td>18.513199</td>\n",
       "      <td>23.0</td>\n",
       "      <td>52.417</td>\n",
       "      <td>80.500000</td>\n",
       "      <td>8.000000</td>\n",
       "      <td>32.215000</td>\n",
       "      <td>0.048541</td>\n",
       "      <td>0.36</td>\n",
       "      <td>1.3</td>\n",
       "      <td>77.727</td>\n",
       "    </tr>\n",
       "    <tr>\n",
       "      <th>43</th>\n",
       "      <td>1.77</td>\n",
       "      <td>58.0</td>\n",
       "      <td>-1.0</td>\n",
       "      <td>18.513199</td>\n",
       "      <td>23.0</td>\n",
       "      <td>51.234</td>\n",
       "      <td>102.500000</td>\n",
       "      <td>78.000000</td>\n",
       "      <td>33.636000</td>\n",
       "      <td>0.585949</td>\n",
       "      <td>0.36</td>\n",
       "      <td>1.3</td>\n",
       "      <td>80.272</td>\n",
       "    </tr>\n",
       "  </tbody>\n",
       "</table>\n",
       "</div>"
      ],
      "text/plain": [
       "    height  weight  gender        bmi   age      rh  heart_rate  stress_level  \\\n",
       "0     1.77    58.0    -1.0  18.513199  23.0  54.990   91.000000     63.000000   \n",
       "1     1.78    73.0    -1.0  23.040020  24.0  56.310   90.000000     81.000000   \n",
       "2     1.77    90.0    -1.0  28.727377  28.0  61.459   83.000000     78.000000   \n",
       "3     1.60    52.5     1.0  20.507812  24.0  44.681   88.158537     62.485294   \n",
       "4     1.60    52.5     1.0  20.507812  24.0  62.764   82.000000     39.000000   \n",
       "5     1.77    90.0    -1.0  28.727377  28.0  61.638   91.000000     83.000000   \n",
       "6     1.77    58.0    -1.0  18.513199  23.0  55.272   87.000000     62.485294   \n",
       "7     1.77    58.0    -1.0  18.513199  23.0  50.237   99.000000     54.000000   \n",
       "8     1.77    90.0    -1.0  28.727377  28.0  60.389   67.000000     62.485294   \n",
       "9     1.77    58.0    -1.0  18.513199  23.0  53.132  106.000000     93.000000   \n",
       "10    1.80    75.0    -1.0  23.148148  33.0  48.290   67.000000     17.000000   \n",
       "11    1.78    73.0    -1.0  23.040020  24.0  37.380   87.000000     67.000000   \n",
       "12    1.77    58.0    -1.0  18.513199  23.0  52.903   86.000000     46.000000   \n",
       "13    1.74    65.0    -1.0  21.469150  23.0  52.220   79.000000     56.000000   \n",
       "14    1.60    52.5     1.0  20.507812  24.0  50.456   88.158537     62.485294   \n",
       "15    1.77    58.0    -1.0  18.513199  23.0  53.124   88.158537     80.000000   \n",
       "16    1.83    74.0    -1.0  22.096808  24.0  50.860   91.000000     82.000000   \n",
       "17    1.77    90.0    -1.0  28.727377  28.0  59.860   94.000000     75.000000   \n",
       "18    1.77    90.0    -1.0  28.727377  28.0  60.400   84.000000     42.000000   \n",
       "19    1.77    90.0    -1.0  28.727377  28.0  61.233   79.000000     62.485294   \n",
       "20    1.60    52.5     1.0  20.507812  24.0  48.749   88.158537     62.485294   \n",
       "21    1.60    52.5     1.0  20.507812  24.0  47.111   88.158537     62.485294   \n",
       "22    1.77    58.0    -1.0  18.513199  23.0  53.042  119.000000     96.500000   \n",
       "23    1.77    90.0    -1.0  28.727377  28.0  60.113   86.000000     62.485294   \n",
       "24    1.60    52.5     1.0  20.507812  24.0  63.661   91.000000     71.000000   \n",
       "25    1.83    74.0    -1.0  22.096808  24.0  50.790   92.000000     85.000000   \n",
       "26    1.60    52.5     1.0  20.507812  24.0  51.538   88.158537     62.485294   \n",
       "27    1.74    65.0    -1.0  21.469150  23.0  51.880   68.000000     30.500000   \n",
       "28    1.60    52.5     1.0  20.507812  24.0  47.532   88.158537     62.485294   \n",
       "29    1.78    73.0    -1.0  23.040020  24.0  58.310   95.000000     63.000000   \n",
       "30    1.78    73.0    -1.0  23.040020  24.0  31.950   65.000000     12.000000   \n",
       "31    1.74    65.0    -1.0  21.469150  23.0  56.910   71.000000     36.000000   \n",
       "32    1.77    58.0    -1.0  18.513199  23.0  53.231  104.000000     80.000000   \n",
       "33    1.77    58.0    -1.0  18.513199  23.0  51.182  109.000000     93.500000   \n",
       "34    1.80    75.0    -1.0  23.148148  33.0  52.820   74.000000     57.000000   \n",
       "35    1.77    58.0    -1.0  18.513199  23.0  52.274   88.158537     54.000000   \n",
       "36    1.77    58.0    -1.0  18.513199  23.0  49.501  101.000000     74.000000   \n",
       "37    1.77    58.0    -1.0  18.513199  23.0  53.124   92.500000     67.000000   \n",
       "38    1.78    73.0    -1.0  23.040020  24.0  38.620   89.000000     69.000000   \n",
       "39    1.80    75.0    -1.0  23.148148  33.0  50.300   86.000000     60.000000   \n",
       "40    1.77    58.0    -1.0  18.513199  23.0  54.306   78.000000     52.000000   \n",
       "41    1.74    65.0    -1.0  21.469150  23.0  46.390   68.000000     62.485294   \n",
       "42    1.77    58.0    -1.0  18.513199  23.0  52.417   80.500000      8.000000   \n",
       "43    1.77    58.0    -1.0  18.513199  23.0  51.234  102.500000     78.000000   \n",
       "\n",
       "    skin_temp       eda   Clo  Act  env_temp  \n",
       "0   32.682000  0.128582  0.36  1.1    79.084  \n",
       "1   33.096000  0.079552  0.36  1.0    80.735  \n",
       "2   30.537000  0.422045  0.57  1.7    80.008  \n",
       "3   32.559814  0.031869  0.61  1.7    78.033  \n",
       "4   30.907000 -0.031865  0.54  1.0    76.464  \n",
       "5   33.250000  8.697113  0.36  1.1    81.023  \n",
       "6   32.915000  0.006857  0.36  1.0    79.480  \n",
       "7   31.588000  0.017909  0.36  1.3    76.725  \n",
       "8   31.013000  0.188456  0.36  1.1    79.480  \n",
       "9   33.790000  0.322940  0.36  1.3    80.845  \n",
       "10  31.850000  4.085208  0.31  1.0    85.194  \n",
       "11  32.422000  0.851713  0.57  1.4    84.834  \n",
       "12  31.719000  0.066685  0.36  1.3    78.645  \n",
       "13  32.656000  0.139741  0.31  1.8    80.382  \n",
       "14  32.559814  0.465932  0.36  1.1    76.636  \n",
       "15  34.277000  0.449456  0.36  1.3    81.154  \n",
       "16  32.059000  0.011588  0.50  1.1    83.757  \n",
       "17  33.482000  3.446370  0.36  1.1    81.597  \n",
       "18  33.790000  6.623952  0.36  1.1    81.023  \n",
       "19  33.430000  0.289664  0.57  1.4    78.559  \n",
       "20  32.559814  0.043203  0.36  1.1    74.813  \n",
       "21  32.559814  0.829874  0.96  1.1    80.361  \n",
       "22  33.250000  0.113393  0.36  1.3    80.492  \n",
       "23  33.199000  4.282520  0.36  1.1    80.227  \n",
       "24  31.353000 -0.045075  0.54  1.7    76.507  \n",
       "25  31.929000  0.043118  0.50  1.1    83.935  \n",
       "26  32.559814 -0.100261  0.53  1.0    72.696  \n",
       "27  32.941000  0.392251  0.31  1.8    80.911  \n",
       "28  32.559814  0.855204  0.96  0.8    79.304  \n",
       "29  32.396000  6.893374  0.36  1.0    81.090  \n",
       "30  32.578000  1.099001  0.57  1.4    84.474  \n",
       "31  32.448000  0.139007  0.31  1.1    80.206  \n",
       "32  33.379000  0.103915  0.36  1.3    80.051  \n",
       "33  32.785000  0.305928  0.36  1.3    80.008  \n",
       "34  31.431000  2.235881  0.31  1.2    81.266  \n",
       "35  34.584000  0.679343  0.36  1.3    81.333  \n",
       "36  33.945000  0.536870  0.36  1.3    79.524  \n",
       "37  32.682000  0.077406  0.36  1.3    79.480  \n",
       "38  32.915000  1.636139  0.57  1.4    84.474  \n",
       "39  32.033000  3.933105  0.31  1.2    81.975  \n",
       "40  30.960000  0.016239  0.36  1.3    78.427  \n",
       "41  33.044000  0.223055  0.31  1.8    80.911  \n",
       "42  32.215000  0.048541  0.36  1.3    77.727  \n",
       "43  33.636000  0.585949  0.36  1.3    80.272  "
      ]
     },
     "execution_count": 5,
     "metadata": {},
     "output_type": "execute_result"
    }
   ],
   "source": [
    "df_refine"
   ]
  },
  {
   "cell_type": "code",
   "execution_count": 6,
   "metadata": {
    "ExecuteTime": {
     "end_time": "2021-01-13T09:06:12.724781Z",
     "start_time": "2021-01-13T09:06:12.714782Z"
    }
   },
   "outputs": [
    {
     "name": "stdout",
     "output_type": "stream",
     "text": [
      "<class 'pandas.core.frame.DataFrame'>\n",
      "RangeIndex: 44 entries, 0 to 43\n",
      "Data columns (total 13 columns):\n",
      " #   Column        Non-Null Count  Dtype  \n",
      "---  ------        --------------  -----  \n",
      " 0   height        44 non-null     float64\n",
      " 1   weight        44 non-null     float64\n",
      " 2   gender        44 non-null     float64\n",
      " 3   bmi           44 non-null     float64\n",
      " 4   age           44 non-null     float64\n",
      " 5   rh            44 non-null     float64\n",
      " 6   heart_rate    44 non-null     float64\n",
      " 7   stress_level  44 non-null     float64\n",
      " 8   skin_temp     44 non-null     float64\n",
      " 9   eda           44 non-null     float64\n",
      " 10  Clo           44 non-null     float64\n",
      " 11  Act           44 non-null     float64\n",
      " 12  env_temp      44 non-null     float64\n",
      "dtypes: float64(13)\n",
      "memory usage: 4.6 KB\n"
     ]
    }
   ],
   "source": [
    "df_refine.info()"
   ]
  },
  {
   "cell_type": "markdown",
   "metadata": {},
   "source": [
    "## data process"
   ]
  },
  {
   "cell_type": "markdown",
   "metadata": {},
   "source": [
    "### X & y"
   ]
  },
  {
   "cell_type": "code",
   "execution_count": 7,
   "metadata": {
    "ExecuteTime": {
     "end_time": "2021-01-13T09:06:15.617378Z",
     "start_time": "2021-01-13T09:06:15.614377Z"
    }
   },
   "outputs": [],
   "source": [
    "X_data = df_refine[['height', 'weight', 'gender', 'bmi', 'age', 'rh', \\\n",
    "                      'heart_rate', 'stress_level', 'skin_temp', 'eda', \\\n",
    "                      'Clo', 'Act']]"
   ]
  },
  {
   "cell_type": "code",
   "execution_count": 8,
   "metadata": {
    "ExecuteTime": {
     "end_time": "2021-01-13T09:06:16.061378Z",
     "start_time": "2021-01-13T09:06:16.059376Z"
    }
   },
   "outputs": [],
   "source": [
    "X_cols_name = X_data.columns"
   ]
  },
  {
   "cell_type": "code",
   "execution_count": 9,
   "metadata": {
    "ExecuteTime": {
     "end_time": "2021-01-13T09:06:17.588890Z",
     "start_time": "2021-01-13T09:06:17.570888Z"
    }
   },
   "outputs": [],
   "source": [
    "y_data = df_refine['env_temp']"
   ]
  },
  {
   "cell_type": "markdown",
   "metadata": {},
   "source": [
    "### make training data and testing data"
   ]
  },
  {
   "cell_type": "code",
   "execution_count": 10,
   "metadata": {
    "ExecuteTime": {
     "end_time": "2021-01-13T09:07:02.402597Z",
     "start_time": "2021-01-13T09:07:02.383083Z"
    }
   },
   "outputs": [],
   "source": [
    "X_train, X_test, y_train, y_test = train_test_split(X_data, y_data, test_size=0.2, random_state=1208)"
   ]
  },
  {
   "cell_type": "markdown",
   "metadata": {},
   "source": [
    "much better than the basic linear regression"
   ]
  },
  {
   "cell_type": "markdown",
   "metadata": {},
   "source": [
    "## tuning hyperparameter\n",
    "cross validation"
   ]
  },
  {
   "cell_type": "markdown",
   "metadata": {},
   "source": [
    "### random search\n",
    "Use the random grid to search for best hyperparameters (approximately)\n",
    "- 5-fold cross validation"
   ]
  },
  {
   "cell_type": "code",
   "execution_count": 11,
   "metadata": {
    "ExecuteTime": {
     "end_time": "2021-01-13T09:08:02.122929Z",
     "start_time": "2021-01-13T09:08:02.107929Z"
    }
   },
   "outputs": [],
   "source": [
    "# Number of trees in random forest\n",
    "n_estimators = [int(x) for x in np.linspace(start = 200, stop = 2000, num = 10)]\n",
    "\n",
    "# Number of features to consider at every split\n",
    "max_features = ['auto', 'sqrt']\n",
    "\n",
    "# Maximum number of levels in tree\n",
    "max_depth = [int(x) for x in np.linspace(10, 110, num = 11)]\n",
    "max_depth.append(None)\n",
    "\n",
    "# Minimum number of samples required to split a node\n",
    "min_samples_split = [2, 5, 10, 15, 20]\n",
    "\n",
    "# Minimum number of samples required at each leaf node\n",
    "min_samples_leaf = [1, 2, 4, 8, 16]\n",
    "\n",
    "# Complexity parameter used for Minimal Cost-Complexity Pruning.\n",
    "# ccp_alpha = [0.00001, 0.0005, 0.0001, 0.0005]\n",
    "    \n",
    "# Create the random grid\n",
    "random_grid = {'n_estimators': n_estimators,\n",
    "               'max_features': max_features,\n",
    "               'max_depth': max_depth,\n",
    "               'min_samples_split': min_samples_split,\n",
    "               'min_samples_leaf': min_samples_leaf}"
   ]
  },
  {
   "cell_type": "code",
   "execution_count": 12,
   "metadata": {
    "ExecuteTime": {
     "end_time": "2021-01-13T09:08:05.135962Z",
     "start_time": "2021-01-13T09:08:05.118443Z"
    },
    "scrolled": true
   },
   "outputs": [
    {
     "data": {
      "text/plain": [
       "{'n_estimators': [200, 400, 600, 800, 1000, 1200, 1400, 1600, 1800, 2000],\n",
       " 'max_features': ['auto', 'sqrt'],\n",
       " 'max_depth': [10, 20, 30, 40, 50, 60, 70, 80, 90, 100, 110, None],\n",
       " 'min_samples_split': [2, 5, 10, 15, 20],\n",
       " 'min_samples_leaf': [1, 2, 4, 8, 16]}"
      ]
     },
     "execution_count": 12,
     "metadata": {},
     "output_type": "execute_result"
    }
   ],
   "source": [
    "random_grid"
   ]
  },
  {
   "cell_type": "code",
   "execution_count": 13,
   "metadata": {
    "ExecuteTime": {
     "end_time": "2021-01-13T09:08:05.933474Z",
     "start_time": "2021-01-13T09:08:05.925961Z"
    }
   },
   "outputs": [],
   "source": [
    "rfr = RandomForestRegressor()"
   ]
  },
  {
   "cell_type": "code",
   "execution_count": 14,
   "metadata": {
    "ExecuteTime": {
     "end_time": "2021-01-13T09:08:07.290987Z",
     "start_time": "2021-01-13T09:08:07.283475Z"
    }
   },
   "outputs": [],
   "source": [
    "rfr_random = RandomizedSearchCV(estimator=rfr, \n",
    "                               param_distributions=random_grid, \n",
    "                               n_iter=100, \n",
    "                               cv=5, \n",
    "                               verbose=2, \n",
    "                               random_state=1208, \n",
    "                               n_jobs=-1,\n",
    "                               scoring='r2')"
   ]
  },
  {
   "cell_type": "code",
   "execution_count": 15,
   "metadata": {
    "ExecuteTime": {
     "end_time": "2021-01-13T09:09:38.872421Z",
     "start_time": "2021-01-13T09:08:16.931547Z"
    }
   },
   "outputs": [
    {
     "name": "stdout",
     "output_type": "stream",
     "text": [
      "Fitting 5 folds for each of 100 candidates, totalling 500 fits\n"
     ]
    },
    {
     "name": "stderr",
     "output_type": "stream",
     "text": [
      "[Parallel(n_jobs=-1)]: Using backend LokyBackend with 12 concurrent workers.\n",
      "[Parallel(n_jobs=-1)]: Done  17 tasks      | elapsed:    5.2s\n",
      "[Parallel(n_jobs=-1)]: Done 138 tasks      | elapsed:   24.1s\n",
      "[Parallel(n_jobs=-1)]: Done 341 tasks      | elapsed:   55.4s\n",
      "[Parallel(n_jobs=-1)]: Done 500 out of 500 | elapsed:  1.3min finished\n"
     ]
    },
    {
     "data": {
      "text/plain": [
       "RandomizedSearchCV(cv=5, estimator=RandomForestRegressor(), n_iter=100,\n",
       "                   n_jobs=-1,\n",
       "                   param_distributions={'max_depth': [10, 20, 30, 40, 50, 60,\n",
       "                                                      70, 80, 90, 100, 110,\n",
       "                                                      None],\n",
       "                                        'max_features': ['auto', 'sqrt'],\n",
       "                                        'min_samples_leaf': [1, 2, 4, 8, 16],\n",
       "                                        'min_samples_split': [2, 5, 10, 15, 20],\n",
       "                                        'n_estimators': [200, 400, 600, 800,\n",
       "                                                         1000, 1200, 1400, 1600,\n",
       "                                                         1800, 2000]},\n",
       "                   random_state=1208, scoring='r2', verbose=2)"
      ]
     },
     "execution_count": 15,
     "metadata": {},
     "output_type": "execute_result"
    }
   ],
   "source": [
    "# Fit the random search model\n",
    "# Use R^2 as score method\n",
    "rfr_random.fit(X_train, y_train)"
   ]
  },
  {
   "cell_type": "code",
   "execution_count": 16,
   "metadata": {
    "ExecuteTime": {
     "end_time": "2021-01-13T09:09:38.888420Z",
     "start_time": "2021-01-13T09:09:38.873421Z"
    }
   },
   "outputs": [
    {
     "data": {
      "text/plain": [
       "{'n_estimators': 1400,\n",
       " 'min_samples_split': 2,\n",
       " 'min_samples_leaf': 1,\n",
       " 'max_features': 'auto',\n",
       " 'max_depth': 10}"
      ]
     },
     "execution_count": 16,
     "metadata": {},
     "output_type": "execute_result"
    }
   ],
   "source": [
    "rfr_random.best_params_"
   ]
  },
  {
   "cell_type": "code",
   "execution_count": 17,
   "metadata": {
    "ExecuteTime": {
     "end_time": "2021-01-13T09:09:38.904424Z",
     "start_time": "2021-01-13T09:09:38.890419Z"
    }
   },
   "outputs": [
    {
     "data": {
      "text/plain": [
       "0.4459671130999279"
      ]
     },
     "execution_count": 17,
     "metadata": {},
     "output_type": "execute_result"
    }
   ],
   "source": [
    "rfr_random.best_score_"
   ]
  },
  {
   "cell_type": "markdown",
   "metadata": {},
   "source": [
    "### Grid Search\n",
    "Random search allowed us to narrow down the range for each hyperparameter. Now that we know where to concentrate our search, we can explicitly specify every combination of settings to try."
   ]
  },
  {
   "cell_type": "code",
   "execution_count": 18,
   "metadata": {
    "ExecuteTime": {
     "end_time": "2021-01-13T09:10:26.261619Z",
     "start_time": "2021-01-13T09:10:26.250103Z"
    }
   },
   "outputs": [],
   "source": [
    "param_grid = {\n",
    "    'n_estimators': [1200, 1300, 1400, 1500, 1600],\n",
    "    'min_samples_split': [1, 2, 3],\n",
    "    'min_samples_leaf': [1, 2, 3],\n",
    "    'max_features': [2, 3, 4, 5],\n",
    "    'max_depth': [1, 5, 10, 15, 20, None]\n",
    "}"
   ]
  },
  {
   "cell_type": "code",
   "execution_count": 19,
   "metadata": {
    "ExecuteTime": {
     "end_time": "2021-01-13T09:10:26.943620Z",
     "start_time": "2021-01-13T09:10:26.929622Z"
    }
   },
   "outputs": [],
   "source": [
    "rfr = RandomForestRegressor()"
   ]
  },
  {
   "cell_type": "code",
   "execution_count": 20,
   "metadata": {
    "ExecuteTime": {
     "end_time": "2021-01-13T09:10:30.110441Z",
     "start_time": "2021-01-13T09:10:30.096132Z"
    }
   },
   "outputs": [],
   "source": [
    "grid_search = GridSearchCV(estimator = rfr, \n",
    "                           param_grid = param_grid, \n",
    "                           cv = 5, \n",
    "                           n_jobs = -1, \n",
    "                           verbose = 2,\n",
    "                           scoring='r2')"
   ]
  },
  {
   "cell_type": "code",
   "execution_count": 21,
   "metadata": {
    "ExecuteTime": {
     "end_time": "2021-01-13T09:24:09.505338Z",
     "start_time": "2021-01-13T09:10:32.059956Z"
    }
   },
   "outputs": [
    {
     "name": "stdout",
     "output_type": "stream",
     "text": [
      "Fitting 5 folds for each of 1080 candidates, totalling 5400 fits\n"
     ]
    },
    {
     "name": "stderr",
     "output_type": "stream",
     "text": [
      "[Parallel(n_jobs=-1)]: Using backend LokyBackend with 12 concurrent workers.\n",
      "[Parallel(n_jobs=-1)]: Done  17 tasks      | elapsed:    1.6s\n",
      "[Parallel(n_jobs=-1)]: Done 138 tasks      | elapsed:   20.7s\n",
      "[Parallel(n_jobs=-1)]: Done 341 tasks      | elapsed:   49.7s\n",
      "[Parallel(n_jobs=-1)]: Done 624 tasks      | elapsed:  1.5min\n",
      "[Parallel(n_jobs=-1)]: Done 989 tasks      | elapsed:  2.4min\n",
      "[Parallel(n_jobs=-1)]: Done 1434 tasks      | elapsed:  3.5min\n",
      "[Parallel(n_jobs=-1)]: Done 1961 tasks      | elapsed:  4.9min\n",
      "[Parallel(n_jobs=-1)]: Done 2568 tasks      | elapsed:  6.5min\n",
      "[Parallel(n_jobs=-1)]: Done 3257 tasks      | elapsed:  8.2min\n",
      "[Parallel(n_jobs=-1)]: Done 4026 tasks      | elapsed: 10.2min\n",
      "[Parallel(n_jobs=-1)]: Done 4877 tasks      | elapsed: 12.3min\n",
      "[Parallel(n_jobs=-1)]: Done 5400 out of 5400 | elapsed: 13.6min finished\n"
     ]
    },
    {
     "data": {
      "text/plain": [
       "GridSearchCV(cv=5, estimator=RandomForestRegressor(), n_jobs=-1,\n",
       "             param_grid={'max_depth': [1, 5, 10, 15, 20, None],\n",
       "                         'max_features': [2, 3, 4, 5],\n",
       "                         'min_samples_leaf': [1, 2, 3],\n",
       "                         'min_samples_split': [1, 2, 3],\n",
       "                         'n_estimators': [1200, 1300, 1400, 1500, 1600]},\n",
       "             scoring='r2', verbose=2)"
      ]
     },
     "execution_count": 21,
     "metadata": {},
     "output_type": "execute_result"
    }
   ],
   "source": [
    "grid_search.fit(X_train, y_train)"
   ]
  },
  {
   "cell_type": "code",
   "execution_count": 22,
   "metadata": {
    "ExecuteTime": {
     "end_time": "2021-01-13T09:24:09.520854Z",
     "start_time": "2021-01-13T09:24:09.507338Z"
    }
   },
   "outputs": [
    {
     "data": {
      "text/plain": [
       "{'max_depth': None,\n",
       " 'max_features': 5,\n",
       " 'min_samples_leaf': 1,\n",
       " 'min_samples_split': 2,\n",
       " 'n_estimators': 1500}"
      ]
     },
     "execution_count": 22,
     "metadata": {},
     "output_type": "execute_result"
    }
   ],
   "source": [
    "grid_search.best_params_"
   ]
  },
  {
   "cell_type": "code",
   "execution_count": 23,
   "metadata": {
    "ExecuteTime": {
     "end_time": "2021-01-13T09:24:09.536854Z",
     "start_time": "2021-01-13T09:24:09.522859Z"
    }
   },
   "outputs": [
    {
     "data": {
      "text/plain": [
       "0.44959690830894516"
      ]
     },
     "execution_count": 23,
     "metadata": {},
     "output_type": "execute_result"
    }
   ],
   "source": [
    "grid_search.best_score_"
   ]
  },
  {
   "cell_type": "markdown",
   "metadata": {},
   "source": [
    "### validate the result"
   ]
  },
  {
   "cell_type": "code",
   "execution_count": 24,
   "metadata": {
    "ExecuteTime": {
     "end_time": "2021-01-13T09:24:09.552854Z",
     "start_time": "2021-01-13T09:24:09.537854Z"
    }
   },
   "outputs": [],
   "source": [
    "best_params = grid_search.best_params_"
   ]
  },
  {
   "cell_type": "code",
   "execution_count": 25,
   "metadata": {
    "ExecuteTime": {
     "end_time": "2021-01-13T09:24:09.568853Z",
     "start_time": "2021-01-13T09:24:09.553855Z"
    }
   },
   "outputs": [],
   "source": [
    "rfr = RandomForestRegressor(random_state=1208)"
   ]
  },
  {
   "cell_type": "code",
   "execution_count": 26,
   "metadata": {
    "ExecuteTime": {
     "end_time": "2021-01-13T09:24:09.584854Z",
     "start_time": "2021-01-13T09:24:09.569853Z"
    }
   },
   "outputs": [
    {
     "data": {
      "text/plain": [
       "RandomForestRegressor(max_features=5, n_estimators=1500, random_state=1208)"
      ]
     },
     "execution_count": 26,
     "metadata": {},
     "output_type": "execute_result"
    }
   ],
   "source": [
    "rfr.set_params(**best_params)"
   ]
  },
  {
   "cell_type": "code",
   "execution_count": 27,
   "metadata": {
    "ExecuteTime": {
     "end_time": "2021-01-13T09:24:16.589441Z",
     "start_time": "2021-01-13T09:24:09.585854Z"
    }
   },
   "outputs": [],
   "source": [
    "rfr_cv_mse = cross_val_score(rfr, X_train, y_train, scoring='neg_mean_squared_error', cv=5)"
   ]
  },
  {
   "cell_type": "code",
   "execution_count": 28,
   "metadata": {
    "ExecuteTime": {
     "end_time": "2021-01-13T09:24:16.605443Z",
     "start_time": "2021-01-13T09:24:16.590441Z"
    }
   },
   "outputs": [
    {
     "data": {
      "text/plain": [
       "array([-0.71947685, -4.66551459, -2.72759707, -2.47007788, -1.1528546 ])"
      ]
     },
     "execution_count": 28,
     "metadata": {},
     "output_type": "execute_result"
    }
   ],
   "source": [
    "rfr_cv_mse"
   ]
  },
  {
   "cell_type": "code",
   "execution_count": 29,
   "metadata": {
    "ExecuteTime": {
     "end_time": "2021-01-13T09:24:16.621442Z",
     "start_time": "2021-01-13T09:24:16.607443Z"
    }
   },
   "outputs": [
    {
     "data": {
      "text/plain": [
       "2.347104197980009"
      ]
     },
     "execution_count": 29,
     "metadata": {},
     "output_type": "execute_result"
    }
   ],
   "source": [
    "np.abs(rfr_cv_mse.mean())"
   ]
  },
  {
   "cell_type": "code",
   "execution_count": 30,
   "metadata": {
    "ExecuteTime": {
     "end_time": "2021-01-13T09:24:23.549805Z",
     "start_time": "2021-01-13T09:24:16.622442Z"
    }
   },
   "outputs": [],
   "source": [
    "rfr_cv_r2 = cross_val_score(rfr, X_train, y_train, scoring='r2', cv=5)"
   ]
  },
  {
   "cell_type": "code",
   "execution_count": 31,
   "metadata": {
    "ExecuteTime": {
     "end_time": "2021-01-13T09:24:23.565321Z",
     "start_time": "2021-01-13T09:24:23.550807Z"
    }
   },
   "outputs": [
    {
     "data": {
      "text/plain": [
       "array([ 0.81812609, -0.0410747 ,  0.2312907 ,  0.37731813,  0.77548182])"
      ]
     },
     "execution_count": 31,
     "metadata": {},
     "output_type": "execute_result"
    }
   ],
   "source": [
    "rfr_cv_r2"
   ]
  },
  {
   "cell_type": "code",
   "execution_count": 32,
   "metadata": {
    "ExecuteTime": {
     "end_time": "2021-01-13T09:24:23.581323Z",
     "start_time": "2021-01-13T09:24:23.567324Z"
    }
   },
   "outputs": [
    {
     "data": {
      "text/plain": [
       "0.43222840876995755"
      ]
     },
     "execution_count": 32,
     "metadata": {},
     "output_type": "execute_result"
    }
   ],
   "source": [
    "np.abs(rfr_cv_r2.mean())"
   ]
  },
  {
   "cell_type": "markdown",
   "metadata": {},
   "source": [
    "## final model"
   ]
  },
  {
   "cell_type": "code",
   "execution_count": 34,
   "metadata": {
    "ExecuteTime": {
     "end_time": "2021-01-13T09:24:27.395367Z",
     "start_time": "2021-01-13T09:24:27.385859Z"
    }
   },
   "outputs": [],
   "source": [
    "best_params = grid_search.best_params_"
   ]
  },
  {
   "cell_type": "code",
   "execution_count": 35,
   "metadata": {
    "ExecuteTime": {
     "end_time": "2021-01-13T09:24:31.928112Z",
     "start_time": "2021-01-13T09:24:31.914113Z"
    }
   },
   "outputs": [
    {
     "data": {
      "text/plain": [
       "RandomForestRegressor(max_features=5, n_estimators=1500, random_state=1208)"
      ]
     },
     "execution_count": 35,
     "metadata": {},
     "output_type": "execute_result"
    }
   ],
   "source": [
    "rfr_best = RandomForestRegressor(random_state=1208)\n",
    "rfr_best.set_params(**best_params)"
   ]
  },
  {
   "cell_type": "code",
   "execution_count": 36,
   "metadata": {
    "ExecuteTime": {
     "end_time": "2021-01-13T09:24:33.610142Z",
     "start_time": "2021-01-13T09:24:32.245111Z"
    }
   },
   "outputs": [
    {
     "data": {
      "text/plain": [
       "RandomForestRegressor(max_features=5, n_estimators=1500, random_state=1208)"
      ]
     },
     "execution_count": 36,
     "metadata": {},
     "output_type": "execute_result"
    }
   ],
   "source": [
    "rfr_best.fit(X_train, y_train)"
   ]
  },
  {
   "cell_type": "markdown",
   "metadata": {},
   "source": [
    "### save model"
   ]
  },
  {
   "cell_type": "code",
   "execution_count": 37,
   "metadata": {
    "ExecuteTime": {
     "end_time": "2021-01-13T09:24:35.112165Z",
     "start_time": "2021-01-13T09:24:34.687651Z"
    }
   },
   "outputs": [
    {
     "data": {
      "text/plain": [
       "['./max_random_forest_model.sav']"
      ]
     },
     "execution_count": 37,
     "metadata": {},
     "output_type": "execute_result"
    }
   ],
   "source": [
    "filename = './max_random_forest_model.sav'\n",
    "joblib.dump(rfr_best, filename)"
   ]
  },
  {
   "cell_type": "markdown",
   "metadata": {},
   "source": [
    "## visualization\n",
    "pick a tree from the forest to visualize"
   ]
  },
  {
   "cell_type": "code",
   "execution_count": 38,
   "metadata": {
    "ExecuteTime": {
     "end_time": "2021-01-13T09:24:36.996164Z",
     "start_time": "2021-01-13T09:24:35.857165Z"
    },
    "scrolled": false
   },
   "outputs": [
    {
     "data": {
      "image/png": "[encoded data removed]",
      "text/plain": [
       "<Figure size 3600x1440 with 1 Axes>"
      ]
     },
     "metadata": {
      "needs_background": "light"
     },
     "output_type": "display_data"
    }
   ],
   "source": [
    "plt.rcParams[\"figure.figsize\"] = (50, 20)\n",
    "a_tree = tree.plot_tree(rfr_best.estimators_[0], \n",
    "                        feature_names=X_data.columns, \n",
    "                        rounded=True,\n",
    "                        filled=True,\n",
    "                        fontsize=12)"
   ]
  },
  {
   "cell_type": "markdown",
   "metadata": {},
   "source": [
    "## test"
   ]
  },
  {
   "cell_type": "code",
   "execution_count": 39,
   "metadata": {
    "ExecuteTime": {
     "end_time": "2021-01-13T09:24:37.281674Z",
     "start_time": "2021-01-13T09:24:37.198675Z"
    }
   },
   "outputs": [],
   "source": [
    "y_pred_test = rfr_best.predict(X_test)"
   ]
  },
  {
   "cell_type": "code",
   "execution_count": 40,
   "metadata": {
    "ExecuteTime": {
     "end_time": "2021-01-13T09:24:37.675690Z",
     "start_time": "2021-01-13T09:24:37.672676Z"
    }
   },
   "outputs": [
    {
     "data": {
      "text/plain": [
       "array([79.485776  , 80.85504667, 78.79232933, 80.533886  , 80.40944667,\n",
       "       76.65071133, 78.92736267, 80.15540333, 78.871312  ])"
      ]
     },
     "execution_count": 40,
     "metadata": {},
     "output_type": "execute_result"
    }
   ],
   "source": [
    "y_pred_test"
   ]
  },
  {
   "cell_type": "code",
   "execution_count": 41,
   "metadata": {
    "ExecuteTime": {
     "end_time": "2021-01-13T09:24:37.945194Z",
     "start_time": "2021-01-13T09:24:37.935194Z"
    }
   },
   "outputs": [
    {
     "data": {
      "text/html": [
       "<div>\n",
       "<style scoped>\n",
       "    .dataframe tbody tr th:only-of-type {\n",
       "        vertical-align: middle;\n",
       "    }\n",
       "\n",
       "    .dataframe tbody tr th {\n",
       "        vertical-align: top;\n",
       "    }\n",
       "\n",
       "    .dataframe thead th {\n",
       "        text-align: right;\n",
       "    }\n",
       "</style>\n",
       "<table border=\"1\" class=\"dataframe\">\n",
       "  <thead>\n",
       "    <tr style=\"text-align: right;\">\n",
       "      <th></th>\n",
       "      <th>Actual</th>\n",
       "      <th>Predicted</th>\n",
       "    </tr>\n",
       "  </thead>\n",
       "  <tbody>\n",
       "    <tr>\n",
       "      <th>37</th>\n",
       "      <td>79.480</td>\n",
       "      <td>79.485776</td>\n",
       "    </tr>\n",
       "    <tr>\n",
       "      <th>41</th>\n",
       "      <td>80.911</td>\n",
       "      <td>80.855047</td>\n",
       "    </tr>\n",
       "    <tr>\n",
       "      <th>12</th>\n",
       "      <td>78.645</td>\n",
       "      <td>78.792329</td>\n",
       "    </tr>\n",
       "    <tr>\n",
       "      <th>5</th>\n",
       "      <td>81.023</td>\n",
       "      <td>80.533886</td>\n",
       "    </tr>\n",
       "    <tr>\n",
       "      <th>43</th>\n",
       "      <td>80.272</td>\n",
       "      <td>80.409447</td>\n",
       "    </tr>\n",
       "    <tr>\n",
       "      <th>26</th>\n",
       "      <td>72.696</td>\n",
       "      <td>76.650711</td>\n",
       "    </tr>\n",
       "    <tr>\n",
       "      <th>6</th>\n",
       "      <td>79.480</td>\n",
       "      <td>78.927363</td>\n",
       "    </tr>\n",
       "    <tr>\n",
       "      <th>8</th>\n",
       "      <td>79.480</td>\n",
       "      <td>80.155403</td>\n",
       "    </tr>\n",
       "    <tr>\n",
       "      <th>7</th>\n",
       "      <td>76.725</td>\n",
       "      <td>78.871312</td>\n",
       "    </tr>\n",
       "  </tbody>\n",
       "</table>\n",
       "</div>"
      ],
      "text/plain": [
       "    Actual  Predicted\n",
       "37  79.480  79.485776\n",
       "41  80.911  80.855047\n",
       "12  78.645  78.792329\n",
       "5   81.023  80.533886\n",
       "43  80.272  80.409447\n",
       "26  72.696  76.650711\n",
       "6   79.480  78.927363\n",
       "8   79.480  80.155403\n",
       "7   76.725  78.871312"
      ]
     },
     "execution_count": 41,
     "metadata": {},
     "output_type": "execute_result"
    }
   ],
   "source": [
    "pd.DataFrame({'Actual': y_test, 'Predicted': y_pred_test})"
   ]
  },
  {
   "cell_type": "code",
   "execution_count": 42,
   "metadata": {
    "ExecuteTime": {
     "end_time": "2021-01-13T09:24:39.721346Z",
     "start_time": "2021-01-13T09:24:39.707346Z"
    }
   },
   "outputs": [
    {
     "data": {
      "text/plain": [
       "2.3656631975030655"
      ]
     },
     "execution_count": 42,
     "metadata": {},
     "output_type": "execute_result"
    }
   ],
   "source": [
    "# mean squared error\n",
    "mean_squared_error(y_test, y_pred_test)"
   ]
  },
  {
   "cell_type": "code",
   "execution_count": 43,
   "metadata": {
    "ExecuteTime": {
     "end_time": "2021-01-13T09:24:40.290860Z",
     "start_time": "2021-01-13T09:24:40.272346Z"
    }
   },
   "outputs": [
    {
     "data": {
      "text/plain": [
       "0.6094406330715989"
      ]
     },
     "execution_count": 43,
     "metadata": {},
     "output_type": "execute_result"
    }
   ],
   "source": [
    "# R2 score\n",
    "r2_score(y_test, y_pred_test)"
   ]
  },
  {
   "cell_type": "markdown",
   "metadata": {},
   "source": [
    "## save test dataset"
   ]
  },
  {
   "cell_type": "code",
   "execution_count": 44,
   "metadata": {
    "ExecuteTime": {
     "end_time": "2021-01-13T09:30:40.376634Z",
     "start_time": "2021-01-13T09:30:40.367633Z"
    }
   },
   "outputs": [],
   "source": [
    "test_df = X_test.copy()"
   ]
  },
  {
   "cell_type": "code",
   "execution_count": 45,
   "metadata": {
    "ExecuteTime": {
     "end_time": "2021-01-13T09:30:40.709148Z",
     "start_time": "2021-01-13T09:30:40.691634Z"
    }
   },
   "outputs": [],
   "source": [
    "test_df['env_temp'] = 0"
   ]
  },
  {
   "cell_type": "code",
   "execution_count": 46,
   "metadata": {
    "ExecuteTime": {
     "end_time": "2021-01-13T09:30:41.546177Z",
     "start_time": "2021-01-13T09:30:41.538665Z"
    }
   },
   "outputs": [],
   "source": [
    "test_df['env_temp'] = y_test"
   ]
  },
  {
   "cell_type": "code",
   "execution_count": 47,
   "metadata": {
    "ExecuteTime": {
     "end_time": "2021-01-13T09:30:42.312218Z",
     "start_time": "2021-01-13T09:30:42.301700Z"
    }
   },
   "outputs": [],
   "source": [
    "test_df.to_csv('../processed_data/test_max.csv')"
   ]
  },
  {
   "cell_type": "code",
   "execution_count": 48,
   "metadata": {
    "ExecuteTime": {
     "end_time": "2021-01-13T09:30:46.041217Z",
     "start_time": "2021-01-13T09:30:46.015219Z"
    }
   },
   "outputs": [
    {
     "data": {
      "text/html": [
       "<div>\n",
       "<style scoped>\n",
       "    .dataframe tbody tr th:only-of-type {\n",
       "        vertical-align: middle;\n",
       "    }\n",
       "\n",
       "    .dataframe tbody tr th {\n",
       "        vertical-align: top;\n",
       "    }\n",
       "\n",
       "    .dataframe thead th {\n",
       "        text-align: right;\n",
       "    }\n",
       "</style>\n",
       "<table border=\"1\" class=\"dataframe\">\n",
       "  <thead>\n",
       "    <tr style=\"text-align: right;\">\n",
       "      <th></th>\n",
       "      <th>height</th>\n",
       "      <th>weight</th>\n",
       "      <th>gender</th>\n",
       "      <th>bmi</th>\n",
       "      <th>age</th>\n",
       "      <th>rh</th>\n",
       "      <th>heart_rate</th>\n",
       "      <th>stress_level</th>\n",
       "      <th>skin_temp</th>\n",
       "      <th>eda</th>\n",
       "      <th>Clo</th>\n",
       "      <th>Act</th>\n",
       "      <th>env_temp</th>\n",
       "    </tr>\n",
       "  </thead>\n",
       "  <tbody>\n",
       "    <tr>\n",
       "      <th>37</th>\n",
       "      <td>1.77</td>\n",
       "      <td>58.0</td>\n",
       "      <td>-1.0</td>\n",
       "      <td>18.513199</td>\n",
       "      <td>23.0</td>\n",
       "      <td>53.124</td>\n",
       "      <td>92.500000</td>\n",
       "      <td>67.000000</td>\n",
       "      <td>32.682000</td>\n",
       "      <td>0.077406</td>\n",
       "      <td>0.36</td>\n",
       "      <td>1.3</td>\n",
       "      <td>79.480</td>\n",
       "    </tr>\n",
       "    <tr>\n",
       "      <th>41</th>\n",
       "      <td>1.74</td>\n",
       "      <td>65.0</td>\n",
       "      <td>-1.0</td>\n",
       "      <td>21.469150</td>\n",
       "      <td>23.0</td>\n",
       "      <td>46.390</td>\n",
       "      <td>68.000000</td>\n",
       "      <td>62.485294</td>\n",
       "      <td>33.044000</td>\n",
       "      <td>0.223055</td>\n",
       "      <td>0.31</td>\n",
       "      <td>1.8</td>\n",
       "      <td>80.911</td>\n",
       "    </tr>\n",
       "    <tr>\n",
       "      <th>12</th>\n",
       "      <td>1.77</td>\n",
       "      <td>58.0</td>\n",
       "      <td>-1.0</td>\n",
       "      <td>18.513199</td>\n",
       "      <td>23.0</td>\n",
       "      <td>52.903</td>\n",
       "      <td>86.000000</td>\n",
       "      <td>46.000000</td>\n",
       "      <td>31.719000</td>\n",
       "      <td>0.066685</td>\n",
       "      <td>0.36</td>\n",
       "      <td>1.3</td>\n",
       "      <td>78.645</td>\n",
       "    </tr>\n",
       "    <tr>\n",
       "      <th>5</th>\n",
       "      <td>1.77</td>\n",
       "      <td>90.0</td>\n",
       "      <td>-1.0</td>\n",
       "      <td>28.727377</td>\n",
       "      <td>28.0</td>\n",
       "      <td>61.638</td>\n",
       "      <td>91.000000</td>\n",
       "      <td>83.000000</td>\n",
       "      <td>33.250000</td>\n",
       "      <td>8.697113</td>\n",
       "      <td>0.36</td>\n",
       "      <td>1.1</td>\n",
       "      <td>81.023</td>\n",
       "    </tr>\n",
       "    <tr>\n",
       "      <th>43</th>\n",
       "      <td>1.77</td>\n",
       "      <td>58.0</td>\n",
       "      <td>-1.0</td>\n",
       "      <td>18.513199</td>\n",
       "      <td>23.0</td>\n",
       "      <td>51.234</td>\n",
       "      <td>102.500000</td>\n",
       "      <td>78.000000</td>\n",
       "      <td>33.636000</td>\n",
       "      <td>0.585949</td>\n",
       "      <td>0.36</td>\n",
       "      <td>1.3</td>\n",
       "      <td>80.272</td>\n",
       "    </tr>\n",
       "    <tr>\n",
       "      <th>26</th>\n",
       "      <td>1.60</td>\n",
       "      <td>52.5</td>\n",
       "      <td>1.0</td>\n",
       "      <td>20.507812</td>\n",
       "      <td>24.0</td>\n",
       "      <td>51.538</td>\n",
       "      <td>88.158537</td>\n",
       "      <td>62.485294</td>\n",
       "      <td>32.559814</td>\n",
       "      <td>-0.100261</td>\n",
       "      <td>0.53</td>\n",
       "      <td>1.0</td>\n",
       "      <td>72.696</td>\n",
       "    </tr>\n",
       "    <tr>\n",
       "      <th>6</th>\n",
       "      <td>1.77</td>\n",
       "      <td>58.0</td>\n",
       "      <td>-1.0</td>\n",
       "      <td>18.513199</td>\n",
       "      <td>23.0</td>\n",
       "      <td>55.272</td>\n",
       "      <td>87.000000</td>\n",
       "      <td>62.485294</td>\n",
       "      <td>32.915000</td>\n",
       "      <td>0.006857</td>\n",
       "      <td>0.36</td>\n",
       "      <td>1.0</td>\n",
       "      <td>79.480</td>\n",
       "    </tr>\n",
       "    <tr>\n",
       "      <th>8</th>\n",
       "      <td>1.77</td>\n",
       "      <td>90.0</td>\n",
       "      <td>-1.0</td>\n",
       "      <td>28.727377</td>\n",
       "      <td>28.0</td>\n",
       "      <td>60.389</td>\n",
       "      <td>67.000000</td>\n",
       "      <td>62.485294</td>\n",
       "      <td>31.013000</td>\n",
       "      <td>0.188456</td>\n",
       "      <td>0.36</td>\n",
       "      <td>1.1</td>\n",
       "      <td>79.480</td>\n",
       "    </tr>\n",
       "    <tr>\n",
       "      <th>7</th>\n",
       "      <td>1.77</td>\n",
       "      <td>58.0</td>\n",
       "      <td>-1.0</td>\n",
       "      <td>18.513199</td>\n",
       "      <td>23.0</td>\n",
       "      <td>50.237</td>\n",
       "      <td>99.000000</td>\n",
       "      <td>54.000000</td>\n",
       "      <td>31.588000</td>\n",
       "      <td>0.017909</td>\n",
       "      <td>0.36</td>\n",
       "      <td>1.3</td>\n",
       "      <td>76.725</td>\n",
       "    </tr>\n",
       "  </tbody>\n",
       "</table>\n",
       "</div>"
      ],
      "text/plain": [
       "    height  weight  gender        bmi   age      rh  heart_rate  stress_level  \\\n",
       "37    1.77    58.0    -1.0  18.513199  23.0  53.124   92.500000     67.000000   \n",
       "41    1.74    65.0    -1.0  21.469150  23.0  46.390   68.000000     62.485294   \n",
       "12    1.77    58.0    -1.0  18.513199  23.0  52.903   86.000000     46.000000   \n",
       "5     1.77    90.0    -1.0  28.727377  28.0  61.638   91.000000     83.000000   \n",
       "43    1.77    58.0    -1.0  18.513199  23.0  51.234  102.500000     78.000000   \n",
       "26    1.60    52.5     1.0  20.507812  24.0  51.538   88.158537     62.485294   \n",
       "6     1.77    58.0    -1.0  18.513199  23.0  55.272   87.000000     62.485294   \n",
       "8     1.77    90.0    -1.0  28.727377  28.0  60.389   67.000000     62.485294   \n",
       "7     1.77    58.0    -1.0  18.513199  23.0  50.237   99.000000     54.000000   \n",
       "\n",
       "    skin_temp       eda   Clo  Act  env_temp  \n",
       "37  32.682000  0.077406  0.36  1.3    79.480  \n",
       "41  33.044000  0.223055  0.31  1.8    80.911  \n",
       "12  31.719000  0.066685  0.36  1.3    78.645  \n",
       "5   33.250000  8.697113  0.36  1.1    81.023  \n",
       "43  33.636000  0.585949  0.36  1.3    80.272  \n",
       "26  32.559814 -0.100261  0.53  1.0    72.696  \n",
       "6   32.915000  0.006857  0.36  1.0    79.480  \n",
       "8   31.013000  0.188456  0.36  1.1    79.480  \n",
       "7   31.588000  0.017909  0.36  1.3    76.725  "
      ]
     },
     "execution_count": 48,
     "metadata": {},
     "output_type": "execute_result"
    }
   ],
   "source": [
    "test_df"
   ]
  },
  {
   "cell_type": "code",
   "execution_count": null,
   "metadata": {},
   "outputs": [],
   "source": []
  }
 ],
 "metadata": {
  "kernelspec": {
   "display_name": "Python [conda env:ml]",
   "language": "python",
   "name": "conda-env-ml-py"
  },
  "language_info": {
   "codemirror_mode": {
    "name": "ipython",
    "version": 3
   },
   "file_extension": ".py",
   "mimetype": "text/x-python",
   "name": "python",
   "nbconvert_exporter": "python",
   "pygments_lexer": "ipython3",
   "version": "3.6.10"
  },
  "toc": {
   "base_numbering": 1,
   "nav_menu": {},
   "number_sections": true,
   "sideBar": true,
   "skip_h1_title": false,
   "title_cell": "Table of Contents",
   "title_sidebar": "Contents",
   "toc_cell": false,
   "toc_position": {
    "height": "calc(100% - 180px)",
    "left": "10px",
    "top": "150px",
    "width": "287px"
   },
   "toc_section_display": true,
   "toc_window_display": true
  }
 },
 "nbformat": 4,
 "nbformat_minor": 4
}
