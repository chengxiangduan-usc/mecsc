{
 "cells": [
  {
   "cell_type": "markdown",
   "metadata": {},
   "source": [
    "random forest for refined dataset\n",
    "- imputed with mean value of each column\n",
    "- eliminate outliers and leverges after normalized"
   ]
  },
  {
   "cell_type": "markdown",
   "metadata": {},
   "source": [
    "some observations:\n",
    "- the model contructed by not normalized dataset is as good as the normalized dataset."
   ]
  },
  {
   "cell_type": "code",
   "execution_count": 1,
   "metadata": {
    "ExecuteTime": {
     "end_time": "2021-02-07T07:52:39.892158Z",
     "start_time": "2021-02-07T07:52:39.015158Z"
    }
   },
   "outputs": [],
   "source": [
    "%matplotlib inline\n",
    "import pandas as pd\n",
    "import numpy as np\n",
    "\n",
    "import matplotlib.pyplot as plt\n",
    "import seaborn as sns"
   ]
  },
  {
   "cell_type": "code",
   "execution_count": 2,
   "metadata": {
    "ExecuteTime": {
     "end_time": "2021-02-07T07:52:40.147188Z",
     "start_time": "2021-02-07T07:52:39.893158Z"
    }
   },
   "outputs": [],
   "source": [
    "from sklearn.ensemble import RandomForestRegressor\n",
    "\n",
    "from sklearn.preprocessing import normalize\n",
    "from sklearn.impute import SimpleImputer\n",
    "from sklearn.model_selection import train_test_split\n",
    "\n",
    "from sklearn.model_selection import RandomizedSearchCV, GridSearchCV, cross_val_score\n",
    "from sklearn.metrics import mean_squared_error, r2_score\n",
    "\n",
    "from sklearn import tree\n",
    "import joblib\n",
    "\n",
    "import scipy"
   ]
  },
  {
   "cell_type": "code",
   "execution_count": 3,
   "metadata": {
    "ExecuteTime": {
     "end_time": "2021-02-07T07:52:40.163188Z",
     "start_time": "2021-02-07T07:52:40.149190Z"
    }
   },
   "outputs": [],
   "source": [
    "plt.rcParams[\"figure.figsize\"] = (15, 10)"
   ]
  },
  {
   "cell_type": "markdown",
   "metadata": {},
   "source": [
    "## load data"
   ]
  },
  {
   "cell_type": "code",
   "execution_count": 4,
   "metadata": {
    "ExecuteTime": {
     "end_time": "2021-02-07T07:52:40.178188Z",
     "start_time": "2021-02-07T07:52:40.164188Z"
    }
   },
   "outputs": [],
   "source": [
    "pth_data = '../processed_data/train_refine_not_norm_max.csv'\n",
    "df_refine = pd.read_csv(pth_data)"
   ]
  },
  {
   "cell_type": "code",
   "execution_count": 5,
   "metadata": {
    "ExecuteTime": {
     "end_time": "2021-02-07T07:52:40.209188Z",
     "start_time": "2021-02-07T07:52:40.179189Z"
    },
    "scrolled": false
   },
   "outputs": [
    {
     "data": {
      "text/html": [
       "<div>\n",
       "<style scoped>\n",
       "    .dataframe tbody tr th:only-of-type {\n",
       "        vertical-align: middle;\n",
       "    }\n",
       "\n",
       "    .dataframe tbody tr th {\n",
       "        vertical-align: top;\n",
       "    }\n",
       "\n",
       "    .dataframe thead th {\n",
       "        text-align: right;\n",
       "    }\n",
       "</style>\n",
       "<table border=\"1\" class=\"dataframe\">\n",
       "  <thead>\n",
       "    <tr style=\"text-align: right;\">\n",
       "      <th></th>\n",
       "      <th>height</th>\n",
       "      <th>weight</th>\n",
       "      <th>gender</th>\n",
       "      <th>bmi</th>\n",
       "      <th>age</th>\n",
       "      <th>rh</th>\n",
       "      <th>heart_rate</th>\n",
       "      <th>stress_level</th>\n",
       "      <th>skin_temp</th>\n",
       "      <th>eda</th>\n",
       "      <th>Clo</th>\n",
       "      <th>Act</th>\n",
       "      <th>env_temp</th>\n",
       "    </tr>\n",
       "  </thead>\n",
       "  <tbody>\n",
       "    <tr>\n",
       "      <th>0</th>\n",
       "      <td>1.77</td>\n",
       "      <td>58.0</td>\n",
       "      <td>-1.0</td>\n",
       "      <td>18.513199</td>\n",
       "      <td>23.0</td>\n",
       "      <td>54.990</td>\n",
       "      <td>91.000000</td>\n",
       "      <td>63.000000</td>\n",
       "      <td>32.682000</td>\n",
       "      <td>0.128582</td>\n",
       "      <td>0.36</td>\n",
       "      <td>1.1</td>\n",
       "      <td>26.157778</td>\n",
       "    </tr>\n",
       "    <tr>\n",
       "      <th>1</th>\n",
       "      <td>1.78</td>\n",
       "      <td>73.0</td>\n",
       "      <td>-1.0</td>\n",
       "      <td>23.040020</td>\n",
       "      <td>24.0</td>\n",
       "      <td>56.310</td>\n",
       "      <td>90.000000</td>\n",
       "      <td>81.000000</td>\n",
       "      <td>33.096000</td>\n",
       "      <td>0.079552</td>\n",
       "      <td>0.36</td>\n",
       "      <td>1.0</td>\n",
       "      <td>27.075000</td>\n",
       "    </tr>\n",
       "    <tr>\n",
       "      <th>2</th>\n",
       "      <td>1.77</td>\n",
       "      <td>90.0</td>\n",
       "      <td>-1.0</td>\n",
       "      <td>28.727377</td>\n",
       "      <td>28.0</td>\n",
       "      <td>61.459</td>\n",
       "      <td>83.000000</td>\n",
       "      <td>78.000000</td>\n",
       "      <td>30.537000</td>\n",
       "      <td>0.422045</td>\n",
       "      <td>0.57</td>\n",
       "      <td>1.7</td>\n",
       "      <td>26.671111</td>\n",
       "    </tr>\n",
       "    <tr>\n",
       "      <th>3</th>\n",
       "      <td>1.60</td>\n",
       "      <td>52.5</td>\n",
       "      <td>1.0</td>\n",
       "      <td>20.507812</td>\n",
       "      <td>24.0</td>\n",
       "      <td>44.681</td>\n",
       "      <td>88.158537</td>\n",
       "      <td>62.485294</td>\n",
       "      <td>32.559814</td>\n",
       "      <td>0.031869</td>\n",
       "      <td>0.61</td>\n",
       "      <td>1.7</td>\n",
       "      <td>25.573889</td>\n",
       "    </tr>\n",
       "    <tr>\n",
       "      <th>4</th>\n",
       "      <td>1.60</td>\n",
       "      <td>52.5</td>\n",
       "      <td>1.0</td>\n",
       "      <td>20.507812</td>\n",
       "      <td>24.0</td>\n",
       "      <td>62.764</td>\n",
       "      <td>82.000000</td>\n",
       "      <td>39.000000</td>\n",
       "      <td>30.907000</td>\n",
       "      <td>-0.031865</td>\n",
       "      <td>0.54</td>\n",
       "      <td>1.0</td>\n",
       "      <td>24.702222</td>\n",
       "    </tr>\n",
       "    <tr>\n",
       "      <th>5</th>\n",
       "      <td>1.77</td>\n",
       "      <td>90.0</td>\n",
       "      <td>-1.0</td>\n",
       "      <td>28.727377</td>\n",
       "      <td>28.0</td>\n",
       "      <td>61.638</td>\n",
       "      <td>91.000000</td>\n",
       "      <td>83.000000</td>\n",
       "      <td>33.250000</td>\n",
       "      <td>8.697113</td>\n",
       "      <td>0.36</td>\n",
       "      <td>1.1</td>\n",
       "      <td>27.235000</td>\n",
       "    </tr>\n",
       "    <tr>\n",
       "      <th>6</th>\n",
       "      <td>1.77</td>\n",
       "      <td>58.0</td>\n",
       "      <td>-1.0</td>\n",
       "      <td>18.513199</td>\n",
       "      <td>23.0</td>\n",
       "      <td>55.272</td>\n",
       "      <td>87.000000</td>\n",
       "      <td>62.485294</td>\n",
       "      <td>32.915000</td>\n",
       "      <td>0.006857</td>\n",
       "      <td>0.36</td>\n",
       "      <td>1.0</td>\n",
       "      <td>26.377778</td>\n",
       "    </tr>\n",
       "    <tr>\n",
       "      <th>7</th>\n",
       "      <td>1.77</td>\n",
       "      <td>58.0</td>\n",
       "      <td>-1.0</td>\n",
       "      <td>18.513199</td>\n",
       "      <td>23.0</td>\n",
       "      <td>50.237</td>\n",
       "      <td>99.000000</td>\n",
       "      <td>54.000000</td>\n",
       "      <td>31.588000</td>\n",
       "      <td>0.017909</td>\n",
       "      <td>0.36</td>\n",
       "      <td>1.3</td>\n",
       "      <td>24.847222</td>\n",
       "    </tr>\n",
       "    <tr>\n",
       "      <th>8</th>\n",
       "      <td>1.77</td>\n",
       "      <td>90.0</td>\n",
       "      <td>-1.0</td>\n",
       "      <td>28.727377</td>\n",
       "      <td>28.0</td>\n",
       "      <td>60.389</td>\n",
       "      <td>67.000000</td>\n",
       "      <td>62.485294</td>\n",
       "      <td>31.013000</td>\n",
       "      <td>0.188456</td>\n",
       "      <td>0.36</td>\n",
       "      <td>1.1</td>\n",
       "      <td>26.377778</td>\n",
       "    </tr>\n",
       "    <tr>\n",
       "      <th>9</th>\n",
       "      <td>1.77</td>\n",
       "      <td>58.0</td>\n",
       "      <td>-1.0</td>\n",
       "      <td>18.513199</td>\n",
       "      <td>23.0</td>\n",
       "      <td>53.132</td>\n",
       "      <td>106.000000</td>\n",
       "      <td>93.000000</td>\n",
       "      <td>33.790000</td>\n",
       "      <td>0.322940</td>\n",
       "      <td>0.36</td>\n",
       "      <td>1.3</td>\n",
       "      <td>27.136111</td>\n",
       "    </tr>\n",
       "    <tr>\n",
       "      <th>10</th>\n",
       "      <td>1.80</td>\n",
       "      <td>75.0</td>\n",
       "      <td>-1.0</td>\n",
       "      <td>23.148148</td>\n",
       "      <td>33.0</td>\n",
       "      <td>48.290</td>\n",
       "      <td>67.000000</td>\n",
       "      <td>17.000000</td>\n",
       "      <td>31.850000</td>\n",
       "      <td>4.085208</td>\n",
       "      <td>0.31</td>\n",
       "      <td>1.0</td>\n",
       "      <td>29.552222</td>\n",
       "    </tr>\n",
       "    <tr>\n",
       "      <th>11</th>\n",
       "      <td>1.78</td>\n",
       "      <td>73.0</td>\n",
       "      <td>-1.0</td>\n",
       "      <td>23.040020</td>\n",
       "      <td>24.0</td>\n",
       "      <td>37.380</td>\n",
       "      <td>87.000000</td>\n",
       "      <td>67.000000</td>\n",
       "      <td>32.422000</td>\n",
       "      <td>0.851713</td>\n",
       "      <td>0.57</td>\n",
       "      <td>1.4</td>\n",
       "      <td>29.352222</td>\n",
       "    </tr>\n",
       "    <tr>\n",
       "      <th>12</th>\n",
       "      <td>1.77</td>\n",
       "      <td>58.0</td>\n",
       "      <td>-1.0</td>\n",
       "      <td>18.513199</td>\n",
       "      <td>23.0</td>\n",
       "      <td>52.903</td>\n",
       "      <td>86.000000</td>\n",
       "      <td>46.000000</td>\n",
       "      <td>31.719000</td>\n",
       "      <td>0.066685</td>\n",
       "      <td>0.36</td>\n",
       "      <td>1.3</td>\n",
       "      <td>25.913889</td>\n",
       "    </tr>\n",
       "    <tr>\n",
       "      <th>13</th>\n",
       "      <td>1.74</td>\n",
       "      <td>65.0</td>\n",
       "      <td>-1.0</td>\n",
       "      <td>21.469150</td>\n",
       "      <td>23.0</td>\n",
       "      <td>52.220</td>\n",
       "      <td>79.000000</td>\n",
       "      <td>56.000000</td>\n",
       "      <td>32.656000</td>\n",
       "      <td>0.139741</td>\n",
       "      <td>0.31</td>\n",
       "      <td>1.8</td>\n",
       "      <td>26.878889</td>\n",
       "    </tr>\n",
       "    <tr>\n",
       "      <th>14</th>\n",
       "      <td>1.60</td>\n",
       "      <td>52.5</td>\n",
       "      <td>1.0</td>\n",
       "      <td>20.507812</td>\n",
       "      <td>24.0</td>\n",
       "      <td>50.456</td>\n",
       "      <td>88.158537</td>\n",
       "      <td>62.485294</td>\n",
       "      <td>32.559814</td>\n",
       "      <td>0.465932</td>\n",
       "      <td>0.36</td>\n",
       "      <td>1.1</td>\n",
       "      <td>24.797778</td>\n",
       "    </tr>\n",
       "    <tr>\n",
       "      <th>15</th>\n",
       "      <td>1.77</td>\n",
       "      <td>58.0</td>\n",
       "      <td>-1.0</td>\n",
       "      <td>18.513199</td>\n",
       "      <td>23.0</td>\n",
       "      <td>53.124</td>\n",
       "      <td>88.158537</td>\n",
       "      <td>80.000000</td>\n",
       "      <td>34.277000</td>\n",
       "      <td>0.449456</td>\n",
       "      <td>0.36</td>\n",
       "      <td>1.3</td>\n",
       "      <td>27.307778</td>\n",
       "    </tr>\n",
       "    <tr>\n",
       "      <th>16</th>\n",
       "      <td>1.83</td>\n",
       "      <td>74.0</td>\n",
       "      <td>-1.0</td>\n",
       "      <td>22.096808</td>\n",
       "      <td>24.0</td>\n",
       "      <td>50.860</td>\n",
       "      <td>91.000000</td>\n",
       "      <td>82.000000</td>\n",
       "      <td>32.059000</td>\n",
       "      <td>0.011588</td>\n",
       "      <td>0.50</td>\n",
       "      <td>1.1</td>\n",
       "      <td>28.753889</td>\n",
       "    </tr>\n",
       "    <tr>\n",
       "      <th>17</th>\n",
       "      <td>1.77</td>\n",
       "      <td>90.0</td>\n",
       "      <td>-1.0</td>\n",
       "      <td>28.727377</td>\n",
       "      <td>28.0</td>\n",
       "      <td>59.860</td>\n",
       "      <td>94.000000</td>\n",
       "      <td>75.000000</td>\n",
       "      <td>33.482000</td>\n",
       "      <td>3.446370</td>\n",
       "      <td>0.36</td>\n",
       "      <td>1.1</td>\n",
       "      <td>27.553889</td>\n",
       "    </tr>\n",
       "    <tr>\n",
       "      <th>18</th>\n",
       "      <td>1.77</td>\n",
       "      <td>90.0</td>\n",
       "      <td>-1.0</td>\n",
       "      <td>28.727377</td>\n",
       "      <td>28.0</td>\n",
       "      <td>60.400</td>\n",
       "      <td>84.000000</td>\n",
       "      <td>42.000000</td>\n",
       "      <td>33.790000</td>\n",
       "      <td>6.623952</td>\n",
       "      <td>0.36</td>\n",
       "      <td>1.1</td>\n",
       "      <td>27.235000</td>\n",
       "    </tr>\n",
       "    <tr>\n",
       "      <th>19</th>\n",
       "      <td>1.77</td>\n",
       "      <td>90.0</td>\n",
       "      <td>-1.0</td>\n",
       "      <td>28.727377</td>\n",
       "      <td>28.0</td>\n",
       "      <td>61.233</td>\n",
       "      <td>79.000000</td>\n",
       "      <td>62.485294</td>\n",
       "      <td>33.430000</td>\n",
       "      <td>0.289664</td>\n",
       "      <td>0.57</td>\n",
       "      <td>1.4</td>\n",
       "      <td>25.866111</td>\n",
       "    </tr>\n",
       "    <tr>\n",
       "      <th>20</th>\n",
       "      <td>1.60</td>\n",
       "      <td>52.5</td>\n",
       "      <td>1.0</td>\n",
       "      <td>20.507812</td>\n",
       "      <td>24.0</td>\n",
       "      <td>48.749</td>\n",
       "      <td>88.158537</td>\n",
       "      <td>62.485294</td>\n",
       "      <td>32.559814</td>\n",
       "      <td>0.043203</td>\n",
       "      <td>0.36</td>\n",
       "      <td>1.1</td>\n",
       "      <td>23.785000</td>\n",
       "    </tr>\n",
       "    <tr>\n",
       "      <th>21</th>\n",
       "      <td>1.60</td>\n",
       "      <td>52.5</td>\n",
       "      <td>1.0</td>\n",
       "      <td>20.507812</td>\n",
       "      <td>24.0</td>\n",
       "      <td>47.111</td>\n",
       "      <td>88.158537</td>\n",
       "      <td>62.485294</td>\n",
       "      <td>32.559814</td>\n",
       "      <td>0.829874</td>\n",
       "      <td>0.96</td>\n",
       "      <td>1.1</td>\n",
       "      <td>26.867222</td>\n",
       "    </tr>\n",
       "    <tr>\n",
       "      <th>22</th>\n",
       "      <td>1.77</td>\n",
       "      <td>58.0</td>\n",
       "      <td>-1.0</td>\n",
       "      <td>18.513199</td>\n",
       "      <td>23.0</td>\n",
       "      <td>53.042</td>\n",
       "      <td>119.000000</td>\n",
       "      <td>96.500000</td>\n",
       "      <td>33.250000</td>\n",
       "      <td>0.113393</td>\n",
       "      <td>0.36</td>\n",
       "      <td>1.3</td>\n",
       "      <td>26.940000</td>\n",
       "    </tr>\n",
       "    <tr>\n",
       "      <th>23</th>\n",
       "      <td>1.77</td>\n",
       "      <td>90.0</td>\n",
       "      <td>-1.0</td>\n",
       "      <td>28.727377</td>\n",
       "      <td>28.0</td>\n",
       "      <td>60.113</td>\n",
       "      <td>86.000000</td>\n",
       "      <td>62.485294</td>\n",
       "      <td>33.199000</td>\n",
       "      <td>4.282520</td>\n",
       "      <td>0.36</td>\n",
       "      <td>1.1</td>\n",
       "      <td>26.792778</td>\n",
       "    </tr>\n",
       "    <tr>\n",
       "      <th>24</th>\n",
       "      <td>1.60</td>\n",
       "      <td>52.5</td>\n",
       "      <td>1.0</td>\n",
       "      <td>20.507812</td>\n",
       "      <td>24.0</td>\n",
       "      <td>63.661</td>\n",
       "      <td>91.000000</td>\n",
       "      <td>71.000000</td>\n",
       "      <td>31.353000</td>\n",
       "      <td>-0.045075</td>\n",
       "      <td>0.54</td>\n",
       "      <td>1.7</td>\n",
       "      <td>24.726111</td>\n",
       "    </tr>\n",
       "    <tr>\n",
       "      <th>25</th>\n",
       "      <td>1.83</td>\n",
       "      <td>74.0</td>\n",
       "      <td>-1.0</td>\n",
       "      <td>22.096808</td>\n",
       "      <td>24.0</td>\n",
       "      <td>50.790</td>\n",
       "      <td>92.000000</td>\n",
       "      <td>85.000000</td>\n",
       "      <td>31.929000</td>\n",
       "      <td>0.043118</td>\n",
       "      <td>0.50</td>\n",
       "      <td>1.1</td>\n",
       "      <td>28.852778</td>\n",
       "    </tr>\n",
       "    <tr>\n",
       "      <th>26</th>\n",
       "      <td>1.60</td>\n",
       "      <td>52.5</td>\n",
       "      <td>1.0</td>\n",
       "      <td>20.507812</td>\n",
       "      <td>24.0</td>\n",
       "      <td>51.538</td>\n",
       "      <td>88.158537</td>\n",
       "      <td>62.485294</td>\n",
       "      <td>32.559814</td>\n",
       "      <td>-0.100261</td>\n",
       "      <td>0.53</td>\n",
       "      <td>1.0</td>\n",
       "      <td>22.608889</td>\n",
       "    </tr>\n",
       "    <tr>\n",
       "      <th>27</th>\n",
       "      <td>1.74</td>\n",
       "      <td>65.0</td>\n",
       "      <td>-1.0</td>\n",
       "      <td>21.469150</td>\n",
       "      <td>23.0</td>\n",
       "      <td>51.880</td>\n",
       "      <td>68.000000</td>\n",
       "      <td>30.500000</td>\n",
       "      <td>32.941000</td>\n",
       "      <td>0.392251</td>\n",
       "      <td>0.31</td>\n",
       "      <td>1.8</td>\n",
       "      <td>27.172778</td>\n",
       "    </tr>\n",
       "    <tr>\n",
       "      <th>28</th>\n",
       "      <td>1.60</td>\n",
       "      <td>52.5</td>\n",
       "      <td>1.0</td>\n",
       "      <td>20.507812</td>\n",
       "      <td>24.0</td>\n",
       "      <td>47.532</td>\n",
       "      <td>88.158537</td>\n",
       "      <td>62.485294</td>\n",
       "      <td>32.559814</td>\n",
       "      <td>0.855204</td>\n",
       "      <td>0.96</td>\n",
       "      <td>0.8</td>\n",
       "      <td>26.280000</td>\n",
       "    </tr>\n",
       "    <tr>\n",
       "      <th>29</th>\n",
       "      <td>1.78</td>\n",
       "      <td>73.0</td>\n",
       "      <td>-1.0</td>\n",
       "      <td>23.040020</td>\n",
       "      <td>24.0</td>\n",
       "      <td>58.310</td>\n",
       "      <td>95.000000</td>\n",
       "      <td>63.000000</td>\n",
       "      <td>32.396000</td>\n",
       "      <td>6.893374</td>\n",
       "      <td>0.36</td>\n",
       "      <td>1.0</td>\n",
       "      <td>27.272222</td>\n",
       "    </tr>\n",
       "    <tr>\n",
       "      <th>30</th>\n",
       "      <td>1.78</td>\n",
       "      <td>73.0</td>\n",
       "      <td>-1.0</td>\n",
       "      <td>23.040020</td>\n",
       "      <td>24.0</td>\n",
       "      <td>31.950</td>\n",
       "      <td>65.000000</td>\n",
       "      <td>12.000000</td>\n",
       "      <td>32.578000</td>\n",
       "      <td>1.099001</td>\n",
       "      <td>0.57</td>\n",
       "      <td>1.4</td>\n",
       "      <td>29.152222</td>\n",
       "    </tr>\n",
       "    <tr>\n",
       "      <th>31</th>\n",
       "      <td>1.74</td>\n",
       "      <td>65.0</td>\n",
       "      <td>-1.0</td>\n",
       "      <td>21.469150</td>\n",
       "      <td>23.0</td>\n",
       "      <td>56.910</td>\n",
       "      <td>71.000000</td>\n",
       "      <td>36.000000</td>\n",
       "      <td>32.448000</td>\n",
       "      <td>0.139007</td>\n",
       "      <td>0.31</td>\n",
       "      <td>1.1</td>\n",
       "      <td>26.781111</td>\n",
       "    </tr>\n",
       "    <tr>\n",
       "      <th>32</th>\n",
       "      <td>1.77</td>\n",
       "      <td>58.0</td>\n",
       "      <td>-1.0</td>\n",
       "      <td>18.513199</td>\n",
       "      <td>23.0</td>\n",
       "      <td>53.231</td>\n",
       "      <td>104.000000</td>\n",
       "      <td>80.000000</td>\n",
       "      <td>33.379000</td>\n",
       "      <td>0.103915</td>\n",
       "      <td>0.36</td>\n",
       "      <td>1.3</td>\n",
       "      <td>26.695000</td>\n",
       "    </tr>\n",
       "    <tr>\n",
       "      <th>33</th>\n",
       "      <td>1.77</td>\n",
       "      <td>58.0</td>\n",
       "      <td>-1.0</td>\n",
       "      <td>18.513199</td>\n",
       "      <td>23.0</td>\n",
       "      <td>51.182</td>\n",
       "      <td>109.000000</td>\n",
       "      <td>93.500000</td>\n",
       "      <td>32.785000</td>\n",
       "      <td>0.305928</td>\n",
       "      <td>0.36</td>\n",
       "      <td>1.3</td>\n",
       "      <td>26.671111</td>\n",
       "    </tr>\n",
       "    <tr>\n",
       "      <th>34</th>\n",
       "      <td>1.80</td>\n",
       "      <td>75.0</td>\n",
       "      <td>-1.0</td>\n",
       "      <td>23.148148</td>\n",
       "      <td>33.0</td>\n",
       "      <td>52.820</td>\n",
       "      <td>74.000000</td>\n",
       "      <td>57.000000</td>\n",
       "      <td>31.431000</td>\n",
       "      <td>2.235881</td>\n",
       "      <td>0.31</td>\n",
       "      <td>1.2</td>\n",
       "      <td>27.370000</td>\n",
       "    </tr>\n",
       "    <tr>\n",
       "      <th>35</th>\n",
       "      <td>1.77</td>\n",
       "      <td>58.0</td>\n",
       "      <td>-1.0</td>\n",
       "      <td>18.513199</td>\n",
       "      <td>23.0</td>\n",
       "      <td>52.274</td>\n",
       "      <td>88.158537</td>\n",
       "      <td>54.000000</td>\n",
       "      <td>34.584000</td>\n",
       "      <td>0.679343</td>\n",
       "      <td>0.36</td>\n",
       "      <td>1.3</td>\n",
       "      <td>27.407222</td>\n",
       "    </tr>\n",
       "    <tr>\n",
       "      <th>36</th>\n",
       "      <td>1.77</td>\n",
       "      <td>58.0</td>\n",
       "      <td>-1.0</td>\n",
       "      <td>18.513199</td>\n",
       "      <td>23.0</td>\n",
       "      <td>49.501</td>\n",
       "      <td>101.000000</td>\n",
       "      <td>74.000000</td>\n",
       "      <td>33.945000</td>\n",
       "      <td>0.536870</td>\n",
       "      <td>0.36</td>\n",
       "      <td>1.3</td>\n",
       "      <td>26.402222</td>\n",
       "    </tr>\n",
       "    <tr>\n",
       "      <th>37</th>\n",
       "      <td>1.77</td>\n",
       "      <td>58.0</td>\n",
       "      <td>-1.0</td>\n",
       "      <td>18.513199</td>\n",
       "      <td>23.0</td>\n",
       "      <td>53.124</td>\n",
       "      <td>92.500000</td>\n",
       "      <td>67.000000</td>\n",
       "      <td>32.682000</td>\n",
       "      <td>0.077406</td>\n",
       "      <td>0.36</td>\n",
       "      <td>1.3</td>\n",
       "      <td>26.377778</td>\n",
       "    </tr>\n",
       "    <tr>\n",
       "      <th>38</th>\n",
       "      <td>1.78</td>\n",
       "      <td>73.0</td>\n",
       "      <td>-1.0</td>\n",
       "      <td>23.040020</td>\n",
       "      <td>24.0</td>\n",
       "      <td>38.620</td>\n",
       "      <td>89.000000</td>\n",
       "      <td>69.000000</td>\n",
       "      <td>32.915000</td>\n",
       "      <td>1.636139</td>\n",
       "      <td>0.57</td>\n",
       "      <td>1.4</td>\n",
       "      <td>29.152222</td>\n",
       "    </tr>\n",
       "    <tr>\n",
       "      <th>39</th>\n",
       "      <td>1.80</td>\n",
       "      <td>75.0</td>\n",
       "      <td>-1.0</td>\n",
       "      <td>23.148148</td>\n",
       "      <td>33.0</td>\n",
       "      <td>50.300</td>\n",
       "      <td>86.000000</td>\n",
       "      <td>60.000000</td>\n",
       "      <td>32.033000</td>\n",
       "      <td>3.933105</td>\n",
       "      <td>0.31</td>\n",
       "      <td>1.2</td>\n",
       "      <td>27.763889</td>\n",
       "    </tr>\n",
       "    <tr>\n",
       "      <th>40</th>\n",
       "      <td>1.77</td>\n",
       "      <td>58.0</td>\n",
       "      <td>-1.0</td>\n",
       "      <td>18.513199</td>\n",
       "      <td>23.0</td>\n",
       "      <td>54.306</td>\n",
       "      <td>78.000000</td>\n",
       "      <td>52.000000</td>\n",
       "      <td>30.960000</td>\n",
       "      <td>0.016239</td>\n",
       "      <td>0.36</td>\n",
       "      <td>1.3</td>\n",
       "      <td>25.792778</td>\n",
       "    </tr>\n",
       "    <tr>\n",
       "      <th>41</th>\n",
       "      <td>1.74</td>\n",
       "      <td>65.0</td>\n",
       "      <td>-1.0</td>\n",
       "      <td>21.469150</td>\n",
       "      <td>23.0</td>\n",
       "      <td>46.390</td>\n",
       "      <td>68.000000</td>\n",
       "      <td>62.485294</td>\n",
       "      <td>33.044000</td>\n",
       "      <td>0.223055</td>\n",
       "      <td>0.31</td>\n",
       "      <td>1.8</td>\n",
       "      <td>27.172778</td>\n",
       "    </tr>\n",
       "    <tr>\n",
       "      <th>42</th>\n",
       "      <td>1.77</td>\n",
       "      <td>58.0</td>\n",
       "      <td>-1.0</td>\n",
       "      <td>18.513199</td>\n",
       "      <td>23.0</td>\n",
       "      <td>52.417</td>\n",
       "      <td>80.500000</td>\n",
       "      <td>8.000000</td>\n",
       "      <td>32.215000</td>\n",
       "      <td>0.048541</td>\n",
       "      <td>0.36</td>\n",
       "      <td>1.3</td>\n",
       "      <td>25.403889</td>\n",
       "    </tr>\n",
       "    <tr>\n",
       "      <th>43</th>\n",
       "      <td>1.77</td>\n",
       "      <td>58.0</td>\n",
       "      <td>-1.0</td>\n",
       "      <td>18.513199</td>\n",
       "      <td>23.0</td>\n",
       "      <td>51.234</td>\n",
       "      <td>102.500000</td>\n",
       "      <td>78.000000</td>\n",
       "      <td>33.636000</td>\n",
       "      <td>0.585949</td>\n",
       "      <td>0.36</td>\n",
       "      <td>1.3</td>\n",
       "      <td>26.817778</td>\n",
       "    </tr>\n",
       "  </tbody>\n",
       "</table>\n",
       "</div>"
      ],
      "text/plain": [
       "    height  weight  gender        bmi   age      rh  heart_rate  stress_level  \\\n",
       "0     1.77    58.0    -1.0  18.513199  23.0  54.990   91.000000     63.000000   \n",
       "1     1.78    73.0    -1.0  23.040020  24.0  56.310   90.000000     81.000000   \n",
       "2     1.77    90.0    -1.0  28.727377  28.0  61.459   83.000000     78.000000   \n",
       "3     1.60    52.5     1.0  20.507812  24.0  44.681   88.158537     62.485294   \n",
       "4     1.60    52.5     1.0  20.507812  24.0  62.764   82.000000     39.000000   \n",
       "5     1.77    90.0    -1.0  28.727377  28.0  61.638   91.000000     83.000000   \n",
       "6     1.77    58.0    -1.0  18.513199  23.0  55.272   87.000000     62.485294   \n",
       "7     1.77    58.0    -1.0  18.513199  23.0  50.237   99.000000     54.000000   \n",
       "8     1.77    90.0    -1.0  28.727377  28.0  60.389   67.000000     62.485294   \n",
       "9     1.77    58.0    -1.0  18.513199  23.0  53.132  106.000000     93.000000   \n",
       "10    1.80    75.0    -1.0  23.148148  33.0  48.290   67.000000     17.000000   \n",
       "11    1.78    73.0    -1.0  23.040020  24.0  37.380   87.000000     67.000000   \n",
       "12    1.77    58.0    -1.0  18.513199  23.0  52.903   86.000000     46.000000   \n",
       "13    1.74    65.0    -1.0  21.469150  23.0  52.220   79.000000     56.000000   \n",
       "14    1.60    52.5     1.0  20.507812  24.0  50.456   88.158537     62.485294   \n",
       "15    1.77    58.0    -1.0  18.513199  23.0  53.124   88.158537     80.000000   \n",
       "16    1.83    74.0    -1.0  22.096808  24.0  50.860   91.000000     82.000000   \n",
       "17    1.77    90.0    -1.0  28.727377  28.0  59.860   94.000000     75.000000   \n",
       "18    1.77    90.0    -1.0  28.727377  28.0  60.400   84.000000     42.000000   \n",
       "19    1.77    90.0    -1.0  28.727377  28.0  61.233   79.000000     62.485294   \n",
       "20    1.60    52.5     1.0  20.507812  24.0  48.749   88.158537     62.485294   \n",
       "21    1.60    52.5     1.0  20.507812  24.0  47.111   88.158537     62.485294   \n",
       "22    1.77    58.0    -1.0  18.513199  23.0  53.042  119.000000     96.500000   \n",
       "23    1.77    90.0    -1.0  28.727377  28.0  60.113   86.000000     62.485294   \n",
       "24    1.60    52.5     1.0  20.507812  24.0  63.661   91.000000     71.000000   \n",
       "25    1.83    74.0    -1.0  22.096808  24.0  50.790   92.000000     85.000000   \n",
       "26    1.60    52.5     1.0  20.507812  24.0  51.538   88.158537     62.485294   \n",
       "27    1.74    65.0    -1.0  21.469150  23.0  51.880   68.000000     30.500000   \n",
       "28    1.60    52.5     1.0  20.507812  24.0  47.532   88.158537     62.485294   \n",
       "29    1.78    73.0    -1.0  23.040020  24.0  58.310   95.000000     63.000000   \n",
       "30    1.78    73.0    -1.0  23.040020  24.0  31.950   65.000000     12.000000   \n",
       "31    1.74    65.0    -1.0  21.469150  23.0  56.910   71.000000     36.000000   \n",
       "32    1.77    58.0    -1.0  18.513199  23.0  53.231  104.000000     80.000000   \n",
       "33    1.77    58.0    -1.0  18.513199  23.0  51.182  109.000000     93.500000   \n",
       "34    1.80    75.0    -1.0  23.148148  33.0  52.820   74.000000     57.000000   \n",
       "35    1.77    58.0    -1.0  18.513199  23.0  52.274   88.158537     54.000000   \n",
       "36    1.77    58.0    -1.0  18.513199  23.0  49.501  101.000000     74.000000   \n",
       "37    1.77    58.0    -1.0  18.513199  23.0  53.124   92.500000     67.000000   \n",
       "38    1.78    73.0    -1.0  23.040020  24.0  38.620   89.000000     69.000000   \n",
       "39    1.80    75.0    -1.0  23.148148  33.0  50.300   86.000000     60.000000   \n",
       "40    1.77    58.0    -1.0  18.513199  23.0  54.306   78.000000     52.000000   \n",
       "41    1.74    65.0    -1.0  21.469150  23.0  46.390   68.000000     62.485294   \n",
       "42    1.77    58.0    -1.0  18.513199  23.0  52.417   80.500000      8.000000   \n",
       "43    1.77    58.0    -1.0  18.513199  23.0  51.234  102.500000     78.000000   \n",
       "\n",
       "    skin_temp       eda   Clo  Act   env_temp  \n",
       "0   32.682000  0.128582  0.36  1.1  26.157778  \n",
       "1   33.096000  0.079552  0.36  1.0  27.075000  \n",
       "2   30.537000  0.422045  0.57  1.7  26.671111  \n",
       "3   32.559814  0.031869  0.61  1.7  25.573889  \n",
       "4   30.907000 -0.031865  0.54  1.0  24.702222  \n",
       "5   33.250000  8.697113  0.36  1.1  27.235000  \n",
       "6   32.915000  0.006857  0.36  1.0  26.377778  \n",
       "7   31.588000  0.017909  0.36  1.3  24.847222  \n",
       "8   31.013000  0.188456  0.36  1.1  26.377778  \n",
       "9   33.790000  0.322940  0.36  1.3  27.136111  \n",
       "10  31.850000  4.085208  0.31  1.0  29.552222  \n",
       "11  32.422000  0.851713  0.57  1.4  29.352222  \n",
       "12  31.719000  0.066685  0.36  1.3  25.913889  \n",
       "13  32.656000  0.139741  0.31  1.8  26.878889  \n",
       "14  32.559814  0.465932  0.36  1.1  24.797778  \n",
       "15  34.277000  0.449456  0.36  1.3  27.307778  \n",
       "16  32.059000  0.011588  0.50  1.1  28.753889  \n",
       "17  33.482000  3.446370  0.36  1.1  27.553889  \n",
       "18  33.790000  6.623952  0.36  1.1  27.235000  \n",
       "19  33.430000  0.289664  0.57  1.4  25.866111  \n",
       "20  32.559814  0.043203  0.36  1.1  23.785000  \n",
       "21  32.559814  0.829874  0.96  1.1  26.867222  \n",
       "22  33.250000  0.113393  0.36  1.3  26.940000  \n",
       "23  33.199000  4.282520  0.36  1.1  26.792778  \n",
       "24  31.353000 -0.045075  0.54  1.7  24.726111  \n",
       "25  31.929000  0.043118  0.50  1.1  28.852778  \n",
       "26  32.559814 -0.100261  0.53  1.0  22.608889  \n",
       "27  32.941000  0.392251  0.31  1.8  27.172778  \n",
       "28  32.559814  0.855204  0.96  0.8  26.280000  \n",
       "29  32.396000  6.893374  0.36  1.0  27.272222  \n",
       "30  32.578000  1.099001  0.57  1.4  29.152222  \n",
       "31  32.448000  0.139007  0.31  1.1  26.781111  \n",
       "32  33.379000  0.103915  0.36  1.3  26.695000  \n",
       "33  32.785000  0.305928  0.36  1.3  26.671111  \n",
       "34  31.431000  2.235881  0.31  1.2  27.370000  \n",
       "35  34.584000  0.679343  0.36  1.3  27.407222  \n",
       "36  33.945000  0.536870  0.36  1.3  26.402222  \n",
       "37  32.682000  0.077406  0.36  1.3  26.377778  \n",
       "38  32.915000  1.636139  0.57  1.4  29.152222  \n",
       "39  32.033000  3.933105  0.31  1.2  27.763889  \n",
       "40  30.960000  0.016239  0.36  1.3  25.792778  \n",
       "41  33.044000  0.223055  0.31  1.8  27.172778  \n",
       "42  32.215000  0.048541  0.36  1.3  25.403889  \n",
       "43  33.636000  0.585949  0.36  1.3  26.817778  "
      ]
     },
     "execution_count": 5,
     "metadata": {},
     "output_type": "execute_result"
    }
   ],
   "source": [
    "df_refine"
   ]
  },
  {
   "cell_type": "code",
   "execution_count": 6,
   "metadata": {
    "ExecuteTime": {
     "end_time": "2021-02-07T07:52:40.225188Z",
     "start_time": "2021-02-07T07:52:40.210191Z"
    }
   },
   "outputs": [
    {
     "name": "stdout",
     "output_type": "stream",
     "text": [
      "<class 'pandas.core.frame.DataFrame'>\n",
      "RangeIndex: 44 entries, 0 to 43\n",
      "Data columns (total 13 columns):\n",
      " #   Column        Non-Null Count  Dtype  \n",
      "---  ------        --------------  -----  \n",
      " 0   height        44 non-null     float64\n",
      " 1   weight        44 non-null     float64\n",
      " 2   gender        44 non-null     float64\n",
      " 3   bmi           44 non-null     float64\n",
      " 4   age           44 non-null     float64\n",
      " 5   rh            44 non-null     float64\n",
      " 6   heart_rate    44 non-null     float64\n",
      " 7   stress_level  44 non-null     float64\n",
      " 8   skin_temp     44 non-null     float64\n",
      " 9   eda           44 non-null     float64\n",
      " 10  Clo           44 non-null     float64\n",
      " 11  Act           44 non-null     float64\n",
      " 12  env_temp      44 non-null     float64\n",
      "dtypes: float64(13)\n",
      "memory usage: 4.6 KB\n"
     ]
    }
   ],
   "source": [
    "df_refine.info()"
   ]
  },
  {
   "cell_type": "markdown",
   "metadata": {},
   "source": [
    "## data process"
   ]
  },
  {
   "cell_type": "markdown",
   "metadata": {},
   "source": [
    "### X & y"
   ]
  },
  {
   "cell_type": "code",
   "execution_count": 7,
   "metadata": {
    "ExecuteTime": {
     "end_time": "2021-02-07T07:52:40.241188Z",
     "start_time": "2021-02-07T07:52:40.226193Z"
    }
   },
   "outputs": [],
   "source": [
    "X_data = df_refine[['height', 'weight', 'gender', 'bmi', 'age', 'rh', \\\n",
    "                      'heart_rate', 'stress_level', 'skin_temp', 'eda', \\\n",
    "                      'Clo', 'Act']]"
   ]
  },
  {
   "cell_type": "code",
   "execution_count": 8,
   "metadata": {
    "ExecuteTime": {
     "end_time": "2021-02-07T07:52:40.257188Z",
     "start_time": "2021-02-07T07:52:40.243193Z"
    }
   },
   "outputs": [],
   "source": [
    "X_cols_name = X_data.columns"
   ]
  },
  {
   "cell_type": "code",
   "execution_count": 9,
   "metadata": {
    "ExecuteTime": {
     "end_time": "2021-02-07T07:52:40.272668Z",
     "start_time": "2021-02-07T07:52:40.258189Z"
    }
   },
   "outputs": [],
   "source": [
    "y_data = df_refine['env_temp']"
   ]
  },
  {
   "cell_type": "markdown",
   "metadata": {},
   "source": [
    "### make training data and testing data"
   ]
  },
  {
   "cell_type": "code",
   "execution_count": 10,
   "metadata": {
    "ExecuteTime": {
     "end_time": "2021-02-07T07:52:40.288216Z",
     "start_time": "2021-02-07T07:52:40.273674Z"
    }
   },
   "outputs": [],
   "source": [
    "X_train, X_test, y_train, y_test = train_test_split(X_data, y_data, test_size=0.2, random_state=1208)"
   ]
  },
  {
   "cell_type": "markdown",
   "metadata": {},
   "source": [
    "much better than the basic linear regression"
   ]
  },
  {
   "cell_type": "markdown",
   "metadata": {},
   "source": [
    "## tuning hyperparameter - 5-fold cross validation"
   ]
  },
  {
   "cell_type": "markdown",
   "metadata": {},
   "source": [
    "### random search\n",
    "Use the random grid to search for best hyperparameters (approximately)\n",
    "- 5-fold cross validation"
   ]
  },
  {
   "cell_type": "code",
   "execution_count": 11,
   "metadata": {
    "ExecuteTime": {
     "end_time": "2021-02-07T07:52:40.304216Z",
     "start_time": "2021-02-07T07:52:40.289217Z"
    }
   },
   "outputs": [],
   "source": [
    "# Number of trees in random forest\n",
    "n_estimators = [int(x) for x in np.linspace(start = 200, stop = 2000, num = 10)]\n",
    "\n",
    "# Number of features to consider at every split\n",
    "max_features = ['auto', 'sqrt']\n",
    "\n",
    "# Maximum number of levels in tree\n",
    "max_depth = [int(x) for x in np.linspace(10, 110, num = 11)]\n",
    "max_depth.append(None)\n",
    "\n",
    "# Minimum number of samples required to split a node\n",
    "min_samples_split = [2, 5, 10, 15, 20]\n",
    "\n",
    "# Minimum number of samples required at each leaf node\n",
    "min_samples_leaf = [1, 2, 4, 8, 16]\n",
    "\n",
    "# Complexity parameter used for Minimal Cost-Complexity Pruning.\n",
    "# ccp_alpha = [0.00001, 0.0005, 0.0001, 0.0005]\n",
    "    \n",
    "# Create the random grid\n",
    "random_grid = {'n_estimators': n_estimators,\n",
    "               'max_features': max_features,\n",
    "               'max_depth': max_depth,\n",
    "               'min_samples_split': min_samples_split,\n",
    "               'min_samples_leaf': min_samples_leaf}"
   ]
  },
  {
   "cell_type": "code",
   "execution_count": 12,
   "metadata": {
    "ExecuteTime": {
     "end_time": "2021-02-07T07:52:40.320216Z",
     "start_time": "2021-02-07T07:52:40.305218Z"
    },
    "scrolled": true
   },
   "outputs": [
    {
     "data": {
      "text/plain": [
       "{'n_estimators': [200, 400, 600, 800, 1000, 1200, 1400, 1600, 1800, 2000],\n",
       " 'max_features': ['auto', 'sqrt'],\n",
       " 'max_depth': [10, 20, 30, 40, 50, 60, 70, 80, 90, 100, 110, None],\n",
       " 'min_samples_split': [2, 5, 10, 15, 20],\n",
       " 'min_samples_leaf': [1, 2, 4, 8, 16]}"
      ]
     },
     "execution_count": 12,
     "metadata": {},
     "output_type": "execute_result"
    }
   ],
   "source": [
    "random_grid"
   ]
  },
  {
   "cell_type": "code",
   "execution_count": 13,
   "metadata": {
    "ExecuteTime": {
     "end_time": "2021-02-07T07:52:40.335216Z",
     "start_time": "2021-02-07T07:52:40.321217Z"
    }
   },
   "outputs": [],
   "source": [
    "rfr = RandomForestRegressor()"
   ]
  },
  {
   "cell_type": "code",
   "execution_count": 14,
   "metadata": {
    "ExecuteTime": {
     "end_time": "2021-02-07T07:52:40.351216Z",
     "start_time": "2021-02-07T07:52:40.336217Z"
    }
   },
   "outputs": [],
   "source": [
    "rfr_random = RandomizedSearchCV(estimator=rfr, \n",
    "                               param_distributions=random_grid, \n",
    "                               n_iter=100, \n",
    "                               cv=5, \n",
    "                               verbose=2, \n",
    "                               random_state=1208, \n",
    "                               n_jobs=-1,\n",
    "                               scoring='r2')"
   ]
  },
  {
   "cell_type": "code",
   "execution_count": 15,
   "metadata": {
    "ExecuteTime": {
     "end_time": "2021-02-07T07:54:03.280333Z",
     "start_time": "2021-02-07T07:52:40.352217Z"
    }
   },
   "outputs": [
    {
     "name": "stdout",
     "output_type": "stream",
     "text": [
      "Fitting 5 folds for each of 100 candidates, totalling 500 fits\n"
     ]
    },
    {
     "name": "stderr",
     "output_type": "stream",
     "text": [
      "[Parallel(n_jobs=-1)]: Using backend LokyBackend with 12 concurrent workers.\n",
      "[Parallel(n_jobs=-1)]: Done  17 tasks      | elapsed:    5.3s\n",
      "[Parallel(n_jobs=-1)]: Done 138 tasks      | elapsed:   24.5s\n",
      "[Parallel(n_jobs=-1)]: Done 341 tasks      | elapsed:   56.5s\n",
      "[Parallel(n_jobs=-1)]: Done 500 out of 500 | elapsed:  1.4min finished\n"
     ]
    },
    {
     "data": {
      "text/plain": [
       "RandomizedSearchCV(cv=5, estimator=RandomForestRegressor(), n_iter=100,\n",
       "                   n_jobs=-1,\n",
       "                   param_distributions={'max_depth': [10, 20, 30, 40, 50, 60,\n",
       "                                                      70, 80, 90, 100, 110,\n",
       "                                                      None],\n",
       "                                        'max_features': ['auto', 'sqrt'],\n",
       "                                        'min_samples_leaf': [1, 2, 4, 8, 16],\n",
       "                                        'min_samples_split': [2, 5, 10, 15, 20],\n",
       "                                        'n_estimators': [200, 400, 600, 800,\n",
       "                                                         1000, 1200, 1400, 1600,\n",
       "                                                         1800, 2000]},\n",
       "                   random_state=1208, scoring='r2', verbose=2)"
      ]
     },
     "execution_count": 15,
     "metadata": {},
     "output_type": "execute_result"
    }
   ],
   "source": [
    "# Fit the random search model\n",
    "# Use R^2 as score method\n",
    "rfr_random.fit(X_train, y_train)"
   ]
  },
  {
   "cell_type": "code",
   "execution_count": 16,
   "metadata": {
    "ExecuteTime": {
     "end_time": "2021-02-07T07:54:03.295854Z",
     "start_time": "2021-02-07T07:54:03.281332Z"
    }
   },
   "outputs": [
    {
     "data": {
      "text/plain": [
       "{'n_estimators': 600,\n",
       " 'min_samples_split': 2,\n",
       " 'min_samples_leaf': 1,\n",
       " 'max_features': 'auto',\n",
       " 'max_depth': 20}"
      ]
     },
     "execution_count": 16,
     "metadata": {},
     "output_type": "execute_result"
    }
   ],
   "source": [
    "rfr_random.best_params_"
   ]
  },
  {
   "cell_type": "code",
   "execution_count": 17,
   "metadata": {
    "ExecuteTime": {
     "end_time": "2021-02-07T07:54:03.311855Z",
     "start_time": "2021-02-07T07:54:03.296856Z"
    }
   },
   "outputs": [
    {
     "data": {
      "text/plain": [
       "0.4521582545184216"
      ]
     },
     "execution_count": 17,
     "metadata": {},
     "output_type": "execute_result"
    }
   ],
   "source": [
    "rfr_random.best_score_"
   ]
  },
  {
   "cell_type": "code",
   "execution_count": null,
   "metadata": {},
   "outputs": [],
   "source": []
  },
  {
   "cell_type": "markdown",
   "metadata": {},
   "source": [
    "### Grid Search\n",
    "Random search allowed us to narrow down the range for each hyperparameter. Now that we know where to concentrate our search, we can explicitly specify every combination of settings to try."
   ]
  },
  {
   "cell_type": "code",
   "execution_count": 18,
   "metadata": {
    "ExecuteTime": {
     "end_time": "2021-02-07T07:54:03.327854Z",
     "start_time": "2021-02-07T07:54:03.312855Z"
    }
   },
   "outputs": [],
   "source": [
    "bp = rfr_random.best_params_\n",
    "ne = bp['n_estimators']\n",
    "md = bp['max_depth']\n",
    "md = md if md is not None else 5\n",
    "param_grid = {\n",
    "    'n_estimators': [int(ne * 0.8), int(ne * 0.9), ne, int(ne * 1.1), int(ne * 1.2)],\n",
    "    'min_samples_split': [1, 2, 3],\n",
    "    'min_samples_leaf': [1, 2, 3],\n",
    "    'max_features': [2, 3, 4, 5],\n",
    "    'max_depth': [int(md * 0.8), int(md * 0.9), md, int(md * 1.1), int(md * 1.2), None]\n",
    "}"
   ]
  },
  {
   "cell_type": "code",
   "execution_count": 19,
   "metadata": {
    "ExecuteTime": {
     "end_time": "2021-02-07T07:54:03.343865Z",
     "start_time": "2021-02-07T07:54:03.328855Z"
    }
   },
   "outputs": [],
   "source": [
    "rfr = RandomForestRegressor()"
   ]
  },
  {
   "cell_type": "code",
   "execution_count": 20,
   "metadata": {
    "ExecuteTime": {
     "end_time": "2021-02-07T07:54:03.359880Z",
     "start_time": "2021-02-07T07:54:03.344865Z"
    }
   },
   "outputs": [],
   "source": [
    "grid_search = GridSearchCV(estimator = rfr, \n",
    "                           param_grid = param_grid, \n",
    "                           cv = 5, \n",
    "                           n_jobs = -1, \n",
    "                           verbose = 2,\n",
    "                           scoring='r2')"
   ]
  },
  {
   "cell_type": "code",
   "execution_count": 21,
   "metadata": {
    "ExecuteTime": {
     "end_time": "2021-02-07T08:00:05.909356Z",
     "start_time": "2021-02-07T07:54:03.361883Z"
    }
   },
   "outputs": [
    {
     "name": "stdout",
     "output_type": "stream",
     "text": [
      "Fitting 5 folds for each of 1080 candidates, totalling 5400 fits\n"
     ]
    },
    {
     "name": "stderr",
     "output_type": "stream",
     "text": [
      "[Parallel(n_jobs=-1)]: Using backend LokyBackend with 12 concurrent workers.\n",
      "[Parallel(n_jobs=-1)]: Done  17 tasks      | elapsed:    0.7s\n",
      "[Parallel(n_jobs=-1)]: Done 138 tasks      | elapsed:    9.7s\n",
      "[Parallel(n_jobs=-1)]: Done 341 tasks      | elapsed:   23.4s\n",
      "[Parallel(n_jobs=-1)]: Done 624 tasks      | elapsed:   42.1s\n",
      "[Parallel(n_jobs=-1)]: Done 989 tasks      | elapsed:  1.1min\n",
      "[Parallel(n_jobs=-1)]: Done 1434 tasks      | elapsed:  1.6min\n",
      "[Parallel(n_jobs=-1)]: Done 1961 tasks      | elapsed:  2.2min\n",
      "[Parallel(n_jobs=-1)]: Done 2568 tasks      | elapsed:  2.9min\n",
      "[Parallel(n_jobs=-1)]: Done 3257 tasks      | elapsed:  3.6min\n",
      "[Parallel(n_jobs=-1)]: Done 4026 tasks      | elapsed:  4.5min\n",
      "[Parallel(n_jobs=-1)]: Done 4877 tasks      | elapsed:  5.4min\n",
      "[Parallel(n_jobs=-1)]: Done 5400 out of 5400 | elapsed:  6.0min finished\n"
     ]
    },
    {
     "data": {
      "text/plain": [
       "GridSearchCV(cv=5, estimator=RandomForestRegressor(), n_jobs=-1,\n",
       "             param_grid={'max_depth': [16, 18, 20, 22, 24, None],\n",
       "                         'max_features': [2, 3, 4, 5],\n",
       "                         'min_samples_leaf': [1, 2, 3],\n",
       "                         'min_samples_split': [1, 2, 3],\n",
       "                         'n_estimators': [480, 540, 600, 660, 720]},\n",
       "             scoring='r2', verbose=2)"
      ]
     },
     "execution_count": 21,
     "metadata": {},
     "output_type": "execute_result"
    }
   ],
   "source": [
    "grid_search.fit(X_train, y_train)"
   ]
  },
  {
   "cell_type": "code",
   "execution_count": 22,
   "metadata": {
    "ExecuteTime": {
     "end_time": "2021-02-07T08:00:05.924875Z",
     "start_time": "2021-02-07T08:00:05.910358Z"
    }
   },
   "outputs": [
    {
     "data": {
      "text/plain": [
       "{'max_depth': 22,\n",
       " 'max_features': 4,\n",
       " 'min_samples_leaf': 1,\n",
       " 'min_samples_split': 2,\n",
       " 'n_estimators': 480}"
      ]
     },
     "execution_count": 22,
     "metadata": {},
     "output_type": "execute_result"
    }
   ],
   "source": [
    "grid_search.best_params_"
   ]
  },
  {
   "cell_type": "code",
   "execution_count": 23,
   "metadata": {
    "ExecuteTime": {
     "end_time": "2021-02-07T08:00:05.939877Z",
     "start_time": "2021-02-07T08:00:05.927875Z"
    }
   },
   "outputs": [
    {
     "data": {
      "text/plain": [
       "0.4663987119569172"
      ]
     },
     "execution_count": 23,
     "metadata": {},
     "output_type": "execute_result"
    }
   ],
   "source": [
    "grid_search.best_score_"
   ]
  },
  {
   "cell_type": "markdown",
   "metadata": {},
   "source": [
    "### validate the result"
   ]
  },
  {
   "cell_type": "code",
   "execution_count": 24,
   "metadata": {
    "ExecuteTime": {
     "end_time": "2021-02-07T08:00:05.955874Z",
     "start_time": "2021-02-07T08:00:05.941876Z"
    }
   },
   "outputs": [],
   "source": [
    "best_params_5 = grid_search.best_params_"
   ]
  },
  {
   "cell_type": "code",
   "execution_count": 25,
   "metadata": {
    "ExecuteTime": {
     "end_time": "2021-02-07T08:00:05.971874Z",
     "start_time": "2021-02-07T08:00:05.956877Z"
    }
   },
   "outputs": [],
   "source": [
    "rfr = RandomForestRegressor(random_state=1208)"
   ]
  },
  {
   "cell_type": "code",
   "execution_count": 26,
   "metadata": {
    "ExecuteTime": {
     "end_time": "2021-02-07T08:00:05.987877Z",
     "start_time": "2021-02-07T08:00:05.972877Z"
    }
   },
   "outputs": [
    {
     "data": {
      "text/plain": [
       "RandomForestRegressor(max_depth=22, max_features=4, n_estimators=480,\n",
       "                      random_state=1208)"
      ]
     },
     "execution_count": 26,
     "metadata": {},
     "output_type": "execute_result"
    }
   ],
   "source": [
    "rfr.set_params(**best_params_5)"
   ]
  },
  {
   "cell_type": "code",
   "execution_count": 27,
   "metadata": {
    "ExecuteTime": {
     "end_time": "2021-02-07T08:00:08.285422Z",
     "start_time": "2021-02-07T08:00:05.988875Z"
    }
   },
   "outputs": [],
   "source": [
    "rfr_cv_mse = cross_val_score(rfr, X_train, y_train, scoring='neg_mean_squared_error', cv=5)"
   ]
  },
  {
   "cell_type": "code",
   "execution_count": 28,
   "metadata": {
    "ExecuteTime": {
     "end_time": "2021-02-07T08:00:08.301426Z",
     "start_time": "2021-02-07T08:00:08.286425Z"
    }
   },
   "outputs": [
    {
     "data": {
      "text/plain": [
       "array([-0.2008067 , -1.46849487, -0.82981101, -0.70908391, -0.31141713])"
      ]
     },
     "execution_count": 28,
     "metadata": {},
     "output_type": "execute_result"
    }
   ],
   "source": [
    "rfr_cv_mse"
   ]
  },
  {
   "cell_type": "code",
   "execution_count": 29,
   "metadata": {
    "ExecuteTime": {
     "end_time": "2021-02-07T08:00:08.317423Z",
     "start_time": "2021-02-07T08:00:08.302424Z"
    }
   },
   "outputs": [
    {
     "data": {
      "text/plain": [
       "0.7039227249634725"
      ]
     },
     "execution_count": 29,
     "metadata": {},
     "output_type": "execute_result"
    }
   ],
   "source": [
    "np.abs(rfr_cv_mse.mean())"
   ]
  },
  {
   "cell_type": "code",
   "execution_count": 30,
   "metadata": {
    "ExecuteTime": {
     "end_time": "2021-02-07T08:00:10.592528Z",
     "start_time": "2021-02-07T08:00:08.318425Z"
    }
   },
   "outputs": [],
   "source": [
    "rfr_cv_r2 = cross_val_score(rfr, X_train, y_train, scoring='r2', cv=5)"
   ]
  },
  {
   "cell_type": "code",
   "execution_count": 31,
   "metadata": {
    "ExecuteTime": {
     "end_time": "2021-02-07T08:00:10.608050Z",
     "start_time": "2021-02-07T08:00:10.593529Z"
    }
   },
   "outputs": [
    {
     "data": {
      "text/plain": [
       "array([ 0.83553375, -0.06169503,  0.24228459,  0.42084046,  0.80349912])"
      ]
     },
     "execution_count": 31,
     "metadata": {},
     "output_type": "execute_result"
    }
   ],
   "source": [
    "rfr_cv_r2"
   ]
  },
  {
   "cell_type": "code",
   "execution_count": 32,
   "metadata": {
    "ExecuteTime": {
     "end_time": "2021-02-07T08:00:10.624048Z",
     "start_time": "2021-02-07T08:00:10.609050Z"
    }
   },
   "outputs": [
    {
     "data": {
      "text/plain": [
       "0.4480925783510541"
      ]
     },
     "execution_count": 32,
     "metadata": {},
     "output_type": "execute_result"
    }
   ],
   "source": [
    "rfr_cv_r2.mean()"
   ]
  },
  {
   "cell_type": "code",
   "execution_count": 33,
   "metadata": {
    "ExecuteTime": {
     "end_time": "2021-02-07T09:23:16.439196Z",
     "start_time": "2021-02-07T09:23:16.425196Z"
    }
   },
   "outputs": [
    {
     "data": {
      "text/plain": [
       "RandomForestRegressor(max_depth=22, max_features=4, n_estimators=480,\n",
       "                      random_state=1208)"
      ]
     },
     "execution_count": 33,
     "metadata": {},
     "output_type": "execute_result"
    }
   ],
   "source": [
    "rfr_best = RandomForestRegressor(random_state=1208)\n",
    "rfr_best.set_params(**best_params_5)"
   ]
  },
  {
   "cell_type": "code",
   "execution_count": 34,
   "metadata": {
    "ExecuteTime": {
     "end_time": "2021-02-07T09:23:18.163313Z",
     "start_time": "2021-02-07T09:23:16.441195Z"
    }
   },
   "outputs": [
    {
     "data": {
      "text/plain": [
       "RandomForestRegressor(max_depth=22, max_features=4, n_estimators=480,\n",
       "                      random_state=1208)"
      ]
     },
     "execution_count": 34,
     "metadata": {},
     "output_type": "execute_result"
    }
   ],
   "source": [
    "rfr_best.fit(X_train, y_train)"
   ]
  },
  {
   "cell_type": "markdown",
   "metadata": {},
   "source": [
    "### save model"
   ]
  },
  {
   "cell_type": "code",
   "execution_count": 35,
   "metadata": {
    "ExecuteTime": {
     "end_time": "2021-02-07T09:23:18.688349Z",
     "start_time": "2021-02-07T09:23:18.164315Z"
    }
   },
   "outputs": [
    {
     "data": {
      "text/plain": [
       "['./max_random_forest_model_5.sav']"
      ]
     },
     "execution_count": 35,
     "metadata": {},
     "output_type": "execute_result"
    }
   ],
   "source": [
    "filename = './max_random_forest_model_5.sav'\n",
    "joblib.dump(rfr_best, filename)"
   ]
  },
  {
   "cell_type": "markdown",
   "metadata": {},
   "source": [
    "## tuning hyperparameter - 7-fold cross validation"
   ]
  },
  {
   "cell_type": "markdown",
   "metadata": {},
   "source": [
    "### random search\n",
    "Use the random grid to search for best hyperparameters (approximately)\n",
    "- 7-fold cross validation"
   ]
  },
  {
   "cell_type": "code",
   "execution_count": 36,
   "metadata": {
    "ExecuteTime": {
     "end_time": "2021-02-07T08:00:11.231048Z",
     "start_time": "2021-02-07T08:00:11.216050Z"
    }
   },
   "outputs": [],
   "source": [
    "# Number of trees in random forest\n",
    "n_estimators = [int(x) for x in np.linspace(start = 200, stop = 2000, num = 10)]\n",
    "\n",
    "# Number of features to consider at every split\n",
    "max_features = ['auto', 'sqrt']\n",
    "\n",
    "# Maximum number of levels in tree\n",
    "max_depth = [int(x) for x in np.linspace(10, 110, num = 11)]\n",
    "max_depth.append(None)\n",
    "\n",
    "# Minimum number of samples required to split a node\n",
    "min_samples_split = [2, 5, 10, 15, 20]\n",
    "\n",
    "# Minimum number of samples required at each leaf node\n",
    "min_samples_leaf = [1, 2, 4, 8, 16]\n",
    "\n",
    "# Complexity parameter used for Minimal Cost-Complexity Pruning.\n",
    "# ccp_alpha = [0.00001, 0.0005, 0.0001, 0.0005]\n",
    "    \n",
    "# Create the random grid\n",
    "random_grid = {'n_estimators': n_estimators,\n",
    "               'max_features': max_features,\n",
    "               'max_depth': max_depth,\n",
    "               'min_samples_split': min_samples_split,\n",
    "               'min_samples_leaf': min_samples_leaf}"
   ]
  },
  {
   "cell_type": "code",
   "execution_count": 37,
   "metadata": {
    "ExecuteTime": {
     "end_time": "2021-02-07T08:00:11.247049Z",
     "start_time": "2021-02-07T08:00:11.232051Z"
    },
    "scrolled": true
   },
   "outputs": [
    {
     "data": {
      "text/plain": [
       "{'n_estimators': [200, 400, 600, 800, 1000, 1200, 1400, 1600, 1800, 2000],\n",
       " 'max_features': ['auto', 'sqrt'],\n",
       " 'max_depth': [10, 20, 30, 40, 50, 60, 70, 80, 90, 100, 110, None],\n",
       " 'min_samples_split': [2, 5, 10, 15, 20],\n",
       " 'min_samples_leaf': [1, 2, 4, 8, 16]}"
      ]
     },
     "execution_count": 37,
     "metadata": {},
     "output_type": "execute_result"
    }
   ],
   "source": [
    "random_grid"
   ]
  },
  {
   "cell_type": "code",
   "execution_count": 38,
   "metadata": {
    "ExecuteTime": {
     "end_time": "2021-02-07T08:00:11.263047Z",
     "start_time": "2021-02-07T08:00:11.249050Z"
    }
   },
   "outputs": [],
   "source": [
    "rfr = RandomForestRegressor()"
   ]
  },
  {
   "cell_type": "code",
   "execution_count": 39,
   "metadata": {
    "ExecuteTime": {
     "end_time": "2021-02-07T08:00:11.279047Z",
     "start_time": "2021-02-07T08:00:11.264049Z"
    }
   },
   "outputs": [],
   "source": [
    "rfr_random = RandomizedSearchCV(estimator=rfr, \n",
    "                               param_distributions=random_grid, \n",
    "                               n_iter=100, \n",
    "                               cv=7, \n",
    "                               verbose=2, \n",
    "                               random_state=1208, \n",
    "                               n_jobs=-1,\n",
    "                               scoring='r2')"
   ]
  },
  {
   "cell_type": "code",
   "execution_count": 40,
   "metadata": {
    "ExecuteTime": {
     "end_time": "2021-02-07T08:02:06.340469Z",
     "start_time": "2021-02-07T08:00:11.280048Z"
    }
   },
   "outputs": [
    {
     "name": "stdout",
     "output_type": "stream",
     "text": [
      "Fitting 7 folds for each of 100 candidates, totalling 700 fits\n"
     ]
    },
    {
     "name": "stderr",
     "output_type": "stream",
     "text": [
      "[Parallel(n_jobs=-1)]: Using backend LokyBackend with 12 concurrent workers.\n",
      "[Parallel(n_jobs=-1)]: Done  17 tasks      | elapsed:    2.2s\n",
      "[Parallel(n_jobs=-1)]: Done 138 tasks      | elapsed:   21.8s\n",
      "[Parallel(n_jobs=-1)]: Done 341 tasks      | elapsed:   51.6s\n",
      "[Parallel(n_jobs=-1)]: Done 624 tasks      | elapsed:  1.7min\n",
      "[Parallel(n_jobs=-1)]: Done 700 out of 700 | elapsed:  1.9min finished\n"
     ]
    },
    {
     "data": {
      "text/plain": [
       "RandomizedSearchCV(cv=7, estimator=RandomForestRegressor(), n_iter=100,\n",
       "                   n_jobs=-1,\n",
       "                   param_distributions={'max_depth': [10, 20, 30, 40, 50, 60,\n",
       "                                                      70, 80, 90, 100, 110,\n",
       "                                                      None],\n",
       "                                        'max_features': ['auto', 'sqrt'],\n",
       "                                        'min_samples_leaf': [1, 2, 4, 8, 16],\n",
       "                                        'min_samples_split': [2, 5, 10, 15, 20],\n",
       "                                        'n_estimators': [200, 400, 600, 800,\n",
       "                                                         1000, 1200, 1400, 1600,\n",
       "                                                         1800, 2000]},\n",
       "                   random_state=1208, scoring='r2', verbose=2)"
      ]
     },
     "execution_count": 40,
     "metadata": {},
     "output_type": "execute_result"
    }
   ],
   "source": [
    "# Fit the random search model\n",
    "# Use R^2 as score method\n",
    "rfr_random.fit(X_train, y_train)"
   ]
  },
  {
   "cell_type": "code",
   "execution_count": 41,
   "metadata": {
    "ExecuteTime": {
     "end_time": "2021-02-07T08:02:06.356466Z",
     "start_time": "2021-02-07T08:02:06.341469Z"
    }
   },
   "outputs": [
    {
     "data": {
      "text/plain": [
       "{'n_estimators': 1000,\n",
       " 'min_samples_split': 2,\n",
       " 'min_samples_leaf': 1,\n",
       " 'max_features': 'sqrt',\n",
       " 'max_depth': 90}"
      ]
     },
     "execution_count": 41,
     "metadata": {},
     "output_type": "execute_result"
    }
   ],
   "source": [
    "rfr_random.best_params_"
   ]
  },
  {
   "cell_type": "code",
   "execution_count": 42,
   "metadata": {
    "ExecuteTime": {
     "end_time": "2021-02-07T08:02:06.372468Z",
     "start_time": "2021-02-07T08:02:06.357468Z"
    }
   },
   "outputs": [
    {
     "data": {
      "text/plain": [
       "0.5925188541052522"
      ]
     },
     "execution_count": 42,
     "metadata": {},
     "output_type": "execute_result"
    }
   ],
   "source": [
    "rfr_random.best_score_"
   ]
  },
  {
   "cell_type": "markdown",
   "metadata": {},
   "source": [
    "### Grid Search\n",
    "Random search allowed us to narrow down the range for each hyperparameter. Now that we know where to concentrate our search, we can explicitly specify every combination of settings to try."
   ]
  },
  {
   "cell_type": "code",
   "execution_count": 43,
   "metadata": {
    "ExecuteTime": {
     "end_time": "2021-02-07T08:02:06.388089Z",
     "start_time": "2021-02-07T08:02:06.373467Z"
    }
   },
   "outputs": [],
   "source": [
    "bp = rfr_random.best_params_\n",
    "ne = bp['n_estimators']\n",
    "md = bp['max_depth']\n",
    "md = md if md is not None else 5\n",
    "param_grid = {\n",
    "    'n_estimators': [int(ne * 0.8), int(ne * 0.9), ne, int(ne * 1.1), int(ne * 1.2)],\n",
    "    'min_samples_split': [1, 2, 3],\n",
    "    'min_samples_leaf': [1, 2, 3],\n",
    "    'max_features': [2, 3, 4, 5],\n",
    "    'max_depth': [int(md * 0.8), int(md * 0.9), md, int(md * 1.1), int(md * 1.2), None]\n",
    "}"
   ]
  },
  {
   "cell_type": "code",
   "execution_count": 44,
   "metadata": {
    "ExecuteTime": {
     "end_time": "2021-02-07T08:02:06.403416Z",
     "start_time": "2021-02-07T08:02:06.389091Z"
    }
   },
   "outputs": [],
   "source": [
    "rfr = RandomForestRegressor()"
   ]
  },
  {
   "cell_type": "code",
   "execution_count": 45,
   "metadata": {
    "ExecuteTime": {
     "end_time": "2021-02-07T08:02:06.419493Z",
     "start_time": "2021-02-07T08:02:06.404422Z"
    }
   },
   "outputs": [],
   "source": [
    "grid_search = GridSearchCV(estimator = rfr, \n",
    "                           param_grid = param_grid, \n",
    "                           cv = 7, \n",
    "                           n_jobs = -1, \n",
    "                           verbose = 2,\n",
    "                           scoring='r2')"
   ]
  },
  {
   "cell_type": "code",
   "execution_count": 46,
   "metadata": {
    "ExecuteTime": {
     "end_time": "2021-02-07T08:30:35.394973Z",
     "start_time": "2021-02-07T08:02:06.420498Z"
    },
    "scrolled": false
   },
   "outputs": [
    {
     "name": "stdout",
     "output_type": "stream",
     "text": [
      "Fitting 7 folds for each of 1080 candidates, totalling 7560 fits\n"
     ]
    },
    {
     "name": "stderr",
     "output_type": "stream",
     "text": [
      "[Parallel(n_jobs=-1)]: Using backend LokyBackend with 12 concurrent workers.\n",
      "[Parallel(n_jobs=-1)]: Done  17 tasks      | elapsed:    1.1s\n",
      "[Parallel(n_jobs=-1)]: Done 138 tasks      | elapsed:   14.0s\n",
      "[Parallel(n_jobs=-1)]: Done 341 tasks      | elapsed:   59.9s\n",
      "[Parallel(n_jobs=-1)]: Done 624 tasks      | elapsed:  2.5min\n",
      "[Parallel(n_jobs=-1)]: Done 989 tasks      | elapsed:  3.9min\n",
      "[Parallel(n_jobs=-1)]: Done 1434 tasks      | elapsed:  5.5min\n",
      "[Parallel(n_jobs=-1)]: Done 1961 tasks      | elapsed:  7.5min\n",
      "[Parallel(n_jobs=-1)]: Done 2568 tasks      | elapsed:  9.7min\n",
      "[Parallel(n_jobs=-1)]: Done 3257 tasks      | elapsed: 12.2min\n",
      "[Parallel(n_jobs=-1)]: Done 4026 tasks      | elapsed: 15.0min\n",
      "[Parallel(n_jobs=-1)]: Done 4877 tasks      | elapsed: 18.2min\n",
      "[Parallel(n_jobs=-1)]: Done 5808 tasks      | elapsed: 21.6min\n",
      "[Parallel(n_jobs=-1)]: Done 6821 tasks      | elapsed: 25.3min\n",
      "[Parallel(n_jobs=-1)]: Done 7560 out of 7560 | elapsed: 28.5min finished\n"
     ]
    },
    {
     "data": {
      "text/plain": [
       "GridSearchCV(cv=7, estimator=RandomForestRegressor(), n_jobs=-1,\n",
       "             param_grid={'max_depth': [72, 81, 90, 99, 108, None],\n",
       "                         'max_features': [2, 3, 4, 5],\n",
       "                         'min_samples_leaf': [1, 2, 3],\n",
       "                         'min_samples_split': [1, 2, 3],\n",
       "                         'n_estimators': [800, 900, 1000, 1100, 1200]},\n",
       "             scoring='r2', verbose=2)"
      ]
     },
     "execution_count": 46,
     "metadata": {},
     "output_type": "execute_result"
    }
   ],
   "source": [
    "grid_search.fit(X_train, y_train)"
   ]
  },
  {
   "cell_type": "code",
   "execution_count": 47,
   "metadata": {
    "ExecuteTime": {
     "end_time": "2021-02-07T08:30:35.426973Z",
     "start_time": "2021-02-07T08:30:35.409973Z"
    }
   },
   "outputs": [
    {
     "data": {
      "text/plain": [
       "{'max_depth': 99,\n",
       " 'max_features': 4,\n",
       " 'min_samples_leaf': 1,\n",
       " 'min_samples_split': 2,\n",
       " 'n_estimators': 800}"
      ]
     },
     "execution_count": 47,
     "metadata": {},
     "output_type": "execute_result"
    }
   ],
   "source": [
    "grid_search.best_params_"
   ]
  },
  {
   "cell_type": "code",
   "execution_count": 48,
   "metadata": {
    "ExecuteTime": {
     "end_time": "2021-02-07T08:30:35.442973Z",
     "start_time": "2021-02-07T08:30:35.427973Z"
    }
   },
   "outputs": [
    {
     "data": {
      "text/plain": [
       "0.6134958875710136"
      ]
     },
     "execution_count": 48,
     "metadata": {},
     "output_type": "execute_result"
    }
   ],
   "source": [
    "grid_search.best_score_"
   ]
  },
  {
   "cell_type": "markdown",
   "metadata": {},
   "source": [
    "### validate the result"
   ]
  },
  {
   "cell_type": "code",
   "execution_count": 49,
   "metadata": {
    "ExecuteTime": {
     "end_time": "2021-02-07T08:30:35.458973Z",
     "start_time": "2021-02-07T08:30:35.444973Z"
    }
   },
   "outputs": [],
   "source": [
    "best_params_7 = grid_search.best_params_"
   ]
  },
  {
   "cell_type": "code",
   "execution_count": 50,
   "metadata": {
    "ExecuteTime": {
     "end_time": "2021-02-07T08:30:35.489973Z",
     "start_time": "2021-02-07T08:30:35.460973Z"
    }
   },
   "outputs": [],
   "source": [
    "rfr = RandomForestRegressor(random_state=1208)"
   ]
  },
  {
   "cell_type": "code",
   "execution_count": 51,
   "metadata": {
    "ExecuteTime": {
     "end_time": "2021-02-07T08:30:35.504973Z",
     "start_time": "2021-02-07T08:30:35.491973Z"
    }
   },
   "outputs": [
    {
     "data": {
      "text/plain": [
       "RandomForestRegressor(max_depth=99, max_features=4, n_estimators=800,\n",
       "                      random_state=1208)"
      ]
     },
     "execution_count": 51,
     "metadata": {},
     "output_type": "execute_result"
    }
   ],
   "source": [
    "rfr.set_params(**best_params_7)"
   ]
  },
  {
   "cell_type": "code",
   "execution_count": 52,
   "metadata": {
    "ExecuteTime": {
     "end_time": "2021-02-07T08:30:42.047085Z",
     "start_time": "2021-02-07T08:30:35.505973Z"
    }
   },
   "outputs": [],
   "source": [
    "rfr_cv_mse = cross_val_score(rfr, X_train, y_train, scoring='neg_mean_squared_error', cv=5)"
   ]
  },
  {
   "cell_type": "code",
   "execution_count": 53,
   "metadata": {
    "ExecuteTime": {
     "end_time": "2021-02-07T08:30:42.062084Z",
     "start_time": "2021-02-07T08:30:42.048084Z"
    }
   },
   "outputs": [
    {
     "data": {
      "text/plain": [
       "array([-0.20254621, -1.43258509, -0.84187085, -0.73128446, -0.32882693])"
      ]
     },
     "execution_count": 53,
     "metadata": {},
     "output_type": "execute_result"
    }
   ],
   "source": [
    "rfr_cv_mse"
   ]
  },
  {
   "cell_type": "code",
   "execution_count": 54,
   "metadata": {
    "ExecuteTime": {
     "end_time": "2021-02-07T08:30:42.078084Z",
     "start_time": "2021-02-07T08:30:42.064084Z"
    }
   },
   "outputs": [
    {
     "data": {
      "text/plain": [
       "0.7074227061282186"
      ]
     },
     "execution_count": 54,
     "metadata": {},
     "output_type": "execute_result"
    }
   ],
   "source": [
    "np.abs(rfr_cv_mse.mean())"
   ]
  },
  {
   "cell_type": "code",
   "execution_count": 55,
   "metadata": {
    "ExecuteTime": {
     "end_time": "2021-02-07T08:30:48.552683Z",
     "start_time": "2021-02-07T08:30:42.080085Z"
    }
   },
   "outputs": [],
   "source": [
    "rfr_cv_r2 = cross_val_score(rfr, X_train, y_train, scoring='r2', cv=5)"
   ]
  },
  {
   "cell_type": "code",
   "execution_count": 56,
   "metadata": {
    "ExecuteTime": {
     "end_time": "2021-02-07T08:30:48.568201Z",
     "start_time": "2021-02-07T08:30:48.554683Z"
    }
   },
   "outputs": [
    {
     "data": {
      "text/plain": [
       "array([ 0.83410904, -0.03573291,  0.23127253,  0.40270768,  0.79251373])"
      ]
     },
     "execution_count": 56,
     "metadata": {},
     "output_type": "execute_result"
    }
   ],
   "source": [
    "rfr_cv_r2"
   ]
  },
  {
   "cell_type": "code",
   "execution_count": 57,
   "metadata": {
    "ExecuteTime": {
     "end_time": "2021-02-07T08:30:48.584201Z",
     "start_time": "2021-02-07T08:30:48.570201Z"
    }
   },
   "outputs": [
    {
     "data": {
      "text/plain": [
       "0.444974015919016"
      ]
     },
     "execution_count": 57,
     "metadata": {},
     "output_type": "execute_result"
    }
   ],
   "source": [
    "rfr_cv_r2.mean()"
   ]
  },
  {
   "cell_type": "code",
   "execution_count": 58,
   "metadata": {
    "ExecuteTime": {
     "end_time": "2021-02-07T09:23:16.439196Z",
     "start_time": "2021-02-07T09:23:16.425196Z"
    }
   },
   "outputs": [
    {
     "data": {
      "text/plain": [
       "RandomForestRegressor(max_depth=99, max_features=4, n_estimators=800,\n",
       "                      random_state=1208)"
      ]
     },
     "execution_count": 58,
     "metadata": {},
     "output_type": "execute_result"
    }
   ],
   "source": [
    "rfr_best = RandomForestRegressor(random_state=1208)\n",
    "rfr_best.set_params(**best_params_7)"
   ]
  },
  {
   "cell_type": "code",
   "execution_count": 59,
   "metadata": {
    "ExecuteTime": {
     "end_time": "2021-02-07T09:23:18.163313Z",
     "start_time": "2021-02-07T09:23:16.441195Z"
    }
   },
   "outputs": [
    {
     "data": {
      "text/plain": [
       "RandomForestRegressor(max_depth=99, max_features=4, n_estimators=800,\n",
       "                      random_state=1208)"
      ]
     },
     "execution_count": 59,
     "metadata": {},
     "output_type": "execute_result"
    }
   ],
   "source": [
    "rfr_best.fit(X_train, y_train)"
   ]
  },
  {
   "cell_type": "markdown",
   "metadata": {},
   "source": [
    "### save model"
   ]
  },
  {
   "cell_type": "code",
   "execution_count": 60,
   "metadata": {
    "ExecuteTime": {
     "end_time": "2021-02-07T09:23:18.688349Z",
     "start_time": "2021-02-07T09:23:18.164315Z"
    }
   },
   "outputs": [
    {
     "data": {
      "text/plain": [
       "['./max_random_forest_model_7.sav']"
      ]
     },
     "execution_count": 60,
     "metadata": {},
     "output_type": "execute_result"
    }
   ],
   "source": [
    "filename = './max_random_forest_model_7.sav'\n",
    "joblib.dump(rfr_best, filename)"
   ]
  },
  {
   "cell_type": "code",
   "execution_count": null,
   "metadata": {},
   "outputs": [],
   "source": []
  },
  {
   "cell_type": "markdown",
   "metadata": {},
   "source": [
    "## tuning hyperparameter - 10-fold cross validation"
   ]
  },
  {
   "cell_type": "markdown",
   "metadata": {},
   "source": [
    "### random search\n",
    "Use the random grid to search for best hyperparameters (approximately)\n",
    "- 10-fold cross validation"
   ]
  },
  {
   "cell_type": "code",
   "execution_count": 61,
   "metadata": {
    "ExecuteTime": {
     "end_time": "2021-02-07T08:30:50.422798Z",
     "start_time": "2021-02-07T08:30:50.408798Z"
    }
   },
   "outputs": [],
   "source": [
    "# Number of trees in random forest\n",
    "n_estimators = [int(x) for x in np.linspace(start = 200, stop = 2000, num = 10)]\n",
    "\n",
    "# Number of features to consider at every split\n",
    "max_features = ['auto', 'sqrt']\n",
    "\n",
    "# Maximum number of levels in tree\n",
    "max_depth = [int(x) for x in np.linspace(10, 110, num = 11)]\n",
    "max_depth.append(None)\n",
    "\n",
    "# Minimum number of samples required to split a node\n",
    "min_samples_split = [2, 5, 10, 15, 20]\n",
    "\n",
    "# Minimum number of samples required at each leaf node\n",
    "min_samples_leaf = [1, 2, 4, 8, 16]\n",
    "\n",
    "# Complexity parameter used for Minimal Cost-Complexity Pruning.\n",
    "# ccp_alpha = [0.00001, 0.0005, 0.0001, 0.0005]\n",
    "    \n",
    "# Create the random grid\n",
    "random_grid = {'n_estimators': n_estimators,\n",
    "               'max_features': max_features,\n",
    "               'max_depth': max_depth,\n",
    "               'min_samples_split': min_samples_split,\n",
    "               'min_samples_leaf': min_samples_leaf}"
   ]
  },
  {
   "cell_type": "code",
   "execution_count": 62,
   "metadata": {
    "ExecuteTime": {
     "end_time": "2021-02-07T08:30:50.453798Z",
     "start_time": "2021-02-07T08:30:50.424798Z"
    },
    "scrolled": true
   },
   "outputs": [
    {
     "data": {
      "text/plain": [
       "{'n_estimators': [200, 400, 600, 800, 1000, 1200, 1400, 1600, 1800, 2000],\n",
       " 'max_features': ['auto', 'sqrt'],\n",
       " 'max_depth': [10, 20, 30, 40, 50, 60, 70, 80, 90, 100, 110, None],\n",
       " 'min_samples_split': [2, 5, 10, 15, 20],\n",
       " 'min_samples_leaf': [1, 2, 4, 8, 16]}"
      ]
     },
     "execution_count": 62,
     "metadata": {},
     "output_type": "execute_result"
    }
   ],
   "source": [
    "random_grid"
   ]
  },
  {
   "cell_type": "code",
   "execution_count": 63,
   "metadata": {
    "ExecuteTime": {
     "end_time": "2021-02-07T08:30:50.469798Z",
     "start_time": "2021-02-07T08:30:50.455798Z"
    }
   },
   "outputs": [],
   "source": [
    "rfr = RandomForestRegressor()"
   ]
  },
  {
   "cell_type": "code",
   "execution_count": 64,
   "metadata": {
    "ExecuteTime": {
     "end_time": "2021-02-07T08:30:50.485798Z",
     "start_time": "2021-02-07T08:30:50.470797Z"
    }
   },
   "outputs": [],
   "source": [
    "rfr_random = RandomizedSearchCV(estimator=rfr, \n",
    "                               param_distributions=random_grid, \n",
    "                               n_iter=100, \n",
    "                               cv=10, \n",
    "                               verbose=2, \n",
    "                               random_state=1208, \n",
    "                               n_jobs=-1,\n",
    "                               scoring='r2')"
   ]
  },
  {
   "cell_type": "code",
   "execution_count": 65,
   "metadata": {
    "ExecuteTime": {
     "end_time": "2021-02-07T08:34:37.371578Z",
     "start_time": "2021-02-07T08:30:50.487798Z"
    }
   },
   "outputs": [
    {
     "name": "stdout",
     "output_type": "stream",
     "text": [
      "Fitting 10 folds for each of 100 candidates, totalling 1000 fits\n"
     ]
    },
    {
     "name": "stderr",
     "output_type": "stream",
     "text": [
      "[Parallel(n_jobs=-1)]: Using backend LokyBackend with 12 concurrent workers.\n",
      "[Parallel(n_jobs=-1)]: Done  17 tasks      | elapsed:    4.8s\n",
      "[Parallel(n_jobs=-1)]: Done 138 tasks      | elapsed:   34.3s\n",
      "[Parallel(n_jobs=-1)]: Done 341 tasks      | elapsed:  1.2min\n",
      "[Parallel(n_jobs=-1)]: Done 624 tasks      | elapsed:  2.3min\n",
      "[Parallel(n_jobs=-1)]: Done 1000 out of 1000 | elapsed:  3.7min finished\n"
     ]
    },
    {
     "data": {
      "text/plain": [
       "RandomizedSearchCV(cv=10, estimator=RandomForestRegressor(), n_iter=100,\n",
       "                   n_jobs=-1,\n",
       "                   param_distributions={'max_depth': [10, 20, 30, 40, 50, 60,\n",
       "                                                      70, 80, 90, 100, 110,\n",
       "                                                      None],\n",
       "                                        'max_features': ['auto', 'sqrt'],\n",
       "                                        'min_samples_leaf': [1, 2, 4, 8, 16],\n",
       "                                        'min_samples_split': [2, 5, 10, 15, 20],\n",
       "                                        'n_estimators': [200, 400, 600, 800,\n",
       "                                                         1000, 1200, 1400, 1600,\n",
       "                                                         1800, 2000]},\n",
       "                   random_state=1208, scoring='r2', verbose=2)"
      ]
     },
     "execution_count": 65,
     "metadata": {},
     "output_type": "execute_result"
    }
   ],
   "source": [
    "# Fit the random search model\n",
    "# Use R^2 as score method\n",
    "rfr_random.fit(X_train, y_train)"
   ]
  },
  {
   "cell_type": "code",
   "execution_count": 66,
   "metadata": {
    "ExecuteTime": {
     "end_time": "2021-02-07T08:34:37.386940Z",
     "start_time": "2021-02-07T08:34:37.372902Z"
    }
   },
   "outputs": [
    {
     "data": {
      "text/plain": [
       "{'n_estimators': 1400,\n",
       " 'min_samples_split': 2,\n",
       " 'min_samples_leaf': 1,\n",
       " 'max_features': 'auto',\n",
       " 'max_depth': 10}"
      ]
     },
     "execution_count": 66,
     "metadata": {},
     "output_type": "execute_result"
    }
   ],
   "source": [
    "rfr_random.best_params_"
   ]
  },
  {
   "cell_type": "code",
   "execution_count": 67,
   "metadata": {
    "ExecuteTime": {
     "end_time": "2021-02-07T08:34:37.402940Z",
     "start_time": "2021-02-07T08:34:37.388941Z"
    }
   },
   "outputs": [
    {
     "data": {
      "text/plain": [
       "-0.2600553004210933"
      ]
     },
     "execution_count": 67,
     "metadata": {},
     "output_type": "execute_result"
    }
   ],
   "source": [
    "rfr_random.best_score_"
   ]
  },
  {
   "cell_type": "markdown",
   "metadata": {},
   "source": [
    "### Grid Search\n",
    "Random search allowed us to narrow down the range for each hyperparameter. Now that we know where to concentrate our search, we can explicitly specify every combination of settings to try."
   ]
  },
  {
   "cell_type": "code",
   "execution_count": 68,
   "metadata": {
    "ExecuteTime": {
     "end_time": "2021-02-07T08:34:37.418941Z",
     "start_time": "2021-02-07T08:34:37.409940Z"
    }
   },
   "outputs": [],
   "source": [
    "bp = rfr_random.best_params_\n",
    "ne = bp['n_estimators']\n",
    "md = bp['max_depth']\n",
    "md = md if md is not None else 5\n",
    "param_grid = {\n",
    "    'n_estimators': [int(ne * 0.8), int(ne * 0.9), ne, int(ne * 1.1), int(ne * 1.2)],\n",
    "    'min_samples_split': [1, 2, 3],\n",
    "    'min_samples_leaf': [1, 2, 3],\n",
    "    'max_features': [2, 3, 4, 5],\n",
    "    'max_depth': [int(md * 0.8), int(md * 0.9), md, int(md * 1.1), int(md * 1.2), None]\n",
    "}"
   ]
  },
  {
   "cell_type": "code",
   "execution_count": 69,
   "metadata": {
    "ExecuteTime": {
     "end_time": "2021-02-07T08:34:37.450940Z",
     "start_time": "2021-02-07T08:34:37.420940Z"
    }
   },
   "outputs": [],
   "source": [
    "rfr = RandomForestRegressor()"
   ]
  },
  {
   "cell_type": "code",
   "execution_count": 70,
   "metadata": {
    "ExecuteTime": {
     "end_time": "2021-02-07T08:34:37.466940Z",
     "start_time": "2021-02-07T08:34:37.452941Z"
    }
   },
   "outputs": [],
   "source": [
    "grid_search = GridSearchCV(estimator = rfr, \n",
    "                           param_grid = param_grid, \n",
    "                           cv = 10, \n",
    "                           n_jobs = -1, \n",
    "                           verbose = 2,\n",
    "                           scoring='r2')"
   ]
  },
  {
   "cell_type": "code",
   "execution_count": 71,
   "metadata": {
    "ExecuteTime": {
     "end_time": "2021-02-07T09:22:57.619139Z",
     "start_time": "2021-02-07T08:34:37.468940Z"
    }
   },
   "outputs": [
    {
     "name": "stdout",
     "output_type": "stream",
     "text": [
      "Fitting 10 folds for each of 1080 candidates, totalling 10800 fits\n"
     ]
    },
    {
     "name": "stderr",
     "output_type": "stream",
     "text": [
      "[Parallel(n_jobs=-1)]: Using backend LokyBackend with 12 concurrent workers.\n",
      "[Parallel(n_jobs=-1)]: Done  17 tasks      | elapsed:    5.3s\n",
      "[Parallel(n_jobs=-1)]: Done 138 tasks      | elapsed:   35.1s\n",
      "[Parallel(n_jobs=-1)]: Done 341 tasks      | elapsed:  1.4min\n",
      "[Parallel(n_jobs=-1)]: Done 624 tasks      | elapsed:  2.6min\n",
      "[Parallel(n_jobs=-1)]: Done 989 tasks      | elapsed:  4.2min\n",
      "[Parallel(n_jobs=-1)]: Done 1434 tasks      | elapsed:  6.1min\n",
      "[Parallel(n_jobs=-1)]: Done 1961 tasks      | elapsed:  8.4min\n",
      "[Parallel(n_jobs=-1)]: Done 2568 tasks      | elapsed: 10.9min\n",
      "[Parallel(n_jobs=-1)]: Done 3257 tasks      | elapsed: 13.9min\n",
      "[Parallel(n_jobs=-1)]: Done 4026 tasks      | elapsed: 17.2min\n",
      "[Parallel(n_jobs=-1)]: Done 4877 tasks      | elapsed: 22.3min\n",
      "[Parallel(n_jobs=-1)]: Done 5808 tasks      | elapsed: 26.4min\n",
      "[Parallel(n_jobs=-1)]: Done 6821 tasks      | elapsed: 30.8min\n",
      "[Parallel(n_jobs=-1)]: Done 7914 tasks      | elapsed: 35.6min\n",
      "[Parallel(n_jobs=-1)]: Done 9089 tasks      | elapsed: 40.8min\n",
      "[Parallel(n_jobs=-1)]: Done 10344 tasks      | elapsed: 46.3min\n",
      "[Parallel(n_jobs=-1)]: Done 10800 out of 10800 | elapsed: 48.3min finished\n"
     ]
    },
    {
     "data": {
      "text/plain": [
       "GridSearchCV(cv=10, estimator=RandomForestRegressor(), n_jobs=-1,\n",
       "             param_grid={'max_depth': [8, 9, 10, 11, 12, None],\n",
       "                         'max_features': [2, 3, 4, 5],\n",
       "                         'min_samples_leaf': [1, 2, 3],\n",
       "                         'min_samples_split': [1, 2, 3],\n",
       "                         'n_estimators': [1120, 1260, 1400, 1540, 1680]},\n",
       "             scoring='r2', verbose=2)"
      ]
     },
     "execution_count": 71,
     "metadata": {},
     "output_type": "execute_result"
    }
   ],
   "source": [
    "grid_search.fit(X_train, y_train)"
   ]
  },
  {
   "cell_type": "code",
   "execution_count": 72,
   "metadata": {
    "ExecuteTime": {
     "end_time": "2021-02-07T09:22:57.634655Z",
     "start_time": "2021-02-07T09:22:57.620140Z"
    }
   },
   "outputs": [
    {
     "data": {
      "text/plain": [
       "{'max_depth': None,\n",
       " 'max_features': 2,\n",
       " 'min_samples_leaf': 1,\n",
       " 'min_samples_split': 2,\n",
       " 'n_estimators': 1120}"
      ]
     },
     "execution_count": 72,
     "metadata": {},
     "output_type": "execute_result"
    }
   ],
   "source": [
    "grid_search.best_params_"
   ]
  },
  {
   "cell_type": "code",
   "execution_count": 73,
   "metadata": {
    "ExecuteTime": {
     "end_time": "2021-02-07T09:22:57.666655Z",
     "start_time": "2021-02-07T09:22:57.636655Z"
    }
   },
   "outputs": [
    {
     "data": {
      "text/plain": [
       "-0.2598944732877846"
      ]
     },
     "execution_count": 73,
     "metadata": {},
     "output_type": "execute_result"
    }
   ],
   "source": [
    "grid_search.best_score_"
   ]
  },
  {
   "cell_type": "markdown",
   "metadata": {},
   "source": [
    "### validate the result"
   ]
  },
  {
   "cell_type": "code",
   "execution_count": 74,
   "metadata": {
    "ExecuteTime": {
     "end_time": "2021-02-07T09:22:57.681655Z",
     "start_time": "2021-02-07T09:22:57.668655Z"
    }
   },
   "outputs": [],
   "source": [
    "best_params_10 = grid_search.best_params_"
   ]
  },
  {
   "cell_type": "code",
   "execution_count": 75,
   "metadata": {
    "ExecuteTime": {
     "end_time": "2021-02-07T09:22:57.697655Z",
     "start_time": "2021-02-07T09:22:57.683655Z"
    }
   },
   "outputs": [],
   "source": [
    "rfr = RandomForestRegressor(random_state=1208)"
   ]
  },
  {
   "cell_type": "code",
   "execution_count": 76,
   "metadata": {
    "ExecuteTime": {
     "end_time": "2021-02-07T09:22:57.728655Z",
     "start_time": "2021-02-07T09:22:57.699655Z"
    }
   },
   "outputs": [
    {
     "data": {
      "text/plain": [
       "RandomForestRegressor(max_features=2, n_estimators=1120, random_state=1208)"
      ]
     },
     "execution_count": 76,
     "metadata": {},
     "output_type": "execute_result"
    }
   ],
   "source": [
    "rfr.set_params(**best_params_10)"
   ]
  },
  {
   "cell_type": "code",
   "execution_count": 77,
   "metadata": {
    "ExecuteTime": {
     "end_time": "2021-02-07T09:23:06.973885Z",
     "start_time": "2021-02-07T09:22:57.732654Z"
    }
   },
   "outputs": [],
   "source": [
    "rfr_cv_mse = cross_val_score(rfr, X_train, y_train, scoring='neg_mean_squared_error', cv=5)"
   ]
  },
  {
   "cell_type": "code",
   "execution_count": 78,
   "metadata": {
    "ExecuteTime": {
     "end_time": "2021-02-07T09:23:06.989443Z",
     "start_time": "2021-02-07T09:23:06.975885Z"
    }
   },
   "outputs": [
    {
     "data": {
      "text/plain": [
       "array([-0.22041121, -1.74276448, -0.77126386, -0.7987383 , -0.31131181])"
      ]
     },
     "execution_count": 78,
     "metadata": {},
     "output_type": "execute_result"
    }
   ],
   "source": [
    "rfr_cv_mse"
   ]
  },
  {
   "cell_type": "code",
   "execution_count": 79,
   "metadata": {
    "ExecuteTime": {
     "end_time": "2021-02-07T09:23:07.005443Z",
     "start_time": "2021-02-07T09:23:06.991443Z"
    }
   },
   "outputs": [
    {
     "data": {
      "text/plain": [
       "0.7688979300616839"
      ]
     },
     "execution_count": 79,
     "metadata": {},
     "output_type": "execute_result"
    }
   ],
   "source": [
    "np.abs(rfr_cv_mse.mean())"
   ]
  },
  {
   "cell_type": "code",
   "execution_count": 80,
   "metadata": {
    "ExecuteTime": {
     "end_time": "2021-02-07T09:23:16.376196Z",
     "start_time": "2021-02-07T09:23:07.007443Z"
    }
   },
   "outputs": [],
   "source": [
    "rfr_cv_r2 = cross_val_score(rfr, X_train, y_train, scoring='r2', cv=5)"
   ]
  },
  {
   "cell_type": "code",
   "execution_count": 81,
   "metadata": {
    "ExecuteTime": {
     "end_time": "2021-02-07T09:23:16.392195Z",
     "start_time": "2021-02-07T09:23:16.378196Z"
    }
   },
   "outputs": [
    {
     "data": {
      "text/plain": [
       "array([ 0.81947711, -0.25998695,  0.29574505,  0.34761331,  0.80356558])"
      ]
     },
     "execution_count": 81,
     "metadata": {},
     "output_type": "execute_result"
    }
   ],
   "source": [
    "rfr_cv_r2"
   ]
  },
  {
   "cell_type": "code",
   "execution_count": 82,
   "metadata": {
    "ExecuteTime": {
     "end_time": "2021-02-07T09:23:16.423195Z",
     "start_time": "2021-02-07T09:23:16.394195Z"
    }
   },
   "outputs": [
    {
     "data": {
      "text/plain": [
       "0.40128281997523063"
      ]
     },
     "execution_count": 82,
     "metadata": {},
     "output_type": "execute_result"
    }
   ],
   "source": [
    "rfr_cv_r2.mean()"
   ]
  },
  {
   "cell_type": "code",
   "execution_count": 83,
   "metadata": {
    "ExecuteTime": {
     "end_time": "2021-02-07T09:23:16.439196Z",
     "start_time": "2021-02-07T09:23:16.425196Z"
    }
   },
   "outputs": [
    {
     "data": {
      "text/plain": [
       "RandomForestRegressor(max_features=2, n_estimators=1120, random_state=1208)"
      ]
     },
     "execution_count": 83,
     "metadata": {},
     "output_type": "execute_result"
    }
   ],
   "source": [
    "rfr_best = RandomForestRegressor(random_state=1208)\n",
    "rfr_best.set_params(**best_params_10)"
   ]
  },
  {
   "cell_type": "code",
   "execution_count": 84,
   "metadata": {
    "ExecuteTime": {
     "end_time": "2021-02-07T09:23:18.163313Z",
     "start_time": "2021-02-07T09:23:16.441195Z"
    }
   },
   "outputs": [
    {
     "data": {
      "text/plain": [
       "RandomForestRegressor(max_features=2, n_estimators=1120, random_state=1208)"
      ]
     },
     "execution_count": 84,
     "metadata": {},
     "output_type": "execute_result"
    }
   ],
   "source": [
    "rfr_best.fit(X_train, y_train)"
   ]
  },
  {
   "cell_type": "markdown",
   "metadata": {},
   "source": [
    "### save model"
   ]
  },
  {
   "cell_type": "code",
   "execution_count": 85,
   "metadata": {
    "ExecuteTime": {
     "end_time": "2021-02-07T09:23:18.688349Z",
     "start_time": "2021-02-07T09:23:18.164315Z"
    }
   },
   "outputs": [
    {
     "data": {
      "text/plain": [
       "['./max_random_forest_model_10.sav']"
      ]
     },
     "execution_count": 85,
     "metadata": {},
     "output_type": "execute_result"
    }
   ],
   "source": [
    "filename = './max_random_forest_model_10.sav'\n",
    "joblib.dump(rfr_best, filename)"
   ]
  },
  {
   "cell_type": "code",
   "execution_count": null,
   "metadata": {},
   "outputs": [],
   "source": []
  },
  {
   "cell_type": "code",
   "execution_count": null,
   "metadata": {},
   "outputs": [],
   "source": []
  },
  {
   "cell_type": "code",
   "execution_count": null,
   "metadata": {},
   "outputs": [],
   "source": []
  },
  {
   "cell_type": "code",
   "execution_count": null,
   "metadata": {},
   "outputs": [],
   "source": []
  },
  {
   "cell_type": "code",
   "execution_count": null,
   "metadata": {},
   "outputs": [],
   "source": []
  },
  {
   "cell_type": "code",
   "execution_count": null,
   "metadata": {},
   "outputs": [],
   "source": []
  },
  {
   "cell_type": "code",
   "execution_count": null,
   "metadata": {},
   "outputs": [],
   "source": []
  },
  {
   "cell_type": "code",
   "execution_count": null,
   "metadata": {},
   "outputs": [],
   "source": []
  },
  {
   "cell_type": "code",
   "execution_count": null,
   "metadata": {},
   "outputs": [],
   "source": []
  },
  {
   "cell_type": "code",
   "execution_count": null,
   "metadata": {},
   "outputs": [],
   "source": []
  },
  {
   "cell_type": "markdown",
   "metadata": {},
   "source": [
    "## final model"
   ]
  },
  {
   "cell_type": "code",
   "execution_count": 86,
   "metadata": {
    "ExecuteTime": {
     "end_time": "2021-02-07T09:23:18.703866Z",
     "start_time": "2021-02-07T09:23:18.690349Z"
    }
   },
   "outputs": [],
   "source": [
    "best_params = grid_search.best_params_"
   ]
  },
  {
   "cell_type": "code",
   "execution_count": 87,
   "metadata": {
    "ExecuteTime": {
     "end_time": "2021-02-07T09:23:18.735867Z",
     "start_time": "2021-02-07T09:23:18.705867Z"
    }
   },
   "outputs": [
    {
     "data": {
      "text/plain": [
       "RandomForestRegressor(max_features=2, n_estimators=1120, random_state=1208)"
      ]
     },
     "execution_count": 87,
     "metadata": {},
     "output_type": "execute_result"
    }
   ],
   "source": [
    "rfr_best = RandomForestRegressor(random_state=1208)\n",
    "rfr_best.set_params(**best_params)"
   ]
  },
  {
   "cell_type": "code",
   "execution_count": 88,
   "metadata": {
    "ExecuteTime": {
     "end_time": "2021-02-07T09:23:20.496941Z",
     "start_time": "2021-02-07T09:23:18.737866Z"
    }
   },
   "outputs": [
    {
     "data": {
      "text/plain": [
       "RandomForestRegressor(max_features=2, n_estimators=1120, random_state=1208)"
      ]
     },
     "execution_count": 88,
     "metadata": {},
     "output_type": "execute_result"
    }
   ],
   "source": [
    "rfr_best.fit(X_train, y_train)"
   ]
  },
  {
   "cell_type": "markdown",
   "metadata": {},
   "source": [
    "### save model"
   ]
  },
  {
   "cell_type": "code",
   "execution_count": 89,
   "metadata": {
    "ExecuteTime": {
     "end_time": "2021-02-07T09:23:21.007498Z",
     "start_time": "2021-02-07T09:23:20.498941Z"
    }
   },
   "outputs": [
    {
     "data": {
      "text/plain": [
       "['./max_random_forest_model.sav']"
      ]
     },
     "execution_count": 89,
     "metadata": {},
     "output_type": "execute_result"
    }
   ],
   "source": [
    "filename = './max_random_forest_model.sav'\n",
    "joblib.dump(rfr_best, filename)"
   ]
  },
  {
   "cell_type": "markdown",
   "metadata": {},
   "source": [
    "## visualization\n",
    "pick a tree from the forest to visualize"
   ]
  },
  {
   "cell_type": "code",
   "execution_count": 90,
   "metadata": {
    "ExecuteTime": {
     "end_time": "2021-02-07T09:23:23.072014Z",
     "start_time": "2021-02-07T09:23:21.009498Z"
    },
    "scrolled": false
   },
   "outputs": [
    {
     "data": {
      "image/png": "[encoded data removed]",
      "text/plain": [
       "<Figure size 3600x1440 with 1 Axes>"
      ]
     },
     "metadata": {
      "needs_background": "light"
     },
     "output_type": "display_data"
    }
   ],
   "source": [
    "plt.rcParams[\"figure.figsize\"] = (50, 20)\n",
    "a_tree = tree.plot_tree(rfr_best.estimators_[0], \n",
    "                        feature_names=X_data.columns, \n",
    "                        rounded=True,\n",
    "                        filled=True,\n",
    "                        fontsize=12)"
   ]
  },
  {
   "cell_type": "markdown",
   "metadata": {},
   "source": [
    "## test"
   ]
  },
  {
   "cell_type": "code",
   "execution_count": 91,
   "metadata": {
    "ExecuteTime": {
     "end_time": "2021-02-07T09:23:23.187016Z",
     "start_time": "2021-02-07T09:23:23.073015Z"
    }
   },
   "outputs": [],
   "source": [
    "y_pred_test = rfr_best.predict(X_test)"
   ]
  },
  {
   "cell_type": "code",
   "execution_count": 92,
   "metadata": {
    "ExecuteTime": {
     "end_time": "2021-02-07T09:23:23.198015Z",
     "start_time": "2021-02-07T09:23:23.189015Z"
    }
   },
   "outputs": [
    {
     "data": {
      "text/plain": [
       "array([26.50987897, 27.06311657, 26.22809077, 27.11436954, 26.8311131 ,\n",
       "       24.91902381, 26.35058681, 26.97459276, 26.28780556])"
      ]
     },
     "execution_count": 92,
     "metadata": {},
     "output_type": "execute_result"
    }
   ],
   "source": [
    "y_pred_test"
   ]
  },
  {
   "cell_type": "code",
   "execution_count": 93,
   "metadata": {
    "ExecuteTime": {
     "end_time": "2021-02-07T09:23:23.229014Z",
     "start_time": "2021-02-07T09:23:23.200015Z"
    }
   },
   "outputs": [
    {
     "data": {
      "text/html": [
       "<div>\n",
       "<style scoped>\n",
       "    .dataframe tbody tr th:only-of-type {\n",
       "        vertical-align: middle;\n",
       "    }\n",
       "\n",
       "    .dataframe tbody tr th {\n",
       "        vertical-align: top;\n",
       "    }\n",
       "\n",
       "    .dataframe thead th {\n",
       "        text-align: right;\n",
       "    }\n",
       "</style>\n",
       "<table border=\"1\" class=\"dataframe\">\n",
       "  <thead>\n",
       "    <tr style=\"text-align: right;\">\n",
       "      <th></th>\n",
       "      <th>Actual</th>\n",
       "      <th>Predicted</th>\n",
       "    </tr>\n",
       "  </thead>\n",
       "  <tbody>\n",
       "    <tr>\n",
       "      <th>37</th>\n",
       "      <td>26.377778</td>\n",
       "      <td>26.509879</td>\n",
       "    </tr>\n",
       "    <tr>\n",
       "      <th>41</th>\n",
       "      <td>27.172778</td>\n",
       "      <td>27.063117</td>\n",
       "    </tr>\n",
       "    <tr>\n",
       "      <th>12</th>\n",
       "      <td>25.913889</td>\n",
       "      <td>26.228091</td>\n",
       "    </tr>\n",
       "    <tr>\n",
       "      <th>5</th>\n",
       "      <td>27.235000</td>\n",
       "      <td>27.114370</td>\n",
       "    </tr>\n",
       "    <tr>\n",
       "      <th>43</th>\n",
       "      <td>26.817778</td>\n",
       "      <td>26.831113</td>\n",
       "    </tr>\n",
       "    <tr>\n",
       "      <th>26</th>\n",
       "      <td>22.608889</td>\n",
       "      <td>24.919024</td>\n",
       "    </tr>\n",
       "    <tr>\n",
       "      <th>6</th>\n",
       "      <td>26.377778</td>\n",
       "      <td>26.350587</td>\n",
       "    </tr>\n",
       "    <tr>\n",
       "      <th>8</th>\n",
       "      <td>26.377778</td>\n",
       "      <td>26.974593</td>\n",
       "    </tr>\n",
       "    <tr>\n",
       "      <th>7</th>\n",
       "      <td>24.847222</td>\n",
       "      <td>26.287806</td>\n",
       "    </tr>\n",
       "  </tbody>\n",
       "</table>\n",
       "</div>"
      ],
      "text/plain": [
       "       Actual  Predicted\n",
       "37  26.377778  26.509879\n",
       "41  27.172778  27.063117\n",
       "12  25.913889  26.228091\n",
       "5   27.235000  27.114370\n",
       "43  26.817778  26.831113\n",
       "26  22.608889  24.919024\n",
       "6   26.377778  26.350587\n",
       "8   26.377778  26.974593\n",
       "7   24.847222  26.287806"
      ]
     },
     "execution_count": 93,
     "metadata": {},
     "output_type": "execute_result"
    }
   ],
   "source": [
    "pd.DataFrame({'Actual': y_test, 'Predicted': y_pred_test})"
   ]
  },
  {
   "cell_type": "code",
   "execution_count": 94,
   "metadata": {
    "ExecuteTime": {
     "end_time": "2021-02-07T09:23:23.245015Z",
     "start_time": "2021-02-07T09:23:23.231015Z"
    }
   },
   "outputs": [
    {
     "data": {
      "text/plain": [
       "0.8790955365643042"
      ]
     },
     "execution_count": 94,
     "metadata": {},
     "output_type": "execute_result"
    }
   ],
   "source": [
    "# mean squared error\n",
    "mean_squared_error(y_test, y_pred_test)"
   ]
  },
  {
   "cell_type": "code",
   "execution_count": 95,
   "metadata": {
    "ExecuteTime": {
     "end_time": "2021-02-07T09:23:23.261014Z",
     "start_time": "2021-02-07T09:23:23.247014Z"
    }
   },
   "outputs": [
    {
     "data": {
      "text/plain": [
       "0.5297646981363224"
      ]
     },
     "execution_count": 95,
     "metadata": {},
     "output_type": "execute_result"
    }
   ],
   "source": [
    "# R2 score\n",
    "r2_score(y_test, y_pred_test)"
   ]
  },
  {
   "cell_type": "markdown",
   "metadata": {},
   "source": [
    "## save test dataset"
   ]
  },
  {
   "cell_type": "code",
   "execution_count": 96,
   "metadata": {
    "ExecuteTime": {
     "end_time": "2021-02-07T09:23:23.293015Z",
     "start_time": "2021-02-07T09:23:23.263014Z"
    }
   },
   "outputs": [],
   "source": [
    "test_df = X_test.copy()"
   ]
  },
  {
   "cell_type": "code",
   "execution_count": 97,
   "metadata": {
    "ExecuteTime": {
     "end_time": "2021-02-07T09:23:23.309014Z",
     "start_time": "2021-02-07T09:23:23.295015Z"
    }
   },
   "outputs": [],
   "source": [
    "test_df['env_temp'] = 0"
   ]
  },
  {
   "cell_type": "code",
   "execution_count": 98,
   "metadata": {
    "ExecuteTime": {
     "end_time": "2021-02-07T09:23:23.325015Z",
     "start_time": "2021-02-07T09:23:23.311015Z"
    }
   },
   "outputs": [],
   "source": [
    "test_df['env_temp'] = y_test"
   ]
  },
  {
   "cell_type": "code",
   "execution_count": 99,
   "metadata": {
    "ExecuteTime": {
     "end_time": "2021-02-07T09:23:23.357015Z",
     "start_time": "2021-02-07T09:23:23.327015Z"
    }
   },
   "outputs": [],
   "source": [
    "test_df.to_csv('../processed_data/test_max.csv')"
   ]
  },
  {
   "cell_type": "code",
   "execution_count": 100,
   "metadata": {
    "ExecuteTime": {
     "end_time": "2021-02-07T09:23:23.405015Z",
     "start_time": "2021-02-07T09:23:23.358014Z"
    }
   },
   "outputs": [
    {
     "data": {
      "text/html": [
       "<div>\n",
       "<style scoped>\n",
       "    .dataframe tbody tr th:only-of-type {\n",
       "        vertical-align: middle;\n",
       "    }\n",
       "\n",
       "    .dataframe tbody tr th {\n",
       "        vertical-align: top;\n",
       "    }\n",
       "\n",
       "    .dataframe thead th {\n",
       "        text-align: right;\n",
       "    }\n",
       "</style>\n",
       "<table border=\"1\" class=\"dataframe\">\n",
       "  <thead>\n",
       "    <tr style=\"text-align: right;\">\n",
       "      <th></th>\n",
       "      <th>height</th>\n",
       "      <th>weight</th>\n",
       "      <th>gender</th>\n",
       "      <th>bmi</th>\n",
       "      <th>age</th>\n",
       "      <th>rh</th>\n",
       "      <th>heart_rate</th>\n",
       "      <th>stress_level</th>\n",
       "      <th>skin_temp</th>\n",
       "      <th>eda</th>\n",
       "      <th>Clo</th>\n",
       "      <th>Act</th>\n",
       "      <th>env_temp</th>\n",
       "    </tr>\n",
       "  </thead>\n",
       "  <tbody>\n",
       "    <tr>\n",
       "      <th>37</th>\n",
       "      <td>1.77</td>\n",
       "      <td>58.0</td>\n",
       "      <td>-1.0</td>\n",
       "      <td>18.513199</td>\n",
       "      <td>23.0</td>\n",
       "      <td>53.124</td>\n",
       "      <td>92.500000</td>\n",
       "      <td>67.000000</td>\n",
       "      <td>32.682000</td>\n",
       "      <td>0.077406</td>\n",
       "      <td>0.36</td>\n",
       "      <td>1.3</td>\n",
       "      <td>26.377778</td>\n",
       "    </tr>\n",
       "    <tr>\n",
       "      <th>41</th>\n",
       "      <td>1.74</td>\n",
       "      <td>65.0</td>\n",
       "      <td>-1.0</td>\n",
       "      <td>21.469150</td>\n",
       "      <td>23.0</td>\n",
       "      <td>46.390</td>\n",
       "      <td>68.000000</td>\n",
       "      <td>62.485294</td>\n",
       "      <td>33.044000</td>\n",
       "      <td>0.223055</td>\n",
       "      <td>0.31</td>\n",
       "      <td>1.8</td>\n",
       "      <td>27.172778</td>\n",
       "    </tr>\n",
       "    <tr>\n",
       "      <th>12</th>\n",
       "      <td>1.77</td>\n",
       "      <td>58.0</td>\n",
       "      <td>-1.0</td>\n",
       "      <td>18.513199</td>\n",
       "      <td>23.0</td>\n",
       "      <td>52.903</td>\n",
       "      <td>86.000000</td>\n",
       "      <td>46.000000</td>\n",
       "      <td>31.719000</td>\n",
       "      <td>0.066685</td>\n",
       "      <td>0.36</td>\n",
       "      <td>1.3</td>\n",
       "      <td>25.913889</td>\n",
       "    </tr>\n",
       "    <tr>\n",
       "      <th>5</th>\n",
       "      <td>1.77</td>\n",
       "      <td>90.0</td>\n",
       "      <td>-1.0</td>\n",
       "      <td>28.727377</td>\n",
       "      <td>28.0</td>\n",
       "      <td>61.638</td>\n",
       "      <td>91.000000</td>\n",
       "      <td>83.000000</td>\n",
       "      <td>33.250000</td>\n",
       "      <td>8.697113</td>\n",
       "      <td>0.36</td>\n",
       "      <td>1.1</td>\n",
       "      <td>27.235000</td>\n",
       "    </tr>\n",
       "    <tr>\n",
       "      <th>43</th>\n",
       "      <td>1.77</td>\n",
       "      <td>58.0</td>\n",
       "      <td>-1.0</td>\n",
       "      <td>18.513199</td>\n",
       "      <td>23.0</td>\n",
       "      <td>51.234</td>\n",
       "      <td>102.500000</td>\n",
       "      <td>78.000000</td>\n",
       "      <td>33.636000</td>\n",
       "      <td>0.585949</td>\n",
       "      <td>0.36</td>\n",
       "      <td>1.3</td>\n",
       "      <td>26.817778</td>\n",
       "    </tr>\n",
       "    <tr>\n",
       "      <th>26</th>\n",
       "      <td>1.60</td>\n",
       "      <td>52.5</td>\n",
       "      <td>1.0</td>\n",
       "      <td>20.507812</td>\n",
       "      <td>24.0</td>\n",
       "      <td>51.538</td>\n",
       "      <td>88.158537</td>\n",
       "      <td>62.485294</td>\n",
       "      <td>32.559814</td>\n",
       "      <td>-0.100261</td>\n",
       "      <td>0.53</td>\n",
       "      <td>1.0</td>\n",
       "      <td>22.608889</td>\n",
       "    </tr>\n",
       "    <tr>\n",
       "      <th>6</th>\n",
       "      <td>1.77</td>\n",
       "      <td>58.0</td>\n",
       "      <td>-1.0</td>\n",
       "      <td>18.513199</td>\n",
       "      <td>23.0</td>\n",
       "      <td>55.272</td>\n",
       "      <td>87.000000</td>\n",
       "      <td>62.485294</td>\n",
       "      <td>32.915000</td>\n",
       "      <td>0.006857</td>\n",
       "      <td>0.36</td>\n",
       "      <td>1.0</td>\n",
       "      <td>26.377778</td>\n",
       "    </tr>\n",
       "    <tr>\n",
       "      <th>8</th>\n",
       "      <td>1.77</td>\n",
       "      <td>90.0</td>\n",
       "      <td>-1.0</td>\n",
       "      <td>28.727377</td>\n",
       "      <td>28.0</td>\n",
       "      <td>60.389</td>\n",
       "      <td>67.000000</td>\n",
       "      <td>62.485294</td>\n",
       "      <td>31.013000</td>\n",
       "      <td>0.188456</td>\n",
       "      <td>0.36</td>\n",
       "      <td>1.1</td>\n",
       "      <td>26.377778</td>\n",
       "    </tr>\n",
       "    <tr>\n",
       "      <th>7</th>\n",
       "      <td>1.77</td>\n",
       "      <td>58.0</td>\n",
       "      <td>-1.0</td>\n",
       "      <td>18.513199</td>\n",
       "      <td>23.0</td>\n",
       "      <td>50.237</td>\n",
       "      <td>99.000000</td>\n",
       "      <td>54.000000</td>\n",
       "      <td>31.588000</td>\n",
       "      <td>0.017909</td>\n",
       "      <td>0.36</td>\n",
       "      <td>1.3</td>\n",
       "      <td>24.847222</td>\n",
       "    </tr>\n",
       "  </tbody>\n",
       "</table>\n",
       "</div>"
      ],
      "text/plain": [
       "    height  weight  gender        bmi   age      rh  heart_rate  stress_level  \\\n",
       "37    1.77    58.0    -1.0  18.513199  23.0  53.124   92.500000     67.000000   \n",
       "41    1.74    65.0    -1.0  21.469150  23.0  46.390   68.000000     62.485294   \n",
       "12    1.77    58.0    -1.0  18.513199  23.0  52.903   86.000000     46.000000   \n",
       "5     1.77    90.0    -1.0  28.727377  28.0  61.638   91.000000     83.000000   \n",
       "43    1.77    58.0    -1.0  18.513199  23.0  51.234  102.500000     78.000000   \n",
       "26    1.60    52.5     1.0  20.507812  24.0  51.538   88.158537     62.485294   \n",
       "6     1.77    58.0    -1.0  18.513199  23.0  55.272   87.000000     62.485294   \n",
       "8     1.77    90.0    -1.0  28.727377  28.0  60.389   67.000000     62.485294   \n",
       "7     1.77    58.0    -1.0  18.513199  23.0  50.237   99.000000     54.000000   \n",
       "\n",
       "    skin_temp       eda   Clo  Act   env_temp  \n",
       "37  32.682000  0.077406  0.36  1.3  26.377778  \n",
       "41  33.044000  0.223055  0.31  1.8  27.172778  \n",
       "12  31.719000  0.066685  0.36  1.3  25.913889  \n",
       "5   33.250000  8.697113  0.36  1.1  27.235000  \n",
       "43  33.636000  0.585949  0.36  1.3  26.817778  \n",
       "26  32.559814 -0.100261  0.53  1.0  22.608889  \n",
       "6   32.915000  0.006857  0.36  1.0  26.377778  \n",
       "8   31.013000  0.188456  0.36  1.1  26.377778  \n",
       "7   31.588000  0.017909  0.36  1.3  24.847222  "
      ]
     },
     "execution_count": 100,
     "metadata": {},
     "output_type": "execute_result"
    }
   ],
   "source": [
    "test_df"
   ]
  },
  {
   "cell_type": "code",
   "execution_count": null,
   "metadata": {},
   "outputs": [],
   "source": []
  }
 ],
 "metadata": {
  "kernelspec": {
   "display_name": "Python [conda env:ml]",
   "language": "python",
   "name": "conda-env-ml-py"
  },
  "language_info": {
   "codemirror_mode": {
    "name": "ipython",
    "version": 3
   },
   "file_extension": ".py",
   "mimetype": "text/x-python",
   "name": "python",
   "nbconvert_exporter": "python",
   "pygments_lexer": "ipython3",
   "version": "3.6.10"
  },
  "toc": {
   "base_numbering": 1,
   "nav_menu": {},
   "number_sections": true,
   "sideBar": true,
   "skip_h1_title": false,
   "title_cell": "Table of Contents",
   "title_sidebar": "Contents",
   "toc_cell": false,
   "toc_position": {
    "height": "calc(100% - 180px)",
    "left": "10px",
    "top": "150px",
    "width": "287px"
   },
   "toc_section_display": true,
   "toc_window_display": true
  }
 },
 "nbformat": 4,
 "nbformat_minor": 4
}
