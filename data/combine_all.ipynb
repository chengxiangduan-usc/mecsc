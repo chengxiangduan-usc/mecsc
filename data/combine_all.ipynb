{
 "cells": [
  {
   "cell_type": "code",
   "execution_count": 1,
   "metadata": {
    "ExecuteTime": {
     "end_time": "2020-11-13T08:10:43.060391Z",
     "start_time": "2020-11-13T08:10:42.635727Z"
    }
   },
   "outputs": [],
   "source": [
    "from thermal.combine import *"
   ]
  },
  {
   "cell_type": "code",
   "execution_count": 2,
   "metadata": {
    "ExecuteTime": {
     "end_time": "2020-11-13T08:10:43.065540Z",
     "start_time": "2020-11-13T08:10:43.062442Z"
    }
   },
   "outputs": [],
   "source": [
    "with open('./profiles.json', 'r') as fp:\n",
    "    profiles = json.load(fp)"
   ]
  },
  {
   "cell_type": "code",
   "execution_count": 3,
   "metadata": {
    "ExecuteTime": {
     "end_time": "2020-11-13T08:10:43.070938Z",
     "start_time": "2020-11-13T08:10:43.068733Z"
    }
   },
   "outputs": [],
   "source": [
    "uids = list(profiles.keys())"
   ]
  },
  {
   "cell_type": "code",
   "execution_count": 4,
   "metadata": {
    "ExecuteTime": {
     "end_time": "2020-11-13T08:10:43.076503Z",
     "start_time": "2020-11-13T08:10:43.073681Z"
    }
   },
   "outputs": [],
   "source": [
    "uids_r1 = uids[0:10]\n",
    "uids_r2 = uids[10:20]\n",
    "uids_r3 = uids[20:30]"
   ]
  },
  {
   "cell_type": "code",
   "execution_count": 5,
   "metadata": {
    "ExecuteTime": {
     "end_time": "2020-11-13T08:17:37.981465Z",
     "start_time": "2020-11-13T08:10:43.078550Z"
    }
   },
   "outputs": [
    {
     "name": "stdout",
     "output_type": "stream",
     "text": [
      "finish: r1_01\n",
      "finish: r1_02\n",
      "finish: r1_03\n",
      "finish: r1_04\n",
      "finish: r1_05\n",
      "finish: r1_06\n",
      "finish: r1_07\n",
      "finish: r1_08\n",
      "finish: r1_09\n",
      "finish: r1_10\n"
     ]
    }
   ],
   "source": [
    "dfs_r1 = []\n",
    "for uid in uids_r1:\n",
    "    dfs_r1.append(combine(uid))"
   ]
  },
  {
   "cell_type": "code",
   "execution_count": 6,
   "metadata": {
    "ExecuteTime": {
     "end_time": "2020-11-13T08:24:14.159121Z",
     "start_time": "2020-11-13T08:17:37.983421Z"
    }
   },
   "outputs": [
    {
     "name": "stdout",
     "output_type": "stream",
     "text": [
      "finish: r2_01\n",
      "finish: r2_02\n",
      "finish: r2_03\n",
      "finish: r2_04\n",
      "finish: r2_05\n",
      "finish: r2_06\n",
      "finish: r2_07\n",
      "finish: r2_08\n",
      "finish: r2_09\n",
      "finish: r2_10\n"
     ]
    }
   ],
   "source": [
    "dfs_r2 = []\n",
    "for uid in uids_r2:\n",
    "    dfs_r2.append(combine(uid))"
   ]
  },
  {
   "cell_type": "code",
   "execution_count": 7,
   "metadata": {
    "ExecuteTime": {
     "end_time": "2020-11-13T08:30:47.958441Z",
     "start_time": "2020-11-13T08:24:14.161135Z"
    }
   },
   "outputs": [
    {
     "name": "stdout",
     "output_type": "stream",
     "text": [
      "finish: r3_01\n",
      "finish: r3_02\n",
      "finish: r3_03\n",
      "finish: r3_04\n",
      "finish: r3_05\n",
      "finish: r3_06\n",
      "finish: r3_07\n",
      "finish: r3_08\n",
      "finish: r3_09\n",
      "finish: r3_10\n"
     ]
    }
   ],
   "source": [
    "dfs_r3 = []\n",
    "for uid in uids_r3:\n",
    "    dfs_r3.append(combine(uid))"
   ]
  },
  {
   "cell_type": "code",
   "execution_count": 8,
   "metadata": {
    "ExecuteTime": {
     "end_time": "2020-11-13T08:30:48.007442Z",
     "start_time": "2020-11-13T08:30:47.961450Z"
    }
   },
   "outputs": [],
   "source": [
    "df_concated = pd.concat([pd.concat(dfs_r1), pd.concat(dfs_r2), pd.concat(dfs_r3)]).reset_index(drop=True)"
   ]
  },
  {
   "cell_type": "code",
   "execution_count": 9,
   "metadata": {
    "ExecuteTime": {
     "end_time": "2020-11-13T08:30:48.039119Z",
     "start_time": "2020-11-13T08:30:48.009209Z"
    }
   },
   "outputs": [
    {
     "data": {
      "text/html": [
       "<div>\n",
       "<style scoped>\n",
       "    .dataframe tbody tr th:only-of-type {\n",
       "        vertical-align: middle;\n",
       "    }\n",
       "\n",
       "    .dataframe tbody tr th {\n",
       "        vertical-align: top;\n",
       "    }\n",
       "\n",
       "    .dataframe thead th {\n",
       "        text-align: right;\n",
       "    }\n",
       "</style>\n",
       "<table border=\"1\" class=\"dataframe\">\n",
       "  <thead>\n",
       "    <tr style=\"text-align: right;\">\n",
       "      <th></th>\n",
       "      <th>time</th>\n",
       "      <th>height</th>\n",
       "      <th>weight</th>\n",
       "      <th>gender</th>\n",
       "      <th>bmi</th>\n",
       "      <th>age</th>\n",
       "      <th>env_temp</th>\n",
       "      <th>rh</th>\n",
       "      <th>heart_rate</th>\n",
       "      <th>stress_level</th>\n",
       "      <th>skin_temp</th>\n",
       "      <th>eda</th>\n",
       "      <th>TC</th>\n",
       "      <th>TS</th>\n",
       "      <th>Clo</th>\n",
       "      <th>Act</th>\n",
       "    </tr>\n",
       "  </thead>\n",
       "  <tbody>\n",
       "    <tr>\n",
       "      <th>0</th>\n",
       "      <td>2020-10-19 14:00:00</td>\n",
       "      <td>1.64</td>\n",
       "      <td>54.0</td>\n",
       "      <td>1</td>\n",
       "      <td>20.077335</td>\n",
       "      <td>24</td>\n",
       "      <td>77.990</td>\n",
       "      <td>62.122</td>\n",
       "      <td>60.0</td>\n",
       "      <td>17.0</td>\n",
       "      <td>NaN</td>\n",
       "      <td>NaN</td>\n",
       "      <td>4.0</td>\n",
       "      <td>4.0</td>\n",
       "      <td>0.74</td>\n",
       "      <td>1.0</td>\n",
       "    </tr>\n",
       "    <tr>\n",
       "      <th>1</th>\n",
       "      <td>2020-10-19 14:30:00</td>\n",
       "      <td>1.64</td>\n",
       "      <td>54.0</td>\n",
       "      <td>1</td>\n",
       "      <td>20.077335</td>\n",
       "      <td>24</td>\n",
       "      <td>78.208</td>\n",
       "      <td>62.321</td>\n",
       "      <td>78.0</td>\n",
       "      <td>60.0</td>\n",
       "      <td>30.748</td>\n",
       "      <td>0.926321</td>\n",
       "      <td>4.0</td>\n",
       "      <td>4.0</td>\n",
       "      <td>0.74</td>\n",
       "      <td>1.1</td>\n",
       "    </tr>\n",
       "    <tr>\n",
       "      <th>2</th>\n",
       "      <td>2020-10-19 15:00:00</td>\n",
       "      <td>1.64</td>\n",
       "      <td>54.0</td>\n",
       "      <td>1</td>\n",
       "      <td>20.077335</td>\n",
       "      <td>24</td>\n",
       "      <td>78.514</td>\n",
       "      <td>62.255</td>\n",
       "      <td>79.0</td>\n",
       "      <td>46.0</td>\n",
       "      <td>31.327</td>\n",
       "      <td>1.232405</td>\n",
       "      <td>4.0</td>\n",
       "      <td>4.0</td>\n",
       "      <td>0.74</td>\n",
       "      <td>1.1</td>\n",
       "    </tr>\n",
       "    <tr>\n",
       "      <th>3</th>\n",
       "      <td>2020-10-19 15:30:00</td>\n",
       "      <td>1.64</td>\n",
       "      <td>54.0</td>\n",
       "      <td>1</td>\n",
       "      <td>20.077335</td>\n",
       "      <td>24</td>\n",
       "      <td>79.041</td>\n",
       "      <td>61.491</td>\n",
       "      <td>94.0</td>\n",
       "      <td>91.0</td>\n",
       "      <td>31.458</td>\n",
       "      <td>0.375005</td>\n",
       "      <td>4.0</td>\n",
       "      <td>4.0</td>\n",
       "      <td>0.74</td>\n",
       "      <td>1.0</td>\n",
       "    </tr>\n",
       "    <tr>\n",
       "      <th>4</th>\n",
       "      <td>2020-10-19 16:00:00</td>\n",
       "      <td>1.64</td>\n",
       "      <td>54.0</td>\n",
       "      <td>1</td>\n",
       "      <td>20.077335</td>\n",
       "      <td>24</td>\n",
       "      <td>79.435</td>\n",
       "      <td>61.071</td>\n",
       "      <td>85.0</td>\n",
       "      <td>71.0</td>\n",
       "      <td>32.085</td>\n",
       "      <td>0.081127</td>\n",
       "      <td>4.0</td>\n",
       "      <td>4.0</td>\n",
       "      <td>0.74</td>\n",
       "      <td>1.0</td>\n",
       "    </tr>\n",
       "    <tr>\n",
       "      <th>...</th>\n",
       "      <td>...</td>\n",
       "      <td>...</td>\n",
       "      <td>...</td>\n",
       "      <td>...</td>\n",
       "      <td>...</td>\n",
       "      <td>...</td>\n",
       "      <td>...</td>\n",
       "      <td>...</td>\n",
       "      <td>...</td>\n",
       "      <td>...</td>\n",
       "      <td>...</td>\n",
       "      <td>...</td>\n",
       "      <td>...</td>\n",
       "      <td>...</td>\n",
       "      <td>...</td>\n",
       "      <td>...</td>\n",
       "    </tr>\n",
       "    <tr>\n",
       "      <th>2791</th>\n",
       "      <td>2020-10-28 21:30:00</td>\n",
       "      <td>1.63</td>\n",
       "      <td>50.0</td>\n",
       "      <td>1</td>\n",
       "      <td>18.818924</td>\n",
       "      <td>23</td>\n",
       "      <td>76.528</td>\n",
       "      <td>40.530</td>\n",
       "      <td>73.0</td>\n",
       "      <td>22.0</td>\n",
       "      <td>31.850</td>\n",
       "      <td>0.114876</td>\n",
       "      <td>2.0</td>\n",
       "      <td>3.0</td>\n",
       "      <td>0.50</td>\n",
       "      <td>1.0</td>\n",
       "    </tr>\n",
       "    <tr>\n",
       "      <th>2792</th>\n",
       "      <td>2020-10-28 22:00:00</td>\n",
       "      <td>1.63</td>\n",
       "      <td>50.0</td>\n",
       "      <td>1</td>\n",
       "      <td>18.818924</td>\n",
       "      <td>23</td>\n",
       "      <td>76.876</td>\n",
       "      <td>39.890</td>\n",
       "      <td>70.5</td>\n",
       "      <td>10.0</td>\n",
       "      <td>32.215</td>\n",
       "      <td>0.146231</td>\n",
       "      <td>2.0</td>\n",
       "      <td>3.0</td>\n",
       "      <td>0.50</td>\n",
       "      <td>1.0</td>\n",
       "    </tr>\n",
       "    <tr>\n",
       "      <th>2793</th>\n",
       "      <td>2020-10-28 22:30:00</td>\n",
       "      <td>1.63</td>\n",
       "      <td>50.0</td>\n",
       "      <td>1</td>\n",
       "      <td>18.818924</td>\n",
       "      <td>23</td>\n",
       "      <td>77.050</td>\n",
       "      <td>39.710</td>\n",
       "      <td>72.0</td>\n",
       "      <td>5.0</td>\n",
       "      <td>32.656</td>\n",
       "      <td>0.153838</td>\n",
       "      <td>2.0</td>\n",
       "      <td>3.0</td>\n",
       "      <td>0.50</td>\n",
       "      <td>1.0</td>\n",
       "    </tr>\n",
       "    <tr>\n",
       "      <th>2794</th>\n",
       "      <td>2020-10-28 23:00:00</td>\n",
       "      <td>1.63</td>\n",
       "      <td>50.0</td>\n",
       "      <td>1</td>\n",
       "      <td>18.818924</td>\n",
       "      <td>23</td>\n",
       "      <td>76.703</td>\n",
       "      <td>39.980</td>\n",
       "      <td>66.0</td>\n",
       "      <td>0.0</td>\n",
       "      <td>31.902</td>\n",
       "      <td>0.160930</td>\n",
       "      <td>2.0</td>\n",
       "      <td>3.0</td>\n",
       "      <td>0.50</td>\n",
       "      <td>1.0</td>\n",
       "    </tr>\n",
       "    <tr>\n",
       "      <th>2795</th>\n",
       "      <td>2020-10-28 23:30:00</td>\n",
       "      <td>1.63</td>\n",
       "      <td>50.0</td>\n",
       "      <td>1</td>\n",
       "      <td>18.818924</td>\n",
       "      <td>23</td>\n",
       "      <td>76.354</td>\n",
       "      <td>41.050</td>\n",
       "      <td>86.0</td>\n",
       "      <td>NaN</td>\n",
       "      <td>30.563</td>\n",
       "      <td>0.281910</td>\n",
       "      <td>2.0</td>\n",
       "      <td>3.0</td>\n",
       "      <td>0.50</td>\n",
       "      <td>1.0</td>\n",
       "    </tr>\n",
       "  </tbody>\n",
       "</table>\n",
       "<p>2796 rows × 16 columns</p>\n",
       "</div>"
      ],
      "text/plain": [
       "                    time  height  weight  gender        bmi  age  env_temp  \\\n",
       "0    2020-10-19 14:00:00    1.64    54.0       1  20.077335   24    77.990   \n",
       "1    2020-10-19 14:30:00    1.64    54.0       1  20.077335   24    78.208   \n",
       "2    2020-10-19 15:00:00    1.64    54.0       1  20.077335   24    78.514   \n",
       "3    2020-10-19 15:30:00    1.64    54.0       1  20.077335   24    79.041   \n",
       "4    2020-10-19 16:00:00    1.64    54.0       1  20.077335   24    79.435   \n",
       "...                  ...     ...     ...     ...        ...  ...       ...   \n",
       "2791 2020-10-28 21:30:00    1.63    50.0       1  18.818924   23    76.528   \n",
       "2792 2020-10-28 22:00:00    1.63    50.0       1  18.818924   23    76.876   \n",
       "2793 2020-10-28 22:30:00    1.63    50.0       1  18.818924   23    77.050   \n",
       "2794 2020-10-28 23:00:00    1.63    50.0       1  18.818924   23    76.703   \n",
       "2795 2020-10-28 23:30:00    1.63    50.0       1  18.818924   23    76.354   \n",
       "\n",
       "          rh  heart_rate  stress_level  skin_temp       eda   TC   TS   Clo  \\\n",
       "0     62.122        60.0          17.0        NaN       NaN  4.0  4.0  0.74   \n",
       "1     62.321        78.0          60.0     30.748  0.926321  4.0  4.0  0.74   \n",
       "2     62.255        79.0          46.0     31.327  1.232405  4.0  4.0  0.74   \n",
       "3     61.491        94.0          91.0     31.458  0.375005  4.0  4.0  0.74   \n",
       "4     61.071        85.0          71.0     32.085  0.081127  4.0  4.0  0.74   \n",
       "...      ...         ...           ...        ...       ...  ...  ...   ...   \n",
       "2791  40.530        73.0          22.0     31.850  0.114876  2.0  3.0  0.50   \n",
       "2792  39.890        70.5          10.0     32.215  0.146231  2.0  3.0  0.50   \n",
       "2793  39.710        72.0           5.0     32.656  0.153838  2.0  3.0  0.50   \n",
       "2794  39.980        66.0           0.0     31.902  0.160930  2.0  3.0  0.50   \n",
       "2795  41.050        86.0           NaN     30.563  0.281910  2.0  3.0  0.50   \n",
       "\n",
       "      Act  \n",
       "0     1.0  \n",
       "1     1.1  \n",
       "2     1.1  \n",
       "3     1.0  \n",
       "4     1.0  \n",
       "...   ...  \n",
       "2791  1.0  \n",
       "2792  1.0  \n",
       "2793  1.0  \n",
       "2794  1.0  \n",
       "2795  1.0  \n",
       "\n",
       "[2796 rows x 16 columns]"
      ]
     },
     "execution_count": 9,
     "metadata": {},
     "output_type": "execute_result"
    }
   ],
   "source": [
    "df_concated"
   ]
  },
  {
   "cell_type": "code",
   "execution_count": 10,
   "metadata": {
    "ExecuteTime": {
     "end_time": "2020-11-13T08:30:48.092100Z",
     "start_time": "2020-11-13T08:30:48.040936Z"
    }
   },
   "outputs": [],
   "source": [
    "df_concated.to_csv('train.csv', index=False)"
   ]
  },
  {
   "cell_type": "code",
   "execution_count": null,
   "metadata": {},
   "outputs": [],
   "source": []
  },
  {
   "cell_type": "code",
   "execution_count": null,
   "metadata": {},
   "outputs": [],
   "source": []
  },
  {
   "cell_type": "code",
   "execution_count": null,
   "metadata": {},
   "outputs": [],
   "source": []
  }
 ],
 "metadata": {
  "kernelspec": {
   "display_name": "thermal38",
   "language": "python",
   "name": "thermal38"
  },
  "language_info": {
   "codemirror_mode": {
    "name": "ipython",
    "version": 3
   },
   "file_extension": ".py",
   "mimetype": "text/x-python",
   "name": "python",
   "nbconvert_exporter": "python",
   "pygments_lexer": "ipython3",
   "version": "3.8.2"
  },
  "toc": {
   "base_numbering": 1,
   "nav_menu": {},
   "number_sections": true,
   "sideBar": true,
   "skip_h1_title": false,
   "title_cell": "Table of Contents",
   "title_sidebar": "Contents",
   "toc_cell": false,
   "toc_position": {},
   "toc_section_display": true,
   "toc_window_display": false
  }
 },
 "nbformat": 4,
 "nbformat_minor": 4
}
