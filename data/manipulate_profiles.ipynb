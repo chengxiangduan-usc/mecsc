{
 "cells": [
  {
   "cell_type": "code",
   "execution_count": 1,
   "metadata": {
    "ExecuteTime": {
     "end_time": "2020-11-06T06:19:21.705783Z",
     "start_time": "2020-11-06T06:19:21.703783Z"
    }
   },
   "outputs": [],
   "source": [
    "import json"
   ]
  },
  {
   "cell_type": "code",
   "execution_count": 2,
   "metadata": {
    "ExecuteTime": {
     "end_time": "2020-11-06T06:19:21.711781Z",
     "start_time": "2020-11-06T06:19:21.706781Z"
    },
    "scrolled": true
   },
   "outputs": [],
   "source": [
    "with open('./devices.json', 'r') as fp:\n",
    "    devices = json.load(fp)"
   ]
  },
  {
   "cell_type": "code",
   "execution_count": 3,
   "metadata": {
    "ExecuteTime": {
     "end_time": "2020-11-06T06:19:21.723783Z",
     "start_time": "2020-11-06T06:19:21.713780Z"
    },
    "scrolled": true
   },
   "outputs": [
    {
     "data": {
      "text/plain": [
       "{'r1_01': {'hobo': '01', 'garmin': '01', 'embrace': '01'},\n",
       " 'r1_02': {'hobo': '03', 'garmin': '13', 'embrace': '04'},\n",
       " 'r1_03': {'hobo': '04', 'garmin': '04', 'embrace': '05'},\n",
       " 'r1_04': {'hobo': '06', 'garmin': '06', 'embrace': '06'},\n",
       " 'r1_05': {'hobo': '07', 'garmin': '07', 'embrace': '07'},\n",
       " 'r1_06': {'hobo': '08', 'garmin': '08', 'embrace': '08'},\n",
       " 'r1_07': {'hobo': '09', 'garmin': '09', 'embrace': '09'},\n",
       " 'r1_08': {'hobo': '10', 'garmin': '10', 'embrace': '10'},\n",
       " 'r1_09': {'hobo': '11', 'garmin': '11', 'embrace': '11'},\n",
       " 'r1_10': {'hobo': '12', 'garmin': '12', 'embrace': '12'},\n",
       " 'r2_01': {'hobo': '01', 'garmin': '01', 'embrace': '01'},\n",
       " 'r2_02': {'hobo': '03', 'garmin': '13', 'embrace': '04'},\n",
       " 'r2_03': {'hobo': '04', 'garmin': '04', 'embrace': '05'},\n",
       " 'r2_04': {'hobo': '06', 'garmin': '06', 'embrace': '06'},\n",
       " 'r2_05': {'hobo': '07', 'garmin': '07', 'embrace': '07'},\n",
       " 'r2_06': {'hobo': '08', 'garmin': '08', 'embrace': '08'},\n",
       " 'r2_07': {'hobo': '09', 'garmin': '09', 'embrace': '09'},\n",
       " 'r2_08': {'hobo': '10', 'garmin': '10', 'embrace': '10'},\n",
       " 'r2_09': {'hobo': '11', 'garmin': '11', 'embrace': '11'},\n",
       " 'r2_10': {'hobo': '12', 'garmin': '12', 'embrace': '12'},\n",
       " 'r3_01': {'hobo': '01', 'garmin': '01', 'embrace': '01'},\n",
       " 'r3_02': {'hobo': '03', 'garmin': '13', 'embrace': '04'},\n",
       " 'r3_03': {'hobo': '04', 'garmin': '04', 'embrace': '05'},\n",
       " 'r3_04': {'hobo': '06', 'garmin': '06', 'embrace': '06'},\n",
       " 'r3_05': {'hobo': '07', 'garmin': '07', 'embrace': '07'},\n",
       " 'r3_06': {'hobo': '08', 'garmin': '08', 'embrace': '08'},\n",
       " 'r3_07': {'hobo': '09', 'garmin': '09', 'embrace': '09'},\n",
       " 'r3_08': {'hobo': '10', 'garmin': '10', 'embrace': '10'},\n",
       " 'r3_09': {'hobo': '11', 'garmin': '11', 'embrace': '11'},\n",
       " 'r3_10': {'hobo': '12', 'garmin': '12', 'embrace': '12'}}"
      ]
     },
     "execution_count": 3,
     "metadata": {},
     "output_type": "execute_result"
    }
   ],
   "source": [
    "devices"
   ]
  },
  {
   "cell_type": "code",
   "execution_count": 4,
   "metadata": {
    "ExecuteTime": {
     "end_time": "2020-11-06T06:19:21.728781Z",
     "start_time": "2020-11-06T06:19:21.725781Z"
    }
   },
   "outputs": [],
   "source": [
    "typical_dates = {\n",
    "    'r1': ['2020-10-19', '2020-10-20', '2020-10-21'],\n",
    "    'r2': ['2020-10-23', '2020-10-24', '2020-10-25'],\n",
    "    'r3': ['2020-10-26', '2020-10-27', '2020-10-28']\n",
    "}"
   ]
  },
  {
   "cell_type": "code",
   "execution_count": 5,
   "metadata": {
    "ExecuteTime": {
     "end_time": "2020-11-06T06:19:21.732781Z",
     "start_time": "2020-11-06T06:19:21.729781Z"
    }
   },
   "outputs": [],
   "source": [
    "for k,v in devices.items():\n",
    "    r = k[:2]\n",
    "    v['round'] = r\n",
    "    v['id'] = k[3:5]\n",
    "    v['dates'] = {}\n",
    "    v['dates']['garmin'] = typical_dates[r]\n",
    "    v['dates']['embrace'] = typical_dates[r]\n",
    "    v['dates']['hobo'] = typical_dates[r]"
   ]
  },
  {
   "cell_type": "code",
   "execution_count": 6,
   "metadata": {
    "ExecuteTime": {
     "end_time": "2020-11-06T06:19:21.743781Z",
     "start_time": "2020-11-06T06:19:21.733783Z"
    }
   },
   "outputs": [
    {
     "data": {
      "text/plain": [
       "{'hobo': '01',\n",
       " 'garmin': '01',\n",
       " 'embrace': '01',\n",
       " 'round': 'r2',\n",
       " 'id': '01',\n",
       " 'dates': {'garmin': ['2020-10-23', '2020-10-24', '2020-10-25'],\n",
       "  'embrace': ['2020-10-23', '2020-10-24', '2020-10-25'],\n",
       "  'hobo': ['2020-10-23', '2020-10-24', '2020-10-25']}}"
      ]
     },
     "execution_count": 6,
     "metadata": {},
     "output_type": "execute_result"
    }
   ],
   "source": [
    "devices['r2_01']"
   ]
  },
  {
   "cell_type": "code",
   "execution_count": 7,
   "metadata": {},
   "outputs": [],
   "source": [
    "# Aishwarya: r2 last date lost embrace data\n",
    "devices['r2_05']['dates']['embrace'] = ['2020-10-23', '2020-10-24']"
   ]
  },
  {
   "cell_type": "code",
   "execution_count": 8,
   "metadata": {
    "ExecuteTime": {
     "end_time": "2020-11-06T06:19:21.747783Z",
     "start_time": "2020-11-06T06:19:21.744783Z"
    }
   },
   "outputs": [],
   "source": [
    "# Zilu: r3 last date lost garmin data\n",
    "devices['r3_01']['dates']['garmin'] = ['2020-10-26', '2020-10-27']"
   ]
  },
  {
   "cell_type": "code",
   "execution_count": 9,
   "metadata": {},
   "outputs": [],
   "source": [
    "# Shengjia: r3 dates 29 -> 30\n",
    "sj_dates = ['2020-10-28', '2020-10-29', '2020-10-30']\n",
    "devices['r3_05']['dates']['garmin'] = sj_dates\n",
    "devices['r3_05']['dates']['embrace'] = sj_dates\n",
    "devices['r3_05']['dates']['hobo'] = sj_dates"
   ]
  },
  {
   "cell_type": "code",
   "execution_count": 10,
   "metadata": {
    "ExecuteTime": {
     "end_time": "2020-11-06T06:19:21.757781Z",
     "start_time": "2020-11-06T06:19:21.748781Z"
    }
   },
   "outputs": [
    {
     "data": {
      "text/plain": [
       "{'r1_01': {'hobo': '01',\n",
       "  'garmin': '01',\n",
       "  'embrace': '01',\n",
       "  'round': 'r1',\n",
       "  'id': '01',\n",
       "  'dates': {'garmin': ['2020-10-19', '2020-10-20', '2020-10-21'],\n",
       "   'embrace': ['2020-10-19', '2020-10-20', '2020-10-21'],\n",
       "   'hobo': ['2020-10-19', '2020-10-20', '2020-10-21']}},\n",
       " 'r1_02': {'hobo': '03',\n",
       "  'garmin': '13',\n",
       "  'embrace': '04',\n",
       "  'round': 'r1',\n",
       "  'id': '02',\n",
       "  'dates': {'garmin': ['2020-10-19', '2020-10-20', '2020-10-21'],\n",
       "   'embrace': ['2020-10-19', '2020-10-20', '2020-10-21'],\n",
       "   'hobo': ['2020-10-19', '2020-10-20', '2020-10-21']}},\n",
       " 'r1_03': {'hobo': '04',\n",
       "  'garmin': '04',\n",
       "  'embrace': '05',\n",
       "  'round': 'r1',\n",
       "  'id': '03',\n",
       "  'dates': {'garmin': ['2020-10-19', '2020-10-20', '2020-10-21'],\n",
       "   'embrace': ['2020-10-19', '2020-10-20', '2020-10-21'],\n",
       "   'hobo': ['2020-10-19', '2020-10-20', '2020-10-21']}},\n",
       " 'r1_04': {'hobo': '06',\n",
       "  'garmin': '06',\n",
       "  'embrace': '06',\n",
       "  'round': 'r1',\n",
       "  'id': '04',\n",
       "  'dates': {'garmin': ['2020-10-19', '2020-10-20', '2020-10-21'],\n",
       "   'embrace': ['2020-10-19', '2020-10-20', '2020-10-21'],\n",
       "   'hobo': ['2020-10-19', '2020-10-20', '2020-10-21']}},\n",
       " 'r1_05': {'hobo': '07',\n",
       "  'garmin': '07',\n",
       "  'embrace': '07',\n",
       "  'round': 'r1',\n",
       "  'id': '05',\n",
       "  'dates': {'garmin': ['2020-10-19', '2020-10-20', '2020-10-21'],\n",
       "   'embrace': ['2020-10-19', '2020-10-20', '2020-10-21'],\n",
       "   'hobo': ['2020-10-19', '2020-10-20', '2020-10-21']}},\n",
       " 'r1_06': {'hobo': '08',\n",
       "  'garmin': '08',\n",
       "  'embrace': '08',\n",
       "  'round': 'r1',\n",
       "  'id': '06',\n",
       "  'dates': {'garmin': ['2020-10-19', '2020-10-20', '2020-10-21'],\n",
       "   'embrace': ['2020-10-19', '2020-10-20', '2020-10-21'],\n",
       "   'hobo': ['2020-10-19', '2020-10-20', '2020-10-21']}},\n",
       " 'r1_07': {'hobo': '09',\n",
       "  'garmin': '09',\n",
       "  'embrace': '09',\n",
       "  'round': 'r1',\n",
       "  'id': '07',\n",
       "  'dates': {'garmin': ['2020-10-19', '2020-10-20', '2020-10-21'],\n",
       "   'embrace': ['2020-10-19', '2020-10-20', '2020-10-21'],\n",
       "   'hobo': ['2020-10-19', '2020-10-20', '2020-10-21']}},\n",
       " 'r1_08': {'hobo': '10',\n",
       "  'garmin': '10',\n",
       "  'embrace': '10',\n",
       "  'round': 'r1',\n",
       "  'id': '08',\n",
       "  'dates': {'garmin': ['2020-10-19', '2020-10-20', '2020-10-21'],\n",
       "   'embrace': ['2020-10-19', '2020-10-20', '2020-10-21'],\n",
       "   'hobo': ['2020-10-19', '2020-10-20', '2020-10-21']}},\n",
       " 'r1_09': {'hobo': '11',\n",
       "  'garmin': '11',\n",
       "  'embrace': '11',\n",
       "  'round': 'r1',\n",
       "  'id': '09',\n",
       "  'dates': {'garmin': ['2020-10-19', '2020-10-20', '2020-10-21'],\n",
       "   'embrace': ['2020-10-19', '2020-10-20', '2020-10-21'],\n",
       "   'hobo': ['2020-10-19', '2020-10-20', '2020-10-21']}},\n",
       " 'r1_10': {'hobo': '12',\n",
       "  'garmin': '12',\n",
       "  'embrace': '12',\n",
       "  'round': 'r1',\n",
       "  'id': '10',\n",
       "  'dates': {'garmin': ['2020-10-19', '2020-10-20', '2020-10-21'],\n",
       "   'embrace': ['2020-10-19', '2020-10-20', '2020-10-21'],\n",
       "   'hobo': ['2020-10-19', '2020-10-20', '2020-10-21']}},\n",
       " 'r2_01': {'hobo': '01',\n",
       "  'garmin': '01',\n",
       "  'embrace': '01',\n",
       "  'round': 'r2',\n",
       "  'id': '01',\n",
       "  'dates': {'garmin': ['2020-10-23', '2020-10-24', '2020-10-25'],\n",
       "   'embrace': ['2020-10-23', '2020-10-24', '2020-10-25'],\n",
       "   'hobo': ['2020-10-23', '2020-10-24', '2020-10-25']}},\n",
       " 'r2_02': {'hobo': '03',\n",
       "  'garmin': '13',\n",
       "  'embrace': '04',\n",
       "  'round': 'r2',\n",
       "  'id': '02',\n",
       "  'dates': {'garmin': ['2020-10-23', '2020-10-24', '2020-10-25'],\n",
       "   'embrace': ['2020-10-23', '2020-10-24', '2020-10-25'],\n",
       "   'hobo': ['2020-10-23', '2020-10-24', '2020-10-25']}},\n",
       " 'r2_03': {'hobo': '04',\n",
       "  'garmin': '04',\n",
       "  'embrace': '05',\n",
       "  'round': 'r2',\n",
       "  'id': '03',\n",
       "  'dates': {'garmin': ['2020-10-23', '2020-10-24', '2020-10-25'],\n",
       "   'embrace': ['2020-10-23', '2020-10-24', '2020-10-25'],\n",
       "   'hobo': ['2020-10-23', '2020-10-24', '2020-10-25']}},\n",
       " 'r2_04': {'hobo': '06',\n",
       "  'garmin': '06',\n",
       "  'embrace': '06',\n",
       "  'round': 'r2',\n",
       "  'id': '04',\n",
       "  'dates': {'garmin': ['2020-10-23', '2020-10-24', '2020-10-25'],\n",
       "   'embrace': ['2020-10-23', '2020-10-24', '2020-10-25'],\n",
       "   'hobo': ['2020-10-23', '2020-10-24', '2020-10-25']}},\n",
       " 'r2_05': {'hobo': '07',\n",
       "  'garmin': '07',\n",
       "  'embrace': '07',\n",
       "  'round': 'r2',\n",
       "  'id': '05',\n",
       "  'dates': {'garmin': ['2020-10-23', '2020-10-24', '2020-10-25'],\n",
       "   'embrace': ['2020-10-23', '2020-10-24'],\n",
       "   'hobo': ['2020-10-23', '2020-10-24', '2020-10-25']}},\n",
       " 'r2_06': {'hobo': '08',\n",
       "  'garmin': '08',\n",
       "  'embrace': '08',\n",
       "  'round': 'r2',\n",
       "  'id': '06',\n",
       "  'dates': {'garmin': ['2020-10-23', '2020-10-24', '2020-10-25'],\n",
       "   'embrace': ['2020-10-23', '2020-10-24', '2020-10-25'],\n",
       "   'hobo': ['2020-10-23', '2020-10-24', '2020-10-25']}},\n",
       " 'r2_07': {'hobo': '09',\n",
       "  'garmin': '09',\n",
       "  'embrace': '09',\n",
       "  'round': 'r2',\n",
       "  'id': '07',\n",
       "  'dates': {'garmin': ['2020-10-23', '2020-10-24', '2020-10-25'],\n",
       "   'embrace': ['2020-10-23', '2020-10-24', '2020-10-25'],\n",
       "   'hobo': ['2020-10-23', '2020-10-24', '2020-10-25']}},\n",
       " 'r2_08': {'hobo': '10',\n",
       "  'garmin': '10',\n",
       "  'embrace': '10',\n",
       "  'round': 'r2',\n",
       "  'id': '08',\n",
       "  'dates': {'garmin': ['2020-10-23', '2020-10-24', '2020-10-25'],\n",
       "   'embrace': ['2020-10-23', '2020-10-24', '2020-10-25'],\n",
       "   'hobo': ['2020-10-23', '2020-10-24', '2020-10-25']}},\n",
       " 'r2_09': {'hobo': '11',\n",
       "  'garmin': '11',\n",
       "  'embrace': '11',\n",
       "  'round': 'r2',\n",
       "  'id': '09',\n",
       "  'dates': {'garmin': ['2020-10-23', '2020-10-24', '2020-10-25'],\n",
       "   'embrace': ['2020-10-23', '2020-10-24', '2020-10-25'],\n",
       "   'hobo': ['2020-10-23', '2020-10-24', '2020-10-25']}},\n",
       " 'r2_10': {'hobo': '12',\n",
       "  'garmin': '12',\n",
       "  'embrace': '12',\n",
       "  'round': 'r2',\n",
       "  'id': '10',\n",
       "  'dates': {'garmin': ['2020-10-23', '2020-10-24', '2020-10-25'],\n",
       "   'embrace': ['2020-10-23', '2020-10-24', '2020-10-25'],\n",
       "   'hobo': ['2020-10-23', '2020-10-24', '2020-10-25']}},\n",
       " 'r3_01': {'hobo': '01',\n",
       "  'garmin': '01',\n",
       "  'embrace': '01',\n",
       "  'round': 'r3',\n",
       "  'id': '01',\n",
       "  'dates': {'garmin': ['2020-10-26', '2020-10-27'],\n",
       "   'embrace': ['2020-10-26', '2020-10-27', '2020-10-28'],\n",
       "   'hobo': ['2020-10-26', '2020-10-27', '2020-10-28']}},\n",
       " 'r3_02': {'hobo': '03',\n",
       "  'garmin': '13',\n",
       "  'embrace': '04',\n",
       "  'round': 'r3',\n",
       "  'id': '02',\n",
       "  'dates': {'garmin': ['2020-10-26', '2020-10-27', '2020-10-28'],\n",
       "   'embrace': ['2020-10-26', '2020-10-27', '2020-10-28'],\n",
       "   'hobo': ['2020-10-26', '2020-10-27', '2020-10-28']}},\n",
       " 'r3_03': {'hobo': '04',\n",
       "  'garmin': '04',\n",
       "  'embrace': '05',\n",
       "  'round': 'r3',\n",
       "  'id': '03',\n",
       "  'dates': {'garmin': ['2020-10-26', '2020-10-27', '2020-10-28'],\n",
       "   'embrace': ['2020-10-26', '2020-10-27', '2020-10-28'],\n",
       "   'hobo': ['2020-10-26', '2020-10-27', '2020-10-28']}},\n",
       " 'r3_04': {'hobo': '06',\n",
       "  'garmin': '06',\n",
       "  'embrace': '06',\n",
       "  'round': 'r3',\n",
       "  'id': '04',\n",
       "  'dates': {'garmin': ['2020-10-26', '2020-10-27', '2020-10-28'],\n",
       "   'embrace': ['2020-10-26', '2020-10-27', '2020-10-28'],\n",
       "   'hobo': ['2020-10-26', '2020-10-27', '2020-10-28']}},\n",
       " 'r3_05': {'hobo': '07',\n",
       "  'garmin': '07',\n",
       "  'embrace': '07',\n",
       "  'round': 'r3',\n",
       "  'id': '05',\n",
       "  'dates': {'garmin': ['2020-10-28', '2020-10-29', '2020-10-30'],\n",
       "   'embrace': ['2020-10-28', '2020-10-29', '2020-10-30'],\n",
       "   'hobo': ['2020-10-28', '2020-10-29', '2020-10-30']}},\n",
       " 'r3_06': {'hobo': '08',\n",
       "  'garmin': '08',\n",
       "  'embrace': '08',\n",
       "  'round': 'r3',\n",
       "  'id': '06',\n",
       "  'dates': {'garmin': ['2020-10-26', '2020-10-27', '2020-10-28'],\n",
       "   'embrace': ['2020-10-26', '2020-10-27', '2020-10-28'],\n",
       "   'hobo': ['2020-10-26', '2020-10-27', '2020-10-28']}},\n",
       " 'r3_07': {'hobo': '09',\n",
       "  'garmin': '09',\n",
       "  'embrace': '09',\n",
       "  'round': 'r3',\n",
       "  'id': '07',\n",
       "  'dates': {'garmin': ['2020-10-26', '2020-10-27', '2020-10-28'],\n",
       "   'embrace': ['2020-10-26', '2020-10-27', '2020-10-28'],\n",
       "   'hobo': ['2020-10-26', '2020-10-27', '2020-10-28']}},\n",
       " 'r3_08': {'hobo': '10',\n",
       "  'garmin': '10',\n",
       "  'embrace': '10',\n",
       "  'round': 'r3',\n",
       "  'id': '08',\n",
       "  'dates': {'garmin': ['2020-10-26', '2020-10-27', '2020-10-28'],\n",
       "   'embrace': ['2020-10-26', '2020-10-27', '2020-10-28'],\n",
       "   'hobo': ['2020-10-26', '2020-10-27', '2020-10-28']}},\n",
       " 'r3_09': {'hobo': '11',\n",
       "  'garmin': '11',\n",
       "  'embrace': '11',\n",
       "  'round': 'r3',\n",
       "  'id': '09',\n",
       "  'dates': {'garmin': ['2020-10-26', '2020-10-27', '2020-10-28'],\n",
       "   'embrace': ['2020-10-26', '2020-10-27', '2020-10-28'],\n",
       "   'hobo': ['2020-10-26', '2020-10-27', '2020-10-28']}},\n",
       " 'r3_10': {'hobo': '12',\n",
       "  'garmin': '12',\n",
       "  'embrace': '12',\n",
       "  'round': 'r3',\n",
       "  'id': '10',\n",
       "  'dates': {'garmin': ['2020-10-26', '2020-10-27', '2020-10-28'],\n",
       "   'embrace': ['2020-10-26', '2020-10-27', '2020-10-28'],\n",
       "   'hobo': ['2020-10-26', '2020-10-27', '2020-10-28']}}}"
      ]
     },
     "execution_count": 10,
     "metadata": {},
     "output_type": "execute_result"
    }
   ],
   "source": [
    "devices"
   ]
  },
  {
   "cell_type": "code",
   "execution_count": 11,
   "metadata": {
    "ExecuteTime": {
     "end_time": "2020-11-06T06:21:58.587877Z",
     "start_time": "2020-11-06T06:21:58.583877Z"
    }
   },
   "outputs": [],
   "source": [
    "with open('./profiles.json', 'w') as fp:\n",
    "    json.dump(devices, fp)"
   ]
  },
  {
   "cell_type": "code",
   "execution_count": null,
   "metadata": {},
   "outputs": [],
   "source": []
  },
  {
   "cell_type": "code",
   "execution_count": null,
   "metadata": {},
   "outputs": [],
   "source": []
  },
  {
   "cell_type": "code",
   "execution_count": null,
   "metadata": {},
   "outputs": [],
   "source": []
  },
  {
   "cell_type": "code",
   "execution_count": null,
   "metadata": {},
   "outputs": [],
   "source": []
  }
 ],
 "metadata": {
  "kernelspec": {
   "display_name": "thermal38",
   "language": "python",
   "name": "thermal38"
  },
  "language_info": {
   "codemirror_mode": {
    "name": "ipython",
    "version": 3
   },
   "file_extension": ".py",
   "mimetype": "text/x-python",
   "name": "python",
   "nbconvert_exporter": "python",
   "pygments_lexer": "ipython3",
   "version": "3.8.5"
  },
  "toc": {
   "base_numbering": 1,
   "nav_menu": {},
   "number_sections": true,
   "sideBar": true,
   "skip_h1_title": false,
   "title_cell": "Table of Contents",
   "title_sidebar": "Contents",
   "toc_cell": false,
   "toc_position": {},
   "toc_section_display": true,
   "toc_window_display": false
  }
 },
 "nbformat": 4,
 "nbformat_minor": 4
}
