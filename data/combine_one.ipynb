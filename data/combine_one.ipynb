{
 "cells": [
  {
   "cell_type": "markdown",
   "metadata": {},
   "source": [
    "# DataFrame of One Uid"
   ]
  },
  {
   "cell_type": "code",
   "execution_count": 1,
   "metadata": {},
   "outputs": [],
   "source": [
    "import json\n",
    "import datetime\n",
    "import os"
   ]
  },
  {
   "cell_type": "code",
   "execution_count": 2,
   "metadata": {},
   "outputs": [],
   "source": [
    "import pandas as pd\n",
    "import numpy as np\n",
    "import matplotlib.pyplot as plt"
   ]
  },
  {
   "cell_type": "markdown",
   "metadata": {},
   "source": [
    "## Get `Profiles.json`"
   ]
  },
  {
   "cell_type": "code",
   "execution_count": 3,
   "metadata": {},
   "outputs": [],
   "source": [
    "with open('./profiles.json', 'r') as fp:\n",
    "    profiles = json.load(fp)"
   ]
  },
  {
   "cell_type": "code",
   "execution_count": 163,
   "metadata": {},
   "outputs": [
    {
     "data": {
      "text/plain": [
       "['r1_01',\n",
       " 'r1_02',\n",
       " 'r1_03',\n",
       " 'r1_04',\n",
       " 'r1_05',\n",
       " 'r1_06',\n",
       " 'r1_07',\n",
       " 'r1_08',\n",
       " 'r1_09',\n",
       " 'r1_10',\n",
       " 'r2_01',\n",
       " 'r2_02',\n",
       " 'r2_03',\n",
       " 'r2_04',\n",
       " 'r2_05',\n",
       " 'r2_06',\n",
       " 'r2_07',\n",
       " 'r2_08',\n",
       " 'r2_09',\n",
       " 'r2_10',\n",
       " 'r3_01',\n",
       " 'r3_02',\n",
       " 'r3_03',\n",
       " 'r3_04',\n",
       " 'r3_05',\n",
       " 'r3_06',\n",
       " 'r3_07',\n",
       " 'r3_08',\n",
       " 'r3_09',\n",
       " 'r3_10']"
      ]
     },
     "execution_count": 163,
     "metadata": {},
     "output_type": "execute_result"
    }
   ],
   "source": [
    "list(profiles.keys())"
   ]
  },
  {
   "cell_type": "code",
   "execution_count": 4,
   "metadata": {},
   "outputs": [],
   "source": [
    "uid = 'r2_03'"
   ]
  },
  {
   "cell_type": "code",
   "execution_count": 5,
   "metadata": {},
   "outputs": [
    {
     "data": {
      "text/plain": [
       "{'hobo': '04',\n",
       " 'garmin': '04',\n",
       " 'embrace': '05',\n",
       " 'round': 'r2',\n",
       " 'id': '03',\n",
       " 'dates': {'garmin': ['2020-10-23', '2020-10-24', '2020-10-25'],\n",
       "  'embrace': ['2020-10-23', '2020-10-24', '2020-10-25'],\n",
       "  'hobo': ['2020-10-23', '2020-10-24', '2020-10-25']}}"
      ]
     },
     "execution_count": 5,
     "metadata": {},
     "output_type": "execute_result"
    }
   ],
   "source": [
    "profiles[uid]"
   ]
  },
  {
   "cell_type": "markdown",
   "metadata": {},
   "source": [
    "## 1. Hobo"
   ]
  },
  {
   "cell_type": "code",
   "execution_count": 6,
   "metadata": {},
   "outputs": [
    {
     "data": {
      "text/plain": [
       "'./hobo/profiles/r2_03/hobo.csv'"
      ]
     },
     "metadata": {},
     "output_type": "display_data"
    }
   ],
   "source": [
    "pth_hobo = os.path.join('./hobo', 'profiles', uid, 'hobo.csv')\n",
    "display(pth_hobo)\n",
    "df_hobo = pd.read_csv(pth_hobo)"
   ]
  },
  {
   "cell_type": "code",
   "execution_count": 7,
   "metadata": {},
   "outputs": [],
   "source": [
    "df_hobo.time = pd.to_datetime(df_hobo.time)"
   ]
  },
  {
   "cell_type": "code",
   "execution_count": 8,
   "metadata": {},
   "outputs": [
    {
     "name": "stdout",
     "output_type": "stream",
     "text": [
      "<class 'pandas.core.frame.DataFrame'>\n",
      "RangeIndex: 4320 entries, 0 to 4319\n",
      "Data columns (total 3 columns):\n",
      " #   Column    Non-Null Count  Dtype         \n",
      "---  ------    --------------  -----         \n",
      " 0   time      4320 non-null   datetime64[ns]\n",
      " 1   env_temp  4320 non-null   float64       \n",
      " 2   rh        4320 non-null   float64       \n",
      "dtypes: datetime64[ns](1), float64(2)\n",
      "memory usage: 101.4 KB\n"
     ]
    }
   ],
   "source": [
    "df_hobo.info()"
   ]
  },
  {
   "cell_type": "code",
   "execution_count": 9,
   "metadata": {},
   "outputs": [
    {
     "data": {
      "text/html": [
       "<div>\n",
       "<style scoped>\n",
       "    .dataframe tbody tr th:only-of-type {\n",
       "        vertical-align: middle;\n",
       "    }\n",
       "\n",
       "    .dataframe tbody tr th {\n",
       "        vertical-align: top;\n",
       "    }\n",
       "\n",
       "    .dataframe thead th {\n",
       "        text-align: right;\n",
       "    }\n",
       "</style>\n",
       "<table border=\"1\" class=\"dataframe\">\n",
       "  <thead>\n",
       "    <tr style=\"text-align: right;\">\n",
       "      <th></th>\n",
       "      <th>time</th>\n",
       "      <th>env_temp</th>\n",
       "      <th>rh</th>\n",
       "    </tr>\n",
       "  </thead>\n",
       "  <tbody>\n",
       "    <tr>\n",
       "      <th>0</th>\n",
       "      <td>2020-10-23 00:00:00</td>\n",
       "      <td>78.427</td>\n",
       "      <td>54.875</td>\n",
       "    </tr>\n",
       "    <tr>\n",
       "      <th>1</th>\n",
       "      <td>2020-10-23 00:01:00</td>\n",
       "      <td>78.471</td>\n",
       "      <td>54.848</td>\n",
       "    </tr>\n",
       "    <tr>\n",
       "      <th>2</th>\n",
       "      <td>2020-10-23 00:02:00</td>\n",
       "      <td>78.471</td>\n",
       "      <td>54.848</td>\n",
       "    </tr>\n",
       "    <tr>\n",
       "      <th>3</th>\n",
       "      <td>2020-10-23 00:03:00</td>\n",
       "      <td>78.471</td>\n",
       "      <td>54.879</td>\n",
       "    </tr>\n",
       "    <tr>\n",
       "      <th>4</th>\n",
       "      <td>2020-10-23 00:04:00</td>\n",
       "      <td>78.471</td>\n",
       "      <td>54.848</td>\n",
       "    </tr>\n",
       "  </tbody>\n",
       "</table>\n",
       "</div>"
      ],
      "text/plain": [
       "                 time  env_temp      rh\n",
       "0 2020-10-23 00:00:00    78.427  54.875\n",
       "1 2020-10-23 00:01:00    78.471  54.848\n",
       "2 2020-10-23 00:02:00    78.471  54.848\n",
       "3 2020-10-23 00:03:00    78.471  54.879\n",
       "4 2020-10-23 00:04:00    78.471  54.848"
      ]
     },
     "execution_count": 9,
     "metadata": {},
     "output_type": "execute_result"
    }
   ],
   "source": [
    "df_hobo.head()"
   ]
  },
  {
   "cell_type": "markdown",
   "metadata": {},
   "source": [
    "## 2. Garmin"
   ]
  },
  {
   "cell_type": "markdown",
   "metadata": {},
   "source": [
    "### 2.1. Heart Rate"
   ]
  },
  {
   "cell_type": "code",
   "execution_count": 10,
   "metadata": {},
   "outputs": [
    {
     "data": {
      "text/plain": [
       "'./garmin/profiles/r2_03/hr.csv'"
      ]
     },
     "metadata": {},
     "output_type": "display_data"
    }
   ],
   "source": [
    "pth_garmin_hr = os.path.join('./garmin', 'profiles', uid, 'hr.csv')\n",
    "display(pth_garmin_hr)\n",
    "df_garmin_hr = pd.read_csv(pth_garmin_hr)"
   ]
  },
  {
   "cell_type": "code",
   "execution_count": 11,
   "metadata": {},
   "outputs": [],
   "source": [
    "df_garmin_hr.time = pd.to_datetime(df_garmin_hr.time)"
   ]
  },
  {
   "cell_type": "code",
   "execution_count": 12,
   "metadata": {},
   "outputs": [
    {
     "name": "stdout",
     "output_type": "stream",
     "text": [
      "<class 'pandas.core.frame.DataFrame'>\n",
      "RangeIndex: 1526 entries, 0 to 1525\n",
      "Data columns (total 2 columns):\n",
      " #   Column      Non-Null Count  Dtype         \n",
      "---  ------      --------------  -----         \n",
      " 0   time        1526 non-null   datetime64[ns]\n",
      " 1   heart_rate  1526 non-null   float64       \n",
      "dtypes: datetime64[ns](1), float64(1)\n",
      "memory usage: 24.0 KB\n"
     ]
    }
   ],
   "source": [
    "df_garmin_hr.info()"
   ]
  },
  {
   "cell_type": "code",
   "execution_count": 13,
   "metadata": {},
   "outputs": [
    {
     "data": {
      "text/html": [
       "<div>\n",
       "<style scoped>\n",
       "    .dataframe tbody tr th:only-of-type {\n",
       "        vertical-align: middle;\n",
       "    }\n",
       "\n",
       "    .dataframe tbody tr th {\n",
       "        vertical-align: top;\n",
       "    }\n",
       "\n",
       "    .dataframe thead th {\n",
       "        text-align: right;\n",
       "    }\n",
       "</style>\n",
       "<table border=\"1\" class=\"dataframe\">\n",
       "  <thead>\n",
       "    <tr style=\"text-align: right;\">\n",
       "      <th></th>\n",
       "      <th>time</th>\n",
       "      <th>heart_rate</th>\n",
       "    </tr>\n",
       "  </thead>\n",
       "  <tbody>\n",
       "    <tr>\n",
       "      <th>0</th>\n",
       "      <td>2020-10-23 10:56:00</td>\n",
       "      <td>78.0</td>\n",
       "    </tr>\n",
       "    <tr>\n",
       "      <th>1</th>\n",
       "      <td>2020-10-23 10:57:00</td>\n",
       "      <td>86.0</td>\n",
       "    </tr>\n",
       "    <tr>\n",
       "      <th>2</th>\n",
       "      <td>2020-10-23 10:58:00</td>\n",
       "      <td>84.0</td>\n",
       "    </tr>\n",
       "    <tr>\n",
       "      <th>3</th>\n",
       "      <td>2020-10-23 10:59:00</td>\n",
       "      <td>82.0</td>\n",
       "    </tr>\n",
       "    <tr>\n",
       "      <th>4</th>\n",
       "      <td>2020-10-23 11:00:00</td>\n",
       "      <td>80.0</td>\n",
       "    </tr>\n",
       "  </tbody>\n",
       "</table>\n",
       "</div>"
      ],
      "text/plain": [
       "                 time  heart_rate\n",
       "0 2020-10-23 10:56:00        78.0\n",
       "1 2020-10-23 10:57:00        86.0\n",
       "2 2020-10-23 10:58:00        84.0\n",
       "3 2020-10-23 10:59:00        82.0\n",
       "4 2020-10-23 11:00:00        80.0"
      ]
     },
     "execution_count": 13,
     "metadata": {},
     "output_type": "execute_result"
    }
   ],
   "source": [
    "df_garmin_hr.head()"
   ]
  },
  {
   "cell_type": "code",
   "execution_count": 14,
   "metadata": {},
   "outputs": [
    {
     "data": {
      "text/html": [
       "<div>\n",
       "<style scoped>\n",
       "    .dataframe tbody tr th:only-of-type {\n",
       "        vertical-align: middle;\n",
       "    }\n",
       "\n",
       "    .dataframe tbody tr th {\n",
       "        vertical-align: top;\n",
       "    }\n",
       "\n",
       "    .dataframe thead th {\n",
       "        text-align: right;\n",
       "    }\n",
       "</style>\n",
       "<table border=\"1\" class=\"dataframe\">\n",
       "  <thead>\n",
       "    <tr style=\"text-align: right;\">\n",
       "      <th></th>\n",
       "      <th>time</th>\n",
       "      <th>heart_rate</th>\n",
       "    </tr>\n",
       "  </thead>\n",
       "  <tbody>\n",
       "    <tr>\n",
       "      <th>1521</th>\n",
       "      <td>2020-10-25 00:05:00</td>\n",
       "      <td>84.0</td>\n",
       "    </tr>\n",
       "    <tr>\n",
       "      <th>1522</th>\n",
       "      <td>2020-10-25 00:06:00</td>\n",
       "      <td>69.0</td>\n",
       "    </tr>\n",
       "    <tr>\n",
       "      <th>1523</th>\n",
       "      <td>2020-10-25 00:07:00</td>\n",
       "      <td>71.0</td>\n",
       "    </tr>\n",
       "    <tr>\n",
       "      <th>1524</th>\n",
       "      <td>2020-10-25 00:09:00</td>\n",
       "      <td>74.0</td>\n",
       "    </tr>\n",
       "    <tr>\n",
       "      <th>1525</th>\n",
       "      <td>2020-10-25 00:10:00</td>\n",
       "      <td>73.0</td>\n",
       "    </tr>\n",
       "  </tbody>\n",
       "</table>\n",
       "</div>"
      ],
      "text/plain": [
       "                    time  heart_rate\n",
       "1521 2020-10-25 00:05:00        84.0\n",
       "1522 2020-10-25 00:06:00        69.0\n",
       "1523 2020-10-25 00:07:00        71.0\n",
       "1524 2020-10-25 00:09:00        74.0\n",
       "1525 2020-10-25 00:10:00        73.0"
      ]
     },
     "execution_count": 14,
     "metadata": {},
     "output_type": "execute_result"
    }
   ],
   "source": [
    "df_garmin_hr.tail()"
   ]
  },
  {
   "cell_type": "markdown",
   "metadata": {},
   "source": [
    "### 2.2. Stress Level"
   ]
  },
  {
   "cell_type": "code",
   "execution_count": 15,
   "metadata": {},
   "outputs": [
    {
     "data": {
      "text/plain": [
       "'./garmin/profiles/r2_03/stress.csv'"
      ]
     },
     "metadata": {},
     "output_type": "display_data"
    }
   ],
   "source": [
    "pth_garmin_stress = os.path.join('./garmin', 'profiles', uid, 'stress.csv')\n",
    "display(pth_garmin_stress)\n",
    "df_garmin_stress = pd.read_csv(pth_garmin_stress)"
   ]
  },
  {
   "cell_type": "code",
   "execution_count": 16,
   "metadata": {},
   "outputs": [],
   "source": [
    "df_garmin_stress.time = pd.to_datetime(df_garmin_stress.time)"
   ]
  },
  {
   "cell_type": "code",
   "execution_count": 17,
   "metadata": {},
   "outputs": [
    {
     "name": "stdout",
     "output_type": "stream",
     "text": [
      "<class 'pandas.core.frame.DataFrame'>\n",
      "RangeIndex: 4303 entries, 0 to 4302\n",
      "Data columns (total 2 columns):\n",
      " #   Column        Non-Null Count  Dtype         \n",
      "---  ------        --------------  -----         \n",
      " 0   time          4303 non-null   datetime64[ns]\n",
      " 1   stress_level  4303 non-null   float64       \n",
      "dtypes: datetime64[ns](1), float64(1)\n",
      "memory usage: 67.4 KB\n"
     ]
    }
   ],
   "source": [
    "df_garmin_stress.info()"
   ]
  },
  {
   "cell_type": "code",
   "execution_count": 18,
   "metadata": {},
   "outputs": [
    {
     "data": {
      "text/html": [
       "<div>\n",
       "<style scoped>\n",
       "    .dataframe tbody tr th:only-of-type {\n",
       "        vertical-align: middle;\n",
       "    }\n",
       "\n",
       "    .dataframe tbody tr th {\n",
       "        vertical-align: top;\n",
       "    }\n",
       "\n",
       "    .dataframe thead th {\n",
       "        text-align: right;\n",
       "    }\n",
       "</style>\n",
       "<table border=\"1\" class=\"dataframe\">\n",
       "  <thead>\n",
       "    <tr style=\"text-align: right;\">\n",
       "      <th></th>\n",
       "      <th>time</th>\n",
       "      <th>stress_level</th>\n",
       "    </tr>\n",
       "  </thead>\n",
       "  <tbody>\n",
       "    <tr>\n",
       "      <th>0</th>\n",
       "      <td>2020-10-23 10:55:00</td>\n",
       "      <td>7.0</td>\n",
       "    </tr>\n",
       "    <tr>\n",
       "      <th>1</th>\n",
       "      <td>2020-10-23 10:57:00</td>\n",
       "      <td>42.0</td>\n",
       "    </tr>\n",
       "    <tr>\n",
       "      <th>2</th>\n",
       "      <td>2020-10-23 10:58:00</td>\n",
       "      <td>23.0</td>\n",
       "    </tr>\n",
       "    <tr>\n",
       "      <th>3</th>\n",
       "      <td>2020-10-23 10:59:00</td>\n",
       "      <td>13.0</td>\n",
       "    </tr>\n",
       "    <tr>\n",
       "      <th>4</th>\n",
       "      <td>2020-10-23 11:00:00</td>\n",
       "      <td>15.0</td>\n",
       "    </tr>\n",
       "    <tr>\n",
       "      <th>5</th>\n",
       "      <td>2020-10-23 11:01:00</td>\n",
       "      <td>21.0</td>\n",
       "    </tr>\n",
       "    <tr>\n",
       "      <th>6</th>\n",
       "      <td>2020-10-23 11:02:00</td>\n",
       "      <td>23.0</td>\n",
       "    </tr>\n",
       "    <tr>\n",
       "      <th>7</th>\n",
       "      <td>2020-10-23 11:03:00</td>\n",
       "      <td>24.0</td>\n",
       "    </tr>\n",
       "    <tr>\n",
       "      <th>8</th>\n",
       "      <td>2020-10-23 11:04:00</td>\n",
       "      <td>46.0</td>\n",
       "    </tr>\n",
       "    <tr>\n",
       "      <th>9</th>\n",
       "      <td>2020-10-23 11:05:00</td>\n",
       "      <td>37.0</td>\n",
       "    </tr>\n",
       "  </tbody>\n",
       "</table>\n",
       "</div>"
      ],
      "text/plain": [
       "                 time  stress_level\n",
       "0 2020-10-23 10:55:00           7.0\n",
       "1 2020-10-23 10:57:00          42.0\n",
       "2 2020-10-23 10:58:00          23.0\n",
       "3 2020-10-23 10:59:00          13.0\n",
       "4 2020-10-23 11:00:00          15.0\n",
       "5 2020-10-23 11:01:00          21.0\n",
       "6 2020-10-23 11:02:00          23.0\n",
       "7 2020-10-23 11:03:00          24.0\n",
       "8 2020-10-23 11:04:00          46.0\n",
       "9 2020-10-23 11:05:00          37.0"
      ]
     },
     "execution_count": 18,
     "metadata": {},
     "output_type": "execute_result"
    }
   ],
   "source": [
    "df_garmin_stress.head(10)"
   ]
  },
  {
   "cell_type": "code",
   "execution_count": 19,
   "metadata": {},
   "outputs": [],
   "source": [
    "# drop values < 0\n",
    "df_garmin_stress = df_garmin_stress[df_garmin_stress.stress_level >= 0].reset_index(drop=True)"
   ]
  },
  {
   "cell_type": "markdown",
   "metadata": {},
   "source": [
    "## 3. Embrace"
   ]
  },
  {
   "cell_type": "markdown",
   "metadata": {},
   "source": [
    "### 3.1. EDA"
   ]
  },
  {
   "cell_type": "code",
   "execution_count": 20,
   "metadata": {},
   "outputs": [
    {
     "data": {
      "text/plain": [
       "'./embrace/profiles/r2_03/eda.csv'"
      ]
     },
     "metadata": {},
     "output_type": "display_data"
    }
   ],
   "source": [
    "pth_embrace_eda = os.path.join('./embrace', 'profiles', uid, 'eda.csv')\n",
    "display(pth_embrace_eda)\n",
    "df_embrace_eda = pd.read_csv(pth_embrace_eda)"
   ]
  },
  {
   "cell_type": "code",
   "execution_count": 21,
   "metadata": {},
   "outputs": [],
   "source": [
    "df_embrace_eda.time = pd.to_datetime(df_embrace_eda.time)"
   ]
  },
  {
   "cell_type": "code",
   "execution_count": 22,
   "metadata": {},
   "outputs": [],
   "source": [
    "df_embrace_eda['time_ms'] = df_embrace_eda.time"
   ]
  },
  {
   "cell_type": "code",
   "execution_count": 23,
   "metadata": {},
   "outputs": [
    {
     "name": "stdout",
     "output_type": "stream",
     "text": [
      "<class 'pandas.core.frame.DataFrame'>\n",
      "RangeIndex: 585160 entries, 0 to 585159\n",
      "Data columns (total 3 columns):\n",
      " #   Column   Non-Null Count   Dtype         \n",
      "---  ------   --------------   -----         \n",
      " 0   time     585160 non-null  datetime64[ns]\n",
      " 1   eda      585160 non-null  float64       \n",
      " 2   time_ms  585160 non-null  datetime64[ns]\n",
      "dtypes: datetime64[ns](2), float64(1)\n",
      "memory usage: 13.4 MB\n"
     ]
    }
   ],
   "source": [
    "df_embrace_eda.info()"
   ]
  },
  {
   "cell_type": "code",
   "execution_count": 24,
   "metadata": {},
   "outputs": [
    {
     "data": {
      "text/html": [
       "<div>\n",
       "<style scoped>\n",
       "    .dataframe tbody tr th:only-of-type {\n",
       "        vertical-align: middle;\n",
       "    }\n",
       "\n",
       "    .dataframe tbody tr th {\n",
       "        vertical-align: top;\n",
       "    }\n",
       "\n",
       "    .dataframe thead th {\n",
       "        text-align: right;\n",
       "    }\n",
       "</style>\n",
       "<table border=\"1\" class=\"dataframe\">\n",
       "  <thead>\n",
       "    <tr style=\"text-align: right;\">\n",
       "      <th></th>\n",
       "      <th>time</th>\n",
       "      <th>eda</th>\n",
       "      <th>time_ms</th>\n",
       "    </tr>\n",
       "  </thead>\n",
       "  <tbody>\n",
       "    <tr>\n",
       "      <th>0</th>\n",
       "      <td>2020-10-23 10:48:08.051</td>\n",
       "      <td>0.210509</td>\n",
       "      <td>2020-10-23 10:48:08.051</td>\n",
       "    </tr>\n",
       "    <tr>\n",
       "      <th>1</th>\n",
       "      <td>2020-10-23 10:48:08.301</td>\n",
       "      <td>0.008393</td>\n",
       "      <td>2020-10-23 10:48:08.301</td>\n",
       "    </tr>\n",
       "    <tr>\n",
       "      <th>2</th>\n",
       "      <td>2020-10-23 10:48:08.551</td>\n",
       "      <td>0.017142</td>\n",
       "      <td>2020-10-23 10:48:08.551</td>\n",
       "    </tr>\n",
       "    <tr>\n",
       "      <th>3</th>\n",
       "      <td>2020-10-23 10:48:08.801</td>\n",
       "      <td>0.009085</td>\n",
       "      <td>2020-10-23 10:48:08.801</td>\n",
       "    </tr>\n",
       "    <tr>\n",
       "      <th>4</th>\n",
       "      <td>2020-10-23 10:48:09.051</td>\n",
       "      <td>0.008739</td>\n",
       "      <td>2020-10-23 10:48:09.051</td>\n",
       "    </tr>\n",
       "    <tr>\n",
       "      <th>5</th>\n",
       "      <td>2020-10-23 10:48:09.301</td>\n",
       "      <td>0.007954</td>\n",
       "      <td>2020-10-23 10:48:09.301</td>\n",
       "    </tr>\n",
       "    <tr>\n",
       "      <th>6</th>\n",
       "      <td>2020-10-23 10:48:09.551</td>\n",
       "      <td>0.008519</td>\n",
       "      <td>2020-10-23 10:48:09.551</td>\n",
       "    </tr>\n",
       "    <tr>\n",
       "      <th>7</th>\n",
       "      <td>2020-10-23 10:48:09.801</td>\n",
       "      <td>0.005898</td>\n",
       "      <td>2020-10-23 10:48:09.801</td>\n",
       "    </tr>\n",
       "    <tr>\n",
       "      <th>8</th>\n",
       "      <td>2020-10-23 10:48:10.051</td>\n",
       "      <td>0.006926</td>\n",
       "      <td>2020-10-23 10:48:10.051</td>\n",
       "    </tr>\n",
       "    <tr>\n",
       "      <th>9</th>\n",
       "      <td>2020-10-23 10:48:10.301</td>\n",
       "      <td>0.009229</td>\n",
       "      <td>2020-10-23 10:48:10.301</td>\n",
       "    </tr>\n",
       "  </tbody>\n",
       "</table>\n",
       "</div>"
      ],
      "text/plain": [
       "                     time       eda                 time_ms\n",
       "0 2020-10-23 10:48:08.051  0.210509 2020-10-23 10:48:08.051\n",
       "1 2020-10-23 10:48:08.301  0.008393 2020-10-23 10:48:08.301\n",
       "2 2020-10-23 10:48:08.551  0.017142 2020-10-23 10:48:08.551\n",
       "3 2020-10-23 10:48:08.801  0.009085 2020-10-23 10:48:08.801\n",
       "4 2020-10-23 10:48:09.051  0.008739 2020-10-23 10:48:09.051\n",
       "5 2020-10-23 10:48:09.301  0.007954 2020-10-23 10:48:09.301\n",
       "6 2020-10-23 10:48:09.551  0.008519 2020-10-23 10:48:09.551\n",
       "7 2020-10-23 10:48:09.801  0.005898 2020-10-23 10:48:09.801\n",
       "8 2020-10-23 10:48:10.051  0.006926 2020-10-23 10:48:10.051\n",
       "9 2020-10-23 10:48:10.301  0.009229 2020-10-23 10:48:10.301"
      ]
     },
     "execution_count": 24,
     "metadata": {},
     "output_type": "execute_result"
    }
   ],
   "source": [
    "df_embrace_eda.head(10)"
   ]
  },
  {
   "cell_type": "code",
   "execution_count": 73,
   "metadata": {},
   "outputs": [
    {
     "data": {
      "image/png": "[encoded data removed]",
      "text/plain": [
       "<Figure size 2160x720 with 1 Axes>"
      ]
     },
     "metadata": {
      "needs_background": "light"
     },
     "output_type": "display_data"
    }
   ],
   "source": [
    "plt.rcParams[\"figure.figsize\"] = (30, 10)\n",
    "df_embrace_eda.plot.line(x='time', y='eda')\n",
    "plt.xlabel('') # x label\n",
    "plt.ylabel('eda (microS)') # y label\n",
    "plt.ylim([0, 5])\n",
    "plt.title('eda Dist.') # Title\n",
    "plt.show()"
   ]
  },
  {
   "cell_type": "markdown",
   "metadata": {},
   "source": [
    "Process the data:\n",
    "1. elimilate possible invalid values\n",
    "    - hard to find certain feature of invalid values\n",
    "2. determine ms values to s values\n",
    "    - use median value"
   ]
  },
  {
   "cell_type": "code",
   "execution_count": 26,
   "metadata": {},
   "outputs": [],
   "source": [
    "# determine ms values to s values\n",
    "df_embrace_eda.time = df_embrace_eda.time_ms.map(lambda t: t.round('s'))"
   ]
  },
  {
   "cell_type": "code",
   "execution_count": 27,
   "metadata": {},
   "outputs": [
    {
     "data": {
      "text/html": [
       "<div>\n",
       "<style scoped>\n",
       "    .dataframe tbody tr th:only-of-type {\n",
       "        vertical-align: middle;\n",
       "    }\n",
       "\n",
       "    .dataframe tbody tr th {\n",
       "        vertical-align: top;\n",
       "    }\n",
       "\n",
       "    .dataframe thead th {\n",
       "        text-align: right;\n",
       "    }\n",
       "</style>\n",
       "<table border=\"1\" class=\"dataframe\">\n",
       "  <thead>\n",
       "    <tr style=\"text-align: right;\">\n",
       "      <th></th>\n",
       "      <th>time</th>\n",
       "      <th>eda</th>\n",
       "      <th>time_ms</th>\n",
       "    </tr>\n",
       "  </thead>\n",
       "  <tbody>\n",
       "    <tr>\n",
       "      <th>0</th>\n",
       "      <td>2020-10-23 10:48:08</td>\n",
       "      <td>0.210509</td>\n",
       "      <td>2020-10-23 10:48:08.051</td>\n",
       "    </tr>\n",
       "    <tr>\n",
       "      <th>1</th>\n",
       "      <td>2020-10-23 10:48:08</td>\n",
       "      <td>0.008393</td>\n",
       "      <td>2020-10-23 10:48:08.301</td>\n",
       "    </tr>\n",
       "    <tr>\n",
       "      <th>2</th>\n",
       "      <td>2020-10-23 10:48:09</td>\n",
       "      <td>0.017142</td>\n",
       "      <td>2020-10-23 10:48:08.551</td>\n",
       "    </tr>\n",
       "    <tr>\n",
       "      <th>3</th>\n",
       "      <td>2020-10-23 10:48:09</td>\n",
       "      <td>0.009085</td>\n",
       "      <td>2020-10-23 10:48:08.801</td>\n",
       "    </tr>\n",
       "    <tr>\n",
       "      <th>4</th>\n",
       "      <td>2020-10-23 10:48:09</td>\n",
       "      <td>0.008739</td>\n",
       "      <td>2020-10-23 10:48:09.051</td>\n",
       "    </tr>\n",
       "  </tbody>\n",
       "</table>\n",
       "</div>"
      ],
      "text/plain": [
       "                 time       eda                 time_ms\n",
       "0 2020-10-23 10:48:08  0.210509 2020-10-23 10:48:08.051\n",
       "1 2020-10-23 10:48:08  0.008393 2020-10-23 10:48:08.301\n",
       "2 2020-10-23 10:48:09  0.017142 2020-10-23 10:48:08.551\n",
       "3 2020-10-23 10:48:09  0.009085 2020-10-23 10:48:08.801\n",
       "4 2020-10-23 10:48:09  0.008739 2020-10-23 10:48:09.051"
      ]
     },
     "execution_count": 27,
     "metadata": {},
     "output_type": "execute_result"
    }
   ],
   "source": [
    "df_embrace_eda.head(5)"
   ]
  },
  {
   "cell_type": "code",
   "execution_count": 28,
   "metadata": {},
   "outputs": [],
   "source": [
    "df_embrace_eda = df_embrace_eda.groupby(by='time', as_index=False).agg({'eda': 'median'})"
   ]
  },
  {
   "cell_type": "code",
   "execution_count": 29,
   "metadata": {},
   "outputs": [
    {
     "data": {
      "text/html": [
       "<div>\n",
       "<style scoped>\n",
       "    .dataframe tbody tr th:only-of-type {\n",
       "        vertical-align: middle;\n",
       "    }\n",
       "\n",
       "    .dataframe tbody tr th {\n",
       "        vertical-align: top;\n",
       "    }\n",
       "\n",
       "    .dataframe thead th {\n",
       "        text-align: right;\n",
       "    }\n",
       "</style>\n",
       "<table border=\"1\" class=\"dataframe\">\n",
       "  <thead>\n",
       "    <tr style=\"text-align: right;\">\n",
       "      <th></th>\n",
       "      <th>time</th>\n",
       "      <th>eda</th>\n",
       "    </tr>\n",
       "  </thead>\n",
       "  <tbody>\n",
       "    <tr>\n",
       "      <th>0</th>\n",
       "      <td>2020-10-23 10:48:08</td>\n",
       "      <td>0.109451</td>\n",
       "    </tr>\n",
       "    <tr>\n",
       "      <th>1</th>\n",
       "      <td>2020-10-23 10:48:09</td>\n",
       "      <td>0.008912</td>\n",
       "    </tr>\n",
       "    <tr>\n",
       "      <th>2</th>\n",
       "      <td>2020-10-23 10:48:10</td>\n",
       "      <td>0.007723</td>\n",
       "    </tr>\n",
       "    <tr>\n",
       "      <th>3</th>\n",
       "      <td>2020-10-23 10:48:11</td>\n",
       "      <td>0.008818</td>\n",
       "    </tr>\n",
       "    <tr>\n",
       "      <th>4</th>\n",
       "      <td>2020-10-23 10:48:12</td>\n",
       "      <td>0.009064</td>\n",
       "    </tr>\n",
       "  </tbody>\n",
       "</table>\n",
       "</div>"
      ],
      "text/plain": [
       "                 time       eda\n",
       "0 2020-10-23 10:48:08  0.109451\n",
       "1 2020-10-23 10:48:09  0.008912\n",
       "2 2020-10-23 10:48:10  0.007723\n",
       "3 2020-10-23 10:48:11  0.008818\n",
       "4 2020-10-23 10:48:12  0.009064"
      ]
     },
     "execution_count": 29,
     "metadata": {},
     "output_type": "execute_result"
    }
   ],
   "source": [
    "df_embrace_eda.head(5)"
   ]
  },
  {
   "cell_type": "markdown",
   "metadata": {},
   "source": [
    "### 3.2. Skin Temp"
   ]
  },
  {
   "cell_type": "code",
   "execution_count": 30,
   "metadata": {},
   "outputs": [
    {
     "data": {
      "text/plain": [
       "'./embrace/profiles/r2_03/skin_temp.csv'"
      ]
     },
     "metadata": {},
     "output_type": "display_data"
    }
   ],
   "source": [
    "pth_embrace_skin = os.path.join('./embrace', 'profiles', uid, 'skin_temp.csv')\n",
    "display(pth_embrace_skin)\n",
    "df_embrace_skin = pd.read_csv(pth_embrace_skin)"
   ]
  },
  {
   "cell_type": "code",
   "execution_count": 31,
   "metadata": {},
   "outputs": [],
   "source": [
    "df_embrace_skin.time = pd.to_datetime(df_embrace_skin.time)"
   ]
  },
  {
   "cell_type": "code",
   "execution_count": 32,
   "metadata": {},
   "outputs": [],
   "source": [
    "df_embrace_skin['time_ms'] = df_embrace_skin.time"
   ]
  },
  {
   "cell_type": "code",
   "execution_count": 33,
   "metadata": {},
   "outputs": [
    {
     "name": "stdout",
     "output_type": "stream",
     "text": [
      "<class 'pandas.core.frame.DataFrame'>\n",
      "Int64Index: 146299 entries, 0 to 146298\n",
      "Data columns (total 2 columns):\n",
      " #   Column  Non-Null Count   Dtype         \n",
      "---  ------  --------------   -----         \n",
      " 0   time    146299 non-null  datetime64[ns]\n",
      " 1   eda     146299 non-null  float64       \n",
      "dtypes: datetime64[ns](1), float64(1)\n",
      "memory usage: 3.3 MB\n"
     ]
    }
   ],
   "source": [
    "df_embrace_eda.info()"
   ]
  },
  {
   "cell_type": "code",
   "execution_count": 34,
   "metadata": {},
   "outputs": [
    {
     "data": {
      "text/html": [
       "<div>\n",
       "<style scoped>\n",
       "    .dataframe tbody tr th:only-of-type {\n",
       "        vertical-align: middle;\n",
       "    }\n",
       "\n",
       "    .dataframe tbody tr th {\n",
       "        vertical-align: top;\n",
       "    }\n",
       "\n",
       "    .dataframe thead th {\n",
       "        text-align: right;\n",
       "    }\n",
       "</style>\n",
       "<table border=\"1\" class=\"dataframe\">\n",
       "  <thead>\n",
       "    <tr style=\"text-align: right;\">\n",
       "      <th></th>\n",
       "      <th>time</th>\n",
       "      <th>skin_temp</th>\n",
       "      <th>time_ms</th>\n",
       "    </tr>\n",
       "  </thead>\n",
       "  <tbody>\n",
       "    <tr>\n",
       "      <th>0</th>\n",
       "      <td>2020-10-23 10:48:07.497</td>\n",
       "      <td>30.405</td>\n",
       "      <td>2020-10-23 10:48:07.497</td>\n",
       "    </tr>\n",
       "    <tr>\n",
       "      <th>1</th>\n",
       "      <td>2020-10-23 10:48:08.505</td>\n",
       "      <td>30.590</td>\n",
       "      <td>2020-10-23 10:48:08.505</td>\n",
       "    </tr>\n",
       "    <tr>\n",
       "      <th>2</th>\n",
       "      <td>2020-10-23 10:48:09.514</td>\n",
       "      <td>30.669</td>\n",
       "      <td>2020-10-23 10:48:09.514</td>\n",
       "    </tr>\n",
       "    <tr>\n",
       "      <th>3</th>\n",
       "      <td>2020-10-23 10:48:10.522</td>\n",
       "      <td>30.748</td>\n",
       "      <td>2020-10-23 10:48:10.522</td>\n",
       "    </tr>\n",
       "    <tr>\n",
       "      <th>4</th>\n",
       "      <td>2020-10-23 10:48:11.531</td>\n",
       "      <td>30.801</td>\n",
       "      <td>2020-10-23 10:48:11.531</td>\n",
       "    </tr>\n",
       "  </tbody>\n",
       "</table>\n",
       "</div>"
      ],
      "text/plain": [
       "                     time  skin_temp                 time_ms\n",
       "0 2020-10-23 10:48:07.497     30.405 2020-10-23 10:48:07.497\n",
       "1 2020-10-23 10:48:08.505     30.590 2020-10-23 10:48:08.505\n",
       "2 2020-10-23 10:48:09.514     30.669 2020-10-23 10:48:09.514\n",
       "3 2020-10-23 10:48:10.522     30.748 2020-10-23 10:48:10.522\n",
       "4 2020-10-23 10:48:11.531     30.801 2020-10-23 10:48:11.531"
      ]
     },
     "execution_count": 34,
     "metadata": {},
     "output_type": "execute_result"
    }
   ],
   "source": [
    "df_embrace_skin.head(5)"
   ]
  },
  {
   "cell_type": "code",
   "execution_count": 74,
   "metadata": {},
   "outputs": [
    {
     "data": {
      "image/png": "[encoded data removed]",
      "text/plain": [
       "<Figure size 2160x720 with 1 Axes>"
      ]
     },
     "metadata": {
      "needs_background": "light"
     },
     "output_type": "display_data"
    }
   ],
   "source": [
    "plt.rcParams[\"figure.figsize\"] = (30, 10)\n",
    "df_embrace_skin.plot.line(x='time', y='skin_temp')\n",
    "plt.xlabel('') # x label\n",
    "plt.ylabel('Skin Temp (°C)') # y label\n",
    "plt.ylim([29, 40])\n",
    "plt.title('Skin Temp Dist.') # Title\n",
    "plt.show()"
   ]
  },
  {
   "cell_type": "markdown",
   "metadata": {},
   "source": [
    "Process the data:\n",
    "1. elimilate possible invalid values\n",
    "    - values < 30\n",
    "2. determine ms values to s values\n",
    "    - use median value"
   ]
  },
  {
   "cell_type": "code",
   "execution_count": 36,
   "metadata": {},
   "outputs": [],
   "source": [
    "# values < 30\n",
    "df_embrace_skin = df_embrace_skin[df_embrace_skin.skin_temp >= 30]"
   ]
  },
  {
   "cell_type": "code",
   "execution_count": 37,
   "metadata": {},
   "outputs": [
    {
     "data": {
      "text/html": [
       "<div>\n",
       "<style scoped>\n",
       "    .dataframe tbody tr th:only-of-type {\n",
       "        vertical-align: middle;\n",
       "    }\n",
       "\n",
       "    .dataframe tbody tr th {\n",
       "        vertical-align: top;\n",
       "    }\n",
       "\n",
       "    .dataframe thead th {\n",
       "        text-align: right;\n",
       "    }\n",
       "</style>\n",
       "<table border=\"1\" class=\"dataframe\">\n",
       "  <thead>\n",
       "    <tr style=\"text-align: right;\">\n",
       "      <th></th>\n",
       "      <th>time</th>\n",
       "      <th>skin_temp</th>\n",
       "      <th>time_ms</th>\n",
       "    </tr>\n",
       "  </thead>\n",
       "  <tbody>\n",
       "    <tr>\n",
       "      <th>0</th>\n",
       "      <td>2020-10-23 10:48:07.497</td>\n",
       "      <td>30.405</td>\n",
       "      <td>2020-10-23 10:48:07.497</td>\n",
       "    </tr>\n",
       "    <tr>\n",
       "      <th>1</th>\n",
       "      <td>2020-10-23 10:48:08.505</td>\n",
       "      <td>30.590</td>\n",
       "      <td>2020-10-23 10:48:08.505</td>\n",
       "    </tr>\n",
       "    <tr>\n",
       "      <th>2</th>\n",
       "      <td>2020-10-23 10:48:09.514</td>\n",
       "      <td>30.669</td>\n",
       "      <td>2020-10-23 10:48:09.514</td>\n",
       "    </tr>\n",
       "    <tr>\n",
       "      <th>3</th>\n",
       "      <td>2020-10-23 10:48:10.522</td>\n",
       "      <td>30.748</td>\n",
       "      <td>2020-10-23 10:48:10.522</td>\n",
       "    </tr>\n",
       "    <tr>\n",
       "      <th>4</th>\n",
       "      <td>2020-10-23 10:48:11.531</td>\n",
       "      <td>30.801</td>\n",
       "      <td>2020-10-23 10:48:11.531</td>\n",
       "    </tr>\n",
       "  </tbody>\n",
       "</table>\n",
       "</div>"
      ],
      "text/plain": [
       "                     time  skin_temp                 time_ms\n",
       "0 2020-10-23 10:48:07.497     30.405 2020-10-23 10:48:07.497\n",
       "1 2020-10-23 10:48:08.505     30.590 2020-10-23 10:48:08.505\n",
       "2 2020-10-23 10:48:09.514     30.669 2020-10-23 10:48:09.514\n",
       "3 2020-10-23 10:48:10.522     30.748 2020-10-23 10:48:10.522\n",
       "4 2020-10-23 10:48:11.531     30.801 2020-10-23 10:48:11.531"
      ]
     },
     "execution_count": 37,
     "metadata": {},
     "output_type": "execute_result"
    }
   ],
   "source": [
    "df_embrace_skin.head(5)"
   ]
  },
  {
   "cell_type": "code",
   "execution_count": 38,
   "metadata": {},
   "outputs": [],
   "source": [
    "# determine ms values to s values\n",
    "df_embrace_skin.time = df_embrace_skin.time_ms.map(lambda t: t.round('s'))"
   ]
  },
  {
   "cell_type": "code",
   "execution_count": 39,
   "metadata": {},
   "outputs": [
    {
     "data": {
      "text/html": [
       "<div>\n",
       "<style scoped>\n",
       "    .dataframe tbody tr th:only-of-type {\n",
       "        vertical-align: middle;\n",
       "    }\n",
       "\n",
       "    .dataframe tbody tr th {\n",
       "        vertical-align: top;\n",
       "    }\n",
       "\n",
       "    .dataframe thead th {\n",
       "        text-align: right;\n",
       "    }\n",
       "</style>\n",
       "<table border=\"1\" class=\"dataframe\">\n",
       "  <thead>\n",
       "    <tr style=\"text-align: right;\">\n",
       "      <th></th>\n",
       "      <th>time</th>\n",
       "      <th>skin_temp</th>\n",
       "      <th>time_ms</th>\n",
       "    </tr>\n",
       "  </thead>\n",
       "  <tbody>\n",
       "    <tr>\n",
       "      <th>0</th>\n",
       "      <td>2020-10-23 10:48:07</td>\n",
       "      <td>30.405</td>\n",
       "      <td>2020-10-23 10:48:07.497</td>\n",
       "    </tr>\n",
       "    <tr>\n",
       "      <th>1</th>\n",
       "      <td>2020-10-23 10:48:09</td>\n",
       "      <td>30.590</td>\n",
       "      <td>2020-10-23 10:48:08.505</td>\n",
       "    </tr>\n",
       "    <tr>\n",
       "      <th>2</th>\n",
       "      <td>2020-10-23 10:48:10</td>\n",
       "      <td>30.669</td>\n",
       "      <td>2020-10-23 10:48:09.514</td>\n",
       "    </tr>\n",
       "    <tr>\n",
       "      <th>3</th>\n",
       "      <td>2020-10-23 10:48:11</td>\n",
       "      <td>30.748</td>\n",
       "      <td>2020-10-23 10:48:10.522</td>\n",
       "    </tr>\n",
       "    <tr>\n",
       "      <th>4</th>\n",
       "      <td>2020-10-23 10:48:12</td>\n",
       "      <td>30.801</td>\n",
       "      <td>2020-10-23 10:48:11.531</td>\n",
       "    </tr>\n",
       "  </tbody>\n",
       "</table>\n",
       "</div>"
      ],
      "text/plain": [
       "                 time  skin_temp                 time_ms\n",
       "0 2020-10-23 10:48:07     30.405 2020-10-23 10:48:07.497\n",
       "1 2020-10-23 10:48:09     30.590 2020-10-23 10:48:08.505\n",
       "2 2020-10-23 10:48:10     30.669 2020-10-23 10:48:09.514\n",
       "3 2020-10-23 10:48:11     30.748 2020-10-23 10:48:10.522\n",
       "4 2020-10-23 10:48:12     30.801 2020-10-23 10:48:11.531"
      ]
     },
     "execution_count": 39,
     "metadata": {},
     "output_type": "execute_result"
    }
   ],
   "source": [
    "df_embrace_skin.head(5)"
   ]
  },
  {
   "cell_type": "code",
   "execution_count": 40,
   "metadata": {},
   "outputs": [],
   "source": [
    "df_embrace_skin = df_embrace_skin.groupby(by='time', as_index=False).agg({'skin_temp': 'median'})"
   ]
  },
  {
   "cell_type": "code",
   "execution_count": 41,
   "metadata": {},
   "outputs": [
    {
     "data": {
      "text/html": [
       "<div>\n",
       "<style scoped>\n",
       "    .dataframe tbody tr th:only-of-type {\n",
       "        vertical-align: middle;\n",
       "    }\n",
       "\n",
       "    .dataframe tbody tr th {\n",
       "        vertical-align: top;\n",
       "    }\n",
       "\n",
       "    .dataframe thead th {\n",
       "        text-align: right;\n",
       "    }\n",
       "</style>\n",
       "<table border=\"1\" class=\"dataframe\">\n",
       "  <thead>\n",
       "    <tr style=\"text-align: right;\">\n",
       "      <th></th>\n",
       "      <th>time</th>\n",
       "      <th>skin_temp</th>\n",
       "    </tr>\n",
       "  </thead>\n",
       "  <tbody>\n",
       "    <tr>\n",
       "      <th>0</th>\n",
       "      <td>2020-10-23 10:48:07</td>\n",
       "      <td>30.405</td>\n",
       "    </tr>\n",
       "    <tr>\n",
       "      <th>1</th>\n",
       "      <td>2020-10-23 10:48:09</td>\n",
       "      <td>30.590</td>\n",
       "    </tr>\n",
       "    <tr>\n",
       "      <th>2</th>\n",
       "      <td>2020-10-23 10:48:10</td>\n",
       "      <td>30.669</td>\n",
       "    </tr>\n",
       "    <tr>\n",
       "      <th>3</th>\n",
       "      <td>2020-10-23 10:48:11</td>\n",
       "      <td>30.748</td>\n",
       "    </tr>\n",
       "    <tr>\n",
       "      <th>4</th>\n",
       "      <td>2020-10-23 10:48:12</td>\n",
       "      <td>30.801</td>\n",
       "    </tr>\n",
       "  </tbody>\n",
       "</table>\n",
       "</div>"
      ],
      "text/plain": [
       "                 time  skin_temp\n",
       "0 2020-10-23 10:48:07     30.405\n",
       "1 2020-10-23 10:48:09     30.590\n",
       "2 2020-10-23 10:48:10     30.669\n",
       "3 2020-10-23 10:48:11     30.748\n",
       "4 2020-10-23 10:48:12     30.801"
      ]
     },
     "execution_count": 41,
     "metadata": {},
     "output_type": "execute_result"
    }
   ],
   "source": [
    "df_embrace_skin.head(5)"
   ]
  },
  {
   "cell_type": "markdown",
   "metadata": {},
   "source": [
    "## 4. Join"
   ]
  },
  {
   "cell_type": "markdown",
   "metadata": {},
   "source": [
    "### 4.1. Outer Join Garmin"
   ]
  },
  {
   "cell_type": "code",
   "execution_count": 42,
   "metadata": {},
   "outputs": [],
   "source": [
    "df_garmin = pd.merge(df_garmin_hr, df_garmin_stress, how='outer', on='time', sort=True)"
   ]
  },
  {
   "cell_type": "code",
   "execution_count": 43,
   "metadata": {},
   "outputs": [
    {
     "data": {
      "text/html": [
       "<div>\n",
       "<style scoped>\n",
       "    .dataframe tbody tr th:only-of-type {\n",
       "        vertical-align: middle;\n",
       "    }\n",
       "\n",
       "    .dataframe tbody tr th {\n",
       "        vertical-align: top;\n",
       "    }\n",
       "\n",
       "    .dataframe thead th {\n",
       "        text-align: right;\n",
       "    }\n",
       "</style>\n",
       "<table border=\"1\" class=\"dataframe\">\n",
       "  <thead>\n",
       "    <tr style=\"text-align: right;\">\n",
       "      <th></th>\n",
       "      <th>time</th>\n",
       "      <th>heart_rate</th>\n",
       "      <th>stress_level</th>\n",
       "    </tr>\n",
       "  </thead>\n",
       "  <tbody>\n",
       "    <tr>\n",
       "      <th>0</th>\n",
       "      <td>2020-10-23 00:00:44</td>\n",
       "      <td>78.0</td>\n",
       "      <td>NaN</td>\n",
       "    </tr>\n",
       "    <tr>\n",
       "      <th>1</th>\n",
       "      <td>2020-10-23 00:02:44</td>\n",
       "      <td>76.0</td>\n",
       "      <td>NaN</td>\n",
       "    </tr>\n",
       "    <tr>\n",
       "      <th>2</th>\n",
       "      <td>2020-10-23 00:04:44</td>\n",
       "      <td>79.0</td>\n",
       "      <td>NaN</td>\n",
       "    </tr>\n",
       "    <tr>\n",
       "      <th>3</th>\n",
       "      <td>2020-10-23 00:06:44</td>\n",
       "      <td>80.0</td>\n",
       "      <td>NaN</td>\n",
       "    </tr>\n",
       "    <tr>\n",
       "      <th>4</th>\n",
       "      <td>2020-10-23 00:07:44</td>\n",
       "      <td>82.0</td>\n",
       "      <td>NaN</td>\n",
       "    </tr>\n",
       "  </tbody>\n",
       "</table>\n",
       "</div>"
      ],
      "text/plain": [
       "                 time  heart_rate  stress_level\n",
       "0 2020-10-23 00:00:44        78.0           NaN\n",
       "1 2020-10-23 00:02:44        76.0           NaN\n",
       "2 2020-10-23 00:04:44        79.0           NaN\n",
       "3 2020-10-23 00:06:44        80.0           NaN\n",
       "4 2020-10-23 00:07:44        82.0           NaN"
      ]
     },
     "execution_count": 43,
     "metadata": {},
     "output_type": "execute_result"
    }
   ],
   "source": [
    "df_garmin.head(5)"
   ]
  },
  {
   "cell_type": "code",
   "execution_count": 44,
   "metadata": {},
   "outputs": [
    {
     "data": {
      "text/html": [
       "<div>\n",
       "<style scoped>\n",
       "    .dataframe tbody tr th:only-of-type {\n",
       "        vertical-align: middle;\n",
       "    }\n",
       "\n",
       "    .dataframe tbody tr th {\n",
       "        vertical-align: top;\n",
       "    }\n",
       "\n",
       "    .dataframe thead th {\n",
       "        text-align: right;\n",
       "    }\n",
       "</style>\n",
       "<table border=\"1\" class=\"dataframe\">\n",
       "  <thead>\n",
       "    <tr style=\"text-align: right;\">\n",
       "      <th></th>\n",
       "      <th>time</th>\n",
       "      <th>heart_rate</th>\n",
       "      <th>stress_level</th>\n",
       "    </tr>\n",
       "  </thead>\n",
       "  <tbody>\n",
       "    <tr>\n",
       "      <th>2487</th>\n",
       "      <td>2020-10-25 23:55:00</td>\n",
       "      <td>NaN</td>\n",
       "      <td>7.0</td>\n",
       "    </tr>\n",
       "    <tr>\n",
       "      <th>2488</th>\n",
       "      <td>2020-10-25 23:56:00</td>\n",
       "      <td>NaN</td>\n",
       "      <td>12.0</td>\n",
       "    </tr>\n",
       "    <tr>\n",
       "      <th>2489</th>\n",
       "      <td>2020-10-25 23:57:00</td>\n",
       "      <td>NaN</td>\n",
       "      <td>18.0</td>\n",
       "    </tr>\n",
       "    <tr>\n",
       "      <th>2490</th>\n",
       "      <td>2020-10-25 23:58:00</td>\n",
       "      <td>NaN</td>\n",
       "      <td>8.0</td>\n",
       "    </tr>\n",
       "    <tr>\n",
       "      <th>2491</th>\n",
       "      <td>2020-10-25 23:59:00</td>\n",
       "      <td>NaN</td>\n",
       "      <td>17.0</td>\n",
       "    </tr>\n",
       "  </tbody>\n",
       "</table>\n",
       "</div>"
      ],
      "text/plain": [
       "                    time  heart_rate  stress_level\n",
       "2487 2020-10-25 23:55:00         NaN           7.0\n",
       "2488 2020-10-25 23:56:00         NaN          12.0\n",
       "2489 2020-10-25 23:57:00         NaN          18.0\n",
       "2490 2020-10-25 23:58:00         NaN           8.0\n",
       "2491 2020-10-25 23:59:00         NaN          17.0"
      ]
     },
     "execution_count": 44,
     "metadata": {},
     "output_type": "execute_result"
    }
   ],
   "source": [
    "df_garmin.tail(5)"
   ]
  },
  {
   "cell_type": "code",
   "execution_count": 45,
   "metadata": {},
   "outputs": [
    {
     "data": {
      "text/plain": [
       "(2492, 3)"
      ]
     },
     "execution_count": 45,
     "metadata": {},
     "output_type": "execute_result"
    }
   ],
   "source": [
    "df_garmin.shape"
   ]
  },
  {
   "cell_type": "markdown",
   "metadata": {},
   "source": [
    "### 4.2. Outer Join Embrace"
   ]
  },
  {
   "cell_type": "code",
   "execution_count": 46,
   "metadata": {},
   "outputs": [],
   "source": [
    "df_embrace = pd.merge(df_embrace_skin, df_embrace_eda, how='outer', on='time', sort=True)"
   ]
  },
  {
   "cell_type": "code",
   "execution_count": 47,
   "metadata": {},
   "outputs": [
    {
     "data": {
      "text/html": [
       "<div>\n",
       "<style scoped>\n",
       "    .dataframe tbody tr th:only-of-type {\n",
       "        vertical-align: middle;\n",
       "    }\n",
       "\n",
       "    .dataframe tbody tr th {\n",
       "        vertical-align: top;\n",
       "    }\n",
       "\n",
       "    .dataframe thead th {\n",
       "        text-align: right;\n",
       "    }\n",
       "</style>\n",
       "<table border=\"1\" class=\"dataframe\">\n",
       "  <thead>\n",
       "    <tr style=\"text-align: right;\">\n",
       "      <th></th>\n",
       "      <th>time</th>\n",
       "      <th>skin_temp</th>\n",
       "      <th>eda</th>\n",
       "    </tr>\n",
       "  </thead>\n",
       "  <tbody>\n",
       "    <tr>\n",
       "      <th>0</th>\n",
       "      <td>2020-10-23 10:48:07</td>\n",
       "      <td>30.405</td>\n",
       "      <td>NaN</td>\n",
       "    </tr>\n",
       "    <tr>\n",
       "      <th>1</th>\n",
       "      <td>2020-10-23 10:48:08</td>\n",
       "      <td>NaN</td>\n",
       "      <td>0.109451</td>\n",
       "    </tr>\n",
       "    <tr>\n",
       "      <th>2</th>\n",
       "      <td>2020-10-23 10:48:09</td>\n",
       "      <td>30.590</td>\n",
       "      <td>0.008912</td>\n",
       "    </tr>\n",
       "    <tr>\n",
       "      <th>3</th>\n",
       "      <td>2020-10-23 10:48:10</td>\n",
       "      <td>30.669</td>\n",
       "      <td>0.007723</td>\n",
       "    </tr>\n",
       "    <tr>\n",
       "      <th>4</th>\n",
       "      <td>2020-10-23 10:48:11</td>\n",
       "      <td>30.748</td>\n",
       "      <td>0.008818</td>\n",
       "    </tr>\n",
       "  </tbody>\n",
       "</table>\n",
       "</div>"
      ],
      "text/plain": [
       "                 time  skin_temp       eda\n",
       "0 2020-10-23 10:48:07     30.405       NaN\n",
       "1 2020-10-23 10:48:08        NaN  0.109451\n",
       "2 2020-10-23 10:48:09     30.590  0.008912\n",
       "3 2020-10-23 10:48:10     30.669  0.007723\n",
       "4 2020-10-23 10:48:11     30.748  0.008818"
      ]
     },
     "execution_count": 47,
     "metadata": {},
     "output_type": "execute_result"
    }
   ],
   "source": [
    "df_embrace.head()"
   ]
  },
  {
   "cell_type": "code",
   "execution_count": 48,
   "metadata": {},
   "outputs": [
    {
     "data": {
      "text/html": [
       "<div>\n",
       "<style scoped>\n",
       "    .dataframe tbody tr th:only-of-type {\n",
       "        vertical-align: middle;\n",
       "    }\n",
       "\n",
       "    .dataframe tbody tr th {\n",
       "        vertical-align: top;\n",
       "    }\n",
       "\n",
       "    .dataframe thead th {\n",
       "        text-align: right;\n",
       "    }\n",
       "</style>\n",
       "<table border=\"1\" class=\"dataframe\">\n",
       "  <thead>\n",
       "    <tr style=\"text-align: right;\">\n",
       "      <th></th>\n",
       "      <th>time</th>\n",
       "      <th>skin_temp</th>\n",
       "      <th>eda</th>\n",
       "    </tr>\n",
       "  </thead>\n",
       "  <tbody>\n",
       "    <tr>\n",
       "      <th>146298</th>\n",
       "      <td>2020-10-25 23:59:56</td>\n",
       "      <td>32.993</td>\n",
       "      <td>0.106936</td>\n",
       "    </tr>\n",
       "    <tr>\n",
       "      <th>146299</th>\n",
       "      <td>2020-10-25 23:59:57</td>\n",
       "      <td>32.993</td>\n",
       "      <td>0.106157</td>\n",
       "    </tr>\n",
       "    <tr>\n",
       "      <th>146300</th>\n",
       "      <td>2020-10-25 23:59:58</td>\n",
       "      <td>33.019</td>\n",
       "      <td>0.105992</td>\n",
       "    </tr>\n",
       "    <tr>\n",
       "      <th>146301</th>\n",
       "      <td>2020-10-25 23:59:59</td>\n",
       "      <td>32.993</td>\n",
       "      <td>0.108452</td>\n",
       "    </tr>\n",
       "    <tr>\n",
       "      <th>146302</th>\n",
       "      <td>2020-10-26 00:00:00</td>\n",
       "      <td>33.019</td>\n",
       "      <td>0.108065</td>\n",
       "    </tr>\n",
       "  </tbody>\n",
       "</table>\n",
       "</div>"
      ],
      "text/plain": [
       "                      time  skin_temp       eda\n",
       "146298 2020-10-25 23:59:56     32.993  0.106936\n",
       "146299 2020-10-25 23:59:57     32.993  0.106157\n",
       "146300 2020-10-25 23:59:58     33.019  0.105992\n",
       "146301 2020-10-25 23:59:59     32.993  0.108452\n",
       "146302 2020-10-26 00:00:00     33.019  0.108065"
      ]
     },
     "execution_count": 48,
     "metadata": {},
     "output_type": "execute_result"
    }
   ],
   "source": [
    "df_embrace.tail()"
   ]
  },
  {
   "cell_type": "code",
   "execution_count": 49,
   "metadata": {},
   "outputs": [
    {
     "data": {
      "text/plain": [
       "(146303, 3)"
      ]
     },
     "execution_count": 49,
     "metadata": {},
     "output_type": "execute_result"
    }
   ],
   "source": [
    "df_embrace.shape"
   ]
  },
  {
   "cell_type": "markdown",
   "metadata": {},
   "source": [
    "### 4.3. Outer Join All Devices"
   ]
  },
  {
   "cell_type": "code",
   "execution_count": 50,
   "metadata": {},
   "outputs": [],
   "source": [
    "df_all = pd.merge(df_hobo, df_garmin, how='outer', on='time', sort=True)"
   ]
  },
  {
   "cell_type": "code",
   "execution_count": 51,
   "metadata": {},
   "outputs": [],
   "source": [
    "df_all = pd.merge(df_all, df_embrace, how='outer', on='time', sort=True)"
   ]
  },
  {
   "cell_type": "code",
   "execution_count": 52,
   "metadata": {},
   "outputs": [
    {
     "data": {
      "text/html": [
       "<div>\n",
       "<style scoped>\n",
       "    .dataframe tbody tr th:only-of-type {\n",
       "        vertical-align: middle;\n",
       "    }\n",
       "\n",
       "    .dataframe tbody tr th {\n",
       "        vertical-align: top;\n",
       "    }\n",
       "\n",
       "    .dataframe thead th {\n",
       "        text-align: right;\n",
       "    }\n",
       "</style>\n",
       "<table border=\"1\" class=\"dataframe\">\n",
       "  <thead>\n",
       "    <tr style=\"text-align: right;\">\n",
       "      <th></th>\n",
       "      <th>time</th>\n",
       "      <th>env_temp</th>\n",
       "      <th>rh</th>\n",
       "      <th>heart_rate</th>\n",
       "      <th>stress_level</th>\n",
       "      <th>skin_temp</th>\n",
       "      <th>eda</th>\n",
       "    </tr>\n",
       "  </thead>\n",
       "  <tbody>\n",
       "    <tr>\n",
       "      <th>0</th>\n",
       "      <td>2020-10-23 00:00:00</td>\n",
       "      <td>78.427</td>\n",
       "      <td>54.875</td>\n",
       "      <td>NaN</td>\n",
       "      <td>NaN</td>\n",
       "      <td>NaN</td>\n",
       "      <td>NaN</td>\n",
       "    </tr>\n",
       "    <tr>\n",
       "      <th>1</th>\n",
       "      <td>2020-10-23 00:00:44</td>\n",
       "      <td>NaN</td>\n",
       "      <td>NaN</td>\n",
       "      <td>78.0</td>\n",
       "      <td>NaN</td>\n",
       "      <td>NaN</td>\n",
       "      <td>NaN</td>\n",
       "    </tr>\n",
       "    <tr>\n",
       "      <th>2</th>\n",
       "      <td>2020-10-23 00:01:00</td>\n",
       "      <td>78.471</td>\n",
       "      <td>54.848</td>\n",
       "      <td>NaN</td>\n",
       "      <td>NaN</td>\n",
       "      <td>NaN</td>\n",
       "      <td>NaN</td>\n",
       "    </tr>\n",
       "    <tr>\n",
       "      <th>3</th>\n",
       "      <td>2020-10-23 00:02:00</td>\n",
       "      <td>78.471</td>\n",
       "      <td>54.848</td>\n",
       "      <td>NaN</td>\n",
       "      <td>NaN</td>\n",
       "      <td>NaN</td>\n",
       "      <td>NaN</td>\n",
       "    </tr>\n",
       "    <tr>\n",
       "      <th>4</th>\n",
       "      <td>2020-10-23 00:02:44</td>\n",
       "      <td>NaN</td>\n",
       "      <td>NaN</td>\n",
       "      <td>76.0</td>\n",
       "      <td>NaN</td>\n",
       "      <td>NaN</td>\n",
       "      <td>NaN</td>\n",
       "    </tr>\n",
       "  </tbody>\n",
       "</table>\n",
       "</div>"
      ],
      "text/plain": [
       "                 time  env_temp      rh  heart_rate  stress_level  skin_temp  \\\n",
       "0 2020-10-23 00:00:00    78.427  54.875         NaN           NaN        NaN   \n",
       "1 2020-10-23 00:00:44       NaN     NaN        78.0           NaN        NaN   \n",
       "2 2020-10-23 00:01:00    78.471  54.848         NaN           NaN        NaN   \n",
       "3 2020-10-23 00:02:00    78.471  54.848         NaN           NaN        NaN   \n",
       "4 2020-10-23 00:02:44       NaN     NaN        76.0           NaN        NaN   \n",
       "\n",
       "   eda  \n",
       "0  NaN  \n",
       "1  NaN  \n",
       "2  NaN  \n",
       "3  NaN  \n",
       "4  NaN  "
      ]
     },
     "execution_count": 52,
     "metadata": {},
     "output_type": "execute_result"
    }
   ],
   "source": [
    "df_all.head(5)"
   ]
  },
  {
   "cell_type": "code",
   "execution_count": 53,
   "metadata": {},
   "outputs": [
    {
     "data": {
      "text/plain": [
       "(148378, 7)"
      ]
     },
     "execution_count": 53,
     "metadata": {},
     "output_type": "execute_result"
    }
   ],
   "source": [
    "df_all.shape"
   ]
  },
  {
   "cell_type": "code",
   "execution_count": 54,
   "metadata": {},
   "outputs": [
    {
     "name": "stdout",
     "output_type": "stream",
     "text": [
      "<class 'pandas.core.frame.DataFrame'>\n",
      "Int64Index: 148378 entries, 0 to 148377\n",
      "Data columns (total 7 columns):\n",
      " #   Column        Non-Null Count   Dtype         \n",
      "---  ------        --------------   -----         \n",
      " 0   time          148378 non-null  datetime64[ns]\n",
      " 1   env_temp      4320 non-null    float64       \n",
      " 2   rh            4320 non-null    float64       \n",
      " 3   heart_rate    1526 non-null    float64       \n",
      " 4   stress_level  1822 non-null    float64       \n",
      " 5   skin_temp     144971 non-null  float64       \n",
      " 6   eda           146299 non-null  float64       \n",
      "dtypes: datetime64[ns](1), float64(6)\n",
      "memory usage: 9.1 MB\n"
     ]
    }
   ],
   "source": [
    "df_all.info()"
   ]
  },
  {
   "cell_type": "code",
   "execution_count": 55,
   "metadata": {},
   "outputs": [
    {
     "data": {
      "text/plain": [
       "nan"
      ]
     },
     "metadata": {},
     "output_type": "display_data"
    },
    {
     "data": {
      "text/plain": [
       "numpy.float64"
      ]
     },
     "metadata": {},
     "output_type": "display_data"
    }
   ],
   "source": [
    "display(df_all.eda[0])\n",
    "display(df_all.eda[0].__class__)"
   ]
  },
  {
   "cell_type": "markdown",
   "metadata": {},
   "source": [
    "### 4.4 Round Two Minutes"
   ]
  },
  {
   "cell_type": "code",
   "execution_count": 56,
   "metadata": {},
   "outputs": [],
   "source": [
    "df_all['time_m'] = df_all.time\n",
    "df_all['time'] = df_all.time_m.map(lambda t: t.round('2min'))"
   ]
  },
  {
   "cell_type": "code",
   "execution_count": 57,
   "metadata": {},
   "outputs": [
    {
     "data": {
      "text/html": [
       "<div>\n",
       "<style scoped>\n",
       "    .dataframe tbody tr th:only-of-type {\n",
       "        vertical-align: middle;\n",
       "    }\n",
       "\n",
       "    .dataframe tbody tr th {\n",
       "        vertical-align: top;\n",
       "    }\n",
       "\n",
       "    .dataframe thead th {\n",
       "        text-align: right;\n",
       "    }\n",
       "</style>\n",
       "<table border=\"1\" class=\"dataframe\">\n",
       "  <thead>\n",
       "    <tr style=\"text-align: right;\">\n",
       "      <th></th>\n",
       "      <th>time</th>\n",
       "      <th>env_temp</th>\n",
       "      <th>rh</th>\n",
       "      <th>heart_rate</th>\n",
       "      <th>stress_level</th>\n",
       "      <th>skin_temp</th>\n",
       "      <th>eda</th>\n",
       "      <th>time_m</th>\n",
       "    </tr>\n",
       "  </thead>\n",
       "  <tbody>\n",
       "    <tr>\n",
       "      <th>0</th>\n",
       "      <td>2020-10-23 00:00:00</td>\n",
       "      <td>78.427</td>\n",
       "      <td>54.875</td>\n",
       "      <td>NaN</td>\n",
       "      <td>NaN</td>\n",
       "      <td>NaN</td>\n",
       "      <td>NaN</td>\n",
       "      <td>2020-10-23 00:00:00</td>\n",
       "    </tr>\n",
       "    <tr>\n",
       "      <th>1</th>\n",
       "      <td>2020-10-23 00:00:00</td>\n",
       "      <td>NaN</td>\n",
       "      <td>NaN</td>\n",
       "      <td>78.0</td>\n",
       "      <td>NaN</td>\n",
       "      <td>NaN</td>\n",
       "      <td>NaN</td>\n",
       "      <td>2020-10-23 00:00:44</td>\n",
       "    </tr>\n",
       "    <tr>\n",
       "      <th>2</th>\n",
       "      <td>2020-10-23 00:00:00</td>\n",
       "      <td>78.471</td>\n",
       "      <td>54.848</td>\n",
       "      <td>NaN</td>\n",
       "      <td>NaN</td>\n",
       "      <td>NaN</td>\n",
       "      <td>NaN</td>\n",
       "      <td>2020-10-23 00:01:00</td>\n",
       "    </tr>\n",
       "    <tr>\n",
       "      <th>3</th>\n",
       "      <td>2020-10-23 00:02:00</td>\n",
       "      <td>78.471</td>\n",
       "      <td>54.848</td>\n",
       "      <td>NaN</td>\n",
       "      <td>NaN</td>\n",
       "      <td>NaN</td>\n",
       "      <td>NaN</td>\n",
       "      <td>2020-10-23 00:02:00</td>\n",
       "    </tr>\n",
       "    <tr>\n",
       "      <th>4</th>\n",
       "      <td>2020-10-23 00:02:00</td>\n",
       "      <td>NaN</td>\n",
       "      <td>NaN</td>\n",
       "      <td>76.0</td>\n",
       "      <td>NaN</td>\n",
       "      <td>NaN</td>\n",
       "      <td>NaN</td>\n",
       "      <td>2020-10-23 00:02:44</td>\n",
       "    </tr>\n",
       "    <tr>\n",
       "      <th>5</th>\n",
       "      <td>2020-10-23 00:04:00</td>\n",
       "      <td>78.471</td>\n",
       "      <td>54.879</td>\n",
       "      <td>NaN</td>\n",
       "      <td>NaN</td>\n",
       "      <td>NaN</td>\n",
       "      <td>NaN</td>\n",
       "      <td>2020-10-23 00:03:00</td>\n",
       "    </tr>\n",
       "    <tr>\n",
       "      <th>6</th>\n",
       "      <td>2020-10-23 00:04:00</td>\n",
       "      <td>78.471</td>\n",
       "      <td>54.848</td>\n",
       "      <td>NaN</td>\n",
       "      <td>NaN</td>\n",
       "      <td>NaN</td>\n",
       "      <td>NaN</td>\n",
       "      <td>2020-10-23 00:04:00</td>\n",
       "    </tr>\n",
       "    <tr>\n",
       "      <th>7</th>\n",
       "      <td>2020-10-23 00:04:00</td>\n",
       "      <td>NaN</td>\n",
       "      <td>NaN</td>\n",
       "      <td>79.0</td>\n",
       "      <td>NaN</td>\n",
       "      <td>NaN</td>\n",
       "      <td>NaN</td>\n",
       "      <td>2020-10-23 00:04:44</td>\n",
       "    </tr>\n",
       "    <tr>\n",
       "      <th>8</th>\n",
       "      <td>2020-10-23 00:04:00</td>\n",
       "      <td>78.514</td>\n",
       "      <td>54.851</td>\n",
       "      <td>NaN</td>\n",
       "      <td>NaN</td>\n",
       "      <td>NaN</td>\n",
       "      <td>NaN</td>\n",
       "      <td>2020-10-23 00:05:00</td>\n",
       "    </tr>\n",
       "    <tr>\n",
       "      <th>9</th>\n",
       "      <td>2020-10-23 00:06:00</td>\n",
       "      <td>78.514</td>\n",
       "      <td>54.851</td>\n",
       "      <td>NaN</td>\n",
       "      <td>NaN</td>\n",
       "      <td>NaN</td>\n",
       "      <td>NaN</td>\n",
       "      <td>2020-10-23 00:06:00</td>\n",
       "    </tr>\n",
       "  </tbody>\n",
       "</table>\n",
       "</div>"
      ],
      "text/plain": [
       "                 time  env_temp      rh  heart_rate  stress_level  skin_temp  \\\n",
       "0 2020-10-23 00:00:00    78.427  54.875         NaN           NaN        NaN   \n",
       "1 2020-10-23 00:00:00       NaN     NaN        78.0           NaN        NaN   \n",
       "2 2020-10-23 00:00:00    78.471  54.848         NaN           NaN        NaN   \n",
       "3 2020-10-23 00:02:00    78.471  54.848         NaN           NaN        NaN   \n",
       "4 2020-10-23 00:02:00       NaN     NaN        76.0           NaN        NaN   \n",
       "5 2020-10-23 00:04:00    78.471  54.879         NaN           NaN        NaN   \n",
       "6 2020-10-23 00:04:00    78.471  54.848         NaN           NaN        NaN   \n",
       "7 2020-10-23 00:04:00       NaN     NaN        79.0           NaN        NaN   \n",
       "8 2020-10-23 00:04:00    78.514  54.851         NaN           NaN        NaN   \n",
       "9 2020-10-23 00:06:00    78.514  54.851         NaN           NaN        NaN   \n",
       "\n",
       "   eda              time_m  \n",
       "0  NaN 2020-10-23 00:00:00  \n",
       "1  NaN 2020-10-23 00:00:44  \n",
       "2  NaN 2020-10-23 00:01:00  \n",
       "3  NaN 2020-10-23 00:02:00  \n",
       "4  NaN 2020-10-23 00:02:44  \n",
       "5  NaN 2020-10-23 00:03:00  \n",
       "6  NaN 2020-10-23 00:04:00  \n",
       "7  NaN 2020-10-23 00:04:44  \n",
       "8  NaN 2020-10-23 00:05:00  \n",
       "9  NaN 2020-10-23 00:06:00  "
      ]
     },
     "execution_count": 57,
     "metadata": {},
     "output_type": "execute_result"
    }
   ],
   "source": [
    "df_all.head(10)"
   ]
  },
  {
   "cell_type": "code",
   "execution_count": 58,
   "metadata": {},
   "outputs": [],
   "source": [
    "df_all = df_all.drop(columns=['time_m'])"
   ]
  },
  {
   "cell_type": "code",
   "execution_count": 59,
   "metadata": {},
   "outputs": [
    {
     "data": {
      "text/html": [
       "<div>\n",
       "<style scoped>\n",
       "    .dataframe tbody tr th:only-of-type {\n",
       "        vertical-align: middle;\n",
       "    }\n",
       "\n",
       "    .dataframe tbody tr th {\n",
       "        vertical-align: top;\n",
       "    }\n",
       "\n",
       "    .dataframe thead th {\n",
       "        text-align: right;\n",
       "    }\n",
       "</style>\n",
       "<table border=\"1\" class=\"dataframe\">\n",
       "  <thead>\n",
       "    <tr style=\"text-align: right;\">\n",
       "      <th></th>\n",
       "      <th>time</th>\n",
       "      <th>env_temp</th>\n",
       "      <th>rh</th>\n",
       "      <th>heart_rate</th>\n",
       "      <th>stress_level</th>\n",
       "      <th>skin_temp</th>\n",
       "      <th>eda</th>\n",
       "    </tr>\n",
       "  </thead>\n",
       "  <tbody>\n",
       "    <tr>\n",
       "      <th>0</th>\n",
       "      <td>2020-10-23</td>\n",
       "      <td>78.427</td>\n",
       "      <td>54.875</td>\n",
       "      <td>NaN</td>\n",
       "      <td>NaN</td>\n",
       "      <td>NaN</td>\n",
       "      <td>NaN</td>\n",
       "    </tr>\n",
       "  </tbody>\n",
       "</table>\n",
       "</div>"
      ],
      "text/plain": [
       "        time  env_temp      rh  heart_rate  stress_level  skin_temp  eda\n",
       "0 2020-10-23    78.427  54.875         NaN           NaN        NaN  NaN"
      ]
     },
     "execution_count": 59,
     "metadata": {},
     "output_type": "execute_result"
    }
   ],
   "source": [
    "df_all.head(1)"
   ]
  },
  {
   "cell_type": "code",
   "execution_count": 60,
   "metadata": {},
   "outputs": [],
   "source": [
    "# median\n",
    "df_all = df_all.groupby('time', as_index=False).agg('median')"
   ]
  },
  {
   "cell_type": "code",
   "execution_count": 61,
   "metadata": {},
   "outputs": [
    {
     "data": {
      "text/html": [
       "<div>\n",
       "<style scoped>\n",
       "    .dataframe tbody tr th:only-of-type {\n",
       "        vertical-align: middle;\n",
       "    }\n",
       "\n",
       "    .dataframe tbody tr th {\n",
       "        vertical-align: top;\n",
       "    }\n",
       "\n",
       "    .dataframe thead th {\n",
       "        text-align: right;\n",
       "    }\n",
       "</style>\n",
       "<table border=\"1\" class=\"dataframe\">\n",
       "  <thead>\n",
       "    <tr style=\"text-align: right;\">\n",
       "      <th></th>\n",
       "      <th>time</th>\n",
       "      <th>env_temp</th>\n",
       "      <th>rh</th>\n",
       "      <th>heart_rate</th>\n",
       "      <th>stress_level</th>\n",
       "      <th>skin_temp</th>\n",
       "      <th>eda</th>\n",
       "    </tr>\n",
       "  </thead>\n",
       "  <tbody>\n",
       "    <tr>\n",
       "      <th>0</th>\n",
       "      <td>2020-10-23 00:00:00</td>\n",
       "      <td>78.449</td>\n",
       "      <td>54.8615</td>\n",
       "      <td>78.0</td>\n",
       "      <td>NaN</td>\n",
       "      <td>NaN</td>\n",
       "      <td>NaN</td>\n",
       "    </tr>\n",
       "    <tr>\n",
       "      <th>1</th>\n",
       "      <td>2020-10-23 00:02:00</td>\n",
       "      <td>78.471</td>\n",
       "      <td>54.8480</td>\n",
       "      <td>76.0</td>\n",
       "      <td>NaN</td>\n",
       "      <td>NaN</td>\n",
       "      <td>NaN</td>\n",
       "    </tr>\n",
       "    <tr>\n",
       "      <th>2</th>\n",
       "      <td>2020-10-23 00:04:00</td>\n",
       "      <td>78.471</td>\n",
       "      <td>54.8510</td>\n",
       "      <td>79.0</td>\n",
       "      <td>NaN</td>\n",
       "      <td>NaN</td>\n",
       "      <td>NaN</td>\n",
       "    </tr>\n",
       "    <tr>\n",
       "      <th>3</th>\n",
       "      <td>2020-10-23 00:06:00</td>\n",
       "      <td>78.514</td>\n",
       "      <td>54.8510</td>\n",
       "      <td>80.0</td>\n",
       "      <td>NaN</td>\n",
       "      <td>NaN</td>\n",
       "      <td>NaN</td>\n",
       "    </tr>\n",
       "    <tr>\n",
       "      <th>4</th>\n",
       "      <td>2020-10-23 00:08:00</td>\n",
       "      <td>78.514</td>\n",
       "      <td>54.8820</td>\n",
       "      <td>81.5</td>\n",
       "      <td>NaN</td>\n",
       "      <td>NaN</td>\n",
       "      <td>NaN</td>\n",
       "    </tr>\n",
       "  </tbody>\n",
       "</table>\n",
       "</div>"
      ],
      "text/plain": [
       "                 time  env_temp       rh  heart_rate  stress_level  skin_temp  \\\n",
       "0 2020-10-23 00:00:00    78.449  54.8615        78.0           NaN        NaN   \n",
       "1 2020-10-23 00:02:00    78.471  54.8480        76.0           NaN        NaN   \n",
       "2 2020-10-23 00:04:00    78.471  54.8510        79.0           NaN        NaN   \n",
       "3 2020-10-23 00:06:00    78.514  54.8510        80.0           NaN        NaN   \n",
       "4 2020-10-23 00:08:00    78.514  54.8820        81.5           NaN        NaN   \n",
       "\n",
       "   eda  \n",
       "0  NaN  \n",
       "1  NaN  \n",
       "2  NaN  \n",
       "3  NaN  \n",
       "4  NaN  "
      ]
     },
     "execution_count": 61,
     "metadata": {},
     "output_type": "execute_result"
    }
   ],
   "source": [
    "df_all.head()"
   ]
  },
  {
   "cell_type": "code",
   "execution_count": 62,
   "metadata": {},
   "outputs": [
    {
     "data": {
      "text/plain": [
       "(2161, 7)"
      ]
     },
     "execution_count": 62,
     "metadata": {},
     "output_type": "execute_result"
    }
   ],
   "source": [
    "df_all.shape"
   ]
  },
  {
   "cell_type": "markdown",
   "metadata": {},
   "source": [
    "## 5. Body Data"
   ]
  },
  {
   "cell_type": "code",
   "execution_count": 63,
   "metadata": {},
   "outputs": [
    {
     "data": {
      "text/plain": [
       "'./body_data.csv'"
      ]
     },
     "metadata": {},
     "output_type": "display_data"
    }
   ],
   "source": [
    "pth_body = os.path.join('./', 'body_data.csv')\n",
    "display(pth_body)\n",
    "df_body = pd.read_csv(pth_body)"
   ]
  },
  {
   "cell_type": "code",
   "execution_count": 64,
   "metadata": {},
   "outputs": [
    {
     "data": {
      "text/html": [
       "<div>\n",
       "<style scoped>\n",
       "    .dataframe tbody tr th:only-of-type {\n",
       "        vertical-align: middle;\n",
       "    }\n",
       "\n",
       "    .dataframe tbody tr th {\n",
       "        vertical-align: top;\n",
       "    }\n",
       "\n",
       "    .dataframe thead th {\n",
       "        text-align: right;\n",
       "    }\n",
       "</style>\n",
       "<table border=\"1\" class=\"dataframe\">\n",
       "  <thead>\n",
       "    <tr style=\"text-align: right;\">\n",
       "      <th></th>\n",
       "      <th>uid</th>\n",
       "      <th>height (m)</th>\n",
       "      <th>weight (kg)</th>\n",
       "      <th>gender (-1, 1)</th>\n",
       "      <th>bmi</th>\n",
       "      <th>age</th>\n",
       "      <th>1_start_time</th>\n",
       "      <th>1_end_time</th>\n",
       "      <th>2_start_time</th>\n",
       "      <th>2_end_time</th>\n",
       "      <th>3_start_time</th>\n",
       "      <th>3_end_time</th>\n",
       "    </tr>\n",
       "  </thead>\n",
       "  <tbody>\n",
       "    <tr>\n",
       "      <th>0</th>\n",
       "      <td>r1_01</td>\n",
       "      <td>1.64</td>\n",
       "      <td>54.0</td>\n",
       "      <td>1</td>\n",
       "      <td>20.077335</td>\n",
       "      <td>24</td>\n",
       "      <td>2020-10-19 14:00:00</td>\n",
       "      <td>2020-10-20 02:00:00</td>\n",
       "      <td>2020-10-20 14:00:00</td>\n",
       "      <td>2020-10-21 04:00:00</td>\n",
       "      <td>2020-10-21 12:00:00</td>\n",
       "      <td>2020-10-21 23:30:00</td>\n",
       "    </tr>\n",
       "    <tr>\n",
       "      <th>1</th>\n",
       "      <td>r1_02</td>\n",
       "      <td>1.77</td>\n",
       "      <td>90.0</td>\n",
       "      <td>-1</td>\n",
       "      <td>28.727377</td>\n",
       "      <td>28</td>\n",
       "      <td>2020-10-19 10:00:00</td>\n",
       "      <td>2020-10-19 23:00:00</td>\n",
       "      <td>2020-10-20 11:00:00</td>\n",
       "      <td>2020-10-20 23:00:00</td>\n",
       "      <td>2020-10-21 11:30:00</td>\n",
       "      <td>2020-10-21 23:30:00</td>\n",
       "    </tr>\n",
       "    <tr>\n",
       "      <th>2</th>\n",
       "      <td>r1_03</td>\n",
       "      <td>1.77</td>\n",
       "      <td>58.0</td>\n",
       "      <td>-1</td>\n",
       "      <td>18.513199</td>\n",
       "      <td>23</td>\n",
       "      <td>2020-10-19 11:30:00</td>\n",
       "      <td>2020-10-19 23:00:00</td>\n",
       "      <td>2020-10-20 09:30:00</td>\n",
       "      <td>2020-10-21 00:00:00</td>\n",
       "      <td>2020-10-21 09:30:00</td>\n",
       "      <td>2020-10-21 23:30:00</td>\n",
       "    </tr>\n",
       "    <tr>\n",
       "      <th>3</th>\n",
       "      <td>r1_04</td>\n",
       "      <td>1.77</td>\n",
       "      <td>68.0</td>\n",
       "      <td>-1</td>\n",
       "      <td>21.705129</td>\n",
       "      <td>24</td>\n",
       "      <td>2020-10-19 00:00:00</td>\n",
       "      <td>2020-10-19 23:30:00</td>\n",
       "      <td>2020-10-20 00:00:00</td>\n",
       "      <td>2020-10-20 23:30:00</td>\n",
       "      <td>2020-10-21 00:00:00</td>\n",
       "      <td>2020-10-21 23:30:00</td>\n",
       "    </tr>\n",
       "    <tr>\n",
       "      <th>4</th>\n",
       "      <td>r1_05</td>\n",
       "      <td>1.80</td>\n",
       "      <td>75.0</td>\n",
       "      <td>-1</td>\n",
       "      <td>23.148148</td>\n",
       "      <td>33</td>\n",
       "      <td>2020-10-19 09:00:00</td>\n",
       "      <td>2020-10-19 22:30:00</td>\n",
       "      <td>2020-10-20 09:00:00</td>\n",
       "      <td>2020-10-20 21:30:00</td>\n",
       "      <td>2020-10-21 08:30:00</td>\n",
       "      <td>2020-10-21 22:00:00</td>\n",
       "    </tr>\n",
       "  </tbody>\n",
       "</table>\n",
       "</div>"
      ],
      "text/plain": [
       "     uid  height (m)  weight (kg)  gender (-1, 1)        bmi  age  \\\n",
       "0  r1_01        1.64         54.0               1  20.077335   24   \n",
       "1  r1_02        1.77         90.0              -1  28.727377   28   \n",
       "2  r1_03        1.77         58.0              -1  18.513199   23   \n",
       "3  r1_04        1.77         68.0              -1  21.705129   24   \n",
       "4  r1_05        1.80         75.0              -1  23.148148   33   \n",
       "\n",
       "          1_start_time           1_end_time         2_start_time  \\\n",
       "0  2020-10-19 14:00:00  2020-10-20 02:00:00  2020-10-20 14:00:00   \n",
       "1  2020-10-19 10:00:00  2020-10-19 23:00:00  2020-10-20 11:00:00   \n",
       "2  2020-10-19 11:30:00  2020-10-19 23:00:00  2020-10-20 09:30:00   \n",
       "3  2020-10-19 00:00:00  2020-10-19 23:30:00  2020-10-20 00:00:00   \n",
       "4  2020-10-19 09:00:00  2020-10-19 22:30:00  2020-10-20 09:00:00   \n",
       "\n",
       "            2_end_time         3_start_time           3_end_time  \n",
       "0  2020-10-21 04:00:00  2020-10-21 12:00:00  2020-10-21 23:30:00  \n",
       "1  2020-10-20 23:00:00  2020-10-21 11:30:00  2020-10-21 23:30:00  \n",
       "2  2020-10-21 00:00:00  2020-10-21 09:30:00  2020-10-21 23:30:00  \n",
       "3  2020-10-20 23:30:00  2020-10-21 00:00:00  2020-10-21 23:30:00  \n",
       "4  2020-10-20 21:30:00  2020-10-21 08:30:00  2020-10-21 22:00:00  "
      ]
     },
     "execution_count": 64,
     "metadata": {},
     "output_type": "execute_result"
    }
   ],
   "source": [
    "df_body.head()"
   ]
  },
  {
   "cell_type": "markdown",
   "metadata": {},
   "source": [
    "### 5.1. Extract Body Status"
   ]
  },
  {
   "cell_type": "code",
   "execution_count": 65,
   "metadata": {},
   "outputs": [],
   "source": [
    "df_status = df_body.iloc[:, :6]\n",
    "df_status.columns = ['uid', 'height', 'weight', 'gender', 'bmi', 'age']"
   ]
  },
  {
   "cell_type": "code",
   "execution_count": 66,
   "metadata": {},
   "outputs": [
    {
     "data": {
      "text/html": [
       "<div>\n",
       "<style scoped>\n",
       "    .dataframe tbody tr th:only-of-type {\n",
       "        vertical-align: middle;\n",
       "    }\n",
       "\n",
       "    .dataframe tbody tr th {\n",
       "        vertical-align: top;\n",
       "    }\n",
       "\n",
       "    .dataframe thead th {\n",
       "        text-align: right;\n",
       "    }\n",
       "</style>\n",
       "<table border=\"1\" class=\"dataframe\">\n",
       "  <thead>\n",
       "    <tr style=\"text-align: right;\">\n",
       "      <th></th>\n",
       "      <th>uid</th>\n",
       "      <th>height</th>\n",
       "      <th>weight</th>\n",
       "      <th>gender</th>\n",
       "      <th>bmi</th>\n",
       "      <th>age</th>\n",
       "    </tr>\n",
       "  </thead>\n",
       "  <tbody>\n",
       "    <tr>\n",
       "      <th>0</th>\n",
       "      <td>r1_01</td>\n",
       "      <td>1.64</td>\n",
       "      <td>54.0</td>\n",
       "      <td>1</td>\n",
       "      <td>20.077335</td>\n",
       "      <td>24</td>\n",
       "    </tr>\n",
       "    <tr>\n",
       "      <th>1</th>\n",
       "      <td>r1_02</td>\n",
       "      <td>1.77</td>\n",
       "      <td>90.0</td>\n",
       "      <td>-1</td>\n",
       "      <td>28.727377</td>\n",
       "      <td>28</td>\n",
       "    </tr>\n",
       "    <tr>\n",
       "      <th>2</th>\n",
       "      <td>r1_03</td>\n",
       "      <td>1.77</td>\n",
       "      <td>58.0</td>\n",
       "      <td>-1</td>\n",
       "      <td>18.513199</td>\n",
       "      <td>23</td>\n",
       "    </tr>\n",
       "    <tr>\n",
       "      <th>3</th>\n",
       "      <td>r1_04</td>\n",
       "      <td>1.77</td>\n",
       "      <td>68.0</td>\n",
       "      <td>-1</td>\n",
       "      <td>21.705129</td>\n",
       "      <td>24</td>\n",
       "    </tr>\n",
       "    <tr>\n",
       "      <th>4</th>\n",
       "      <td>r1_05</td>\n",
       "      <td>1.80</td>\n",
       "      <td>75.0</td>\n",
       "      <td>-1</td>\n",
       "      <td>23.148148</td>\n",
       "      <td>33</td>\n",
       "    </tr>\n",
       "  </tbody>\n",
       "</table>\n",
       "</div>"
      ],
      "text/plain": [
       "     uid  height  weight  gender        bmi  age\n",
       "0  r1_01    1.64    54.0       1  20.077335   24\n",
       "1  r1_02    1.77    90.0      -1  28.727377   28\n",
       "2  r1_03    1.77    58.0      -1  18.513199   23\n",
       "3  r1_04    1.77    68.0      -1  21.705129   24\n",
       "4  r1_05    1.80    75.0      -1  23.148148   33"
      ]
     },
     "execution_count": 66,
     "metadata": {},
     "output_type": "execute_result"
    }
   ],
   "source": [
    "df_status.head()"
   ]
  },
  {
   "cell_type": "markdown",
   "metadata": {},
   "source": [
    "### 5.2. Time"
   ]
  },
  {
   "cell_type": "code",
   "execution_count": 67,
   "metadata": {},
   "outputs": [],
   "source": [
    "df_test_time = pd.DataFrame()\n",
    "for col_name in df_body.columns[6:]:\n",
    "    df_test_time['uid'] = df_body['uid']\n",
    "    df_test_time[col_name] = pd.to_datetime(df_body[col_name])"
   ]
  },
  {
   "cell_type": "code",
   "execution_count": 68,
   "metadata": {},
   "outputs": [
    {
     "data": {
      "text/html": [
       "<div>\n",
       "<style scoped>\n",
       "    .dataframe tbody tr th:only-of-type {\n",
       "        vertical-align: middle;\n",
       "    }\n",
       "\n",
       "    .dataframe tbody tr th {\n",
       "        vertical-align: top;\n",
       "    }\n",
       "\n",
       "    .dataframe thead th {\n",
       "        text-align: right;\n",
       "    }\n",
       "</style>\n",
       "<table border=\"1\" class=\"dataframe\">\n",
       "  <thead>\n",
       "    <tr style=\"text-align: right;\">\n",
       "      <th></th>\n",
       "      <th>uid</th>\n",
       "      <th>1_start_time</th>\n",
       "      <th>1_end_time</th>\n",
       "      <th>2_start_time</th>\n",
       "      <th>2_end_time</th>\n",
       "      <th>3_start_time</th>\n",
       "      <th>3_end_time</th>\n",
       "    </tr>\n",
       "  </thead>\n",
       "  <tbody>\n",
       "    <tr>\n",
       "      <th>0</th>\n",
       "      <td>r1_01</td>\n",
       "      <td>2020-10-19 14:00:00</td>\n",
       "      <td>2020-10-20 02:00:00</td>\n",
       "      <td>2020-10-20 14:00:00</td>\n",
       "      <td>2020-10-21 04:00:00</td>\n",
       "      <td>2020-10-21 12:00:00</td>\n",
       "      <td>2020-10-21 23:30:00</td>\n",
       "    </tr>\n",
       "    <tr>\n",
       "      <th>1</th>\n",
       "      <td>r1_02</td>\n",
       "      <td>2020-10-19 10:00:00</td>\n",
       "      <td>2020-10-19 23:00:00</td>\n",
       "      <td>2020-10-20 11:00:00</td>\n",
       "      <td>2020-10-20 23:00:00</td>\n",
       "      <td>2020-10-21 11:30:00</td>\n",
       "      <td>2020-10-21 23:30:00</td>\n",
       "    </tr>\n",
       "    <tr>\n",
       "      <th>2</th>\n",
       "      <td>r1_03</td>\n",
       "      <td>2020-10-19 11:30:00</td>\n",
       "      <td>2020-10-19 23:00:00</td>\n",
       "      <td>2020-10-20 09:30:00</td>\n",
       "      <td>2020-10-21 00:00:00</td>\n",
       "      <td>2020-10-21 09:30:00</td>\n",
       "      <td>2020-10-21 23:30:00</td>\n",
       "    </tr>\n",
       "    <tr>\n",
       "      <th>3</th>\n",
       "      <td>r1_04</td>\n",
       "      <td>2020-10-19 00:00:00</td>\n",
       "      <td>2020-10-19 23:30:00</td>\n",
       "      <td>2020-10-20 00:00:00</td>\n",
       "      <td>2020-10-20 23:30:00</td>\n",
       "      <td>2020-10-21 00:00:00</td>\n",
       "      <td>2020-10-21 23:30:00</td>\n",
       "    </tr>\n",
       "    <tr>\n",
       "      <th>4</th>\n",
       "      <td>r1_05</td>\n",
       "      <td>2020-10-19 09:00:00</td>\n",
       "      <td>2020-10-19 22:30:00</td>\n",
       "      <td>2020-10-20 09:00:00</td>\n",
       "      <td>2020-10-20 21:30:00</td>\n",
       "      <td>2020-10-21 08:30:00</td>\n",
       "      <td>2020-10-21 22:00:00</td>\n",
       "    </tr>\n",
       "  </tbody>\n",
       "</table>\n",
       "</div>"
      ],
      "text/plain": [
       "     uid        1_start_time          1_end_time        2_start_time  \\\n",
       "0  r1_01 2020-10-19 14:00:00 2020-10-20 02:00:00 2020-10-20 14:00:00   \n",
       "1  r1_02 2020-10-19 10:00:00 2020-10-19 23:00:00 2020-10-20 11:00:00   \n",
       "2  r1_03 2020-10-19 11:30:00 2020-10-19 23:00:00 2020-10-20 09:30:00   \n",
       "3  r1_04 2020-10-19 00:00:00 2020-10-19 23:30:00 2020-10-20 00:00:00   \n",
       "4  r1_05 2020-10-19 09:00:00 2020-10-19 22:30:00 2020-10-20 09:00:00   \n",
       "\n",
       "           2_end_time        3_start_time          3_end_time  \n",
       "0 2020-10-21 04:00:00 2020-10-21 12:00:00 2020-10-21 23:30:00  \n",
       "1 2020-10-20 23:00:00 2020-10-21 11:30:00 2020-10-21 23:30:00  \n",
       "2 2020-10-21 00:00:00 2020-10-21 09:30:00 2020-10-21 23:30:00  \n",
       "3 2020-10-20 23:30:00 2020-10-21 00:00:00 2020-10-21 23:30:00  \n",
       "4 2020-10-20 21:30:00 2020-10-21 08:30:00 2020-10-21 22:00:00  "
      ]
     },
     "execution_count": 68,
     "metadata": {},
     "output_type": "execute_result"
    }
   ],
   "source": [
    "df_test_time.head()"
   ]
  },
  {
   "cell_type": "code",
   "execution_count": 69,
   "metadata": {},
   "outputs": [
    {
     "name": "stdout",
     "output_type": "stream",
     "text": [
      "<class 'pandas.core.frame.DataFrame'>\n",
      "RangeIndex: 30 entries, 0 to 29\n",
      "Data columns (total 7 columns):\n",
      " #   Column        Non-Null Count  Dtype         \n",
      "---  ------        --------------  -----         \n",
      " 0   uid           30 non-null     object        \n",
      " 1   1_start_time  30 non-null     datetime64[ns]\n",
      " 2   1_end_time    30 non-null     datetime64[ns]\n",
      " 3   2_start_time  30 non-null     datetime64[ns]\n",
      " 4   2_end_time    30 non-null     datetime64[ns]\n",
      " 5   3_start_time  30 non-null     datetime64[ns]\n",
      " 6   3_end_time    30 non-null     datetime64[ns]\n",
      "dtypes: datetime64[ns](6), object(1)\n",
      "memory usage: 1.8+ KB\n"
     ]
    }
   ],
   "source": [
    "df_test_time.info()"
   ]
  },
  {
   "cell_type": "markdown",
   "metadata": {},
   "source": [
    "### 5.3 Create One's DataFrame"
   ]
  },
  {
   "cell_type": "code",
   "execution_count": 81,
   "metadata": {},
   "outputs": [],
   "source": [
    "df_one = pd.DataFrame()"
   ]
  },
  {
   "cell_type": "markdown",
   "metadata": {},
   "source": [
    "#### 5.3.1. Time Series"
   ]
  },
  {
   "cell_type": "code",
   "execution_count": 70,
   "metadata": {},
   "outputs": [],
   "source": [
    "time_start_1 = list(df_test_time[df_test_time['uid'] == uid]['1_start_time'])[0]\n",
    "time_end_1 = list(df_test_time[df_test_time['uid'] == uid]['1_end_time'])[0]\n",
    "\n",
    "time_start_2 = list(df_test_time[df_test_time['uid'] == uid]['2_start_time'])[0]\n",
    "time_end_2 = list(df_test_time[df_test_time['uid'] == uid]['2_end_time'])[0]\n",
    "\n",
    "time_start_3 = list(df_test_time[df_test_time['uid'] == uid]['3_start_time'])[0]\n",
    "time_end_3 = list(df_test_time[df_test_time['uid'] == uid]['3_end_time'])[0]"
   ]
  },
  {
   "cell_type": "code",
   "execution_count": 77,
   "metadata": {},
   "outputs": [],
   "source": [
    "t_list = []\n",
    "\n",
    "t = time_start_1\n",
    "while t <= time_end_1:\n",
    "    t_list.append(t)\n",
    "    t = t + pd.Timedelta('30min')\n",
    "\n",
    "t = time_start_2\n",
    "while t <= time_end_2:\n",
    "    t_list.append(t)\n",
    "    t = t + pd.Timedelta('30min')\n",
    "\n",
    "t = time_start_3\n",
    "while t <= time_end_3:\n",
    "    t_list.append(t)\n",
    "    t = t + pd.Timedelta('30min')\n",
    "\n",
    "t_Series = pd.Series(t_list)"
   ]
  },
  {
   "cell_type": "code",
   "execution_count": 83,
   "metadata": {},
   "outputs": [],
   "source": [
    "df_one['time'] = t_Series"
   ]
  },
  {
   "cell_type": "code",
   "execution_count": 84,
   "metadata": {},
   "outputs": [
    {
     "data": {
      "text/html": [
       "<div>\n",
       "<style scoped>\n",
       "    .dataframe tbody tr th:only-of-type {\n",
       "        vertical-align: middle;\n",
       "    }\n",
       "\n",
       "    .dataframe tbody tr th {\n",
       "        vertical-align: top;\n",
       "    }\n",
       "\n",
       "    .dataframe thead th {\n",
       "        text-align: right;\n",
       "    }\n",
       "</style>\n",
       "<table border=\"1\" class=\"dataframe\">\n",
       "  <thead>\n",
       "    <tr style=\"text-align: right;\">\n",
       "      <th></th>\n",
       "      <th>time</th>\n",
       "    </tr>\n",
       "  </thead>\n",
       "  <tbody>\n",
       "    <tr>\n",
       "      <th>0</th>\n",
       "      <td>2020-10-23 11:00:00</td>\n",
       "    </tr>\n",
       "    <tr>\n",
       "      <th>1</th>\n",
       "      <td>2020-10-23 11:30:00</td>\n",
       "    </tr>\n",
       "    <tr>\n",
       "      <th>2</th>\n",
       "      <td>2020-10-23 12:00:00</td>\n",
       "    </tr>\n",
       "    <tr>\n",
       "      <th>3</th>\n",
       "      <td>2020-10-23 12:30:00</td>\n",
       "    </tr>\n",
       "    <tr>\n",
       "      <th>4</th>\n",
       "      <td>2020-10-23 13:00:00</td>\n",
       "    </tr>\n",
       "  </tbody>\n",
       "</table>\n",
       "</div>"
      ],
      "text/plain": [
       "                 time\n",
       "0 2020-10-23 11:00:00\n",
       "1 2020-10-23 11:30:00\n",
       "2 2020-10-23 12:00:00\n",
       "3 2020-10-23 12:30:00\n",
       "4 2020-10-23 13:00:00"
      ]
     },
     "execution_count": 84,
     "metadata": {},
     "output_type": "execute_result"
    }
   ],
   "source": [
    "df_one.head()"
   ]
  },
  {
   "cell_type": "markdown",
   "metadata": {},
   "source": [
    "#### 5.3.2. Add body data"
   ]
  },
  {
   "cell_type": "code",
   "execution_count": 85,
   "metadata": {},
   "outputs": [
    {
     "data": {
      "text/html": [
       "<div>\n",
       "<style scoped>\n",
       "    .dataframe tbody tr th:only-of-type {\n",
       "        vertical-align: middle;\n",
       "    }\n",
       "\n",
       "    .dataframe tbody tr th {\n",
       "        vertical-align: top;\n",
       "    }\n",
       "\n",
       "    .dataframe thead th {\n",
       "        text-align: right;\n",
       "    }\n",
       "</style>\n",
       "<table border=\"1\" class=\"dataframe\">\n",
       "  <thead>\n",
       "    <tr style=\"text-align: right;\">\n",
       "      <th></th>\n",
       "      <th>uid</th>\n",
       "      <th>height</th>\n",
       "      <th>weight</th>\n",
       "      <th>gender</th>\n",
       "      <th>bmi</th>\n",
       "      <th>age</th>\n",
       "    </tr>\n",
       "  </thead>\n",
       "  <tbody>\n",
       "    <tr>\n",
       "      <th>0</th>\n",
       "      <td>r1_01</td>\n",
       "      <td>1.64</td>\n",
       "      <td>54.0</td>\n",
       "      <td>1</td>\n",
       "      <td>20.077335</td>\n",
       "      <td>24</td>\n",
       "    </tr>\n",
       "    <tr>\n",
       "      <th>1</th>\n",
       "      <td>r1_02</td>\n",
       "      <td>1.77</td>\n",
       "      <td>90.0</td>\n",
       "      <td>-1</td>\n",
       "      <td>28.727377</td>\n",
       "      <td>28</td>\n",
       "    </tr>\n",
       "    <tr>\n",
       "      <th>2</th>\n",
       "      <td>r1_03</td>\n",
       "      <td>1.77</td>\n",
       "      <td>58.0</td>\n",
       "      <td>-1</td>\n",
       "      <td>18.513199</td>\n",
       "      <td>23</td>\n",
       "    </tr>\n",
       "    <tr>\n",
       "      <th>3</th>\n",
       "      <td>r1_04</td>\n",
       "      <td>1.77</td>\n",
       "      <td>68.0</td>\n",
       "      <td>-1</td>\n",
       "      <td>21.705129</td>\n",
       "      <td>24</td>\n",
       "    </tr>\n",
       "    <tr>\n",
       "      <th>4</th>\n",
       "      <td>r1_05</td>\n",
       "      <td>1.80</td>\n",
       "      <td>75.0</td>\n",
       "      <td>-1</td>\n",
       "      <td>23.148148</td>\n",
       "      <td>33</td>\n",
       "    </tr>\n",
       "  </tbody>\n",
       "</table>\n",
       "</div>"
      ],
      "text/plain": [
       "     uid  height  weight  gender        bmi  age\n",
       "0  r1_01    1.64    54.0       1  20.077335   24\n",
       "1  r1_02    1.77    90.0      -1  28.727377   28\n",
       "2  r1_03    1.77    58.0      -1  18.513199   23\n",
       "3  r1_04    1.77    68.0      -1  21.705129   24\n",
       "4  r1_05    1.80    75.0      -1  23.148148   33"
      ]
     },
     "execution_count": 85,
     "metadata": {},
     "output_type": "execute_result"
    }
   ],
   "source": [
    "df_status.head()"
   ]
  },
  {
   "cell_type": "code",
   "execution_count": 93,
   "metadata": {},
   "outputs": [],
   "source": [
    "one_status = list(df_status[df_status['uid'] == uid].to_dict(orient='index').values())[0]"
   ]
  },
  {
   "cell_type": "code",
   "execution_count": 94,
   "metadata": {},
   "outputs": [
    {
     "data": {
      "text/plain": [
       "{'uid': 'r2_03',\n",
       " 'height': 1.77,\n",
       " 'weight': 58.0,\n",
       " 'gender': -1,\n",
       " 'bmi': 18.51319863,\n",
       " 'age': 23}"
      ]
     },
     "execution_count": 94,
     "metadata": {},
     "output_type": "execute_result"
    }
   ],
   "source": [
    "one_status"
   ]
  },
  {
   "cell_type": "code",
   "execution_count": 95,
   "metadata": {},
   "outputs": [],
   "source": [
    "df_one['height'] = one_status['height']"
   ]
  },
  {
   "cell_type": "code",
   "execution_count": 97,
   "metadata": {},
   "outputs": [],
   "source": [
    "df_one['weight'] = one_status['weight']"
   ]
  },
  {
   "cell_type": "code",
   "execution_count": 98,
   "metadata": {},
   "outputs": [],
   "source": [
    "df_one['gender'] = one_status['gender']"
   ]
  },
  {
   "cell_type": "code",
   "execution_count": 99,
   "metadata": {},
   "outputs": [],
   "source": [
    "df_one['bmi'] = one_status['bmi']"
   ]
  },
  {
   "cell_type": "code",
   "execution_count": 100,
   "metadata": {},
   "outputs": [],
   "source": [
    "df_one['age'] = one_status['age']"
   ]
  },
  {
   "cell_type": "code",
   "execution_count": 101,
   "metadata": {},
   "outputs": [
    {
     "data": {
      "text/html": [
       "<div>\n",
       "<style scoped>\n",
       "    .dataframe tbody tr th:only-of-type {\n",
       "        vertical-align: middle;\n",
       "    }\n",
       "\n",
       "    .dataframe tbody tr th {\n",
       "        vertical-align: top;\n",
       "    }\n",
       "\n",
       "    .dataframe thead th {\n",
       "        text-align: right;\n",
       "    }\n",
       "</style>\n",
       "<table border=\"1\" class=\"dataframe\">\n",
       "  <thead>\n",
       "    <tr style=\"text-align: right;\">\n",
       "      <th></th>\n",
       "      <th>time</th>\n",
       "      <th>height</th>\n",
       "      <th>weight</th>\n",
       "      <th>gender</th>\n",
       "      <th>bmi</th>\n",
       "      <th>age</th>\n",
       "    </tr>\n",
       "  </thead>\n",
       "  <tbody>\n",
       "    <tr>\n",
       "      <th>0</th>\n",
       "      <td>2020-10-23 11:00:00</td>\n",
       "      <td>1.77</td>\n",
       "      <td>58.0</td>\n",
       "      <td>-1</td>\n",
       "      <td>18.513199</td>\n",
       "      <td>23</td>\n",
       "    </tr>\n",
       "    <tr>\n",
       "      <th>1</th>\n",
       "      <td>2020-10-23 11:30:00</td>\n",
       "      <td>1.77</td>\n",
       "      <td>58.0</td>\n",
       "      <td>-1</td>\n",
       "      <td>18.513199</td>\n",
       "      <td>23</td>\n",
       "    </tr>\n",
       "    <tr>\n",
       "      <th>2</th>\n",
       "      <td>2020-10-23 12:00:00</td>\n",
       "      <td>1.77</td>\n",
       "      <td>58.0</td>\n",
       "      <td>-1</td>\n",
       "      <td>18.513199</td>\n",
       "      <td>23</td>\n",
       "    </tr>\n",
       "    <tr>\n",
       "      <th>3</th>\n",
       "      <td>2020-10-23 12:30:00</td>\n",
       "      <td>1.77</td>\n",
       "      <td>58.0</td>\n",
       "      <td>-1</td>\n",
       "      <td>18.513199</td>\n",
       "      <td>23</td>\n",
       "    </tr>\n",
       "    <tr>\n",
       "      <th>4</th>\n",
       "      <td>2020-10-23 13:00:00</td>\n",
       "      <td>1.77</td>\n",
       "      <td>58.0</td>\n",
       "      <td>-1</td>\n",
       "      <td>18.513199</td>\n",
       "      <td>23</td>\n",
       "    </tr>\n",
       "    <tr>\n",
       "      <th>...</th>\n",
       "      <td>...</td>\n",
       "      <td>...</td>\n",
       "      <td>...</td>\n",
       "      <td>...</td>\n",
       "      <td>...</td>\n",
       "      <td>...</td>\n",
       "    </tr>\n",
       "    <tr>\n",
       "      <th>78</th>\n",
       "      <td>2020-10-25 21:30:00</td>\n",
       "      <td>1.77</td>\n",
       "      <td>58.0</td>\n",
       "      <td>-1</td>\n",
       "      <td>18.513199</td>\n",
       "      <td>23</td>\n",
       "    </tr>\n",
       "    <tr>\n",
       "      <th>79</th>\n",
       "      <td>2020-10-25 22:00:00</td>\n",
       "      <td>1.77</td>\n",
       "      <td>58.0</td>\n",
       "      <td>-1</td>\n",
       "      <td>18.513199</td>\n",
       "      <td>23</td>\n",
       "    </tr>\n",
       "    <tr>\n",
       "      <th>80</th>\n",
       "      <td>2020-10-25 22:30:00</td>\n",
       "      <td>1.77</td>\n",
       "      <td>58.0</td>\n",
       "      <td>-1</td>\n",
       "      <td>18.513199</td>\n",
       "      <td>23</td>\n",
       "    </tr>\n",
       "    <tr>\n",
       "      <th>81</th>\n",
       "      <td>2020-10-25 23:00:00</td>\n",
       "      <td>1.77</td>\n",
       "      <td>58.0</td>\n",
       "      <td>-1</td>\n",
       "      <td>18.513199</td>\n",
       "      <td>23</td>\n",
       "    </tr>\n",
       "    <tr>\n",
       "      <th>82</th>\n",
       "      <td>2020-10-25 23:30:00</td>\n",
       "      <td>1.77</td>\n",
       "      <td>58.0</td>\n",
       "      <td>-1</td>\n",
       "      <td>18.513199</td>\n",
       "      <td>23</td>\n",
       "    </tr>\n",
       "  </tbody>\n",
       "</table>\n",
       "<p>83 rows × 6 columns</p>\n",
       "</div>"
      ],
      "text/plain": [
       "                  time  height  weight  gender        bmi  age\n",
       "0  2020-10-23 11:00:00    1.77    58.0      -1  18.513199   23\n",
       "1  2020-10-23 11:30:00    1.77    58.0      -1  18.513199   23\n",
       "2  2020-10-23 12:00:00    1.77    58.0      -1  18.513199   23\n",
       "3  2020-10-23 12:30:00    1.77    58.0      -1  18.513199   23\n",
       "4  2020-10-23 13:00:00    1.77    58.0      -1  18.513199   23\n",
       "..                 ...     ...     ...     ...        ...  ...\n",
       "78 2020-10-25 21:30:00    1.77    58.0      -1  18.513199   23\n",
       "79 2020-10-25 22:00:00    1.77    58.0      -1  18.513199   23\n",
       "80 2020-10-25 22:30:00    1.77    58.0      -1  18.513199   23\n",
       "81 2020-10-25 23:00:00    1.77    58.0      -1  18.513199   23\n",
       "82 2020-10-25 23:30:00    1.77    58.0      -1  18.513199   23\n",
       "\n",
       "[83 rows x 6 columns]"
      ]
     },
     "execution_count": 101,
     "metadata": {},
     "output_type": "execute_result"
    }
   ],
   "source": [
    "df_one"
   ]
  },
  {
   "cell_type": "markdown",
   "metadata": {},
   "source": [
    "## Join All But Record\n",
    "`df_one` left join `df_all`"
   ]
  },
  {
   "cell_type": "code",
   "execution_count": 115,
   "metadata": {},
   "outputs": [],
   "source": [
    "df_one_all_without_record = pd.merge(df_one, df_all, how='left', on='time', sort=True)"
   ]
  },
  {
   "cell_type": "code",
   "execution_count": 138,
   "metadata": {},
   "outputs": [
    {
     "data": {
      "text/html": [
       "<div>\n",
       "<style scoped>\n",
       "    .dataframe tbody tr th:only-of-type {\n",
       "        vertical-align: middle;\n",
       "    }\n",
       "\n",
       "    .dataframe tbody tr th {\n",
       "        vertical-align: top;\n",
       "    }\n",
       "\n",
       "    .dataframe thead th {\n",
       "        text-align: right;\n",
       "    }\n",
       "</style>\n",
       "<table border=\"1\" class=\"dataframe\">\n",
       "  <thead>\n",
       "    <tr style=\"text-align: right;\">\n",
       "      <th></th>\n",
       "      <th>time</th>\n",
       "      <th>height</th>\n",
       "      <th>weight</th>\n",
       "      <th>gender</th>\n",
       "      <th>bmi</th>\n",
       "      <th>age</th>\n",
       "      <th>env_temp</th>\n",
       "      <th>rh</th>\n",
       "      <th>heart_rate</th>\n",
       "      <th>stress_level</th>\n",
       "      <th>skin_temp</th>\n",
       "      <th>eda</th>\n",
       "    </tr>\n",
       "  </thead>\n",
       "  <tbody>\n",
       "    <tr>\n",
       "      <th>0</th>\n",
       "      <td>2020-10-23 11:00:00</td>\n",
       "      <td>1.77</td>\n",
       "      <td>58.0</td>\n",
       "      <td>-1</td>\n",
       "      <td>18.513199</td>\n",
       "      <td>23</td>\n",
       "      <td>77.160</td>\n",
       "      <td>60.328</td>\n",
       "      <td>81.0</td>\n",
       "      <td>15.0</td>\n",
       "      <td>32.033</td>\n",
       "      <td>0.034045</td>\n",
       "    </tr>\n",
       "    <tr>\n",
       "      <th>1</th>\n",
       "      <td>2020-10-23 11:30:00</td>\n",
       "      <td>1.77</td>\n",
       "      <td>58.0</td>\n",
       "      <td>-1</td>\n",
       "      <td>18.513199</td>\n",
       "      <td>23</td>\n",
       "      <td>77.639</td>\n",
       "      <td>58.077</td>\n",
       "      <td>115.0</td>\n",
       "      <td>NaN</td>\n",
       "      <td>30.087</td>\n",
       "      <td>0.028956</td>\n",
       "    </tr>\n",
       "    <tr>\n",
       "      <th>2</th>\n",
       "      <td>2020-10-23 12:00:00</td>\n",
       "      <td>1.77</td>\n",
       "      <td>58.0</td>\n",
       "      <td>-1</td>\n",
       "      <td>18.513199</td>\n",
       "      <td>23</td>\n",
       "      <td>77.464</td>\n",
       "      <td>57.167</td>\n",
       "      <td>82.0</td>\n",
       "      <td>41.0</td>\n",
       "      <td>31.667</td>\n",
       "      <td>0.041033</td>\n",
       "    </tr>\n",
       "    <tr>\n",
       "      <th>3</th>\n",
       "      <td>2020-10-23 12:30:00</td>\n",
       "      <td>1.77</td>\n",
       "      <td>58.0</td>\n",
       "      <td>-1</td>\n",
       "      <td>18.513199</td>\n",
       "      <td>23</td>\n",
       "      <td>77.990</td>\n",
       "      <td>57.396</td>\n",
       "      <td>111.0</td>\n",
       "      <td>NaN</td>\n",
       "      <td>32.163</td>\n",
       "      <td>0.040863</td>\n",
       "    </tr>\n",
       "    <tr>\n",
       "      <th>4</th>\n",
       "      <td>2020-10-23 13:00:00</td>\n",
       "      <td>1.77</td>\n",
       "      <td>58.0</td>\n",
       "      <td>-1</td>\n",
       "      <td>18.513199</td>\n",
       "      <td>23</td>\n",
       "      <td>77.990</td>\n",
       "      <td>57.670</td>\n",
       "      <td>98.0</td>\n",
       "      <td>72.0</td>\n",
       "      <td>31.929</td>\n",
       "      <td>0.054089</td>\n",
       "    </tr>\n",
       "  </tbody>\n",
       "</table>\n",
       "</div>"
      ],
      "text/plain": [
       "                 time  height  weight  gender        bmi  age  env_temp  \\\n",
       "0 2020-10-23 11:00:00    1.77    58.0      -1  18.513199   23    77.160   \n",
       "1 2020-10-23 11:30:00    1.77    58.0      -1  18.513199   23    77.639   \n",
       "2 2020-10-23 12:00:00    1.77    58.0      -1  18.513199   23    77.464   \n",
       "3 2020-10-23 12:30:00    1.77    58.0      -1  18.513199   23    77.990   \n",
       "4 2020-10-23 13:00:00    1.77    58.0      -1  18.513199   23    77.990   \n",
       "\n",
       "       rh  heart_rate  stress_level  skin_temp       eda  \n",
       "0  60.328        81.0          15.0     32.033  0.034045  \n",
       "1  58.077       115.0           NaN     30.087  0.028956  \n",
       "2  57.167        82.0          41.0     31.667  0.041033  \n",
       "3  57.396       111.0           NaN     32.163  0.040863  \n",
       "4  57.670        98.0          72.0     31.929  0.054089  "
      ]
     },
     "execution_count": 138,
     "metadata": {},
     "output_type": "execute_result"
    }
   ],
   "source": [
    "df_one_all_without_record.head()"
   ]
  },
  {
   "cell_type": "code",
   "execution_count": 117,
   "metadata": {},
   "outputs": [
    {
     "name": "stdout",
     "output_type": "stream",
     "text": [
      "<class 'pandas.core.frame.DataFrame'>\n",
      "Int64Index: 83 entries, 0 to 82\n",
      "Data columns (total 12 columns):\n",
      " #   Column        Non-Null Count  Dtype         \n",
      "---  ------        --------------  -----         \n",
      " 0   time          83 non-null     datetime64[ns]\n",
      " 1   height        83 non-null     float64       \n",
      " 2   weight        83 non-null     float64       \n",
      " 3   gender        83 non-null     int64         \n",
      " 4   bmi           83 non-null     float64       \n",
      " 5   age           83 non-null     int64         \n",
      " 6   env_temp      83 non-null     float64       \n",
      " 7   rh            83 non-null     float64       \n",
      " 8   heart_rate    43 non-null     float64       \n",
      " 9   stress_level  70 non-null     float64       \n",
      " 10  skin_temp     80 non-null     float64       \n",
      " 11  eda           80 non-null     float64       \n",
      "dtypes: datetime64[ns](1), float64(9), int64(2)\n",
      "memory usage: 8.4 KB\n"
     ]
    }
   ],
   "source": [
    "df_one_all_without_record.info()"
   ]
  },
  {
   "cell_type": "markdown",
   "metadata": {},
   "source": [
    "## 6. Record"
   ]
  },
  {
   "cell_type": "code",
   "execution_count": 141,
   "metadata": {},
   "outputs": [
    {
     "data": {
      "text/plain": [
       "'./record/r2_03.csv'"
      ]
     },
     "metadata": {},
     "output_type": "display_data"
    }
   ],
   "source": [
    "pth_record = os.path.join('./record', uid + '.csv')\n",
    "display(pth_record)\n",
    "df_record = pd.read_csv(pth_record)"
   ]
  },
  {
   "cell_type": "code",
   "execution_count": 142,
   "metadata": {},
   "outputs": [
    {
     "data": {
      "text/html": [
       "<div>\n",
       "<style scoped>\n",
       "    .dataframe tbody tr th:only-of-type {\n",
       "        vertical-align: middle;\n",
       "    }\n",
       "\n",
       "    .dataframe tbody tr th {\n",
       "        vertical-align: top;\n",
       "    }\n",
       "\n",
       "    .dataframe thead th {\n",
       "        text-align: right;\n",
       "    }\n",
       "</style>\n",
       "<table border=\"1\" class=\"dataframe\">\n",
       "  <thead>\n",
       "    <tr style=\"text-align: right;\">\n",
       "      <th></th>\n",
       "      <th>Date</th>\n",
       "      <th>Time</th>\n",
       "      <th>TC</th>\n",
       "      <th>TS</th>\n",
       "      <th>Clo</th>\n",
       "      <th>Act</th>\n",
       "    </tr>\n",
       "  </thead>\n",
       "  <tbody>\n",
       "    <tr>\n",
       "      <th>0</th>\n",
       "      <td>2020-10-23</td>\n",
       "      <td>00:00</td>\n",
       "      <td>NaN</td>\n",
       "      <td>NaN</td>\n",
       "      <td>NaN</td>\n",
       "      <td>NaN</td>\n",
       "    </tr>\n",
       "    <tr>\n",
       "      <th>1</th>\n",
       "      <td>2020-10-23</td>\n",
       "      <td>00:30</td>\n",
       "      <td>NaN</td>\n",
       "      <td>NaN</td>\n",
       "      <td>NaN</td>\n",
       "      <td>NaN</td>\n",
       "    </tr>\n",
       "    <tr>\n",
       "      <th>2</th>\n",
       "      <td>2020-10-23</td>\n",
       "      <td>01:00</td>\n",
       "      <td>NaN</td>\n",
       "      <td>NaN</td>\n",
       "      <td>NaN</td>\n",
       "      <td>NaN</td>\n",
       "    </tr>\n",
       "    <tr>\n",
       "      <th>3</th>\n",
       "      <td>2020-10-23</td>\n",
       "      <td>01:30</td>\n",
       "      <td>NaN</td>\n",
       "      <td>NaN</td>\n",
       "      <td>NaN</td>\n",
       "      <td>NaN</td>\n",
       "    </tr>\n",
       "    <tr>\n",
       "      <th>4</th>\n",
       "      <td>2020-10-23</td>\n",
       "      <td>02:00</td>\n",
       "      <td>NaN</td>\n",
       "      <td>NaN</td>\n",
       "      <td>NaN</td>\n",
       "      <td>NaN</td>\n",
       "    </tr>\n",
       "  </tbody>\n",
       "</table>\n",
       "</div>"
      ],
      "text/plain": [
       "         Date   Time  TC  TS  Clo  Act\n",
       "0  2020-10-23  00:00 NaN NaN  NaN  NaN\n",
       "1  2020-10-23  00:30 NaN NaN  NaN  NaN\n",
       "2  2020-10-23  01:00 NaN NaN  NaN  NaN\n",
       "3  2020-10-23  01:30 NaN NaN  NaN  NaN\n",
       "4  2020-10-23  02:00 NaN NaN  NaN  NaN"
      ]
     },
     "execution_count": 142,
     "metadata": {},
     "output_type": "execute_result"
    }
   ],
   "source": [
    "df_record.head()"
   ]
  },
  {
   "cell_type": "code",
   "execution_count": 143,
   "metadata": {},
   "outputs": [],
   "source": [
    "df_record['time'] = df_record.Date + ' ' + df_record.Time + ':00'"
   ]
  },
  {
   "cell_type": "code",
   "execution_count": 144,
   "metadata": {},
   "outputs": [],
   "source": [
    "df_record['time'] = pd.to_datetime(df_record['time'])"
   ]
  },
  {
   "cell_type": "code",
   "execution_count": 145,
   "metadata": {},
   "outputs": [],
   "source": [
    "df_record = df_record.drop(axis=1, columns=['Date', 'Time'])"
   ]
  },
  {
   "cell_type": "code",
   "execution_count": 146,
   "metadata": {},
   "outputs": [
    {
     "data": {
      "text/html": [
       "<div>\n",
       "<style scoped>\n",
       "    .dataframe tbody tr th:only-of-type {\n",
       "        vertical-align: middle;\n",
       "    }\n",
       "\n",
       "    .dataframe tbody tr th {\n",
       "        vertical-align: top;\n",
       "    }\n",
       "\n",
       "    .dataframe thead th {\n",
       "        text-align: right;\n",
       "    }\n",
       "</style>\n",
       "<table border=\"1\" class=\"dataframe\">\n",
       "  <thead>\n",
       "    <tr style=\"text-align: right;\">\n",
       "      <th></th>\n",
       "      <th>TC</th>\n",
       "      <th>TS</th>\n",
       "      <th>Clo</th>\n",
       "      <th>Act</th>\n",
       "      <th>time</th>\n",
       "    </tr>\n",
       "  </thead>\n",
       "  <tbody>\n",
       "    <tr>\n",
       "      <th>0</th>\n",
       "      <td>NaN</td>\n",
       "      <td>NaN</td>\n",
       "      <td>NaN</td>\n",
       "      <td>NaN</td>\n",
       "      <td>2020-10-23 00:00:00</td>\n",
       "    </tr>\n",
       "    <tr>\n",
       "      <th>1</th>\n",
       "      <td>NaN</td>\n",
       "      <td>NaN</td>\n",
       "      <td>NaN</td>\n",
       "      <td>NaN</td>\n",
       "      <td>2020-10-23 00:30:00</td>\n",
       "    </tr>\n",
       "    <tr>\n",
       "      <th>2</th>\n",
       "      <td>NaN</td>\n",
       "      <td>NaN</td>\n",
       "      <td>NaN</td>\n",
       "      <td>NaN</td>\n",
       "      <td>2020-10-23 01:00:00</td>\n",
       "    </tr>\n",
       "    <tr>\n",
       "      <th>3</th>\n",
       "      <td>NaN</td>\n",
       "      <td>NaN</td>\n",
       "      <td>NaN</td>\n",
       "      <td>NaN</td>\n",
       "      <td>2020-10-23 01:30:00</td>\n",
       "    </tr>\n",
       "    <tr>\n",
       "      <th>4</th>\n",
       "      <td>NaN</td>\n",
       "      <td>NaN</td>\n",
       "      <td>NaN</td>\n",
       "      <td>NaN</td>\n",
       "      <td>2020-10-23 02:00:00</td>\n",
       "    </tr>\n",
       "    <tr>\n",
       "      <th>...</th>\n",
       "      <td>...</td>\n",
       "      <td>...</td>\n",
       "      <td>...</td>\n",
       "      <td>...</td>\n",
       "      <td>...</td>\n",
       "    </tr>\n",
       "    <tr>\n",
       "      <th>139</th>\n",
       "      <td>3.0</td>\n",
       "      <td>3.0</td>\n",
       "      <td>0.36</td>\n",
       "      <td>0.8</td>\n",
       "      <td>2020-10-25 21:30:00</td>\n",
       "    </tr>\n",
       "    <tr>\n",
       "      <th>140</th>\n",
       "      <td>3.0</td>\n",
       "      <td>3.0</td>\n",
       "      <td>0.36</td>\n",
       "      <td>0.8</td>\n",
       "      <td>2020-10-25 22:00:00</td>\n",
       "    </tr>\n",
       "    <tr>\n",
       "      <th>141</th>\n",
       "      <td>4.0</td>\n",
       "      <td>4.0</td>\n",
       "      <td>0.36</td>\n",
       "      <td>0.8</td>\n",
       "      <td>2020-10-25 22:30:00</td>\n",
       "    </tr>\n",
       "    <tr>\n",
       "      <th>142</th>\n",
       "      <td>3.0</td>\n",
       "      <td>3.0</td>\n",
       "      <td>0.36</td>\n",
       "      <td>1.0</td>\n",
       "      <td>2020-10-25 23:00:00</td>\n",
       "    </tr>\n",
       "    <tr>\n",
       "      <th>143</th>\n",
       "      <td>4.0</td>\n",
       "      <td>4.0</td>\n",
       "      <td>0.36</td>\n",
       "      <td>1.0</td>\n",
       "      <td>2020-10-25 23:30:00</td>\n",
       "    </tr>\n",
       "  </tbody>\n",
       "</table>\n",
       "<p>144 rows × 5 columns</p>\n",
       "</div>"
      ],
      "text/plain": [
       "      TC   TS   Clo  Act                time\n",
       "0    NaN  NaN   NaN  NaN 2020-10-23 00:00:00\n",
       "1    NaN  NaN   NaN  NaN 2020-10-23 00:30:00\n",
       "2    NaN  NaN   NaN  NaN 2020-10-23 01:00:00\n",
       "3    NaN  NaN   NaN  NaN 2020-10-23 01:30:00\n",
       "4    NaN  NaN   NaN  NaN 2020-10-23 02:00:00\n",
       "..   ...  ...   ...  ...                 ...\n",
       "139  3.0  3.0  0.36  0.8 2020-10-25 21:30:00\n",
       "140  3.0  3.0  0.36  0.8 2020-10-25 22:00:00\n",
       "141  4.0  4.0  0.36  0.8 2020-10-25 22:30:00\n",
       "142  3.0  3.0  0.36  1.0 2020-10-25 23:00:00\n",
       "143  4.0  4.0  0.36  1.0 2020-10-25 23:30:00\n",
       "\n",
       "[144 rows x 5 columns]"
      ]
     },
     "execution_count": 146,
     "metadata": {},
     "output_type": "execute_result"
    }
   ],
   "source": [
    "df_record"
   ]
  },
  {
   "cell_type": "code",
   "execution_count": 147,
   "metadata": {},
   "outputs": [
    {
     "name": "stdout",
     "output_type": "stream",
     "text": [
      "<class 'pandas.core.frame.DataFrame'>\n",
      "RangeIndex: 144 entries, 0 to 143\n",
      "Data columns (total 5 columns):\n",
      " #   Column  Non-Null Count  Dtype         \n",
      "---  ------  --------------  -----         \n",
      " 0   TC      83 non-null     float64       \n",
      " 1   TS      83 non-null     float64       \n",
      " 2   Clo     83 non-null     float64       \n",
      " 3   Act     83 non-null     float64       \n",
      " 4   time    144 non-null    datetime64[ns]\n",
      "dtypes: datetime64[ns](1), float64(4)\n",
      "memory usage: 5.8 KB\n"
     ]
    }
   ],
   "source": [
    "df_record.info()"
   ]
  },
  {
   "cell_type": "markdown",
   "metadata": {},
   "source": [
    "### 6.1. Left Join Record"
   ]
  },
  {
   "cell_type": "code",
   "execution_count": 155,
   "metadata": {},
   "outputs": [],
   "source": [
    "df_one_all = pd.merge(df_one_all_without_record, df_record, how='left', on='time', sort=True)"
   ]
  },
  {
   "cell_type": "code",
   "execution_count": 156,
   "metadata": {},
   "outputs": [
    {
     "data": {
      "text/html": [
       "<div>\n",
       "<style scoped>\n",
       "    .dataframe tbody tr th:only-of-type {\n",
       "        vertical-align: middle;\n",
       "    }\n",
       "\n",
       "    .dataframe tbody tr th {\n",
       "        vertical-align: top;\n",
       "    }\n",
       "\n",
       "    .dataframe thead th {\n",
       "        text-align: right;\n",
       "    }\n",
       "</style>\n",
       "<table border=\"1\" class=\"dataframe\">\n",
       "  <thead>\n",
       "    <tr style=\"text-align: right;\">\n",
       "      <th></th>\n",
       "      <th>time</th>\n",
       "      <th>height</th>\n",
       "      <th>weight</th>\n",
       "      <th>gender</th>\n",
       "      <th>bmi</th>\n",
       "      <th>age</th>\n",
       "      <th>env_temp</th>\n",
       "      <th>rh</th>\n",
       "      <th>heart_rate</th>\n",
       "      <th>stress_level</th>\n",
       "      <th>skin_temp</th>\n",
       "      <th>eda</th>\n",
       "      <th>TC</th>\n",
       "      <th>TS</th>\n",
       "      <th>Clo</th>\n",
       "      <th>Act</th>\n",
       "    </tr>\n",
       "  </thead>\n",
       "  <tbody>\n",
       "    <tr>\n",
       "      <th>0</th>\n",
       "      <td>2020-10-23 11:00:00</td>\n",
       "      <td>1.77</td>\n",
       "      <td>58.0</td>\n",
       "      <td>-1</td>\n",
       "      <td>18.513199</td>\n",
       "      <td>23</td>\n",
       "      <td>77.160</td>\n",
       "      <td>60.328</td>\n",
       "      <td>81.0</td>\n",
       "      <td>15.0</td>\n",
       "      <td>32.033</td>\n",
       "      <td>0.034045</td>\n",
       "      <td>4.0</td>\n",
       "      <td>4.0</td>\n",
       "      <td>0.36</td>\n",
       "      <td>1.2</td>\n",
       "    </tr>\n",
       "    <tr>\n",
       "      <th>1</th>\n",
       "      <td>2020-10-23 11:30:00</td>\n",
       "      <td>1.77</td>\n",
       "      <td>58.0</td>\n",
       "      <td>-1</td>\n",
       "      <td>18.513199</td>\n",
       "      <td>23</td>\n",
       "      <td>77.639</td>\n",
       "      <td>58.077</td>\n",
       "      <td>115.0</td>\n",
       "      <td>NaN</td>\n",
       "      <td>30.087</td>\n",
       "      <td>0.028956</td>\n",
       "      <td>4.0</td>\n",
       "      <td>4.0</td>\n",
       "      <td>0.36</td>\n",
       "      <td>2.5</td>\n",
       "    </tr>\n",
       "    <tr>\n",
       "      <th>2</th>\n",
       "      <td>2020-10-23 12:00:00</td>\n",
       "      <td>1.77</td>\n",
       "      <td>58.0</td>\n",
       "      <td>-1</td>\n",
       "      <td>18.513199</td>\n",
       "      <td>23</td>\n",
       "      <td>77.464</td>\n",
       "      <td>57.167</td>\n",
       "      <td>82.0</td>\n",
       "      <td>41.0</td>\n",
       "      <td>31.667</td>\n",
       "      <td>0.041033</td>\n",
       "      <td>4.0</td>\n",
       "      <td>4.0</td>\n",
       "      <td>0.36</td>\n",
       "      <td>1.0</td>\n",
       "    </tr>\n",
       "    <tr>\n",
       "      <th>3</th>\n",
       "      <td>2020-10-23 12:30:00</td>\n",
       "      <td>1.77</td>\n",
       "      <td>58.0</td>\n",
       "      <td>-1</td>\n",
       "      <td>18.513199</td>\n",
       "      <td>23</td>\n",
       "      <td>77.990</td>\n",
       "      <td>57.396</td>\n",
       "      <td>111.0</td>\n",
       "      <td>NaN</td>\n",
       "      <td>32.163</td>\n",
       "      <td>0.040863</td>\n",
       "      <td>4.0</td>\n",
       "      <td>4.0</td>\n",
       "      <td>0.36</td>\n",
       "      <td>1.1</td>\n",
       "    </tr>\n",
       "    <tr>\n",
       "      <th>4</th>\n",
       "      <td>2020-10-23 13:00:00</td>\n",
       "      <td>1.77</td>\n",
       "      <td>58.0</td>\n",
       "      <td>-1</td>\n",
       "      <td>18.513199</td>\n",
       "      <td>23</td>\n",
       "      <td>77.990</td>\n",
       "      <td>57.670</td>\n",
       "      <td>98.0</td>\n",
       "      <td>72.0</td>\n",
       "      <td>31.929</td>\n",
       "      <td>0.054089</td>\n",
       "      <td>4.0</td>\n",
       "      <td>4.0</td>\n",
       "      <td>0.36</td>\n",
       "      <td>1.0</td>\n",
       "    </tr>\n",
       "  </tbody>\n",
       "</table>\n",
       "</div>"
      ],
      "text/plain": [
       "                 time  height  weight  gender        bmi  age  env_temp  \\\n",
       "0 2020-10-23 11:00:00    1.77    58.0      -1  18.513199   23    77.160   \n",
       "1 2020-10-23 11:30:00    1.77    58.0      -1  18.513199   23    77.639   \n",
       "2 2020-10-23 12:00:00    1.77    58.0      -1  18.513199   23    77.464   \n",
       "3 2020-10-23 12:30:00    1.77    58.0      -1  18.513199   23    77.990   \n",
       "4 2020-10-23 13:00:00    1.77    58.0      -1  18.513199   23    77.990   \n",
       "\n",
       "       rh  heart_rate  stress_level  skin_temp       eda   TC   TS   Clo  Act  \n",
       "0  60.328        81.0          15.0     32.033  0.034045  4.0  4.0  0.36  1.2  \n",
       "1  58.077       115.0           NaN     30.087  0.028956  4.0  4.0  0.36  2.5  \n",
       "2  57.167        82.0          41.0     31.667  0.041033  4.0  4.0  0.36  1.0  \n",
       "3  57.396       111.0           NaN     32.163  0.040863  4.0  4.0  0.36  1.1  \n",
       "4  57.670        98.0          72.0     31.929  0.054089  4.0  4.0  0.36  1.0  "
      ]
     },
     "execution_count": 156,
     "metadata": {},
     "output_type": "execute_result"
    }
   ],
   "source": [
    "df_one_all.head()"
   ]
  },
  {
   "cell_type": "code",
   "execution_count": 157,
   "metadata": {},
   "outputs": [
    {
     "name": "stdout",
     "output_type": "stream",
     "text": [
      "<class 'pandas.core.frame.DataFrame'>\n",
      "Int64Index: 83 entries, 0 to 82\n",
      "Data columns (total 16 columns):\n",
      " #   Column        Non-Null Count  Dtype         \n",
      "---  ------        --------------  -----         \n",
      " 0   time          83 non-null     datetime64[ns]\n",
      " 1   height        83 non-null     float64       \n",
      " 2   weight        83 non-null     float64       \n",
      " 3   gender        83 non-null     int64         \n",
      " 4   bmi           83 non-null     float64       \n",
      " 5   age           83 non-null     int64         \n",
      " 6   env_temp      83 non-null     float64       \n",
      " 7   rh            83 non-null     float64       \n",
      " 8   heart_rate    43 non-null     float64       \n",
      " 9   stress_level  70 non-null     float64       \n",
      " 10  skin_temp     80 non-null     float64       \n",
      " 11  eda           80 non-null     float64       \n",
      " 12  TC            83 non-null     float64       \n",
      " 13  TS            83 non-null     float64       \n",
      " 14  Clo           83 non-null     float64       \n",
      " 15  Act           83 non-null     float64       \n",
      "dtypes: datetime64[ns](1), float64(13), int64(2)\n",
      "memory usage: 11.0 KB\n"
     ]
    }
   ],
   "source": [
    "df_one_all.info()"
   ]
  },
  {
   "cell_type": "code",
   "execution_count": 158,
   "metadata": {},
   "outputs": [],
   "source": [
    "# df_one_all = df_one_all.drop(axis=1, columns='time')"
   ]
  },
  {
   "cell_type": "code",
   "execution_count": 154,
   "metadata": {},
   "outputs": [
    {
     "data": {
      "text/plain": [
       "(83, 15)"
      ]
     },
     "execution_count": 154,
     "metadata": {},
     "output_type": "execute_result"
    }
   ],
   "source": [
    "df_one_all.shape"
   ]
  },
  {
   "cell_type": "code",
   "execution_count": 161,
   "metadata": {},
   "outputs": [
    {
     "data": {
      "text/html": [
       "<div>\n",
       "<style scoped>\n",
       "    .dataframe tbody tr th:only-of-type {\n",
       "        vertical-align: middle;\n",
       "    }\n",
       "\n",
       "    .dataframe tbody tr th {\n",
       "        vertical-align: top;\n",
       "    }\n",
       "\n",
       "    .dataframe thead th {\n",
       "        text-align: right;\n",
       "    }\n",
       "</style>\n",
       "<table border=\"1\" class=\"dataframe\">\n",
       "  <thead>\n",
       "    <tr style=\"text-align: right;\">\n",
       "      <th></th>\n",
       "      <th>time</th>\n",
       "      <th>height</th>\n",
       "      <th>weight</th>\n",
       "      <th>gender</th>\n",
       "      <th>bmi</th>\n",
       "      <th>age</th>\n",
       "      <th>env_temp</th>\n",
       "      <th>rh</th>\n",
       "      <th>heart_rate</th>\n",
       "      <th>stress_level</th>\n",
       "      <th>skin_temp</th>\n",
       "      <th>eda</th>\n",
       "      <th>TC</th>\n",
       "      <th>TS</th>\n",
       "      <th>Clo</th>\n",
       "      <th>Act</th>\n",
       "    </tr>\n",
       "  </thead>\n",
       "  <tbody>\n",
       "    <tr>\n",
       "      <th>0</th>\n",
       "      <td>2020-10-23 11:00:00</td>\n",
       "      <td>1.77</td>\n",
       "      <td>58.0</td>\n",
       "      <td>-1</td>\n",
       "      <td>18.513199</td>\n",
       "      <td>23</td>\n",
       "      <td>77.160</td>\n",
       "      <td>60.328</td>\n",
       "      <td>81.0</td>\n",
       "      <td>15.0</td>\n",
       "      <td>32.033</td>\n",
       "      <td>0.034045</td>\n",
       "      <td>4.0</td>\n",
       "      <td>4.0</td>\n",
       "      <td>0.36</td>\n",
       "      <td>1.2</td>\n",
       "    </tr>\n",
       "    <tr>\n",
       "      <th>1</th>\n",
       "      <td>2020-10-23 11:30:00</td>\n",
       "      <td>1.77</td>\n",
       "      <td>58.0</td>\n",
       "      <td>-1</td>\n",
       "      <td>18.513199</td>\n",
       "      <td>23</td>\n",
       "      <td>77.639</td>\n",
       "      <td>58.077</td>\n",
       "      <td>115.0</td>\n",
       "      <td>NaN</td>\n",
       "      <td>30.087</td>\n",
       "      <td>0.028956</td>\n",
       "      <td>4.0</td>\n",
       "      <td>4.0</td>\n",
       "      <td>0.36</td>\n",
       "      <td>2.5</td>\n",
       "    </tr>\n",
       "    <tr>\n",
       "      <th>2</th>\n",
       "      <td>2020-10-23 12:00:00</td>\n",
       "      <td>1.77</td>\n",
       "      <td>58.0</td>\n",
       "      <td>-1</td>\n",
       "      <td>18.513199</td>\n",
       "      <td>23</td>\n",
       "      <td>77.464</td>\n",
       "      <td>57.167</td>\n",
       "      <td>82.0</td>\n",
       "      <td>41.0</td>\n",
       "      <td>31.667</td>\n",
       "      <td>0.041033</td>\n",
       "      <td>4.0</td>\n",
       "      <td>4.0</td>\n",
       "      <td>0.36</td>\n",
       "      <td>1.0</td>\n",
       "    </tr>\n",
       "    <tr>\n",
       "      <th>3</th>\n",
       "      <td>2020-10-23 12:30:00</td>\n",
       "      <td>1.77</td>\n",
       "      <td>58.0</td>\n",
       "      <td>-1</td>\n",
       "      <td>18.513199</td>\n",
       "      <td>23</td>\n",
       "      <td>77.990</td>\n",
       "      <td>57.396</td>\n",
       "      <td>111.0</td>\n",
       "      <td>NaN</td>\n",
       "      <td>32.163</td>\n",
       "      <td>0.040863</td>\n",
       "      <td>4.0</td>\n",
       "      <td>4.0</td>\n",
       "      <td>0.36</td>\n",
       "      <td>1.1</td>\n",
       "    </tr>\n",
       "    <tr>\n",
       "      <th>4</th>\n",
       "      <td>2020-10-23 13:00:00</td>\n",
       "      <td>1.77</td>\n",
       "      <td>58.0</td>\n",
       "      <td>-1</td>\n",
       "      <td>18.513199</td>\n",
       "      <td>23</td>\n",
       "      <td>77.990</td>\n",
       "      <td>57.670</td>\n",
       "      <td>98.0</td>\n",
       "      <td>72.0</td>\n",
       "      <td>31.929</td>\n",
       "      <td>0.054089</td>\n",
       "      <td>4.0</td>\n",
       "      <td>4.0</td>\n",
       "      <td>0.36</td>\n",
       "      <td>1.0</td>\n",
       "    </tr>\n",
       "    <tr>\n",
       "      <th>...</th>\n",
       "      <td>...</td>\n",
       "      <td>...</td>\n",
       "      <td>...</td>\n",
       "      <td>...</td>\n",
       "      <td>...</td>\n",
       "      <td>...</td>\n",
       "      <td>...</td>\n",
       "      <td>...</td>\n",
       "      <td>...</td>\n",
       "      <td>...</td>\n",
       "      <td>...</td>\n",
       "      <td>...</td>\n",
       "      <td>...</td>\n",
       "      <td>...</td>\n",
       "      <td>...</td>\n",
       "      <td>...</td>\n",
       "    </tr>\n",
       "    <tr>\n",
       "      <th>78</th>\n",
       "      <td>2020-10-25 21:30:00</td>\n",
       "      <td>1.77</td>\n",
       "      <td>58.0</td>\n",
       "      <td>-1</td>\n",
       "      <td>18.513199</td>\n",
       "      <td>23</td>\n",
       "      <td>78.208</td>\n",
       "      <td>54.292</td>\n",
       "      <td>NaN</td>\n",
       "      <td>56.0</td>\n",
       "      <td>32.889</td>\n",
       "      <td>0.083326</td>\n",
       "      <td>3.0</td>\n",
       "      <td>3.0</td>\n",
       "      <td>0.36</td>\n",
       "      <td>0.8</td>\n",
       "    </tr>\n",
       "    <tr>\n",
       "      <th>79</th>\n",
       "      <td>2020-10-25 22:00:00</td>\n",
       "      <td>1.77</td>\n",
       "      <td>58.0</td>\n",
       "      <td>-1</td>\n",
       "      <td>18.513199</td>\n",
       "      <td>23</td>\n",
       "      <td>76.899</td>\n",
       "      <td>51.083</td>\n",
       "      <td>NaN</td>\n",
       "      <td>10.0</td>\n",
       "      <td>32.500</td>\n",
       "      <td>0.017662</td>\n",
       "      <td>3.0</td>\n",
       "      <td>3.0</td>\n",
       "      <td>0.36</td>\n",
       "      <td>0.8</td>\n",
       "    </tr>\n",
       "    <tr>\n",
       "      <th>80</th>\n",
       "      <td>2020-10-25 22:30:00</td>\n",
       "      <td>1.77</td>\n",
       "      <td>58.0</td>\n",
       "      <td>-1</td>\n",
       "      <td>18.513199</td>\n",
       "      <td>23</td>\n",
       "      <td>77.203</td>\n",
       "      <td>52.572</td>\n",
       "      <td>NaN</td>\n",
       "      <td>NaN</td>\n",
       "      <td>33.379</td>\n",
       "      <td>0.060811</td>\n",
       "      <td>4.0</td>\n",
       "      <td>4.0</td>\n",
       "      <td>0.36</td>\n",
       "      <td>0.8</td>\n",
       "    </tr>\n",
       "    <tr>\n",
       "      <th>81</th>\n",
       "      <td>2020-10-25 23:00:00</td>\n",
       "      <td>1.77</td>\n",
       "      <td>58.0</td>\n",
       "      <td>-1</td>\n",
       "      <td>18.513199</td>\n",
       "      <td>23</td>\n",
       "      <td>77.553</td>\n",
       "      <td>52.915</td>\n",
       "      <td>NaN</td>\n",
       "      <td>18.0</td>\n",
       "      <td>33.199</td>\n",
       "      <td>0.081880</td>\n",
       "      <td>3.0</td>\n",
       "      <td>3.0</td>\n",
       "      <td>0.36</td>\n",
       "      <td>1.0</td>\n",
       "    </tr>\n",
       "    <tr>\n",
       "      <th>82</th>\n",
       "      <td>2020-10-25 23:30:00</td>\n",
       "      <td>1.77</td>\n",
       "      <td>58.0</td>\n",
       "      <td>-1</td>\n",
       "      <td>18.513199</td>\n",
       "      <td>23</td>\n",
       "      <td>77.815</td>\n",
       "      <td>52.935</td>\n",
       "      <td>NaN</td>\n",
       "      <td>0.0</td>\n",
       "      <td>32.604</td>\n",
       "      <td>0.082034</td>\n",
       "      <td>4.0</td>\n",
       "      <td>4.0</td>\n",
       "      <td>0.36</td>\n",
       "      <td>1.0</td>\n",
       "    </tr>\n",
       "  </tbody>\n",
       "</table>\n",
       "<p>83 rows × 16 columns</p>\n",
       "</div>"
      ],
      "text/plain": [
       "                  time  height  weight  gender        bmi  age  env_temp  \\\n",
       "0  2020-10-23 11:00:00    1.77    58.0      -1  18.513199   23    77.160   \n",
       "1  2020-10-23 11:30:00    1.77    58.0      -1  18.513199   23    77.639   \n",
       "2  2020-10-23 12:00:00    1.77    58.0      -1  18.513199   23    77.464   \n",
       "3  2020-10-23 12:30:00    1.77    58.0      -1  18.513199   23    77.990   \n",
       "4  2020-10-23 13:00:00    1.77    58.0      -1  18.513199   23    77.990   \n",
       "..                 ...     ...     ...     ...        ...  ...       ...   \n",
       "78 2020-10-25 21:30:00    1.77    58.0      -1  18.513199   23    78.208   \n",
       "79 2020-10-25 22:00:00    1.77    58.0      -1  18.513199   23    76.899   \n",
       "80 2020-10-25 22:30:00    1.77    58.0      -1  18.513199   23    77.203   \n",
       "81 2020-10-25 23:00:00    1.77    58.0      -1  18.513199   23    77.553   \n",
       "82 2020-10-25 23:30:00    1.77    58.0      -1  18.513199   23    77.815   \n",
       "\n",
       "        rh  heart_rate  stress_level  skin_temp       eda   TC   TS   Clo  Act  \n",
       "0   60.328        81.0          15.0     32.033  0.034045  4.0  4.0  0.36  1.2  \n",
       "1   58.077       115.0           NaN     30.087  0.028956  4.0  4.0  0.36  2.5  \n",
       "2   57.167        82.0          41.0     31.667  0.041033  4.0  4.0  0.36  1.0  \n",
       "3   57.396       111.0           NaN     32.163  0.040863  4.0  4.0  0.36  1.1  \n",
       "4   57.670        98.0          72.0     31.929  0.054089  4.0  4.0  0.36  1.0  \n",
       "..     ...         ...           ...        ...       ...  ...  ...   ...  ...  \n",
       "78  54.292         NaN          56.0     32.889  0.083326  3.0  3.0  0.36  0.8  \n",
       "79  51.083         NaN          10.0     32.500  0.017662  3.0  3.0  0.36  0.8  \n",
       "80  52.572         NaN           NaN     33.379  0.060811  4.0  4.0  0.36  0.8  \n",
       "81  52.915         NaN          18.0     33.199  0.081880  3.0  3.0  0.36  1.0  \n",
       "82  52.935         NaN           0.0     32.604  0.082034  4.0  4.0  0.36  1.0  \n",
       "\n",
       "[83 rows x 16 columns]"
      ]
     },
     "metadata": {},
     "output_type": "display_data"
    }
   ],
   "source": [
    "df_one_all"
   ]
  },
  {
   "cell_type": "code",
   "execution_count": null,
   "metadata": {},
   "outputs": [],
   "source": []
  }
 ],
 "metadata": {
  "kernelspec": {
   "display_name": "thermal38",
   "language": "python",
   "name": "thermal38"
  },
  "language_info": {
   "codemirror_mode": {
    "name": "ipython",
    "version": 3
   },
   "file_extension": ".py",
   "mimetype": "text/x-python",
   "name": "python",
   "nbconvert_exporter": "python",
   "pygments_lexer": "ipython3",
   "version": "3.8.5"
  },
  "toc": {
   "base_numbering": 1,
   "nav_menu": {},
   "number_sections": true,
   "sideBar": true,
   "skip_h1_title": false,
   "title_cell": "Table of Contents",
   "title_sidebar": "Contents",
   "toc_cell": false,
   "toc_position": {
    "height": "calc(100% - 180px)",
    "left": "10px",
    "top": "150px",
    "width": "288px"
   },
   "toc_section_display": true,
   "toc_window_display": true
  }
 },
 "nbformat": 4,
 "nbformat_minor": 4
}
