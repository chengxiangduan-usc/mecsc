{
 "cells": [
  {
   "cell_type": "code",
   "execution_count": 1,
   "metadata": {
    "ExecuteTime": {
     "end_time": "2021-01-28T10:03:44.039044Z",
     "start_time": "2021-01-28T10:03:44.023524Z"
    }
   },
   "outputs": [],
   "source": [
    "import random\n",
    "import datetime"
   ]
  },
  {
   "cell_type": "code",
   "execution_count": 2,
   "metadata": {
    "ExecuteTime": {
     "end_time": "2021-01-28T10:03:44.864077Z",
     "start_time": "2021-01-28T10:03:44.040046Z"
    }
   },
   "outputs": [],
   "source": [
    "%matplotlib inline\n",
    "import pandas as pd\n",
    "import numpy as np\n",
    "\n",
    "import matplotlib.pyplot as plt\n",
    "import seaborn as sns"
   ]
  },
  {
   "cell_type": "code",
   "execution_count": 3,
   "metadata": {
    "ExecuteTime": {
     "end_time": "2021-01-28T10:03:45.103592Z",
     "start_time": "2021-01-28T10:03:44.865076Z"
    }
   },
   "outputs": [],
   "source": [
    "# from sklearn.ensemble import RandomForestRegressor\n",
    "from sklearn.impute import SimpleImputer\n",
    "from sklearn.metrics import mean_squared_error, r2_score\n",
    "\n",
    "from sklearn import tree\n",
    "import joblib\n",
    "\n",
    "import scipy"
   ]
  },
  {
   "cell_type": "code",
   "execution_count": 4,
   "metadata": {
    "ExecuteTime": {
     "end_time": "2021-01-28T10:03:45.119593Z",
     "start_time": "2021-01-28T10:03:45.104592Z"
    }
   },
   "outputs": [],
   "source": [
    "import group_tempreture_model"
   ]
  },
  {
   "cell_type": "code",
   "execution_count": 5,
   "metadata": {
    "ExecuteTime": {
     "end_time": "2021-01-28T10:03:45.135595Z",
     "start_time": "2021-01-28T10:03:45.120592Z"
    }
   },
   "outputs": [],
   "source": [
    "plt.rcParams[\"figure.figsize\"] = (15, 10)"
   ]
  },
  {
   "cell_type": "code",
   "execution_count": 6,
   "metadata": {
    "ExecuteTime": {
     "end_time": "2021-01-28T10:03:45.151592Z",
     "start_time": "2021-01-28T10:03:45.136592Z"
    }
   },
   "outputs": [],
   "source": [
    "def convertFahrenheitToCelsius(f):\n",
    "    return (f - 32) / 1.8"
   ]
  },
  {
   "cell_type": "markdown",
   "metadata": {},
   "source": [
    "## load random forest model"
   ]
  },
  {
   "cell_type": "code",
   "execution_count": 7,
   "metadata": {
    "ExecuteTime": {
     "end_time": "2021-01-28T10:03:45.167591Z",
     "start_time": "2021-01-28T10:03:45.152594Z"
    }
   },
   "outputs": [],
   "source": [
    "filename_min = '../../model/comfort_minmax_model/min_random_forest_model.sav'\n",
    "filename_max = '../../model/comfort_minmax_model/max_random_forest_model.sav'"
   ]
  },
  {
   "cell_type": "code",
   "execution_count": 8,
   "metadata": {
    "ExecuteTime": {
     "end_time": "2021-01-28T10:03:45.628599Z",
     "start_time": "2021-01-28T10:03:45.169593Z"
    }
   },
   "outputs": [],
   "source": [
    "rfr_min = joblib.load(filename_min)\n",
    "rfr_max = joblib.load(filename_max)"
   ]
  },
  {
   "cell_type": "markdown",
   "metadata": {},
   "source": [
    "## create test data"
   ]
  },
  {
   "cell_type": "markdown",
   "metadata": {},
   "source": [
    "### load env_temp data"
   ]
  },
  {
   "cell_type": "code",
   "execution_count": 9,
   "metadata": {
    "ExecuteTime": {
     "end_time": "2021-01-28T10:03:45.644599Z",
     "start_time": "2021-01-28T10:03:45.629601Z"
    }
   },
   "outputs": [],
   "source": [
    "env_temp_file_path = '../data/hobo/env_05_processed.csv'\n",
    "df_env_temp = pd.read_csv(env_temp_file_path)"
   ]
  },
  {
   "cell_type": "code",
   "execution_count": 10,
   "metadata": {
    "ExecuteTime": {
     "end_time": "2021-01-28T10:03:45.660601Z",
     "start_time": "2021-01-28T10:03:45.645601Z"
    }
   },
   "outputs": [
    {
     "data": {
      "text/html": [
       "<div>\n",
       "<style scoped>\n",
       "    .dataframe tbody tr th:only-of-type {\n",
       "        vertical-align: middle;\n",
       "    }\n",
       "\n",
       "    .dataframe tbody tr th {\n",
       "        vertical-align: top;\n",
       "    }\n",
       "\n",
       "    .dataframe thead th {\n",
       "        text-align: right;\n",
       "    }\n",
       "</style>\n",
       "<table border=\"1\" class=\"dataframe\">\n",
       "  <thead>\n",
       "    <tr style=\"text-align: right;\">\n",
       "      <th></th>\n",
       "      <th>time</th>\n",
       "      <th>env_temp</th>\n",
       "    </tr>\n",
       "  </thead>\n",
       "  <tbody>\n",
       "    <tr>\n",
       "      <th>0</th>\n",
       "      <td>2020-12-09 11:45:00</td>\n",
       "      <td>69.557</td>\n",
       "    </tr>\n",
       "    <tr>\n",
       "      <th>1</th>\n",
       "      <td>2020-12-09 11:46:00</td>\n",
       "      <td>69.600</td>\n",
       "    </tr>\n",
       "    <tr>\n",
       "      <th>2</th>\n",
       "      <td>2020-12-09 11:47:00</td>\n",
       "      <td>69.685</td>\n",
       "    </tr>\n",
       "    <tr>\n",
       "      <th>3</th>\n",
       "      <td>2020-12-09 11:48:00</td>\n",
       "      <td>69.728</td>\n",
       "    </tr>\n",
       "    <tr>\n",
       "      <th>4</th>\n",
       "      <td>2020-12-09 11:49:00</td>\n",
       "      <td>69.771</td>\n",
       "    </tr>\n",
       "    <tr>\n",
       "      <th>...</th>\n",
       "      <td>...</td>\n",
       "      <td>...</td>\n",
       "    </tr>\n",
       "    <tr>\n",
       "      <th>221</th>\n",
       "      <td>2020-12-09 15:26:00</td>\n",
       "      <td>70.803</td>\n",
       "    </tr>\n",
       "    <tr>\n",
       "      <th>222</th>\n",
       "      <td>2020-12-09 15:27:00</td>\n",
       "      <td>70.930</td>\n",
       "    </tr>\n",
       "    <tr>\n",
       "      <th>223</th>\n",
       "      <td>2020-12-09 15:28:00</td>\n",
       "      <td>71.060</td>\n",
       "    </tr>\n",
       "    <tr>\n",
       "      <th>224</th>\n",
       "      <td>2020-12-09 15:29:00</td>\n",
       "      <td>71.060</td>\n",
       "    </tr>\n",
       "    <tr>\n",
       "      <th>225</th>\n",
       "      <td>2020-12-09 15:30:00</td>\n",
       "      <td>71.146</td>\n",
       "    </tr>\n",
       "  </tbody>\n",
       "</table>\n",
       "<p>226 rows × 2 columns</p>\n",
       "</div>"
      ],
      "text/plain": [
       "                    time  env_temp\n",
       "0    2020-12-09 11:45:00    69.557\n",
       "1    2020-12-09 11:46:00    69.600\n",
       "2    2020-12-09 11:47:00    69.685\n",
       "3    2020-12-09 11:48:00    69.728\n",
       "4    2020-12-09 11:49:00    69.771\n",
       "..                   ...       ...\n",
       "221  2020-12-09 15:26:00    70.803\n",
       "222  2020-12-09 15:27:00    70.930\n",
       "223  2020-12-09 15:28:00    71.060\n",
       "224  2020-12-09 15:29:00    71.060\n",
       "225  2020-12-09 15:30:00    71.146\n",
       "\n",
       "[226 rows x 2 columns]"
      ]
     },
     "execution_count": 10,
     "metadata": {},
     "output_type": "execute_result"
    }
   ],
   "source": [
    "df_env_temp"
   ]
  },
  {
   "cell_type": "code",
   "execution_count": 11,
   "metadata": {
    "ExecuteTime": {
     "end_time": "2021-01-28T10:03:45.676600Z",
     "start_time": "2021-01-28T10:03:45.661603Z"
    }
   },
   "outputs": [],
   "source": [
    "df_env_temp.time = pd.to_datetime(df_env_temp.time)"
   ]
  },
  {
   "cell_type": "code",
   "execution_count": 12,
   "metadata": {
    "ExecuteTime": {
     "end_time": "2021-01-28T10:03:45.691883Z",
     "start_time": "2021-01-28T10:03:45.677601Z"
    }
   },
   "outputs": [],
   "source": [
    "time_start = datetime.datetime.strptime('12/09/20 13:20:00', '%m/%d/%y %H:%M:%S')\n",
    "time_end = datetime.datetime.strptime('12/09/20 15:20:00', '%m/%d/%y %H:%M:%S')\n",
    "\n",
    "t_list = []\n",
    "\n",
    "t = time_start\n",
    "while t <= time_end:\n",
    "    t_list.append(t)\n",
    "    t = t + pd.Timedelta('10min')\n",
    "\n",
    "t_Series = pd.Series(t_list)"
   ]
  },
  {
   "cell_type": "code",
   "execution_count": 13,
   "metadata": {
    "ExecuteTime": {
     "end_time": "2021-01-28T10:03:45.707962Z",
     "start_time": "2021-01-28T10:03:45.692889Z"
    }
   },
   "outputs": [],
   "source": [
    "df_env_temp_selected = df_env_temp.loc[df_env_temp['time'].isin(t_Series)]"
   ]
  },
  {
   "cell_type": "code",
   "execution_count": 14,
   "metadata": {
    "ExecuteTime": {
     "end_time": "2021-01-28T10:03:45.723966Z",
     "start_time": "2021-01-28T10:03:45.708967Z"
    }
   },
   "outputs": [],
   "source": [
    "d1 = {}\n",
    "for idxm, row in df_env_temp_selected.iterrows():\n",
    "    d1[str(row['time'])] = row['env_temp']"
   ]
  },
  {
   "cell_type": "code",
   "execution_count": 15,
   "metadata": {
    "ExecuteTime": {
     "end_time": "2021-01-28T10:03:45.739965Z",
     "start_time": "2021-01-28T10:03:45.724968Z"
    }
   },
   "outputs": [
    {
     "data": {
      "text/plain": [
       "{'2020-12-09 13:20:00': 72.869,\n",
       " '2020-12-09 13:30:00': 76.63600000000002,\n",
       " '2020-12-09 13:40:00': 77.029,\n",
       " '2020-12-09 13:50:00': 74.33800000000002,\n",
       " '2020-12-09 14:00:00': 72.91199999999998,\n",
       " '2020-12-09 14:10:00': 72.05,\n",
       " '2020-12-09 14:20:00': 75.85300000000002,\n",
       " '2020-12-09 14:30:00': 77.464,\n",
       " '2020-12-09 14:40:00': 76.464,\n",
       " '2020-12-09 14:50:00': 73.429,\n",
       " '2020-12-09 15:00:00': 71.533,\n",
       " '2020-12-09 15:10:00': 70.459,\n",
       " '2020-12-09 15:20:00': 69.814}"
      ]
     },
     "execution_count": 15,
     "metadata": {},
     "output_type": "execute_result"
    }
   ],
   "source": [
    "d1"
   ]
  },
  {
   "cell_type": "code",
   "execution_count": 16,
   "metadata": {
    "ExecuteTime": {
     "end_time": "2021-01-28T10:03:45.755966Z",
     "start_time": "2021-01-28T10:03:45.740967Z"
    }
   },
   "outputs": [],
   "source": [
    "ts_env_temp = [[row['env_temp']] for idxm, row in df_env_temp_selected.iterrows()]"
   ]
  },
  {
   "cell_type": "code",
   "execution_count": 17,
   "metadata": {
    "ExecuteTime": {
     "end_time": "2021-01-28T10:03:45.771983Z",
     "start_time": "2021-01-28T10:03:45.756968Z"
    }
   },
   "outputs": [],
   "source": [
    "ts_env_temp = [convertFahrenheitToCelsius(x[0]) for x in ts_env_temp]"
   ]
  },
  {
   "cell_type": "code",
   "execution_count": 18,
   "metadata": {
    "ExecuteTime": {
     "end_time": "2021-01-28T10:03:45.787983Z",
     "start_time": "2021-01-28T10:03:45.772986Z"
    }
   },
   "outputs": [
    {
     "data": {
      "text/plain": [
       "[22.705,\n",
       " 24.79777777777779,\n",
       " 25.01611111111111,\n",
       " 23.52111111111112,\n",
       " 22.728888888888875,\n",
       " 22.249999999999996,\n",
       " 24.36277777777779,\n",
       " 25.257777777777775,\n",
       " 24.702222222222222,\n",
       " 23.016111111111112,\n",
       " 21.962777777777777,\n",
       " 21.366111111111113,\n",
       " 21.007777777777772]"
      ]
     },
     "execution_count": 18,
     "metadata": {},
     "output_type": "execute_result"
    }
   ],
   "source": [
    "ts_env_temp"
   ]
  },
  {
   "cell_type": "markdown",
   "metadata": {},
   "source": [
    "### load features data"
   ]
  },
  {
   "cell_type": "code",
   "execution_count": 19,
   "metadata": {
    "ExecuteTime": {
     "end_time": "2021-01-28T10:03:45.803983Z",
     "start_time": "2021-01-28T10:03:45.788984Z"
    }
   },
   "outputs": [],
   "source": [
    "pth_data = '../data/test.csv'\n",
    "df_origin = pd.read_csv(pth_data)"
   ]
  },
  {
   "cell_type": "code",
   "execution_count": 20,
   "metadata": {
    "ExecuteTime": {
     "end_time": "2021-01-28T10:03:45.834983Z",
     "start_time": "2021-01-28T10:03:45.804984Z"
    },
    "scrolled": false
   },
   "outputs": [
    {
     "data": {
      "text/html": [
       "<div>\n",
       "<style scoped>\n",
       "    .dataframe tbody tr th:only-of-type {\n",
       "        vertical-align: middle;\n",
       "    }\n",
       "\n",
       "    .dataframe tbody tr th {\n",
       "        vertical-align: top;\n",
       "    }\n",
       "\n",
       "    .dataframe thead th {\n",
       "        text-align: right;\n",
       "    }\n",
       "</style>\n",
       "<table border=\"1\" class=\"dataframe\">\n",
       "  <thead>\n",
       "    <tr style=\"text-align: right;\">\n",
       "      <th></th>\n",
       "      <th>time</th>\n",
       "      <th>height</th>\n",
       "      <th>weight</th>\n",
       "      <th>gender</th>\n",
       "      <th>bmi</th>\n",
       "      <th>age</th>\n",
       "      <th>env_temp</th>\n",
       "      <th>rh</th>\n",
       "      <th>heart_rate</th>\n",
       "      <th>stress_level</th>\n",
       "      <th>skin_temp</th>\n",
       "      <th>eda</th>\n",
       "      <th>TC</th>\n",
       "      <th>TS</th>\n",
       "      <th>Clo</th>\n",
       "      <th>Act</th>\n",
       "    </tr>\n",
       "  </thead>\n",
       "  <tbody>\n",
       "    <tr>\n",
       "      <th>0</th>\n",
       "      <td>2020-12-09 13:20:00</td>\n",
       "      <td>1.62</td>\n",
       "      <td>52</td>\n",
       "      <td>1</td>\n",
       "      <td>19.814053</td>\n",
       "      <td>26</td>\n",
       "      <td>83.779</td>\n",
       "      <td>36.837</td>\n",
       "      <td>97.0</td>\n",
       "      <td>58.0</td>\n",
       "      <td>31.065</td>\n",
       "      <td>8.696614</td>\n",
       "      <td>4</td>\n",
       "      <td>5</td>\n",
       "      <td>0.61</td>\n",
       "      <td>1.0</td>\n",
       "    </tr>\n",
       "    <tr>\n",
       "      <th>1</th>\n",
       "      <td>2020-12-09 13:30:00</td>\n",
       "      <td>1.62</td>\n",
       "      <td>52</td>\n",
       "      <td>1</td>\n",
       "      <td>19.814053</td>\n",
       "      <td>26</td>\n",
       "      <td>87.073</td>\n",
       "      <td>39.856</td>\n",
       "      <td>119.0</td>\n",
       "      <td>NaN</td>\n",
       "      <td>31.588</td>\n",
       "      <td>14.716620</td>\n",
       "      <td>3</td>\n",
       "      <td>6</td>\n",
       "      <td>0.61</td>\n",
       "      <td>4.0</td>\n",
       "    </tr>\n",
       "    <tr>\n",
       "      <th>2</th>\n",
       "      <td>2020-12-09 13:40:00</td>\n",
       "      <td>1.62</td>\n",
       "      <td>52</td>\n",
       "      <td>1</td>\n",
       "      <td>19.814053</td>\n",
       "      <td>26</td>\n",
       "      <td>88.947</td>\n",
       "      <td>40.446</td>\n",
       "      <td>122.0</td>\n",
       "      <td>NaN</td>\n",
       "      <td>31.772</td>\n",
       "      <td>13.199184</td>\n",
       "      <td>3</td>\n",
       "      <td>6</td>\n",
       "      <td>0.61</td>\n",
       "      <td>4.0</td>\n",
       "    </tr>\n",
       "    <tr>\n",
       "      <th>3</th>\n",
       "      <td>2020-12-09 13:50:00</td>\n",
       "      <td>1.62</td>\n",
       "      <td>52</td>\n",
       "      <td>1</td>\n",
       "      <td>19.814053</td>\n",
       "      <td>26</td>\n",
       "      <td>86.437</td>\n",
       "      <td>45.924</td>\n",
       "      <td>106.0</td>\n",
       "      <td>NaN</td>\n",
       "      <td>31.641</td>\n",
       "      <td>7.708510</td>\n",
       "      <td>4</td>\n",
       "      <td>3</td>\n",
       "      <td>0.74</td>\n",
       "      <td>1.0</td>\n",
       "    </tr>\n",
       "    <tr>\n",
       "      <th>4</th>\n",
       "      <td>2020-12-09 14:00:00</td>\n",
       "      <td>1.62</td>\n",
       "      <td>52</td>\n",
       "      <td>1</td>\n",
       "      <td>19.814053</td>\n",
       "      <td>26</td>\n",
       "      <td>83.779</td>\n",
       "      <td>45.179</td>\n",
       "      <td>96.5</td>\n",
       "      <td>NaN</td>\n",
       "      <td>31.274</td>\n",
       "      <td>5.524036</td>\n",
       "      <td>3</td>\n",
       "      <td>2</td>\n",
       "      <td>0.74</td>\n",
       "      <td>1.0</td>\n",
       "    </tr>\n",
       "    <tr>\n",
       "      <th>...</th>\n",
       "      <td>...</td>\n",
       "      <td>...</td>\n",
       "      <td>...</td>\n",
       "      <td>...</td>\n",
       "      <td>...</td>\n",
       "      <td>...</td>\n",
       "      <td>...</td>\n",
       "      <td>...</td>\n",
       "      <td>...</td>\n",
       "      <td>...</td>\n",
       "      <td>...</td>\n",
       "      <td>...</td>\n",
       "      <td>...</td>\n",
       "      <td>...</td>\n",
       "      <td>...</td>\n",
       "      <td>...</td>\n",
       "    </tr>\n",
       "    <tr>\n",
       "      <th>73</th>\n",
       "      <td>2020-12-09 14:40:00</td>\n",
       "      <td>1.77</td>\n",
       "      <td>90</td>\n",
       "      <td>-1</td>\n",
       "      <td>28.727377</td>\n",
       "      <td>28</td>\n",
       "      <td>84.654</td>\n",
       "      <td>15.000</td>\n",
       "      <td>121.5</td>\n",
       "      <td>NaN</td>\n",
       "      <td>31.955</td>\n",
       "      <td>11.877829</td>\n",
       "      <td>2</td>\n",
       "      <td>7</td>\n",
       "      <td>0.74</td>\n",
       "      <td>4.0</td>\n",
       "    </tr>\n",
       "    <tr>\n",
       "      <th>74</th>\n",
       "      <td>2020-12-09 14:50:00</td>\n",
       "      <td>1.77</td>\n",
       "      <td>90</td>\n",
       "      <td>-1</td>\n",
       "      <td>28.727377</td>\n",
       "      <td>28</td>\n",
       "      <td>86.097</td>\n",
       "      <td>16.270</td>\n",
       "      <td>104.0</td>\n",
       "      <td>NaN</td>\n",
       "      <td>31.693</td>\n",
       "      <td>13.723230</td>\n",
       "      <td>4</td>\n",
       "      <td>4</td>\n",
       "      <td>0.61</td>\n",
       "      <td>1.0</td>\n",
       "    </tr>\n",
       "    <tr>\n",
       "      <th>75</th>\n",
       "      <td>2020-12-09 15:00:00</td>\n",
       "      <td>1.77</td>\n",
       "      <td>90</td>\n",
       "      <td>-1</td>\n",
       "      <td>28.727377</td>\n",
       "      <td>28</td>\n",
       "      <td>85.915</td>\n",
       "      <td>15.000</td>\n",
       "      <td>106.0</td>\n",
       "      <td>86.0</td>\n",
       "      <td>32.474</td>\n",
       "      <td>12.256653</td>\n",
       "      <td>5</td>\n",
       "      <td>4</td>\n",
       "      <td>0.61</td>\n",
       "      <td>1.0</td>\n",
       "    </tr>\n",
       "    <tr>\n",
       "      <th>76</th>\n",
       "      <td>2020-12-09 15:10:00</td>\n",
       "      <td>1.77</td>\n",
       "      <td>90</td>\n",
       "      <td>-1</td>\n",
       "      <td>28.727377</td>\n",
       "      <td>28</td>\n",
       "      <td>85.374</td>\n",
       "      <td>25.480</td>\n",
       "      <td>120.0</td>\n",
       "      <td>NaN</td>\n",
       "      <td>31.588</td>\n",
       "      <td>11.623549</td>\n",
       "      <td>5</td>\n",
       "      <td>3</td>\n",
       "      <td>1.00</td>\n",
       "      <td>4.0</td>\n",
       "    </tr>\n",
       "    <tr>\n",
       "      <th>77</th>\n",
       "      <td>2020-12-09 15:20:00</td>\n",
       "      <td>1.77</td>\n",
       "      <td>90</td>\n",
       "      <td>-1</td>\n",
       "      <td>28.727377</td>\n",
       "      <td>28</td>\n",
       "      <td>85.194</td>\n",
       "      <td>17.180</td>\n",
       "      <td>109.0</td>\n",
       "      <td>86.5</td>\n",
       "      <td>31.615</td>\n",
       "      <td>11.110644</td>\n",
       "      <td>4</td>\n",
       "      <td>4</td>\n",
       "      <td>1.00</td>\n",
       "      <td>1.0</td>\n",
       "    </tr>\n",
       "  </tbody>\n",
       "</table>\n",
       "<p>78 rows × 16 columns</p>\n",
       "</div>"
      ],
      "text/plain": [
       "                   time  height  weight  gender        bmi  age  env_temp  \\\n",
       "0   2020-12-09 13:20:00    1.62      52       1  19.814053   26    83.779   \n",
       "1   2020-12-09 13:30:00    1.62      52       1  19.814053   26    87.073   \n",
       "2   2020-12-09 13:40:00    1.62      52       1  19.814053   26    88.947   \n",
       "3   2020-12-09 13:50:00    1.62      52       1  19.814053   26    86.437   \n",
       "4   2020-12-09 14:00:00    1.62      52       1  19.814053   26    83.779   \n",
       "..                  ...     ...     ...     ...        ...  ...       ...   \n",
       "73  2020-12-09 14:40:00    1.77      90      -1  28.727377   28    84.654   \n",
       "74  2020-12-09 14:50:00    1.77      90      -1  28.727377   28    86.097   \n",
       "75  2020-12-09 15:00:00    1.77      90      -1  28.727377   28    85.915   \n",
       "76  2020-12-09 15:10:00    1.77      90      -1  28.727377   28    85.374   \n",
       "77  2020-12-09 15:20:00    1.77      90      -1  28.727377   28    85.194   \n",
       "\n",
       "        rh  heart_rate  stress_level  skin_temp        eda  TC  TS   Clo  Act  \n",
       "0   36.837        97.0          58.0     31.065   8.696614   4   5  0.61  1.0  \n",
       "1   39.856       119.0           NaN     31.588  14.716620   3   6  0.61  4.0  \n",
       "2   40.446       122.0           NaN     31.772  13.199184   3   6  0.61  4.0  \n",
       "3   45.924       106.0           NaN     31.641   7.708510   4   3  0.74  1.0  \n",
       "4   45.179        96.5           NaN     31.274   5.524036   3   2  0.74  1.0  \n",
       "..     ...         ...           ...        ...        ...  ..  ..   ...  ...  \n",
       "73  15.000       121.5           NaN     31.955  11.877829   2   7  0.74  4.0  \n",
       "74  16.270       104.0           NaN     31.693  13.723230   4   4  0.61  1.0  \n",
       "75  15.000       106.0          86.0     32.474  12.256653   5   4  0.61  1.0  \n",
       "76  25.480       120.0           NaN     31.588  11.623549   5   3  1.00  4.0  \n",
       "77  17.180       109.0          86.5     31.615  11.110644   4   4  1.00  1.0  \n",
       "\n",
       "[78 rows x 16 columns]"
      ]
     },
     "execution_count": 20,
     "metadata": {},
     "output_type": "execute_result"
    }
   ],
   "source": [
    "df_origin"
   ]
  },
  {
   "cell_type": "code",
   "execution_count": 21,
   "metadata": {
    "ExecuteTime": {
     "end_time": "2021-01-28T10:03:45.850982Z",
     "start_time": "2021-01-28T10:03:45.835983Z"
    }
   },
   "outputs": [
    {
     "data": {
      "text/plain": [
       "(78, 16)"
      ]
     },
     "execution_count": 21,
     "metadata": {},
     "output_type": "execute_result"
    }
   ],
   "source": [
    "df_origin.shape"
   ]
  },
  {
   "cell_type": "code",
   "execution_count": 22,
   "metadata": {
    "ExecuteTime": {
     "end_time": "2021-01-28T10:03:45.866983Z",
     "start_time": "2021-01-28T10:03:45.851984Z"
    }
   },
   "outputs": [],
   "source": [
    "# for i in range(df_origin.shape[0]):\n",
    "#     t = df_origin.iloc[i, :]['time']\n",
    "#     df_origin['env_temp'][i] = d1[t]"
   ]
  },
  {
   "cell_type": "code",
   "execution_count": 23,
   "metadata": {
    "ExecuteTime": {
     "end_time": "2021-01-28T10:03:45.882984Z",
     "start_time": "2021-01-28T10:03:45.869983Z"
    }
   },
   "outputs": [],
   "source": [
    "df_sort_by_time = df_origin.sort_values(by=\"time\")"
   ]
  },
  {
   "cell_type": "code",
   "execution_count": 24,
   "metadata": {
    "ExecuteTime": {
     "end_time": "2021-01-28T10:03:45.898987Z",
     "start_time": "2021-01-28T10:03:45.884984Z"
    }
   },
   "outputs": [],
   "source": [
    "df_sort_by_time = df_sort_by_time.drop(columns=['time'])"
   ]
  },
  {
   "cell_type": "code",
   "execution_count": 25,
   "metadata": {
    "ExecuteTime": {
     "end_time": "2021-01-28T10:03:45.914984Z",
     "start_time": "2021-01-28T10:03:45.899984Z"
    }
   },
   "outputs": [
    {
     "data": {
      "text/html": [
       "<div>\n",
       "<style scoped>\n",
       "    .dataframe tbody tr th:only-of-type {\n",
       "        vertical-align: middle;\n",
       "    }\n",
       "\n",
       "    .dataframe tbody tr th {\n",
       "        vertical-align: top;\n",
       "    }\n",
       "\n",
       "    .dataframe thead th {\n",
       "        text-align: right;\n",
       "    }\n",
       "</style>\n",
       "<table border=\"1\" class=\"dataframe\">\n",
       "  <thead>\n",
       "    <tr style=\"text-align: right;\">\n",
       "      <th></th>\n",
       "      <th>height</th>\n",
       "      <th>weight</th>\n",
       "      <th>gender</th>\n",
       "      <th>bmi</th>\n",
       "      <th>age</th>\n",
       "      <th>env_temp</th>\n",
       "      <th>rh</th>\n",
       "      <th>heart_rate</th>\n",
       "      <th>stress_level</th>\n",
       "      <th>skin_temp</th>\n",
       "      <th>eda</th>\n",
       "      <th>TC</th>\n",
       "      <th>TS</th>\n",
       "      <th>Clo</th>\n",
       "      <th>Act</th>\n",
       "    </tr>\n",
       "  </thead>\n",
       "  <tbody>\n",
       "  </tbody>\n",
       "</table>\n",
       "</div>"
      ],
      "text/plain": [
       "Empty DataFrame\n",
       "Columns: [height, weight, gender, bmi, age, env_temp, rh, heart_rate, stress_level, skin_temp, eda, TC, TS, Clo, Act]\n",
       "Index: []"
      ]
     },
     "execution_count": 25,
     "metadata": {},
     "output_type": "execute_result"
    }
   ],
   "source": [
    "df_sort_by_time[df_sort_by_time[['env_temp']].isna().env_temp]\n",
    "# no na in env_temp"
   ]
  },
  {
   "cell_type": "code",
   "execution_count": 26,
   "metadata": {
    "ExecuteTime": {
     "end_time": "2021-01-28T10:03:45.930983Z",
     "start_time": "2021-01-28T10:03:45.915985Z"
    }
   },
   "outputs": [],
   "source": [
    "imp = SimpleImputer(strategy='mean')\n",
    "df_imp = pd.DataFrame(imp.fit_transform(df_sort_by_time), columns=df_sort_by_time.columns)"
   ]
  },
  {
   "cell_type": "code",
   "execution_count": 27,
   "metadata": {
    "ExecuteTime": {
     "end_time": "2021-01-28T10:03:45.961983Z",
     "start_time": "2021-01-28T10:03:45.932983Z"
    },
    "scrolled": true
   },
   "outputs": [
    {
     "data": {
      "text/html": [
       "<div>\n",
       "<style scoped>\n",
       "    .dataframe tbody tr th:only-of-type {\n",
       "        vertical-align: middle;\n",
       "    }\n",
       "\n",
       "    .dataframe tbody tr th {\n",
       "        vertical-align: top;\n",
       "    }\n",
       "\n",
       "    .dataframe thead th {\n",
       "        text-align: right;\n",
       "    }\n",
       "</style>\n",
       "<table border=\"1\" class=\"dataframe\">\n",
       "  <thead>\n",
       "    <tr style=\"text-align: right;\">\n",
       "      <th></th>\n",
       "      <th>height</th>\n",
       "      <th>weight</th>\n",
       "      <th>gender</th>\n",
       "      <th>bmi</th>\n",
       "      <th>age</th>\n",
       "      <th>env_temp</th>\n",
       "      <th>rh</th>\n",
       "      <th>heart_rate</th>\n",
       "      <th>stress_level</th>\n",
       "      <th>skin_temp</th>\n",
       "      <th>eda</th>\n",
       "      <th>TC</th>\n",
       "      <th>TS</th>\n",
       "      <th>Clo</th>\n",
       "      <th>Act</th>\n",
       "    </tr>\n",
       "  </thead>\n",
       "  <tbody>\n",
       "    <tr>\n",
       "      <th>0</th>\n",
       "      <td>1.62</td>\n",
       "      <td>52.0</td>\n",
       "      <td>1.0</td>\n",
       "      <td>19.814053</td>\n",
       "      <td>26.0</td>\n",
       "      <td>83.779</td>\n",
       "      <td>36.837</td>\n",
       "      <td>97.0</td>\n",
       "      <td>58.000000</td>\n",
       "      <td>31.065000</td>\n",
       "      <td>8.696614</td>\n",
       "      <td>4.0</td>\n",
       "      <td>5.0</td>\n",
       "      <td>0.61</td>\n",
       "      <td>1.0</td>\n",
       "    </tr>\n",
       "    <tr>\n",
       "      <th>1</th>\n",
       "      <td>1.80</td>\n",
       "      <td>60.0</td>\n",
       "      <td>-1.0</td>\n",
       "      <td>18.518519</td>\n",
       "      <td>24.0</td>\n",
       "      <td>82.508</td>\n",
       "      <td>15.000</td>\n",
       "      <td>86.0</td>\n",
       "      <td>54.890244</td>\n",
       "      <td>30.246000</td>\n",
       "      <td>0.425823</td>\n",
       "      <td>3.0</td>\n",
       "      <td>6.0</td>\n",
       "      <td>0.74</td>\n",
       "      <td>1.0</td>\n",
       "    </tr>\n",
       "    <tr>\n",
       "      <th>2</th>\n",
       "      <td>1.71</td>\n",
       "      <td>64.0</td>\n",
       "      <td>-1.0</td>\n",
       "      <td>21.887076</td>\n",
       "      <td>27.0</td>\n",
       "      <td>85.667</td>\n",
       "      <td>26.673</td>\n",
       "      <td>97.5</td>\n",
       "      <td>57.000000</td>\n",
       "      <td>31.222000</td>\n",
       "      <td>1.089335</td>\n",
       "      <td>4.0</td>\n",
       "      <td>4.0</td>\n",
       "      <td>1.00</td>\n",
       "      <td>1.0</td>\n",
       "    </tr>\n",
       "    <tr>\n",
       "      <th>3</th>\n",
       "      <td>1.64</td>\n",
       "      <td>54.0</td>\n",
       "      <td>1.0</td>\n",
       "      <td>20.077335</td>\n",
       "      <td>24.0</td>\n",
       "      <td>83.467</td>\n",
       "      <td>29.681</td>\n",
       "      <td>79.0</td>\n",
       "      <td>13.000000</td>\n",
       "      <td>30.854000</td>\n",
       "      <td>0.270284</td>\n",
       "      <td>5.0</td>\n",
       "      <td>6.0</td>\n",
       "      <td>0.61</td>\n",
       "      <td>1.0</td>\n",
       "    </tr>\n",
       "    <tr>\n",
       "      <th>4</th>\n",
       "      <td>1.77</td>\n",
       "      <td>90.0</td>\n",
       "      <td>-1.0</td>\n",
       "      <td>28.727377</td>\n",
       "      <td>28.0</td>\n",
       "      <td>85.374</td>\n",
       "      <td>30.650</td>\n",
       "      <td>115.0</td>\n",
       "      <td>90.500000</td>\n",
       "      <td>31.772000</td>\n",
       "      <td>8.124499</td>\n",
       "      <td>1.0</td>\n",
       "      <td>6.0</td>\n",
       "      <td>1.00</td>\n",
       "      <td>1.0</td>\n",
       "    </tr>\n",
       "    <tr>\n",
       "      <th>...</th>\n",
       "      <td>...</td>\n",
       "      <td>...</td>\n",
       "      <td>...</td>\n",
       "      <td>...</td>\n",
       "      <td>...</td>\n",
       "      <td>...</td>\n",
       "      <td>...</td>\n",
       "      <td>...</td>\n",
       "      <td>...</td>\n",
       "      <td>...</td>\n",
       "      <td>...</td>\n",
       "      <td>...</td>\n",
       "      <td>...</td>\n",
       "      <td>...</td>\n",
       "      <td>...</td>\n",
       "    </tr>\n",
       "    <tr>\n",
       "      <th>73</th>\n",
       "      <td>1.68</td>\n",
       "      <td>62.0</td>\n",
       "      <td>-1.0</td>\n",
       "      <td>21.967120</td>\n",
       "      <td>29.0</td>\n",
       "      <td>76.507</td>\n",
       "      <td>26.880</td>\n",
       "      <td>83.5</td>\n",
       "      <td>4.000000</td>\n",
       "      <td>31.745000</td>\n",
       "      <td>1.934344</td>\n",
       "      <td>4.0</td>\n",
       "      <td>3.0</td>\n",
       "      <td>0.74</td>\n",
       "      <td>1.0</td>\n",
       "    </tr>\n",
       "    <tr>\n",
       "      <th>74</th>\n",
       "      <td>1.64</td>\n",
       "      <td>54.0</td>\n",
       "      <td>1.0</td>\n",
       "      <td>20.077335</td>\n",
       "      <td>24.0</td>\n",
       "      <td>88.810</td>\n",
       "      <td>30.999</td>\n",
       "      <td>88.0</td>\n",
       "      <td>50.000000</td>\n",
       "      <td>32.526000</td>\n",
       "      <td>4.887415</td>\n",
       "      <td>2.0</td>\n",
       "      <td>1.0</td>\n",
       "      <td>1.00</td>\n",
       "      <td>1.0</td>\n",
       "    </tr>\n",
       "    <tr>\n",
       "      <th>75</th>\n",
       "      <td>1.62</td>\n",
       "      <td>52.0</td>\n",
       "      <td>1.0</td>\n",
       "      <td>19.814053</td>\n",
       "      <td>26.0</td>\n",
       "      <td>86.981</td>\n",
       "      <td>34.340</td>\n",
       "      <td>94.0</td>\n",
       "      <td>44.000000</td>\n",
       "      <td>31.588000</td>\n",
       "      <td>2.129392</td>\n",
       "      <td>3.0</td>\n",
       "      <td>3.0</td>\n",
       "      <td>1.00</td>\n",
       "      <td>1.0</td>\n",
       "    </tr>\n",
       "    <tr>\n",
       "      <th>76</th>\n",
       "      <td>1.71</td>\n",
       "      <td>64.0</td>\n",
       "      <td>-1.0</td>\n",
       "      <td>21.887076</td>\n",
       "      <td>27.0</td>\n",
       "      <td>86.664</td>\n",
       "      <td>28.598</td>\n",
       "      <td>89.0</td>\n",
       "      <td>49.500000</td>\n",
       "      <td>32.161307</td>\n",
       "      <td>0.385849</td>\n",
       "      <td>4.0</td>\n",
       "      <td>3.0</td>\n",
       "      <td>0.74</td>\n",
       "      <td>1.0</td>\n",
       "    </tr>\n",
       "    <tr>\n",
       "      <th>77</th>\n",
       "      <td>1.77</td>\n",
       "      <td>90.0</td>\n",
       "      <td>-1.0</td>\n",
       "      <td>28.727377</td>\n",
       "      <td>28.0</td>\n",
       "      <td>85.194</td>\n",
       "      <td>17.180</td>\n",
       "      <td>109.0</td>\n",
       "      <td>86.500000</td>\n",
       "      <td>31.615000</td>\n",
       "      <td>11.110644</td>\n",
       "      <td>4.0</td>\n",
       "      <td>4.0</td>\n",
       "      <td>1.00</td>\n",
       "      <td>1.0</td>\n",
       "    </tr>\n",
       "  </tbody>\n",
       "</table>\n",
       "<p>78 rows × 15 columns</p>\n",
       "</div>"
      ],
      "text/plain": [
       "    height  weight  gender        bmi   age  env_temp      rh  heart_rate  \\\n",
       "0     1.62    52.0     1.0  19.814053  26.0    83.779  36.837        97.0   \n",
       "1     1.80    60.0    -1.0  18.518519  24.0    82.508  15.000        86.0   \n",
       "2     1.71    64.0    -1.0  21.887076  27.0    85.667  26.673        97.5   \n",
       "3     1.64    54.0     1.0  20.077335  24.0    83.467  29.681        79.0   \n",
       "4     1.77    90.0    -1.0  28.727377  28.0    85.374  30.650       115.0   \n",
       "..     ...     ...     ...        ...   ...       ...     ...         ...   \n",
       "73    1.68    62.0    -1.0  21.967120  29.0    76.507  26.880        83.5   \n",
       "74    1.64    54.0     1.0  20.077335  24.0    88.810  30.999        88.0   \n",
       "75    1.62    52.0     1.0  19.814053  26.0    86.981  34.340        94.0   \n",
       "76    1.71    64.0    -1.0  21.887076  27.0    86.664  28.598        89.0   \n",
       "77    1.77    90.0    -1.0  28.727377  28.0    85.194  17.180       109.0   \n",
       "\n",
       "    stress_level  skin_temp        eda   TC   TS   Clo  Act  \n",
       "0      58.000000  31.065000   8.696614  4.0  5.0  0.61  1.0  \n",
       "1      54.890244  30.246000   0.425823  3.0  6.0  0.74  1.0  \n",
       "2      57.000000  31.222000   1.089335  4.0  4.0  1.00  1.0  \n",
       "3      13.000000  30.854000   0.270284  5.0  6.0  0.61  1.0  \n",
       "4      90.500000  31.772000   8.124499  1.0  6.0  1.00  1.0  \n",
       "..           ...        ...        ...  ...  ...   ...  ...  \n",
       "73      4.000000  31.745000   1.934344  4.0  3.0  0.74  1.0  \n",
       "74     50.000000  32.526000   4.887415  2.0  1.0  1.00  1.0  \n",
       "75     44.000000  31.588000   2.129392  3.0  3.0  1.00  1.0  \n",
       "76     49.500000  32.161307   0.385849  4.0  3.0  0.74  1.0  \n",
       "77     86.500000  31.615000  11.110644  4.0  4.0  1.00  1.0  \n",
       "\n",
       "[78 rows x 15 columns]"
      ]
     },
     "execution_count": 27,
     "metadata": {},
     "output_type": "execute_result"
    }
   ],
   "source": [
    "df_imp"
   ]
  },
  {
   "cell_type": "code",
   "execution_count": 28,
   "metadata": {
    "ExecuteTime": {
     "end_time": "2021-01-28T10:03:45.977983Z",
     "start_time": "2021-01-28T10:03:45.962984Z"
    }
   },
   "outputs": [],
   "source": [
    "dfs = []\n",
    "for i in range(13):\n",
    "    dfs.append(df_imp.iloc[6 * i:6 * i + 6,:])"
   ]
  },
  {
   "cell_type": "code",
   "execution_count": 29,
   "metadata": {
    "ExecuteTime": {
     "end_time": "2021-01-28T10:03:46.055983Z",
     "start_time": "2021-01-28T10:03:45.978983Z"
    }
   },
   "outputs": [
    {
     "data": {
      "text/plain": [
       "[   height  weight  gender        bmi   age  env_temp      rh  heart_rate  \\\n",
       " 0    1.62    52.0     1.0  19.814053  26.0    83.779  36.837        97.0   \n",
       " 1    1.80    60.0    -1.0  18.518519  24.0    82.508  15.000        86.0   \n",
       " 2    1.71    64.0    -1.0  21.887076  27.0    85.667  26.673        97.5   \n",
       " 3    1.64    54.0     1.0  20.077335  24.0    83.467  29.681        79.0   \n",
       " 4    1.77    90.0    -1.0  28.727377  28.0    85.374  30.650       115.0   \n",
       " 5    1.68    62.0    -1.0  21.967120  29.0    80.139  26.901        80.0   \n",
       " \n",
       "    stress_level  skin_temp       eda   TC   TS   Clo  Act  \n",
       " 0     58.000000  31.065000  8.696614  4.0  5.0  0.61  1.0  \n",
       " 1     54.890244  30.246000  0.425823  3.0  6.0  0.74  1.0  \n",
       " 2     57.000000  31.222000  1.089335  4.0  4.0  1.00  1.0  \n",
       " 3     13.000000  30.854000  0.270284  5.0  6.0  0.61  1.0  \n",
       " 4     90.500000  31.772000  8.124499  1.0  6.0  1.00  1.0  \n",
       " 5     16.000000  32.161307  0.838267  3.0  6.0  1.00  1.0  ,\n",
       "     height  weight  gender        bmi   age  env_temp      rh  heart_rate  \\\n",
       " 6     1.62    52.0     1.0  19.814053  26.0    87.073  39.856      119.00   \n",
       " 7     1.71    64.0    -1.0  21.887076  27.0    87.573  29.728      100.00   \n",
       " 8     1.77    90.0    -1.0  28.727377  28.0    87.733  32.850      105.00   \n",
       " 9     1.68    62.0    -1.0  21.967120  29.0    83.779  35.520      100.00   \n",
       " 10    1.80    60.0    -1.0  18.518519  24.0    86.097  19.260       75.00   \n",
       " 11    1.64    54.0     1.0  20.077335  24.0    86.211  32.388       98.22   \n",
       " \n",
       "     stress_level  skin_temp        eda   TC   TS   Clo  Act  \n",
       " 6      54.890244  31.588000  14.716620  3.0  6.0  0.61  4.0  \n",
       " 7      54.890244  31.458000   3.072669  1.0  7.0  1.00  4.0  \n",
       " 8      54.890244  33.327000  13.977884  1.0  7.0  1.00  2.6  \n",
       " 9      54.890244  32.161307   4.534040  2.0  7.0  1.00  2.6  \n",
       " 10     54.890244  32.163000   1.876792  2.0  6.0  0.74  2.6  \n",
       " 11     45.000000  31.353000   1.830911  4.0  7.0  0.61  2.6  ,\n",
       "     height  weight  gender        bmi   age  env_temp      rh  heart_rate  \\\n",
       " 12    1.62    52.0     1.0  19.814053  26.0    88.947  40.446       122.0   \n",
       " 13    1.80    60.0    -1.0  18.518519  24.0    87.733  21.100       115.0   \n",
       " 14    1.71    64.0    -1.0  21.887076  27.0    90.239  32.509       121.5   \n",
       " 15    1.68    62.0    -1.0  21.967120  29.0    86.119  39.833        86.0   \n",
       " 16    1.77    90.0    -1.0  28.727377  28.0    87.915  36.940       107.0   \n",
       " 17    1.64    54.0     1.0  20.077335  24.0    88.214  35.534       115.0   \n",
       " \n",
       "     stress_level  skin_temp        eda   TC   TS   Clo  Act  \n",
       " 12     54.890244     31.772  13.199184  3.0  6.0  0.61  4.0  \n",
       " 13     54.890244     31.772   9.119182  4.0  4.0  0.74  2.6  \n",
       " 14     54.890244     32.500   4.562831  1.0  6.0  1.00  4.0  \n",
       " 15     40.000000     31.510   4.957593  3.0  5.0  1.00  2.6  \n",
       " 16     84.000000     33.636  19.219278  1.0  7.0  1.00  2.6  \n",
       " 17     54.890244     31.300   3.810682  4.0  5.0  0.61  2.6  ,\n",
       "     height  weight  gender        bmi   age  env_temp      rh  heart_rate  \\\n",
       " 18    1.64    54.0     1.0  20.077335  24.0    87.300  40.763       100.0   \n",
       " 19    1.68    62.0    -1.0  21.967120  29.0    85.849  33.703        74.0   \n",
       " 20    1.80    60.0    -1.0  18.518519  24.0    86.277  22.740       119.0   \n",
       " 21    1.71    64.0    -1.0  21.887076  27.0    90.657  36.503        89.0   \n",
       " 22    1.77    90.0    -1.0  28.727377  28.0    86.459  30.580        95.0   \n",
       " 23    1.62    52.0     1.0  19.814053  26.0    86.437  45.924       106.0   \n",
       " \n",
       "     stress_level  skin_temp        eda   TC   TS   Clo  Act  \n",
       " 18     73.000000     31.196   5.216038  5.0  5.0  0.74  2.6  \n",
       " 19      6.000000     30.933   2.674993  4.0  3.0  0.61  2.6  \n",
       " 20     54.890244     32.422  10.744312  4.0  4.0  1.00  2.6  \n",
       " 21     54.890244     32.422   5.111479  5.0  4.0  0.61  1.0  \n",
       " 22     63.000000     33.379  14.052045  2.0  4.0  0.61  1.0  \n",
       " 23     54.890244     31.641   7.708510  4.0  3.0  0.74  1.0  ,\n",
       "     height  weight  gender        bmi   age  env_temp      rh  heart_rate  \\\n",
       " 24    1.68    62.0    -1.0  21.967120  29.0    83.154  28.605        82.0   \n",
       " 25    1.80    60.0    -1.0  18.518519  24.0    85.014  26.210       124.0   \n",
       " 26    1.77    90.0    -1.0  28.727377  28.0    87.915  31.000        97.0   \n",
       " 27    1.71    64.0    -1.0  21.887076  27.0    90.565  38.946        79.0   \n",
       " 28    1.64    54.0     1.0  20.077335  24.0    86.391  43.915       107.0   \n",
       " 29    1.62    52.0     1.0  19.814053  26.0    83.779  45.179        96.5   \n",
       " \n",
       "     stress_level  skin_temp        eda   TC   TS   Clo  Act  \n",
       " 24     14.000000     30.563   2.674133  4.0  3.0  0.61  2.6  \n",
       " 25     54.890244     31.667  12.124664  4.0  4.0  1.00  2.6  \n",
       " 26     70.000000     33.713  13.866132  2.0  4.0  0.61  1.0  \n",
       " 27     20.000000     32.889   3.411078  3.0  3.0  0.61  1.0  \n",
       " 28     54.890244     31.327   9.444642  5.0  6.0  0.74  2.6  \n",
       " 29     54.890244     31.274   5.524036  3.0  2.0  0.74  1.0  ,\n",
       "     height  weight  gender        bmi   age  env_temp      rh  heart_rate  \\\n",
       " 30    1.62    52.0     1.0  19.814053  26.0    85.352  43.774       108.0   \n",
       " 31    1.80    60.0    -1.0  18.518519  24.0    85.554  26.010        91.0   \n",
       " 32    1.71    64.0    -1.0  21.887076  27.0    89.269  29.694        85.0   \n",
       " 33    1.77    90.0    -1.0  28.727377  28.0    85.554  20.440       108.0   \n",
       " 34    1.68    62.0    -1.0  21.967120  29.0    80.272  29.908       133.0   \n",
       " 35    1.64    54.0     1.0  20.077335  24.0    86.844  43.901        86.0   \n",
       " \n",
       "     stress_level  skin_temp        eda   TC   TS   Clo  Act  \n",
       " 30     81.000000     31.955   4.809601  3.0  3.0  1.00  2.6  \n",
       " 31     54.890244     32.435   6.234805  4.0  3.0  0.61  1.0  \n",
       " 32     54.890244     32.993   3.396911  4.0  5.0  0.74  2.6  \n",
       " 33     77.000000     32.993  11.785819  5.0  4.0  0.74  2.6  \n",
       " 34     54.890244     30.008   3.142502  3.0  5.0  0.74  4.0  \n",
       " 35     54.890244     31.405   9.015865  5.0  3.0  1.00  1.0  ,\n",
       "     height  weight  gender        bmi   age  env_temp      rh  heart_rate  \\\n",
       " 36    1.68    62.0    -1.0  21.967120  29.0    78.733  34.017       147.0   \n",
       " 37    1.71    64.0    -1.0  21.887076  27.0    89.407  37.523       103.0   \n",
       " 38    1.77    90.0    -1.0  28.727377  28.0    85.374  15.830        99.0   \n",
       " 39    1.64    54.0     1.0  20.077335  24.0    87.163  37.715        87.0   \n",
       " 40    1.62    52.0     1.0  19.814053  26.0    86.754  41.402       108.0   \n",
       " 41    1.80    60.0    -1.0  18.518519  24.0    86.459  23.260        92.0   \n",
       " \n",
       "     stress_level  skin_temp        eda   TC   TS   Clo  Act  \n",
       " 36     54.890244     31.405   7.147095  2.0  7.0  0.74  4.0  \n",
       " 37     74.000000     32.811   5.732126  2.0  6.0  0.74  2.6  \n",
       " 38     74.000000     32.967  12.022871  5.0  4.0  0.74  2.6  \n",
       " 39     45.000000     32.059   7.735351  5.0  5.0  1.00  1.0  \n",
       " 40     84.000000     32.241   4.962585  3.0  6.0  1.00  2.6  \n",
       " 41     72.000000     33.405   6.447540  3.0  5.0  0.61  2.6  ,\n",
       "     height  weight  gender        bmi   age  env_temp      rh  heart_rate  \\\n",
       " 42    1.71    64.0    -1.0  21.887076  27.0    89.685  33.659        97.0   \n",
       " 43    1.77    90.0    -1.0  28.727377  28.0    86.097  35.130        99.0   \n",
       " 44    1.68    62.0    -1.0  21.967120  29.0    79.655  34.332        96.0   \n",
       " 45    1.64    54.0     1.0  20.077335  24.0    90.055  36.542        85.0   \n",
       " 46    1.62    52.0     1.0  19.814053  26.0    88.306  38.612       103.0   \n",
       " 47    1.80    60.0    -1.0  18.518519  24.0    91.987  18.400        99.0   \n",
       " \n",
       "     stress_level  skin_temp        eda   TC   TS   Clo  Act  \n",
       " 42     54.890244     32.863   4.439410  3.0  5.0  1.00  1.0  \n",
       " 43     85.000000     33.276  11.515508  5.0  4.0  0.74  2.6  \n",
       " 44     54.890244     32.863  10.379622  3.0  6.0  1.00  1.0  \n",
       " 45     43.000000     32.811   7.138001  5.0  5.0  0.61  1.0  \n",
       " 46     62.000000     32.630   5.889015  4.0  5.0  0.61  1.0  \n",
       " 47     54.890244     33.199   6.666966  4.0  3.0  0.74  1.0  ,\n",
       "     height  weight  gender        bmi   age  env_temp      rh  heart_rate  \\\n",
       " 48    1.64    54.0     1.0  20.077335  24.0    89.638  32.449        85.0   \n",
       " 49    1.77    90.0    -1.0  28.727377  28.0    84.654  15.000       121.5   \n",
       " 50    1.71    64.0    -1.0  21.887076  27.0    89.454  32.829        81.0   \n",
       " 51    1.80    60.0    -1.0  18.518519  24.0    89.017  15.000        86.0   \n",
       " 52    1.62    52.0     1.0  19.814053  26.0    88.075  38.530        91.0   \n",
       " 53    1.68    62.0    -1.0  21.967120  29.0    79.480  34.189        88.0   \n",
       " \n",
       "     stress_level  skin_temp        eda   TC   TS   Clo  Act  \n",
       " 48     17.000000     32.630   6.399591  4.0  3.0  0.61  1.0  \n",
       " 49     54.890244     31.955  11.877829  2.0  7.0  0.74  4.0  \n",
       " 50     54.890244     32.396   3.558766  4.0  5.0  1.00  1.0  \n",
       " 51     71.000000     33.945   5.119660  3.0  6.0  0.74  1.0  \n",
       " 52     48.000000     32.111   4.639537  4.0  3.0  0.61  1.0  \n",
       " 53     54.890244     33.893  10.986173  2.0  7.0  1.00  1.0  ,\n",
       "     height  weight  gender        bmi   age  env_temp      rh  heart_rate  \\\n",
       " 54    1.62    52.0     1.0  19.814053  26.0    87.300  35.308      101.00   \n",
       " 55    1.71    64.0    -1.0  21.887076  27.0    89.085  31.451       76.00   \n",
       " 56    1.80    60.0    -1.0  18.518519  24.0    90.867  29.640       99.00   \n",
       " 57    1.64    54.0     1.0  20.077335  24.0    85.667  31.757       98.22   \n",
       " 58    1.68    62.0    -1.0  21.967120  29.0    78.602  31.083       88.00   \n",
       " 59    1.77    90.0    -1.0  28.727377  28.0    86.097  16.270      104.00   \n",
       " \n",
       "     stress_level  skin_temp        eda   TC   TS   Clo  Act  \n",
       " 54     54.890244     32.292   4.646609  2.0  2.0  0.74  2.6  \n",
       " 55     54.890244     32.085   0.746008  6.0  4.0  0.61  1.0  \n",
       " 56     87.000000     34.124   5.364546  5.0  4.0  1.00  2.6  \n",
       " 57     54.000000     32.267   6.153355  4.0  3.0  0.74  1.0  \n",
       " 58     54.890244     32.630   6.365433  5.0  3.0  0.61  1.0  \n",
       " 59     54.890244     31.693  13.723230  4.0  4.0  0.61  1.0  ,\n",
       "     height  weight  gender        bmi   age  env_temp      rh  heart_rate  \\\n",
       " 60    1.77    90.0    -1.0  28.727377  28.0    85.915  15.000       106.0   \n",
       " 61    1.64    54.0     1.0  20.077335  24.0    84.182  29.219        94.0   \n",
       " 62    1.71    64.0    -1.0  21.887076  27.0    88.671  30.504       106.0   \n",
       " 63    1.68    62.0    -1.0  21.967120  29.0    77.335  30.213       103.0   \n",
       " 64    1.62    52.0     1.0  19.814053  26.0    86.527  35.374        98.0   \n",
       " 65    1.80    60.0    -1.0  18.518519  24.0    86.641  15.000        87.0   \n",
       " \n",
       "     stress_level  skin_temp        eda   TC   TS   Clo  Act  \n",
       " 60     86.000000     32.474  12.256653  5.0  4.0  0.61  1.0  \n",
       " 61     73.000000     31.850   5.418105  4.0  2.0  0.74  1.0  \n",
       " 62     54.890244     31.458   0.815752  4.0  2.0  0.61  1.0  \n",
       " 63     54.890244     32.707   3.362897  4.0  3.0  0.61  1.0  \n",
       " 64     60.000000     31.929   3.644545  2.0  1.0  0.74  1.0  \n",
       " 65     64.000000     33.585   4.503452  4.0  2.0  1.00  1.0  ,\n",
       "     height  weight  gender        bmi   age  env_temp      rh  heart_rate  \\\n",
       " 66    1.62    52.0     1.0  19.814053  26.0    86.256  35.009       94.00   \n",
       " 67    1.68    62.0    -1.0  21.967120  29.0    77.596  24.570       98.22   \n",
       " 68    1.71    64.0    -1.0  21.887076  27.0    86.844  25.256      115.00   \n",
       " 69    1.64    54.0     1.0  20.077335  24.0    86.074  30.560       94.00   \n",
       " 70    1.77    90.0    -1.0  28.727377  28.0    85.374  25.480      120.00   \n",
       " 71    1.80    60.0    -1.0  18.518519  24.0    84.474  28.290       95.00   \n",
       " \n",
       "     stress_level  skin_temp        eda   TC   TS   Clo  Act  \n",
       " 66     51.000000     31.902   3.313086  4.0  3.0  1.00  1.0  \n",
       " 67     54.890244     32.604   2.685867  5.0  4.0  0.74  1.0  \n",
       " 68     54.890244     30.008   0.185854  3.0  5.0  0.74  4.0  \n",
       " 69     57.000000     32.163   5.077969  2.0  1.0  1.00  1.0  \n",
       " 70     54.890244     31.588  11.623549  5.0  3.0  1.00  4.0  \n",
       " 71     54.890244     32.215   4.607007  2.0  2.0  0.61  4.0  ,\n",
       "     height  weight  gender        bmi   age  env_temp      rh  heart_rate  \\\n",
       " 72    1.80    60.0    -1.0  18.518519  24.0    86.823  39.470        56.0   \n",
       " 73    1.68    62.0    -1.0  21.967120  29.0    76.507  26.880        83.5   \n",
       " 74    1.64    54.0     1.0  20.077335  24.0    88.810  30.999        88.0   \n",
       " 75    1.62    52.0     1.0  19.814053  26.0    86.981  34.340        94.0   \n",
       " 76    1.71    64.0    -1.0  21.887076  27.0    86.664  28.598        89.0   \n",
       " 77    1.77    90.0    -1.0  28.727377  28.0    85.194  17.180       109.0   \n",
       " \n",
       "     stress_level  skin_temp        eda   TC   TS   Clo  Act  \n",
       " 72           2.0  32.837000   4.495317  5.0  4.0  0.61  1.0  \n",
       " 73           4.0  31.745000   1.934344  4.0  3.0  0.74  1.0  \n",
       " 74          50.0  32.526000   4.887415  2.0  1.0  1.00  1.0  \n",
       " 75          44.0  31.588000   2.129392  3.0  3.0  1.00  1.0  \n",
       " 76          49.5  32.161307   0.385849  4.0  3.0  0.74  1.0  \n",
       " 77          86.5  31.615000  11.110644  4.0  4.0  1.00  1.0  ]"
      ]
     },
     "execution_count": 29,
     "metadata": {},
     "output_type": "execute_result"
    }
   ],
   "source": [
    "dfs"
   ]
  },
  {
   "cell_type": "markdown",
   "metadata": {},
   "source": [
    "## exmine min"
   ]
  },
  {
   "cell_type": "code",
   "execution_count": 30,
   "metadata": {
    "ExecuteTime": {
     "end_time": "2021-01-28T10:03:46.070983Z",
     "start_time": "2021-01-28T10:03:46.056984Z"
    }
   },
   "outputs": [],
   "source": [
    "X_columns = ['height', 'weight', 'gender', 'bmi', 'age', 'rh', \\\n",
    "                      'heart_rate', 'stress_level', 'skin_temp', 'eda', \\\n",
    "                      'Clo', 'Act']"
   ]
  },
  {
   "cell_type": "code",
   "execution_count": 31,
   "metadata": {
    "ExecuteTime": {
     "end_time": "2021-01-28T10:03:46.582985Z",
     "start_time": "2021-01-28T10:03:46.071984Z"
    }
   },
   "outputs": [],
   "source": [
    "minTs = []\n",
    "for df in dfs:\n",
    "    X = df[X_columns]\n",
    "    y = rfr_min.predict(X)\n",
    "    y = np.array([convertFahrenheitToCelsius(f) for f in y])\n",
    "    minTs.append(y)"
   ]
  },
  {
   "cell_type": "code",
   "execution_count": 32,
   "metadata": {
    "ExecuteTime": {
     "end_time": "2021-01-28T10:03:46.598494Z",
     "start_time": "2021-01-28T10:03:46.583984Z"
    }
   },
   "outputs": [
    {
     "data": {
      "text/plain": [
       "[array([23.68871181, 24.13334236, 23.28875903, 24.15342083, 23.41481736,\n",
       "        23.14443542]),\n",
       " array([24.46612014, 23.93509444, 24.014125  , 23.83195625, 24.96646875,\n",
       "        25.09142292]),\n",
       " array([24.4398    , 24.88271319, 23.88707014, 23.80060764, 23.81703889,\n",
       "        25.11992222]),\n",
       " array([24.63261806, 24.54895   , 24.75735139, 23.70207847, 23.80696111,\n",
       "        23.27901528]),\n",
       " array([24.56517708, 24.68382014, 23.68819375, 23.79120694, 24.60770625,\n",
       "        23.31553403]),\n",
       " array([23.63471458, 24.51091667, 23.89166875, 24.05070278, 24.10372708,\n",
       "        23.47079931]),\n",
       " array([24.02761389, 23.83337778, 24.06745694, 23.69293611, 23.80258472,\n",
       "        25.42400069]),\n",
       " array([23.23329861, 24.05533264, 23.21234653, 24.31001875, 23.727475  ,\n",
       "        24.17499097]),\n",
       " array([24.29526528, 24.17477569, 23.22842083, 23.99484722, 23.61070625,\n",
       "        23.00417778]),\n",
       " array([24.03264444, 23.62505139, 24.5052625 , 24.15108125, 23.65722986,\n",
       "        23.96429722]),\n",
       " array([23.87807778, 23.84083403, 23.71184861, 23.67457292, 23.37385   ,\n",
       "        23.79201875]),\n",
       " array([23.32459444, 23.29623472, 24.2120875 , 23.84734653, 24.14248333,\n",
       "        25.47925972]),\n",
       " array([24.66824653, 23.14383264, 23.90032222, 23.37325208, 23.28931597,\n",
       "        23.44068542])]"
      ]
     },
     "execution_count": 32,
     "metadata": {},
     "output_type": "execute_result"
    }
   ],
   "source": [
    "minTs"
   ]
  },
  {
   "cell_type": "markdown",
   "metadata": {},
   "source": [
    "## exmine max"
   ]
  },
  {
   "cell_type": "code",
   "execution_count": 33,
   "metadata": {
    "ExecuteTime": {
     "end_time": "2021-01-28T10:03:47.507015Z",
     "start_time": "2021-01-28T10:03:46.599496Z"
    }
   },
   "outputs": [],
   "source": [
    "maxTs = []\n",
    "for df in dfs:\n",
    "    X = df[X_columns]\n",
    "    y = rfr_max.predict(X)\n",
    "    y = np.array([convertFahrenheitToCelsius(f) for f in y])\n",
    "    maxTs.append(y)"
   ]
  },
  {
   "cell_type": "code",
   "execution_count": 34,
   "metadata": {
    "ExecuteTime": {
     "end_time": "2021-01-28T10:03:47.523015Z",
     "start_time": "2021-01-28T10:03:47.508016Z"
    }
   },
   "outputs": [
    {
     "data": {
      "text/plain": [
       "[array([26.27703074, 27.90420593, 27.58898963, 25.86562815, 27.75616333,\n",
       "        27.55031222]),\n",
       " array([26.27081926, 27.61381333, 27.70346519, 27.59594889, 28.18205519,\n",
       "        26.25948741]),\n",
       " array([26.28015037, 28.0669037 , 27.67353741, 27.6048    , 27.80229148,\n",
       "        26.27197148]),\n",
       " array([26.30353593, 27.57229333, 28.12122963, 27.65460185, 27.73382185,\n",
       "        26.1963337 ]),\n",
       " array([27.57418037, 28.0790263 , 27.80899667, 27.68873111, 26.11608444,\n",
       "        26.14217444]),\n",
       " array([26.33746926, 28.06146481, 27.71702556, 27.75545481, 27.55567296,\n",
       "        26.35920815]),\n",
       " array([27.56627593, 27.69126   , 27.74897704, 26.57487889, 26.51448556,\n",
       "        28.14796222]),\n",
       " array([27.66956963, 27.73663296, 27.64456333, 26.42571148, 26.37172963,\n",
       "        28.04690519]),\n",
       " array([26.41241519, 27.70911   , 27.63543778, 28.15354074, 26.3046863 ,\n",
       "        27.70760556]),\n",
       " array([26.34811519, 27.5431437 , 28.18453333, 26.37030963, 27.63393519,\n",
       "        27.69298556]),\n",
       " array([27.74323111, 26.3578463 , 27.5529163 , 27.61451815, 26.34939111,\n",
       "        28.14661444]),\n",
       " array([26.54670444, 27.60679963, 27.37625111, 26.56066741, 27.70209222,\n",
       "        28.08405481]),\n",
       " array([28.28819148, 27.60515519, 26.59715481, 26.51733185, 27.46417296,\n",
       "        27.74242407])]"
      ]
     },
     "execution_count": 34,
     "metadata": {},
     "output_type": "execute_result"
    }
   ],
   "source": [
    "maxTs"
   ]
  },
  {
   "cell_type": "markdown",
   "metadata": {},
   "source": [
    "## compute group optimal tempreture"
   ]
  },
  {
   "cell_type": "markdown",
   "metadata": {},
   "source": [
    "### use sensitive first model"
   ]
  },
  {
   "cell_type": "code",
   "execution_count": 35,
   "metadata": {
    "ExecuteTime": {
     "end_time": "2021-01-28T10:03:47.539015Z",
     "start_time": "2021-01-28T10:03:47.525018Z"
    }
   },
   "outputs": [
    {
     "name": "stdout",
     "output_type": "stream",
     "text": [
      "sensitive first model\n",
      "sensitive first model\n",
      "sensitive first model\n",
      "sensitive first model\n",
      "sensitive first model\n",
      "sensitive first model\n",
      "sensitive first model\n",
      "sensitive first model\n",
      "sensitive first model\n",
      "sensitive first model\n",
      "sensitive first model\n",
      "sensitive first model\n",
      "sensitive first model\n"
     ]
    }
   ],
   "source": [
    "ts_sensitive_model = []\n",
    "for i in range(13):\n",
    "    minT = minTs[i]\n",
    "    maxT = maxTs[i]\n",
    "    ogt = group_tempreture_model.OptimalGroupTempreture(minT, maxT)\n",
    "    t = ogt.getTempreture(model='sensitive first')\n",
    "    ts_sensitive_model.append(t)"
   ]
  },
  {
   "cell_type": "code",
   "execution_count": 36,
   "metadata": {
    "ExecuteTime": {
     "end_time": "2021-01-28T10:03:47.555029Z",
     "start_time": "2021-01-28T10:03:47.540016Z"
    }
   },
   "outputs": [
    {
     "data": {
      "text/plain": [
       "[25.30376415379026,\n",
       " 25.753029666418357,\n",
       " 25.741739211242777,\n",
       " 25.643586367871546,\n",
       " 25.596346971861532,\n",
       " 25.561920305108814,\n",
       " 25.75415580040059,\n",
       " 25.50299207278731,\n",
       " 25.470489310534266,\n",
       " 25.569614941431553,\n",
       " 25.434084101785935,\n",
       " 25.71575232011872,\n",
       " 25.478485957683315]"
      ]
     },
     "execution_count": 36,
     "metadata": {},
     "output_type": "execute_result"
    }
   ],
   "source": [
    "ts_sensitive_model"
   ]
  },
  {
   "cell_type": "markdown",
   "metadata": {},
   "source": [
    "### use otd model"
   ]
  },
  {
   "cell_type": "code",
   "execution_count": 37,
   "metadata": {
    "ExecuteTime": {
     "end_time": "2021-01-28T10:03:47.586028Z",
     "start_time": "2021-01-28T10:03:47.556030Z"
    }
   },
   "outputs": [
    {
     "name": "stdout",
     "output_type": "stream",
     "text": [
      "otd model\n",
      "otd model\n",
      "otd model\n",
      "otd model\n",
      "otd model\n",
      "otd model\n",
      "otd model\n",
      "otd model\n",
      "otd model\n",
      "otd model\n",
      "otd model\n",
      "otd model\n",
      "otd model\n"
     ]
    }
   ],
   "source": [
    "ts_otd_model = []\n",
    "for i in range(13):\n",
    "    minT = minTs[i]\n",
    "    maxT = maxTs[i]\n",
    "    ogt = group_tempreture_model.OptimalGroupTempreture(minT, maxT)\n",
    "    t = ogt.getTempreture(model='otd model', ppd=0.5)\n",
    "    ts_otd_model.append(t)"
   ]
  },
  {
   "cell_type": "code",
   "execution_count": 38,
   "metadata": {
    "ExecuteTime": {
     "end_time": "2021-01-28T10:03:47.602047Z",
     "start_time": "2021-01-28T10:03:47.587029Z"
    }
   },
   "outputs": [
    {
     "data": {
      "text/plain": [
       "[25.0,\n",
       " 25.650000000000002,\n",
       " 25.7,\n",
       " 25.45,\n",
       " 25.4,\n",
       " 25.450000000000003,\n",
       " 26.0,\n",
       " 25.35,\n",
       " 25.299999999999997,\n",
       " 25.450000000000003,\n",
       " 25.1,\n",
       " 26.0,\n",
       " 25.599999999999998]"
      ]
     },
     "execution_count": 38,
     "metadata": {},
     "output_type": "execute_result"
    }
   ],
   "source": [
    "ts_otd_model"
   ]
  },
  {
   "cell_type": "markdown",
   "metadata": {},
   "source": [
    "### auto judge which model to use"
   ]
  },
  {
   "cell_type": "code",
   "execution_count": 39,
   "metadata": {
    "ExecuteTime": {
     "end_time": "2021-01-28T10:03:47.634048Z",
     "start_time": "2021-01-28T10:03:47.604047Z"
    }
   },
   "outputs": [
    {
     "name": "stdout",
     "output_type": "stream",
     "text": [
      "sensitive first model\n",
      "sensitive people percentage: 0.16666666666666666\n",
      "sensitive first model\n",
      "sensitive people percentage: 0.3333333333333333\n",
      "sensitive first model\n",
      "sensitive people percentage: 0.3333333333333333\n",
      "sensitive first model\n",
      "sensitive people percentage: 0.16666666666666666\n",
      "sensitive first model\n",
      "sensitive people percentage: 0.16666666666666666\n",
      "otd model\n",
      "otd model\n",
      "otd model\n",
      "otd model\n",
      "otd model\n",
      "otd model\n",
      "otd model\n",
      "otd model\n"
     ]
    }
   ],
   "source": [
    "ts_auto = []\n",
    "for i in range(13):\n",
    "    minT = minTs[i]\n",
    "    maxT = maxTs[i]\n",
    "    ogt = group_tempreture_model.OptimalGroupTempreture(minT, maxT)\n",
    "    t = ogt.getTempreture(sensitiveRange=2)\n",
    "    ts_auto.append(t)"
   ]
  },
  {
   "cell_type": "code",
   "execution_count": 40,
   "metadata": {
    "ExecuteTime": {
     "end_time": "2021-01-28T10:03:47.650048Z",
     "start_time": "2021-01-28T10:03:47.635048Z"
    }
   },
   "outputs": [
    {
     "data": {
      "text/plain": [
       "[25.30376415379026,\n",
       " 25.753029666418357,\n",
       " 25.741739211242777,\n",
       " 25.643586367871546,\n",
       " 25.596346971861532,\n",
       " 25.450000000000003,\n",
       " 26.0,\n",
       " 25.35,\n",
       " 25.299999999999997,\n",
       " 25.450000000000003,\n",
       " 25.1,\n",
       " 26.0,\n",
       " 25.599999999999998]"
      ]
     },
     "execution_count": 40,
     "metadata": {},
     "output_type": "execute_result"
    }
   ],
   "source": [
    "ts_auto"
   ]
  },
  {
   "cell_type": "markdown",
   "metadata": {},
   "source": [
    "# draw"
   ]
  },
  {
   "cell_type": "code",
   "execution_count": 41,
   "metadata": {
    "ExecuteTime": {
     "end_time": "2021-01-28T10:03:47.666045Z",
     "start_time": "2021-01-28T10:03:47.651048Z"
    }
   },
   "outputs": [],
   "source": [
    "time_start = datetime.datetime.strptime('12/09/20 13:20:00', '%m/%d/%y %H:%M:%S')\n",
    "time_end = datetime.datetime.strptime('12/09/20 15:20:00', '%m/%d/%y %H:%M:%S')\n",
    "\n",
    "t_list = []\n",
    "\n",
    "t = time_start\n",
    "while t <= time_end:\n",
    "    t_list.append(t)\n",
    "    t = t + pd.Timedelta('10min')\n",
    "\n",
    "t_Series = pd.Series(t_list)"
   ]
  },
  {
   "cell_type": "code",
   "execution_count": 42,
   "metadata": {
    "ExecuteTime": {
     "end_time": "2021-01-28T10:03:47.842048Z",
     "start_time": "2021-01-28T10:03:47.667048Z"
    }
   },
   "outputs": [
    {
     "data": {
      "image/png": "[encoded data removed]",
      "text/plain": [
       "<Figure size 1080x720 with 1 Axes>"
      ]
     },
     "metadata": {
      "needs_background": "light"
     },
     "output_type": "display_data"
    }
   ],
   "source": [
    "plt.plot(t_Series, ts_sensitive_model, marker='o', label=\"tempreture computed by sensitive first model\")\n",
    "plt.plot(t_Series, ts_otd_model, marker='o', label=\"tempreture computed by otd model\")\n",
    "plt.plot(t_Series, ts_auto, marker='o', label=\"tempreture computed by auto seleceted model\")\n",
    "\n",
    "plt.xlabel('time (date hour:minute)')\n",
    "plt.ylabel('Tempreture (°C)')\n",
    "plt.legend(loc='upper left')\n",
    "plt.grid(True)\n",
    "\n",
    "plt.show()"
   ]
  },
  {
   "cell_type": "code",
   "execution_count": 43,
   "metadata": {
    "ExecuteTime": {
     "end_time": "2021-01-28T10:03:48.001049Z",
     "start_time": "2021-01-28T10:03:47.843047Z"
    }
   },
   "outputs": [
    {
     "data": {
      "image/png": "[encoded data removed]",
      "text/plain": [
       "<Figure size 1080x720 with 1 Axes>"
      ]
     },
     "metadata": {
      "needs_background": "light"
     },
     "output_type": "display_data"
    }
   ],
   "source": [
    "plt.plot(t_Series, ts_env_temp, marker='o', label=\"enviroment tempreture\")\n",
    "plt.plot(t_Series, ts_sensitive_model, marker='o', label=\"tempreture computed by sensitive first model\")\n",
    "plt.plot(t_Series, ts_otd_model, marker='o', label=\"tempreture computed by otd model\")\n",
    "plt.plot(t_Series, ts_auto, marker='o', label=\"tempreture computed by auto seleceted model\")\n",
    "\n",
    "plt.xlabel('time (date hour:minute)')\n",
    "plt.ylabel('Tempreture (°C)')\n",
    "plt.legend(loc='lower left')\n",
    "plt.grid(True)\n",
    "\n",
    "plt.show()"
   ]
  },
  {
   "cell_type": "code",
   "execution_count": 44,
   "metadata": {
    "ExecuteTime": {
     "end_time": "2021-01-28T10:03:49.372077Z",
     "start_time": "2021-01-28T10:03:48.002049Z"
    },
    "scrolled": false
   },
   "outputs": [
    {
     "data": {
      "image/png": "[encoded data removed]",
      "text/plain": [
       "<Figure size 1080x720 with 1 Axes>"
      ]
     },
     "metadata": {
      "needs_background": "light"
     },
     "output_type": "display_data"
    },
    {
     "data": {
      "image/png": "[encoded data removed]",
      "text/plain": [
       "<Figure size 1080x720 with 1 Axes>"
      ]
     },
     "metadata": {
      "needs_background": "light"
     },
     "output_type": "display_data"
    },
    {
     "data": {
      "image/png": "[encoded data removed]",
      "text/plain": [
       "<Figure size 1080x720 with 1 Axes>"
      ]
     },
     "metadata": {
      "needs_background": "light"
     },
     "output_type": "display_data"
    },
    {
     "data": {
      "image/png": "[encoded data removed]",
      "text/plain": [
       "<Figure size 1080x720 with 1 Axes>"
      ]
     },
     "metadata": {
      "needs_background": "light"
     },
     "output_type": "display_data"
    },
    {
     "data": {
      "image/png": "[encoded data removed]",
      "text/plain": [
       "<Figure size 1080x720 with 1 Axes>"
      ]
     },
     "metadata": {
      "needs_background": "light"
     },
     "output_type": "display_data"
    },
    {
     "data": {
      "image/png": "[encoded data removed]",
      "text/plain": [
       "<Figure size 1080x720 with 1 Axes>"
      ]
     },
     "metadata": {
      "needs_background": "light"
     },
     "output_type": "display_data"
    },
    {
     "data": {
      "image/png": "[encoded data removed]",
      "text/plain": [
       "<Figure size 1080x720 with 1 Axes>"
      ]
     },
     "metadata": {
      "needs_background": "light"
     },
     "output_type": "display_data"
    },
    {
     "data": {
      "image/png": "[encoded data removed]",
      "text/plain": [
       "<Figure size 1080x720 with 1 Axes>"
      ]
     },
     "metadata": {
      "needs_background": "light"
     },
     "output_type": "display_data"
    },
    {
     "data": {
      "image/png": "[encoded data removed]",
      "text/plain": [
       "<Figure size 1080x720 with 1 Axes>"
      ]
     },
     "metadata": {
      "needs_background": "light"
     },
     "output_type": "display_data"
    },
    {
     "data": {
      "image/png": "[encoded data removed]",
      "text/plain": [
       "<Figure size 1080x720 with 1 Axes>"
      ]
     },
     "metadata": {
      "needs_background": "light"
     },
     "output_type": "display_data"
    },
    {
     "data": {
      "image/png": "[encoded data removed]",
      "text/plain": [
       "<Figure size 1080x720 with 1 Axes>"
      ]
     },
     "metadata": {
      "needs_background": "light"
     },
     "output_type": "display_data"
    },
    {
     "data": {
      "image/png": "[encoded data removed]",
      "text/plain": [
       "<Figure size 1080x720 with 1 Axes>"
      ]
     },
     "metadata": {
      "needs_background": "light"
     },
     "output_type": "display_data"
    },
    {
     "data": {
      "image/png": "[encoded data removed]",
      "text/plain": [
       "<Figure size 1080x720 with 1 Axes>"
      ]
     },
     "metadata": {
      "needs_background": "light"
     },
     "output_type": "display_data"
    }
   ],
   "source": [
    "# draw comfort zone\n",
    "for i in range(len(minTs)):\n",
    "    plt.ylim(-1, 6)\n",
    "    for j in range(len(minTs[0])):\n",
    "        plt.plot([minTs[i][j], maxTs[i][j]],[j, j])\n",
    "    # tag comfort zone min $ max\n",
    "    for j in range(len(minTs[0])):\n",
    "        plt.text(minTs[i][j]-0.2, j+0.1, \"%.2f\" % minTs[i][j])\n",
    "        plt.text(maxTs[i][j]-0.2, j+0.1, \"%.2f\" % maxTs[i][j])\n",
    "    plt.show()"
   ]
  },
  {
   "cell_type": "code",
   "execution_count": null,
   "metadata": {},
   "outputs": [],
   "source": []
  },
  {
   "cell_type": "code",
   "execution_count": null,
   "metadata": {},
   "outputs": [],
   "source": []
  },
  {
   "cell_type": "code",
   "execution_count": null,
   "metadata": {},
   "outputs": [],
   "source": []
  },
  {
   "cell_type": "code",
   "execution_count": null,
   "metadata": {},
   "outputs": [],
   "source": []
  }
 ],
 "metadata": {
  "kernelspec": {
   "display_name": "Python [conda env:ml]",
   "language": "python",
   "name": "conda-env-ml-py"
  },
  "language_info": {
   "codemirror_mode": {
    "name": "ipython",
    "version": 3
   },
   "file_extension": ".py",
   "mimetype": "text/x-python",
   "name": "python",
   "nbconvert_exporter": "python",
   "pygments_lexer": "ipython3",
   "version": "3.6.10"
  },
  "toc": {
   "base_numbering": 1,
   "nav_menu": {},
   "number_sections": true,
   "sideBar": true,
   "skip_h1_title": false,
   "title_cell": "Table of Contents",
   "title_sidebar": "Contents",
   "toc_cell": false,
   "toc_position": {},
   "toc_section_display": true,
   "toc_window_display": true
  }
 },
 "nbformat": 4,
 "nbformat_minor": 2
}
