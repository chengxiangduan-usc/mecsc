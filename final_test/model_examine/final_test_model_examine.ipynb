{
 "cells": [
  {
   "cell_type": "code",
   "execution_count": 1,
   "metadata": {
    "ExecuteTime": {
     "end_time": "2021-01-13T07:07:32.722479Z",
     "start_time": "2021-01-13T07:07:32.713480Z"
    }
   },
   "outputs": [],
   "source": [
    "import random\n",
    "import datetime"
   ]
  },
  {
   "cell_type": "code",
   "execution_count": 2,
   "metadata": {
    "ExecuteTime": {
     "end_time": "2021-01-13T07:07:33.718478Z",
     "start_time": "2021-01-13T07:07:32.723479Z"
    }
   },
   "outputs": [],
   "source": [
    "%matplotlib inline\n",
    "import pandas as pd\n",
    "import numpy as np\n",
    "\n",
    "import matplotlib.pyplot as plt\n",
    "import seaborn as sns"
   ]
  },
  {
   "cell_type": "code",
   "execution_count": 3,
   "metadata": {
    "ExecuteTime": {
     "end_time": "2021-01-13T07:07:34.017996Z",
     "start_time": "2021-01-13T07:07:33.720479Z"
    }
   },
   "outputs": [],
   "source": [
    "# from sklearn.ensemble import RandomForestRegressor\n",
    "from sklearn.impute import SimpleImputer\n",
    "from sklearn.metrics import mean_squared_error, r2_score\n",
    "\n",
    "from sklearn import tree\n",
    "import joblib\n",
    "\n",
    "import scipy"
   ]
  },
  {
   "cell_type": "code",
   "execution_count": 4,
   "metadata": {
    "ExecuteTime": {
     "end_time": "2021-01-13T07:07:34.033996Z",
     "start_time": "2021-01-13T07:07:34.020000Z"
    }
   },
   "outputs": [],
   "source": [
    "plt.rcParams[\"figure.figsize\"] = (15, 10)"
   ]
  },
  {
   "cell_type": "markdown",
   "metadata": {},
   "source": [
    "## load random forest model"
   ]
  },
  {
   "cell_type": "code",
   "execution_count": 5,
   "metadata": {
    "ExecuteTime": {
     "end_time": "2021-01-13T07:07:34.049996Z",
     "start_time": "2021-01-13T07:07:34.035998Z"
    }
   },
   "outputs": [],
   "source": [
    "filename_min = './min_random_forest_model.sav'\n",
    "filename_max = './max_random_forest_model.sav'"
   ]
  },
  {
   "cell_type": "code",
   "execution_count": 6,
   "metadata": {
    "ExecuteTime": {
     "end_time": "2021-01-13T07:07:34.381510Z",
     "start_time": "2021-01-13T07:07:34.050997Z"
    }
   },
   "outputs": [],
   "source": [
    "rfr_min = joblib.load(filename_min)\n",
    "rfr_max = joblib.load(filename_max)"
   ]
  },
  {
   "cell_type": "markdown",
   "metadata": {},
   "source": [
    "## create test data"
   ]
  },
  {
   "cell_type": "markdown",
   "metadata": {},
   "source": [
    "### load env_temp data"
   ]
  },
  {
   "cell_type": "code",
   "execution_count": 7,
   "metadata": {
    "ExecuteTime": {
     "end_time": "2021-01-13T07:07:34.397510Z",
     "start_time": "2021-01-13T07:07:34.383512Z"
    }
   },
   "outputs": [],
   "source": [
    "env_temp_file_path = '../data/hobo/env_05_processed.csv'\n",
    "df_env_temp = pd.read_csv(env_temp_file_path)"
   ]
  },
  {
   "cell_type": "code",
   "execution_count": 8,
   "metadata": {
    "ExecuteTime": {
     "end_time": "2021-01-13T07:07:34.413511Z",
     "start_time": "2021-01-13T07:07:34.399511Z"
    }
   },
   "outputs": [
    {
     "data": {
      "text/html": [
       "<div>\n",
       "<style scoped>\n",
       "    .dataframe tbody tr th:only-of-type {\n",
       "        vertical-align: middle;\n",
       "    }\n",
       "\n",
       "    .dataframe tbody tr th {\n",
       "        vertical-align: top;\n",
       "    }\n",
       "\n",
       "    .dataframe thead th {\n",
       "        text-align: right;\n",
       "    }\n",
       "</style>\n",
       "<table border=\"1\" class=\"dataframe\">\n",
       "  <thead>\n",
       "    <tr style=\"text-align: right;\">\n",
       "      <th></th>\n",
       "      <th>time</th>\n",
       "      <th>env_temp</th>\n",
       "    </tr>\n",
       "  </thead>\n",
       "  <tbody>\n",
       "    <tr>\n",
       "      <th>0</th>\n",
       "      <td>2020-12-09 11:45:00</td>\n",
       "      <td>69.557</td>\n",
       "    </tr>\n",
       "    <tr>\n",
       "      <th>1</th>\n",
       "      <td>2020-12-09 11:46:00</td>\n",
       "      <td>69.600</td>\n",
       "    </tr>\n",
       "    <tr>\n",
       "      <th>2</th>\n",
       "      <td>2020-12-09 11:47:00</td>\n",
       "      <td>69.685</td>\n",
       "    </tr>\n",
       "    <tr>\n",
       "      <th>3</th>\n",
       "      <td>2020-12-09 11:48:00</td>\n",
       "      <td>69.728</td>\n",
       "    </tr>\n",
       "    <tr>\n",
       "      <th>4</th>\n",
       "      <td>2020-12-09 11:49:00</td>\n",
       "      <td>69.771</td>\n",
       "    </tr>\n",
       "    <tr>\n",
       "      <th>...</th>\n",
       "      <td>...</td>\n",
       "      <td>...</td>\n",
       "    </tr>\n",
       "    <tr>\n",
       "      <th>221</th>\n",
       "      <td>2020-12-09 15:26:00</td>\n",
       "      <td>70.803</td>\n",
       "    </tr>\n",
       "    <tr>\n",
       "      <th>222</th>\n",
       "      <td>2020-12-09 15:27:00</td>\n",
       "      <td>70.930</td>\n",
       "    </tr>\n",
       "    <tr>\n",
       "      <th>223</th>\n",
       "      <td>2020-12-09 15:28:00</td>\n",
       "      <td>71.060</td>\n",
       "    </tr>\n",
       "    <tr>\n",
       "      <th>224</th>\n",
       "      <td>2020-12-09 15:29:00</td>\n",
       "      <td>71.060</td>\n",
       "    </tr>\n",
       "    <tr>\n",
       "      <th>225</th>\n",
       "      <td>2020-12-09 15:30:00</td>\n",
       "      <td>71.146</td>\n",
       "    </tr>\n",
       "  </tbody>\n",
       "</table>\n",
       "<p>226 rows × 2 columns</p>\n",
       "</div>"
      ],
      "text/plain": [
       "                    time  env_temp\n",
       "0    2020-12-09 11:45:00    69.557\n",
       "1    2020-12-09 11:46:00    69.600\n",
       "2    2020-12-09 11:47:00    69.685\n",
       "3    2020-12-09 11:48:00    69.728\n",
       "4    2020-12-09 11:49:00    69.771\n",
       "..                   ...       ...\n",
       "221  2020-12-09 15:26:00    70.803\n",
       "222  2020-12-09 15:27:00    70.930\n",
       "223  2020-12-09 15:28:00    71.060\n",
       "224  2020-12-09 15:29:00    71.060\n",
       "225  2020-12-09 15:30:00    71.146\n",
       "\n",
       "[226 rows x 2 columns]"
      ]
     },
     "execution_count": 8,
     "metadata": {},
     "output_type": "execute_result"
    }
   ],
   "source": [
    "df_env_temp"
   ]
  },
  {
   "cell_type": "code",
   "execution_count": 9,
   "metadata": {
    "ExecuteTime": {
     "end_time": "2021-01-13T07:07:34.429511Z",
     "start_time": "2021-01-13T07:07:34.415511Z"
    }
   },
   "outputs": [],
   "source": [
    "df_env_temp.time = pd.to_datetime(df_env_temp.time)"
   ]
  },
  {
   "cell_type": "code",
   "execution_count": 10,
   "metadata": {
    "ExecuteTime": {
     "end_time": "2021-01-13T07:07:34.445510Z",
     "start_time": "2021-01-13T07:07:34.431513Z"
    }
   },
   "outputs": [],
   "source": [
    "time_start = datetime.datetime.strptime('12/09/20 13:20:00', '%m/%d/%y %H:%M:%S')\n",
    "time_end = datetime.datetime.strptime('12/09/20 15:20:00', '%m/%d/%y %H:%M:%S')\n",
    "\n",
    "t_list = []\n",
    "\n",
    "t = time_start\n",
    "while t <= time_end:\n",
    "    t_list.append(t)\n",
    "    t = t + pd.Timedelta('10min')\n",
    "\n",
    "t_Series = pd.Series(t_list)"
   ]
  },
  {
   "cell_type": "code",
   "execution_count": 11,
   "metadata": {
    "ExecuteTime": {
     "end_time": "2021-01-13T07:07:34.461510Z",
     "start_time": "2021-01-13T07:07:34.447511Z"
    }
   },
   "outputs": [],
   "source": [
    "df_env_temp_selected = df_env_temp.loc[df_env_temp['time'].isin(t_Series)]"
   ]
  },
  {
   "cell_type": "code",
   "execution_count": 12,
   "metadata": {
    "ExecuteTime": {
     "end_time": "2021-01-13T07:07:34.477510Z",
     "start_time": "2021-01-13T07:07:34.463511Z"
    }
   },
   "outputs": [],
   "source": [
    "d1 = {}\n",
    "for idxm, row in df_env_temp_selected.iterrows():\n",
    "    d1[str(row['time'])] = row['env_temp']"
   ]
  },
  {
   "cell_type": "code",
   "execution_count": 13,
   "metadata": {
    "ExecuteTime": {
     "end_time": "2021-01-13T07:07:34.493510Z",
     "start_time": "2021-01-13T07:07:34.479512Z"
    }
   },
   "outputs": [
    {
     "data": {
      "text/plain": [
       "{'2020-12-09 13:20:00': 72.869,\n",
       " '2020-12-09 13:30:00': 76.63600000000002,\n",
       " '2020-12-09 13:40:00': 77.029,\n",
       " '2020-12-09 13:50:00': 74.33800000000002,\n",
       " '2020-12-09 14:00:00': 72.91199999999998,\n",
       " '2020-12-09 14:10:00': 72.05,\n",
       " '2020-12-09 14:20:00': 75.85300000000002,\n",
       " '2020-12-09 14:30:00': 77.464,\n",
       " '2020-12-09 14:40:00': 76.464,\n",
       " '2020-12-09 14:50:00': 73.429,\n",
       " '2020-12-09 15:00:00': 71.533,\n",
       " '2020-12-09 15:10:00': 70.459,\n",
       " '2020-12-09 15:20:00': 69.814}"
      ]
     },
     "execution_count": 13,
     "metadata": {},
     "output_type": "execute_result"
    }
   ],
   "source": [
    "d1"
   ]
  },
  {
   "cell_type": "markdown",
   "metadata": {},
   "source": [
    "### load features data"
   ]
  },
  {
   "cell_type": "code",
   "execution_count": 14,
   "metadata": {
    "ExecuteTime": {
     "end_time": "2021-01-13T07:07:34.509510Z",
     "start_time": "2021-01-13T07:07:34.495510Z"
    }
   },
   "outputs": [],
   "source": [
    "pth_data = '../data/test_refine_02.csv'\n",
    "df_origin = pd.read_csv(pth_data)"
   ]
  },
  {
   "cell_type": "code",
   "execution_count": 15,
   "metadata": {
    "ExecuteTime": {
     "end_time": "2021-01-13T07:07:34.541512Z",
     "start_time": "2021-01-13T07:07:34.511512Z"
    },
    "scrolled": true
   },
   "outputs": [
    {
     "data": {
      "text/html": [
       "<div>\n",
       "<style scoped>\n",
       "    .dataframe tbody tr th:only-of-type {\n",
       "        vertical-align: middle;\n",
       "    }\n",
       "\n",
       "    .dataframe tbody tr th {\n",
       "        vertical-align: top;\n",
       "    }\n",
       "\n",
       "    .dataframe thead th {\n",
       "        text-align: right;\n",
       "    }\n",
       "</style>\n",
       "<table border=\"1\" class=\"dataframe\">\n",
       "  <thead>\n",
       "    <tr style=\"text-align: right;\">\n",
       "      <th></th>\n",
       "      <th>time</th>\n",
       "      <th>height</th>\n",
       "      <th>weight</th>\n",
       "      <th>gender</th>\n",
       "      <th>bmi</th>\n",
       "      <th>age</th>\n",
       "      <th>env_temp</th>\n",
       "      <th>rh</th>\n",
       "      <th>heart_rate</th>\n",
       "      <th>stress_level</th>\n",
       "      <th>skin_temp</th>\n",
       "      <th>eda</th>\n",
       "      <th>TC</th>\n",
       "      <th>TS</th>\n",
       "      <th>Clo</th>\n",
       "      <th>Act</th>\n",
       "    </tr>\n",
       "  </thead>\n",
       "  <tbody>\n",
       "    <tr>\n",
       "      <th>0</th>\n",
       "      <td>2020-12-09 13:20:00</td>\n",
       "      <td>1.62</td>\n",
       "      <td>52</td>\n",
       "      <td>1</td>\n",
       "      <td>19.814053</td>\n",
       "      <td>26</td>\n",
       "      <td>72.869</td>\n",
       "      <td>36.837</td>\n",
       "      <td>97.0</td>\n",
       "      <td>58.0</td>\n",
       "      <td>31.065</td>\n",
       "      <td>8.696613</td>\n",
       "      <td>4</td>\n",
       "      <td>5</td>\n",
       "      <td>0.61</td>\n",
       "      <td>1.0</td>\n",
       "    </tr>\n",
       "    <tr>\n",
       "      <th>1</th>\n",
       "      <td>2020-12-09 13:30:00</td>\n",
       "      <td>1.62</td>\n",
       "      <td>52</td>\n",
       "      <td>1</td>\n",
       "      <td>19.814053</td>\n",
       "      <td>26</td>\n",
       "      <td>76.636</td>\n",
       "      <td>39.856</td>\n",
       "      <td>119.0</td>\n",
       "      <td>NaN</td>\n",
       "      <td>31.588</td>\n",
       "      <td>14.716620</td>\n",
       "      <td>3</td>\n",
       "      <td>6</td>\n",
       "      <td>0.61</td>\n",
       "      <td>4.0</td>\n",
       "    </tr>\n",
       "    <tr>\n",
       "      <th>2</th>\n",
       "      <td>2020-12-09 13:40:00</td>\n",
       "      <td>1.62</td>\n",
       "      <td>52</td>\n",
       "      <td>1</td>\n",
       "      <td>19.814053</td>\n",
       "      <td>26</td>\n",
       "      <td>77.029</td>\n",
       "      <td>40.446</td>\n",
       "      <td>122.0</td>\n",
       "      <td>NaN</td>\n",
       "      <td>31.772</td>\n",
       "      <td>13.199184</td>\n",
       "      <td>3</td>\n",
       "      <td>6</td>\n",
       "      <td>0.61</td>\n",
       "      <td>4.0</td>\n",
       "    </tr>\n",
       "    <tr>\n",
       "      <th>3</th>\n",
       "      <td>2020-12-09 13:50:00</td>\n",
       "      <td>1.62</td>\n",
       "      <td>52</td>\n",
       "      <td>1</td>\n",
       "      <td>19.814053</td>\n",
       "      <td>26</td>\n",
       "      <td>74.338</td>\n",
       "      <td>45.924</td>\n",
       "      <td>106.0</td>\n",
       "      <td>NaN</td>\n",
       "      <td>31.641</td>\n",
       "      <td>7.708510</td>\n",
       "      <td>4</td>\n",
       "      <td>3</td>\n",
       "      <td>0.74</td>\n",
       "      <td>1.0</td>\n",
       "    </tr>\n",
       "    <tr>\n",
       "      <th>4</th>\n",
       "      <td>2020-12-09 14:00:00</td>\n",
       "      <td>1.62</td>\n",
       "      <td>52</td>\n",
       "      <td>1</td>\n",
       "      <td>19.814053</td>\n",
       "      <td>26</td>\n",
       "      <td>72.912</td>\n",
       "      <td>45.179</td>\n",
       "      <td>96.5</td>\n",
       "      <td>NaN</td>\n",
       "      <td>31.274</td>\n",
       "      <td>5.524036</td>\n",
       "      <td>3</td>\n",
       "      <td>2</td>\n",
       "      <td>0.74</td>\n",
       "      <td>1.0</td>\n",
       "    </tr>\n",
       "    <tr>\n",
       "      <th>...</th>\n",
       "      <td>...</td>\n",
       "      <td>...</td>\n",
       "      <td>...</td>\n",
       "      <td>...</td>\n",
       "      <td>...</td>\n",
       "      <td>...</td>\n",
       "      <td>...</td>\n",
       "      <td>...</td>\n",
       "      <td>...</td>\n",
       "      <td>...</td>\n",
       "      <td>...</td>\n",
       "      <td>...</td>\n",
       "      <td>...</td>\n",
       "      <td>...</td>\n",
       "      <td>...</td>\n",
       "      <td>...</td>\n",
       "    </tr>\n",
       "    <tr>\n",
       "      <th>73</th>\n",
       "      <td>2020-12-09 14:40:00</td>\n",
       "      <td>1.77</td>\n",
       "      <td>90</td>\n",
       "      <td>-1</td>\n",
       "      <td>28.727377</td>\n",
       "      <td>28</td>\n",
       "      <td>76.464</td>\n",
       "      <td>15.000</td>\n",
       "      <td>121.5</td>\n",
       "      <td>NaN</td>\n",
       "      <td>31.955</td>\n",
       "      <td>11.877829</td>\n",
       "      <td>2</td>\n",
       "      <td>7</td>\n",
       "      <td>0.74</td>\n",
       "      <td>4.0</td>\n",
       "    </tr>\n",
       "    <tr>\n",
       "      <th>74</th>\n",
       "      <td>2020-12-09 14:50:00</td>\n",
       "      <td>1.77</td>\n",
       "      <td>90</td>\n",
       "      <td>-1</td>\n",
       "      <td>28.727377</td>\n",
       "      <td>28</td>\n",
       "      <td>73.429</td>\n",
       "      <td>16.270</td>\n",
       "      <td>104.0</td>\n",
       "      <td>NaN</td>\n",
       "      <td>31.693</td>\n",
       "      <td>13.723230</td>\n",
       "      <td>4</td>\n",
       "      <td>4</td>\n",
       "      <td>0.61</td>\n",
       "      <td>1.0</td>\n",
       "    </tr>\n",
       "    <tr>\n",
       "      <th>75</th>\n",
       "      <td>2020-12-09 15:00:00</td>\n",
       "      <td>1.77</td>\n",
       "      <td>90</td>\n",
       "      <td>-1</td>\n",
       "      <td>28.727377</td>\n",
       "      <td>28</td>\n",
       "      <td>71.533</td>\n",
       "      <td>15.000</td>\n",
       "      <td>106.0</td>\n",
       "      <td>86.0</td>\n",
       "      <td>32.474</td>\n",
       "      <td>12.256653</td>\n",
       "      <td>5</td>\n",
       "      <td>4</td>\n",
       "      <td>0.61</td>\n",
       "      <td>1.0</td>\n",
       "    </tr>\n",
       "    <tr>\n",
       "      <th>76</th>\n",
       "      <td>2020-12-09 15:10:00</td>\n",
       "      <td>1.77</td>\n",
       "      <td>90</td>\n",
       "      <td>-1</td>\n",
       "      <td>28.727377</td>\n",
       "      <td>28</td>\n",
       "      <td>70.459</td>\n",
       "      <td>25.480</td>\n",
       "      <td>120.0</td>\n",
       "      <td>NaN</td>\n",
       "      <td>31.588</td>\n",
       "      <td>11.623549</td>\n",
       "      <td>5</td>\n",
       "      <td>3</td>\n",
       "      <td>1.00</td>\n",
       "      <td>4.0</td>\n",
       "    </tr>\n",
       "    <tr>\n",
       "      <th>77</th>\n",
       "      <td>2020-12-09 15:20:00</td>\n",
       "      <td>1.77</td>\n",
       "      <td>90</td>\n",
       "      <td>-1</td>\n",
       "      <td>28.727377</td>\n",
       "      <td>28</td>\n",
       "      <td>69.814</td>\n",
       "      <td>17.180</td>\n",
       "      <td>109.0</td>\n",
       "      <td>86.5</td>\n",
       "      <td>31.615</td>\n",
       "      <td>11.110644</td>\n",
       "      <td>4</td>\n",
       "      <td>4</td>\n",
       "      <td>1.00</td>\n",
       "      <td>1.0</td>\n",
       "    </tr>\n",
       "  </tbody>\n",
       "</table>\n",
       "<p>78 rows × 16 columns</p>\n",
       "</div>"
      ],
      "text/plain": [
       "                   time  height  weight  gender        bmi  age  env_temp  \\\n",
       "0   2020-12-09 13:20:00    1.62      52       1  19.814053   26    72.869   \n",
       "1   2020-12-09 13:30:00    1.62      52       1  19.814053   26    76.636   \n",
       "2   2020-12-09 13:40:00    1.62      52       1  19.814053   26    77.029   \n",
       "3   2020-12-09 13:50:00    1.62      52       1  19.814053   26    74.338   \n",
       "4   2020-12-09 14:00:00    1.62      52       1  19.814053   26    72.912   \n",
       "..                  ...     ...     ...     ...        ...  ...       ...   \n",
       "73  2020-12-09 14:40:00    1.77      90      -1  28.727377   28    76.464   \n",
       "74  2020-12-09 14:50:00    1.77      90      -1  28.727377   28    73.429   \n",
       "75  2020-12-09 15:00:00    1.77      90      -1  28.727377   28    71.533   \n",
       "76  2020-12-09 15:10:00    1.77      90      -1  28.727377   28    70.459   \n",
       "77  2020-12-09 15:20:00    1.77      90      -1  28.727377   28    69.814   \n",
       "\n",
       "        rh  heart_rate  stress_level  skin_temp        eda  TC  TS   Clo  Act  \n",
       "0   36.837        97.0          58.0     31.065   8.696613   4   5  0.61  1.0  \n",
       "1   39.856       119.0           NaN     31.588  14.716620   3   6  0.61  4.0  \n",
       "2   40.446       122.0           NaN     31.772  13.199184   3   6  0.61  4.0  \n",
       "3   45.924       106.0           NaN     31.641   7.708510   4   3  0.74  1.0  \n",
       "4   45.179        96.5           NaN     31.274   5.524036   3   2  0.74  1.0  \n",
       "..     ...         ...           ...        ...        ...  ..  ..   ...  ...  \n",
       "73  15.000       121.5           NaN     31.955  11.877829   2   7  0.74  4.0  \n",
       "74  16.270       104.0           NaN     31.693  13.723230   4   4  0.61  1.0  \n",
       "75  15.000       106.0          86.0     32.474  12.256653   5   4  0.61  1.0  \n",
       "76  25.480       120.0           NaN     31.588  11.623549   5   3  1.00  4.0  \n",
       "77  17.180       109.0          86.5     31.615  11.110644   4   4  1.00  1.0  \n",
       "\n",
       "[78 rows x 16 columns]"
      ]
     },
     "execution_count": 15,
     "metadata": {},
     "output_type": "execute_result"
    }
   ],
   "source": [
    "df_origin"
   ]
  },
  {
   "cell_type": "code",
   "execution_count": 16,
   "metadata": {
    "ExecuteTime": {
     "end_time": "2021-01-13T07:07:34.557511Z",
     "start_time": "2021-01-13T07:07:34.543511Z"
    }
   },
   "outputs": [
    {
     "data": {
      "text/plain": [
       "(78, 16)"
      ]
     },
     "execution_count": 16,
     "metadata": {},
     "output_type": "execute_result"
    }
   ],
   "source": [
    "df_origin.shape"
   ]
  },
  {
   "cell_type": "code",
   "execution_count": 17,
   "metadata": {
    "ExecuteTime": {
     "end_time": "2021-01-13T07:07:34.573512Z",
     "start_time": "2021-01-13T07:07:34.559513Z"
    }
   },
   "outputs": [],
   "source": [
    "# for i in range(df_origin.shape[0]):\n",
    "#     t = df_origin.iloc[i, :]['time']\n",
    "#     df_origin['env_temp'][i] = d1[t]"
   ]
  },
  {
   "cell_type": "code",
   "execution_count": 18,
   "metadata": {
    "ExecuteTime": {
     "end_time": "2021-01-13T07:07:34.589511Z",
     "start_time": "2021-01-13T07:07:34.575513Z"
    }
   },
   "outputs": [
    {
     "data": {
      "text/html": [
       "<div>\n",
       "<style scoped>\n",
       "    .dataframe tbody tr th:only-of-type {\n",
       "        vertical-align: middle;\n",
       "    }\n",
       "\n",
       "    .dataframe tbody tr th {\n",
       "        vertical-align: top;\n",
       "    }\n",
       "\n",
       "    .dataframe thead th {\n",
       "        text-align: right;\n",
       "    }\n",
       "</style>\n",
       "<table border=\"1\" class=\"dataframe\">\n",
       "  <thead>\n",
       "    <tr style=\"text-align: right;\">\n",
       "      <th></th>\n",
       "      <th>time</th>\n",
       "      <th>height</th>\n",
       "      <th>weight</th>\n",
       "      <th>gender</th>\n",
       "      <th>bmi</th>\n",
       "      <th>age</th>\n",
       "      <th>env_temp</th>\n",
       "      <th>rh</th>\n",
       "      <th>heart_rate</th>\n",
       "      <th>stress_level</th>\n",
       "      <th>skin_temp</th>\n",
       "      <th>eda</th>\n",
       "      <th>TC</th>\n",
       "      <th>TS</th>\n",
       "      <th>Clo</th>\n",
       "      <th>Act</th>\n",
       "    </tr>\n",
       "  </thead>\n",
       "  <tbody>\n",
       "  </tbody>\n",
       "</table>\n",
       "</div>"
      ],
      "text/plain": [
       "Empty DataFrame\n",
       "Columns: [time, height, weight, gender, bmi, age, env_temp, rh, heart_rate, stress_level, skin_temp, eda, TC, TS, Clo, Act]\n",
       "Index: []"
      ]
     },
     "execution_count": 18,
     "metadata": {},
     "output_type": "execute_result"
    }
   ],
   "source": [
    "df_origin[df_origin[['env_temp']].isna().env_temp]\n",
    "# no na in env_temp"
   ]
  },
  {
   "cell_type": "code",
   "execution_count": 19,
   "metadata": {
    "ExecuteTime": {
     "end_time": "2021-01-13T07:07:34.605511Z",
     "start_time": "2021-01-13T07:07:34.590514Z"
    }
   },
   "outputs": [],
   "source": [
    "df_origin = df_origin.drop(columns=['time'])"
   ]
  },
  {
   "cell_type": "code",
   "execution_count": 20,
   "metadata": {
    "ExecuteTime": {
     "end_time": "2021-01-13T07:07:34.621513Z",
     "start_time": "2021-01-13T07:07:34.607511Z"
    }
   },
   "outputs": [],
   "source": [
    "imp = SimpleImputer(strategy='mean')\n",
    "df_imp = pd.DataFrame(imp.fit_transform(df_origin), columns=df_origin.columns)"
   ]
  },
  {
   "cell_type": "code",
   "execution_count": 21,
   "metadata": {
    "ExecuteTime": {
     "end_time": "2021-01-13T07:07:34.653511Z",
     "start_time": "2021-01-13T07:07:34.623514Z"
    },
    "scrolled": true
   },
   "outputs": [
    {
     "data": {
      "text/html": [
       "<div>\n",
       "<style scoped>\n",
       "    .dataframe tbody tr th:only-of-type {\n",
       "        vertical-align: middle;\n",
       "    }\n",
       "\n",
       "    .dataframe tbody tr th {\n",
       "        vertical-align: top;\n",
       "    }\n",
       "\n",
       "    .dataframe thead th {\n",
       "        text-align: right;\n",
       "    }\n",
       "</style>\n",
       "<table border=\"1\" class=\"dataframe\">\n",
       "  <thead>\n",
       "    <tr style=\"text-align: right;\">\n",
       "      <th></th>\n",
       "      <th>height</th>\n",
       "      <th>weight</th>\n",
       "      <th>gender</th>\n",
       "      <th>bmi</th>\n",
       "      <th>age</th>\n",
       "      <th>env_temp</th>\n",
       "      <th>rh</th>\n",
       "      <th>heart_rate</th>\n",
       "      <th>stress_level</th>\n",
       "      <th>skin_temp</th>\n",
       "      <th>eda</th>\n",
       "      <th>TC</th>\n",
       "      <th>TS</th>\n",
       "      <th>Clo</th>\n",
       "      <th>Act</th>\n",
       "    </tr>\n",
       "  </thead>\n",
       "  <tbody>\n",
       "    <tr>\n",
       "      <th>0</th>\n",
       "      <td>1.62</td>\n",
       "      <td>52.0</td>\n",
       "      <td>1.0</td>\n",
       "      <td>19.814053</td>\n",
       "      <td>26.0</td>\n",
       "      <td>72.869</td>\n",
       "      <td>36.837</td>\n",
       "      <td>97.0</td>\n",
       "      <td>58.000000</td>\n",
       "      <td>31.065</td>\n",
       "      <td>8.696613</td>\n",
       "      <td>4.0</td>\n",
       "      <td>5.0</td>\n",
       "      <td>0.61</td>\n",
       "      <td>1.0</td>\n",
       "    </tr>\n",
       "    <tr>\n",
       "      <th>1</th>\n",
       "      <td>1.62</td>\n",
       "      <td>52.0</td>\n",
       "      <td>1.0</td>\n",
       "      <td>19.814053</td>\n",
       "      <td>26.0</td>\n",
       "      <td>76.636</td>\n",
       "      <td>39.856</td>\n",
       "      <td>119.0</td>\n",
       "      <td>54.890244</td>\n",
       "      <td>31.588</td>\n",
       "      <td>14.716620</td>\n",
       "      <td>3.0</td>\n",
       "      <td>6.0</td>\n",
       "      <td>0.61</td>\n",
       "      <td>4.0</td>\n",
       "    </tr>\n",
       "    <tr>\n",
       "      <th>2</th>\n",
       "      <td>1.62</td>\n",
       "      <td>52.0</td>\n",
       "      <td>1.0</td>\n",
       "      <td>19.814053</td>\n",
       "      <td>26.0</td>\n",
       "      <td>77.029</td>\n",
       "      <td>40.446</td>\n",
       "      <td>122.0</td>\n",
       "      <td>54.890244</td>\n",
       "      <td>31.772</td>\n",
       "      <td>13.199184</td>\n",
       "      <td>3.0</td>\n",
       "      <td>6.0</td>\n",
       "      <td>0.61</td>\n",
       "      <td>4.0</td>\n",
       "    </tr>\n",
       "    <tr>\n",
       "      <th>3</th>\n",
       "      <td>1.62</td>\n",
       "      <td>52.0</td>\n",
       "      <td>1.0</td>\n",
       "      <td>19.814053</td>\n",
       "      <td>26.0</td>\n",
       "      <td>74.338</td>\n",
       "      <td>45.924</td>\n",
       "      <td>106.0</td>\n",
       "      <td>54.890244</td>\n",
       "      <td>31.641</td>\n",
       "      <td>7.708510</td>\n",
       "      <td>4.0</td>\n",
       "      <td>3.0</td>\n",
       "      <td>0.74</td>\n",
       "      <td>1.0</td>\n",
       "    </tr>\n",
       "    <tr>\n",
       "      <th>4</th>\n",
       "      <td>1.62</td>\n",
       "      <td>52.0</td>\n",
       "      <td>1.0</td>\n",
       "      <td>19.814053</td>\n",
       "      <td>26.0</td>\n",
       "      <td>72.912</td>\n",
       "      <td>45.179</td>\n",
       "      <td>96.5</td>\n",
       "      <td>54.890244</td>\n",
       "      <td>31.274</td>\n",
       "      <td>5.524036</td>\n",
       "      <td>3.0</td>\n",
       "      <td>2.0</td>\n",
       "      <td>0.74</td>\n",
       "      <td>1.0</td>\n",
       "    </tr>\n",
       "    <tr>\n",
       "      <th>...</th>\n",
       "      <td>...</td>\n",
       "      <td>...</td>\n",
       "      <td>...</td>\n",
       "      <td>...</td>\n",
       "      <td>...</td>\n",
       "      <td>...</td>\n",
       "      <td>...</td>\n",
       "      <td>...</td>\n",
       "      <td>...</td>\n",
       "      <td>...</td>\n",
       "      <td>...</td>\n",
       "      <td>...</td>\n",
       "      <td>...</td>\n",
       "      <td>...</td>\n",
       "      <td>...</td>\n",
       "    </tr>\n",
       "    <tr>\n",
       "      <th>73</th>\n",
       "      <td>1.77</td>\n",
       "      <td>90.0</td>\n",
       "      <td>-1.0</td>\n",
       "      <td>28.727377</td>\n",
       "      <td>28.0</td>\n",
       "      <td>76.464</td>\n",
       "      <td>15.000</td>\n",
       "      <td>121.5</td>\n",
       "      <td>54.890244</td>\n",
       "      <td>31.955</td>\n",
       "      <td>11.877829</td>\n",
       "      <td>2.0</td>\n",
       "      <td>7.0</td>\n",
       "      <td>0.74</td>\n",
       "      <td>4.0</td>\n",
       "    </tr>\n",
       "    <tr>\n",
       "      <th>74</th>\n",
       "      <td>1.77</td>\n",
       "      <td>90.0</td>\n",
       "      <td>-1.0</td>\n",
       "      <td>28.727377</td>\n",
       "      <td>28.0</td>\n",
       "      <td>73.429</td>\n",
       "      <td>16.270</td>\n",
       "      <td>104.0</td>\n",
       "      <td>54.890244</td>\n",
       "      <td>31.693</td>\n",
       "      <td>13.723230</td>\n",
       "      <td>4.0</td>\n",
       "      <td>4.0</td>\n",
       "      <td>0.61</td>\n",
       "      <td>1.0</td>\n",
       "    </tr>\n",
       "    <tr>\n",
       "      <th>75</th>\n",
       "      <td>1.77</td>\n",
       "      <td>90.0</td>\n",
       "      <td>-1.0</td>\n",
       "      <td>28.727377</td>\n",
       "      <td>28.0</td>\n",
       "      <td>71.533</td>\n",
       "      <td>15.000</td>\n",
       "      <td>106.0</td>\n",
       "      <td>86.000000</td>\n",
       "      <td>32.474</td>\n",
       "      <td>12.256653</td>\n",
       "      <td>5.0</td>\n",
       "      <td>4.0</td>\n",
       "      <td>0.61</td>\n",
       "      <td>1.0</td>\n",
       "    </tr>\n",
       "    <tr>\n",
       "      <th>76</th>\n",
       "      <td>1.77</td>\n",
       "      <td>90.0</td>\n",
       "      <td>-1.0</td>\n",
       "      <td>28.727377</td>\n",
       "      <td>28.0</td>\n",
       "      <td>70.459</td>\n",
       "      <td>25.480</td>\n",
       "      <td>120.0</td>\n",
       "      <td>54.890244</td>\n",
       "      <td>31.588</td>\n",
       "      <td>11.623549</td>\n",
       "      <td>5.0</td>\n",
       "      <td>3.0</td>\n",
       "      <td>1.00</td>\n",
       "      <td>4.0</td>\n",
       "    </tr>\n",
       "    <tr>\n",
       "      <th>77</th>\n",
       "      <td>1.77</td>\n",
       "      <td>90.0</td>\n",
       "      <td>-1.0</td>\n",
       "      <td>28.727377</td>\n",
       "      <td>28.0</td>\n",
       "      <td>69.814</td>\n",
       "      <td>17.180</td>\n",
       "      <td>109.0</td>\n",
       "      <td>86.500000</td>\n",
       "      <td>31.615</td>\n",
       "      <td>11.110644</td>\n",
       "      <td>4.0</td>\n",
       "      <td>4.0</td>\n",
       "      <td>1.00</td>\n",
       "      <td>1.0</td>\n",
       "    </tr>\n",
       "  </tbody>\n",
       "</table>\n",
       "<p>78 rows × 15 columns</p>\n",
       "</div>"
      ],
      "text/plain": [
       "    height  weight  gender        bmi   age  env_temp      rh  heart_rate  \\\n",
       "0     1.62    52.0     1.0  19.814053  26.0    72.869  36.837        97.0   \n",
       "1     1.62    52.0     1.0  19.814053  26.0    76.636  39.856       119.0   \n",
       "2     1.62    52.0     1.0  19.814053  26.0    77.029  40.446       122.0   \n",
       "3     1.62    52.0     1.0  19.814053  26.0    74.338  45.924       106.0   \n",
       "4     1.62    52.0     1.0  19.814053  26.0    72.912  45.179        96.5   \n",
       "..     ...     ...     ...        ...   ...       ...     ...         ...   \n",
       "73    1.77    90.0    -1.0  28.727377  28.0    76.464  15.000       121.5   \n",
       "74    1.77    90.0    -1.0  28.727377  28.0    73.429  16.270       104.0   \n",
       "75    1.77    90.0    -1.0  28.727377  28.0    71.533  15.000       106.0   \n",
       "76    1.77    90.0    -1.0  28.727377  28.0    70.459  25.480       120.0   \n",
       "77    1.77    90.0    -1.0  28.727377  28.0    69.814  17.180       109.0   \n",
       "\n",
       "    stress_level  skin_temp        eda   TC   TS   Clo  Act  \n",
       "0      58.000000     31.065   8.696613  4.0  5.0  0.61  1.0  \n",
       "1      54.890244     31.588  14.716620  3.0  6.0  0.61  4.0  \n",
       "2      54.890244     31.772  13.199184  3.0  6.0  0.61  4.0  \n",
       "3      54.890244     31.641   7.708510  4.0  3.0  0.74  1.0  \n",
       "4      54.890244     31.274   5.524036  3.0  2.0  0.74  1.0  \n",
       "..           ...        ...        ...  ...  ...   ...  ...  \n",
       "73     54.890244     31.955  11.877829  2.0  7.0  0.74  4.0  \n",
       "74     54.890244     31.693  13.723230  4.0  4.0  0.61  1.0  \n",
       "75     86.000000     32.474  12.256653  5.0  4.0  0.61  1.0  \n",
       "76     54.890244     31.588  11.623549  5.0  3.0  1.00  4.0  \n",
       "77     86.500000     31.615  11.110644  4.0  4.0  1.00  1.0  \n",
       "\n",
       "[78 rows x 15 columns]"
      ]
     },
     "execution_count": 21,
     "metadata": {},
     "output_type": "execute_result"
    }
   ],
   "source": [
    "df_imp"
   ]
  },
  {
   "cell_type": "code",
   "execution_count": 22,
   "metadata": {
    "ExecuteTime": {
     "end_time": "2021-01-13T07:07:34.669511Z",
     "start_time": "2021-01-13T07:07:34.655511Z"
    }
   },
   "outputs": [
    {
     "data": {
      "text/plain": [
       "(15, 15)"
      ]
     },
     "metadata": {},
     "output_type": "display_data"
    }
   ],
   "source": [
    "df_min = df_imp.loc[df_imp['TC'].isin([4]) & df_imp['TS'].isin([2, 3])]\n",
    "display(df_min.shape)"
   ]
  },
  {
   "cell_type": "code",
   "execution_count": 23,
   "metadata": {
    "ExecuteTime": {
     "end_time": "2021-01-13T07:07:34.685514Z",
     "start_time": "2021-01-13T07:07:34.673511Z"
    }
   },
   "outputs": [
    {
     "data": {
      "text/plain": [
       "(5, 15)"
      ]
     },
     "metadata": {},
     "output_type": "display_data"
    }
   ],
   "source": [
    "df_max = df_imp.loc[df_imp['TC'].isin([4]) & df_imp['TS'].isin([5, 6])]\n",
    "display(df_max.shape)"
   ]
  },
  {
   "cell_type": "markdown",
   "metadata": {},
   "source": [
    "## exmine min"
   ]
  },
  {
   "cell_type": "code",
   "execution_count": 24,
   "metadata": {
    "ExecuteTime": {
     "end_time": "2021-01-13T07:07:34.717511Z",
     "start_time": "2021-01-13T07:07:34.688515Z"
    },
    "scrolled": true
   },
   "outputs": [
    {
     "data": {
      "text/html": [
       "<div>\n",
       "<style scoped>\n",
       "    .dataframe tbody tr th:only-of-type {\n",
       "        vertical-align: middle;\n",
       "    }\n",
       "\n",
       "    .dataframe tbody tr th {\n",
       "        vertical-align: top;\n",
       "    }\n",
       "\n",
       "    .dataframe thead th {\n",
       "        text-align: right;\n",
       "    }\n",
       "</style>\n",
       "<table border=\"1\" class=\"dataframe\">\n",
       "  <thead>\n",
       "    <tr style=\"text-align: right;\">\n",
       "      <th></th>\n",
       "      <th>height</th>\n",
       "      <th>weight</th>\n",
       "      <th>gender</th>\n",
       "      <th>bmi</th>\n",
       "      <th>age</th>\n",
       "      <th>env_temp</th>\n",
       "      <th>rh</th>\n",
       "      <th>heart_rate</th>\n",
       "      <th>stress_level</th>\n",
       "      <th>skin_temp</th>\n",
       "      <th>eda</th>\n",
       "      <th>TC</th>\n",
       "      <th>TS</th>\n",
       "      <th>Clo</th>\n",
       "      <th>Act</th>\n",
       "    </tr>\n",
       "  </thead>\n",
       "  <tbody>\n",
       "    <tr>\n",
       "      <th>3</th>\n",
       "      <td>1.62</td>\n",
       "      <td>52.0</td>\n",
       "      <td>1.0</td>\n",
       "      <td>19.814053</td>\n",
       "      <td>26.0</td>\n",
       "      <td>74.338</td>\n",
       "      <td>45.924</td>\n",
       "      <td>106.00</td>\n",
       "      <td>54.890244</td>\n",
       "      <td>31.641000</td>\n",
       "      <td>7.708510</td>\n",
       "      <td>4.0</td>\n",
       "      <td>3.0</td>\n",
       "      <td>0.74</td>\n",
       "      <td>1.0</td>\n",
       "    </tr>\n",
       "    <tr>\n",
       "      <th>8</th>\n",
       "      <td>1.62</td>\n",
       "      <td>52.0</td>\n",
       "      <td>1.0</td>\n",
       "      <td>19.814053</td>\n",
       "      <td>26.0</td>\n",
       "      <td>75.764</td>\n",
       "      <td>38.530</td>\n",
       "      <td>91.00</td>\n",
       "      <td>48.000000</td>\n",
       "      <td>32.111000</td>\n",
       "      <td>4.639537</td>\n",
       "      <td>4.0</td>\n",
       "      <td>3.0</td>\n",
       "      <td>0.61</td>\n",
       "      <td>1.0</td>\n",
       "    </tr>\n",
       "    <tr>\n",
       "      <th>11</th>\n",
       "      <td>1.62</td>\n",
       "      <td>52.0</td>\n",
       "      <td>1.0</td>\n",
       "      <td>19.814053</td>\n",
       "      <td>26.0</td>\n",
       "      <td>70.459</td>\n",
       "      <td>35.009</td>\n",
       "      <td>94.00</td>\n",
       "      <td>51.000000</td>\n",
       "      <td>31.902000</td>\n",
       "      <td>3.313086</td>\n",
       "      <td>4.0</td>\n",
       "      <td>3.0</td>\n",
       "      <td>1.00</td>\n",
       "      <td>1.0</td>\n",
       "    </tr>\n",
       "    <tr>\n",
       "      <th>21</th>\n",
       "      <td>1.64</td>\n",
       "      <td>54.0</td>\n",
       "      <td>1.0</td>\n",
       "      <td>20.077335</td>\n",
       "      <td>24.0</td>\n",
       "      <td>76.464</td>\n",
       "      <td>32.449</td>\n",
       "      <td>85.00</td>\n",
       "      <td>17.000000</td>\n",
       "      <td>32.630000</td>\n",
       "      <td>6.399591</td>\n",
       "      <td>4.0</td>\n",
       "      <td>3.0</td>\n",
       "      <td>0.61</td>\n",
       "      <td>1.0</td>\n",
       "    </tr>\n",
       "    <tr>\n",
       "      <th>22</th>\n",
       "      <td>1.64</td>\n",
       "      <td>54.0</td>\n",
       "      <td>1.0</td>\n",
       "      <td>20.077335</td>\n",
       "      <td>24.0</td>\n",
       "      <td>71.661</td>\n",
       "      <td>31.757</td>\n",
       "      <td>98.22</td>\n",
       "      <td>54.000000</td>\n",
       "      <td>32.267000</td>\n",
       "      <td>6.153355</td>\n",
       "      <td>4.0</td>\n",
       "      <td>3.0</td>\n",
       "      <td>0.74</td>\n",
       "      <td>1.0</td>\n",
       "    </tr>\n",
       "    <tr>\n",
       "      <th>23</th>\n",
       "      <td>1.64</td>\n",
       "      <td>54.0</td>\n",
       "      <td>1.0</td>\n",
       "      <td>20.077335</td>\n",
       "      <td>24.0</td>\n",
       "      <td>71.533</td>\n",
       "      <td>29.219</td>\n",
       "      <td>94.00</td>\n",
       "      <td>73.000000</td>\n",
       "      <td>31.850000</td>\n",
       "      <td>5.418105</td>\n",
       "      <td>4.0</td>\n",
       "      <td>2.0</td>\n",
       "      <td>0.74</td>\n",
       "      <td>1.0</td>\n",
       "    </tr>\n",
       "    <tr>\n",
       "      <th>31</th>\n",
       "      <td>1.80</td>\n",
       "      <td>60.0</td>\n",
       "      <td>-1.0</td>\n",
       "      <td>18.518519</td>\n",
       "      <td>24.0</td>\n",
       "      <td>72.050</td>\n",
       "      <td>26.010</td>\n",
       "      <td>91.00</td>\n",
       "      <td>54.890244</td>\n",
       "      <td>32.435000</td>\n",
       "      <td>6.234805</td>\n",
       "      <td>4.0</td>\n",
       "      <td>3.0</td>\n",
       "      <td>0.61</td>\n",
       "      <td>1.0</td>\n",
       "    </tr>\n",
       "    <tr>\n",
       "      <th>33</th>\n",
       "      <td>1.80</td>\n",
       "      <td>60.0</td>\n",
       "      <td>-1.0</td>\n",
       "      <td>18.518519</td>\n",
       "      <td>24.0</td>\n",
       "      <td>76.764</td>\n",
       "      <td>18.400</td>\n",
       "      <td>99.00</td>\n",
       "      <td>54.890244</td>\n",
       "      <td>33.199000</td>\n",
       "      <td>6.666966</td>\n",
       "      <td>4.0</td>\n",
       "      <td>3.0</td>\n",
       "      <td>0.74</td>\n",
       "      <td>1.0</td>\n",
       "    </tr>\n",
       "    <tr>\n",
       "      <th>36</th>\n",
       "      <td>1.80</td>\n",
       "      <td>60.0</td>\n",
       "      <td>-1.0</td>\n",
       "      <td>18.518519</td>\n",
       "      <td>24.0</td>\n",
       "      <td>71.533</td>\n",
       "      <td>15.000</td>\n",
       "      <td>87.00</td>\n",
       "      <td>64.000000</td>\n",
       "      <td>33.585000</td>\n",
       "      <td>4.503452</td>\n",
       "      <td>4.0</td>\n",
       "      <td>2.0</td>\n",
       "      <td>1.00</td>\n",
       "      <td>1.0</td>\n",
       "    </tr>\n",
       "    <tr>\n",
       "      <th>42</th>\n",
       "      <td>1.68</td>\n",
       "      <td>62.0</td>\n",
       "      <td>-1.0</td>\n",
       "      <td>21.967120</td>\n",
       "      <td>29.0</td>\n",
       "      <td>74.338</td>\n",
       "      <td>33.703</td>\n",
       "      <td>74.00</td>\n",
       "      <td>6.000000</td>\n",
       "      <td>30.933000</td>\n",
       "      <td>2.674994</td>\n",
       "      <td>4.0</td>\n",
       "      <td>3.0</td>\n",
       "      <td>0.61</td>\n",
       "      <td>2.6</td>\n",
       "    </tr>\n",
       "    <tr>\n",
       "      <th>43</th>\n",
       "      <td>1.68</td>\n",
       "      <td>62.0</td>\n",
       "      <td>-1.0</td>\n",
       "      <td>21.967120</td>\n",
       "      <td>29.0</td>\n",
       "      <td>72.912</td>\n",
       "      <td>28.605</td>\n",
       "      <td>82.00</td>\n",
       "      <td>14.000000</td>\n",
       "      <td>30.563000</td>\n",
       "      <td>2.674133</td>\n",
       "      <td>4.0</td>\n",
       "      <td>3.0</td>\n",
       "      <td>0.61</td>\n",
       "      <td>2.6</td>\n",
       "    </tr>\n",
       "    <tr>\n",
       "      <th>49</th>\n",
       "      <td>1.68</td>\n",
       "      <td>62.0</td>\n",
       "      <td>-1.0</td>\n",
       "      <td>21.967120</td>\n",
       "      <td>29.0</td>\n",
       "      <td>71.533</td>\n",
       "      <td>30.213</td>\n",
       "      <td>103.00</td>\n",
       "      <td>54.890244</td>\n",
       "      <td>32.707000</td>\n",
       "      <td>3.362897</td>\n",
       "      <td>4.0</td>\n",
       "      <td>3.0</td>\n",
       "      <td>0.61</td>\n",
       "      <td>1.0</td>\n",
       "    </tr>\n",
       "    <tr>\n",
       "      <th>51</th>\n",
       "      <td>1.68</td>\n",
       "      <td>62.0</td>\n",
       "      <td>-1.0</td>\n",
       "      <td>21.967120</td>\n",
       "      <td>29.0</td>\n",
       "      <td>69.814</td>\n",
       "      <td>26.880</td>\n",
       "      <td>83.50</td>\n",
       "      <td>4.000000</td>\n",
       "      <td>31.745000</td>\n",
       "      <td>1.934344</td>\n",
       "      <td>4.0</td>\n",
       "      <td>3.0</td>\n",
       "      <td>0.74</td>\n",
       "      <td>1.0</td>\n",
       "    </tr>\n",
       "    <tr>\n",
       "      <th>62</th>\n",
       "      <td>1.71</td>\n",
       "      <td>64.0</td>\n",
       "      <td>-1.0</td>\n",
       "      <td>21.887076</td>\n",
       "      <td>27.0</td>\n",
       "      <td>71.533</td>\n",
       "      <td>30.504</td>\n",
       "      <td>106.00</td>\n",
       "      <td>54.890244</td>\n",
       "      <td>31.458000</td>\n",
       "      <td>0.815752</td>\n",
       "      <td>4.0</td>\n",
       "      <td>2.0</td>\n",
       "      <td>0.61</td>\n",
       "      <td>1.0</td>\n",
       "    </tr>\n",
       "    <tr>\n",
       "      <th>64</th>\n",
       "      <td>1.71</td>\n",
       "      <td>64.0</td>\n",
       "      <td>-1.0</td>\n",
       "      <td>21.887076</td>\n",
       "      <td>27.0</td>\n",
       "      <td>69.814</td>\n",
       "      <td>28.598</td>\n",
       "      <td>89.00</td>\n",
       "      <td>49.500000</td>\n",
       "      <td>32.161307</td>\n",
       "      <td>0.385849</td>\n",
       "      <td>4.0</td>\n",
       "      <td>3.0</td>\n",
       "      <td>0.74</td>\n",
       "      <td>1.0</td>\n",
       "    </tr>\n",
       "  </tbody>\n",
       "</table>\n",
       "</div>"
      ],
      "text/plain": [
       "    height  weight  gender        bmi   age  env_temp      rh  heart_rate  \\\n",
       "3     1.62    52.0     1.0  19.814053  26.0    74.338  45.924      106.00   \n",
       "8     1.62    52.0     1.0  19.814053  26.0    75.764  38.530       91.00   \n",
       "11    1.62    52.0     1.0  19.814053  26.0    70.459  35.009       94.00   \n",
       "21    1.64    54.0     1.0  20.077335  24.0    76.464  32.449       85.00   \n",
       "22    1.64    54.0     1.0  20.077335  24.0    71.661  31.757       98.22   \n",
       "23    1.64    54.0     1.0  20.077335  24.0    71.533  29.219       94.00   \n",
       "31    1.80    60.0    -1.0  18.518519  24.0    72.050  26.010       91.00   \n",
       "33    1.80    60.0    -1.0  18.518519  24.0    76.764  18.400       99.00   \n",
       "36    1.80    60.0    -1.0  18.518519  24.0    71.533  15.000       87.00   \n",
       "42    1.68    62.0    -1.0  21.967120  29.0    74.338  33.703       74.00   \n",
       "43    1.68    62.0    -1.0  21.967120  29.0    72.912  28.605       82.00   \n",
       "49    1.68    62.0    -1.0  21.967120  29.0    71.533  30.213      103.00   \n",
       "51    1.68    62.0    -1.0  21.967120  29.0    69.814  26.880       83.50   \n",
       "62    1.71    64.0    -1.0  21.887076  27.0    71.533  30.504      106.00   \n",
       "64    1.71    64.0    -1.0  21.887076  27.0    69.814  28.598       89.00   \n",
       "\n",
       "    stress_level  skin_temp       eda   TC   TS   Clo  Act  \n",
       "3      54.890244  31.641000  7.708510  4.0  3.0  0.74  1.0  \n",
       "8      48.000000  32.111000  4.639537  4.0  3.0  0.61  1.0  \n",
       "11     51.000000  31.902000  3.313086  4.0  3.0  1.00  1.0  \n",
       "21     17.000000  32.630000  6.399591  4.0  3.0  0.61  1.0  \n",
       "22     54.000000  32.267000  6.153355  4.0  3.0  0.74  1.0  \n",
       "23     73.000000  31.850000  5.418105  4.0  2.0  0.74  1.0  \n",
       "31     54.890244  32.435000  6.234805  4.0  3.0  0.61  1.0  \n",
       "33     54.890244  33.199000  6.666966  4.0  3.0  0.74  1.0  \n",
       "36     64.000000  33.585000  4.503452  4.0  2.0  1.00  1.0  \n",
       "42      6.000000  30.933000  2.674994  4.0  3.0  0.61  2.6  \n",
       "43     14.000000  30.563000  2.674133  4.0  3.0  0.61  2.6  \n",
       "49     54.890244  32.707000  3.362897  4.0  3.0  0.61  1.0  \n",
       "51      4.000000  31.745000  1.934344  4.0  3.0  0.74  1.0  \n",
       "62     54.890244  31.458000  0.815752  4.0  2.0  0.61  1.0  \n",
       "64     49.500000  32.161307  0.385849  4.0  3.0  0.74  1.0  "
      ]
     },
     "execution_count": 24,
     "metadata": {},
     "output_type": "execute_result"
    }
   ],
   "source": [
    "df_min"
   ]
  },
  {
   "cell_type": "code",
   "execution_count": 25,
   "metadata": {
    "ExecuteTime": {
     "end_time": "2021-01-13T07:07:34.733511Z",
     "start_time": "2021-01-13T07:07:34.719512Z"
    }
   },
   "outputs": [
    {
     "data": {
      "text/plain": [
       "Index(['height', 'weight', 'gender', 'bmi', 'age', 'env_temp', 'rh',\n",
       "       'heart_rate', 'stress_level', 'skin_temp', 'eda', 'TC', 'TS', 'Clo',\n",
       "       'Act'],\n",
       "      dtype='object')"
      ]
     },
     "execution_count": 25,
     "metadata": {},
     "output_type": "execute_result"
    }
   ],
   "source": [
    "df_min.columns"
   ]
  },
  {
   "cell_type": "code",
   "execution_count": 26,
   "metadata": {
    "ExecuteTime": {
     "end_time": "2021-01-13T07:07:34.749511Z",
     "start_time": "2021-01-13T07:07:34.735512Z"
    }
   },
   "outputs": [],
   "source": [
    "y_min = df_min['env_temp']"
   ]
  },
  {
   "cell_type": "code",
   "execution_count": 27,
   "metadata": {
    "ExecuteTime": {
     "end_time": "2021-01-13T07:07:34.765512Z",
     "start_time": "2021-01-13T07:07:34.751514Z"
    }
   },
   "outputs": [],
   "source": [
    "X_min = df_min[['height', 'weight', 'gender', 'bmi', 'age', 'rh', \\\n",
    "                      'heart_rate', 'stress_level', 'skin_temp', 'eda', \\\n",
    "                      'Clo', 'Act']]"
   ]
  },
  {
   "cell_type": "code",
   "execution_count": 28,
   "metadata": {
    "ExecuteTime": {
     "end_time": "2021-01-13T07:07:34.813511Z",
     "start_time": "2021-01-13T07:07:34.767511Z"
    }
   },
   "outputs": [],
   "source": [
    "y_pred_min = rfr_min.predict(X_min)"
   ]
  },
  {
   "cell_type": "code",
   "execution_count": 29,
   "metadata": {
    "ExecuteTime": {
     "end_time": "2021-01-13T07:07:34.829511Z",
     "start_time": "2021-01-13T07:07:34.815513Z"
    }
   },
   "outputs": [
    {
     "data": {
      "text/plain": [
       "array([74.03851512, 74.75113226, 74.06258   , 75.81583714, 75.38810429,\n",
       "       74.86279714, 76.49831143, 75.95614143, 75.34564571, 76.05872286,\n",
       "       76.03790429, 75.09631   , 73.84937143, 74.97411857, 74.12288286])"
      ]
     },
     "execution_count": 29,
     "metadata": {},
     "output_type": "execute_result"
    }
   ],
   "source": [
    "y_pred_min"
   ]
  },
  {
   "cell_type": "code",
   "execution_count": 30,
   "metadata": {
    "ExecuteTime": {
     "end_time": "2021-01-13T07:07:34.845512Z",
     "start_time": "2021-01-13T07:07:34.831511Z"
    },
    "scrolled": true
   },
   "outputs": [
    {
     "data": {
      "text/html": [
       "<div>\n",
       "<style scoped>\n",
       "    .dataframe tbody tr th:only-of-type {\n",
       "        vertical-align: middle;\n",
       "    }\n",
       "\n",
       "    .dataframe tbody tr th {\n",
       "        vertical-align: top;\n",
       "    }\n",
       "\n",
       "    .dataframe thead th {\n",
       "        text-align: right;\n",
       "    }\n",
       "</style>\n",
       "<table border=\"1\" class=\"dataframe\">\n",
       "  <thead>\n",
       "    <tr style=\"text-align: right;\">\n",
       "      <th></th>\n",
       "      <th>Actual</th>\n",
       "      <th>Predicted</th>\n",
       "    </tr>\n",
       "  </thead>\n",
       "  <tbody>\n",
       "    <tr>\n",
       "      <th>3</th>\n",
       "      <td>74.338</td>\n",
       "      <td>74.038515</td>\n",
       "    </tr>\n",
       "    <tr>\n",
       "      <th>8</th>\n",
       "      <td>75.764</td>\n",
       "      <td>74.751132</td>\n",
       "    </tr>\n",
       "    <tr>\n",
       "      <th>11</th>\n",
       "      <td>70.459</td>\n",
       "      <td>74.062580</td>\n",
       "    </tr>\n",
       "    <tr>\n",
       "      <th>21</th>\n",
       "      <td>76.464</td>\n",
       "      <td>75.815837</td>\n",
       "    </tr>\n",
       "    <tr>\n",
       "      <th>22</th>\n",
       "      <td>71.661</td>\n",
       "      <td>75.388104</td>\n",
       "    </tr>\n",
       "    <tr>\n",
       "      <th>23</th>\n",
       "      <td>71.533</td>\n",
       "      <td>74.862797</td>\n",
       "    </tr>\n",
       "    <tr>\n",
       "      <th>31</th>\n",
       "      <td>72.050</td>\n",
       "      <td>76.498311</td>\n",
       "    </tr>\n",
       "    <tr>\n",
       "      <th>33</th>\n",
       "      <td>76.764</td>\n",
       "      <td>75.956141</td>\n",
       "    </tr>\n",
       "    <tr>\n",
       "      <th>36</th>\n",
       "      <td>71.533</td>\n",
       "      <td>75.345646</td>\n",
       "    </tr>\n",
       "    <tr>\n",
       "      <th>42</th>\n",
       "      <td>74.338</td>\n",
       "      <td>76.058723</td>\n",
       "    </tr>\n",
       "    <tr>\n",
       "      <th>43</th>\n",
       "      <td>72.912</td>\n",
       "      <td>76.037904</td>\n",
       "    </tr>\n",
       "    <tr>\n",
       "      <th>49</th>\n",
       "      <td>71.533</td>\n",
       "      <td>75.096310</td>\n",
       "    </tr>\n",
       "    <tr>\n",
       "      <th>51</th>\n",
       "      <td>69.814</td>\n",
       "      <td>73.849371</td>\n",
       "    </tr>\n",
       "    <tr>\n",
       "      <th>62</th>\n",
       "      <td>71.533</td>\n",
       "      <td>74.974119</td>\n",
       "    </tr>\n",
       "    <tr>\n",
       "      <th>64</th>\n",
       "      <td>69.814</td>\n",
       "      <td>74.122883</td>\n",
       "    </tr>\n",
       "  </tbody>\n",
       "</table>\n",
       "</div>"
      ],
      "text/plain": [
       "    Actual  Predicted\n",
       "3   74.338  74.038515\n",
       "8   75.764  74.751132\n",
       "11  70.459  74.062580\n",
       "21  76.464  75.815837\n",
       "22  71.661  75.388104\n",
       "23  71.533  74.862797\n",
       "31  72.050  76.498311\n",
       "33  76.764  75.956141\n",
       "36  71.533  75.345646\n",
       "42  74.338  76.058723\n",
       "43  72.912  76.037904\n",
       "49  71.533  75.096310\n",
       "51  69.814  73.849371\n",
       "62  71.533  74.974119\n",
       "64  69.814  74.122883"
      ]
     },
     "execution_count": 30,
     "metadata": {},
     "output_type": "execute_result"
    }
   ],
   "source": [
    "pd.DataFrame({'Actual': y_min, 'Predicted': y_pred_min})"
   ]
  },
  {
   "cell_type": "code",
   "execution_count": 31,
   "metadata": {
    "ExecuteTime": {
     "end_time": "2021-01-13T07:07:34.861511Z",
     "start_time": "2021-01-13T07:07:34.847512Z"
    }
   },
   "outputs": [
    {
     "data": {
      "text/plain": [
       "9.773204191985233"
      ]
     },
     "execution_count": 31,
     "metadata": {},
     "output_type": "execute_result"
    }
   ],
   "source": [
    "# mean squared error\n",
    "mean_squared_error(y_min, y_pred_min)"
   ]
  },
  {
   "cell_type": "code",
   "execution_count": 32,
   "metadata": {
    "ExecuteTime": {
     "end_time": "2021-01-13T07:07:34.877512Z",
     "start_time": "2021-01-13T07:07:34.863511Z"
    }
   },
   "outputs": [
    {
     "data": {
      "text/plain": [
       "-0.9780460462611411"
      ]
     },
     "execution_count": 32,
     "metadata": {},
     "output_type": "execute_result"
    }
   ],
   "source": [
    "# R2 score\n",
    "r2_score(y_min, y_pred_min)"
   ]
  },
  {
   "cell_type": "markdown",
   "metadata": {},
   "source": [
    "## exmine max"
   ]
  },
  {
   "cell_type": "code",
   "execution_count": 33,
   "metadata": {
    "ExecuteTime": {
     "end_time": "2021-01-13T07:07:34.893511Z",
     "start_time": "2021-01-13T07:07:34.879512Z"
    },
    "scrolled": true
   },
   "outputs": [
    {
     "data": {
      "text/html": [
       "<div>\n",
       "<style scoped>\n",
       "    .dataframe tbody tr th:only-of-type {\n",
       "        vertical-align: middle;\n",
       "    }\n",
       "\n",
       "    .dataframe tbody tr th {\n",
       "        vertical-align: top;\n",
       "    }\n",
       "\n",
       "    .dataframe thead th {\n",
       "        text-align: right;\n",
       "    }\n",
       "</style>\n",
       "<table border=\"1\" class=\"dataframe\">\n",
       "  <thead>\n",
       "    <tr style=\"text-align: right;\">\n",
       "      <th></th>\n",
       "      <th>height</th>\n",
       "      <th>weight</th>\n",
       "      <th>gender</th>\n",
       "      <th>bmi</th>\n",
       "      <th>age</th>\n",
       "      <th>env_temp</th>\n",
       "      <th>rh</th>\n",
       "      <th>heart_rate</th>\n",
       "      <th>stress_level</th>\n",
       "      <th>skin_temp</th>\n",
       "      <th>eda</th>\n",
       "      <th>TC</th>\n",
       "      <th>TS</th>\n",
       "      <th>Clo</th>\n",
       "      <th>Act</th>\n",
       "    </tr>\n",
       "  </thead>\n",
       "  <tbody>\n",
       "    <tr>\n",
       "      <th>0</th>\n",
       "      <td>1.62</td>\n",
       "      <td>52.0</td>\n",
       "      <td>1.0</td>\n",
       "      <td>19.814053</td>\n",
       "      <td>26.0</td>\n",
       "      <td>72.869</td>\n",
       "      <td>36.837</td>\n",
       "      <td>97.0</td>\n",
       "      <td>58.000000</td>\n",
       "      <td>31.065</td>\n",
       "      <td>8.696613</td>\n",
       "      <td>4.0</td>\n",
       "      <td>5.0</td>\n",
       "      <td>0.61</td>\n",
       "      <td>1.0</td>\n",
       "    </tr>\n",
       "    <tr>\n",
       "      <th>7</th>\n",
       "      <td>1.62</td>\n",
       "      <td>52.0</td>\n",
       "      <td>1.0</td>\n",
       "      <td>19.814053</td>\n",
       "      <td>26.0</td>\n",
       "      <td>78.164</td>\n",
       "      <td>38.612</td>\n",
       "      <td>103.0</td>\n",
       "      <td>62.000000</td>\n",
       "      <td>32.630</td>\n",
       "      <td>5.889015</td>\n",
       "      <td>4.0</td>\n",
       "      <td>5.0</td>\n",
       "      <td>0.61</td>\n",
       "      <td>1.0</td>\n",
       "    </tr>\n",
       "    <tr>\n",
       "      <th>15</th>\n",
       "      <td>1.64</td>\n",
       "      <td>54.0</td>\n",
       "      <td>1.0</td>\n",
       "      <td>20.077335</td>\n",
       "      <td>24.0</td>\n",
       "      <td>77.029</td>\n",
       "      <td>35.534</td>\n",
       "      <td>115.0</td>\n",
       "      <td>54.890244</td>\n",
       "      <td>31.300</td>\n",
       "      <td>3.810682</td>\n",
       "      <td>4.0</td>\n",
       "      <td>5.0</td>\n",
       "      <td>0.61</td>\n",
       "      <td>2.6</td>\n",
       "    </tr>\n",
       "    <tr>\n",
       "      <th>57</th>\n",
       "      <td>1.71</td>\n",
       "      <td>64.0</td>\n",
       "      <td>-1.0</td>\n",
       "      <td>21.887076</td>\n",
       "      <td>27.0</td>\n",
       "      <td>72.050</td>\n",
       "      <td>29.694</td>\n",
       "      <td>85.0</td>\n",
       "      <td>54.890244</td>\n",
       "      <td>32.993</td>\n",
       "      <td>3.396911</td>\n",
       "      <td>4.0</td>\n",
       "      <td>5.0</td>\n",
       "      <td>0.74</td>\n",
       "      <td>2.6</td>\n",
       "    </tr>\n",
       "    <tr>\n",
       "      <th>60</th>\n",
       "      <td>1.71</td>\n",
       "      <td>64.0</td>\n",
       "      <td>-1.0</td>\n",
       "      <td>21.887076</td>\n",
       "      <td>27.0</td>\n",
       "      <td>76.464</td>\n",
       "      <td>32.829</td>\n",
       "      <td>81.0</td>\n",
       "      <td>54.890244</td>\n",
       "      <td>32.396</td>\n",
       "      <td>3.558766</td>\n",
       "      <td>4.0</td>\n",
       "      <td>5.0</td>\n",
       "      <td>1.00</td>\n",
       "      <td>1.0</td>\n",
       "    </tr>\n",
       "  </tbody>\n",
       "</table>\n",
       "</div>"
      ],
      "text/plain": [
       "    height  weight  gender        bmi   age  env_temp      rh  heart_rate  \\\n",
       "0     1.62    52.0     1.0  19.814053  26.0    72.869  36.837        97.0   \n",
       "7     1.62    52.0     1.0  19.814053  26.0    78.164  38.612       103.0   \n",
       "15    1.64    54.0     1.0  20.077335  24.0    77.029  35.534       115.0   \n",
       "57    1.71    64.0    -1.0  21.887076  27.0    72.050  29.694        85.0   \n",
       "60    1.71    64.0    -1.0  21.887076  27.0    76.464  32.829        81.0   \n",
       "\n",
       "    stress_level  skin_temp       eda   TC   TS   Clo  Act  \n",
       "0      58.000000     31.065  8.696613  4.0  5.0  0.61  1.0  \n",
       "7      62.000000     32.630  5.889015  4.0  5.0  0.61  1.0  \n",
       "15     54.890244     31.300  3.810682  4.0  5.0  0.61  2.6  \n",
       "57     54.890244     32.993  3.396911  4.0  5.0  0.74  2.6  \n",
       "60     54.890244     32.396  3.558766  4.0  5.0  1.00  1.0  "
      ]
     },
     "execution_count": 33,
     "metadata": {},
     "output_type": "execute_result"
    }
   ],
   "source": [
    "df_max"
   ]
  },
  {
   "cell_type": "code",
   "execution_count": 34,
   "metadata": {
    "ExecuteTime": {
     "end_time": "2021-01-13T07:07:34.909511Z",
     "start_time": "2021-01-13T07:07:34.895512Z"
    }
   },
   "outputs": [
    {
     "data": {
      "text/plain": [
       "Index(['height', 'weight', 'gender', 'bmi', 'age', 'env_temp', 'rh',\n",
       "       'heart_rate', 'stress_level', 'skin_temp', 'eda', 'TC', 'TS', 'Clo',\n",
       "       'Act'],\n",
       "      dtype='object')"
      ]
     },
     "execution_count": 34,
     "metadata": {},
     "output_type": "execute_result"
    }
   ],
   "source": [
    "df_max.columns"
   ]
  },
  {
   "cell_type": "code",
   "execution_count": 35,
   "metadata": {
    "ExecuteTime": {
     "end_time": "2021-01-13T07:07:34.925511Z",
     "start_time": "2021-01-13T07:07:34.911510Z"
    }
   },
   "outputs": [],
   "source": [
    "y_max = df_max['env_temp']"
   ]
  },
  {
   "cell_type": "code",
   "execution_count": 36,
   "metadata": {
    "ExecuteTime": {
     "end_time": "2021-01-13T07:07:34.941511Z",
     "start_time": "2021-01-13T07:07:34.927511Z"
    }
   },
   "outputs": [],
   "source": [
    "X_max = df_max[['height', 'weight', 'gender', 'bmi', 'age', 'rh', \\\n",
    "                      'heart_rate', 'stress_level', 'skin_temp', 'eda', \\\n",
    "                      'Clo', 'Act']]"
   ]
  },
  {
   "cell_type": "code",
   "execution_count": 37,
   "metadata": {
    "ExecuteTime": {
     "end_time": "2021-01-13T07:07:34.989512Z",
     "start_time": "2021-01-13T07:07:34.943514Z"
    }
   },
   "outputs": [],
   "source": [
    "y_pred_max = rfr_max.predict(X_max)"
   ]
  },
  {
   "cell_type": "code",
   "execution_count": 38,
   "metadata": {
    "ExecuteTime": {
     "end_time": "2021-01-13T07:07:35.005511Z",
     "start_time": "2021-01-13T07:07:34.991512Z"
    }
   },
   "outputs": [
    {
     "data": {
      "text/plain": [
       "array([79.09552   , 79.35832143, 79.38585286, 81.90947143, 81.79568714])"
      ]
     },
     "execution_count": 38,
     "metadata": {},
     "output_type": "execute_result"
    }
   ],
   "source": [
    "y_pred_max"
   ]
  },
  {
   "cell_type": "code",
   "execution_count": 39,
   "metadata": {
    "ExecuteTime": {
     "end_time": "2021-01-13T07:07:35.021512Z",
     "start_time": "2021-01-13T07:07:35.006512Z"
    }
   },
   "outputs": [
    {
     "data": {
      "text/html": [
       "<div>\n",
       "<style scoped>\n",
       "    .dataframe tbody tr th:only-of-type {\n",
       "        vertical-align: middle;\n",
       "    }\n",
       "\n",
       "    .dataframe tbody tr th {\n",
       "        vertical-align: top;\n",
       "    }\n",
       "\n",
       "    .dataframe thead th {\n",
       "        text-align: right;\n",
       "    }\n",
       "</style>\n",
       "<table border=\"1\" class=\"dataframe\">\n",
       "  <thead>\n",
       "    <tr style=\"text-align: right;\">\n",
       "      <th></th>\n",
       "      <th>Actual</th>\n",
       "      <th>Predicted</th>\n",
       "    </tr>\n",
       "  </thead>\n",
       "  <tbody>\n",
       "    <tr>\n",
       "      <th>0</th>\n",
       "      <td>72.869</td>\n",
       "      <td>79.095520</td>\n",
       "    </tr>\n",
       "    <tr>\n",
       "      <th>7</th>\n",
       "      <td>78.164</td>\n",
       "      <td>79.358321</td>\n",
       "    </tr>\n",
       "    <tr>\n",
       "      <th>15</th>\n",
       "      <td>77.029</td>\n",
       "      <td>79.385853</td>\n",
       "    </tr>\n",
       "    <tr>\n",
       "      <th>57</th>\n",
       "      <td>72.050</td>\n",
       "      <td>81.909471</td>\n",
       "    </tr>\n",
       "    <tr>\n",
       "      <th>60</th>\n",
       "      <td>76.464</td>\n",
       "      <td>81.795687</td>\n",
       "    </tr>\n",
       "  </tbody>\n",
       "</table>\n",
       "</div>"
      ],
      "text/plain": [
       "    Actual  Predicted\n",
       "0   72.869  79.095520\n",
       "7   78.164  79.358321\n",
       "15  77.029  79.385853\n",
       "57  72.050  81.909471\n",
       "60  76.464  81.795687"
      ]
     },
     "execution_count": 39,
     "metadata": {},
     "output_type": "execute_result"
    }
   ],
   "source": [
    "pd.DataFrame({'Actual': y_max, 'Predicted': y_pred_max})"
   ]
  },
  {
   "cell_type": "code",
   "execution_count": 40,
   "metadata": {
    "ExecuteTime": {
     "end_time": "2021-01-13T07:07:35.037511Z",
     "start_time": "2021-01-13T07:07:35.023512Z"
    }
   },
   "outputs": [
    {
     "data": {
      "text/plain": [
       "34.277355003098535"
      ]
     },
     "execution_count": 40,
     "metadata": {},
     "output_type": "execute_result"
    }
   ],
   "source": [
    "# mean squared error\n",
    "mean_squared_error(y_max, y_pred_max)"
   ]
  },
  {
   "cell_type": "code",
   "execution_count": 41,
   "metadata": {
    "ExecuteTime": {
     "end_time": "2021-01-13T07:07:35.053511Z",
     "start_time": "2021-01-13T07:07:35.039512Z"
    }
   },
   "outputs": [
    {
     "data": {
      "text/plain": [
       "-4.90623531866752"
      ]
     },
     "execution_count": 41,
     "metadata": {},
     "output_type": "execute_result"
    }
   ],
   "source": [
    "# R2 score\n",
    "r2_score(y_max, y_pred_max)"
   ]
  },
  {
   "cell_type": "code",
   "execution_count": null,
   "metadata": {},
   "outputs": [],
   "source": []
  },
  {
   "cell_type": "code",
   "execution_count": null,
   "metadata": {},
   "outputs": [],
   "source": []
  },
  {
   "cell_type": "code",
   "execution_count": null,
   "metadata": {},
   "outputs": [],
   "source": []
  },
  {
   "cell_type": "code",
   "execution_count": null,
   "metadata": {},
   "outputs": [],
   "source": []
  },
  {
   "cell_type": "code",
   "execution_count": null,
   "metadata": {},
   "outputs": [],
   "source": []
  },
  {
   "cell_type": "code",
   "execution_count": null,
   "metadata": {},
   "outputs": [],
   "source": []
  },
  {
   "cell_type": "code",
   "execution_count": null,
   "metadata": {},
   "outputs": [],
   "source": []
  },
  {
   "cell_type": "code",
   "execution_count": null,
   "metadata": {},
   "outputs": [],
   "source": []
  },
  {
   "cell_type": "code",
   "execution_count": null,
   "metadata": {},
   "outputs": [],
   "source": []
  },
  {
   "cell_type": "code",
   "execution_count": null,
   "metadata": {},
   "outputs": [],
   "source": []
  },
  {
   "cell_type": "code",
   "execution_count": null,
   "metadata": {},
   "outputs": [],
   "source": []
  },
  {
   "cell_type": "code",
   "execution_count": null,
   "metadata": {},
   "outputs": [],
   "source": []
  },
  {
   "cell_type": "code",
   "execution_count": null,
   "metadata": {},
   "outputs": [],
   "source": []
  },
  {
   "cell_type": "code",
   "execution_count": null,
   "metadata": {},
   "outputs": [],
   "source": []
  },
  {
   "cell_type": "code",
   "execution_count": null,
   "metadata": {},
   "outputs": [],
   "source": []
  },
  {
   "cell_type": "code",
   "execution_count": null,
   "metadata": {},
   "outputs": [],
   "source": []
  },
  {
   "cell_type": "code",
   "execution_count": null,
   "metadata": {},
   "outputs": [],
   "source": []
  },
  {
   "cell_type": "code",
   "execution_count": null,
   "metadata": {},
   "outputs": [],
   "source": []
  },
  {
   "cell_type": "code",
   "execution_count": null,
   "metadata": {},
   "outputs": [],
   "source": []
  }
 ],
 "metadata": {
  "kernelspec": {
   "display_name": "Python [conda env:ml]",
   "language": "python",
   "name": "conda-env-ml-py"
  },
  "language_info": {
   "codemirror_mode": {
    "name": "ipython",
    "version": 3
   },
   "file_extension": ".py",
   "mimetype": "text/x-python",
   "name": "python",
   "nbconvert_exporter": "python",
   "pygments_lexer": "ipython3",
   "version": "3.6.10"
  },
  "toc": {
   "base_numbering": 1,
   "nav_menu": {},
   "number_sections": true,
   "sideBar": true,
   "skip_h1_title": false,
   "title_cell": "Table of Contents",
   "title_sidebar": "Contents",
   "toc_cell": false,
   "toc_position": {},
   "toc_section_display": true,
   "toc_window_display": true
  }
 },
 "nbformat": 4,
 "nbformat_minor": 2
}
