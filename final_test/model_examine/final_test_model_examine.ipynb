{
 "cells": [
  {
   "cell_type": "code",
   "execution_count": 1,
   "metadata": {
    "ExecuteTime": {
     "end_time": "2021-01-14T01:54:34.891069Z",
     "start_time": "2021-01-14T01:54:34.886910Z"
    }
   },
   "outputs": [],
   "source": [
    "import random\n",
    "import datetime"
   ]
  },
  {
   "cell_type": "code",
   "execution_count": 2,
   "metadata": {
    "ExecuteTime": {
     "end_time": "2021-01-14T01:54:35.910944Z",
     "start_time": "2021-01-14T01:54:34.891910Z"
    }
   },
   "outputs": [],
   "source": [
    "%matplotlib inline\n",
    "import pandas as pd\n",
    "import numpy as np\n",
    "\n",
    "import matplotlib.pyplot as plt\n",
    "import seaborn as sns"
   ]
  },
  {
   "cell_type": "code",
   "execution_count": 3,
   "metadata": {
    "ExecuteTime": {
     "end_time": "2021-01-14T01:54:36.212945Z",
     "start_time": "2021-01-14T01:54:35.912945Z"
    }
   },
   "outputs": [],
   "source": [
    "# from sklearn.ensemble import RandomForestRegressor\n",
    "from sklearn.impute import SimpleImputer\n",
    "from sklearn.metrics import mean_squared_error, r2_score\n",
    "\n",
    "from sklearn import tree\n",
    "import joblib\n",
    "\n",
    "import scipy"
   ]
  },
  {
   "cell_type": "code",
   "execution_count": 4,
   "metadata": {
    "ExecuteTime": {
     "end_time": "2021-01-14T01:54:36.227946Z",
     "start_time": "2021-01-14T01:54:36.213947Z"
    }
   },
   "outputs": [],
   "source": [
    "import group_tempreture_model"
   ]
  },
  {
   "cell_type": "code",
   "execution_count": 5,
   "metadata": {
    "ExecuteTime": {
     "end_time": "2021-01-14T01:54:36.242946Z",
     "start_time": "2021-01-14T01:54:36.228945Z"
    }
   },
   "outputs": [],
   "source": [
    "plt.rcParams[\"figure.figsize\"] = (15, 10)"
   ]
  },
  {
   "cell_type": "markdown",
   "metadata": {},
   "source": [
    "## load random forest model"
   ]
  },
  {
   "cell_type": "code",
   "execution_count": 6,
   "metadata": {
    "ExecuteTime": {
     "end_time": "2021-01-14T01:54:36.258947Z",
     "start_time": "2021-01-14T01:54:36.244947Z"
    }
   },
   "outputs": [],
   "source": [
    "filename_min = '../../model/comfort_minmax_model/min_random_forest_model.sav'\n",
    "filename_max = '../../model/comfort_minmax_model/max_random_forest_model.sav'"
   ]
  },
  {
   "cell_type": "code",
   "execution_count": 7,
   "metadata": {
    "ExecuteTime": {
     "end_time": "2021-01-14T01:54:36.736945Z",
     "start_time": "2021-01-14T01:54:36.259945Z"
    }
   },
   "outputs": [],
   "source": [
    "rfr_min = joblib.load(filename_min)\n",
    "rfr_max = joblib.load(filename_max)"
   ]
  },
  {
   "cell_type": "markdown",
   "metadata": {},
   "source": [
    "## create test data"
   ]
  },
  {
   "cell_type": "markdown",
   "metadata": {},
   "source": [
    "### load env_temp data"
   ]
  },
  {
   "cell_type": "code",
   "execution_count": 8,
   "metadata": {
    "ExecuteTime": {
     "end_time": "2021-01-14T01:54:36.752462Z",
     "start_time": "2021-01-14T01:54:36.738946Z"
    }
   },
   "outputs": [],
   "source": [
    "env_temp_file_path = '../data/hobo/env_05_processed.csv'\n",
    "df_env_temp = pd.read_csv(env_temp_file_path)"
   ]
  },
  {
   "cell_type": "code",
   "execution_count": 9,
   "metadata": {
    "ExecuteTime": {
     "end_time": "2021-01-14T01:54:36.768462Z",
     "start_time": "2021-01-14T01:54:36.754464Z"
    }
   },
   "outputs": [
    {
     "data": {
      "text/html": [
       "<div>\n",
       "<style scoped>\n",
       "    .dataframe tbody tr th:only-of-type {\n",
       "        vertical-align: middle;\n",
       "    }\n",
       "\n",
       "    .dataframe tbody tr th {\n",
       "        vertical-align: top;\n",
       "    }\n",
       "\n",
       "    .dataframe thead th {\n",
       "        text-align: right;\n",
       "    }\n",
       "</style>\n",
       "<table border=\"1\" class=\"dataframe\">\n",
       "  <thead>\n",
       "    <tr style=\"text-align: right;\">\n",
       "      <th></th>\n",
       "      <th>time</th>\n",
       "      <th>env_temp</th>\n",
       "    </tr>\n",
       "  </thead>\n",
       "  <tbody>\n",
       "    <tr>\n",
       "      <th>0</th>\n",
       "      <td>2020-12-09 11:45:00</td>\n",
       "      <td>69.557</td>\n",
       "    </tr>\n",
       "    <tr>\n",
       "      <th>1</th>\n",
       "      <td>2020-12-09 11:46:00</td>\n",
       "      <td>69.600</td>\n",
       "    </tr>\n",
       "    <tr>\n",
       "      <th>2</th>\n",
       "      <td>2020-12-09 11:47:00</td>\n",
       "      <td>69.685</td>\n",
       "    </tr>\n",
       "    <tr>\n",
       "      <th>3</th>\n",
       "      <td>2020-12-09 11:48:00</td>\n",
       "      <td>69.728</td>\n",
       "    </tr>\n",
       "    <tr>\n",
       "      <th>4</th>\n",
       "      <td>2020-12-09 11:49:00</td>\n",
       "      <td>69.771</td>\n",
       "    </tr>\n",
       "    <tr>\n",
       "      <th>...</th>\n",
       "      <td>...</td>\n",
       "      <td>...</td>\n",
       "    </tr>\n",
       "    <tr>\n",
       "      <th>221</th>\n",
       "      <td>2020-12-09 15:26:00</td>\n",
       "      <td>70.803</td>\n",
       "    </tr>\n",
       "    <tr>\n",
       "      <th>222</th>\n",
       "      <td>2020-12-09 15:27:00</td>\n",
       "      <td>70.930</td>\n",
       "    </tr>\n",
       "    <tr>\n",
       "      <th>223</th>\n",
       "      <td>2020-12-09 15:28:00</td>\n",
       "      <td>71.060</td>\n",
       "    </tr>\n",
       "    <tr>\n",
       "      <th>224</th>\n",
       "      <td>2020-12-09 15:29:00</td>\n",
       "      <td>71.060</td>\n",
       "    </tr>\n",
       "    <tr>\n",
       "      <th>225</th>\n",
       "      <td>2020-12-09 15:30:00</td>\n",
       "      <td>71.146</td>\n",
       "    </tr>\n",
       "  </tbody>\n",
       "</table>\n",
       "<p>226 rows × 2 columns</p>\n",
       "</div>"
      ],
      "text/plain": [
       "                    time  env_temp\n",
       "0    2020-12-09 11:45:00    69.557\n",
       "1    2020-12-09 11:46:00    69.600\n",
       "2    2020-12-09 11:47:00    69.685\n",
       "3    2020-12-09 11:48:00    69.728\n",
       "4    2020-12-09 11:49:00    69.771\n",
       "..                   ...       ...\n",
       "221  2020-12-09 15:26:00    70.803\n",
       "222  2020-12-09 15:27:00    70.930\n",
       "223  2020-12-09 15:28:00    71.060\n",
       "224  2020-12-09 15:29:00    71.060\n",
       "225  2020-12-09 15:30:00    71.146\n",
       "\n",
       "[226 rows x 2 columns]"
      ]
     },
     "execution_count": 9,
     "metadata": {},
     "output_type": "execute_result"
    }
   ],
   "source": [
    "df_env_temp"
   ]
  },
  {
   "cell_type": "code",
   "execution_count": 10,
   "metadata": {
    "ExecuteTime": {
     "end_time": "2021-01-14T01:54:36.784463Z",
     "start_time": "2021-01-14T01:54:36.770463Z"
    }
   },
   "outputs": [],
   "source": [
    "df_env_temp.time = pd.to_datetime(df_env_temp.time)"
   ]
  },
  {
   "cell_type": "code",
   "execution_count": 11,
   "metadata": {
    "ExecuteTime": {
     "end_time": "2021-01-14T01:54:36.800464Z",
     "start_time": "2021-01-14T01:54:36.785464Z"
    }
   },
   "outputs": [],
   "source": [
    "time_start = datetime.datetime.strptime('12/09/20 13:20:00', '%m/%d/%y %H:%M:%S')\n",
    "time_end = datetime.datetime.strptime('12/09/20 15:20:00', '%m/%d/%y %H:%M:%S')\n",
    "\n",
    "t_list = []\n",
    "\n",
    "t = time_start\n",
    "while t <= time_end:\n",
    "    t_list.append(t)\n",
    "    t = t + pd.Timedelta('10min')\n",
    "\n",
    "t_Series = pd.Series(t_list)"
   ]
  },
  {
   "cell_type": "code",
   "execution_count": 12,
   "metadata": {
    "ExecuteTime": {
     "end_time": "2021-01-14T01:54:36.816462Z",
     "start_time": "2021-01-14T01:54:36.801463Z"
    }
   },
   "outputs": [],
   "source": [
    "df_env_temp_selected = df_env_temp.loc[df_env_temp['time'].isin(t_Series)]"
   ]
  },
  {
   "cell_type": "code",
   "execution_count": 13,
   "metadata": {
    "ExecuteTime": {
     "end_time": "2021-01-14T01:54:36.832462Z",
     "start_time": "2021-01-14T01:54:36.817464Z"
    }
   },
   "outputs": [],
   "source": [
    "d1 = {}\n",
    "for idxm, row in df_env_temp_selected.iterrows():\n",
    "    d1[str(row['time'])] = row['env_temp']"
   ]
  },
  {
   "cell_type": "code",
   "execution_count": 14,
   "metadata": {
    "ExecuteTime": {
     "end_time": "2021-01-14T01:54:36.848464Z",
     "start_time": "2021-01-14T01:54:36.833463Z"
    }
   },
   "outputs": [
    {
     "data": {
      "text/plain": [
       "{'2020-12-09 13:20:00': 72.869,\n",
       " '2020-12-09 13:30:00': 76.63600000000002,\n",
       " '2020-12-09 13:40:00': 77.029,\n",
       " '2020-12-09 13:50:00': 74.33800000000002,\n",
       " '2020-12-09 14:00:00': 72.91199999999998,\n",
       " '2020-12-09 14:10:00': 72.05,\n",
       " '2020-12-09 14:20:00': 75.85300000000002,\n",
       " '2020-12-09 14:30:00': 77.464,\n",
       " '2020-12-09 14:40:00': 76.464,\n",
       " '2020-12-09 14:50:00': 73.429,\n",
       " '2020-12-09 15:00:00': 71.533,\n",
       " '2020-12-09 15:10:00': 70.459,\n",
       " '2020-12-09 15:20:00': 69.814}"
      ]
     },
     "execution_count": 14,
     "metadata": {},
     "output_type": "execute_result"
    }
   ],
   "source": [
    "d1"
   ]
  },
  {
   "cell_type": "code",
   "execution_count": 49,
   "metadata": {
    "ExecuteTime": {
     "end_time": "2021-01-14T05:18:59.215056Z",
     "start_time": "2021-01-14T05:18:59.205543Z"
    }
   },
   "outputs": [],
   "source": [
    "ts_env_temp = [[row['env_temp']] for idxm, row in df_env_temp_selected.iterrows()]"
   ]
  },
  {
   "cell_type": "code",
   "execution_count": 50,
   "metadata": {
    "ExecuteTime": {
     "end_time": "2021-01-14T05:18:59.573788Z",
     "start_time": "2021-01-14T05:18:59.564792Z"
    }
   },
   "outputs": [
    {
     "data": {
      "text/plain": [
       "[[72.869],\n",
       " [76.63600000000002],\n",
       " [77.029],\n",
       " [74.33800000000002],\n",
       " [72.91199999999998],\n",
       " [72.05],\n",
       " [75.85300000000002],\n",
       " [77.464],\n",
       " [76.464],\n",
       " [73.429],\n",
       " [71.533],\n",
       " [70.459],\n",
       " [69.814]]"
      ]
     },
     "execution_count": 50,
     "metadata": {},
     "output_type": "execute_result"
    }
   ],
   "source": [
    "ts_env_temp"
   ]
  },
  {
   "cell_type": "markdown",
   "metadata": {},
   "source": [
    "### load features data"
   ]
  },
  {
   "cell_type": "code",
   "execution_count": 15,
   "metadata": {
    "ExecuteTime": {
     "end_time": "2021-01-14T01:54:36.864465Z",
     "start_time": "2021-01-14T01:54:36.849466Z"
    }
   },
   "outputs": [],
   "source": [
    "pth_data = '../data/test.csv'\n",
    "df_origin = pd.read_csv(pth_data)"
   ]
  },
  {
   "cell_type": "code",
   "execution_count": 16,
   "metadata": {
    "ExecuteTime": {
     "end_time": "2021-01-14T01:54:36.896463Z",
     "start_time": "2021-01-14T01:54:36.865465Z"
    },
    "scrolled": false
   },
   "outputs": [
    {
     "data": {
      "text/html": [
       "<div>\n",
       "<style scoped>\n",
       "    .dataframe tbody tr th:only-of-type {\n",
       "        vertical-align: middle;\n",
       "    }\n",
       "\n",
       "    .dataframe tbody tr th {\n",
       "        vertical-align: top;\n",
       "    }\n",
       "\n",
       "    .dataframe thead th {\n",
       "        text-align: right;\n",
       "    }\n",
       "</style>\n",
       "<table border=\"1\" class=\"dataframe\">\n",
       "  <thead>\n",
       "    <tr style=\"text-align: right;\">\n",
       "      <th></th>\n",
       "      <th>time</th>\n",
       "      <th>height</th>\n",
       "      <th>weight</th>\n",
       "      <th>gender</th>\n",
       "      <th>bmi</th>\n",
       "      <th>age</th>\n",
       "      <th>env_temp</th>\n",
       "      <th>rh</th>\n",
       "      <th>heart_rate</th>\n",
       "      <th>stress_level</th>\n",
       "      <th>skin_temp</th>\n",
       "      <th>eda</th>\n",
       "      <th>TC</th>\n",
       "      <th>TS</th>\n",
       "      <th>Clo</th>\n",
       "      <th>Act</th>\n",
       "    </tr>\n",
       "  </thead>\n",
       "  <tbody>\n",
       "    <tr>\n",
       "      <th>0</th>\n",
       "      <td>2020-12-09 13:20:00</td>\n",
       "      <td>1.62</td>\n",
       "      <td>52</td>\n",
       "      <td>1</td>\n",
       "      <td>19.814053</td>\n",
       "      <td>26</td>\n",
       "      <td>83.779</td>\n",
       "      <td>36.837</td>\n",
       "      <td>97.0</td>\n",
       "      <td>58.0</td>\n",
       "      <td>31.065</td>\n",
       "      <td>8.696614</td>\n",
       "      <td>4</td>\n",
       "      <td>5</td>\n",
       "      <td>0.61</td>\n",
       "      <td>1.0</td>\n",
       "    </tr>\n",
       "    <tr>\n",
       "      <th>1</th>\n",
       "      <td>2020-12-09 13:30:00</td>\n",
       "      <td>1.62</td>\n",
       "      <td>52</td>\n",
       "      <td>1</td>\n",
       "      <td>19.814053</td>\n",
       "      <td>26</td>\n",
       "      <td>87.073</td>\n",
       "      <td>39.856</td>\n",
       "      <td>119.0</td>\n",
       "      <td>NaN</td>\n",
       "      <td>31.588</td>\n",
       "      <td>14.716620</td>\n",
       "      <td>3</td>\n",
       "      <td>6</td>\n",
       "      <td>0.61</td>\n",
       "      <td>4.0</td>\n",
       "    </tr>\n",
       "    <tr>\n",
       "      <th>2</th>\n",
       "      <td>2020-12-09 13:40:00</td>\n",
       "      <td>1.62</td>\n",
       "      <td>52</td>\n",
       "      <td>1</td>\n",
       "      <td>19.814053</td>\n",
       "      <td>26</td>\n",
       "      <td>88.947</td>\n",
       "      <td>40.446</td>\n",
       "      <td>122.0</td>\n",
       "      <td>NaN</td>\n",
       "      <td>31.772</td>\n",
       "      <td>13.199184</td>\n",
       "      <td>3</td>\n",
       "      <td>6</td>\n",
       "      <td>0.61</td>\n",
       "      <td>4.0</td>\n",
       "    </tr>\n",
       "    <tr>\n",
       "      <th>3</th>\n",
       "      <td>2020-12-09 13:50:00</td>\n",
       "      <td>1.62</td>\n",
       "      <td>52</td>\n",
       "      <td>1</td>\n",
       "      <td>19.814053</td>\n",
       "      <td>26</td>\n",
       "      <td>86.437</td>\n",
       "      <td>45.924</td>\n",
       "      <td>106.0</td>\n",
       "      <td>NaN</td>\n",
       "      <td>31.641</td>\n",
       "      <td>7.708510</td>\n",
       "      <td>4</td>\n",
       "      <td>3</td>\n",
       "      <td>0.74</td>\n",
       "      <td>1.0</td>\n",
       "    </tr>\n",
       "    <tr>\n",
       "      <th>4</th>\n",
       "      <td>2020-12-09 14:00:00</td>\n",
       "      <td>1.62</td>\n",
       "      <td>52</td>\n",
       "      <td>1</td>\n",
       "      <td>19.814053</td>\n",
       "      <td>26</td>\n",
       "      <td>83.779</td>\n",
       "      <td>45.179</td>\n",
       "      <td>96.5</td>\n",
       "      <td>NaN</td>\n",
       "      <td>31.274</td>\n",
       "      <td>5.524036</td>\n",
       "      <td>3</td>\n",
       "      <td>2</td>\n",
       "      <td>0.74</td>\n",
       "      <td>1.0</td>\n",
       "    </tr>\n",
       "    <tr>\n",
       "      <th>...</th>\n",
       "      <td>...</td>\n",
       "      <td>...</td>\n",
       "      <td>...</td>\n",
       "      <td>...</td>\n",
       "      <td>...</td>\n",
       "      <td>...</td>\n",
       "      <td>...</td>\n",
       "      <td>...</td>\n",
       "      <td>...</td>\n",
       "      <td>...</td>\n",
       "      <td>...</td>\n",
       "      <td>...</td>\n",
       "      <td>...</td>\n",
       "      <td>...</td>\n",
       "      <td>...</td>\n",
       "      <td>...</td>\n",
       "    </tr>\n",
       "    <tr>\n",
       "      <th>73</th>\n",
       "      <td>2020-12-09 14:40:00</td>\n",
       "      <td>1.77</td>\n",
       "      <td>90</td>\n",
       "      <td>-1</td>\n",
       "      <td>28.727377</td>\n",
       "      <td>28</td>\n",
       "      <td>84.654</td>\n",
       "      <td>15.000</td>\n",
       "      <td>121.5</td>\n",
       "      <td>NaN</td>\n",
       "      <td>31.955</td>\n",
       "      <td>11.877829</td>\n",
       "      <td>2</td>\n",
       "      <td>7</td>\n",
       "      <td>0.74</td>\n",
       "      <td>4.0</td>\n",
       "    </tr>\n",
       "    <tr>\n",
       "      <th>74</th>\n",
       "      <td>2020-12-09 14:50:00</td>\n",
       "      <td>1.77</td>\n",
       "      <td>90</td>\n",
       "      <td>-1</td>\n",
       "      <td>28.727377</td>\n",
       "      <td>28</td>\n",
       "      <td>86.097</td>\n",
       "      <td>16.270</td>\n",
       "      <td>104.0</td>\n",
       "      <td>NaN</td>\n",
       "      <td>31.693</td>\n",
       "      <td>13.723230</td>\n",
       "      <td>4</td>\n",
       "      <td>4</td>\n",
       "      <td>0.61</td>\n",
       "      <td>1.0</td>\n",
       "    </tr>\n",
       "    <tr>\n",
       "      <th>75</th>\n",
       "      <td>2020-12-09 15:00:00</td>\n",
       "      <td>1.77</td>\n",
       "      <td>90</td>\n",
       "      <td>-1</td>\n",
       "      <td>28.727377</td>\n",
       "      <td>28</td>\n",
       "      <td>85.915</td>\n",
       "      <td>15.000</td>\n",
       "      <td>106.0</td>\n",
       "      <td>86.0</td>\n",
       "      <td>32.474</td>\n",
       "      <td>12.256653</td>\n",
       "      <td>5</td>\n",
       "      <td>4</td>\n",
       "      <td>0.61</td>\n",
       "      <td>1.0</td>\n",
       "    </tr>\n",
       "    <tr>\n",
       "      <th>76</th>\n",
       "      <td>2020-12-09 15:10:00</td>\n",
       "      <td>1.77</td>\n",
       "      <td>90</td>\n",
       "      <td>-1</td>\n",
       "      <td>28.727377</td>\n",
       "      <td>28</td>\n",
       "      <td>85.374</td>\n",
       "      <td>25.480</td>\n",
       "      <td>120.0</td>\n",
       "      <td>NaN</td>\n",
       "      <td>31.588</td>\n",
       "      <td>11.623549</td>\n",
       "      <td>5</td>\n",
       "      <td>3</td>\n",
       "      <td>1.00</td>\n",
       "      <td>4.0</td>\n",
       "    </tr>\n",
       "    <tr>\n",
       "      <th>77</th>\n",
       "      <td>2020-12-09 15:20:00</td>\n",
       "      <td>1.77</td>\n",
       "      <td>90</td>\n",
       "      <td>-1</td>\n",
       "      <td>28.727377</td>\n",
       "      <td>28</td>\n",
       "      <td>85.194</td>\n",
       "      <td>17.180</td>\n",
       "      <td>109.0</td>\n",
       "      <td>86.5</td>\n",
       "      <td>31.615</td>\n",
       "      <td>11.110644</td>\n",
       "      <td>4</td>\n",
       "      <td>4</td>\n",
       "      <td>1.00</td>\n",
       "      <td>1.0</td>\n",
       "    </tr>\n",
       "  </tbody>\n",
       "</table>\n",
       "<p>78 rows × 16 columns</p>\n",
       "</div>"
      ],
      "text/plain": [
       "                   time  height  weight  gender        bmi  age  env_temp  \\\n",
       "0   2020-12-09 13:20:00    1.62      52       1  19.814053   26    83.779   \n",
       "1   2020-12-09 13:30:00    1.62      52       1  19.814053   26    87.073   \n",
       "2   2020-12-09 13:40:00    1.62      52       1  19.814053   26    88.947   \n",
       "3   2020-12-09 13:50:00    1.62      52       1  19.814053   26    86.437   \n",
       "4   2020-12-09 14:00:00    1.62      52       1  19.814053   26    83.779   \n",
       "..                  ...     ...     ...     ...        ...  ...       ...   \n",
       "73  2020-12-09 14:40:00    1.77      90      -1  28.727377   28    84.654   \n",
       "74  2020-12-09 14:50:00    1.77      90      -1  28.727377   28    86.097   \n",
       "75  2020-12-09 15:00:00    1.77      90      -1  28.727377   28    85.915   \n",
       "76  2020-12-09 15:10:00    1.77      90      -1  28.727377   28    85.374   \n",
       "77  2020-12-09 15:20:00    1.77      90      -1  28.727377   28    85.194   \n",
       "\n",
       "        rh  heart_rate  stress_level  skin_temp        eda  TC  TS   Clo  Act  \n",
       "0   36.837        97.0          58.0     31.065   8.696614   4   5  0.61  1.0  \n",
       "1   39.856       119.0           NaN     31.588  14.716620   3   6  0.61  4.0  \n",
       "2   40.446       122.0           NaN     31.772  13.199184   3   6  0.61  4.0  \n",
       "3   45.924       106.0           NaN     31.641   7.708510   4   3  0.74  1.0  \n",
       "4   45.179        96.5           NaN     31.274   5.524036   3   2  0.74  1.0  \n",
       "..     ...         ...           ...        ...        ...  ..  ..   ...  ...  \n",
       "73  15.000       121.5           NaN     31.955  11.877829   2   7  0.74  4.0  \n",
       "74  16.270       104.0           NaN     31.693  13.723230   4   4  0.61  1.0  \n",
       "75  15.000       106.0          86.0     32.474  12.256653   5   4  0.61  1.0  \n",
       "76  25.480       120.0           NaN     31.588  11.623549   5   3  1.00  4.0  \n",
       "77  17.180       109.0          86.5     31.615  11.110644   4   4  1.00  1.0  \n",
       "\n",
       "[78 rows x 16 columns]"
      ]
     },
     "execution_count": 16,
     "metadata": {},
     "output_type": "execute_result"
    }
   ],
   "source": [
    "df_origin"
   ]
  },
  {
   "cell_type": "code",
   "execution_count": 17,
   "metadata": {
    "ExecuteTime": {
     "end_time": "2021-01-14T01:54:36.912463Z",
     "start_time": "2021-01-14T01:54:36.897463Z"
    }
   },
   "outputs": [
    {
     "data": {
      "text/plain": [
       "(78, 16)"
      ]
     },
     "execution_count": 17,
     "metadata": {},
     "output_type": "execute_result"
    }
   ],
   "source": [
    "df_origin.shape"
   ]
  },
  {
   "cell_type": "code",
   "execution_count": 18,
   "metadata": {
    "ExecuteTime": {
     "end_time": "2021-01-14T01:54:36.928463Z",
     "start_time": "2021-01-14T01:54:36.913463Z"
    }
   },
   "outputs": [],
   "source": [
    "# for i in range(df_origin.shape[0]):\n",
    "#     t = df_origin.iloc[i, :]['time']\n",
    "#     df_origin['env_temp'][i] = d1[t]"
   ]
  },
  {
   "cell_type": "code",
   "execution_count": 19,
   "metadata": {
    "ExecuteTime": {
     "end_time": "2021-01-14T01:54:36.944464Z",
     "start_time": "2021-01-14T01:54:36.929463Z"
    }
   },
   "outputs": [],
   "source": [
    "df_sort_by_time = df_origin.sort_values(by=\"time\")"
   ]
  },
  {
   "cell_type": "code",
   "execution_count": 20,
   "metadata": {
    "ExecuteTime": {
     "end_time": "2021-01-14T01:54:36.960466Z",
     "start_time": "2021-01-14T01:54:36.946466Z"
    }
   },
   "outputs": [],
   "source": [
    "df_sort_by_time = df_sort_by_time.drop(columns=['time'])"
   ]
  },
  {
   "cell_type": "code",
   "execution_count": 21,
   "metadata": {
    "ExecuteTime": {
     "end_time": "2021-01-14T01:54:36.976464Z",
     "start_time": "2021-01-14T01:54:36.962465Z"
    }
   },
   "outputs": [
    {
     "data": {
      "text/html": [
       "<div>\n",
       "<style scoped>\n",
       "    .dataframe tbody tr th:only-of-type {\n",
       "        vertical-align: middle;\n",
       "    }\n",
       "\n",
       "    .dataframe tbody tr th {\n",
       "        vertical-align: top;\n",
       "    }\n",
       "\n",
       "    .dataframe thead th {\n",
       "        text-align: right;\n",
       "    }\n",
       "</style>\n",
       "<table border=\"1\" class=\"dataframe\">\n",
       "  <thead>\n",
       "    <tr style=\"text-align: right;\">\n",
       "      <th></th>\n",
       "      <th>height</th>\n",
       "      <th>weight</th>\n",
       "      <th>gender</th>\n",
       "      <th>bmi</th>\n",
       "      <th>age</th>\n",
       "      <th>env_temp</th>\n",
       "      <th>rh</th>\n",
       "      <th>heart_rate</th>\n",
       "      <th>stress_level</th>\n",
       "      <th>skin_temp</th>\n",
       "      <th>eda</th>\n",
       "      <th>TC</th>\n",
       "      <th>TS</th>\n",
       "      <th>Clo</th>\n",
       "      <th>Act</th>\n",
       "    </tr>\n",
       "  </thead>\n",
       "  <tbody>\n",
       "  </tbody>\n",
       "</table>\n",
       "</div>"
      ],
      "text/plain": [
       "Empty DataFrame\n",
       "Columns: [height, weight, gender, bmi, age, env_temp, rh, heart_rate, stress_level, skin_temp, eda, TC, TS, Clo, Act]\n",
       "Index: []"
      ]
     },
     "execution_count": 21,
     "metadata": {},
     "output_type": "execute_result"
    }
   ],
   "source": [
    "df_sort_by_time[df_sort_by_time[['env_temp']].isna().env_temp]\n",
    "# no na in env_temp"
   ]
  },
  {
   "cell_type": "code",
   "execution_count": 22,
   "metadata": {
    "ExecuteTime": {
     "end_time": "2021-01-14T01:54:36.992465Z",
     "start_time": "2021-01-14T01:54:36.977468Z"
    }
   },
   "outputs": [],
   "source": [
    "imp = SimpleImputer(strategy='mean')\n",
    "df_imp = pd.DataFrame(imp.fit_transform(df_sort_by_time), columns=df_sort_by_time.columns)"
   ]
  },
  {
   "cell_type": "code",
   "execution_count": 23,
   "metadata": {
    "ExecuteTime": {
     "end_time": "2021-01-14T01:54:37.024465Z",
     "start_time": "2021-01-14T01:54:36.994465Z"
    },
    "scrolled": true
   },
   "outputs": [
    {
     "data": {
      "text/html": [
       "<div>\n",
       "<style scoped>\n",
       "    .dataframe tbody tr th:only-of-type {\n",
       "        vertical-align: middle;\n",
       "    }\n",
       "\n",
       "    .dataframe tbody tr th {\n",
       "        vertical-align: top;\n",
       "    }\n",
       "\n",
       "    .dataframe thead th {\n",
       "        text-align: right;\n",
       "    }\n",
       "</style>\n",
       "<table border=\"1\" class=\"dataframe\">\n",
       "  <thead>\n",
       "    <tr style=\"text-align: right;\">\n",
       "      <th></th>\n",
       "      <th>height</th>\n",
       "      <th>weight</th>\n",
       "      <th>gender</th>\n",
       "      <th>bmi</th>\n",
       "      <th>age</th>\n",
       "      <th>env_temp</th>\n",
       "      <th>rh</th>\n",
       "      <th>heart_rate</th>\n",
       "      <th>stress_level</th>\n",
       "      <th>skin_temp</th>\n",
       "      <th>eda</th>\n",
       "      <th>TC</th>\n",
       "      <th>TS</th>\n",
       "      <th>Clo</th>\n",
       "      <th>Act</th>\n",
       "    </tr>\n",
       "  </thead>\n",
       "  <tbody>\n",
       "    <tr>\n",
       "      <th>0</th>\n",
       "      <td>1.62</td>\n",
       "      <td>52.0</td>\n",
       "      <td>1.0</td>\n",
       "      <td>19.814053</td>\n",
       "      <td>26.0</td>\n",
       "      <td>83.779</td>\n",
       "      <td>36.837</td>\n",
       "      <td>97.0</td>\n",
       "      <td>58.000000</td>\n",
       "      <td>31.065000</td>\n",
       "      <td>8.696614</td>\n",
       "      <td>4.0</td>\n",
       "      <td>5.0</td>\n",
       "      <td>0.61</td>\n",
       "      <td>1.0</td>\n",
       "    </tr>\n",
       "    <tr>\n",
       "      <th>1</th>\n",
       "      <td>1.80</td>\n",
       "      <td>60.0</td>\n",
       "      <td>-1.0</td>\n",
       "      <td>18.518519</td>\n",
       "      <td>24.0</td>\n",
       "      <td>82.508</td>\n",
       "      <td>15.000</td>\n",
       "      <td>86.0</td>\n",
       "      <td>54.890244</td>\n",
       "      <td>30.246000</td>\n",
       "      <td>0.425823</td>\n",
       "      <td>3.0</td>\n",
       "      <td>6.0</td>\n",
       "      <td>0.74</td>\n",
       "      <td>1.0</td>\n",
       "    </tr>\n",
       "    <tr>\n",
       "      <th>2</th>\n",
       "      <td>1.71</td>\n",
       "      <td>64.0</td>\n",
       "      <td>-1.0</td>\n",
       "      <td>21.887076</td>\n",
       "      <td>27.0</td>\n",
       "      <td>85.667</td>\n",
       "      <td>26.673</td>\n",
       "      <td>97.5</td>\n",
       "      <td>57.000000</td>\n",
       "      <td>31.222000</td>\n",
       "      <td>1.089335</td>\n",
       "      <td>4.0</td>\n",
       "      <td>4.0</td>\n",
       "      <td>1.00</td>\n",
       "      <td>1.0</td>\n",
       "    </tr>\n",
       "    <tr>\n",
       "      <th>3</th>\n",
       "      <td>1.64</td>\n",
       "      <td>54.0</td>\n",
       "      <td>1.0</td>\n",
       "      <td>20.077335</td>\n",
       "      <td>24.0</td>\n",
       "      <td>83.467</td>\n",
       "      <td>29.681</td>\n",
       "      <td>79.0</td>\n",
       "      <td>13.000000</td>\n",
       "      <td>30.854000</td>\n",
       "      <td>0.270284</td>\n",
       "      <td>5.0</td>\n",
       "      <td>6.0</td>\n",
       "      <td>0.61</td>\n",
       "      <td>1.0</td>\n",
       "    </tr>\n",
       "    <tr>\n",
       "      <th>4</th>\n",
       "      <td>1.77</td>\n",
       "      <td>90.0</td>\n",
       "      <td>-1.0</td>\n",
       "      <td>28.727377</td>\n",
       "      <td>28.0</td>\n",
       "      <td>85.374</td>\n",
       "      <td>30.650</td>\n",
       "      <td>115.0</td>\n",
       "      <td>90.500000</td>\n",
       "      <td>31.772000</td>\n",
       "      <td>8.124499</td>\n",
       "      <td>1.0</td>\n",
       "      <td>6.0</td>\n",
       "      <td>1.00</td>\n",
       "      <td>1.0</td>\n",
       "    </tr>\n",
       "    <tr>\n",
       "      <th>...</th>\n",
       "      <td>...</td>\n",
       "      <td>...</td>\n",
       "      <td>...</td>\n",
       "      <td>...</td>\n",
       "      <td>...</td>\n",
       "      <td>...</td>\n",
       "      <td>...</td>\n",
       "      <td>...</td>\n",
       "      <td>...</td>\n",
       "      <td>...</td>\n",
       "      <td>...</td>\n",
       "      <td>...</td>\n",
       "      <td>...</td>\n",
       "      <td>...</td>\n",
       "      <td>...</td>\n",
       "    </tr>\n",
       "    <tr>\n",
       "      <th>73</th>\n",
       "      <td>1.68</td>\n",
       "      <td>62.0</td>\n",
       "      <td>-1.0</td>\n",
       "      <td>21.967120</td>\n",
       "      <td>29.0</td>\n",
       "      <td>76.507</td>\n",
       "      <td>26.880</td>\n",
       "      <td>83.5</td>\n",
       "      <td>4.000000</td>\n",
       "      <td>31.745000</td>\n",
       "      <td>1.934344</td>\n",
       "      <td>4.0</td>\n",
       "      <td>3.0</td>\n",
       "      <td>0.74</td>\n",
       "      <td>1.0</td>\n",
       "    </tr>\n",
       "    <tr>\n",
       "      <th>74</th>\n",
       "      <td>1.64</td>\n",
       "      <td>54.0</td>\n",
       "      <td>1.0</td>\n",
       "      <td>20.077335</td>\n",
       "      <td>24.0</td>\n",
       "      <td>88.810</td>\n",
       "      <td>30.999</td>\n",
       "      <td>88.0</td>\n",
       "      <td>50.000000</td>\n",
       "      <td>32.526000</td>\n",
       "      <td>4.887415</td>\n",
       "      <td>2.0</td>\n",
       "      <td>1.0</td>\n",
       "      <td>1.00</td>\n",
       "      <td>1.0</td>\n",
       "    </tr>\n",
       "    <tr>\n",
       "      <th>75</th>\n",
       "      <td>1.62</td>\n",
       "      <td>52.0</td>\n",
       "      <td>1.0</td>\n",
       "      <td>19.814053</td>\n",
       "      <td>26.0</td>\n",
       "      <td>86.981</td>\n",
       "      <td>34.340</td>\n",
       "      <td>94.0</td>\n",
       "      <td>44.000000</td>\n",
       "      <td>31.588000</td>\n",
       "      <td>2.129392</td>\n",
       "      <td>3.0</td>\n",
       "      <td>3.0</td>\n",
       "      <td>1.00</td>\n",
       "      <td>1.0</td>\n",
       "    </tr>\n",
       "    <tr>\n",
       "      <th>76</th>\n",
       "      <td>1.71</td>\n",
       "      <td>64.0</td>\n",
       "      <td>-1.0</td>\n",
       "      <td>21.887076</td>\n",
       "      <td>27.0</td>\n",
       "      <td>86.664</td>\n",
       "      <td>28.598</td>\n",
       "      <td>89.0</td>\n",
       "      <td>49.500000</td>\n",
       "      <td>32.161307</td>\n",
       "      <td>0.385849</td>\n",
       "      <td>4.0</td>\n",
       "      <td>3.0</td>\n",
       "      <td>0.74</td>\n",
       "      <td>1.0</td>\n",
       "    </tr>\n",
       "    <tr>\n",
       "      <th>77</th>\n",
       "      <td>1.77</td>\n",
       "      <td>90.0</td>\n",
       "      <td>-1.0</td>\n",
       "      <td>28.727377</td>\n",
       "      <td>28.0</td>\n",
       "      <td>85.194</td>\n",
       "      <td>17.180</td>\n",
       "      <td>109.0</td>\n",
       "      <td>86.500000</td>\n",
       "      <td>31.615000</td>\n",
       "      <td>11.110644</td>\n",
       "      <td>4.0</td>\n",
       "      <td>4.0</td>\n",
       "      <td>1.00</td>\n",
       "      <td>1.0</td>\n",
       "    </tr>\n",
       "  </tbody>\n",
       "</table>\n",
       "<p>78 rows × 15 columns</p>\n",
       "</div>"
      ],
      "text/plain": [
       "    height  weight  gender        bmi   age  env_temp      rh  heart_rate  \\\n",
       "0     1.62    52.0     1.0  19.814053  26.0    83.779  36.837        97.0   \n",
       "1     1.80    60.0    -1.0  18.518519  24.0    82.508  15.000        86.0   \n",
       "2     1.71    64.0    -1.0  21.887076  27.0    85.667  26.673        97.5   \n",
       "3     1.64    54.0     1.0  20.077335  24.0    83.467  29.681        79.0   \n",
       "4     1.77    90.0    -1.0  28.727377  28.0    85.374  30.650       115.0   \n",
       "..     ...     ...     ...        ...   ...       ...     ...         ...   \n",
       "73    1.68    62.0    -1.0  21.967120  29.0    76.507  26.880        83.5   \n",
       "74    1.64    54.0     1.0  20.077335  24.0    88.810  30.999        88.0   \n",
       "75    1.62    52.0     1.0  19.814053  26.0    86.981  34.340        94.0   \n",
       "76    1.71    64.0    -1.0  21.887076  27.0    86.664  28.598        89.0   \n",
       "77    1.77    90.0    -1.0  28.727377  28.0    85.194  17.180       109.0   \n",
       "\n",
       "    stress_level  skin_temp        eda   TC   TS   Clo  Act  \n",
       "0      58.000000  31.065000   8.696614  4.0  5.0  0.61  1.0  \n",
       "1      54.890244  30.246000   0.425823  3.0  6.0  0.74  1.0  \n",
       "2      57.000000  31.222000   1.089335  4.0  4.0  1.00  1.0  \n",
       "3      13.000000  30.854000   0.270284  5.0  6.0  0.61  1.0  \n",
       "4      90.500000  31.772000   8.124499  1.0  6.0  1.00  1.0  \n",
       "..           ...        ...        ...  ...  ...   ...  ...  \n",
       "73      4.000000  31.745000   1.934344  4.0  3.0  0.74  1.0  \n",
       "74     50.000000  32.526000   4.887415  2.0  1.0  1.00  1.0  \n",
       "75     44.000000  31.588000   2.129392  3.0  3.0  1.00  1.0  \n",
       "76     49.500000  32.161307   0.385849  4.0  3.0  0.74  1.0  \n",
       "77     86.500000  31.615000  11.110644  4.0  4.0  1.00  1.0  \n",
       "\n",
       "[78 rows x 15 columns]"
      ]
     },
     "execution_count": 23,
     "metadata": {},
     "output_type": "execute_result"
    }
   ],
   "source": [
    "df_imp"
   ]
  },
  {
   "cell_type": "code",
   "execution_count": 24,
   "metadata": {
    "ExecuteTime": {
     "end_time": "2021-01-14T01:54:37.040467Z",
     "start_time": "2021-01-14T01:54:37.026464Z"
    }
   },
   "outputs": [],
   "source": [
    "dfs = []\n",
    "for i in range(13):\n",
    "    dfs.append(df_imp.iloc[6 * i:6 * i + 6,:])"
   ]
  },
  {
   "cell_type": "code",
   "execution_count": 25,
   "metadata": {
    "ExecuteTime": {
     "end_time": "2021-01-14T01:54:37.104463Z",
     "start_time": "2021-01-14T01:54:37.041463Z"
    }
   },
   "outputs": [
    {
     "data": {
      "text/plain": [
       "[   height  weight  gender        bmi   age  env_temp      rh  heart_rate  \\\n",
       " 0    1.62    52.0     1.0  19.814053  26.0    83.779  36.837        97.0   \n",
       " 1    1.80    60.0    -1.0  18.518519  24.0    82.508  15.000        86.0   \n",
       " 2    1.71    64.0    -1.0  21.887076  27.0    85.667  26.673        97.5   \n",
       " 3    1.64    54.0     1.0  20.077335  24.0    83.467  29.681        79.0   \n",
       " 4    1.77    90.0    -1.0  28.727377  28.0    85.374  30.650       115.0   \n",
       " 5    1.68    62.0    -1.0  21.967120  29.0    80.139  26.901        80.0   \n",
       " \n",
       "    stress_level  skin_temp       eda   TC   TS   Clo  Act  \n",
       " 0     58.000000  31.065000  8.696614  4.0  5.0  0.61  1.0  \n",
       " 1     54.890244  30.246000  0.425823  3.0  6.0  0.74  1.0  \n",
       " 2     57.000000  31.222000  1.089335  4.0  4.0  1.00  1.0  \n",
       " 3     13.000000  30.854000  0.270284  5.0  6.0  0.61  1.0  \n",
       " 4     90.500000  31.772000  8.124499  1.0  6.0  1.00  1.0  \n",
       " 5     16.000000  32.161307  0.838267  3.0  6.0  1.00  1.0  ,\n",
       "     height  weight  gender        bmi   age  env_temp      rh  heart_rate  \\\n",
       " 6     1.62    52.0     1.0  19.814053  26.0    87.073  39.856      119.00   \n",
       " 7     1.71    64.0    -1.0  21.887076  27.0    87.573  29.728      100.00   \n",
       " 8     1.77    90.0    -1.0  28.727377  28.0    87.733  32.850      105.00   \n",
       " 9     1.68    62.0    -1.0  21.967120  29.0    83.779  35.520      100.00   \n",
       " 10    1.80    60.0    -1.0  18.518519  24.0    86.097  19.260       75.00   \n",
       " 11    1.64    54.0     1.0  20.077335  24.0    86.211  32.388       98.22   \n",
       " \n",
       "     stress_level  skin_temp        eda   TC   TS   Clo  Act  \n",
       " 6      54.890244  31.588000  14.716620  3.0  6.0  0.61  4.0  \n",
       " 7      54.890244  31.458000   3.072669  1.0  7.0  1.00  4.0  \n",
       " 8      54.890244  33.327000  13.977884  1.0  7.0  1.00  2.6  \n",
       " 9      54.890244  32.161307   4.534040  2.0  7.0  1.00  2.6  \n",
       " 10     54.890244  32.163000   1.876792  2.0  6.0  0.74  2.6  \n",
       " 11     45.000000  31.353000   1.830911  4.0  7.0  0.61  2.6  ,\n",
       "     height  weight  gender        bmi   age  env_temp      rh  heart_rate  \\\n",
       " 12    1.62    52.0     1.0  19.814053  26.0    88.947  40.446       122.0   \n",
       " 13    1.80    60.0    -1.0  18.518519  24.0    87.733  21.100       115.0   \n",
       " 14    1.71    64.0    -1.0  21.887076  27.0    90.239  32.509       121.5   \n",
       " 15    1.68    62.0    -1.0  21.967120  29.0    86.119  39.833        86.0   \n",
       " 16    1.77    90.0    -1.0  28.727377  28.0    87.915  36.940       107.0   \n",
       " 17    1.64    54.0     1.0  20.077335  24.0    88.214  35.534       115.0   \n",
       " \n",
       "     stress_level  skin_temp        eda   TC   TS   Clo  Act  \n",
       " 12     54.890244     31.772  13.199184  3.0  6.0  0.61  4.0  \n",
       " 13     54.890244     31.772   9.119182  4.0  4.0  0.74  2.6  \n",
       " 14     54.890244     32.500   4.562831  1.0  6.0  1.00  4.0  \n",
       " 15     40.000000     31.510   4.957593  3.0  5.0  1.00  2.6  \n",
       " 16     84.000000     33.636  19.219278  1.0  7.0  1.00  2.6  \n",
       " 17     54.890244     31.300   3.810682  4.0  5.0  0.61  2.6  ,\n",
       "     height  weight  gender        bmi   age  env_temp      rh  heart_rate  \\\n",
       " 18    1.64    54.0     1.0  20.077335  24.0    87.300  40.763       100.0   \n",
       " 19    1.68    62.0    -1.0  21.967120  29.0    85.849  33.703        74.0   \n",
       " 20    1.80    60.0    -1.0  18.518519  24.0    86.277  22.740       119.0   \n",
       " 21    1.71    64.0    -1.0  21.887076  27.0    90.657  36.503        89.0   \n",
       " 22    1.77    90.0    -1.0  28.727377  28.0    86.459  30.580        95.0   \n",
       " 23    1.62    52.0     1.0  19.814053  26.0    86.437  45.924       106.0   \n",
       " \n",
       "     stress_level  skin_temp        eda   TC   TS   Clo  Act  \n",
       " 18     73.000000     31.196   5.216038  5.0  5.0  0.74  2.6  \n",
       " 19      6.000000     30.933   2.674993  4.0  3.0  0.61  2.6  \n",
       " 20     54.890244     32.422  10.744312  4.0  4.0  1.00  2.6  \n",
       " 21     54.890244     32.422   5.111479  5.0  4.0  0.61  1.0  \n",
       " 22     63.000000     33.379  14.052045  2.0  4.0  0.61  1.0  \n",
       " 23     54.890244     31.641   7.708510  4.0  3.0  0.74  1.0  ,\n",
       "     height  weight  gender        bmi   age  env_temp      rh  heart_rate  \\\n",
       " 24    1.68    62.0    -1.0  21.967120  29.0    83.154  28.605        82.0   \n",
       " 25    1.80    60.0    -1.0  18.518519  24.0    85.014  26.210       124.0   \n",
       " 26    1.77    90.0    -1.0  28.727377  28.0    87.915  31.000        97.0   \n",
       " 27    1.71    64.0    -1.0  21.887076  27.0    90.565  38.946        79.0   \n",
       " 28    1.64    54.0     1.0  20.077335  24.0    86.391  43.915       107.0   \n",
       " 29    1.62    52.0     1.0  19.814053  26.0    83.779  45.179        96.5   \n",
       " \n",
       "     stress_level  skin_temp        eda   TC   TS   Clo  Act  \n",
       " 24     14.000000     30.563   2.674133  4.0  3.0  0.61  2.6  \n",
       " 25     54.890244     31.667  12.124664  4.0  4.0  1.00  2.6  \n",
       " 26     70.000000     33.713  13.866132  2.0  4.0  0.61  1.0  \n",
       " 27     20.000000     32.889   3.411078  3.0  3.0  0.61  1.0  \n",
       " 28     54.890244     31.327   9.444642  5.0  6.0  0.74  2.6  \n",
       " 29     54.890244     31.274   5.524036  3.0  2.0  0.74  1.0  ,\n",
       "     height  weight  gender        bmi   age  env_temp      rh  heart_rate  \\\n",
       " 30    1.62    52.0     1.0  19.814053  26.0    85.352  43.774       108.0   \n",
       " 31    1.80    60.0    -1.0  18.518519  24.0    85.554  26.010        91.0   \n",
       " 32    1.71    64.0    -1.0  21.887076  27.0    89.269  29.694        85.0   \n",
       " 33    1.77    90.0    -1.0  28.727377  28.0    85.554  20.440       108.0   \n",
       " 34    1.68    62.0    -1.0  21.967120  29.0    80.272  29.908       133.0   \n",
       " 35    1.64    54.0     1.0  20.077335  24.0    86.844  43.901        86.0   \n",
       " \n",
       "     stress_level  skin_temp        eda   TC   TS   Clo  Act  \n",
       " 30     81.000000     31.955   4.809601  3.0  3.0  1.00  2.6  \n",
       " 31     54.890244     32.435   6.234805  4.0  3.0  0.61  1.0  \n",
       " 32     54.890244     32.993   3.396911  4.0  5.0  0.74  2.6  \n",
       " 33     77.000000     32.993  11.785819  5.0  4.0  0.74  2.6  \n",
       " 34     54.890244     30.008   3.142502  3.0  5.0  0.74  4.0  \n",
       " 35     54.890244     31.405   9.015865  5.0  3.0  1.00  1.0  ,\n",
       "     height  weight  gender        bmi   age  env_temp      rh  heart_rate  \\\n",
       " 36    1.68    62.0    -1.0  21.967120  29.0    78.733  34.017       147.0   \n",
       " 37    1.71    64.0    -1.0  21.887076  27.0    89.407  37.523       103.0   \n",
       " 38    1.77    90.0    -1.0  28.727377  28.0    85.374  15.830        99.0   \n",
       " 39    1.64    54.0     1.0  20.077335  24.0    87.163  37.715        87.0   \n",
       " 40    1.62    52.0     1.0  19.814053  26.0    86.754  41.402       108.0   \n",
       " 41    1.80    60.0    -1.0  18.518519  24.0    86.459  23.260        92.0   \n",
       " \n",
       "     stress_level  skin_temp        eda   TC   TS   Clo  Act  \n",
       " 36     54.890244     31.405   7.147095  2.0  7.0  0.74  4.0  \n",
       " 37     74.000000     32.811   5.732126  2.0  6.0  0.74  2.6  \n",
       " 38     74.000000     32.967  12.022871  5.0  4.0  0.74  2.6  \n",
       " 39     45.000000     32.059   7.735351  5.0  5.0  1.00  1.0  \n",
       " 40     84.000000     32.241   4.962585  3.0  6.0  1.00  2.6  \n",
       " 41     72.000000     33.405   6.447540  3.0  5.0  0.61  2.6  ,\n",
       "     height  weight  gender        bmi   age  env_temp      rh  heart_rate  \\\n",
       " 42    1.71    64.0    -1.0  21.887076  27.0    89.685  33.659        97.0   \n",
       " 43    1.77    90.0    -1.0  28.727377  28.0    86.097  35.130        99.0   \n",
       " 44    1.68    62.0    -1.0  21.967120  29.0    79.655  34.332        96.0   \n",
       " 45    1.64    54.0     1.0  20.077335  24.0    90.055  36.542        85.0   \n",
       " 46    1.62    52.0     1.0  19.814053  26.0    88.306  38.612       103.0   \n",
       " 47    1.80    60.0    -1.0  18.518519  24.0    91.987  18.400        99.0   \n",
       " \n",
       "     stress_level  skin_temp        eda   TC   TS   Clo  Act  \n",
       " 42     54.890244     32.863   4.439410  3.0  5.0  1.00  1.0  \n",
       " 43     85.000000     33.276  11.515508  5.0  4.0  0.74  2.6  \n",
       " 44     54.890244     32.863  10.379622  3.0  6.0  1.00  1.0  \n",
       " 45     43.000000     32.811   7.138001  5.0  5.0  0.61  1.0  \n",
       " 46     62.000000     32.630   5.889015  4.0  5.0  0.61  1.0  \n",
       " 47     54.890244     33.199   6.666966  4.0  3.0  0.74  1.0  ,\n",
       "     height  weight  gender        bmi   age  env_temp      rh  heart_rate  \\\n",
       " 48    1.64    54.0     1.0  20.077335  24.0    89.638  32.449        85.0   \n",
       " 49    1.77    90.0    -1.0  28.727377  28.0    84.654  15.000       121.5   \n",
       " 50    1.71    64.0    -1.0  21.887076  27.0    89.454  32.829        81.0   \n",
       " 51    1.80    60.0    -1.0  18.518519  24.0    89.017  15.000        86.0   \n",
       " 52    1.62    52.0     1.0  19.814053  26.0    88.075  38.530        91.0   \n",
       " 53    1.68    62.0    -1.0  21.967120  29.0    79.480  34.189        88.0   \n",
       " \n",
       "     stress_level  skin_temp        eda   TC   TS   Clo  Act  \n",
       " 48     17.000000     32.630   6.399591  4.0  3.0  0.61  1.0  \n",
       " 49     54.890244     31.955  11.877829  2.0  7.0  0.74  4.0  \n",
       " 50     54.890244     32.396   3.558766  4.0  5.0  1.00  1.0  \n",
       " 51     71.000000     33.945   5.119660  3.0  6.0  0.74  1.0  \n",
       " 52     48.000000     32.111   4.639537  4.0  3.0  0.61  1.0  \n",
       " 53     54.890244     33.893  10.986173  2.0  7.0  1.00  1.0  ,\n",
       "     height  weight  gender        bmi   age  env_temp      rh  heart_rate  \\\n",
       " 54    1.62    52.0     1.0  19.814053  26.0    87.300  35.308      101.00   \n",
       " 55    1.71    64.0    -1.0  21.887076  27.0    89.085  31.451       76.00   \n",
       " 56    1.80    60.0    -1.0  18.518519  24.0    90.867  29.640       99.00   \n",
       " 57    1.64    54.0     1.0  20.077335  24.0    85.667  31.757       98.22   \n",
       " 58    1.68    62.0    -1.0  21.967120  29.0    78.602  31.083       88.00   \n",
       " 59    1.77    90.0    -1.0  28.727377  28.0    86.097  16.270      104.00   \n",
       " \n",
       "     stress_level  skin_temp        eda   TC   TS   Clo  Act  \n",
       " 54     54.890244     32.292   4.646609  2.0  2.0  0.74  2.6  \n",
       " 55     54.890244     32.085   0.746008  6.0  4.0  0.61  1.0  \n",
       " 56     87.000000     34.124   5.364546  5.0  4.0  1.00  2.6  \n",
       " 57     54.000000     32.267   6.153355  4.0  3.0  0.74  1.0  \n",
       " 58     54.890244     32.630   6.365433  5.0  3.0  0.61  1.0  \n",
       " 59     54.890244     31.693  13.723230  4.0  4.0  0.61  1.0  ,\n",
       "     height  weight  gender        bmi   age  env_temp      rh  heart_rate  \\\n",
       " 60    1.77    90.0    -1.0  28.727377  28.0    85.915  15.000       106.0   \n",
       " 61    1.64    54.0     1.0  20.077335  24.0    84.182  29.219        94.0   \n",
       " 62    1.71    64.0    -1.0  21.887076  27.0    88.671  30.504       106.0   \n",
       " 63    1.68    62.0    -1.0  21.967120  29.0    77.335  30.213       103.0   \n",
       " 64    1.62    52.0     1.0  19.814053  26.0    86.527  35.374        98.0   \n",
       " 65    1.80    60.0    -1.0  18.518519  24.0    86.641  15.000        87.0   \n",
       " \n",
       "     stress_level  skin_temp        eda   TC   TS   Clo  Act  \n",
       " 60     86.000000     32.474  12.256653  5.0  4.0  0.61  1.0  \n",
       " 61     73.000000     31.850   5.418105  4.0  2.0  0.74  1.0  \n",
       " 62     54.890244     31.458   0.815752  4.0  2.0  0.61  1.0  \n",
       " 63     54.890244     32.707   3.362897  4.0  3.0  0.61  1.0  \n",
       " 64     60.000000     31.929   3.644545  2.0  1.0  0.74  1.0  \n",
       " 65     64.000000     33.585   4.503452  4.0  2.0  1.00  1.0  ,\n",
       "     height  weight  gender        bmi   age  env_temp      rh  heart_rate  \\\n",
       " 66    1.62    52.0     1.0  19.814053  26.0    86.256  35.009       94.00   \n",
       " 67    1.68    62.0    -1.0  21.967120  29.0    77.596  24.570       98.22   \n",
       " 68    1.71    64.0    -1.0  21.887076  27.0    86.844  25.256      115.00   \n",
       " 69    1.64    54.0     1.0  20.077335  24.0    86.074  30.560       94.00   \n",
       " 70    1.77    90.0    -1.0  28.727377  28.0    85.374  25.480      120.00   \n",
       " 71    1.80    60.0    -1.0  18.518519  24.0    84.474  28.290       95.00   \n",
       " \n",
       "     stress_level  skin_temp        eda   TC   TS   Clo  Act  \n",
       " 66     51.000000     31.902   3.313086  4.0  3.0  1.00  1.0  \n",
       " 67     54.890244     32.604   2.685867  5.0  4.0  0.74  1.0  \n",
       " 68     54.890244     30.008   0.185854  3.0  5.0  0.74  4.0  \n",
       " 69     57.000000     32.163   5.077969  2.0  1.0  1.00  1.0  \n",
       " 70     54.890244     31.588  11.623549  5.0  3.0  1.00  4.0  \n",
       " 71     54.890244     32.215   4.607007  2.0  2.0  0.61  4.0  ,\n",
       "     height  weight  gender        bmi   age  env_temp      rh  heart_rate  \\\n",
       " 72    1.80    60.0    -1.0  18.518519  24.0    86.823  39.470        56.0   \n",
       " 73    1.68    62.0    -1.0  21.967120  29.0    76.507  26.880        83.5   \n",
       " 74    1.64    54.0     1.0  20.077335  24.0    88.810  30.999        88.0   \n",
       " 75    1.62    52.0     1.0  19.814053  26.0    86.981  34.340        94.0   \n",
       " 76    1.71    64.0    -1.0  21.887076  27.0    86.664  28.598        89.0   \n",
       " 77    1.77    90.0    -1.0  28.727377  28.0    85.194  17.180       109.0   \n",
       " \n",
       "     stress_level  skin_temp        eda   TC   TS   Clo  Act  \n",
       " 72           2.0  32.837000   4.495317  5.0  4.0  0.61  1.0  \n",
       " 73           4.0  31.745000   1.934344  4.0  3.0  0.74  1.0  \n",
       " 74          50.0  32.526000   4.887415  2.0  1.0  1.00  1.0  \n",
       " 75          44.0  31.588000   2.129392  3.0  3.0  1.00  1.0  \n",
       " 76          49.5  32.161307   0.385849  4.0  3.0  0.74  1.0  \n",
       " 77          86.5  31.615000  11.110644  4.0  4.0  1.00  1.0  ]"
      ]
     },
     "execution_count": 25,
     "metadata": {},
     "output_type": "execute_result"
    }
   ],
   "source": [
    "dfs"
   ]
  },
  {
   "cell_type": "markdown",
   "metadata": {},
   "source": [
    "## exmine min"
   ]
  },
  {
   "cell_type": "code",
   "execution_count": 26,
   "metadata": {
    "ExecuteTime": {
     "end_time": "2021-01-14T01:54:37.120465Z",
     "start_time": "2021-01-14T01:54:37.105464Z"
    }
   },
   "outputs": [],
   "source": [
    "X_columns = ['height', 'weight', 'gender', 'bmi', 'age', 'rh', \\\n",
    "                      'heart_rate', 'stress_level', 'skin_temp', 'eda', \\\n",
    "                      'Clo', 'Act']"
   ]
  },
  {
   "cell_type": "code",
   "execution_count": 27,
   "metadata": {
    "ExecuteTime": {
     "end_time": "2021-01-14T01:54:37.648462Z",
     "start_time": "2021-01-14T01:54:37.121465Z"
    }
   },
   "outputs": [],
   "source": [
    "minTs = []\n",
    "for df in dfs:\n",
    "    X = df[X_columns]\n",
    "    y = rfr_min.predict(X)\n",
    "    minTs.append(y)"
   ]
  },
  {
   "cell_type": "code",
   "execution_count": 28,
   "metadata": {
    "ExecuteTime": {
     "end_time": "2021-01-14T01:54:37.663986Z",
     "start_time": "2021-01-14T01:54:37.649463Z"
    }
   },
   "outputs": [
    {
     "data": {
      "text/plain": [
       "[array([74.63968125, 75.44001625, 73.91976625, 75.4761575 , 74.14667125,\n",
       "        73.65998375]),\n",
       " array([76.03901625, 75.08317   , 75.225425  , 74.89752125, 76.93964375,\n",
       "        77.16456125]),\n",
       " array([75.99164   , 76.78888375, 74.99672625, 74.84109375, 74.87067   ,\n",
       "        77.21586   ]),\n",
       " array([76.3387125 , 76.18811   , 76.5632325 , 74.66374125, 74.85253   ,\n",
       "        73.9022275 ]),\n",
       " array([76.21731875, 76.43087625, 74.63874875, 74.8241725 , 76.29387125,\n",
       "        73.96796125]),\n",
       " array([74.54248625, 76.11965   , 75.00500375, 75.291265  , 75.38670875,\n",
       "        74.24743875]),\n",
       " array([75.249705  , 74.90008   , 75.3214225 , 74.647285  , 74.8446525 ,\n",
       "        77.76320125]),\n",
       " array([73.8199375 , 75.29959875, 73.78222375, 75.75803375, 74.709455  ,\n",
       "        75.51498375]),\n",
       " array([75.7314775 , 75.51459625, 73.8111575 , 75.190725  , 74.49927125,\n",
       "        73.40752   ]),\n",
       " array([75.25876   , 74.5250925 , 76.1094725 , 75.47194625, 74.58301375,\n",
       "        75.135735  ]),\n",
       " array([74.98054   , 74.91350125, 74.6813275 , 74.61423125, 74.07293   ,\n",
       "        74.82563375]),\n",
       " array([73.98427   , 73.9332225 , 75.5817575 , 74.92522375, 75.45647   ,\n",
       "        77.8626675 ]),\n",
       " array([76.40284375, 73.65889875, 75.02058   , 74.07185375, 73.92076875,\n",
       "        74.19323375])]"
      ]
     },
     "execution_count": 28,
     "metadata": {},
     "output_type": "execute_result"
    }
   ],
   "source": [
    "minTs"
   ]
  },
  {
   "cell_type": "markdown",
   "metadata": {},
   "source": [
    "## exmine max"
   ]
  },
  {
   "cell_type": "code",
   "execution_count": 29,
   "metadata": {
    "ExecuteTime": {
     "end_time": "2021-01-14T01:54:38.599500Z",
     "start_time": "2021-01-14T01:54:37.664987Z"
    }
   },
   "outputs": [],
   "source": [
    "maxTs = []\n",
    "for df in dfs:\n",
    "    X = df[X_columns]\n",
    "    y = rfr_max.predict(X)\n",
    "    maxTs.append(y)"
   ]
  },
  {
   "cell_type": "code",
   "execution_count": 30,
   "metadata": {
    "ExecuteTime": {
     "end_time": "2021-01-14T01:54:38.615019Z",
     "start_time": "2021-01-14T01:54:38.600501Z"
    }
   },
   "outputs": [
    {
     "data": {
      "text/plain": [
       "[array([79.29865533, 82.22757067, 81.66018133, 78.55813067, 81.961094  ,\n",
       "        81.590562  ]),\n",
       " array([79.28747467, 81.704864  , 81.86623733, 81.672708  , 82.72769933,\n",
       "        79.26707733]),\n",
       " array([79.30427067, 82.52042667, 81.81236733, 81.68864   , 82.04412467,\n",
       "        79.28954867]),\n",
       " array([79.34636467, 81.630128  , 82.61821333, 81.77828333, 81.92087933,\n",
       "        79.15340067]),\n",
       " array([81.63352467, 82.54224733, 82.056194  , 81.839716  , 79.008952  ,\n",
       "        79.055914  ]),\n",
       " array([79.40744467, 82.51063667, 81.890646  , 81.95981867, 81.60021133,\n",
       "        79.44657467]),\n",
       " array([81.61929667, 81.844268  , 81.94815867, 79.834782  , 79.726074  ,\n",
       "        82.666332  ]),\n",
       " array([81.80522533, 81.92593933, 81.760214  , 79.56628067, 79.46911333,\n",
       "        82.48442933]),\n",
       " array([79.54234733, 81.876398  , 81.743788  , 82.67637333, 79.34843533,\n",
       "        81.87369   ]),\n",
       " array([79.42660733, 81.57765867, 82.73216   , 79.46655733, 81.74108333,\n",
       "        81.847374  ]),\n",
       " array([81.937816  , 79.44412333, 81.59524933, 81.70613267, 79.428904  ,\n",
       "        82.663906  ]),\n",
       " array([79.784068  , 81.69223933, 81.277252  , 79.80920133, 81.863766  ,\n",
       "        82.55129867]),\n",
       " array([82.91874467, 81.68927933, 79.87487867, 79.73119733, 81.43551133,\n",
       "        81.93636333])]"
      ]
     },
     "execution_count": 30,
     "metadata": {},
     "output_type": "execute_result"
    }
   ],
   "source": [
    "maxTs"
   ]
  },
  {
   "cell_type": "markdown",
   "metadata": {},
   "source": [
    "## compute group optimal tempreture"
   ]
  },
  {
   "cell_type": "markdown",
   "metadata": {},
   "source": [
    "### use sensitive first model"
   ]
  },
  {
   "cell_type": "code",
   "execution_count": 31,
   "metadata": {
    "ExecuteTime": {
     "end_time": "2021-01-14T01:54:38.631017Z",
     "start_time": "2021-01-14T01:54:38.616017Z"
    }
   },
   "outputs": [
    {
     "name": "stdout",
     "output_type": "stream",
     "text": [
      "sensitive first model\n",
      "sensitive first model\n",
      "sensitive first model\n",
      "sensitive first model\n",
      "sensitive first model\n",
      "sensitive first model\n",
      "sensitive first model\n",
      "sensitive first model\n",
      "sensitive first model\n",
      "sensitive first model\n",
      "sensitive first model\n",
      "sensitive first model\n",
      "sensitive first model\n"
     ]
    }
   ],
   "source": [
    "ts_sensitive_model = []\n",
    "for i in range(13):\n",
    "    minT = minTs[i]\n",
    "    maxT = maxTs[i]\n",
    "    ogt = group_tempreture_model.OptimalGroupTempreture(minT, maxT)\n",
    "    t = ogt.getTempreture(model='sensitive first')\n",
    "    ts_sensitive_model.append(t)"
   ]
  },
  {
   "cell_type": "code",
   "execution_count": 32,
   "metadata": {
    "ExecuteTime": {
     "end_time": "2021-01-14T01:54:38.647020Z",
     "start_time": "2021-01-14T01:54:38.632018Z"
    }
   },
   "outputs": [
    {
     "data": {
      "text/plain": [
       "[77.54677547682248,\n",
       " 78.35545339955304,\n",
       " 78.33513058023699,\n",
       " 78.15845546216879,\n",
       " 78.07342454935076,\n",
       " 78.01145654919587,\n",
       " 78.35748044072108,\n",
       " 77.90538573101716,\n",
       " 77.84688075896166,\n",
       " 78.0253068945768,\n",
       " 77.7813513832147,\n",
       " 78.28835417621369,\n",
       " 77.86127472382996]"
      ]
     },
     "execution_count": 32,
     "metadata": {},
     "output_type": "execute_result"
    }
   ],
   "source": [
    "ts_sensitive_model"
   ]
  },
  {
   "cell_type": "markdown",
   "metadata": {},
   "source": [
    "### use otd model"
   ]
  },
  {
   "cell_type": "code",
   "execution_count": 33,
   "metadata": {
    "ExecuteTime": {
     "end_time": "2021-01-14T01:54:38.663021Z",
     "start_time": "2021-01-14T01:54:38.648019Z"
    }
   },
   "outputs": [
    {
     "name": "stdout",
     "output_type": "stream",
     "text": [
      "otd model\n",
      "otd model\n",
      "otd model\n",
      "otd model\n",
      "otd model\n",
      "otd model\n",
      "otd model\n",
      "otd model\n",
      "otd model\n",
      "otd model\n",
      "otd model\n",
      "otd model\n",
      "otd model\n"
     ]
    }
   ],
   "source": [
    "ts_otd_model = []\n",
    "for i in range(13):\n",
    "    minT = minTs[i]\n",
    "    maxT = maxTs[i]\n",
    "    ogt = group_tempreture_model.OptimalGroupTempreture(minT, maxT)\n",
    "    t = ogt.getTempreture(model='otd model', ppd=0.5)\n",
    "    ts_otd_model.append(t)"
   ]
  },
  {
   "cell_type": "code",
   "execution_count": 34,
   "metadata": {
    "ExecuteTime": {
     "end_time": "2021-01-14T01:54:38.679021Z",
     "start_time": "2021-01-14T01:54:38.664020Z"
    }
   },
   "outputs": [
    {
     "data": {
      "text/plain": [
       "[77.00000000000001,\n",
       " 78.2,\n",
       " 78.25,\n",
       " 77.85,\n",
       " 77.75000000000001,\n",
       " 77.8,\n",
       " 78.75,\n",
       " 77.6,\n",
       " 77.55,\n",
       " 77.8,\n",
       " 77.20000000000002,\n",
       " 78.8,\n",
       " 78.10000000000001]"
      ]
     },
     "execution_count": 34,
     "metadata": {},
     "output_type": "execute_result"
    }
   ],
   "source": [
    "ts_otd_model"
   ]
  },
  {
   "cell_type": "markdown",
   "metadata": {},
   "source": [
    "### auto judge which model to use"
   ]
  },
  {
   "cell_type": "code",
   "execution_count": 39,
   "metadata": {
    "ExecuteTime": {
     "end_time": "2021-01-14T01:56:12.319605Z",
     "start_time": "2021-01-14T01:56:12.309085Z"
    }
   },
   "outputs": [
    {
     "name": "stdout",
     "output_type": "stream",
     "text": [
      "sensitive people percentage: 0.0\n",
      "otd model\n",
      "sensitive people percentage: 0.16666666666666666\n",
      "sensitive first model\n",
      "sensitive people percentage: 0.16666666666666666\n",
      "sensitive people percentage: 0.16666666666666666\n",
      "sensitive first model\n",
      "sensitive people percentage: 0.16666666666666666\n",
      "sensitive people percentage: 0.0\n",
      "otd model\n",
      "sensitive people percentage: 0.16666666666666666\n",
      "sensitive first model\n",
      "sensitive people percentage: 0.16666666666666666\n",
      "sensitive people percentage: 0.0\n",
      "otd model\n",
      "sensitive people percentage: 0.0\n",
      "otd model\n",
      "sensitive people percentage: 0.0\n",
      "otd model\n",
      "sensitive people percentage: 0.0\n",
      "otd model\n",
      "sensitive people percentage: 0.0\n",
      "otd model\n",
      "sensitive people percentage: 0.0\n",
      "otd model\n",
      "sensitive people percentage: 0.0\n",
      "otd model\n",
      "sensitive people percentage: 0.0\n",
      "otd model\n"
     ]
    }
   ],
   "source": [
    "ts_auto = []\n",
    "for i in range(13):\n",
    "    minT = minTs[i]\n",
    "    maxT = maxTs[i]\n",
    "    ogt = group_tempreture_model.OptimalGroupTempreture(minT, maxT)\n",
    "    t = ogt.getTempreture(sensitiveRange=3)\n",
    "    ts_auto.append(t)"
   ]
  },
  {
   "cell_type": "code",
   "execution_count": 36,
   "metadata": {
    "ExecuteTime": {
     "end_time": "2021-01-14T01:54:38.711018Z",
     "start_time": "2021-01-14T01:54:38.696020Z"
    }
   },
   "outputs": [
    {
     "data": {
      "text/plain": [
       "[77.00000000000001,\n",
       " 78.2,\n",
       " 78.25,\n",
       " 77.85,\n",
       " 77.75000000000001,\n",
       " 77.8,\n",
       " 78.75,\n",
       " 77.6,\n",
       " 77.55,\n",
       " 77.8,\n",
       " 77.20000000000002,\n",
       " 78.8,\n",
       " 78.10000000000001]"
      ]
     },
     "execution_count": 36,
     "metadata": {},
     "output_type": "execute_result"
    }
   ],
   "source": [
    "ts_auto"
   ]
  },
  {
   "cell_type": "markdown",
   "metadata": {},
   "source": [
    "# draw"
   ]
  },
  {
   "cell_type": "code",
   "execution_count": 42,
   "metadata": {
    "ExecuteTime": {
     "end_time": "2021-01-14T03:34:22.543423Z",
     "start_time": "2021-01-14T03:34:22.534426Z"
    }
   },
   "outputs": [],
   "source": [
    "for i in range(len(l_t)):\n",
    "    l_t[i].append(ts_sensitive_model[i])\n",
    "    l_t[i].append(ts_otd_model[i])\n",
    "    l_t[i].append(ts_auto[i])"
   ]
  },
  {
   "cell_type": "code",
   "execution_count": 44,
   "metadata": {
    "ExecuteTime": {
     "end_time": "2021-01-14T05:17:12.745179Z",
     "start_time": "2021-01-14T05:17:12.727193Z"
    }
   },
   "outputs": [],
   "source": [
    "time_start = datetime.datetime.strptime('12/09/20 13:20:00', '%m/%d/%y %H:%M:%S')\n",
    "time_end = datetime.datetime.strptime('12/09/20 15:20:00', '%m/%d/%y %H:%M:%S')\n",
    "\n",
    "t_list = []\n",
    "\n",
    "t = time_start\n",
    "while t <= time_end:\n",
    "    t_list.append(t)\n",
    "    t = t + pd.Timedelta('10min')\n",
    "\n",
    "t_Series = pd.Series(t_list)"
   ]
  },
  {
   "cell_type": "code",
   "execution_count": 60,
   "metadata": {
    "ExecuteTime": {
     "end_time": "2021-01-14T05:28:28.072889Z",
     "start_time": "2021-01-14T05:28:27.896377Z"
    }
   },
   "outputs": [
    {
     "data": {
      "image/png": "[encoded data removed]",
      "text/plain": [
       "<Figure size 1080x720 with 1 Axes>"
      ]
     },
     "metadata": {
      "needs_background": "light"
     },
     "output_type": "display_data"
    }
   ],
   "source": [
    "plt.plot(t_Series, ts_sensitive_model, marker='o', label=\"tempreture computed by sensitive first model\")\n",
    "plt.plot(t_Series, ts_otd_model, marker='o', label=\"tempreture computed by otd model\")\n",
    "plt.plot(t_Series, ts_auto, marker='o', label=\"tempreture computed by auto seleceted model\")\n",
    "\n",
    "plt.xlabel('time (date hour:minute)')\n",
    "plt.ylabel('Tempreture (°F)')\n",
    "plt.legend(loc='upper left')\n",
    "plt.grid(True)\n",
    "\n",
    "plt.show()"
   ]
  },
  {
   "cell_type": "code",
   "execution_count": 58,
   "metadata": {
    "ExecuteTime": {
     "end_time": "2021-01-14T05:27:38.762526Z",
     "start_time": "2021-01-14T05:27:38.601528Z"
    }
   },
   "outputs": [
    {
     "data": {
      "image/png": "[encoded data removed]",
      "text/plain": [
       "<Figure size 1080x720 with 1 Axes>"
      ]
     },
     "metadata": {
      "needs_background": "light"
     },
     "output_type": "display_data"
    }
   ],
   "source": [
    "plt.plot(t_Series, ts_env_temp, marker='o', label=\"enviroment tempreture\")\n",
    "plt.plot(t_Series, ts_sensitive_model, marker='o', label=\"tempreture computed by sensitive first model\")\n",
    "plt.plot(t_Series, ts_otd_model, marker='o', label=\"tempreture computed by otd model\")\n",
    "plt.plot(t_Series, ts_auto, marker='o', label=\"tempreture computed by auto seleceted model\")\n",
    "\n",
    "plt.xlabel('time (date hour:minute)')\n",
    "plt.ylabel('Tempreture (°F)')\n",
    "plt.legend(loc='lower left')\n",
    "plt.grid(True)\n",
    "\n",
    "plt.show()"
   ]
  },
  {
   "cell_type": "code",
   "execution_count": null,
   "metadata": {},
   "outputs": [],
   "source": [
    "# draw comfort zone\n",
    "for i in range(len(t_min)):\n",
    "    plt.plot([t_min[i], t_max[i]],[i, i])"
   ]
  },
  {
   "cell_type": "code",
   "execution_count": null,
   "metadata": {},
   "outputs": [],
   "source": []
  },
  {
   "cell_type": "code",
   "execution_count": null,
   "metadata": {},
   "outputs": [],
   "source": []
  },
  {
   "cell_type": "code",
   "execution_count": null,
   "metadata": {},
   "outputs": [],
   "source": []
  },
  {
   "cell_type": "code",
   "execution_count": null,
   "metadata": {},
   "outputs": [],
   "source": []
  }
 ],
 "metadata": {
  "kernelspec": {
   "display_name": "Python [conda env:ml]",
   "language": "python",
   "name": "conda-env-ml-py"
  },
  "language_info": {
   "codemirror_mode": {
    "name": "ipython",
    "version": 3
   },
   "file_extension": ".py",
   "mimetype": "text/x-python",
   "name": "python",
   "nbconvert_exporter": "python",
   "pygments_lexer": "ipython3",
   "version": "3.6.10"
  },
  "toc": {
   "base_numbering": 1,
   "nav_menu": {},
   "number_sections": true,
   "sideBar": true,
   "skip_h1_title": false,
   "title_cell": "Table of Contents",
   "title_sidebar": "Contents",
   "toc_cell": false,
   "toc_position": {},
   "toc_section_display": true,
   "toc_window_display": true
  }
 },
 "nbformat": 4,
 "nbformat_minor": 2
}
