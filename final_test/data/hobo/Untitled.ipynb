{
 "cells": [
  {
   "cell_type": "code",
   "execution_count": 46,
   "metadata": {},
   "outputs": [],
   "source": [
    "import datetime\n",
    "from functools import reduce\n",
    "\n",
    "import pandas as pd"
   ]
  },
  {
   "cell_type": "code",
   "execution_count": 50,
   "metadata": {},
   "outputs": [
    {
     "data": {
      "text/html": [
       "<div>\n",
       "<style scoped>\n",
       "    .dataframe tbody tr th:only-of-type {\n",
       "        vertical-align: middle;\n",
       "    }\n",
       "\n",
       "    .dataframe tbody tr th {\n",
       "        vertical-align: top;\n",
       "    }\n",
       "\n",
       "    .dataframe thead th {\n",
       "        text-align: right;\n",
       "    }\n",
       "</style>\n",
       "<table border=\"1\" class=\"dataframe\">\n",
       "  <thead>\n",
       "    <tr style=\"text-align: right;\">\n",
       "      <th></th>\n",
       "      <th>time</th>\n",
       "      <th>env_temp</th>\n",
       "      <th>rh</th>\n",
       "    </tr>\n",
       "  </thead>\n",
       "  <tbody>\n",
       "    <tr>\n",
       "      <th>0</th>\n",
       "      <td>2020-10-18 23:59:00</td>\n",
       "      <td>76.028</td>\n",
       "      <td>59.317</td>\n",
       "    </tr>\n",
       "    <tr>\n",
       "      <th>1</th>\n",
       "      <td>2020-10-19 00:00:00</td>\n",
       "      <td>76.071</td>\n",
       "      <td>59.289</td>\n",
       "    </tr>\n",
       "    <tr>\n",
       "      <th>2</th>\n",
       "      <td>2020-10-19 00:01:00</td>\n",
       "      <td>76.071</td>\n",
       "      <td>59.320</td>\n",
       "    </tr>\n",
       "    <tr>\n",
       "      <th>3</th>\n",
       "      <td>2020-10-19 00:02:00</td>\n",
       "      <td>76.071</td>\n",
       "      <td>59.289</td>\n",
       "    </tr>\n",
       "    <tr>\n",
       "      <th>4</th>\n",
       "      <td>2020-10-19 00:03:00</td>\n",
       "      <td>76.114</td>\n",
       "      <td>59.262</td>\n",
       "    </tr>\n",
       "    <tr>\n",
       "      <th>...</th>\n",
       "      <td>...</td>\n",
       "      <td>...</td>\n",
       "      <td>...</td>\n",
       "    </tr>\n",
       "    <tr>\n",
       "      <th>14465</th>\n",
       "      <td>2020-10-29 01:04:00</td>\n",
       "      <td>76.375</td>\n",
       "      <td>47.128</td>\n",
       "    </tr>\n",
       "    <tr>\n",
       "      <th>14466</th>\n",
       "      <td>2020-10-29 01:05:00</td>\n",
       "      <td>76.332</td>\n",
       "      <td>47.158</td>\n",
       "    </tr>\n",
       "    <tr>\n",
       "      <th>14467</th>\n",
       "      <td>2020-10-29 01:06:00</td>\n",
       "      <td>76.289</td>\n",
       "      <td>47.283</td>\n",
       "    </tr>\n",
       "    <tr>\n",
       "      <th>14468</th>\n",
       "      <td>2020-10-29 01:07:00</td>\n",
       "      <td>76.289</td>\n",
       "      <td>47.411</td>\n",
       "    </tr>\n",
       "    <tr>\n",
       "      <th>14469</th>\n",
       "      <td>2020-10-29 01:08:00</td>\n",
       "      <td>76.246</td>\n",
       "      <td>47.472</td>\n",
       "    </tr>\n",
       "  </tbody>\n",
       "</table>\n",
       "<p>14470 rows × 3 columns</p>\n",
       "</div>"
      ],
      "text/plain": [
       "                      time  env_temp      rh\n",
       "0      2020-10-18 23:59:00    76.028  59.317\n",
       "1      2020-10-19 00:00:00    76.071  59.289\n",
       "2      2020-10-19 00:01:00    76.071  59.320\n",
       "3      2020-10-19 00:02:00    76.071  59.289\n",
       "4      2020-10-19 00:03:00    76.114  59.262\n",
       "...                    ...       ...     ...\n",
       "14465  2020-10-29 01:04:00    76.375  47.128\n",
       "14466  2020-10-29 01:05:00    76.332  47.158\n",
       "14467  2020-10-29 01:06:00    76.289  47.283\n",
       "14468  2020-10-29 01:07:00    76.289  47.411\n",
       "14469  2020-10-29 01:08:00    76.246  47.472\n",
       "\n",
       "[14470 rows x 3 columns]"
      ]
     },
     "execution_count": 50,
     "metadata": {},
     "output_type": "execute_result"
    }
   ],
   "source": [
    "df = pd.read_csv('./003.csv')\n",
    "df"
   ]
  },
  {
   "cell_type": "code",
   "execution_count": 43,
   "metadata": {},
   "outputs": [],
   "source": [
    "dates = ['2020-10-18', '2020-10-19', '2020-10-20']"
   ]
  },
  {
   "cell_type": "code",
   "execution_count": 45,
   "metadata": {},
   "outputs": [],
   "source": [
    "target_dates_list = [df.time.str.startswith(date) for date in dates]"
   ]
  },
  {
   "cell_type": "code",
   "execution_count": 48,
   "metadata": {},
   "outputs": [],
   "source": [
    "target_dates = reduce(lambda x, y: x | y, target_dates_list)"
   ]
  },
  {
   "cell_type": "code",
   "execution_count": 51,
   "metadata": {},
   "outputs": [],
   "source": [
    "df = df[target_dates]"
   ]
  },
  {
   "cell_type": "code",
   "execution_count": 52,
   "metadata": {},
   "outputs": [
    {
     "data": {
      "text/html": [
       "<div>\n",
       "<style scoped>\n",
       "    .dataframe tbody tr th:only-of-type {\n",
       "        vertical-align: middle;\n",
       "    }\n",
       "\n",
       "    .dataframe tbody tr th {\n",
       "        vertical-align: top;\n",
       "    }\n",
       "\n",
       "    .dataframe thead th {\n",
       "        text-align: right;\n",
       "    }\n",
       "</style>\n",
       "<table border=\"1\" class=\"dataframe\">\n",
       "  <thead>\n",
       "    <tr style=\"text-align: right;\">\n",
       "      <th></th>\n",
       "      <th>time</th>\n",
       "      <th>env_temp</th>\n",
       "      <th>rh</th>\n",
       "    </tr>\n",
       "  </thead>\n",
       "  <tbody>\n",
       "    <tr>\n",
       "      <th>0</th>\n",
       "      <td>2020-10-18 23:59:00</td>\n",
       "      <td>76.028</td>\n",
       "      <td>59.317</td>\n",
       "    </tr>\n",
       "    <tr>\n",
       "      <th>1</th>\n",
       "      <td>2020-10-19 00:00:00</td>\n",
       "      <td>76.071</td>\n",
       "      <td>59.289</td>\n",
       "    </tr>\n",
       "    <tr>\n",
       "      <th>2</th>\n",
       "      <td>2020-10-19 00:01:00</td>\n",
       "      <td>76.071</td>\n",
       "      <td>59.320</td>\n",
       "    </tr>\n",
       "    <tr>\n",
       "      <th>3</th>\n",
       "      <td>2020-10-19 00:02:00</td>\n",
       "      <td>76.071</td>\n",
       "      <td>59.289</td>\n",
       "    </tr>\n",
       "    <tr>\n",
       "      <th>4</th>\n",
       "      <td>2020-10-19 00:03:00</td>\n",
       "      <td>76.114</td>\n",
       "      <td>59.262</td>\n",
       "    </tr>\n",
       "    <tr>\n",
       "      <th>...</th>\n",
       "      <td>...</td>\n",
       "      <td>...</td>\n",
       "      <td>...</td>\n",
       "    </tr>\n",
       "    <tr>\n",
       "      <th>2876</th>\n",
       "      <td>2020-10-20 23:55:00</td>\n",
       "      <td>75.204</td>\n",
       "      <td>59.738</td>\n",
       "    </tr>\n",
       "    <tr>\n",
       "      <th>2877</th>\n",
       "      <td>2020-10-20 23:56:00</td>\n",
       "      <td>75.247</td>\n",
       "      <td>59.711</td>\n",
       "    </tr>\n",
       "    <tr>\n",
       "      <th>2878</th>\n",
       "      <td>2020-10-20 23:57:00</td>\n",
       "      <td>75.247</td>\n",
       "      <td>59.742</td>\n",
       "    </tr>\n",
       "    <tr>\n",
       "      <th>2879</th>\n",
       "      <td>2020-10-20 23:58:00</td>\n",
       "      <td>75.290</td>\n",
       "      <td>59.715</td>\n",
       "    </tr>\n",
       "    <tr>\n",
       "      <th>2880</th>\n",
       "      <td>2020-10-20 23:59:00</td>\n",
       "      <td>75.333</td>\n",
       "      <td>59.719</td>\n",
       "    </tr>\n",
       "  </tbody>\n",
       "</table>\n",
       "<p>2881 rows × 3 columns</p>\n",
       "</div>"
      ],
      "text/plain": [
       "                     time  env_temp      rh\n",
       "0     2020-10-18 23:59:00    76.028  59.317\n",
       "1     2020-10-19 00:00:00    76.071  59.289\n",
       "2     2020-10-19 00:01:00    76.071  59.320\n",
       "3     2020-10-19 00:02:00    76.071  59.289\n",
       "4     2020-10-19 00:03:00    76.114  59.262\n",
       "...                   ...       ...     ...\n",
       "2876  2020-10-20 23:55:00    75.204  59.738\n",
       "2877  2020-10-20 23:56:00    75.247  59.711\n",
       "2878  2020-10-20 23:57:00    75.247  59.742\n",
       "2879  2020-10-20 23:58:00    75.290  59.715\n",
       "2880  2020-10-20 23:59:00    75.333  59.719\n",
       "\n",
       "[2881 rows x 3 columns]"
      ]
     },
     "execution_count": 52,
     "metadata": {},
     "output_type": "execute_result"
    }
   ],
   "source": [
    "df"
   ]
  },
  {
   "cell_type": "code",
   "execution_count": null,
   "metadata": {},
   "outputs": [],
   "source": []
  },
  {
   "cell_type": "code",
   "execution_count": 53,
   "metadata": {},
   "outputs": [],
   "source": [
    "l1 = '.dfe'"
   ]
  },
  {
   "cell_type": "code",
   "execution_count": 54,
   "metadata": {},
   "outputs": [
    {
     "data": {
      "text/plain": [
       "'.'"
      ]
     },
     "execution_count": 54,
     "metadata": {},
     "output_type": "execute_result"
    }
   ],
   "source": [
    "l1[0]"
   ]
  },
  {
   "cell_type": "code",
   "execution_count": null,
   "metadata": {},
   "outputs": [],
   "source": []
  }
 ],
 "metadata": {
  "kernelspec": {
   "display_name": "ml",
   "language": "python",
   "name": "ml"
  },
  "language_info": {
   "codemirror_mode": {
    "name": "ipython",
    "version": 3
   },
   "file_extension": ".py",
   "mimetype": "text/x-python",
   "name": "python",
   "nbconvert_exporter": "python",
   "pygments_lexer": "ipython3",
   "version": "3.6.10"
  },
  "toc": {
   "base_numbering": 1,
   "nav_menu": {},
   "number_sections": true,
   "sideBar": true,
   "skip_h1_title": false,
   "title_cell": "Table of Contents",
   "title_sidebar": "Contents",
   "toc_cell": false,
   "toc_position": {},
   "toc_section_display": true,
   "toc_window_display": false
  }
 },
 "nbformat": 4,
 "nbformat_minor": 4
}
