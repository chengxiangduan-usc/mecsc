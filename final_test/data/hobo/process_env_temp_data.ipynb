{
 "cells": [
  {
   "cell_type": "code",
   "execution_count": 1,
   "metadata": {
    "ExecuteTime": {
     "end_time": "2021-01-13T05:58:53.189156Z",
     "start_time": "2021-01-13T05:58:52.767615Z"
    }
   },
   "outputs": [],
   "source": [
    "import datetime\n",
    "\n",
    "import pandas as pd"
   ]
  },
  {
   "cell_type": "code",
   "execution_count": 2,
   "metadata": {
    "ExecuteTime": {
     "end_time": "2021-01-13T05:58:53.221064Z",
     "start_time": "2021-01-13T05:58:53.190063Z"
    }
   },
   "outputs": [
    {
     "data": {
      "text/html": [
       "<div>\n",
       "<style scoped>\n",
       "    .dataframe tbody tr th:only-of-type {\n",
       "        vertical-align: middle;\n",
       "    }\n",
       "\n",
       "    .dataframe tbody tr th {\n",
       "        vertical-align: top;\n",
       "    }\n",
       "\n",
       "    .dataframe thead th {\n",
       "        text-align: right;\n",
       "    }\n",
       "</style>\n",
       "<table border=\"1\" class=\"dataframe\">\n",
       "  <thead>\n",
       "    <tr style=\"text-align: right;\">\n",
       "      <th></th>\n",
       "      <th>Date Time, GMT-08:00</th>\n",
       "      <th>Temp, °F</th>\n",
       "    </tr>\n",
       "  </thead>\n",
       "  <tbody>\n",
       "    <tr>\n",
       "      <th>0</th>\n",
       "      <td>12/09/20 11:45:00</td>\n",
       "      <td>69.557</td>\n",
       "    </tr>\n",
       "    <tr>\n",
       "      <th>1</th>\n",
       "      <td>12/09/20 11:46:00</td>\n",
       "      <td>69.600</td>\n",
       "    </tr>\n",
       "    <tr>\n",
       "      <th>2</th>\n",
       "      <td>12/09/20 11:47:00</td>\n",
       "      <td>69.685</td>\n",
       "    </tr>\n",
       "    <tr>\n",
       "      <th>3</th>\n",
       "      <td>12/09/20 11:48:00</td>\n",
       "      <td>69.728</td>\n",
       "    </tr>\n",
       "    <tr>\n",
       "      <th>4</th>\n",
       "      <td>12/09/20 11:49:00</td>\n",
       "      <td>69.771</td>\n",
       "    </tr>\n",
       "    <tr>\n",
       "      <th>...</th>\n",
       "      <td>...</td>\n",
       "      <td>...</td>\n",
       "    </tr>\n",
       "    <tr>\n",
       "      <th>221</th>\n",
       "      <td>12/09/20 15:26:00</td>\n",
       "      <td>70.803</td>\n",
       "    </tr>\n",
       "    <tr>\n",
       "      <th>222</th>\n",
       "      <td>12/09/20 15:27:00</td>\n",
       "      <td>70.930</td>\n",
       "    </tr>\n",
       "    <tr>\n",
       "      <th>223</th>\n",
       "      <td>12/09/20 15:28:00</td>\n",
       "      <td>71.060</td>\n",
       "    </tr>\n",
       "    <tr>\n",
       "      <th>224</th>\n",
       "      <td>12/09/20 15:29:00</td>\n",
       "      <td>71.060</td>\n",
       "    </tr>\n",
       "    <tr>\n",
       "      <th>225</th>\n",
       "      <td>12/09/20 15:30:00</td>\n",
       "      <td>71.146</td>\n",
       "    </tr>\n",
       "  </tbody>\n",
       "</table>\n",
       "<p>226 rows × 2 columns</p>\n",
       "</div>"
      ],
      "text/plain": [
       "    Date Time, GMT-08:00  Temp, °F\n",
       "0      12/09/20 11:45:00    69.557\n",
       "1      12/09/20 11:46:00    69.600\n",
       "2      12/09/20 11:47:00    69.685\n",
       "3      12/09/20 11:48:00    69.728\n",
       "4      12/09/20 11:49:00    69.771\n",
       "..                   ...       ...\n",
       "221    12/09/20 15:26:00    70.803\n",
       "222    12/09/20 15:27:00    70.930\n",
       "223    12/09/20 15:28:00    71.060\n",
       "224    12/09/20 15:29:00    71.060\n",
       "225    12/09/20 15:30:00    71.146\n",
       "\n",
       "[226 rows x 2 columns]"
      ]
     },
     "execution_count": 2,
     "metadata": {},
     "output_type": "execute_result"
    }
   ],
   "source": [
    "df = pd.read_csv('./env_05.csv')\n",
    "df"
   ]
  },
  {
   "cell_type": "code",
   "execution_count": 3,
   "metadata": {
    "ExecuteTime": {
     "end_time": "2021-01-13T05:58:53.237065Z",
     "start_time": "2021-01-13T05:58:53.223065Z"
    }
   },
   "outputs": [],
   "source": [
    "df.columns = ['time', 'env_temp']"
   ]
  },
  {
   "cell_type": "code",
   "execution_count": 4,
   "metadata": {
    "ExecuteTime": {
     "end_time": "2021-01-13T05:58:53.253063Z",
     "start_time": "2021-01-13T05:58:53.238065Z"
    },
    "scrolled": true
   },
   "outputs": [
    {
     "data": {
      "text/html": [
       "<div>\n",
       "<style scoped>\n",
       "    .dataframe tbody tr th:only-of-type {\n",
       "        vertical-align: middle;\n",
       "    }\n",
       "\n",
       "    .dataframe tbody tr th {\n",
       "        vertical-align: top;\n",
       "    }\n",
       "\n",
       "    .dataframe thead th {\n",
       "        text-align: right;\n",
       "    }\n",
       "</style>\n",
       "<table border=\"1\" class=\"dataframe\">\n",
       "  <thead>\n",
       "    <tr style=\"text-align: right;\">\n",
       "      <th></th>\n",
       "      <th>time</th>\n",
       "      <th>env_temp</th>\n",
       "    </tr>\n",
       "  </thead>\n",
       "  <tbody>\n",
       "    <tr>\n",
       "      <th>0</th>\n",
       "      <td>12/09/20 11:45:00</td>\n",
       "      <td>69.557</td>\n",
       "    </tr>\n",
       "    <tr>\n",
       "      <th>1</th>\n",
       "      <td>12/09/20 11:46:00</td>\n",
       "      <td>69.600</td>\n",
       "    </tr>\n",
       "    <tr>\n",
       "      <th>2</th>\n",
       "      <td>12/09/20 11:47:00</td>\n",
       "      <td>69.685</td>\n",
       "    </tr>\n",
       "    <tr>\n",
       "      <th>3</th>\n",
       "      <td>12/09/20 11:48:00</td>\n",
       "      <td>69.728</td>\n",
       "    </tr>\n",
       "    <tr>\n",
       "      <th>4</th>\n",
       "      <td>12/09/20 11:49:00</td>\n",
       "      <td>69.771</td>\n",
       "    </tr>\n",
       "    <tr>\n",
       "      <th>...</th>\n",
       "      <td>...</td>\n",
       "      <td>...</td>\n",
       "    </tr>\n",
       "    <tr>\n",
       "      <th>221</th>\n",
       "      <td>12/09/20 15:26:00</td>\n",
       "      <td>70.803</td>\n",
       "    </tr>\n",
       "    <tr>\n",
       "      <th>222</th>\n",
       "      <td>12/09/20 15:27:00</td>\n",
       "      <td>70.930</td>\n",
       "    </tr>\n",
       "    <tr>\n",
       "      <th>223</th>\n",
       "      <td>12/09/20 15:28:00</td>\n",
       "      <td>71.060</td>\n",
       "    </tr>\n",
       "    <tr>\n",
       "      <th>224</th>\n",
       "      <td>12/09/20 15:29:00</td>\n",
       "      <td>71.060</td>\n",
       "    </tr>\n",
       "    <tr>\n",
       "      <th>225</th>\n",
       "      <td>12/09/20 15:30:00</td>\n",
       "      <td>71.146</td>\n",
       "    </tr>\n",
       "  </tbody>\n",
       "</table>\n",
       "<p>226 rows × 2 columns</p>\n",
       "</div>"
      ],
      "text/plain": [
       "                  time  env_temp\n",
       "0    12/09/20 11:45:00    69.557\n",
       "1    12/09/20 11:46:00    69.600\n",
       "2    12/09/20 11:47:00    69.685\n",
       "3    12/09/20 11:48:00    69.728\n",
       "4    12/09/20 11:49:00    69.771\n",
       "..                 ...       ...\n",
       "221  12/09/20 15:26:00    70.803\n",
       "222  12/09/20 15:27:00    70.930\n",
       "223  12/09/20 15:28:00    71.060\n",
       "224  12/09/20 15:29:00    71.060\n",
       "225  12/09/20 15:30:00    71.146\n",
       "\n",
       "[226 rows x 2 columns]"
      ]
     },
     "execution_count": 4,
     "metadata": {},
     "output_type": "execute_result"
    }
   ],
   "source": [
    "df"
   ]
  },
  {
   "cell_type": "code",
   "execution_count": 5,
   "metadata": {
    "ExecuteTime": {
     "end_time": "2021-01-13T05:58:53.269065Z",
     "start_time": "2021-01-13T05:58:53.254066Z"
    }
   },
   "outputs": [],
   "source": [
    "df.time = df.time.map(lambda t: datetime.datetime.strptime(t, '%m/%d/%y %H:%M:%S'))"
   ]
  },
  {
   "cell_type": "code",
   "execution_count": 6,
   "metadata": {
    "ExecuteTime": {
     "end_time": "2021-01-13T05:58:53.284063Z",
     "start_time": "2021-01-13T05:58:53.271065Z"
    }
   },
   "outputs": [
    {
     "data": {
      "text/html": [
       "<div>\n",
       "<style scoped>\n",
       "    .dataframe tbody tr th:only-of-type {\n",
       "        vertical-align: middle;\n",
       "    }\n",
       "\n",
       "    .dataframe tbody tr th {\n",
       "        vertical-align: top;\n",
       "    }\n",
       "\n",
       "    .dataframe thead th {\n",
       "        text-align: right;\n",
       "    }\n",
       "</style>\n",
       "<table border=\"1\" class=\"dataframe\">\n",
       "  <thead>\n",
       "    <tr style=\"text-align: right;\">\n",
       "      <th></th>\n",
       "      <th>time</th>\n",
       "      <th>env_temp</th>\n",
       "    </tr>\n",
       "  </thead>\n",
       "  <tbody>\n",
       "    <tr>\n",
       "      <th>0</th>\n",
       "      <td>2020-12-09 11:45:00</td>\n",
       "      <td>69.557</td>\n",
       "    </tr>\n",
       "    <tr>\n",
       "      <th>1</th>\n",
       "      <td>2020-12-09 11:46:00</td>\n",
       "      <td>69.600</td>\n",
       "    </tr>\n",
       "    <tr>\n",
       "      <th>2</th>\n",
       "      <td>2020-12-09 11:47:00</td>\n",
       "      <td>69.685</td>\n",
       "    </tr>\n",
       "    <tr>\n",
       "      <th>3</th>\n",
       "      <td>2020-12-09 11:48:00</td>\n",
       "      <td>69.728</td>\n",
       "    </tr>\n",
       "    <tr>\n",
       "      <th>4</th>\n",
       "      <td>2020-12-09 11:49:00</td>\n",
       "      <td>69.771</td>\n",
       "    </tr>\n",
       "    <tr>\n",
       "      <th>...</th>\n",
       "      <td>...</td>\n",
       "      <td>...</td>\n",
       "    </tr>\n",
       "    <tr>\n",
       "      <th>221</th>\n",
       "      <td>2020-12-09 15:26:00</td>\n",
       "      <td>70.803</td>\n",
       "    </tr>\n",
       "    <tr>\n",
       "      <th>222</th>\n",
       "      <td>2020-12-09 15:27:00</td>\n",
       "      <td>70.930</td>\n",
       "    </tr>\n",
       "    <tr>\n",
       "      <th>223</th>\n",
       "      <td>2020-12-09 15:28:00</td>\n",
       "      <td>71.060</td>\n",
       "    </tr>\n",
       "    <tr>\n",
       "      <th>224</th>\n",
       "      <td>2020-12-09 15:29:00</td>\n",
       "      <td>71.060</td>\n",
       "    </tr>\n",
       "    <tr>\n",
       "      <th>225</th>\n",
       "      <td>2020-12-09 15:30:00</td>\n",
       "      <td>71.146</td>\n",
       "    </tr>\n",
       "  </tbody>\n",
       "</table>\n",
       "<p>226 rows × 2 columns</p>\n",
       "</div>"
      ],
      "text/plain": [
       "                   time  env_temp\n",
       "0   2020-12-09 11:45:00    69.557\n",
       "1   2020-12-09 11:46:00    69.600\n",
       "2   2020-12-09 11:47:00    69.685\n",
       "3   2020-12-09 11:48:00    69.728\n",
       "4   2020-12-09 11:49:00    69.771\n",
       "..                  ...       ...\n",
       "221 2020-12-09 15:26:00    70.803\n",
       "222 2020-12-09 15:27:00    70.930\n",
       "223 2020-12-09 15:28:00    71.060\n",
       "224 2020-12-09 15:29:00    71.060\n",
       "225 2020-12-09 15:30:00    71.146\n",
       "\n",
       "[226 rows x 2 columns]"
      ]
     },
     "execution_count": 6,
     "metadata": {},
     "output_type": "execute_result"
    }
   ],
   "source": [
    "df"
   ]
  },
  {
   "cell_type": "code",
   "execution_count": 7,
   "metadata": {
    "ExecuteTime": {
     "end_time": "2021-01-13T05:58:53.299063Z",
     "start_time": "2021-01-13T05:58:53.285066Z"
    }
   },
   "outputs": [],
   "source": [
    "df.to_csv('./env_05_processed.csv', index=False)"
   ]
  },
  {
   "cell_type": "code",
   "execution_count": null,
   "metadata": {},
   "outputs": [],
   "source": []
  },
  {
   "cell_type": "code",
   "execution_count": null,
   "metadata": {},
   "outputs": [],
   "source": []
  },
  {
   "cell_type": "code",
   "execution_count": null,
   "metadata": {},
   "outputs": [],
   "source": []
  }
 ],
 "metadata": {
  "kernelspec": {
   "display_name": "ml",
   "language": "python",
   "name": "ml"
  },
  "language_info": {
   "codemirror_mode": {
    "name": "ipython",
    "version": 3
   },
   "file_extension": ".py",
   "mimetype": "text/x-python",
   "name": "python",
   "nbconvert_exporter": "python",
   "pygments_lexer": "ipython3",
   "version": "3.6.10"
  },
  "toc": {
   "base_numbering": 1,
   "nav_menu": {},
   "number_sections": true,
   "sideBar": true,
   "skip_h1_title": false,
   "title_cell": "Table of Contents",
   "title_sidebar": "Contents",
   "toc_cell": false,
   "toc_position": {},
   "toc_section_display": true,
   "toc_window_display": false
  }
 },
 "nbformat": 4,
 "nbformat_minor": 4
}
