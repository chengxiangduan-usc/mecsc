{
 "cells": [
  {
   "cell_type": "markdown",
   "metadata": {},
   "source": [
    "# DataFrame of One Uid"
   ]
  },
  {
   "cell_type": "code",
   "execution_count": 1,
   "metadata": {
    "ExecuteTime": {
     "end_time": "2021-01-07T02:02:02.384321Z",
     "start_time": "2021-01-07T02:02:02.378313Z"
    }
   },
   "outputs": [],
   "source": [
    "import json\n",
    "import datetime\n",
    "import os"
   ]
  },
  {
   "cell_type": "code",
   "execution_count": 2,
   "metadata": {
    "ExecuteTime": {
     "end_time": "2021-01-07T02:02:03.351124Z",
     "start_time": "2021-01-07T02:02:02.689004Z"
    }
   },
   "outputs": [],
   "source": [
    "import pandas as pd\n",
    "import numpy as np\n",
    "import matplotlib.pyplot as plt"
   ]
  },
  {
   "cell_type": "markdown",
   "metadata": {},
   "source": [
    "## Get `Profiles.json`"
   ]
  },
  {
   "cell_type": "code",
   "execution_count": 3,
   "metadata": {
    "ExecuteTime": {
     "end_time": "2021-01-07T02:02:05.231486Z",
     "start_time": "2021-01-07T02:02:05.225351Z"
    }
   },
   "outputs": [],
   "source": [
    "with open('./profiles.json', 'r') as fp:\n",
    "    profiles = json.load(fp)"
   ]
  },
  {
   "cell_type": "code",
   "execution_count": 4,
   "metadata": {
    "ExecuteTime": {
     "end_time": "2021-01-07T02:02:07.596988Z",
     "start_time": "2021-01-07T02:02:07.584461Z"
    }
   },
   "outputs": [
    {
     "data": {
      "text/plain": [
       "['01', '02', '05', '06', '07', '08']"
      ]
     },
     "execution_count": 4,
     "metadata": {},
     "output_type": "execute_result"
    }
   ],
   "source": [
    "list(profiles.keys())"
   ]
  },
  {
   "cell_type": "code",
   "execution_count": 5,
   "metadata": {
    "ExecuteTime": {
     "end_time": "2021-01-07T02:02:17.838784Z",
     "start_time": "2021-01-07T02:02:17.828153Z"
    }
   },
   "outputs": [],
   "source": [
    "uid = '02'"
   ]
  },
  {
   "cell_type": "code",
   "execution_count": 6,
   "metadata": {
    "ExecuteTime": {
     "end_time": "2021-01-07T02:02:18.753675Z",
     "start_time": "2021-01-07T02:02:18.745678Z"
    }
   },
   "outputs": [
    {
     "data": {
      "text/plain": [
       "{'hobo': '04',\n",
       " 'garmin': '04',\n",
       " 'embrace': '04',\n",
       " 'id': '02',\n",
       " 'dates': {'garmin': ['2020-12-09'],\n",
       "  'embrace': ['2020-12-09'],\n",
       "  'hobo': ['2020-12-09']}}"
      ]
     },
     "execution_count": 6,
     "metadata": {},
     "output_type": "execute_result"
    }
   ],
   "source": [
    "profiles[uid]"
   ]
  },
  {
   "cell_type": "markdown",
   "metadata": {},
   "source": [
    "## 1. Hobo"
   ]
  },
  {
   "cell_type": "code",
   "execution_count": 7,
   "metadata": {
    "ExecuteTime": {
     "end_time": "2021-01-07T02:02:30.361675Z",
     "start_time": "2021-01-07T02:02:30.354150Z"
    }
   },
   "outputs": [
    {
     "data": {
      "text/plain": [
       "'./hobo\\\\profiles\\\\02\\\\hobo.csv'"
      ]
     },
     "metadata": {},
     "output_type": "display_data"
    }
   ],
   "source": [
    "pth_hobo = os.path.join('./hobo', 'profiles', uid, 'hobo.csv')\n",
    "display(pth_hobo)\n",
    "df_hobo = pd.read_csv(pth_hobo)"
   ]
  },
  {
   "cell_type": "code",
   "execution_count": 8,
   "metadata": {
    "ExecuteTime": {
     "end_time": "2021-01-07T02:02:33.558629Z",
     "start_time": "2021-01-07T02:02:33.550136Z"
    }
   },
   "outputs": [],
   "source": [
    "df_hobo.time = pd.to_datetime(df_hobo.time)"
   ]
  },
  {
   "cell_type": "code",
   "execution_count": 9,
   "metadata": {
    "ExecuteTime": {
     "end_time": "2021-01-07T02:02:38.036318Z",
     "start_time": "2021-01-07T02:02:38.018247Z"
    }
   },
   "outputs": [
    {
     "name": "stdout",
     "output_type": "stream",
     "text": [
      "<class 'pandas.core.frame.DataFrame'>\n",
      "RangeIndex: 245 entries, 0 to 244\n",
      "Data columns (total 3 columns):\n",
      " #   Column    Non-Null Count  Dtype         \n",
      "---  ------    --------------  -----         \n",
      " 0   time      245 non-null    datetime64[ns]\n",
      " 1   env_temp  245 non-null    float64       \n",
      " 2   rh        245 non-null    float64       \n",
      "dtypes: datetime64[ns](1), float64(2)\n",
      "memory usage: 5.9 KB\n"
     ]
    }
   ],
   "source": [
    "df_hobo.info()"
   ]
  },
  {
   "cell_type": "code",
   "execution_count": 10,
   "metadata": {
    "ExecuteTime": {
     "end_time": "2021-01-07T02:02:42.009405Z",
     "start_time": "2021-01-07T02:02:41.991650Z"
    }
   },
   "outputs": [
    {
     "data": {
      "text/html": [
       "<div>\n",
       "<style scoped>\n",
       "    .dataframe tbody tr th:only-of-type {\n",
       "        vertical-align: middle;\n",
       "    }\n",
       "\n",
       "    .dataframe tbody tr th {\n",
       "        vertical-align: top;\n",
       "    }\n",
       "\n",
       "    .dataframe thead th {\n",
       "        text-align: right;\n",
       "    }\n",
       "</style>\n",
       "<table border=\"1\" class=\"dataframe\">\n",
       "  <thead>\n",
       "    <tr style=\"text-align: right;\">\n",
       "      <th></th>\n",
       "      <th>time</th>\n",
       "      <th>env_temp</th>\n",
       "      <th>rh</th>\n",
       "    </tr>\n",
       "  </thead>\n",
       "  <tbody>\n",
       "    <tr>\n",
       "      <th>0</th>\n",
       "      <td>2020-12-09 11:30:00</td>\n",
       "      <td>72.437</td>\n",
       "      <td>29.798</td>\n",
       "    </tr>\n",
       "    <tr>\n",
       "      <th>1</th>\n",
       "      <td>2020-12-09 11:31:00</td>\n",
       "      <td>72.869</td>\n",
       "      <td>29.181</td>\n",
       "    </tr>\n",
       "    <tr>\n",
       "      <th>2</th>\n",
       "      <td>2020-12-09 11:32:00</td>\n",
       "      <td>73.040</td>\n",
       "      <td>29.649</td>\n",
       "    </tr>\n",
       "    <tr>\n",
       "      <th>3</th>\n",
       "      <td>2020-12-09 11:33:00</td>\n",
       "      <td>73.126</td>\n",
       "      <td>29.157</td>\n",
       "    </tr>\n",
       "    <tr>\n",
       "      <th>4</th>\n",
       "      <td>2020-12-09 11:34:00</td>\n",
       "      <td>73.083</td>\n",
       "      <td>29.297</td>\n",
       "    </tr>\n",
       "  </tbody>\n",
       "</table>\n",
       "</div>"
      ],
      "text/plain": [
       "                 time  env_temp      rh\n",
       "0 2020-12-09 11:30:00    72.437  29.798\n",
       "1 2020-12-09 11:31:00    72.869  29.181\n",
       "2 2020-12-09 11:32:00    73.040  29.649\n",
       "3 2020-12-09 11:33:00    73.126  29.157\n",
       "4 2020-12-09 11:34:00    73.083  29.297"
      ]
     },
     "execution_count": 10,
     "metadata": {},
     "output_type": "execute_result"
    }
   ],
   "source": [
    "df_hobo.head()"
   ]
  },
  {
   "cell_type": "markdown",
   "metadata": {},
   "source": [
    "## 2. Garmin"
   ]
  },
  {
   "cell_type": "markdown",
   "metadata": {},
   "source": [
    "### 2.1. Heart Rate"
   ]
  },
  {
   "cell_type": "code",
   "execution_count": 11,
   "metadata": {
    "ExecuteTime": {
     "end_time": "2021-01-07T02:02:51.299197Z",
     "start_time": "2021-01-07T02:02:51.275686Z"
    }
   },
   "outputs": [
    {
     "data": {
      "text/plain": [
       "'./garmin\\\\profiles\\\\02\\\\hr.csv'"
      ]
     },
     "metadata": {},
     "output_type": "display_data"
    }
   ],
   "source": [
    "pth_garmin_hr = os.path.join('./garmin', 'profiles', uid, 'hr.csv')\n",
    "display(pth_garmin_hr)\n",
    "df_garmin_hr = pd.read_csv(pth_garmin_hr)"
   ]
  },
  {
   "cell_type": "code",
   "execution_count": 12,
   "metadata": {
    "ExecuteTime": {
     "end_time": "2021-01-07T02:02:52.024497Z",
     "start_time": "2021-01-07T02:02:52.012998Z"
    }
   },
   "outputs": [],
   "source": [
    "df_garmin_hr.time = pd.to_datetime(df_garmin_hr.time)"
   ]
  },
  {
   "cell_type": "code",
   "execution_count": 13,
   "metadata": {
    "ExecuteTime": {
     "end_time": "2021-01-07T02:02:52.606985Z",
     "start_time": "2021-01-07T02:02:52.599069Z"
    }
   },
   "outputs": [
    {
     "name": "stdout",
     "output_type": "stream",
     "text": [
      "<class 'pandas.core.frame.DataFrame'>\n",
      "RangeIndex: 255 entries, 0 to 254\n",
      "Data columns (total 2 columns):\n",
      " #   Column      Non-Null Count  Dtype         \n",
      "---  ------      --------------  -----         \n",
      " 0   time        255 non-null    datetime64[ns]\n",
      " 1   heart_rate  255 non-null    float64       \n",
      "dtypes: datetime64[ns](1), float64(1)\n",
      "memory usage: 4.1 KB\n"
     ]
    }
   ],
   "source": [
    "df_garmin_hr.info()"
   ]
  },
  {
   "cell_type": "code",
   "execution_count": 14,
   "metadata": {
    "ExecuteTime": {
     "end_time": "2021-01-07T02:02:55.128813Z",
     "start_time": "2021-01-07T02:02:55.107304Z"
    }
   },
   "outputs": [
    {
     "data": {
      "text/html": [
       "<div>\n",
       "<style scoped>\n",
       "    .dataframe tbody tr th:only-of-type {\n",
       "        vertical-align: middle;\n",
       "    }\n",
       "\n",
       "    .dataframe tbody tr th {\n",
       "        vertical-align: top;\n",
       "    }\n",
       "\n",
       "    .dataframe thead th {\n",
       "        text-align: right;\n",
       "    }\n",
       "</style>\n",
       "<table border=\"1\" class=\"dataframe\">\n",
       "  <thead>\n",
       "    <tr style=\"text-align: right;\">\n",
       "      <th></th>\n",
       "      <th>time</th>\n",
       "      <th>heart_rate</th>\n",
       "    </tr>\n",
       "  </thead>\n",
       "  <tbody>\n",
       "    <tr>\n",
       "      <th>0</th>\n",
       "      <td>2020-12-09 10:52:00</td>\n",
       "      <td>89.0</td>\n",
       "    </tr>\n",
       "    <tr>\n",
       "      <th>1</th>\n",
       "      <td>2020-12-09 10:53:00</td>\n",
       "      <td>83.0</td>\n",
       "    </tr>\n",
       "    <tr>\n",
       "      <th>2</th>\n",
       "      <td>2020-12-09 10:54:00</td>\n",
       "      <td>82.0</td>\n",
       "    </tr>\n",
       "    <tr>\n",
       "      <th>3</th>\n",
       "      <td>2020-12-09 10:55:00</td>\n",
       "      <td>91.0</td>\n",
       "    </tr>\n",
       "    <tr>\n",
       "      <th>4</th>\n",
       "      <td>2020-12-09 10:56:00</td>\n",
       "      <td>95.0</td>\n",
       "    </tr>\n",
       "  </tbody>\n",
       "</table>\n",
       "</div>"
      ],
      "text/plain": [
       "                 time  heart_rate\n",
       "0 2020-12-09 10:52:00        89.0\n",
       "1 2020-12-09 10:53:00        83.0\n",
       "2 2020-12-09 10:54:00        82.0\n",
       "3 2020-12-09 10:55:00        91.0\n",
       "4 2020-12-09 10:56:00        95.0"
      ]
     },
     "execution_count": 14,
     "metadata": {},
     "output_type": "execute_result"
    }
   ],
   "source": [
    "df_garmin_hr.head()"
   ]
  },
  {
   "cell_type": "code",
   "execution_count": 15,
   "metadata": {
    "ExecuteTime": {
     "end_time": "2021-01-07T02:02:58.980387Z",
     "start_time": "2021-01-07T02:02:58.959845Z"
    }
   },
   "outputs": [
    {
     "data": {
      "text/html": [
       "<div>\n",
       "<style scoped>\n",
       "    .dataframe tbody tr th:only-of-type {\n",
       "        vertical-align: middle;\n",
       "    }\n",
       "\n",
       "    .dataframe tbody tr th {\n",
       "        vertical-align: top;\n",
       "    }\n",
       "\n",
       "    .dataframe thead th {\n",
       "        text-align: right;\n",
       "    }\n",
       "</style>\n",
       "<table border=\"1\" class=\"dataframe\">\n",
       "  <thead>\n",
       "    <tr style=\"text-align: right;\">\n",
       "      <th></th>\n",
       "      <th>time</th>\n",
       "      <th>heart_rate</th>\n",
       "    </tr>\n",
       "  </thead>\n",
       "  <tbody>\n",
       "    <tr>\n",
       "      <th>250</th>\n",
       "      <td>2020-12-09 15:33:00</td>\n",
       "      <td>83.0</td>\n",
       "    </tr>\n",
       "    <tr>\n",
       "      <th>251</th>\n",
       "      <td>2020-12-09 15:34:00</td>\n",
       "      <td>84.0</td>\n",
       "    </tr>\n",
       "    <tr>\n",
       "      <th>252</th>\n",
       "      <td>2020-12-09 15:35:00</td>\n",
       "      <td>0.0</td>\n",
       "    </tr>\n",
       "    <tr>\n",
       "      <th>253</th>\n",
       "      <td>2020-12-09 15:45:00</td>\n",
       "      <td>94.0</td>\n",
       "    </tr>\n",
       "    <tr>\n",
       "      <th>254</th>\n",
       "      <td>2020-12-09 15:46:00</td>\n",
       "      <td>0.0</td>\n",
       "    </tr>\n",
       "  </tbody>\n",
       "</table>\n",
       "</div>"
      ],
      "text/plain": [
       "                   time  heart_rate\n",
       "250 2020-12-09 15:33:00        83.0\n",
       "251 2020-12-09 15:34:00        84.0\n",
       "252 2020-12-09 15:35:00         0.0\n",
       "253 2020-12-09 15:45:00        94.0\n",
       "254 2020-12-09 15:46:00         0.0"
      ]
     },
     "execution_count": 15,
     "metadata": {},
     "output_type": "execute_result"
    }
   ],
   "source": [
    "df_garmin_hr.tail()"
   ]
  },
  {
   "cell_type": "markdown",
   "metadata": {},
   "source": [
    "### 2.2. Stress Level"
   ]
  },
  {
   "cell_type": "code",
   "execution_count": 16,
   "metadata": {
    "ExecuteTime": {
     "end_time": "2021-01-07T02:03:03.811313Z",
     "start_time": "2021-01-07T02:03:03.796749Z"
    }
   },
   "outputs": [
    {
     "data": {
      "text/plain": [
       "'./garmin\\\\profiles\\\\02\\\\stress.csv'"
      ]
     },
     "metadata": {},
     "output_type": "display_data"
    }
   ],
   "source": [
    "pth_garmin_stress = os.path.join('./garmin', 'profiles', uid, 'stress.csv')\n",
    "display(pth_garmin_stress)\n",
    "df_garmin_stress = pd.read_csv(pth_garmin_stress)"
   ]
  },
  {
   "cell_type": "code",
   "execution_count": 17,
   "metadata": {
    "ExecuteTime": {
     "end_time": "2021-01-07T02:03:04.233498Z",
     "start_time": "2021-01-07T02:03:04.224943Z"
    }
   },
   "outputs": [],
   "source": [
    "df_garmin_stress.time = pd.to_datetime(df_garmin_stress.time)"
   ]
  },
  {
   "cell_type": "code",
   "execution_count": 18,
   "metadata": {
    "ExecuteTime": {
     "end_time": "2021-01-07T02:03:05.679002Z",
     "start_time": "2021-01-07T02:03:05.662460Z"
    }
   },
   "outputs": [
    {
     "name": "stdout",
     "output_type": "stream",
     "text": [
      "<class 'pandas.core.frame.DataFrame'>\n",
      "RangeIndex: 294 entries, 0 to 293\n",
      "Data columns (total 2 columns):\n",
      " #   Column        Non-Null Count  Dtype         \n",
      "---  ------        --------------  -----         \n",
      " 0   time          294 non-null    datetime64[ns]\n",
      " 1   stress_level  294 non-null    float64       \n",
      "dtypes: datetime64[ns](1), float64(1)\n",
      "memory usage: 4.7 KB\n"
     ]
    }
   ],
   "source": [
    "df_garmin_stress.info()"
   ]
  },
  {
   "cell_type": "code",
   "execution_count": 120,
   "metadata": {
    "ExecuteTime": {
     "end_time": "2021-01-07T02:50:20.344889Z",
     "start_time": "2021-01-07T02:50:20.331376Z"
    }
   },
   "outputs": [
    {
     "data": {
      "text/html": [
       "<div>\n",
       "<style scoped>\n",
       "    .dataframe tbody tr th:only-of-type {\n",
       "        vertical-align: middle;\n",
       "    }\n",
       "\n",
       "    .dataframe tbody tr th {\n",
       "        vertical-align: top;\n",
       "    }\n",
       "\n",
       "    .dataframe thead th {\n",
       "        text-align: right;\n",
       "    }\n",
       "</style>\n",
       "<table border=\"1\" class=\"dataframe\">\n",
       "  <thead>\n",
       "    <tr style=\"text-align: right;\">\n",
       "      <th></th>\n",
       "      <th>time</th>\n",
       "      <th>stress_level</th>\n",
       "    </tr>\n",
       "  </thead>\n",
       "  <tbody>\n",
       "    <tr>\n",
       "      <th>171</th>\n",
       "      <td>2020-12-09 14:35:00</td>\n",
       "      <td>20.0</td>\n",
       "    </tr>\n",
       "    <tr>\n",
       "      <th>172</th>\n",
       "      <td>2020-12-09 14:37:00</td>\n",
       "      <td>19.0</td>\n",
       "    </tr>\n",
       "    <tr>\n",
       "      <th>173</th>\n",
       "      <td>2020-12-09 14:38:00</td>\n",
       "      <td>21.0</td>\n",
       "    </tr>\n",
       "    <tr>\n",
       "      <th>174</th>\n",
       "      <td>2020-12-09 14:41:00</td>\n",
       "      <td>17.0</td>\n",
       "    </tr>\n",
       "    <tr>\n",
       "      <th>175</th>\n",
       "      <td>2020-12-09 14:43:00</td>\n",
       "      <td>74.0</td>\n",
       "    </tr>\n",
       "    <tr>\n",
       "      <th>176</th>\n",
       "      <td>2020-12-09 14:44:00</td>\n",
       "      <td>60.0</td>\n",
       "    </tr>\n",
       "    <tr>\n",
       "      <th>177</th>\n",
       "      <td>2020-12-09 14:45:00</td>\n",
       "      <td>53.0</td>\n",
       "    </tr>\n",
       "    <tr>\n",
       "      <th>178</th>\n",
       "      <td>2020-12-09 14:46:00</td>\n",
       "      <td>62.0</td>\n",
       "    </tr>\n",
       "    <tr>\n",
       "      <th>179</th>\n",
       "      <td>2020-12-09 14:47:00</td>\n",
       "      <td>70.0</td>\n",
       "    </tr>\n",
       "    <tr>\n",
       "      <th>180</th>\n",
       "      <td>2020-12-09 14:48:00</td>\n",
       "      <td>56.0</td>\n",
       "    </tr>\n",
       "    <tr>\n",
       "      <th>181</th>\n",
       "      <td>2020-12-09 14:49:00</td>\n",
       "      <td>50.0</td>\n",
       "    </tr>\n",
       "    <tr>\n",
       "      <th>182</th>\n",
       "      <td>2020-12-09 14:50:00</td>\n",
       "      <td>54.0</td>\n",
       "    </tr>\n",
       "    <tr>\n",
       "      <th>183</th>\n",
       "      <td>2020-12-09 14:51:00</td>\n",
       "      <td>59.0</td>\n",
       "    </tr>\n",
       "    <tr>\n",
       "      <th>184</th>\n",
       "      <td>2020-12-09 14:52:00</td>\n",
       "      <td>52.0</td>\n",
       "    </tr>\n",
       "    <tr>\n",
       "      <th>185</th>\n",
       "      <td>2020-12-09 14:53:00</td>\n",
       "      <td>55.0</td>\n",
       "    </tr>\n",
       "    <tr>\n",
       "      <th>186</th>\n",
       "      <td>2020-12-09 14:54:00</td>\n",
       "      <td>44.0</td>\n",
       "    </tr>\n",
       "    <tr>\n",
       "      <th>187</th>\n",
       "      <td>2020-12-09 14:55:00</td>\n",
       "      <td>41.0</td>\n",
       "    </tr>\n",
       "    <tr>\n",
       "      <th>188</th>\n",
       "      <td>2020-12-09 14:56:00</td>\n",
       "      <td>44.0</td>\n",
       "    </tr>\n",
       "    <tr>\n",
       "      <th>189</th>\n",
       "      <td>2020-12-09 14:57:00</td>\n",
       "      <td>37.0</td>\n",
       "    </tr>\n",
       "    <tr>\n",
       "      <th>190</th>\n",
       "      <td>2020-12-09 14:58:00</td>\n",
       "      <td>59.0</td>\n",
       "    </tr>\n",
       "    <tr>\n",
       "      <th>191</th>\n",
       "      <td>2020-12-09 14:59:00</td>\n",
       "      <td>73.0</td>\n",
       "    </tr>\n",
       "    <tr>\n",
       "      <th>192</th>\n",
       "      <td>2020-12-09 15:00:00</td>\n",
       "      <td>75.0</td>\n",
       "    </tr>\n",
       "    <tr>\n",
       "      <th>193</th>\n",
       "      <td>2020-12-09 15:01:00</td>\n",
       "      <td>55.0</td>\n",
       "    </tr>\n",
       "    <tr>\n",
       "      <th>194</th>\n",
       "      <td>2020-12-09 15:06:00</td>\n",
       "      <td>60.0</td>\n",
       "    </tr>\n",
       "    <tr>\n",
       "      <th>195</th>\n",
       "      <td>2020-12-09 15:07:00</td>\n",
       "      <td>50.0</td>\n",
       "    </tr>\n",
       "    <tr>\n",
       "      <th>196</th>\n",
       "      <td>2020-12-09 15:08:00</td>\n",
       "      <td>33.0</td>\n",
       "    </tr>\n",
       "    <tr>\n",
       "      <th>197</th>\n",
       "      <td>2020-12-09 15:09:00</td>\n",
       "      <td>51.0</td>\n",
       "    </tr>\n",
       "    <tr>\n",
       "      <th>198</th>\n",
       "      <td>2020-12-09 15:10:00</td>\n",
       "      <td>57.0</td>\n",
       "    </tr>\n",
       "    <tr>\n",
       "      <th>199</th>\n",
       "      <td>2020-12-09 15:11:00</td>\n",
       "      <td>38.0</td>\n",
       "    </tr>\n",
       "    <tr>\n",
       "      <th>200</th>\n",
       "      <td>2020-12-09 15:12:00</td>\n",
       "      <td>42.0</td>\n",
       "    </tr>\n",
       "    <tr>\n",
       "      <th>201</th>\n",
       "      <td>2020-12-09 15:13:00</td>\n",
       "      <td>48.0</td>\n",
       "    </tr>\n",
       "    <tr>\n",
       "      <th>202</th>\n",
       "      <td>2020-12-09 15:14:00</td>\n",
       "      <td>57.0</td>\n",
       "    </tr>\n",
       "    <tr>\n",
       "      <th>203</th>\n",
       "      <td>2020-12-09 15:15:00</td>\n",
       "      <td>34.0</td>\n",
       "    </tr>\n",
       "    <tr>\n",
       "      <th>204</th>\n",
       "      <td>2020-12-09 15:16:00</td>\n",
       "      <td>38.0</td>\n",
       "    </tr>\n",
       "    <tr>\n",
       "      <th>205</th>\n",
       "      <td>2020-12-09 15:17:00</td>\n",
       "      <td>27.0</td>\n",
       "    </tr>\n",
       "    <tr>\n",
       "      <th>206</th>\n",
       "      <td>2020-12-09 15:18:00</td>\n",
       "      <td>28.0</td>\n",
       "    </tr>\n",
       "    <tr>\n",
       "      <th>207</th>\n",
       "      <td>2020-12-09 15:19:00</td>\n",
       "      <td>50.0</td>\n",
       "    </tr>\n",
       "    <tr>\n",
       "      <th>208</th>\n",
       "      <td>2020-12-09 15:20:00</td>\n",
       "      <td>57.0</td>\n",
       "    </tr>\n",
       "    <tr>\n",
       "      <th>209</th>\n",
       "      <td>2020-12-09 15:21:00</td>\n",
       "      <td>45.0</td>\n",
       "    </tr>\n",
       "    <tr>\n",
       "      <th>210</th>\n",
       "      <td>2020-12-09 15:22:00</td>\n",
       "      <td>33.0</td>\n",
       "    </tr>\n",
       "    <tr>\n",
       "      <th>211</th>\n",
       "      <td>2020-12-09 15:24:00</td>\n",
       "      <td>66.0</td>\n",
       "    </tr>\n",
       "    <tr>\n",
       "      <th>212</th>\n",
       "      <td>2020-12-09 15:25:00</td>\n",
       "      <td>59.0</td>\n",
       "    </tr>\n",
       "    <tr>\n",
       "      <th>213</th>\n",
       "      <td>2020-12-09 15:26:00</td>\n",
       "      <td>84.0</td>\n",
       "    </tr>\n",
       "    <tr>\n",
       "      <th>214</th>\n",
       "      <td>2020-12-09 15:27:00</td>\n",
       "      <td>25.0</td>\n",
       "    </tr>\n",
       "    <tr>\n",
       "      <th>215</th>\n",
       "      <td>2020-12-09 15:28:00</td>\n",
       "      <td>7.0</td>\n",
       "    </tr>\n",
       "    <tr>\n",
       "      <th>216</th>\n",
       "      <td>2020-12-09 15:29:00</td>\n",
       "      <td>15.0</td>\n",
       "    </tr>\n",
       "    <tr>\n",
       "      <th>217</th>\n",
       "      <td>2020-12-09 15:30:00</td>\n",
       "      <td>24.0</td>\n",
       "    </tr>\n",
       "    <tr>\n",
       "      <th>218</th>\n",
       "      <td>2020-12-09 15:31:00</td>\n",
       "      <td>23.0</td>\n",
       "    </tr>\n",
       "    <tr>\n",
       "      <th>219</th>\n",
       "      <td>2020-12-09 15:32:00</td>\n",
       "      <td>19.0</td>\n",
       "    </tr>\n",
       "    <tr>\n",
       "      <th>220</th>\n",
       "      <td>2020-12-09 15:33:00</td>\n",
       "      <td>11.0</td>\n",
       "    </tr>\n",
       "  </tbody>\n",
       "</table>\n",
       "</div>"
      ],
      "text/plain": [
       "                   time  stress_level\n",
       "171 2020-12-09 14:35:00          20.0\n",
       "172 2020-12-09 14:37:00          19.0\n",
       "173 2020-12-09 14:38:00          21.0\n",
       "174 2020-12-09 14:41:00          17.0\n",
       "175 2020-12-09 14:43:00          74.0\n",
       "176 2020-12-09 14:44:00          60.0\n",
       "177 2020-12-09 14:45:00          53.0\n",
       "178 2020-12-09 14:46:00          62.0\n",
       "179 2020-12-09 14:47:00          70.0\n",
       "180 2020-12-09 14:48:00          56.0\n",
       "181 2020-12-09 14:49:00          50.0\n",
       "182 2020-12-09 14:50:00          54.0\n",
       "183 2020-12-09 14:51:00          59.0\n",
       "184 2020-12-09 14:52:00          52.0\n",
       "185 2020-12-09 14:53:00          55.0\n",
       "186 2020-12-09 14:54:00          44.0\n",
       "187 2020-12-09 14:55:00          41.0\n",
       "188 2020-12-09 14:56:00          44.0\n",
       "189 2020-12-09 14:57:00          37.0\n",
       "190 2020-12-09 14:58:00          59.0\n",
       "191 2020-12-09 14:59:00          73.0\n",
       "192 2020-12-09 15:00:00          75.0\n",
       "193 2020-12-09 15:01:00          55.0\n",
       "194 2020-12-09 15:06:00          60.0\n",
       "195 2020-12-09 15:07:00          50.0\n",
       "196 2020-12-09 15:08:00          33.0\n",
       "197 2020-12-09 15:09:00          51.0\n",
       "198 2020-12-09 15:10:00          57.0\n",
       "199 2020-12-09 15:11:00          38.0\n",
       "200 2020-12-09 15:12:00          42.0\n",
       "201 2020-12-09 15:13:00          48.0\n",
       "202 2020-12-09 15:14:00          57.0\n",
       "203 2020-12-09 15:15:00          34.0\n",
       "204 2020-12-09 15:16:00          38.0\n",
       "205 2020-12-09 15:17:00          27.0\n",
       "206 2020-12-09 15:18:00          28.0\n",
       "207 2020-12-09 15:19:00          50.0\n",
       "208 2020-12-09 15:20:00          57.0\n",
       "209 2020-12-09 15:21:00          45.0\n",
       "210 2020-12-09 15:22:00          33.0\n",
       "211 2020-12-09 15:24:00          66.0\n",
       "212 2020-12-09 15:25:00          59.0\n",
       "213 2020-12-09 15:26:00          84.0\n",
       "214 2020-12-09 15:27:00          25.0\n",
       "215 2020-12-09 15:28:00           7.0\n",
       "216 2020-12-09 15:29:00          15.0\n",
       "217 2020-12-09 15:30:00          24.0\n",
       "218 2020-12-09 15:31:00          23.0\n",
       "219 2020-12-09 15:32:00          19.0\n",
       "220 2020-12-09 15:33:00          11.0"
      ]
     },
     "execution_count": 120,
     "metadata": {},
     "output_type": "execute_result"
    }
   ],
   "source": [
    "df_garmin_stress.tail(50)"
   ]
  },
  {
   "cell_type": "code",
   "execution_count": 20,
   "metadata": {
    "ExecuteTime": {
     "end_time": "2021-01-07T02:03:09.904201Z",
     "start_time": "2021-01-07T02:03:09.894201Z"
    }
   },
   "outputs": [],
   "source": [
    "# drop values < 0\n",
    "df_garmin_stress = df_garmin_stress[df_garmin_stress.stress_level >= 0].reset_index(drop=True)"
   ]
  },
  {
   "cell_type": "markdown",
   "metadata": {},
   "source": [
    "## 3. Embrace"
   ]
  },
  {
   "cell_type": "markdown",
   "metadata": {},
   "source": [
    "### 3.1. EDA"
   ]
  },
  {
   "cell_type": "code",
   "execution_count": 21,
   "metadata": {
    "ExecuteTime": {
     "end_time": "2021-01-07T02:03:11.192365Z",
     "start_time": "2021-01-07T02:03:11.150851Z"
    }
   },
   "outputs": [
    {
     "data": {
      "text/plain": [
       "'./embrace\\\\profiles\\\\02\\\\eda.csv'"
      ]
     },
     "metadata": {},
     "output_type": "display_data"
    }
   ],
   "source": [
    "pth_embrace_eda = os.path.join('./embrace', 'profiles', uid, 'eda.csv')\n",
    "display(pth_embrace_eda)\n",
    "df_embrace_eda = pd.read_csv(pth_embrace_eda)"
   ]
  },
  {
   "cell_type": "code",
   "execution_count": 22,
   "metadata": {
    "ExecuteTime": {
     "end_time": "2021-01-07T02:03:11.523598Z",
     "start_time": "2021-01-07T02:03:11.499571Z"
    }
   },
   "outputs": [],
   "source": [
    "df_embrace_eda.time = pd.to_datetime(df_embrace_eda.time)"
   ]
  },
  {
   "cell_type": "code",
   "execution_count": 23,
   "metadata": {
    "ExecuteTime": {
     "end_time": "2021-01-07T02:03:11.979482Z",
     "start_time": "2021-01-07T02:03:11.971938Z"
    }
   },
   "outputs": [],
   "source": [
    "df_embrace_eda['time_ms'] = df_embrace_eda.time"
   ]
  },
  {
   "cell_type": "code",
   "execution_count": 24,
   "metadata": {
    "ExecuteTime": {
     "end_time": "2021-01-07T02:03:12.653979Z",
     "start_time": "2021-01-07T02:03:12.644473Z"
    }
   },
   "outputs": [
    {
     "name": "stdout",
     "output_type": "stream",
     "text": [
      "<class 'pandas.core.frame.DataFrame'>\n",
      "RangeIndex: 56527 entries, 0 to 56526\n",
      "Data columns (total 3 columns):\n",
      " #   Column   Non-Null Count  Dtype         \n",
      "---  ------   --------------  -----         \n",
      " 0   time     56527 non-null  datetime64[ns]\n",
      " 1   eda      56527 non-null  float64       \n",
      " 2   time_ms  56527 non-null  datetime64[ns]\n",
      "dtypes: datetime64[ns](2), float64(1)\n",
      "memory usage: 1.3 MB\n"
     ]
    }
   ],
   "source": [
    "df_embrace_eda.info()"
   ]
  },
  {
   "cell_type": "code",
   "execution_count": 25,
   "metadata": {
    "ExecuteTime": {
     "end_time": "2021-01-07T02:03:13.698220Z",
     "start_time": "2021-01-07T02:03:13.676678Z"
    }
   },
   "outputs": [
    {
     "data": {
      "text/html": [
       "<div>\n",
       "<style scoped>\n",
       "    .dataframe tbody tr th:only-of-type {\n",
       "        vertical-align: middle;\n",
       "    }\n",
       "\n",
       "    .dataframe tbody tr th {\n",
       "        vertical-align: top;\n",
       "    }\n",
       "\n",
       "    .dataframe thead th {\n",
       "        text-align: right;\n",
       "    }\n",
       "</style>\n",
       "<table border=\"1\" class=\"dataframe\">\n",
       "  <thead>\n",
       "    <tr style=\"text-align: right;\">\n",
       "      <th></th>\n",
       "      <th>time</th>\n",
       "      <th>eda</th>\n",
       "      <th>time_ms</th>\n",
       "    </tr>\n",
       "  </thead>\n",
       "  <tbody>\n",
       "    <tr>\n",
       "      <th>0</th>\n",
       "      <td>2020-12-09 10:46:40.010</td>\n",
       "      <td>0.017528</td>\n",
       "      <td>2020-12-09 10:46:40.010</td>\n",
       "    </tr>\n",
       "    <tr>\n",
       "      <th>1</th>\n",
       "      <td>2020-12-09 10:46:40.259</td>\n",
       "      <td>0.017432</td>\n",
       "      <td>2020-12-09 10:46:40.259</td>\n",
       "    </tr>\n",
       "    <tr>\n",
       "      <th>2</th>\n",
       "      <td>2020-12-09 10:46:40.508</td>\n",
       "      <td>0.017260</td>\n",
       "      <td>2020-12-09 10:46:40.508</td>\n",
       "    </tr>\n",
       "    <tr>\n",
       "      <th>3</th>\n",
       "      <td>2020-12-09 10:46:40.757</td>\n",
       "      <td>0.017394</td>\n",
       "      <td>2020-12-09 10:46:40.757</td>\n",
       "    </tr>\n",
       "    <tr>\n",
       "      <th>4</th>\n",
       "      <td>2020-12-09 10:46:41.006</td>\n",
       "      <td>0.018781</td>\n",
       "      <td>2020-12-09 10:46:41.006</td>\n",
       "    </tr>\n",
       "    <tr>\n",
       "      <th>5</th>\n",
       "      <td>2020-12-09 10:46:41.255</td>\n",
       "      <td>0.018020</td>\n",
       "      <td>2020-12-09 10:46:41.255</td>\n",
       "    </tr>\n",
       "    <tr>\n",
       "      <th>6</th>\n",
       "      <td>2020-12-09 10:46:41.504</td>\n",
       "      <td>0.019085</td>\n",
       "      <td>2020-12-09 10:46:41.504</td>\n",
       "    </tr>\n",
       "    <tr>\n",
       "      <th>7</th>\n",
       "      <td>2020-12-09 10:46:41.752</td>\n",
       "      <td>0.018933</td>\n",
       "      <td>2020-12-09 10:46:41.752</td>\n",
       "    </tr>\n",
       "    <tr>\n",
       "      <th>8</th>\n",
       "      <td>2020-12-09 10:46:42.001</td>\n",
       "      <td>0.018605</td>\n",
       "      <td>2020-12-09 10:46:42.001</td>\n",
       "    </tr>\n",
       "    <tr>\n",
       "      <th>9</th>\n",
       "      <td>2020-12-09 10:46:42.250</td>\n",
       "      <td>0.018845</td>\n",
       "      <td>2020-12-09 10:46:42.250</td>\n",
       "    </tr>\n",
       "  </tbody>\n",
       "</table>\n",
       "</div>"
      ],
      "text/plain": [
       "                     time       eda                 time_ms\n",
       "0 2020-12-09 10:46:40.010  0.017528 2020-12-09 10:46:40.010\n",
       "1 2020-12-09 10:46:40.259  0.017432 2020-12-09 10:46:40.259\n",
       "2 2020-12-09 10:46:40.508  0.017260 2020-12-09 10:46:40.508\n",
       "3 2020-12-09 10:46:40.757  0.017394 2020-12-09 10:46:40.757\n",
       "4 2020-12-09 10:46:41.006  0.018781 2020-12-09 10:46:41.006\n",
       "5 2020-12-09 10:46:41.255  0.018020 2020-12-09 10:46:41.255\n",
       "6 2020-12-09 10:46:41.504  0.019085 2020-12-09 10:46:41.504\n",
       "7 2020-12-09 10:46:41.752  0.018933 2020-12-09 10:46:41.752\n",
       "8 2020-12-09 10:46:42.001  0.018605 2020-12-09 10:46:42.001\n",
       "9 2020-12-09 10:46:42.250  0.018845 2020-12-09 10:46:42.250"
      ]
     },
     "execution_count": 25,
     "metadata": {},
     "output_type": "execute_result"
    }
   ],
   "source": [
    "df_embrace_eda.head(10)"
   ]
  },
  {
   "cell_type": "code",
   "execution_count": 26,
   "metadata": {
    "ExecuteTime": {
     "end_time": "2021-01-07T02:03:16.676190Z",
     "start_time": "2021-01-07T02:03:16.360504Z"
    }
   },
   "outputs": [
    {
     "data": {
      "image/png": "[encoded data removed]",
      "text/plain": [
       "<Figure size 2160x720 with 1 Axes>"
      ]
     },
     "metadata": {
      "needs_background": "light"
     },
     "output_type": "display_data"
    }
   ],
   "source": [
    "plt.rcParams[\"figure.figsize\"] = (30, 10)\n",
    "df_embrace_eda.plot.line(x='time', y='eda')\n",
    "plt.xlabel('') # x label\n",
    "plt.ylabel('eda (microS)') # y label\n",
    "plt.ylim([0, 1])\n",
    "plt.title('eda Dist.') # Title\n",
    "plt.show()"
   ]
  },
  {
   "cell_type": "markdown",
   "metadata": {},
   "source": [
    "Process the data:\n",
    "1. elimilate possible invalid values\n",
    "    - hard to find certain feature of invalid values\n",
    "2. determine ms values to s values\n",
    "    - use median value"
   ]
  },
  {
   "cell_type": "code",
   "execution_count": 27,
   "metadata": {
    "ExecuteTime": {
     "end_time": "2021-01-07T02:04:05.765534Z",
     "start_time": "2021-01-07T02:04:04.102953Z"
    }
   },
   "outputs": [],
   "source": [
    "# determine ms values to s values\n",
    "df_embrace_eda.time = df_embrace_eda.time_ms.map(lambda t: t.round('s'))"
   ]
  },
  {
   "cell_type": "code",
   "execution_count": 28,
   "metadata": {
    "ExecuteTime": {
     "end_time": "2021-01-07T02:04:08.271782Z",
     "start_time": "2021-01-07T02:04:08.249241Z"
    }
   },
   "outputs": [
    {
     "data": {
      "text/html": [
       "<div>\n",
       "<style scoped>\n",
       "    .dataframe tbody tr th:only-of-type {\n",
       "        vertical-align: middle;\n",
       "    }\n",
       "\n",
       "    .dataframe tbody tr th {\n",
       "        vertical-align: top;\n",
       "    }\n",
       "\n",
       "    .dataframe thead th {\n",
       "        text-align: right;\n",
       "    }\n",
       "</style>\n",
       "<table border=\"1\" class=\"dataframe\">\n",
       "  <thead>\n",
       "    <tr style=\"text-align: right;\">\n",
       "      <th></th>\n",
       "      <th>time</th>\n",
       "      <th>eda</th>\n",
       "      <th>time_ms</th>\n",
       "    </tr>\n",
       "  </thead>\n",
       "  <tbody>\n",
       "    <tr>\n",
       "      <th>0</th>\n",
       "      <td>2020-12-09 10:46:40</td>\n",
       "      <td>0.017528</td>\n",
       "      <td>2020-12-09 10:46:40.010</td>\n",
       "    </tr>\n",
       "    <tr>\n",
       "      <th>1</th>\n",
       "      <td>2020-12-09 10:46:40</td>\n",
       "      <td>0.017432</td>\n",
       "      <td>2020-12-09 10:46:40.259</td>\n",
       "    </tr>\n",
       "    <tr>\n",
       "      <th>2</th>\n",
       "      <td>2020-12-09 10:46:41</td>\n",
       "      <td>0.017260</td>\n",
       "      <td>2020-12-09 10:46:40.508</td>\n",
       "    </tr>\n",
       "    <tr>\n",
       "      <th>3</th>\n",
       "      <td>2020-12-09 10:46:41</td>\n",
       "      <td>0.017394</td>\n",
       "      <td>2020-12-09 10:46:40.757</td>\n",
       "    </tr>\n",
       "    <tr>\n",
       "      <th>4</th>\n",
       "      <td>2020-12-09 10:46:41</td>\n",
       "      <td>0.018781</td>\n",
       "      <td>2020-12-09 10:46:41.006</td>\n",
       "    </tr>\n",
       "  </tbody>\n",
       "</table>\n",
       "</div>"
      ],
      "text/plain": [
       "                 time       eda                 time_ms\n",
       "0 2020-12-09 10:46:40  0.017528 2020-12-09 10:46:40.010\n",
       "1 2020-12-09 10:46:40  0.017432 2020-12-09 10:46:40.259\n",
       "2 2020-12-09 10:46:41  0.017260 2020-12-09 10:46:40.508\n",
       "3 2020-12-09 10:46:41  0.017394 2020-12-09 10:46:40.757\n",
       "4 2020-12-09 10:46:41  0.018781 2020-12-09 10:46:41.006"
      ]
     },
     "execution_count": 28,
     "metadata": {},
     "output_type": "execute_result"
    }
   ],
   "source": [
    "df_embrace_eda.head(5)"
   ]
  },
  {
   "cell_type": "code",
   "execution_count": 29,
   "metadata": {
    "ExecuteTime": {
     "end_time": "2021-01-07T02:04:24.502092Z",
     "start_time": "2021-01-07T02:04:24.493580Z"
    }
   },
   "outputs": [],
   "source": [
    "df_embrace_eda = df_embrace_eda.groupby(by='time', as_index=False).agg({'eda': 'median'})"
   ]
  },
  {
   "cell_type": "code",
   "execution_count": 30,
   "metadata": {
    "ExecuteTime": {
     "end_time": "2021-01-07T02:04:25.449085Z",
     "start_time": "2021-01-07T02:04:25.428208Z"
    }
   },
   "outputs": [
    {
     "data": {
      "text/html": [
       "<div>\n",
       "<style scoped>\n",
       "    .dataframe tbody tr th:only-of-type {\n",
       "        vertical-align: middle;\n",
       "    }\n",
       "\n",
       "    .dataframe tbody tr th {\n",
       "        vertical-align: top;\n",
       "    }\n",
       "\n",
       "    .dataframe thead th {\n",
       "        text-align: right;\n",
       "    }\n",
       "</style>\n",
       "<table border=\"1\" class=\"dataframe\">\n",
       "  <thead>\n",
       "    <tr style=\"text-align: right;\">\n",
       "      <th></th>\n",
       "      <th>time</th>\n",
       "      <th>eda</th>\n",
       "    </tr>\n",
       "  </thead>\n",
       "  <tbody>\n",
       "    <tr>\n",
       "      <th>0</th>\n",
       "      <td>2020-12-09 10:46:40</td>\n",
       "      <td>0.017480</td>\n",
       "    </tr>\n",
       "    <tr>\n",
       "      <th>1</th>\n",
       "      <td>2020-12-09 10:46:41</td>\n",
       "      <td>0.017707</td>\n",
       "    </tr>\n",
       "    <tr>\n",
       "      <th>2</th>\n",
       "      <td>2020-12-09 10:46:42</td>\n",
       "      <td>0.018845</td>\n",
       "    </tr>\n",
       "    <tr>\n",
       "      <th>3</th>\n",
       "      <td>2020-12-09 10:46:43</td>\n",
       "      <td>0.018323</td>\n",
       "    </tr>\n",
       "    <tr>\n",
       "      <th>4</th>\n",
       "      <td>2020-12-09 10:46:44</td>\n",
       "      <td>0.018752</td>\n",
       "    </tr>\n",
       "  </tbody>\n",
       "</table>\n",
       "</div>"
      ],
      "text/plain": [
       "                 time       eda\n",
       "0 2020-12-09 10:46:40  0.017480\n",
       "1 2020-12-09 10:46:41  0.017707\n",
       "2 2020-12-09 10:46:42  0.018845\n",
       "3 2020-12-09 10:46:43  0.018323\n",
       "4 2020-12-09 10:46:44  0.018752"
      ]
     },
     "execution_count": 30,
     "metadata": {},
     "output_type": "execute_result"
    }
   ],
   "source": [
    "df_embrace_eda.head(5)"
   ]
  },
  {
   "cell_type": "markdown",
   "metadata": {},
   "source": [
    "### 3.2. Skin Temp"
   ]
  },
  {
   "cell_type": "code",
   "execution_count": 31,
   "metadata": {
    "ExecuteTime": {
     "end_time": "2021-01-07T02:04:30.164456Z",
     "start_time": "2021-01-07T02:04:30.138914Z"
    }
   },
   "outputs": [
    {
     "data": {
      "text/plain": [
       "'./embrace\\\\profiles\\\\02\\\\skin_temp.csv'"
      ]
     },
     "metadata": {},
     "output_type": "display_data"
    }
   ],
   "source": [
    "pth_embrace_skin = os.path.join('./embrace', 'profiles', uid, 'skin_temp.csv')\n",
    "display(pth_embrace_skin)\n",
    "df_embrace_skin = pd.read_csv(pth_embrace_skin)"
   ]
  },
  {
   "cell_type": "code",
   "execution_count": 32,
   "metadata": {
    "ExecuteTime": {
     "end_time": "2021-01-07T02:04:30.558258Z",
     "start_time": "2021-01-07T02:04:30.545258Z"
    }
   },
   "outputs": [],
   "source": [
    "df_embrace_skin.time = pd.to_datetime(df_embrace_skin.time)"
   ]
  },
  {
   "cell_type": "code",
   "execution_count": 33,
   "metadata": {
    "ExecuteTime": {
     "end_time": "2021-01-07T02:04:30.900191Z",
     "start_time": "2021-01-07T02:04:30.882679Z"
    }
   },
   "outputs": [],
   "source": [
    "df_embrace_skin['time_ms'] = df_embrace_skin.time"
   ]
  },
  {
   "cell_type": "code",
   "execution_count": 34,
   "metadata": {
    "ExecuteTime": {
     "end_time": "2021-01-07T02:04:31.228461Z",
     "start_time": "2021-01-07T02:04:31.208263Z"
    }
   },
   "outputs": [
    {
     "name": "stdout",
     "output_type": "stream",
     "text": [
      "<class 'pandas.core.frame.DataFrame'>\n",
      "Int64Index: 14133 entries, 0 to 14132\n",
      "Data columns (total 2 columns):\n",
      " #   Column  Non-Null Count  Dtype         \n",
      "---  ------  --------------  -----         \n",
      " 0   time    14133 non-null  datetime64[ns]\n",
      " 1   eda     14133 non-null  float64       \n",
      "dtypes: datetime64[ns](1), float64(1)\n",
      "memory usage: 331.2 KB\n"
     ]
    }
   ],
   "source": [
    "df_embrace_eda.info()"
   ]
  },
  {
   "cell_type": "code",
   "execution_count": 35,
   "metadata": {
    "ExecuteTime": {
     "end_time": "2021-01-07T02:04:31.696919Z",
     "start_time": "2021-01-07T02:04:31.678920Z"
    }
   },
   "outputs": [
    {
     "data": {
      "text/html": [
       "<div>\n",
       "<style scoped>\n",
       "    .dataframe tbody tr th:only-of-type {\n",
       "        vertical-align: middle;\n",
       "    }\n",
       "\n",
       "    .dataframe tbody tr th {\n",
       "        vertical-align: top;\n",
       "    }\n",
       "\n",
       "    .dataframe thead th {\n",
       "        text-align: right;\n",
       "    }\n",
       "</style>\n",
       "<table border=\"1\" class=\"dataframe\">\n",
       "  <thead>\n",
       "    <tr style=\"text-align: right;\">\n",
       "      <th></th>\n",
       "      <th>time</th>\n",
       "      <th>skin_temp</th>\n",
       "      <th>time_ms</th>\n",
       "    </tr>\n",
       "  </thead>\n",
       "  <tbody>\n",
       "    <tr>\n",
       "      <th>0</th>\n",
       "      <td>2020-12-09 10:46:40.018</td>\n",
       "      <td>29.714</td>\n",
       "      <td>2020-12-09 10:46:40.018</td>\n",
       "    </tr>\n",
       "    <tr>\n",
       "      <th>1</th>\n",
       "      <td>2020-12-09 10:46:41.103</td>\n",
       "      <td>29.687</td>\n",
       "      <td>2020-12-09 10:46:41.103</td>\n",
       "    </tr>\n",
       "    <tr>\n",
       "      <th>2</th>\n",
       "      <td>2020-12-09 10:46:42.188</td>\n",
       "      <td>29.660</td>\n",
       "      <td>2020-12-09 10:46:42.188</td>\n",
       "    </tr>\n",
       "    <tr>\n",
       "      <th>3</th>\n",
       "      <td>2020-12-09 10:46:43.273</td>\n",
       "      <td>29.634</td>\n",
       "      <td>2020-12-09 10:46:43.273</td>\n",
       "    </tr>\n",
       "    <tr>\n",
       "      <th>4</th>\n",
       "      <td>2020-12-09 10:46:44.358</td>\n",
       "      <td>29.634</td>\n",
       "      <td>2020-12-09 10:46:44.358</td>\n",
       "    </tr>\n",
       "  </tbody>\n",
       "</table>\n",
       "</div>"
      ],
      "text/plain": [
       "                     time  skin_temp                 time_ms\n",
       "0 2020-12-09 10:46:40.018     29.714 2020-12-09 10:46:40.018\n",
       "1 2020-12-09 10:46:41.103     29.687 2020-12-09 10:46:41.103\n",
       "2 2020-12-09 10:46:42.188     29.660 2020-12-09 10:46:42.188\n",
       "3 2020-12-09 10:46:43.273     29.634 2020-12-09 10:46:43.273\n",
       "4 2020-12-09 10:46:44.358     29.634 2020-12-09 10:46:44.358"
      ]
     },
     "execution_count": 35,
     "metadata": {},
     "output_type": "execute_result"
    }
   ],
   "source": [
    "df_embrace_skin.head(5)"
   ]
  },
  {
   "cell_type": "code",
   "execution_count": 36,
   "metadata": {
    "ExecuteTime": {
     "end_time": "2021-01-07T02:04:33.191750Z",
     "start_time": "2021-01-07T02:04:33.023838Z"
    }
   },
   "outputs": [
    {
     "data": {
      "image/png": "[encoded data removed]",
      "text/plain": [
       "<Figure size 2160x720 with 1 Axes>"
      ]
     },
     "metadata": {
      "needs_background": "light"
     },
     "output_type": "display_data"
    }
   ],
   "source": [
    "plt.rcParams[\"figure.figsize\"] = (30, 10)\n",
    "df_embrace_skin.plot.line(x='time', y='skin_temp')\n",
    "plt.xlabel('') # x label\n",
    "plt.ylabel('Skin Temp (°C)') # y label\n",
    "plt.ylim([29, 40])\n",
    "plt.title('Skin Temp Dist.') # Title\n",
    "plt.show()"
   ]
  },
  {
   "cell_type": "markdown",
   "metadata": {},
   "source": [
    "Process the data:\n",
    "1. elimilate possible invalid values\n",
    "    - values < 30\n",
    "2. determine ms values to s values\n",
    "    - use median value"
   ]
  },
  {
   "cell_type": "code",
   "execution_count": 37,
   "metadata": {
    "ExecuteTime": {
     "end_time": "2021-01-07T02:04:44.224566Z",
     "start_time": "2021-01-07T02:04:44.206014Z"
    }
   },
   "outputs": [],
   "source": [
    "# values < 30\n",
    "df_embrace_skin = df_embrace_skin[df_embrace_skin.skin_temp >= 30]"
   ]
  },
  {
   "cell_type": "code",
   "execution_count": 38,
   "metadata": {
    "ExecuteTime": {
     "end_time": "2021-01-07T02:04:45.229587Z",
     "start_time": "2021-01-07T02:04:45.208084Z"
    }
   },
   "outputs": [
    {
     "data": {
      "text/html": [
       "<div>\n",
       "<style scoped>\n",
       "    .dataframe tbody tr th:only-of-type {\n",
       "        vertical-align: middle;\n",
       "    }\n",
       "\n",
       "    .dataframe tbody tr th {\n",
       "        vertical-align: top;\n",
       "    }\n",
       "\n",
       "    .dataframe thead th {\n",
       "        text-align: right;\n",
       "    }\n",
       "</style>\n",
       "<table border=\"1\" class=\"dataframe\">\n",
       "  <thead>\n",
       "    <tr style=\"text-align: right;\">\n",
       "      <th></th>\n",
       "      <th>time</th>\n",
       "      <th>skin_temp</th>\n",
       "      <th>time_ms</th>\n",
       "    </tr>\n",
       "  </thead>\n",
       "  <tbody>\n",
       "    <tr>\n",
       "      <th>291</th>\n",
       "      <td>2020-12-09 11:40:56.039</td>\n",
       "      <td>30.008</td>\n",
       "      <td>2020-12-09 11:40:56.039</td>\n",
       "    </tr>\n",
       "    <tr>\n",
       "      <th>292</th>\n",
       "      <td>2020-12-09 11:40:57.041</td>\n",
       "      <td>30.008</td>\n",
       "      <td>2020-12-09 11:40:57.041</td>\n",
       "    </tr>\n",
       "    <tr>\n",
       "      <th>293</th>\n",
       "      <td>2020-12-09 11:40:58.043</td>\n",
       "      <td>30.008</td>\n",
       "      <td>2020-12-09 11:40:58.043</td>\n",
       "    </tr>\n",
       "    <tr>\n",
       "      <th>294</th>\n",
       "      <td>2020-12-09 11:40:59.045</td>\n",
       "      <td>30.008</td>\n",
       "      <td>2020-12-09 11:40:59.045</td>\n",
       "    </tr>\n",
       "    <tr>\n",
       "      <th>295</th>\n",
       "      <td>2020-12-09 11:41:00.048</td>\n",
       "      <td>30.008</td>\n",
       "      <td>2020-12-09 11:41:00.048</td>\n",
       "    </tr>\n",
       "  </tbody>\n",
       "</table>\n",
       "</div>"
      ],
      "text/plain": [
       "                       time  skin_temp                 time_ms\n",
       "291 2020-12-09 11:40:56.039     30.008 2020-12-09 11:40:56.039\n",
       "292 2020-12-09 11:40:57.041     30.008 2020-12-09 11:40:57.041\n",
       "293 2020-12-09 11:40:58.043     30.008 2020-12-09 11:40:58.043\n",
       "294 2020-12-09 11:40:59.045     30.008 2020-12-09 11:40:59.045\n",
       "295 2020-12-09 11:41:00.048     30.008 2020-12-09 11:41:00.048"
      ]
     },
     "execution_count": 38,
     "metadata": {},
     "output_type": "execute_result"
    }
   ],
   "source": [
    "df_embrace_skin.head(5)"
   ]
  },
  {
   "cell_type": "code",
   "execution_count": 39,
   "metadata": {
    "ExecuteTime": {
     "end_time": "2021-01-07T02:04:46.993694Z",
     "start_time": "2021-01-07T02:04:46.562078Z"
    }
   },
   "outputs": [
    {
     "name": "stderr",
     "output_type": "stream",
     "text": [
      "D:\\software\\Anaconda3\\envs\\ml\\lib\\site-packages\\pandas\\core\\generic.py:5168: SettingWithCopyWarning: \n",
      "A value is trying to be set on a copy of a slice from a DataFrame.\n",
      "Try using .loc[row_indexer,col_indexer] = value instead\n",
      "\n",
      "See the caveats in the documentation: https://pandas.pydata.org/pandas-docs/stable/user_guide/indexing.html#returning-a-view-versus-a-copy\n",
      "  self[name] = value\n"
     ]
    }
   ],
   "source": [
    "# determine ms values to s values\n",
    "df_embrace_skin.time = df_embrace_skin.time_ms.map(lambda t: t.round('s'))"
   ]
  },
  {
   "cell_type": "code",
   "execution_count": 40,
   "metadata": {
    "ExecuteTime": {
     "end_time": "2021-01-07T02:04:47.198193Z",
     "start_time": "2021-01-07T02:04:47.181193Z"
    }
   },
   "outputs": [
    {
     "data": {
      "text/html": [
       "<div>\n",
       "<style scoped>\n",
       "    .dataframe tbody tr th:only-of-type {\n",
       "        vertical-align: middle;\n",
       "    }\n",
       "\n",
       "    .dataframe tbody tr th {\n",
       "        vertical-align: top;\n",
       "    }\n",
       "\n",
       "    .dataframe thead th {\n",
       "        text-align: right;\n",
       "    }\n",
       "</style>\n",
       "<table border=\"1\" class=\"dataframe\">\n",
       "  <thead>\n",
       "    <tr style=\"text-align: right;\">\n",
       "      <th></th>\n",
       "      <th>time</th>\n",
       "      <th>skin_temp</th>\n",
       "      <th>time_ms</th>\n",
       "    </tr>\n",
       "  </thead>\n",
       "  <tbody>\n",
       "    <tr>\n",
       "      <th>291</th>\n",
       "      <td>2020-12-09 11:40:56</td>\n",
       "      <td>30.008</td>\n",
       "      <td>2020-12-09 11:40:56.039</td>\n",
       "    </tr>\n",
       "    <tr>\n",
       "      <th>292</th>\n",
       "      <td>2020-12-09 11:40:57</td>\n",
       "      <td>30.008</td>\n",
       "      <td>2020-12-09 11:40:57.041</td>\n",
       "    </tr>\n",
       "    <tr>\n",
       "      <th>293</th>\n",
       "      <td>2020-12-09 11:40:58</td>\n",
       "      <td>30.008</td>\n",
       "      <td>2020-12-09 11:40:58.043</td>\n",
       "    </tr>\n",
       "    <tr>\n",
       "      <th>294</th>\n",
       "      <td>2020-12-09 11:40:59</td>\n",
       "      <td>30.008</td>\n",
       "      <td>2020-12-09 11:40:59.045</td>\n",
       "    </tr>\n",
       "    <tr>\n",
       "      <th>295</th>\n",
       "      <td>2020-12-09 11:41:00</td>\n",
       "      <td>30.008</td>\n",
       "      <td>2020-12-09 11:41:00.048</td>\n",
       "    </tr>\n",
       "  </tbody>\n",
       "</table>\n",
       "</div>"
      ],
      "text/plain": [
       "                   time  skin_temp                 time_ms\n",
       "291 2020-12-09 11:40:56     30.008 2020-12-09 11:40:56.039\n",
       "292 2020-12-09 11:40:57     30.008 2020-12-09 11:40:57.041\n",
       "293 2020-12-09 11:40:58     30.008 2020-12-09 11:40:58.043\n",
       "294 2020-12-09 11:40:59     30.008 2020-12-09 11:40:59.045\n",
       "295 2020-12-09 11:41:00     30.008 2020-12-09 11:41:00.048"
      ]
     },
     "execution_count": 40,
     "metadata": {},
     "output_type": "execute_result"
    }
   ],
   "source": [
    "df_embrace_skin.head(5)"
   ]
  },
  {
   "cell_type": "code",
   "execution_count": 41,
   "metadata": {
    "ExecuteTime": {
     "end_time": "2021-01-07T02:05:11.159345Z",
     "start_time": "2021-01-07T02:05:11.137346Z"
    }
   },
   "outputs": [],
   "source": [
    "df_embrace_skin = df_embrace_skin.groupby(by='time', as_index=False).agg({'skin_temp': 'median'})"
   ]
  },
  {
   "cell_type": "code",
   "execution_count": 42,
   "metadata": {
    "ExecuteTime": {
     "end_time": "2021-01-07T02:05:12.133886Z",
     "start_time": "2021-01-07T02:05:12.116887Z"
    }
   },
   "outputs": [
    {
     "data": {
      "text/html": [
       "<div>\n",
       "<style scoped>\n",
       "    .dataframe tbody tr th:only-of-type {\n",
       "        vertical-align: middle;\n",
       "    }\n",
       "\n",
       "    .dataframe tbody tr th {\n",
       "        vertical-align: top;\n",
       "    }\n",
       "\n",
       "    .dataframe thead th {\n",
       "        text-align: right;\n",
       "    }\n",
       "</style>\n",
       "<table border=\"1\" class=\"dataframe\">\n",
       "  <thead>\n",
       "    <tr style=\"text-align: right;\">\n",
       "      <th></th>\n",
       "      <th>time</th>\n",
       "      <th>skin_temp</th>\n",
       "    </tr>\n",
       "  </thead>\n",
       "  <tbody>\n",
       "    <tr>\n",
       "      <th>0</th>\n",
       "      <td>2020-12-09 11:40:56</td>\n",
       "      <td>30.008</td>\n",
       "    </tr>\n",
       "    <tr>\n",
       "      <th>1</th>\n",
       "      <td>2020-12-09 11:40:57</td>\n",
       "      <td>30.008</td>\n",
       "    </tr>\n",
       "    <tr>\n",
       "      <th>2</th>\n",
       "      <td>2020-12-09 11:40:58</td>\n",
       "      <td>30.008</td>\n",
       "    </tr>\n",
       "    <tr>\n",
       "      <th>3</th>\n",
       "      <td>2020-12-09 11:40:59</td>\n",
       "      <td>30.008</td>\n",
       "    </tr>\n",
       "    <tr>\n",
       "      <th>4</th>\n",
       "      <td>2020-12-09 11:41:00</td>\n",
       "      <td>30.008</td>\n",
       "    </tr>\n",
       "  </tbody>\n",
       "</table>\n",
       "</div>"
      ],
      "text/plain": [
       "                 time  skin_temp\n",
       "0 2020-12-09 11:40:56     30.008\n",
       "1 2020-12-09 11:40:57     30.008\n",
       "2 2020-12-09 11:40:58     30.008\n",
       "3 2020-12-09 11:40:59     30.008\n",
       "4 2020-12-09 11:41:00     30.008"
      ]
     },
     "execution_count": 42,
     "metadata": {},
     "output_type": "execute_result"
    }
   ],
   "source": [
    "df_embrace_skin.head(5)"
   ]
  },
  {
   "cell_type": "markdown",
   "metadata": {},
   "source": [
    "## 4. Join"
   ]
  },
  {
   "cell_type": "markdown",
   "metadata": {},
   "source": [
    "### 4.1. Outer Join Garmin"
   ]
  },
  {
   "cell_type": "code",
   "execution_count": 43,
   "metadata": {
    "ExecuteTime": {
     "end_time": "2021-01-07T02:05:24.308039Z",
     "start_time": "2021-01-07T02:05:24.298040Z"
    }
   },
   "outputs": [],
   "source": [
    "df_garmin = pd.merge(df_garmin_hr, df_garmin_stress, how='outer', on='time', sort=True)"
   ]
  },
  {
   "cell_type": "code",
   "execution_count": 44,
   "metadata": {
    "ExecuteTime": {
     "end_time": "2021-01-07T02:05:25.127089Z",
     "start_time": "2021-01-07T02:05:25.105104Z"
    }
   },
   "outputs": [
    {
     "data": {
      "text/html": [
       "<div>\n",
       "<style scoped>\n",
       "    .dataframe tbody tr th:only-of-type {\n",
       "        vertical-align: middle;\n",
       "    }\n",
       "\n",
       "    .dataframe tbody tr th {\n",
       "        vertical-align: top;\n",
       "    }\n",
       "\n",
       "    .dataframe thead th {\n",
       "        text-align: right;\n",
       "    }\n",
       "</style>\n",
       "<table border=\"1\" class=\"dataframe\">\n",
       "  <thead>\n",
       "    <tr style=\"text-align: right;\">\n",
       "      <th></th>\n",
       "      <th>time</th>\n",
       "      <th>heart_rate</th>\n",
       "      <th>stress_level</th>\n",
       "    </tr>\n",
       "  </thead>\n",
       "  <tbody>\n",
       "    <tr>\n",
       "      <th>0</th>\n",
       "      <td>2020-12-09 10:52:00</td>\n",
       "      <td>89.0</td>\n",
       "      <td>NaN</td>\n",
       "    </tr>\n",
       "    <tr>\n",
       "      <th>1</th>\n",
       "      <td>2020-12-09 10:53:00</td>\n",
       "      <td>83.0</td>\n",
       "      <td>NaN</td>\n",
       "    </tr>\n",
       "    <tr>\n",
       "      <th>2</th>\n",
       "      <td>2020-12-09 10:54:00</td>\n",
       "      <td>82.0</td>\n",
       "      <td>NaN</td>\n",
       "    </tr>\n",
       "    <tr>\n",
       "      <th>3</th>\n",
       "      <td>2020-12-09 10:55:00</td>\n",
       "      <td>91.0</td>\n",
       "      <td>NaN</td>\n",
       "    </tr>\n",
       "    <tr>\n",
       "      <th>4</th>\n",
       "      <td>2020-12-09 10:56:00</td>\n",
       "      <td>95.0</td>\n",
       "      <td>57.0</td>\n",
       "    </tr>\n",
       "  </tbody>\n",
       "</table>\n",
       "</div>"
      ],
      "text/plain": [
       "                 time  heart_rate  stress_level\n",
       "0 2020-12-09 10:52:00        89.0           NaN\n",
       "1 2020-12-09 10:53:00        83.0           NaN\n",
       "2 2020-12-09 10:54:00        82.0           NaN\n",
       "3 2020-12-09 10:55:00        91.0           NaN\n",
       "4 2020-12-09 10:56:00        95.0          57.0"
      ]
     },
     "execution_count": 44,
     "metadata": {},
     "output_type": "execute_result"
    }
   ],
   "source": [
    "df_garmin.head(5)"
   ]
  },
  {
   "cell_type": "code",
   "execution_count": 45,
   "metadata": {
    "ExecuteTime": {
     "end_time": "2021-01-07T02:05:26.659955Z",
     "start_time": "2021-01-07T02:05:26.650950Z"
    }
   },
   "outputs": [
    {
     "data": {
      "text/html": [
       "<div>\n",
       "<style scoped>\n",
       "    .dataframe tbody tr th:only-of-type {\n",
       "        vertical-align: middle;\n",
       "    }\n",
       "\n",
       "    .dataframe tbody tr th {\n",
       "        vertical-align: top;\n",
       "    }\n",
       "\n",
       "    .dataframe thead th {\n",
       "        text-align: right;\n",
       "    }\n",
       "</style>\n",
       "<table border=\"1\" class=\"dataframe\">\n",
       "  <thead>\n",
       "    <tr style=\"text-align: right;\">\n",
       "      <th></th>\n",
       "      <th>time</th>\n",
       "      <th>heart_rate</th>\n",
       "      <th>stress_level</th>\n",
       "    </tr>\n",
       "  </thead>\n",
       "  <tbody>\n",
       "    <tr>\n",
       "      <th>280</th>\n",
       "      <td>2020-12-09 15:33:00</td>\n",
       "      <td>83.0</td>\n",
       "      <td>11.0</td>\n",
       "    </tr>\n",
       "    <tr>\n",
       "      <th>281</th>\n",
       "      <td>2020-12-09 15:34:00</td>\n",
       "      <td>84.0</td>\n",
       "      <td>NaN</td>\n",
       "    </tr>\n",
       "    <tr>\n",
       "      <th>282</th>\n",
       "      <td>2020-12-09 15:35:00</td>\n",
       "      <td>0.0</td>\n",
       "      <td>NaN</td>\n",
       "    </tr>\n",
       "    <tr>\n",
       "      <th>283</th>\n",
       "      <td>2020-12-09 15:45:00</td>\n",
       "      <td>94.0</td>\n",
       "      <td>NaN</td>\n",
       "    </tr>\n",
       "    <tr>\n",
       "      <th>284</th>\n",
       "      <td>2020-12-09 15:46:00</td>\n",
       "      <td>0.0</td>\n",
       "      <td>NaN</td>\n",
       "    </tr>\n",
       "  </tbody>\n",
       "</table>\n",
       "</div>"
      ],
      "text/plain": [
       "                   time  heart_rate  stress_level\n",
       "280 2020-12-09 15:33:00        83.0          11.0\n",
       "281 2020-12-09 15:34:00        84.0           NaN\n",
       "282 2020-12-09 15:35:00         0.0           NaN\n",
       "283 2020-12-09 15:45:00        94.0           NaN\n",
       "284 2020-12-09 15:46:00         0.0           NaN"
      ]
     },
     "execution_count": 45,
     "metadata": {},
     "output_type": "execute_result"
    }
   ],
   "source": [
    "df_garmin.tail(5)"
   ]
  },
  {
   "cell_type": "code",
   "execution_count": 46,
   "metadata": {
    "ExecuteTime": {
     "end_time": "2021-01-07T02:05:29.363517Z",
     "start_time": "2021-01-07T02:05:29.344972Z"
    }
   },
   "outputs": [
    {
     "data": {
      "text/plain": [
       "(285, 3)"
      ]
     },
     "execution_count": 46,
     "metadata": {},
     "output_type": "execute_result"
    }
   ],
   "source": [
    "df_garmin.shape"
   ]
  },
  {
   "cell_type": "markdown",
   "metadata": {},
   "source": [
    "### 4.2. Outer Join Embrace"
   ]
  },
  {
   "cell_type": "code",
   "execution_count": 47,
   "metadata": {
    "ExecuteTime": {
     "end_time": "2021-01-07T02:05:41.261645Z",
     "start_time": "2021-01-07T02:05:41.251135Z"
    }
   },
   "outputs": [],
   "source": [
    "df_embrace = pd.merge(df_embrace_skin, df_embrace_eda, how='outer', on='time', sort=True)"
   ]
  },
  {
   "cell_type": "code",
   "execution_count": 48,
   "metadata": {
    "ExecuteTime": {
     "end_time": "2021-01-07T02:05:41.714500Z",
     "start_time": "2021-01-07T02:05:41.697983Z"
    }
   },
   "outputs": [
    {
     "data": {
      "text/html": [
       "<div>\n",
       "<style scoped>\n",
       "    .dataframe tbody tr th:only-of-type {\n",
       "        vertical-align: middle;\n",
       "    }\n",
       "\n",
       "    .dataframe tbody tr th {\n",
       "        vertical-align: top;\n",
       "    }\n",
       "\n",
       "    .dataframe thead th {\n",
       "        text-align: right;\n",
       "    }\n",
       "</style>\n",
       "<table border=\"1\" class=\"dataframe\">\n",
       "  <thead>\n",
       "    <tr style=\"text-align: right;\">\n",
       "      <th></th>\n",
       "      <th>time</th>\n",
       "      <th>skin_temp</th>\n",
       "      <th>eda</th>\n",
       "    </tr>\n",
       "  </thead>\n",
       "  <tbody>\n",
       "    <tr>\n",
       "      <th>0</th>\n",
       "      <td>2020-12-09 10:46:40</td>\n",
       "      <td>NaN</td>\n",
       "      <td>0.017480</td>\n",
       "    </tr>\n",
       "    <tr>\n",
       "      <th>1</th>\n",
       "      <td>2020-12-09 10:46:41</td>\n",
       "      <td>NaN</td>\n",
       "      <td>0.017707</td>\n",
       "    </tr>\n",
       "    <tr>\n",
       "      <th>2</th>\n",
       "      <td>2020-12-09 10:46:42</td>\n",
       "      <td>NaN</td>\n",
       "      <td>0.018845</td>\n",
       "    </tr>\n",
       "    <tr>\n",
       "      <th>3</th>\n",
       "      <td>2020-12-09 10:46:43</td>\n",
       "      <td>NaN</td>\n",
       "      <td>0.018323</td>\n",
       "    </tr>\n",
       "    <tr>\n",
       "      <th>4</th>\n",
       "      <td>2020-12-09 10:46:44</td>\n",
       "      <td>NaN</td>\n",
       "      <td>0.018752</td>\n",
       "    </tr>\n",
       "  </tbody>\n",
       "</table>\n",
       "</div>"
      ],
      "text/plain": [
       "                 time  skin_temp       eda\n",
       "0 2020-12-09 10:46:40        NaN  0.017480\n",
       "1 2020-12-09 10:46:41        NaN  0.017707\n",
       "2 2020-12-09 10:46:42        NaN  0.018845\n",
       "3 2020-12-09 10:46:43        NaN  0.018323\n",
       "4 2020-12-09 10:46:44        NaN  0.018752"
      ]
     },
     "execution_count": 48,
     "metadata": {},
     "output_type": "execute_result"
    }
   ],
   "source": [
    "df_embrace.head()"
   ]
  },
  {
   "cell_type": "code",
   "execution_count": 49,
   "metadata": {
    "ExecuteTime": {
     "end_time": "2021-01-07T02:05:42.577261Z",
     "start_time": "2021-01-07T02:05:42.562721Z"
    }
   },
   "outputs": [
    {
     "data": {
      "text/html": [
       "<div>\n",
       "<style scoped>\n",
       "    .dataframe tbody tr th:only-of-type {\n",
       "        vertical-align: middle;\n",
       "    }\n",
       "\n",
       "    .dataframe tbody tr th {\n",
       "        vertical-align: top;\n",
       "    }\n",
       "\n",
       "    .dataframe thead th {\n",
       "        text-align: right;\n",
       "    }\n",
       "</style>\n",
       "<table border=\"1\" class=\"dataframe\">\n",
       "  <thead>\n",
       "    <tr style=\"text-align: right;\">\n",
       "      <th></th>\n",
       "      <th>time</th>\n",
       "      <th>skin_temp</th>\n",
       "      <th>eda</th>\n",
       "    </tr>\n",
       "  </thead>\n",
       "  <tbody>\n",
       "    <tr>\n",
       "      <th>14129</th>\n",
       "      <td>2020-12-09 15:31:31</td>\n",
       "      <td>32.163</td>\n",
       "      <td>3.578868</td>\n",
       "    </tr>\n",
       "    <tr>\n",
       "      <th>14130</th>\n",
       "      <td>2020-12-09 15:31:32</td>\n",
       "      <td>32.163</td>\n",
       "      <td>3.578301</td>\n",
       "    </tr>\n",
       "    <tr>\n",
       "      <th>14131</th>\n",
       "      <td>2020-12-09 15:31:33</td>\n",
       "      <td>32.163</td>\n",
       "      <td>3.576540</td>\n",
       "    </tr>\n",
       "    <tr>\n",
       "      <th>14132</th>\n",
       "      <td>2020-12-09 15:31:34</td>\n",
       "      <td>32.163</td>\n",
       "      <td>3.575893</td>\n",
       "    </tr>\n",
       "    <tr>\n",
       "      <th>14133</th>\n",
       "      <td>2020-12-09 15:31:35</td>\n",
       "      <td>32.163</td>\n",
       "      <td>NaN</td>\n",
       "    </tr>\n",
       "  </tbody>\n",
       "</table>\n",
       "</div>"
      ],
      "text/plain": [
       "                     time  skin_temp       eda\n",
       "14129 2020-12-09 15:31:31     32.163  3.578868\n",
       "14130 2020-12-09 15:31:32     32.163  3.578301\n",
       "14131 2020-12-09 15:31:33     32.163  3.576540\n",
       "14132 2020-12-09 15:31:34     32.163  3.575893\n",
       "14133 2020-12-09 15:31:35     32.163       NaN"
      ]
     },
     "execution_count": 49,
     "metadata": {},
     "output_type": "execute_result"
    }
   ],
   "source": [
    "df_embrace.tail()"
   ]
  },
  {
   "cell_type": "code",
   "execution_count": 50,
   "metadata": {
    "ExecuteTime": {
     "end_time": "2021-01-07T02:05:43.864679Z",
     "start_time": "2021-01-07T02:05:43.851679Z"
    }
   },
   "outputs": [
    {
     "data": {
      "text/plain": [
       "(14134, 3)"
      ]
     },
     "execution_count": 50,
     "metadata": {},
     "output_type": "execute_result"
    }
   ],
   "source": [
    "df_embrace.shape"
   ]
  },
  {
   "cell_type": "markdown",
   "metadata": {},
   "source": [
    "### 4.3. Outer Join All Devices"
   ]
  },
  {
   "cell_type": "code",
   "execution_count": 51,
   "metadata": {
    "ExecuteTime": {
     "end_time": "2021-01-07T02:05:50.216436Z",
     "start_time": "2021-01-07T02:05:50.200435Z"
    }
   },
   "outputs": [],
   "source": [
    "df_all = pd.merge(df_hobo, df_garmin, how='outer', on='time', sort=True)"
   ]
  },
  {
   "cell_type": "code",
   "execution_count": 52,
   "metadata": {
    "ExecuteTime": {
     "end_time": "2021-01-07T02:05:50.719945Z",
     "start_time": "2021-01-07T02:05:50.706945Z"
    }
   },
   "outputs": [],
   "source": [
    "df_all = pd.merge(df_all, df_embrace, how='outer', on='time', sort=True)"
   ]
  },
  {
   "cell_type": "code",
   "execution_count": 53,
   "metadata": {
    "ExecuteTime": {
     "end_time": "2021-01-07T02:05:51.187455Z",
     "start_time": "2021-01-07T02:05:51.174944Z"
    }
   },
   "outputs": [
    {
     "data": {
      "text/html": [
       "<div>\n",
       "<style scoped>\n",
       "    .dataframe tbody tr th:only-of-type {\n",
       "        vertical-align: middle;\n",
       "    }\n",
       "\n",
       "    .dataframe tbody tr th {\n",
       "        vertical-align: top;\n",
       "    }\n",
       "\n",
       "    .dataframe thead th {\n",
       "        text-align: right;\n",
       "    }\n",
       "</style>\n",
       "<table border=\"1\" class=\"dataframe\">\n",
       "  <thead>\n",
       "    <tr style=\"text-align: right;\">\n",
       "      <th></th>\n",
       "      <th>time</th>\n",
       "      <th>env_temp</th>\n",
       "      <th>rh</th>\n",
       "      <th>heart_rate</th>\n",
       "      <th>stress_level</th>\n",
       "      <th>skin_temp</th>\n",
       "      <th>eda</th>\n",
       "    </tr>\n",
       "  </thead>\n",
       "  <tbody>\n",
       "    <tr>\n",
       "      <th>0</th>\n",
       "      <td>2020-12-09 10:46:40</td>\n",
       "      <td>NaN</td>\n",
       "      <td>NaN</td>\n",
       "      <td>NaN</td>\n",
       "      <td>NaN</td>\n",
       "      <td>NaN</td>\n",
       "      <td>0.017480</td>\n",
       "    </tr>\n",
       "    <tr>\n",
       "      <th>1</th>\n",
       "      <td>2020-12-09 10:46:41</td>\n",
       "      <td>NaN</td>\n",
       "      <td>NaN</td>\n",
       "      <td>NaN</td>\n",
       "      <td>NaN</td>\n",
       "      <td>NaN</td>\n",
       "      <td>0.017707</td>\n",
       "    </tr>\n",
       "    <tr>\n",
       "      <th>2</th>\n",
       "      <td>2020-12-09 10:46:42</td>\n",
       "      <td>NaN</td>\n",
       "      <td>NaN</td>\n",
       "      <td>NaN</td>\n",
       "      <td>NaN</td>\n",
       "      <td>NaN</td>\n",
       "      <td>0.018845</td>\n",
       "    </tr>\n",
       "    <tr>\n",
       "      <th>3</th>\n",
       "      <td>2020-12-09 10:46:43</td>\n",
       "      <td>NaN</td>\n",
       "      <td>NaN</td>\n",
       "      <td>NaN</td>\n",
       "      <td>NaN</td>\n",
       "      <td>NaN</td>\n",
       "      <td>0.018323</td>\n",
       "    </tr>\n",
       "    <tr>\n",
       "      <th>4</th>\n",
       "      <td>2020-12-09 10:46:44</td>\n",
       "      <td>NaN</td>\n",
       "      <td>NaN</td>\n",
       "      <td>NaN</td>\n",
       "      <td>NaN</td>\n",
       "      <td>NaN</td>\n",
       "      <td>0.018752</td>\n",
       "    </tr>\n",
       "  </tbody>\n",
       "</table>\n",
       "</div>"
      ],
      "text/plain": [
       "                 time  env_temp  rh  heart_rate  stress_level  skin_temp  \\\n",
       "0 2020-12-09 10:46:40       NaN NaN         NaN           NaN        NaN   \n",
       "1 2020-12-09 10:46:41       NaN NaN         NaN           NaN        NaN   \n",
       "2 2020-12-09 10:46:42       NaN NaN         NaN           NaN        NaN   \n",
       "3 2020-12-09 10:46:43       NaN NaN         NaN           NaN        NaN   \n",
       "4 2020-12-09 10:46:44       NaN NaN         NaN           NaN        NaN   \n",
       "\n",
       "        eda  \n",
       "0  0.017480  \n",
       "1  0.017707  \n",
       "2  0.018845  \n",
       "3  0.018323  \n",
       "4  0.018752  "
      ]
     },
     "execution_count": 53,
     "metadata": {},
     "output_type": "execute_result"
    }
   ],
   "source": [
    "df_all.head(5)"
   ]
  },
  {
   "cell_type": "code",
   "execution_count": 54,
   "metadata": {
    "ExecuteTime": {
     "end_time": "2021-01-07T02:05:55.949695Z",
     "start_time": "2021-01-07T02:05:55.937166Z"
    }
   },
   "outputs": [
    {
     "data": {
      "text/plain": [
       "(14185, 7)"
      ]
     },
     "execution_count": 54,
     "metadata": {},
     "output_type": "execute_result"
    }
   ],
   "source": [
    "df_all.shape"
   ]
  },
  {
   "cell_type": "code",
   "execution_count": 55,
   "metadata": {
    "ExecuteTime": {
     "end_time": "2021-01-07T02:05:58.086287Z",
     "start_time": "2021-01-07T02:05:58.063306Z"
    }
   },
   "outputs": [
    {
     "name": "stdout",
     "output_type": "stream",
     "text": [
      "<class 'pandas.core.frame.DataFrame'>\n",
      "Int64Index: 14185 entries, 0 to 14184\n",
      "Data columns (total 7 columns):\n",
      " #   Column        Non-Null Count  Dtype         \n",
      "---  ------        --------------  -----         \n",
      " 0   time          14185 non-null  datetime64[ns]\n",
      " 1   env_temp      245 non-null    float64       \n",
      " 2   rh            245 non-null    float64       \n",
      " 3   heart_rate    255 non-null    float64       \n",
      " 4   stress_level  221 non-null    float64       \n",
      " 5   skin_temp     13836 non-null  float64       \n",
      " 6   eda           14133 non-null  float64       \n",
      "dtypes: datetime64[ns](1), float64(6)\n",
      "memory usage: 886.6 KB\n"
     ]
    }
   ],
   "source": [
    "df_all.info()"
   ]
  },
  {
   "cell_type": "code",
   "execution_count": 56,
   "metadata": {
    "ExecuteTime": {
     "end_time": "2021-01-07T02:06:00.897057Z",
     "start_time": "2021-01-07T02:06:00.884069Z"
    }
   },
   "outputs": [
    {
     "data": {
      "text/plain": [
       "0.01748"
      ]
     },
     "metadata": {},
     "output_type": "display_data"
    },
    {
     "data": {
      "text/plain": [
       "numpy.float64"
      ]
     },
     "metadata": {},
     "output_type": "display_data"
    }
   ],
   "source": [
    "display(df_all.eda[0])\n",
    "display(df_all.eda[0].__class__)"
   ]
  },
  {
   "cell_type": "markdown",
   "metadata": {},
   "source": [
    "### 4.4 Round Two Minutes"
   ]
  },
  {
   "cell_type": "code",
   "execution_count": 57,
   "metadata": {
    "ExecuteTime": {
     "end_time": "2021-01-07T02:06:12.510937Z",
     "start_time": "2021-01-07T02:06:11.473674Z"
    }
   },
   "outputs": [],
   "source": [
    "df_all['time_m'] = df_all.time\n",
    "df_all['time'] = df_all.time_m.map(lambda t: t.round('2min'))"
   ]
  },
  {
   "cell_type": "code",
   "execution_count": 58,
   "metadata": {
    "ExecuteTime": {
     "end_time": "2021-01-07T02:06:12.526352Z",
     "start_time": "2021-01-07T02:06:12.511841Z"
    }
   },
   "outputs": [
    {
     "data": {
      "text/html": [
       "<div>\n",
       "<style scoped>\n",
       "    .dataframe tbody tr th:only-of-type {\n",
       "        vertical-align: middle;\n",
       "    }\n",
       "\n",
       "    .dataframe tbody tr th {\n",
       "        vertical-align: top;\n",
       "    }\n",
       "\n",
       "    .dataframe thead th {\n",
       "        text-align: right;\n",
       "    }\n",
       "</style>\n",
       "<table border=\"1\" class=\"dataframe\">\n",
       "  <thead>\n",
       "    <tr style=\"text-align: right;\">\n",
       "      <th></th>\n",
       "      <th>time</th>\n",
       "      <th>env_temp</th>\n",
       "      <th>rh</th>\n",
       "      <th>heart_rate</th>\n",
       "      <th>stress_level</th>\n",
       "      <th>skin_temp</th>\n",
       "      <th>eda</th>\n",
       "      <th>time_m</th>\n",
       "    </tr>\n",
       "  </thead>\n",
       "  <tbody>\n",
       "    <tr>\n",
       "      <th>0</th>\n",
       "      <td>2020-12-09 10:46:00</td>\n",
       "      <td>NaN</td>\n",
       "      <td>NaN</td>\n",
       "      <td>NaN</td>\n",
       "      <td>NaN</td>\n",
       "      <td>NaN</td>\n",
       "      <td>0.017480</td>\n",
       "      <td>2020-12-09 10:46:40</td>\n",
       "    </tr>\n",
       "    <tr>\n",
       "      <th>1</th>\n",
       "      <td>2020-12-09 10:46:00</td>\n",
       "      <td>NaN</td>\n",
       "      <td>NaN</td>\n",
       "      <td>NaN</td>\n",
       "      <td>NaN</td>\n",
       "      <td>NaN</td>\n",
       "      <td>0.017707</td>\n",
       "      <td>2020-12-09 10:46:41</td>\n",
       "    </tr>\n",
       "    <tr>\n",
       "      <th>2</th>\n",
       "      <td>2020-12-09 10:46:00</td>\n",
       "      <td>NaN</td>\n",
       "      <td>NaN</td>\n",
       "      <td>NaN</td>\n",
       "      <td>NaN</td>\n",
       "      <td>NaN</td>\n",
       "      <td>0.018845</td>\n",
       "      <td>2020-12-09 10:46:42</td>\n",
       "    </tr>\n",
       "    <tr>\n",
       "      <th>3</th>\n",
       "      <td>2020-12-09 10:46:00</td>\n",
       "      <td>NaN</td>\n",
       "      <td>NaN</td>\n",
       "      <td>NaN</td>\n",
       "      <td>NaN</td>\n",
       "      <td>NaN</td>\n",
       "      <td>0.018323</td>\n",
       "      <td>2020-12-09 10:46:43</td>\n",
       "    </tr>\n",
       "    <tr>\n",
       "      <th>4</th>\n",
       "      <td>2020-12-09 10:46:00</td>\n",
       "      <td>NaN</td>\n",
       "      <td>NaN</td>\n",
       "      <td>NaN</td>\n",
       "      <td>NaN</td>\n",
       "      <td>NaN</td>\n",
       "      <td>0.018752</td>\n",
       "      <td>2020-12-09 10:46:44</td>\n",
       "    </tr>\n",
       "    <tr>\n",
       "      <th>5</th>\n",
       "      <td>2020-12-09 10:46:00</td>\n",
       "      <td>NaN</td>\n",
       "      <td>NaN</td>\n",
       "      <td>NaN</td>\n",
       "      <td>NaN</td>\n",
       "      <td>NaN</td>\n",
       "      <td>0.019017</td>\n",
       "      <td>2020-12-09 10:46:45</td>\n",
       "    </tr>\n",
       "    <tr>\n",
       "      <th>6</th>\n",
       "      <td>2020-12-09 10:46:00</td>\n",
       "      <td>NaN</td>\n",
       "      <td>NaN</td>\n",
       "      <td>NaN</td>\n",
       "      <td>NaN</td>\n",
       "      <td>NaN</td>\n",
       "      <td>0.019613</td>\n",
       "      <td>2020-12-09 10:46:46</td>\n",
       "    </tr>\n",
       "    <tr>\n",
       "      <th>7</th>\n",
       "      <td>2020-12-09 10:46:00</td>\n",
       "      <td>NaN</td>\n",
       "      <td>NaN</td>\n",
       "      <td>NaN</td>\n",
       "      <td>NaN</td>\n",
       "      <td>NaN</td>\n",
       "      <td>0.019992</td>\n",
       "      <td>2020-12-09 10:46:47</td>\n",
       "    </tr>\n",
       "    <tr>\n",
       "      <th>8</th>\n",
       "      <td>2020-12-09 10:46:00</td>\n",
       "      <td>NaN</td>\n",
       "      <td>NaN</td>\n",
       "      <td>NaN</td>\n",
       "      <td>NaN</td>\n",
       "      <td>NaN</td>\n",
       "      <td>0.017577</td>\n",
       "      <td>2020-12-09 10:46:48</td>\n",
       "    </tr>\n",
       "    <tr>\n",
       "      <th>9</th>\n",
       "      <td>2020-12-09 10:46:00</td>\n",
       "      <td>NaN</td>\n",
       "      <td>NaN</td>\n",
       "      <td>NaN</td>\n",
       "      <td>NaN</td>\n",
       "      <td>NaN</td>\n",
       "      <td>0.017254</td>\n",
       "      <td>2020-12-09 10:46:49</td>\n",
       "    </tr>\n",
       "  </tbody>\n",
       "</table>\n",
       "</div>"
      ],
      "text/plain": [
       "                 time  env_temp  rh  heart_rate  stress_level  skin_temp  \\\n",
       "0 2020-12-09 10:46:00       NaN NaN         NaN           NaN        NaN   \n",
       "1 2020-12-09 10:46:00       NaN NaN         NaN           NaN        NaN   \n",
       "2 2020-12-09 10:46:00       NaN NaN         NaN           NaN        NaN   \n",
       "3 2020-12-09 10:46:00       NaN NaN         NaN           NaN        NaN   \n",
       "4 2020-12-09 10:46:00       NaN NaN         NaN           NaN        NaN   \n",
       "5 2020-12-09 10:46:00       NaN NaN         NaN           NaN        NaN   \n",
       "6 2020-12-09 10:46:00       NaN NaN         NaN           NaN        NaN   \n",
       "7 2020-12-09 10:46:00       NaN NaN         NaN           NaN        NaN   \n",
       "8 2020-12-09 10:46:00       NaN NaN         NaN           NaN        NaN   \n",
       "9 2020-12-09 10:46:00       NaN NaN         NaN           NaN        NaN   \n",
       "\n",
       "        eda              time_m  \n",
       "0  0.017480 2020-12-09 10:46:40  \n",
       "1  0.017707 2020-12-09 10:46:41  \n",
       "2  0.018845 2020-12-09 10:46:42  \n",
       "3  0.018323 2020-12-09 10:46:43  \n",
       "4  0.018752 2020-12-09 10:46:44  \n",
       "5  0.019017 2020-12-09 10:46:45  \n",
       "6  0.019613 2020-12-09 10:46:46  \n",
       "7  0.019992 2020-12-09 10:46:47  \n",
       "8  0.017577 2020-12-09 10:46:48  \n",
       "9  0.017254 2020-12-09 10:46:49  "
      ]
     },
     "execution_count": 58,
     "metadata": {},
     "output_type": "execute_result"
    }
   ],
   "source": [
    "df_all.head(10)"
   ]
  },
  {
   "cell_type": "code",
   "execution_count": 59,
   "metadata": {
    "ExecuteTime": {
     "end_time": "2021-01-07T02:06:14.294702Z",
     "start_time": "2021-01-07T02:06:14.284193Z"
    }
   },
   "outputs": [],
   "source": [
    "df_all = df_all.drop(columns=['time_m'])"
   ]
  },
  {
   "cell_type": "code",
   "execution_count": 60,
   "metadata": {
    "ExecuteTime": {
     "end_time": "2021-01-07T02:06:14.899743Z",
     "start_time": "2021-01-07T02:06:14.888201Z"
    }
   },
   "outputs": [
    {
     "data": {
      "text/html": [
       "<div>\n",
       "<style scoped>\n",
       "    .dataframe tbody tr th:only-of-type {\n",
       "        vertical-align: middle;\n",
       "    }\n",
       "\n",
       "    .dataframe tbody tr th {\n",
       "        vertical-align: top;\n",
       "    }\n",
       "\n",
       "    .dataframe thead th {\n",
       "        text-align: right;\n",
       "    }\n",
       "</style>\n",
       "<table border=\"1\" class=\"dataframe\">\n",
       "  <thead>\n",
       "    <tr style=\"text-align: right;\">\n",
       "      <th></th>\n",
       "      <th>time</th>\n",
       "      <th>env_temp</th>\n",
       "      <th>rh</th>\n",
       "      <th>heart_rate</th>\n",
       "      <th>stress_level</th>\n",
       "      <th>skin_temp</th>\n",
       "      <th>eda</th>\n",
       "    </tr>\n",
       "  </thead>\n",
       "  <tbody>\n",
       "    <tr>\n",
       "      <th>0</th>\n",
       "      <td>2020-12-09 10:46:00</td>\n",
       "      <td>NaN</td>\n",
       "      <td>NaN</td>\n",
       "      <td>NaN</td>\n",
       "      <td>NaN</td>\n",
       "      <td>NaN</td>\n",
       "      <td>0.01748</td>\n",
       "    </tr>\n",
       "  </tbody>\n",
       "</table>\n",
       "</div>"
      ],
      "text/plain": [
       "                 time  env_temp  rh  heart_rate  stress_level  skin_temp  \\\n",
       "0 2020-12-09 10:46:00       NaN NaN         NaN           NaN        NaN   \n",
       "\n",
       "       eda  \n",
       "0  0.01748  "
      ]
     },
     "execution_count": 60,
     "metadata": {},
     "output_type": "execute_result"
    }
   ],
   "source": [
    "df_all.head(1)"
   ]
  },
  {
   "cell_type": "code",
   "execution_count": 61,
   "metadata": {
    "ExecuteTime": {
     "end_time": "2021-01-07T02:06:19.668864Z",
     "start_time": "2021-01-07T02:06:19.659872Z"
    }
   },
   "outputs": [],
   "source": [
    "# median\n",
    "df_all = df_all.groupby('time', as_index=False).agg('median')"
   ]
  },
  {
   "cell_type": "code",
   "execution_count": 62,
   "metadata": {
    "ExecuteTime": {
     "end_time": "2021-01-07T02:06:20.712900Z",
     "start_time": "2021-01-07T02:06:20.702898Z"
    }
   },
   "outputs": [
    {
     "data": {
      "text/html": [
       "<div>\n",
       "<style scoped>\n",
       "    .dataframe tbody tr th:only-of-type {\n",
       "        vertical-align: middle;\n",
       "    }\n",
       "\n",
       "    .dataframe tbody tr th {\n",
       "        vertical-align: top;\n",
       "    }\n",
       "\n",
       "    .dataframe thead th {\n",
       "        text-align: right;\n",
       "    }\n",
       "</style>\n",
       "<table border=\"1\" class=\"dataframe\">\n",
       "  <thead>\n",
       "    <tr style=\"text-align: right;\">\n",
       "      <th></th>\n",
       "      <th>time</th>\n",
       "      <th>env_temp</th>\n",
       "      <th>rh</th>\n",
       "      <th>heart_rate</th>\n",
       "      <th>stress_level</th>\n",
       "      <th>skin_temp</th>\n",
       "      <th>eda</th>\n",
       "    </tr>\n",
       "  </thead>\n",
       "  <tbody>\n",
       "    <tr>\n",
       "      <th>0</th>\n",
       "      <td>2020-12-09 10:46:00</td>\n",
       "      <td>NaN</td>\n",
       "      <td>NaN</td>\n",
       "      <td>NaN</td>\n",
       "      <td>NaN</td>\n",
       "      <td>NaN</td>\n",
       "      <td>0.018405</td>\n",
       "    </tr>\n",
       "    <tr>\n",
       "      <th>1</th>\n",
       "      <td>2020-12-09 10:52:00</td>\n",
       "      <td>NaN</td>\n",
       "      <td>NaN</td>\n",
       "      <td>86.0</td>\n",
       "      <td>NaN</td>\n",
       "      <td>NaN</td>\n",
       "      <td>NaN</td>\n",
       "    </tr>\n",
       "    <tr>\n",
       "      <th>2</th>\n",
       "      <td>2020-12-09 10:54:00</td>\n",
       "      <td>NaN</td>\n",
       "      <td>NaN</td>\n",
       "      <td>82.0</td>\n",
       "      <td>NaN</td>\n",
       "      <td>NaN</td>\n",
       "      <td>NaN</td>\n",
       "    </tr>\n",
       "    <tr>\n",
       "      <th>3</th>\n",
       "      <td>2020-12-09 10:56:00</td>\n",
       "      <td>NaN</td>\n",
       "      <td>NaN</td>\n",
       "      <td>91.0</td>\n",
       "      <td>36.0</td>\n",
       "      <td>NaN</td>\n",
       "      <td>NaN</td>\n",
       "    </tr>\n",
       "    <tr>\n",
       "      <th>4</th>\n",
       "      <td>2020-12-09 10:58:00</td>\n",
       "      <td>NaN</td>\n",
       "      <td>NaN</td>\n",
       "      <td>86.0</td>\n",
       "      <td>20.0</td>\n",
       "      <td>NaN</td>\n",
       "      <td>NaN</td>\n",
       "    </tr>\n",
       "  </tbody>\n",
       "</table>\n",
       "</div>"
      ],
      "text/plain": [
       "                 time  env_temp  rh  heart_rate  stress_level  skin_temp  \\\n",
       "0 2020-12-09 10:46:00       NaN NaN         NaN           NaN        NaN   \n",
       "1 2020-12-09 10:52:00       NaN NaN        86.0           NaN        NaN   \n",
       "2 2020-12-09 10:54:00       NaN NaN        82.0           NaN        NaN   \n",
       "3 2020-12-09 10:56:00       NaN NaN        91.0          36.0        NaN   \n",
       "4 2020-12-09 10:58:00       NaN NaN        86.0          20.0        NaN   \n",
       "\n",
       "        eda  \n",
       "0  0.018405  \n",
       "1       NaN  \n",
       "2       NaN  \n",
       "3       NaN  \n",
       "4       NaN  "
      ]
     },
     "execution_count": 62,
     "metadata": {},
     "output_type": "execute_result"
    }
   ],
   "source": [
    "df_all.head()"
   ]
  },
  {
   "cell_type": "code",
   "execution_count": 63,
   "metadata": {
    "ExecuteTime": {
     "end_time": "2021-01-07T02:06:23.293370Z",
     "start_time": "2021-01-07T02:06:23.280858Z"
    }
   },
   "outputs": [
    {
     "data": {
      "text/plain": [
       "(146, 7)"
      ]
     },
     "execution_count": 63,
     "metadata": {},
     "output_type": "execute_result"
    }
   ],
   "source": [
    "df_all.shape"
   ]
  },
  {
   "cell_type": "markdown",
   "metadata": {},
   "source": [
    "## 5. Body Data"
   ]
  },
  {
   "cell_type": "code",
   "execution_count": 67,
   "metadata": {
    "ExecuteTime": {
     "end_time": "2021-01-07T02:10:30.007899Z",
     "start_time": "2021-01-07T02:10:29.992904Z"
    }
   },
   "outputs": [
    {
     "data": {
      "text/plain": [
       "'./person_record.csv'"
      ]
     },
     "metadata": {},
     "output_type": "display_data"
    }
   ],
   "source": [
    "pth_body = os.path.join('./', 'person_record.csv')\n",
    "display(pth_body)\n",
    "df_body = pd.read_csv(pth_body)"
   ]
  },
  {
   "cell_type": "code",
   "execution_count": 68,
   "metadata": {
    "ExecuteTime": {
     "end_time": "2021-01-07T02:10:30.428380Z",
     "start_time": "2021-01-07T02:10:30.413381Z"
    }
   },
   "outputs": [
    {
     "data": {
      "text/html": [
       "<div>\n",
       "<style scoped>\n",
       "    .dataframe tbody tr th:only-of-type {\n",
       "        vertical-align: middle;\n",
       "    }\n",
       "\n",
       "    .dataframe tbody tr th {\n",
       "        vertical-align: top;\n",
       "    }\n",
       "\n",
       "    .dataframe thead th {\n",
       "        text-align: right;\n",
       "    }\n",
       "</style>\n",
       "<table border=\"1\" class=\"dataframe\">\n",
       "  <thead>\n",
       "    <tr style=\"text-align: right;\">\n",
       "      <th></th>\n",
       "      <th>uid</th>\n",
       "      <th>height</th>\n",
       "      <th>weight</th>\n",
       "      <th>gender</th>\n",
       "      <th>bmi</th>\n",
       "      <th>age</th>\n",
       "    </tr>\n",
       "  </thead>\n",
       "  <tbody>\n",
       "    <tr>\n",
       "      <th>0</th>\n",
       "      <td>1</td>\n",
       "      <td>1.62</td>\n",
       "      <td>52</td>\n",
       "      <td>1</td>\n",
       "      <td>19.814053</td>\n",
       "      <td>26</td>\n",
       "    </tr>\n",
       "    <tr>\n",
       "      <th>1</th>\n",
       "      <td>2</td>\n",
       "      <td>1.64</td>\n",
       "      <td>54</td>\n",
       "      <td>1</td>\n",
       "      <td>20.077335</td>\n",
       "      <td>24</td>\n",
       "    </tr>\n",
       "    <tr>\n",
       "      <th>2</th>\n",
       "      <td>5</td>\n",
       "      <td>1.80</td>\n",
       "      <td>60</td>\n",
       "      <td>-1</td>\n",
       "      <td>18.518519</td>\n",
       "      <td>24</td>\n",
       "    </tr>\n",
       "    <tr>\n",
       "      <th>3</th>\n",
       "      <td>6</td>\n",
       "      <td>1.68</td>\n",
       "      <td>62</td>\n",
       "      <td>-1</td>\n",
       "      <td>21.967120</td>\n",
       "      <td>29</td>\n",
       "    </tr>\n",
       "    <tr>\n",
       "      <th>4</th>\n",
       "      <td>7</td>\n",
       "      <td>1.71</td>\n",
       "      <td>64</td>\n",
       "      <td>-1</td>\n",
       "      <td>21.887076</td>\n",
       "      <td>27</td>\n",
       "    </tr>\n",
       "  </tbody>\n",
       "</table>\n",
       "</div>"
      ],
      "text/plain": [
       "   uid  height  weight  gender        bmi  age\n",
       "0    1    1.62      52       1  19.814053   26\n",
       "1    2    1.64      54       1  20.077335   24\n",
       "2    5    1.80      60      -1  18.518519   24\n",
       "3    6    1.68      62      -1  21.967120   29\n",
       "4    7    1.71      64      -1  21.887076   27"
      ]
     },
     "execution_count": 68,
     "metadata": {},
     "output_type": "execute_result"
    }
   ],
   "source": [
    "df_body.head()"
   ]
  },
  {
   "cell_type": "markdown",
   "metadata": {},
   "source": [
    "### 5.1. Extract Body Status"
   ]
  },
  {
   "cell_type": "code",
   "execution_count": 121,
   "metadata": {
    "ExecuteTime": {
     "end_time": "2021-01-07T02:53:37.405657Z",
     "start_time": "2021-01-07T02:53:37.400155Z"
    }
   },
   "outputs": [],
   "source": [
    "df_status = df_body"
   ]
  },
  {
   "cell_type": "code",
   "execution_count": 122,
   "metadata": {
    "ExecuteTime": {
     "end_time": "2021-01-07T02:53:38.202373Z",
     "start_time": "2021-01-07T02:53:38.182833Z"
    }
   },
   "outputs": [
    {
     "data": {
      "text/html": [
       "<div>\n",
       "<style scoped>\n",
       "    .dataframe tbody tr th:only-of-type {\n",
       "        vertical-align: middle;\n",
       "    }\n",
       "\n",
       "    .dataframe tbody tr th {\n",
       "        vertical-align: top;\n",
       "    }\n",
       "\n",
       "    .dataframe thead th {\n",
       "        text-align: right;\n",
       "    }\n",
       "</style>\n",
       "<table border=\"1\" class=\"dataframe\">\n",
       "  <thead>\n",
       "    <tr style=\"text-align: right;\">\n",
       "      <th></th>\n",
       "      <th>uid</th>\n",
       "      <th>height</th>\n",
       "      <th>weight</th>\n",
       "      <th>gender</th>\n",
       "      <th>bmi</th>\n",
       "      <th>age</th>\n",
       "    </tr>\n",
       "  </thead>\n",
       "  <tbody>\n",
       "    <tr>\n",
       "      <th>0</th>\n",
       "      <td>1</td>\n",
       "      <td>1.62</td>\n",
       "      <td>52</td>\n",
       "      <td>1</td>\n",
       "      <td>19.814053</td>\n",
       "      <td>26</td>\n",
       "    </tr>\n",
       "    <tr>\n",
       "      <th>1</th>\n",
       "      <td>2</td>\n",
       "      <td>1.64</td>\n",
       "      <td>54</td>\n",
       "      <td>1</td>\n",
       "      <td>20.077335</td>\n",
       "      <td>24</td>\n",
       "    </tr>\n",
       "    <tr>\n",
       "      <th>2</th>\n",
       "      <td>5</td>\n",
       "      <td>1.80</td>\n",
       "      <td>60</td>\n",
       "      <td>-1</td>\n",
       "      <td>18.518519</td>\n",
       "      <td>24</td>\n",
       "    </tr>\n",
       "    <tr>\n",
       "      <th>3</th>\n",
       "      <td>6</td>\n",
       "      <td>1.68</td>\n",
       "      <td>62</td>\n",
       "      <td>-1</td>\n",
       "      <td>21.967120</td>\n",
       "      <td>29</td>\n",
       "    </tr>\n",
       "    <tr>\n",
       "      <th>4</th>\n",
       "      <td>7</td>\n",
       "      <td>1.71</td>\n",
       "      <td>64</td>\n",
       "      <td>-1</td>\n",
       "      <td>21.887076</td>\n",
       "      <td>27</td>\n",
       "    </tr>\n",
       "  </tbody>\n",
       "</table>\n",
       "</div>"
      ],
      "text/plain": [
       "   uid  height  weight  gender        bmi  age\n",
       "0    1    1.62      52       1  19.814053   26\n",
       "1    2    1.64      54       1  20.077335   24\n",
       "2    5    1.80      60      -1  18.518519   24\n",
       "3    6    1.68      62      -1  21.967120   29\n",
       "4    7    1.71      64      -1  21.887076   27"
      ]
     },
     "execution_count": 122,
     "metadata": {},
     "output_type": "execute_result"
    }
   ],
   "source": [
    "df_status.head()"
   ]
  },
  {
   "cell_type": "markdown",
   "metadata": {},
   "source": [
    "### 5.3 Create One's DataFrame"
   ]
  },
  {
   "cell_type": "code",
   "execution_count": 74,
   "metadata": {
    "ExecuteTime": {
     "end_time": "2021-01-07T02:13:13.452728Z",
     "start_time": "2021-01-07T02:13:13.446217Z"
    }
   },
   "outputs": [],
   "source": [
    "df_one = pd.DataFrame()"
   ]
  },
  {
   "cell_type": "markdown",
   "metadata": {},
   "source": [
    "#### 5.3.1. Time Series"
   ]
  },
  {
   "cell_type": "code",
   "execution_count": 75,
   "metadata": {
    "ExecuteTime": {
     "end_time": "2021-01-07T02:18:41.555222Z",
     "start_time": "2021-01-07T02:18:41.540977Z"
    }
   },
   "outputs": [],
   "source": [
    "time_start = datetime.datetime.strptime('12/09/20 13:20:00', '%m/%d/%y %H:%M:%S')\n",
    "time_end = datetime.datetime.strptime('12/09/20 15:20:00', '%m/%d/%y %H:%M:%S')"
   ]
  },
  {
   "cell_type": "code",
   "execution_count": 80,
   "metadata": {
    "ExecuteTime": {
     "end_time": "2021-01-07T02:20:57.550271Z",
     "start_time": "2021-01-07T02:20:57.534517Z"
    }
   },
   "outputs": [],
   "source": [
    "t_list = []\n",
    "\n",
    "t = time_start\n",
    "while t <= time_end:\n",
    "    t_list.append(t)\n",
    "    t = t + pd.Timedelta('10min')\n",
    "\n",
    "t_Series = pd.Series(t_list)"
   ]
  },
  {
   "cell_type": "code",
   "execution_count": 81,
   "metadata": {
    "ExecuteTime": {
     "end_time": "2021-01-07T02:21:04.113545Z",
     "start_time": "2021-01-07T02:21:04.106031Z"
    }
   },
   "outputs": [
    {
     "data": {
      "text/plain": [
       "0    2020-12-09 13:20:00\n",
       "1    2020-12-09 13:30:00\n",
       "2    2020-12-09 13:40:00\n",
       "3    2020-12-09 13:50:00\n",
       "4    2020-12-09 14:00:00\n",
       "5    2020-12-09 14:10:00\n",
       "6    2020-12-09 14:20:00\n",
       "7    2020-12-09 14:30:00\n",
       "8    2020-12-09 14:40:00\n",
       "9    2020-12-09 14:50:00\n",
       "10   2020-12-09 15:00:00\n",
       "11   2020-12-09 15:10:00\n",
       "12   2020-12-09 15:20:00\n",
       "dtype: datetime64[ns]"
      ]
     },
     "execution_count": 81,
     "metadata": {},
     "output_type": "execute_result"
    }
   ],
   "source": [
    "t_Series"
   ]
  },
  {
   "cell_type": "code",
   "execution_count": 82,
   "metadata": {
    "ExecuteTime": {
     "end_time": "2021-01-07T02:21:07.314566Z",
     "start_time": "2021-01-07T02:21:07.308565Z"
    }
   },
   "outputs": [],
   "source": [
    "df_one['time'] = t_Series"
   ]
  },
  {
   "cell_type": "code",
   "execution_count": 83,
   "metadata": {
    "ExecuteTime": {
     "end_time": "2021-01-07T02:21:14.462164Z",
     "start_time": "2021-01-07T02:21:14.455163Z"
    }
   },
   "outputs": [
    {
     "data": {
      "text/html": [
       "<div>\n",
       "<style scoped>\n",
       "    .dataframe tbody tr th:only-of-type {\n",
       "        vertical-align: middle;\n",
       "    }\n",
       "\n",
       "    .dataframe tbody tr th {\n",
       "        vertical-align: top;\n",
       "    }\n",
       "\n",
       "    .dataframe thead th {\n",
       "        text-align: right;\n",
       "    }\n",
       "</style>\n",
       "<table border=\"1\" class=\"dataframe\">\n",
       "  <thead>\n",
       "    <tr style=\"text-align: right;\">\n",
       "      <th></th>\n",
       "      <th>time</th>\n",
       "    </tr>\n",
       "  </thead>\n",
       "  <tbody>\n",
       "    <tr>\n",
       "      <th>0</th>\n",
       "      <td>2020-12-09 13:20:00</td>\n",
       "    </tr>\n",
       "    <tr>\n",
       "      <th>1</th>\n",
       "      <td>2020-12-09 13:30:00</td>\n",
       "    </tr>\n",
       "    <tr>\n",
       "      <th>2</th>\n",
       "      <td>2020-12-09 13:40:00</td>\n",
       "    </tr>\n",
       "    <tr>\n",
       "      <th>3</th>\n",
       "      <td>2020-12-09 13:50:00</td>\n",
       "    </tr>\n",
       "    <tr>\n",
       "      <th>4</th>\n",
       "      <td>2020-12-09 14:00:00</td>\n",
       "    </tr>\n",
       "  </tbody>\n",
       "</table>\n",
       "</div>"
      ],
      "text/plain": [
       "                 time\n",
       "0 2020-12-09 13:20:00\n",
       "1 2020-12-09 13:30:00\n",
       "2 2020-12-09 13:40:00\n",
       "3 2020-12-09 13:50:00\n",
       "4 2020-12-09 14:00:00"
      ]
     },
     "execution_count": 83,
     "metadata": {},
     "output_type": "execute_result"
    }
   ],
   "source": [
    "df_one.head()"
   ]
  },
  {
   "cell_type": "markdown",
   "metadata": {},
   "source": [
    "#### 5.3.2. Add body data"
   ]
  },
  {
   "cell_type": "code",
   "execution_count": 84,
   "metadata": {
    "ExecuteTime": {
     "end_time": "2021-01-07T02:21:23.794572Z",
     "start_time": "2021-01-07T02:21:23.781562Z"
    },
    "scrolled": true
   },
   "outputs": [
    {
     "data": {
      "text/html": [
       "<div>\n",
       "<style scoped>\n",
       "    .dataframe tbody tr th:only-of-type {\n",
       "        vertical-align: middle;\n",
       "    }\n",
       "\n",
       "    .dataframe tbody tr th {\n",
       "        vertical-align: top;\n",
       "    }\n",
       "\n",
       "    .dataframe thead th {\n",
       "        text-align: right;\n",
       "    }\n",
       "</style>\n",
       "<table border=\"1\" class=\"dataframe\">\n",
       "  <thead>\n",
       "    <tr style=\"text-align: right;\">\n",
       "      <th></th>\n",
       "      <th>uid</th>\n",
       "      <th>gender</th>\n",
       "      <th>height</th>\n",
       "      <th>weight</th>\n",
       "      <th>bmi</th>\n",
       "      <th>age</th>\n",
       "    </tr>\n",
       "  </thead>\n",
       "  <tbody>\n",
       "    <tr>\n",
       "      <th>0</th>\n",
       "      <td>1</td>\n",
       "      <td>1.62</td>\n",
       "      <td>52</td>\n",
       "      <td>1</td>\n",
       "      <td>19.814053</td>\n",
       "      <td>26</td>\n",
       "    </tr>\n",
       "    <tr>\n",
       "      <th>1</th>\n",
       "      <td>2</td>\n",
       "      <td>1.64</td>\n",
       "      <td>54</td>\n",
       "      <td>1</td>\n",
       "      <td>20.077335</td>\n",
       "      <td>24</td>\n",
       "    </tr>\n",
       "    <tr>\n",
       "      <th>2</th>\n",
       "      <td>5</td>\n",
       "      <td>1.80</td>\n",
       "      <td>60</td>\n",
       "      <td>-1</td>\n",
       "      <td>18.518519</td>\n",
       "      <td>24</td>\n",
       "    </tr>\n",
       "    <tr>\n",
       "      <th>3</th>\n",
       "      <td>6</td>\n",
       "      <td>1.68</td>\n",
       "      <td>62</td>\n",
       "      <td>-1</td>\n",
       "      <td>21.967120</td>\n",
       "      <td>29</td>\n",
       "    </tr>\n",
       "    <tr>\n",
       "      <th>4</th>\n",
       "      <td>7</td>\n",
       "      <td>1.71</td>\n",
       "      <td>64</td>\n",
       "      <td>-1</td>\n",
       "      <td>21.887076</td>\n",
       "      <td>27</td>\n",
       "    </tr>\n",
       "  </tbody>\n",
       "</table>\n",
       "</div>"
      ],
      "text/plain": [
       "   uid  gender  height  weight        bmi  age\n",
       "0    1    1.62      52       1  19.814053   26\n",
       "1    2    1.64      54       1  20.077335   24\n",
       "2    5    1.80      60      -1  18.518519   24\n",
       "3    6    1.68      62      -1  21.967120   29\n",
       "4    7    1.71      64      -1  21.887076   27"
      ]
     },
     "execution_count": 84,
     "metadata": {},
     "output_type": "execute_result"
    }
   ],
   "source": [
    "df_status.head()"
   ]
  },
  {
   "cell_type": "code",
   "execution_count": 88,
   "metadata": {
    "ExecuteTime": {
     "end_time": "2021-01-07T02:22:20.510775Z",
     "start_time": "2021-01-07T02:22:20.501282Z"
    }
   },
   "outputs": [
    {
     "data": {
      "text/html": [
       "<div>\n",
       "<style scoped>\n",
       "    .dataframe tbody tr th:only-of-type {\n",
       "        vertical-align: middle;\n",
       "    }\n",
       "\n",
       "    .dataframe tbody tr th {\n",
       "        vertical-align: top;\n",
       "    }\n",
       "\n",
       "    .dataframe thead th {\n",
       "        text-align: right;\n",
       "    }\n",
       "</style>\n",
       "<table border=\"1\" class=\"dataframe\">\n",
       "  <thead>\n",
       "    <tr style=\"text-align: right;\">\n",
       "      <th></th>\n",
       "      <th>uid</th>\n",
       "      <th>gender</th>\n",
       "      <th>height</th>\n",
       "      <th>weight</th>\n",
       "      <th>bmi</th>\n",
       "      <th>age</th>\n",
       "    </tr>\n",
       "  </thead>\n",
       "  <tbody>\n",
       "    <tr>\n",
       "      <th>1</th>\n",
       "      <td>2</td>\n",
       "      <td>1.64</td>\n",
       "      <td>54</td>\n",
       "      <td>1</td>\n",
       "      <td>20.077335</td>\n",
       "      <td>24</td>\n",
       "    </tr>\n",
       "  </tbody>\n",
       "</table>\n",
       "</div>"
      ],
      "text/plain": [
       "   uid  gender  height  weight        bmi  age\n",
       "1    2    1.64      54       1  20.077335   24"
      ]
     },
     "execution_count": 88,
     "metadata": {},
     "output_type": "execute_result"
    }
   ],
   "source": [
    "df_status[df_status['uid'] == int(uid)]"
   ]
  },
  {
   "cell_type": "code",
   "execution_count": 89,
   "metadata": {
    "ExecuteTime": {
     "end_time": "2021-01-07T02:22:27.921924Z",
     "start_time": "2021-01-07T02:22:27.905923Z"
    }
   },
   "outputs": [],
   "source": [
    "one_status = list(df_status[df_status['uid'] == int(uid)].to_dict(orient='index').values())[0]"
   ]
  },
  {
   "cell_type": "code",
   "execution_count": 90,
   "metadata": {
    "ExecuteTime": {
     "end_time": "2021-01-07T02:22:30.117187Z",
     "start_time": "2021-01-07T02:22:30.109187Z"
    }
   },
   "outputs": [
    {
     "data": {
      "text/plain": [
       "{'uid': 2,\n",
       " 'gender': 1.64,\n",
       " 'height': 54,\n",
       " 'weight': 1,\n",
       " 'bmi': 20.07733492,\n",
       " 'age': 24}"
      ]
     },
     "execution_count": 90,
     "metadata": {},
     "output_type": "execute_result"
    }
   ],
   "source": [
    "one_status"
   ]
  },
  {
   "cell_type": "code",
   "execution_count": 91,
   "metadata": {
    "ExecuteTime": {
     "end_time": "2021-01-07T02:22:54.497170Z",
     "start_time": "2021-01-07T02:22:54.488169Z"
    }
   },
   "outputs": [],
   "source": [
    "df_one['height'] = one_status['height']"
   ]
  },
  {
   "cell_type": "code",
   "execution_count": 92,
   "metadata": {
    "ExecuteTime": {
     "end_time": "2021-01-07T02:22:54.997386Z",
     "start_time": "2021-01-07T02:22:54.990951Z"
    }
   },
   "outputs": [],
   "source": [
    "df_one['weight'] = one_status['weight']"
   ]
  },
  {
   "cell_type": "code",
   "execution_count": 93,
   "metadata": {
    "ExecuteTime": {
     "end_time": "2021-01-07T02:22:55.986294Z",
     "start_time": "2021-01-07T02:22:55.975296Z"
    }
   },
   "outputs": [],
   "source": [
    "df_one['gender'] = one_status['gender']"
   ]
  },
  {
   "cell_type": "code",
   "execution_count": 94,
   "metadata": {
    "ExecuteTime": {
     "end_time": "2021-01-07T02:22:56.424432Z",
     "start_time": "2021-01-07T02:22:56.405921Z"
    }
   },
   "outputs": [],
   "source": [
    "df_one['bmi'] = one_status['bmi']"
   ]
  },
  {
   "cell_type": "code",
   "execution_count": 95,
   "metadata": {
    "ExecuteTime": {
     "end_time": "2021-01-07T02:22:57.075962Z",
     "start_time": "2021-01-07T02:22:57.064450Z"
    }
   },
   "outputs": [],
   "source": [
    "df_one['age'] = one_status['age']"
   ]
  },
  {
   "cell_type": "code",
   "execution_count": 96,
   "metadata": {
    "ExecuteTime": {
     "end_time": "2021-01-07T02:22:58.169363Z",
     "start_time": "2021-01-07T02:22:58.146376Z"
    }
   },
   "outputs": [
    {
     "data": {
      "text/html": [
       "<div>\n",
       "<style scoped>\n",
       "    .dataframe tbody tr th:only-of-type {\n",
       "        vertical-align: middle;\n",
       "    }\n",
       "\n",
       "    .dataframe tbody tr th {\n",
       "        vertical-align: top;\n",
       "    }\n",
       "\n",
       "    .dataframe thead th {\n",
       "        text-align: right;\n",
       "    }\n",
       "</style>\n",
       "<table border=\"1\" class=\"dataframe\">\n",
       "  <thead>\n",
       "    <tr style=\"text-align: right;\">\n",
       "      <th></th>\n",
       "      <th>time</th>\n",
       "      <th>height</th>\n",
       "      <th>weight</th>\n",
       "      <th>gender</th>\n",
       "      <th>bmi</th>\n",
       "      <th>age</th>\n",
       "    </tr>\n",
       "  </thead>\n",
       "  <tbody>\n",
       "    <tr>\n",
       "      <th>0</th>\n",
       "      <td>2020-12-09 13:20:00</td>\n",
       "      <td>54</td>\n",
       "      <td>1</td>\n",
       "      <td>1.64</td>\n",
       "      <td>20.077335</td>\n",
       "      <td>24</td>\n",
       "    </tr>\n",
       "    <tr>\n",
       "      <th>1</th>\n",
       "      <td>2020-12-09 13:30:00</td>\n",
       "      <td>54</td>\n",
       "      <td>1</td>\n",
       "      <td>1.64</td>\n",
       "      <td>20.077335</td>\n",
       "      <td>24</td>\n",
       "    </tr>\n",
       "    <tr>\n",
       "      <th>2</th>\n",
       "      <td>2020-12-09 13:40:00</td>\n",
       "      <td>54</td>\n",
       "      <td>1</td>\n",
       "      <td>1.64</td>\n",
       "      <td>20.077335</td>\n",
       "      <td>24</td>\n",
       "    </tr>\n",
       "    <tr>\n",
       "      <th>3</th>\n",
       "      <td>2020-12-09 13:50:00</td>\n",
       "      <td>54</td>\n",
       "      <td>1</td>\n",
       "      <td>1.64</td>\n",
       "      <td>20.077335</td>\n",
       "      <td>24</td>\n",
       "    </tr>\n",
       "    <tr>\n",
       "      <th>4</th>\n",
       "      <td>2020-12-09 14:00:00</td>\n",
       "      <td>54</td>\n",
       "      <td>1</td>\n",
       "      <td>1.64</td>\n",
       "      <td>20.077335</td>\n",
       "      <td>24</td>\n",
       "    </tr>\n",
       "    <tr>\n",
       "      <th>5</th>\n",
       "      <td>2020-12-09 14:10:00</td>\n",
       "      <td>54</td>\n",
       "      <td>1</td>\n",
       "      <td>1.64</td>\n",
       "      <td>20.077335</td>\n",
       "      <td>24</td>\n",
       "    </tr>\n",
       "    <tr>\n",
       "      <th>6</th>\n",
       "      <td>2020-12-09 14:20:00</td>\n",
       "      <td>54</td>\n",
       "      <td>1</td>\n",
       "      <td>1.64</td>\n",
       "      <td>20.077335</td>\n",
       "      <td>24</td>\n",
       "    </tr>\n",
       "    <tr>\n",
       "      <th>7</th>\n",
       "      <td>2020-12-09 14:30:00</td>\n",
       "      <td>54</td>\n",
       "      <td>1</td>\n",
       "      <td>1.64</td>\n",
       "      <td>20.077335</td>\n",
       "      <td>24</td>\n",
       "    </tr>\n",
       "    <tr>\n",
       "      <th>8</th>\n",
       "      <td>2020-12-09 14:40:00</td>\n",
       "      <td>54</td>\n",
       "      <td>1</td>\n",
       "      <td>1.64</td>\n",
       "      <td>20.077335</td>\n",
       "      <td>24</td>\n",
       "    </tr>\n",
       "    <tr>\n",
       "      <th>9</th>\n",
       "      <td>2020-12-09 14:50:00</td>\n",
       "      <td>54</td>\n",
       "      <td>1</td>\n",
       "      <td>1.64</td>\n",
       "      <td>20.077335</td>\n",
       "      <td>24</td>\n",
       "    </tr>\n",
       "    <tr>\n",
       "      <th>10</th>\n",
       "      <td>2020-12-09 15:00:00</td>\n",
       "      <td>54</td>\n",
       "      <td>1</td>\n",
       "      <td>1.64</td>\n",
       "      <td>20.077335</td>\n",
       "      <td>24</td>\n",
       "    </tr>\n",
       "    <tr>\n",
       "      <th>11</th>\n",
       "      <td>2020-12-09 15:10:00</td>\n",
       "      <td>54</td>\n",
       "      <td>1</td>\n",
       "      <td>1.64</td>\n",
       "      <td>20.077335</td>\n",
       "      <td>24</td>\n",
       "    </tr>\n",
       "    <tr>\n",
       "      <th>12</th>\n",
       "      <td>2020-12-09 15:20:00</td>\n",
       "      <td>54</td>\n",
       "      <td>1</td>\n",
       "      <td>1.64</td>\n",
       "      <td>20.077335</td>\n",
       "      <td>24</td>\n",
       "    </tr>\n",
       "  </tbody>\n",
       "</table>\n",
       "</div>"
      ],
      "text/plain": [
       "                  time  height  weight  gender        bmi  age\n",
       "0  2020-12-09 13:20:00      54       1    1.64  20.077335   24\n",
       "1  2020-12-09 13:30:00      54       1    1.64  20.077335   24\n",
       "2  2020-12-09 13:40:00      54       1    1.64  20.077335   24\n",
       "3  2020-12-09 13:50:00      54       1    1.64  20.077335   24\n",
       "4  2020-12-09 14:00:00      54       1    1.64  20.077335   24\n",
       "5  2020-12-09 14:10:00      54       1    1.64  20.077335   24\n",
       "6  2020-12-09 14:20:00      54       1    1.64  20.077335   24\n",
       "7  2020-12-09 14:30:00      54       1    1.64  20.077335   24\n",
       "8  2020-12-09 14:40:00      54       1    1.64  20.077335   24\n",
       "9  2020-12-09 14:50:00      54       1    1.64  20.077335   24\n",
       "10 2020-12-09 15:00:00      54       1    1.64  20.077335   24\n",
       "11 2020-12-09 15:10:00      54       1    1.64  20.077335   24\n",
       "12 2020-12-09 15:20:00      54       1    1.64  20.077335   24"
      ]
     },
     "execution_count": 96,
     "metadata": {},
     "output_type": "execute_result"
    }
   ],
   "source": [
    "df_one"
   ]
  },
  {
   "cell_type": "markdown",
   "metadata": {},
   "source": [
    "## Join All But Record\n",
    "`df_one` left join `df_all`"
   ]
  },
  {
   "cell_type": "code",
   "execution_count": 97,
   "metadata": {
    "ExecuteTime": {
     "end_time": "2021-01-07T02:23:15.193771Z",
     "start_time": "2021-01-07T02:23:15.182773Z"
    }
   },
   "outputs": [],
   "source": [
    "df_one_all_without_record = pd.merge(df_one, df_all, how='left', on='time', sort=True)"
   ]
  },
  {
   "cell_type": "code",
   "execution_count": 98,
   "metadata": {
    "ExecuteTime": {
     "end_time": "2021-01-07T02:23:15.706118Z",
     "start_time": "2021-01-07T02:23:15.682371Z"
    }
   },
   "outputs": [
    {
     "data": {
      "text/html": [
       "<div>\n",
       "<style scoped>\n",
       "    .dataframe tbody tr th:only-of-type {\n",
       "        vertical-align: middle;\n",
       "    }\n",
       "\n",
       "    .dataframe tbody tr th {\n",
       "        vertical-align: top;\n",
       "    }\n",
       "\n",
       "    .dataframe thead th {\n",
       "        text-align: right;\n",
       "    }\n",
       "</style>\n",
       "<table border=\"1\" class=\"dataframe\">\n",
       "  <thead>\n",
       "    <tr style=\"text-align: right;\">\n",
       "      <th></th>\n",
       "      <th>time</th>\n",
       "      <th>height</th>\n",
       "      <th>weight</th>\n",
       "      <th>gender</th>\n",
       "      <th>bmi</th>\n",
       "      <th>age</th>\n",
       "      <th>env_temp</th>\n",
       "      <th>rh</th>\n",
       "      <th>heart_rate</th>\n",
       "      <th>stress_level</th>\n",
       "      <th>skin_temp</th>\n",
       "      <th>eda</th>\n",
       "    </tr>\n",
       "  </thead>\n",
       "  <tbody>\n",
       "    <tr>\n",
       "      <th>0</th>\n",
       "      <td>2020-12-09 13:20:00</td>\n",
       "      <td>54</td>\n",
       "      <td>1</td>\n",
       "      <td>1.64</td>\n",
       "      <td>20.077335</td>\n",
       "      <td>24</td>\n",
       "      <td>83.467</td>\n",
       "      <td>29.681</td>\n",
       "      <td>79.0</td>\n",
       "      <td>13.0</td>\n",
       "      <td>30.854</td>\n",
       "      <td>0.270284</td>\n",
       "    </tr>\n",
       "    <tr>\n",
       "      <th>1</th>\n",
       "      <td>2020-12-09 13:30:00</td>\n",
       "      <td>54</td>\n",
       "      <td>1</td>\n",
       "      <td>1.64</td>\n",
       "      <td>20.077335</td>\n",
       "      <td>24</td>\n",
       "      <td>86.211</td>\n",
       "      <td>32.388</td>\n",
       "      <td>NaN</td>\n",
       "      <td>45.0</td>\n",
       "      <td>31.353</td>\n",
       "      <td>1.830910</td>\n",
       "    </tr>\n",
       "    <tr>\n",
       "      <th>2</th>\n",
       "      <td>2020-12-09 13:40:00</td>\n",
       "      <td>54</td>\n",
       "      <td>1</td>\n",
       "      <td>1.64</td>\n",
       "      <td>20.077335</td>\n",
       "      <td>24</td>\n",
       "      <td>88.214</td>\n",
       "      <td>35.534</td>\n",
       "      <td>115.0</td>\n",
       "      <td>NaN</td>\n",
       "      <td>31.300</td>\n",
       "      <td>3.810681</td>\n",
       "    </tr>\n",
       "    <tr>\n",
       "      <th>3</th>\n",
       "      <td>2020-12-09 13:50:00</td>\n",
       "      <td>54</td>\n",
       "      <td>1</td>\n",
       "      <td>1.64</td>\n",
       "      <td>20.077335</td>\n",
       "      <td>24</td>\n",
       "      <td>87.300</td>\n",
       "      <td>40.763</td>\n",
       "      <td>100.0</td>\n",
       "      <td>73.0</td>\n",
       "      <td>31.196</td>\n",
       "      <td>5.216038</td>\n",
       "    </tr>\n",
       "    <tr>\n",
       "      <th>4</th>\n",
       "      <td>2020-12-09 14:00:00</td>\n",
       "      <td>54</td>\n",
       "      <td>1</td>\n",
       "      <td>1.64</td>\n",
       "      <td>20.077335</td>\n",
       "      <td>24</td>\n",
       "      <td>86.391</td>\n",
       "      <td>43.915</td>\n",
       "      <td>107.0</td>\n",
       "      <td>NaN</td>\n",
       "      <td>31.327</td>\n",
       "      <td>9.444642</td>\n",
       "    </tr>\n",
       "  </tbody>\n",
       "</table>\n",
       "</div>"
      ],
      "text/plain": [
       "                 time  height  weight  gender        bmi  age  env_temp  \\\n",
       "0 2020-12-09 13:20:00      54       1    1.64  20.077335   24    83.467   \n",
       "1 2020-12-09 13:30:00      54       1    1.64  20.077335   24    86.211   \n",
       "2 2020-12-09 13:40:00      54       1    1.64  20.077335   24    88.214   \n",
       "3 2020-12-09 13:50:00      54       1    1.64  20.077335   24    87.300   \n",
       "4 2020-12-09 14:00:00      54       1    1.64  20.077335   24    86.391   \n",
       "\n",
       "       rh  heart_rate  stress_level  skin_temp       eda  \n",
       "0  29.681        79.0          13.0     30.854  0.270284  \n",
       "1  32.388         NaN          45.0     31.353  1.830910  \n",
       "2  35.534       115.0           NaN     31.300  3.810681  \n",
       "3  40.763       100.0          73.0     31.196  5.216038  \n",
       "4  43.915       107.0           NaN     31.327  9.444642  "
      ]
     },
     "execution_count": 98,
     "metadata": {},
     "output_type": "execute_result"
    }
   ],
   "source": [
    "df_one_all_without_record.head()"
   ]
  },
  {
   "cell_type": "code",
   "execution_count": 99,
   "metadata": {
    "ExecuteTime": {
     "end_time": "2021-01-07T02:23:22.168233Z",
     "start_time": "2021-01-07T02:23:22.159703Z"
    }
   },
   "outputs": [
    {
     "name": "stdout",
     "output_type": "stream",
     "text": [
      "<class 'pandas.core.frame.DataFrame'>\n",
      "Int64Index: 13 entries, 0 to 12\n",
      "Data columns (total 12 columns):\n",
      " #   Column        Non-Null Count  Dtype         \n",
      "---  ------        --------------  -----         \n",
      " 0   time          13 non-null     datetime64[ns]\n",
      " 1   height        13 non-null     int64         \n",
      " 2   weight        13 non-null     int64         \n",
      " 3   gender        13 non-null     float64       \n",
      " 4   bmi           13 non-null     float64       \n",
      " 5   age           13 non-null     int64         \n",
      " 6   env_temp      13 non-null     float64       \n",
      " 7   rh            13 non-null     float64       \n",
      " 8   heart_rate    11 non-null     float64       \n",
      " 9   stress_level  10 non-null     float64       \n",
      " 10  skin_temp     13 non-null     float64       \n",
      " 11  eda           13 non-null     float64       \n",
      "dtypes: datetime64[ns](1), float64(8), int64(3)\n",
      "memory usage: 1.3 KB\n"
     ]
    }
   ],
   "source": [
    "df_one_all_without_record.info()"
   ]
  },
  {
   "cell_type": "code",
   "execution_count": 104,
   "metadata": {
    "ExecuteTime": {
     "end_time": "2021-01-07T02:25:06.079654Z",
     "start_time": "2021-01-07T02:25:06.075654Z"
    }
   },
   "outputs": [
    {
     "data": {
      "text/plain": [
       "(13, 12)"
      ]
     },
     "execution_count": 104,
     "metadata": {},
     "output_type": "execute_result"
    }
   ],
   "source": [
    "df_one_all_without_record.shape"
   ]
  },
  {
   "cell_type": "markdown",
   "metadata": {},
   "source": [
    "## 6. Record"
   ]
  },
  {
   "cell_type": "code",
   "execution_count": 106,
   "metadata": {
    "ExecuteTime": {
     "end_time": "2021-01-07T02:35:52.548087Z",
     "start_time": "2021-01-07T02:35:52.527089Z"
    }
   },
   "outputs": [
    {
     "data": {
      "text/plain": [
       "'./record\\\\02.csv'"
      ]
     },
     "metadata": {},
     "output_type": "display_data"
    }
   ],
   "source": [
    "pth_record = os.path.join('./record', uid + '.csv')\n",
    "display(pth_record)\n",
    "df_record = pd.read_csv(pth_record)"
   ]
  },
  {
   "cell_type": "code",
   "execution_count": 107,
   "metadata": {
    "ExecuteTime": {
     "end_time": "2021-01-07T02:35:54.951657Z",
     "start_time": "2021-01-07T02:35:54.939134Z"
    }
   },
   "outputs": [
    {
     "data": {
      "text/html": [
       "<div>\n",
       "<style scoped>\n",
       "    .dataframe tbody tr th:only-of-type {\n",
       "        vertical-align: middle;\n",
       "    }\n",
       "\n",
       "    .dataframe tbody tr th {\n",
       "        vertical-align: top;\n",
       "    }\n",
       "\n",
       "    .dataframe thead th {\n",
       "        text-align: right;\n",
       "    }\n",
       "</style>\n",
       "<table border=\"1\" class=\"dataframe\">\n",
       "  <thead>\n",
       "    <tr style=\"text-align: right;\">\n",
       "      <th></th>\n",
       "      <th>Time</th>\n",
       "      <th>TC</th>\n",
       "      <th>TS</th>\n",
       "      <th>Clo</th>\n",
       "      <th>Act</th>\n",
       "    </tr>\n",
       "  </thead>\n",
       "  <tbody>\n",
       "    <tr>\n",
       "      <th>0</th>\n",
       "      <td>13:20</td>\n",
       "      <td>5</td>\n",
       "      <td>6</td>\n",
       "      <td>0.61</td>\n",
       "      <td>1.0</td>\n",
       "    </tr>\n",
       "    <tr>\n",
       "      <th>1</th>\n",
       "      <td>13:30</td>\n",
       "      <td>4</td>\n",
       "      <td>7</td>\n",
       "      <td>0.61</td>\n",
       "      <td>2.6</td>\n",
       "    </tr>\n",
       "    <tr>\n",
       "      <th>2</th>\n",
       "      <td>13:40</td>\n",
       "      <td>4</td>\n",
       "      <td>5</td>\n",
       "      <td>0.61</td>\n",
       "      <td>2.6</td>\n",
       "    </tr>\n",
       "    <tr>\n",
       "      <th>3</th>\n",
       "      <td>13:50</td>\n",
       "      <td>5</td>\n",
       "      <td>5</td>\n",
       "      <td>0.74</td>\n",
       "      <td>2.6</td>\n",
       "    </tr>\n",
       "    <tr>\n",
       "      <th>4</th>\n",
       "      <td>14:00</td>\n",
       "      <td>5</td>\n",
       "      <td>6</td>\n",
       "      <td>0.74</td>\n",
       "      <td>2.6</td>\n",
       "    </tr>\n",
       "  </tbody>\n",
       "</table>\n",
       "</div>"
      ],
      "text/plain": [
       "    Time  TC  TS   Clo  Act\n",
       "0  13:20   5   6  0.61  1.0\n",
       "1  13:30   4   7  0.61  2.6\n",
       "2  13:40   4   5  0.61  2.6\n",
       "3  13:50   5   5  0.74  2.6\n",
       "4  14:00   5   6  0.74  2.6"
      ]
     },
     "execution_count": 107,
     "metadata": {},
     "output_type": "execute_result"
    }
   ],
   "source": [
    "df_record.head()"
   ]
  },
  {
   "cell_type": "code",
   "execution_count": 108,
   "metadata": {
    "ExecuteTime": {
     "end_time": "2021-01-07T02:37:02.925077Z",
     "start_time": "2021-01-07T02:37:02.914558Z"
    }
   },
   "outputs": [],
   "source": [
    "df_record['time'] = '2020-12-09' + ' ' + df_record.Time + ':00'"
   ]
  },
  {
   "cell_type": "code",
   "execution_count": 109,
   "metadata": {
    "ExecuteTime": {
     "end_time": "2021-01-07T02:37:09.055579Z",
     "start_time": "2021-01-07T02:37:09.047060Z"
    }
   },
   "outputs": [],
   "source": [
    "df_record['time'] = pd.to_datetime(df_record['time'])"
   ]
  },
  {
   "cell_type": "code",
   "execution_count": 110,
   "metadata": {
    "ExecuteTime": {
     "end_time": "2021-01-07T02:37:16.796476Z",
     "start_time": "2021-01-07T02:37:16.789478Z"
    }
   },
   "outputs": [],
   "source": [
    "df_record = df_record.drop(axis=1, columns=['Time'])"
   ]
  },
  {
   "cell_type": "code",
   "execution_count": 111,
   "metadata": {
    "ExecuteTime": {
     "end_time": "2021-01-07T02:37:17.327749Z",
     "start_time": "2021-01-07T02:37:17.309724Z"
    }
   },
   "outputs": [
    {
     "data": {
      "text/html": [
       "<div>\n",
       "<style scoped>\n",
       "    .dataframe tbody tr th:only-of-type {\n",
       "        vertical-align: middle;\n",
       "    }\n",
       "\n",
       "    .dataframe tbody tr th {\n",
       "        vertical-align: top;\n",
       "    }\n",
       "\n",
       "    .dataframe thead th {\n",
       "        text-align: right;\n",
       "    }\n",
       "</style>\n",
       "<table border=\"1\" class=\"dataframe\">\n",
       "  <thead>\n",
       "    <tr style=\"text-align: right;\">\n",
       "      <th></th>\n",
       "      <th>TC</th>\n",
       "      <th>TS</th>\n",
       "      <th>Clo</th>\n",
       "      <th>Act</th>\n",
       "      <th>time</th>\n",
       "    </tr>\n",
       "  </thead>\n",
       "  <tbody>\n",
       "    <tr>\n",
       "      <th>0</th>\n",
       "      <td>5</td>\n",
       "      <td>6</td>\n",
       "      <td>0.61</td>\n",
       "      <td>1.0</td>\n",
       "      <td>2020-12-09 13:20:00</td>\n",
       "    </tr>\n",
       "    <tr>\n",
       "      <th>1</th>\n",
       "      <td>4</td>\n",
       "      <td>7</td>\n",
       "      <td>0.61</td>\n",
       "      <td>2.6</td>\n",
       "      <td>2020-12-09 13:30:00</td>\n",
       "    </tr>\n",
       "    <tr>\n",
       "      <th>2</th>\n",
       "      <td>4</td>\n",
       "      <td>5</td>\n",
       "      <td>0.61</td>\n",
       "      <td>2.6</td>\n",
       "      <td>2020-12-09 13:40:00</td>\n",
       "    </tr>\n",
       "    <tr>\n",
       "      <th>3</th>\n",
       "      <td>5</td>\n",
       "      <td>5</td>\n",
       "      <td>0.74</td>\n",
       "      <td>2.6</td>\n",
       "      <td>2020-12-09 13:50:00</td>\n",
       "    </tr>\n",
       "    <tr>\n",
       "      <th>4</th>\n",
       "      <td>5</td>\n",
       "      <td>6</td>\n",
       "      <td>0.74</td>\n",
       "      <td>2.6</td>\n",
       "      <td>2020-12-09 14:00:00</td>\n",
       "    </tr>\n",
       "    <tr>\n",
       "      <th>5</th>\n",
       "      <td>5</td>\n",
       "      <td>3</td>\n",
       "      <td>1.00</td>\n",
       "      <td>1.0</td>\n",
       "      <td>2020-12-09 14:10:00</td>\n",
       "    </tr>\n",
       "    <tr>\n",
       "      <th>6</th>\n",
       "      <td>5</td>\n",
       "      <td>5</td>\n",
       "      <td>1.00</td>\n",
       "      <td>1.0</td>\n",
       "      <td>2020-12-09 14:20:00</td>\n",
       "    </tr>\n",
       "    <tr>\n",
       "      <th>7</th>\n",
       "      <td>5</td>\n",
       "      <td>5</td>\n",
       "      <td>0.61</td>\n",
       "      <td>1.0</td>\n",
       "      <td>2020-12-09 14:30:00</td>\n",
       "    </tr>\n",
       "    <tr>\n",
       "      <th>8</th>\n",
       "      <td>4</td>\n",
       "      <td>3</td>\n",
       "      <td>0.61</td>\n",
       "      <td>1.0</td>\n",
       "      <td>2020-12-09 14:40:00</td>\n",
       "    </tr>\n",
       "    <tr>\n",
       "      <th>9</th>\n",
       "      <td>4</td>\n",
       "      <td>3</td>\n",
       "      <td>0.74</td>\n",
       "      <td>1.0</td>\n",
       "      <td>2020-12-09 14:50:00</td>\n",
       "    </tr>\n",
       "    <tr>\n",
       "      <th>10</th>\n",
       "      <td>4</td>\n",
       "      <td>2</td>\n",
       "      <td>0.74</td>\n",
       "      <td>1.0</td>\n",
       "      <td>2020-12-09 15:00:00</td>\n",
       "    </tr>\n",
       "    <tr>\n",
       "      <th>11</th>\n",
       "      <td>2</td>\n",
       "      <td>1</td>\n",
       "      <td>1.00</td>\n",
       "      <td>1.0</td>\n",
       "      <td>2020-12-09 15:10:00</td>\n",
       "    </tr>\n",
       "    <tr>\n",
       "      <th>12</th>\n",
       "      <td>2</td>\n",
       "      <td>1</td>\n",
       "      <td>1.00</td>\n",
       "      <td>1.0</td>\n",
       "      <td>2020-12-09 15:20:00</td>\n",
       "    </tr>\n",
       "  </tbody>\n",
       "</table>\n",
       "</div>"
      ],
      "text/plain": [
       "    TC  TS   Clo  Act                time\n",
       "0    5   6  0.61  1.0 2020-12-09 13:20:00\n",
       "1    4   7  0.61  2.6 2020-12-09 13:30:00\n",
       "2    4   5  0.61  2.6 2020-12-09 13:40:00\n",
       "3    5   5  0.74  2.6 2020-12-09 13:50:00\n",
       "4    5   6  0.74  2.6 2020-12-09 14:00:00\n",
       "5    5   3  1.00  1.0 2020-12-09 14:10:00\n",
       "6    5   5  1.00  1.0 2020-12-09 14:20:00\n",
       "7    5   5  0.61  1.0 2020-12-09 14:30:00\n",
       "8    4   3  0.61  1.0 2020-12-09 14:40:00\n",
       "9    4   3  0.74  1.0 2020-12-09 14:50:00\n",
       "10   4   2  0.74  1.0 2020-12-09 15:00:00\n",
       "11   2   1  1.00  1.0 2020-12-09 15:10:00\n",
       "12   2   1  1.00  1.0 2020-12-09 15:20:00"
      ]
     },
     "execution_count": 111,
     "metadata": {},
     "output_type": "execute_result"
    }
   ],
   "source": [
    "df_record"
   ]
  },
  {
   "cell_type": "code",
   "execution_count": 112,
   "metadata": {
    "ExecuteTime": {
     "end_time": "2021-01-07T02:37:26.057539Z",
     "start_time": "2021-01-07T02:37:26.048542Z"
    }
   },
   "outputs": [
    {
     "name": "stdout",
     "output_type": "stream",
     "text": [
      "<class 'pandas.core.frame.DataFrame'>\n",
      "RangeIndex: 13 entries, 0 to 12\n",
      "Data columns (total 5 columns):\n",
      " #   Column  Non-Null Count  Dtype         \n",
      "---  ------  --------------  -----         \n",
      " 0   TC      13 non-null     int64         \n",
      " 1   TS      13 non-null     int64         \n",
      " 2   Clo     13 non-null     float64       \n",
      " 3   Act     13 non-null     float64       \n",
      " 4   time    13 non-null     datetime64[ns]\n",
      "dtypes: datetime64[ns](1), float64(2), int64(2)\n",
      "memory usage: 648.0 bytes\n"
     ]
    }
   ],
   "source": [
    "df_record.info()"
   ]
  },
  {
   "cell_type": "markdown",
   "metadata": {},
   "source": [
    "### 6.1. Left Join Record"
   ]
  },
  {
   "cell_type": "code",
   "execution_count": 113,
   "metadata": {
    "ExecuteTime": {
     "end_time": "2021-01-07T02:37:28.366770Z",
     "start_time": "2021-01-07T02:37:28.356762Z"
    }
   },
   "outputs": [],
   "source": [
    "df_one_all = pd.merge(df_one_all_without_record, df_record, how='left', on='time', sort=True)"
   ]
  },
  {
   "cell_type": "code",
   "execution_count": 114,
   "metadata": {
    "ExecuteTime": {
     "end_time": "2021-01-07T02:37:28.825106Z",
     "start_time": "2021-01-07T02:37:28.803069Z"
    }
   },
   "outputs": [
    {
     "data": {
      "text/html": [
       "<div>\n",
       "<style scoped>\n",
       "    .dataframe tbody tr th:only-of-type {\n",
       "        vertical-align: middle;\n",
       "    }\n",
       "\n",
       "    .dataframe tbody tr th {\n",
       "        vertical-align: top;\n",
       "    }\n",
       "\n",
       "    .dataframe thead th {\n",
       "        text-align: right;\n",
       "    }\n",
       "</style>\n",
       "<table border=\"1\" class=\"dataframe\">\n",
       "  <thead>\n",
       "    <tr style=\"text-align: right;\">\n",
       "      <th></th>\n",
       "      <th>time</th>\n",
       "      <th>height</th>\n",
       "      <th>weight</th>\n",
       "      <th>gender</th>\n",
       "      <th>bmi</th>\n",
       "      <th>age</th>\n",
       "      <th>env_temp</th>\n",
       "      <th>rh</th>\n",
       "      <th>heart_rate</th>\n",
       "      <th>stress_level</th>\n",
       "      <th>skin_temp</th>\n",
       "      <th>eda</th>\n",
       "      <th>TC</th>\n",
       "      <th>TS</th>\n",
       "      <th>Clo</th>\n",
       "      <th>Act</th>\n",
       "    </tr>\n",
       "  </thead>\n",
       "  <tbody>\n",
       "    <tr>\n",
       "      <th>0</th>\n",
       "      <td>2020-12-09 13:20:00</td>\n",
       "      <td>54</td>\n",
       "      <td>1</td>\n",
       "      <td>1.64</td>\n",
       "      <td>20.077335</td>\n",
       "      <td>24</td>\n",
       "      <td>83.467</td>\n",
       "      <td>29.681</td>\n",
       "      <td>79.0</td>\n",
       "      <td>13.0</td>\n",
       "      <td>30.854</td>\n",
       "      <td>0.270284</td>\n",
       "      <td>5</td>\n",
       "      <td>6</td>\n",
       "      <td>0.61</td>\n",
       "      <td>1.0</td>\n",
       "    </tr>\n",
       "    <tr>\n",
       "      <th>1</th>\n",
       "      <td>2020-12-09 13:30:00</td>\n",
       "      <td>54</td>\n",
       "      <td>1</td>\n",
       "      <td>1.64</td>\n",
       "      <td>20.077335</td>\n",
       "      <td>24</td>\n",
       "      <td>86.211</td>\n",
       "      <td>32.388</td>\n",
       "      <td>NaN</td>\n",
       "      <td>45.0</td>\n",
       "      <td>31.353</td>\n",
       "      <td>1.830910</td>\n",
       "      <td>4</td>\n",
       "      <td>7</td>\n",
       "      <td>0.61</td>\n",
       "      <td>2.6</td>\n",
       "    </tr>\n",
       "    <tr>\n",
       "      <th>2</th>\n",
       "      <td>2020-12-09 13:40:00</td>\n",
       "      <td>54</td>\n",
       "      <td>1</td>\n",
       "      <td>1.64</td>\n",
       "      <td>20.077335</td>\n",
       "      <td>24</td>\n",
       "      <td>88.214</td>\n",
       "      <td>35.534</td>\n",
       "      <td>115.0</td>\n",
       "      <td>NaN</td>\n",
       "      <td>31.300</td>\n",
       "      <td>3.810681</td>\n",
       "      <td>4</td>\n",
       "      <td>5</td>\n",
       "      <td>0.61</td>\n",
       "      <td>2.6</td>\n",
       "    </tr>\n",
       "    <tr>\n",
       "      <th>3</th>\n",
       "      <td>2020-12-09 13:50:00</td>\n",
       "      <td>54</td>\n",
       "      <td>1</td>\n",
       "      <td>1.64</td>\n",
       "      <td>20.077335</td>\n",
       "      <td>24</td>\n",
       "      <td>87.300</td>\n",
       "      <td>40.763</td>\n",
       "      <td>100.0</td>\n",
       "      <td>73.0</td>\n",
       "      <td>31.196</td>\n",
       "      <td>5.216038</td>\n",
       "      <td>5</td>\n",
       "      <td>5</td>\n",
       "      <td>0.74</td>\n",
       "      <td>2.6</td>\n",
       "    </tr>\n",
       "    <tr>\n",
       "      <th>4</th>\n",
       "      <td>2020-12-09 14:00:00</td>\n",
       "      <td>54</td>\n",
       "      <td>1</td>\n",
       "      <td>1.64</td>\n",
       "      <td>20.077335</td>\n",
       "      <td>24</td>\n",
       "      <td>86.391</td>\n",
       "      <td>43.915</td>\n",
       "      <td>107.0</td>\n",
       "      <td>NaN</td>\n",
       "      <td>31.327</td>\n",
       "      <td>9.444642</td>\n",
       "      <td>5</td>\n",
       "      <td>6</td>\n",
       "      <td>0.74</td>\n",
       "      <td>2.6</td>\n",
       "    </tr>\n",
       "  </tbody>\n",
       "</table>\n",
       "</div>"
      ],
      "text/plain": [
       "                 time  height  weight  gender        bmi  age  env_temp  \\\n",
       "0 2020-12-09 13:20:00      54       1    1.64  20.077335   24    83.467   \n",
       "1 2020-12-09 13:30:00      54       1    1.64  20.077335   24    86.211   \n",
       "2 2020-12-09 13:40:00      54       1    1.64  20.077335   24    88.214   \n",
       "3 2020-12-09 13:50:00      54       1    1.64  20.077335   24    87.300   \n",
       "4 2020-12-09 14:00:00      54       1    1.64  20.077335   24    86.391   \n",
       "\n",
       "       rh  heart_rate  stress_level  skin_temp       eda  TC  TS   Clo  Act  \n",
       "0  29.681        79.0          13.0     30.854  0.270284   5   6  0.61  1.0  \n",
       "1  32.388         NaN          45.0     31.353  1.830910   4   7  0.61  2.6  \n",
       "2  35.534       115.0           NaN     31.300  3.810681   4   5  0.61  2.6  \n",
       "3  40.763       100.0          73.0     31.196  5.216038   5   5  0.74  2.6  \n",
       "4  43.915       107.0           NaN     31.327  9.444642   5   6  0.74  2.6  "
      ]
     },
     "execution_count": 114,
     "metadata": {},
     "output_type": "execute_result"
    }
   ],
   "source": [
    "df_one_all.head()"
   ]
  },
  {
   "cell_type": "code",
   "execution_count": 115,
   "metadata": {
    "ExecuteTime": {
     "end_time": "2021-01-07T02:37:35.276442Z",
     "start_time": "2021-01-07T02:37:35.252824Z"
    }
   },
   "outputs": [
    {
     "name": "stdout",
     "output_type": "stream",
     "text": [
      "<class 'pandas.core.frame.DataFrame'>\n",
      "Int64Index: 13 entries, 0 to 12\n",
      "Data columns (total 16 columns):\n",
      " #   Column        Non-Null Count  Dtype         \n",
      "---  ------        --------------  -----         \n",
      " 0   time          13 non-null     datetime64[ns]\n",
      " 1   height        13 non-null     int64         \n",
      " 2   weight        13 non-null     int64         \n",
      " 3   gender        13 non-null     float64       \n",
      " 4   bmi           13 non-null     float64       \n",
      " 5   age           13 non-null     int64         \n",
      " 6   env_temp      13 non-null     float64       \n",
      " 7   rh            13 non-null     float64       \n",
      " 8   heart_rate    11 non-null     float64       \n",
      " 9   stress_level  10 non-null     float64       \n",
      " 10  skin_temp     13 non-null     float64       \n",
      " 11  eda           13 non-null     float64       \n",
      " 12  TC            13 non-null     int64         \n",
      " 13  TS            13 non-null     int64         \n",
      " 14  Clo           13 non-null     float64       \n",
      " 15  Act           13 non-null     float64       \n",
      "dtypes: datetime64[ns](1), float64(10), int64(5)\n",
      "memory usage: 1.7 KB\n"
     ]
    }
   ],
   "source": [
    "df_one_all.info()"
   ]
  },
  {
   "cell_type": "code",
   "execution_count": 116,
   "metadata": {
    "ExecuteTime": {
     "end_time": "2021-01-07T02:37:36.761646Z",
     "start_time": "2021-01-07T02:37:36.754115Z"
    }
   },
   "outputs": [],
   "source": [
    "# df_one_all = df_one_all.drop(axis=1, columns='time')"
   ]
  },
  {
   "cell_type": "code",
   "execution_count": 117,
   "metadata": {
    "ExecuteTime": {
     "end_time": "2021-01-07T02:37:37.790046Z",
     "start_time": "2021-01-07T02:37:37.782046Z"
    }
   },
   "outputs": [
    {
     "data": {
      "text/plain": [
       "(13, 16)"
      ]
     },
     "execution_count": 117,
     "metadata": {},
     "output_type": "execute_result"
    }
   ],
   "source": [
    "df_one_all.shape"
   ]
  },
  {
   "cell_type": "code",
   "execution_count": 118,
   "metadata": {
    "ExecuteTime": {
     "end_time": "2021-01-07T02:37:41.937209Z",
     "start_time": "2021-01-07T02:37:41.914052Z"
    }
   },
   "outputs": [
    {
     "data": {
      "text/html": [
       "<div>\n",
       "<style scoped>\n",
       "    .dataframe tbody tr th:only-of-type {\n",
       "        vertical-align: middle;\n",
       "    }\n",
       "\n",
       "    .dataframe tbody tr th {\n",
       "        vertical-align: top;\n",
       "    }\n",
       "\n",
       "    .dataframe thead th {\n",
       "        text-align: right;\n",
       "    }\n",
       "</style>\n",
       "<table border=\"1\" class=\"dataframe\">\n",
       "  <thead>\n",
       "    <tr style=\"text-align: right;\">\n",
       "      <th></th>\n",
       "      <th>time</th>\n",
       "      <th>height</th>\n",
       "      <th>weight</th>\n",
       "      <th>gender</th>\n",
       "      <th>bmi</th>\n",
       "      <th>age</th>\n",
       "      <th>env_temp</th>\n",
       "      <th>rh</th>\n",
       "      <th>heart_rate</th>\n",
       "      <th>stress_level</th>\n",
       "      <th>skin_temp</th>\n",
       "      <th>eda</th>\n",
       "      <th>TC</th>\n",
       "      <th>TS</th>\n",
       "      <th>Clo</th>\n",
       "      <th>Act</th>\n",
       "    </tr>\n",
       "  </thead>\n",
       "  <tbody>\n",
       "    <tr>\n",
       "      <th>0</th>\n",
       "      <td>2020-12-09 13:20:00</td>\n",
       "      <td>54</td>\n",
       "      <td>1</td>\n",
       "      <td>1.64</td>\n",
       "      <td>20.077335</td>\n",
       "      <td>24</td>\n",
       "      <td>83.467</td>\n",
       "      <td>29.681</td>\n",
       "      <td>79.0</td>\n",
       "      <td>13.0</td>\n",
       "      <td>30.854</td>\n",
       "      <td>0.270284</td>\n",
       "      <td>5</td>\n",
       "      <td>6</td>\n",
       "      <td>0.61</td>\n",
       "      <td>1.0</td>\n",
       "    </tr>\n",
       "    <tr>\n",
       "      <th>1</th>\n",
       "      <td>2020-12-09 13:30:00</td>\n",
       "      <td>54</td>\n",
       "      <td>1</td>\n",
       "      <td>1.64</td>\n",
       "      <td>20.077335</td>\n",
       "      <td>24</td>\n",
       "      <td>86.211</td>\n",
       "      <td>32.388</td>\n",
       "      <td>NaN</td>\n",
       "      <td>45.0</td>\n",
       "      <td>31.353</td>\n",
       "      <td>1.830910</td>\n",
       "      <td>4</td>\n",
       "      <td>7</td>\n",
       "      <td>0.61</td>\n",
       "      <td>2.6</td>\n",
       "    </tr>\n",
       "    <tr>\n",
       "      <th>2</th>\n",
       "      <td>2020-12-09 13:40:00</td>\n",
       "      <td>54</td>\n",
       "      <td>1</td>\n",
       "      <td>1.64</td>\n",
       "      <td>20.077335</td>\n",
       "      <td>24</td>\n",
       "      <td>88.214</td>\n",
       "      <td>35.534</td>\n",
       "      <td>115.0</td>\n",
       "      <td>NaN</td>\n",
       "      <td>31.300</td>\n",
       "      <td>3.810681</td>\n",
       "      <td>4</td>\n",
       "      <td>5</td>\n",
       "      <td>0.61</td>\n",
       "      <td>2.6</td>\n",
       "    </tr>\n",
       "    <tr>\n",
       "      <th>3</th>\n",
       "      <td>2020-12-09 13:50:00</td>\n",
       "      <td>54</td>\n",
       "      <td>1</td>\n",
       "      <td>1.64</td>\n",
       "      <td>20.077335</td>\n",
       "      <td>24</td>\n",
       "      <td>87.300</td>\n",
       "      <td>40.763</td>\n",
       "      <td>100.0</td>\n",
       "      <td>73.0</td>\n",
       "      <td>31.196</td>\n",
       "      <td>5.216038</td>\n",
       "      <td>5</td>\n",
       "      <td>5</td>\n",
       "      <td>0.74</td>\n",
       "      <td>2.6</td>\n",
       "    </tr>\n",
       "    <tr>\n",
       "      <th>4</th>\n",
       "      <td>2020-12-09 14:00:00</td>\n",
       "      <td>54</td>\n",
       "      <td>1</td>\n",
       "      <td>1.64</td>\n",
       "      <td>20.077335</td>\n",
       "      <td>24</td>\n",
       "      <td>86.391</td>\n",
       "      <td>43.915</td>\n",
       "      <td>107.0</td>\n",
       "      <td>NaN</td>\n",
       "      <td>31.327</td>\n",
       "      <td>9.444642</td>\n",
       "      <td>5</td>\n",
       "      <td>6</td>\n",
       "      <td>0.74</td>\n",
       "      <td>2.6</td>\n",
       "    </tr>\n",
       "    <tr>\n",
       "      <th>5</th>\n",
       "      <td>2020-12-09 14:10:00</td>\n",
       "      <td>54</td>\n",
       "      <td>1</td>\n",
       "      <td>1.64</td>\n",
       "      <td>20.077335</td>\n",
       "      <td>24</td>\n",
       "      <td>86.844</td>\n",
       "      <td>43.901</td>\n",
       "      <td>86.0</td>\n",
       "      <td>NaN</td>\n",
       "      <td>31.405</td>\n",
       "      <td>9.015865</td>\n",
       "      <td>5</td>\n",
       "      <td>3</td>\n",
       "      <td>1.00</td>\n",
       "      <td>1.0</td>\n",
       "    </tr>\n",
       "    <tr>\n",
       "      <th>6</th>\n",
       "      <td>2020-12-09 14:20:00</td>\n",
       "      <td>54</td>\n",
       "      <td>1</td>\n",
       "      <td>1.64</td>\n",
       "      <td>20.077335</td>\n",
       "      <td>24</td>\n",
       "      <td>87.163</td>\n",
       "      <td>37.715</td>\n",
       "      <td>87.0</td>\n",
       "      <td>45.0</td>\n",
       "      <td>32.059</td>\n",
       "      <td>7.735351</td>\n",
       "      <td>5</td>\n",
       "      <td>5</td>\n",
       "      <td>1.00</td>\n",
       "      <td>1.0</td>\n",
       "    </tr>\n",
       "    <tr>\n",
       "      <th>7</th>\n",
       "      <td>2020-12-09 14:30:00</td>\n",
       "      <td>54</td>\n",
       "      <td>1</td>\n",
       "      <td>1.64</td>\n",
       "      <td>20.077335</td>\n",
       "      <td>24</td>\n",
       "      <td>90.055</td>\n",
       "      <td>36.542</td>\n",
       "      <td>85.0</td>\n",
       "      <td>43.0</td>\n",
       "      <td>32.811</td>\n",
       "      <td>7.138000</td>\n",
       "      <td>5</td>\n",
       "      <td>5</td>\n",
       "      <td>0.61</td>\n",
       "      <td>1.0</td>\n",
       "    </tr>\n",
       "    <tr>\n",
       "      <th>8</th>\n",
       "      <td>2020-12-09 14:40:00</td>\n",
       "      <td>54</td>\n",
       "      <td>1</td>\n",
       "      <td>1.64</td>\n",
       "      <td>20.077335</td>\n",
       "      <td>24</td>\n",
       "      <td>89.638</td>\n",
       "      <td>32.449</td>\n",
       "      <td>85.0</td>\n",
       "      <td>17.0</td>\n",
       "      <td>32.630</td>\n",
       "      <td>6.399591</td>\n",
       "      <td>4</td>\n",
       "      <td>3</td>\n",
       "      <td>0.61</td>\n",
       "      <td>1.0</td>\n",
       "    </tr>\n",
       "    <tr>\n",
       "      <th>9</th>\n",
       "      <td>2020-12-09 14:50:00</td>\n",
       "      <td>54</td>\n",
       "      <td>1</td>\n",
       "      <td>1.64</td>\n",
       "      <td>20.077335</td>\n",
       "      <td>24</td>\n",
       "      <td>85.667</td>\n",
       "      <td>31.757</td>\n",
       "      <td>NaN</td>\n",
       "      <td>54.0</td>\n",
       "      <td>32.267</td>\n",
       "      <td>6.153355</td>\n",
       "      <td>4</td>\n",
       "      <td>3</td>\n",
       "      <td>0.74</td>\n",
       "      <td>1.0</td>\n",
       "    </tr>\n",
       "    <tr>\n",
       "      <th>10</th>\n",
       "      <td>2020-12-09 15:00:00</td>\n",
       "      <td>54</td>\n",
       "      <td>1</td>\n",
       "      <td>1.64</td>\n",
       "      <td>20.077335</td>\n",
       "      <td>24</td>\n",
       "      <td>84.182</td>\n",
       "      <td>29.219</td>\n",
       "      <td>94.0</td>\n",
       "      <td>73.0</td>\n",
       "      <td>31.850</td>\n",
       "      <td>5.418105</td>\n",
       "      <td>4</td>\n",
       "      <td>2</td>\n",
       "      <td>0.74</td>\n",
       "      <td>1.0</td>\n",
       "    </tr>\n",
       "    <tr>\n",
       "      <th>11</th>\n",
       "      <td>2020-12-09 15:10:00</td>\n",
       "      <td>54</td>\n",
       "      <td>1</td>\n",
       "      <td>1.64</td>\n",
       "      <td>20.077335</td>\n",
       "      <td>24</td>\n",
       "      <td>86.074</td>\n",
       "      <td>30.560</td>\n",
       "      <td>94.0</td>\n",
       "      <td>57.0</td>\n",
       "      <td>32.163</td>\n",
       "      <td>5.077969</td>\n",
       "      <td>2</td>\n",
       "      <td>1</td>\n",
       "      <td>1.00</td>\n",
       "      <td>1.0</td>\n",
       "    </tr>\n",
       "    <tr>\n",
       "      <th>12</th>\n",
       "      <td>2020-12-09 15:20:00</td>\n",
       "      <td>54</td>\n",
       "      <td>1</td>\n",
       "      <td>1.64</td>\n",
       "      <td>20.077335</td>\n",
       "      <td>24</td>\n",
       "      <td>88.810</td>\n",
       "      <td>30.999</td>\n",
       "      <td>88.0</td>\n",
       "      <td>50.0</td>\n",
       "      <td>32.526</td>\n",
       "      <td>4.887415</td>\n",
       "      <td>2</td>\n",
       "      <td>1</td>\n",
       "      <td>1.00</td>\n",
       "      <td>1.0</td>\n",
       "    </tr>\n",
       "  </tbody>\n",
       "</table>\n",
       "</div>"
      ],
      "text/plain": [
       "                  time  height  weight  gender        bmi  age  env_temp  \\\n",
       "0  2020-12-09 13:20:00      54       1    1.64  20.077335   24    83.467   \n",
       "1  2020-12-09 13:30:00      54       1    1.64  20.077335   24    86.211   \n",
       "2  2020-12-09 13:40:00      54       1    1.64  20.077335   24    88.214   \n",
       "3  2020-12-09 13:50:00      54       1    1.64  20.077335   24    87.300   \n",
       "4  2020-12-09 14:00:00      54       1    1.64  20.077335   24    86.391   \n",
       "5  2020-12-09 14:10:00      54       1    1.64  20.077335   24    86.844   \n",
       "6  2020-12-09 14:20:00      54       1    1.64  20.077335   24    87.163   \n",
       "7  2020-12-09 14:30:00      54       1    1.64  20.077335   24    90.055   \n",
       "8  2020-12-09 14:40:00      54       1    1.64  20.077335   24    89.638   \n",
       "9  2020-12-09 14:50:00      54       1    1.64  20.077335   24    85.667   \n",
       "10 2020-12-09 15:00:00      54       1    1.64  20.077335   24    84.182   \n",
       "11 2020-12-09 15:10:00      54       1    1.64  20.077335   24    86.074   \n",
       "12 2020-12-09 15:20:00      54       1    1.64  20.077335   24    88.810   \n",
       "\n",
       "        rh  heart_rate  stress_level  skin_temp       eda  TC  TS   Clo  Act  \n",
       "0   29.681        79.0          13.0     30.854  0.270284   5   6  0.61  1.0  \n",
       "1   32.388         NaN          45.0     31.353  1.830910   4   7  0.61  2.6  \n",
       "2   35.534       115.0           NaN     31.300  3.810681   4   5  0.61  2.6  \n",
       "3   40.763       100.0          73.0     31.196  5.216038   5   5  0.74  2.6  \n",
       "4   43.915       107.0           NaN     31.327  9.444642   5   6  0.74  2.6  \n",
       "5   43.901        86.0           NaN     31.405  9.015865   5   3  1.00  1.0  \n",
       "6   37.715        87.0          45.0     32.059  7.735351   5   5  1.00  1.0  \n",
       "7   36.542        85.0          43.0     32.811  7.138000   5   5  0.61  1.0  \n",
       "8   32.449        85.0          17.0     32.630  6.399591   4   3  0.61  1.0  \n",
       "9   31.757         NaN          54.0     32.267  6.153355   4   3  0.74  1.0  \n",
       "10  29.219        94.0          73.0     31.850  5.418105   4   2  0.74  1.0  \n",
       "11  30.560        94.0          57.0     32.163  5.077969   2   1  1.00  1.0  \n",
       "12  30.999        88.0          50.0     32.526  4.887415   2   1  1.00  1.0  "
      ]
     },
     "execution_count": 118,
     "metadata": {},
     "output_type": "execute_result"
    }
   ],
   "source": [
    "df_one_all"
   ]
  },
  {
   "cell_type": "code",
   "execution_count": null,
   "metadata": {},
   "outputs": [],
   "source": []
  }
 ],
 "metadata": {
  "kernelspec": {
   "display_name": "ml",
   "language": "python",
   "name": "ml"
  },
  "language_info": {
   "codemirror_mode": {
    "name": "ipython",
    "version": 3
   },
   "file_extension": ".py",
   "mimetype": "text/x-python",
   "name": "python",
   "nbconvert_exporter": "python",
   "pygments_lexer": "ipython3",
   "version": "3.6.10"
  },
  "toc": {
   "base_numbering": 1,
   "nav_menu": {},
   "number_sections": true,
   "sideBar": true,
   "skip_h1_title": false,
   "title_cell": "Table of Contents",
   "title_sidebar": "Contents",
   "toc_cell": false,
   "toc_position": {
    "height": "calc(100% - 180px)",
    "left": "10px",
    "top": "150px",
    "width": "288px"
   },
   "toc_section_display": true,
   "toc_window_display": true
  }
 },
 "nbformat": 4,
 "nbformat_minor": 4
}
