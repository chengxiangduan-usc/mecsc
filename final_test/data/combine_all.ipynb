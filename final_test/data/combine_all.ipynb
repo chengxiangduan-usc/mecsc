{
 "cells": [
  {
   "cell_type": "code",
   "execution_count": 1,
   "metadata": {
    "ExecuteTime": {
     "end_time": "2021-01-07T02:56:18.623676Z",
     "start_time": "2021-01-07T02:56:18.215677Z"
    }
   },
   "outputs": [],
   "source": [
    "from thermal.combine import *"
   ]
  },
  {
   "cell_type": "code",
   "execution_count": 2,
   "metadata": {
    "ExecuteTime": {
     "end_time": "2021-01-07T02:56:18.639675Z",
     "start_time": "2021-01-07T02:56:18.624679Z"
    }
   },
   "outputs": [],
   "source": [
    "with open('./profiles.json', 'r') as fp:\n",
    "    profiles = json.load(fp)"
   ]
  },
  {
   "cell_type": "code",
   "execution_count": 3,
   "metadata": {
    "ExecuteTime": {
     "end_time": "2021-01-07T02:56:18.655675Z",
     "start_time": "2021-01-07T02:56:18.640676Z"
    }
   },
   "outputs": [],
   "source": [
    "uids = list(profiles.keys())"
   ]
  },
  {
   "cell_type": "code",
   "execution_count": 4,
   "metadata": {
    "ExecuteTime": {
     "end_time": "2021-01-07T02:56:18.670675Z",
     "start_time": "2021-01-07T02:56:18.656677Z"
    }
   },
   "outputs": [
    {
     "data": {
      "text/plain": [
       "['01', '02', '05', '06', '07', '08']"
      ]
     },
     "execution_count": 4,
     "metadata": {},
     "output_type": "execute_result"
    }
   ],
   "source": [
    "uids"
   ]
  },
  {
   "cell_type": "code",
   "execution_count": 5,
   "metadata": {
    "ExecuteTime": {
     "end_time": "2021-01-07T02:56:37.232595Z",
     "start_time": "2021-01-07T02:56:18.671676Z"
    }
   },
   "outputs": [
    {
     "name": "stdout",
     "output_type": "stream",
     "text": [
      "finish: 01\n",
      "finish: 02\n",
      "finish: 05\n",
      "finish: 06\n",
      "finish: 07\n",
      "finish: 08\n"
     ]
    }
   ],
   "source": [
    "dfs = []\n",
    "for uid in uids:\n",
    "    dfs.append(combine(uid))"
   ]
  },
  {
   "cell_type": "code",
   "execution_count": 6,
   "metadata": {
    "ExecuteTime": {
     "end_time": "2021-01-07T02:56:37.248595Z",
     "start_time": "2021-01-07T02:56:37.233596Z"
    }
   },
   "outputs": [],
   "source": [
    "df_concated = pd.concat([pd.concat(dfs)]).reset_index(drop=True)"
   ]
  },
  {
   "cell_type": "code",
   "execution_count": 7,
   "metadata": {
    "ExecuteTime": {
     "end_time": "2021-01-07T02:56:37.280595Z",
     "start_time": "2021-01-07T02:56:37.249596Z"
    }
   },
   "outputs": [
    {
     "data": {
      "text/html": [
       "<div>\n",
       "<style scoped>\n",
       "    .dataframe tbody tr th:only-of-type {\n",
       "        vertical-align: middle;\n",
       "    }\n",
       "\n",
       "    .dataframe tbody tr th {\n",
       "        vertical-align: top;\n",
       "    }\n",
       "\n",
       "    .dataframe thead th {\n",
       "        text-align: right;\n",
       "    }\n",
       "</style>\n",
       "<table border=\"1\" class=\"dataframe\">\n",
       "  <thead>\n",
       "    <tr style=\"text-align: right;\">\n",
       "      <th></th>\n",
       "      <th>time</th>\n",
       "      <th>height</th>\n",
       "      <th>weight</th>\n",
       "      <th>gender</th>\n",
       "      <th>bmi</th>\n",
       "      <th>age</th>\n",
       "      <th>env_temp</th>\n",
       "      <th>rh</th>\n",
       "      <th>heart_rate</th>\n",
       "      <th>stress_level</th>\n",
       "      <th>skin_temp</th>\n",
       "      <th>eda</th>\n",
       "      <th>TC</th>\n",
       "      <th>TS</th>\n",
       "      <th>Clo</th>\n",
       "      <th>Act</th>\n",
       "    </tr>\n",
       "  </thead>\n",
       "  <tbody>\n",
       "    <tr>\n",
       "      <th>0</th>\n",
       "      <td>2020-12-09 13:20:00</td>\n",
       "      <td>1.62</td>\n",
       "      <td>52</td>\n",
       "      <td>1</td>\n",
       "      <td>19.814053</td>\n",
       "      <td>26</td>\n",
       "      <td>83.779</td>\n",
       "      <td>36.837</td>\n",
       "      <td>97.0</td>\n",
       "      <td>58.0</td>\n",
       "      <td>31.065</td>\n",
       "      <td>8.696614</td>\n",
       "      <td>4</td>\n",
       "      <td>5</td>\n",
       "      <td>0.61</td>\n",
       "      <td>1.0</td>\n",
       "    </tr>\n",
       "    <tr>\n",
       "      <th>1</th>\n",
       "      <td>2020-12-09 13:30:00</td>\n",
       "      <td>1.62</td>\n",
       "      <td>52</td>\n",
       "      <td>1</td>\n",
       "      <td>19.814053</td>\n",
       "      <td>26</td>\n",
       "      <td>87.073</td>\n",
       "      <td>39.856</td>\n",
       "      <td>119.0</td>\n",
       "      <td>NaN</td>\n",
       "      <td>31.588</td>\n",
       "      <td>14.716620</td>\n",
       "      <td>3</td>\n",
       "      <td>6</td>\n",
       "      <td>0.61</td>\n",
       "      <td>4.0</td>\n",
       "    </tr>\n",
       "    <tr>\n",
       "      <th>2</th>\n",
       "      <td>2020-12-09 13:40:00</td>\n",
       "      <td>1.62</td>\n",
       "      <td>52</td>\n",
       "      <td>1</td>\n",
       "      <td>19.814053</td>\n",
       "      <td>26</td>\n",
       "      <td>88.947</td>\n",
       "      <td>40.446</td>\n",
       "      <td>122.0</td>\n",
       "      <td>NaN</td>\n",
       "      <td>31.772</td>\n",
       "      <td>13.199185</td>\n",
       "      <td>3</td>\n",
       "      <td>6</td>\n",
       "      <td>0.61</td>\n",
       "      <td>4.0</td>\n",
       "    </tr>\n",
       "    <tr>\n",
       "      <th>3</th>\n",
       "      <td>2020-12-09 13:50:00</td>\n",
       "      <td>1.62</td>\n",
       "      <td>52</td>\n",
       "      <td>1</td>\n",
       "      <td>19.814053</td>\n",
       "      <td>26</td>\n",
       "      <td>86.437</td>\n",
       "      <td>45.924</td>\n",
       "      <td>106.0</td>\n",
       "      <td>NaN</td>\n",
       "      <td>31.641</td>\n",
       "      <td>7.708511</td>\n",
       "      <td>4</td>\n",
       "      <td>3</td>\n",
       "      <td>0.74</td>\n",
       "      <td>1.0</td>\n",
       "    </tr>\n",
       "    <tr>\n",
       "      <th>4</th>\n",
       "      <td>2020-12-09 14:00:00</td>\n",
       "      <td>1.62</td>\n",
       "      <td>52</td>\n",
       "      <td>1</td>\n",
       "      <td>19.814053</td>\n",
       "      <td>26</td>\n",
       "      <td>83.779</td>\n",
       "      <td>45.179</td>\n",
       "      <td>96.5</td>\n",
       "      <td>NaN</td>\n",
       "      <td>31.274</td>\n",
       "      <td>5.524036</td>\n",
       "      <td>3</td>\n",
       "      <td>2</td>\n",
       "      <td>0.74</td>\n",
       "      <td>1.0</td>\n",
       "    </tr>\n",
       "    <tr>\n",
       "      <th>...</th>\n",
       "      <td>...</td>\n",
       "      <td>...</td>\n",
       "      <td>...</td>\n",
       "      <td>...</td>\n",
       "      <td>...</td>\n",
       "      <td>...</td>\n",
       "      <td>...</td>\n",
       "      <td>...</td>\n",
       "      <td>...</td>\n",
       "      <td>...</td>\n",
       "      <td>...</td>\n",
       "      <td>...</td>\n",
       "      <td>...</td>\n",
       "      <td>...</td>\n",
       "      <td>...</td>\n",
       "      <td>...</td>\n",
       "    </tr>\n",
       "    <tr>\n",
       "      <th>73</th>\n",
       "      <td>2020-12-09 14:40:00</td>\n",
       "      <td>1.77</td>\n",
       "      <td>90</td>\n",
       "      <td>-1</td>\n",
       "      <td>28.727377</td>\n",
       "      <td>28</td>\n",
       "      <td>84.654</td>\n",
       "      <td>15.000</td>\n",
       "      <td>121.5</td>\n",
       "      <td>NaN</td>\n",
       "      <td>31.955</td>\n",
       "      <td>11.877829</td>\n",
       "      <td>2</td>\n",
       "      <td>7</td>\n",
       "      <td>0.74</td>\n",
       "      <td>4.0</td>\n",
       "    </tr>\n",
       "    <tr>\n",
       "      <th>74</th>\n",
       "      <td>2020-12-09 14:50:00</td>\n",
       "      <td>1.77</td>\n",
       "      <td>90</td>\n",
       "      <td>-1</td>\n",
       "      <td>28.727377</td>\n",
       "      <td>28</td>\n",
       "      <td>86.097</td>\n",
       "      <td>16.270</td>\n",
       "      <td>104.0</td>\n",
       "      <td>NaN</td>\n",
       "      <td>31.693</td>\n",
       "      <td>13.723230</td>\n",
       "      <td>4</td>\n",
       "      <td>4</td>\n",
       "      <td>0.61</td>\n",
       "      <td>1.0</td>\n",
       "    </tr>\n",
       "    <tr>\n",
       "      <th>75</th>\n",
       "      <td>2020-12-09 15:00:00</td>\n",
       "      <td>1.77</td>\n",
       "      <td>90</td>\n",
       "      <td>-1</td>\n",
       "      <td>28.727377</td>\n",
       "      <td>28</td>\n",
       "      <td>85.915</td>\n",
       "      <td>15.000</td>\n",
       "      <td>106.0</td>\n",
       "      <td>86.0</td>\n",
       "      <td>32.474</td>\n",
       "      <td>12.256653</td>\n",
       "      <td>5</td>\n",
       "      <td>4</td>\n",
       "      <td>0.61</td>\n",
       "      <td>1.0</td>\n",
       "    </tr>\n",
       "    <tr>\n",
       "      <th>76</th>\n",
       "      <td>2020-12-09 15:10:00</td>\n",
       "      <td>1.77</td>\n",
       "      <td>90</td>\n",
       "      <td>-1</td>\n",
       "      <td>28.727377</td>\n",
       "      <td>28</td>\n",
       "      <td>85.374</td>\n",
       "      <td>25.480</td>\n",
       "      <td>120.0</td>\n",
       "      <td>NaN</td>\n",
       "      <td>31.588</td>\n",
       "      <td>11.623549</td>\n",
       "      <td>5</td>\n",
       "      <td>3</td>\n",
       "      <td>1.00</td>\n",
       "      <td>4.0</td>\n",
       "    </tr>\n",
       "    <tr>\n",
       "      <th>77</th>\n",
       "      <td>2020-12-09 15:20:00</td>\n",
       "      <td>1.77</td>\n",
       "      <td>90</td>\n",
       "      <td>-1</td>\n",
       "      <td>28.727377</td>\n",
       "      <td>28</td>\n",
       "      <td>85.194</td>\n",
       "      <td>17.180</td>\n",
       "      <td>109.0</td>\n",
       "      <td>86.5</td>\n",
       "      <td>31.615</td>\n",
       "      <td>11.110644</td>\n",
       "      <td>4</td>\n",
       "      <td>4</td>\n",
       "      <td>1.00</td>\n",
       "      <td>1.0</td>\n",
       "    </tr>\n",
       "  </tbody>\n",
       "</table>\n",
       "<p>78 rows × 16 columns</p>\n",
       "</div>"
      ],
      "text/plain": [
       "                  time  height  weight  gender        bmi  age  env_temp  \\\n",
       "0  2020-12-09 13:20:00    1.62      52       1  19.814053   26    83.779   \n",
       "1  2020-12-09 13:30:00    1.62      52       1  19.814053   26    87.073   \n",
       "2  2020-12-09 13:40:00    1.62      52       1  19.814053   26    88.947   \n",
       "3  2020-12-09 13:50:00    1.62      52       1  19.814053   26    86.437   \n",
       "4  2020-12-09 14:00:00    1.62      52       1  19.814053   26    83.779   \n",
       "..                 ...     ...     ...     ...        ...  ...       ...   \n",
       "73 2020-12-09 14:40:00    1.77      90      -1  28.727377   28    84.654   \n",
       "74 2020-12-09 14:50:00    1.77      90      -1  28.727377   28    86.097   \n",
       "75 2020-12-09 15:00:00    1.77      90      -1  28.727377   28    85.915   \n",
       "76 2020-12-09 15:10:00    1.77      90      -1  28.727377   28    85.374   \n",
       "77 2020-12-09 15:20:00    1.77      90      -1  28.727377   28    85.194   \n",
       "\n",
       "        rh  heart_rate  stress_level  skin_temp        eda  TC  TS   Clo  Act  \n",
       "0   36.837        97.0          58.0     31.065   8.696614   4   5  0.61  1.0  \n",
       "1   39.856       119.0           NaN     31.588  14.716620   3   6  0.61  4.0  \n",
       "2   40.446       122.0           NaN     31.772  13.199185   3   6  0.61  4.0  \n",
       "3   45.924       106.0           NaN     31.641   7.708511   4   3  0.74  1.0  \n",
       "4   45.179        96.5           NaN     31.274   5.524036   3   2  0.74  1.0  \n",
       "..     ...         ...           ...        ...        ...  ..  ..   ...  ...  \n",
       "73  15.000       121.5           NaN     31.955  11.877829   2   7  0.74  4.0  \n",
       "74  16.270       104.0           NaN     31.693  13.723230   4   4  0.61  1.0  \n",
       "75  15.000       106.0          86.0     32.474  12.256653   5   4  0.61  1.0  \n",
       "76  25.480       120.0           NaN     31.588  11.623549   5   3  1.00  4.0  \n",
       "77  17.180       109.0          86.5     31.615  11.110644   4   4  1.00  1.0  \n",
       "\n",
       "[78 rows x 16 columns]"
      ]
     },
     "execution_count": 7,
     "metadata": {},
     "output_type": "execute_result"
    }
   ],
   "source": [
    "df_concated"
   ]
  },
  {
   "cell_type": "code",
   "execution_count": 8,
   "metadata": {
    "ExecuteTime": {
     "end_time": "2021-01-07T02:56:37.296596Z",
     "start_time": "2021-01-07T02:56:37.282596Z"
    }
   },
   "outputs": [],
   "source": [
    "df_concated.to_csv('train.csv', index=False)"
   ]
  },
  {
   "cell_type": "code",
   "execution_count": null,
   "metadata": {},
   "outputs": [],
   "source": []
  },
  {
   "cell_type": "code",
   "execution_count": null,
   "metadata": {},
   "outputs": [],
   "source": []
  },
  {
   "cell_type": "code",
   "execution_count": null,
   "metadata": {},
   "outputs": [],
   "source": []
  }
 ],
 "metadata": {
  "kernelspec": {
   "display_name": "ml",
   "language": "python",
   "name": "ml"
  },
  "language_info": {
   "codemirror_mode": {
    "name": "ipython",
    "version": 3
   },
   "file_extension": ".py",
   "mimetype": "text/x-python",
   "name": "python",
   "nbconvert_exporter": "python",
   "pygments_lexer": "ipython3",
   "version": "3.6.10"
  },
  "toc": {
   "base_numbering": 1,
   "nav_menu": {},
   "number_sections": true,
   "sideBar": true,
   "skip_h1_title": false,
   "title_cell": "Table of Contents",
   "title_sidebar": "Contents",
   "toc_cell": false,
   "toc_position": {},
   "toc_section_display": true,
   "toc_window_display": false
  }
 },
 "nbformat": 4,
 "nbformat_minor": 4
}
